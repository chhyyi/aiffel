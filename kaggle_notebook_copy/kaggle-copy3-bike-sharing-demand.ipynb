{
 "cells": [
  {
   "cell_type": "code",
   "execution_count": 1,
   "id": "37c7e383",
   "metadata": {
    "_cell_guid": "b1076dfc-b9ad-4769-8c92-a6c4dae69d19",
    "_uuid": "8f2839f25d086af736a60e9eeb907d3b93b6e0e5",
    "execution": {
     "iopub.execute_input": "2022-07-21T09:33:04.755524Z",
     "iopub.status.busy": "2022-07-21T09:33:04.754631Z",
     "iopub.status.idle": "2022-07-21T09:33:05.537508Z",
     "shell.execute_reply": "2022-07-21T09:33:05.536507Z"
    },
    "papermill": {
     "duration": 0.813579,
     "end_time": "2022-07-21T09:33:05.540199",
     "exception": false,
     "start_time": "2022-07-21T09:33:04.726620",
     "status": "completed"
    },
    "tags": []
   },
   "outputs": [
    {
     "name": "stdout",
     "output_type": "stream",
     "text": [
      "/kaggle/input/bike-sharing-demand/sampleSubmission.csv\n",
      "/kaggle/input/bike-sharing-demand/train.csv\n",
      "/kaggle/input/bike-sharing-demand/test.csv\n",
      "/kaggle/working\r\n"
     ]
    }
   ],
   "source": [
    "import numpy as np # linear algebra\n",
    "import pandas as pd # data processing, CSV file I/O (e.g. pd.read_csv)\n",
    "\n",
    "import os\n",
    "for dirname, _, filenames in os.walk('/kaggle/input'):\n",
    "    for filename in filenames:\n",
    "        print(os.path.join(dirname, filename))\n",
    "\n",
    "!pwd"
   ]
  },
  {
   "cell_type": "markdown",
   "id": "c7633806",
   "metadata": {
    "papermill": {
     "duration": 0.022705,
     "end_time": "2022-07-21T09:33:05.586236",
     "exception": false,
     "start_time": "2022-07-21T09:33:05.563531",
     "status": "completed"
    },
    "tags": []
   },
   "source": [
    "# Kaggle Copy 3.\n",
    "캐글 필사 3. 바이크 쉐어 요구 연습문제 for Aiffel \n",
    "이것은 [이 노트북 by hwangmuseong](https://www.kaggle.com/code/hwangmuseong/bike-sharing-demand-practice-for-aiffel?rvi=1)의 카피이며 Kaggle의 [Playground prediction competition](https://www.kaggle.com/competitions/bike-sharing-demand/data) 데이터를 사용합니다\n",
    "\n",
    "# 1.1. 데이터 둘러보기\n",
    "먼저 데이터를 불러들이고, 간단히 데이터를 살펴봅니다."
   ]
  },
  {
   "cell_type": "code",
   "execution_count": 2,
   "id": "60f60deb",
   "metadata": {
    "execution": {
     "iopub.execute_input": "2022-07-21T09:33:05.633861Z",
     "iopub.status.busy": "2022-07-21T09:33:05.633162Z",
     "iopub.status.idle": "2022-07-21T09:33:05.725428Z",
     "shell.execute_reply": "2022-07-21T09:33:05.724649Z"
    },
    "papermill": {
     "duration": 0.118868,
     "end_time": "2022-07-21T09:33:05.727764",
     "exception": false,
     "start_time": "2022-07-21T09:33:05.608896",
     "status": "completed"
    },
    "tags": []
   },
   "outputs": [
    {
     "data": {
      "text/html": [
       "<div>\n",
       "<style scoped>\n",
       "    .dataframe tbody tr th:only-of-type {\n",
       "        vertical-align: middle;\n",
       "    }\n",
       "\n",
       "    .dataframe tbody tr th {\n",
       "        vertical-align: top;\n",
       "    }\n",
       "\n",
       "    .dataframe thead th {\n",
       "        text-align: right;\n",
       "    }\n",
       "</style>\n",
       "<table border=\"1\" class=\"dataframe\">\n",
       "  <thead>\n",
       "    <tr style=\"text-align: right;\">\n",
       "      <th></th>\n",
       "      <th>datetime</th>\n",
       "      <th>season</th>\n",
       "      <th>holiday</th>\n",
       "      <th>workingday</th>\n",
       "      <th>weather</th>\n",
       "      <th>temp</th>\n",
       "      <th>atemp</th>\n",
       "      <th>humidity</th>\n",
       "      <th>windspeed</th>\n",
       "      <th>casual</th>\n",
       "      <th>registered</th>\n",
       "      <th>count</th>\n",
       "    </tr>\n",
       "  </thead>\n",
       "  <tbody>\n",
       "    <tr>\n",
       "      <th>0</th>\n",
       "      <td>2011-01-01 00:00:00</td>\n",
       "      <td>1</td>\n",
       "      <td>0</td>\n",
       "      <td>0</td>\n",
       "      <td>1</td>\n",
       "      <td>9.84</td>\n",
       "      <td>14.395</td>\n",
       "      <td>81</td>\n",
       "      <td>0.0</td>\n",
       "      <td>3</td>\n",
       "      <td>13</td>\n",
       "      <td>16</td>\n",
       "    </tr>\n",
       "    <tr>\n",
       "      <th>1</th>\n",
       "      <td>2011-01-01 01:00:00</td>\n",
       "      <td>1</td>\n",
       "      <td>0</td>\n",
       "      <td>0</td>\n",
       "      <td>1</td>\n",
       "      <td>9.02</td>\n",
       "      <td>13.635</td>\n",
       "      <td>80</td>\n",
       "      <td>0.0</td>\n",
       "      <td>8</td>\n",
       "      <td>32</td>\n",
       "      <td>40</td>\n",
       "    </tr>\n",
       "    <tr>\n",
       "      <th>2</th>\n",
       "      <td>2011-01-01 02:00:00</td>\n",
       "      <td>1</td>\n",
       "      <td>0</td>\n",
       "      <td>0</td>\n",
       "      <td>1</td>\n",
       "      <td>9.02</td>\n",
       "      <td>13.635</td>\n",
       "      <td>80</td>\n",
       "      <td>0.0</td>\n",
       "      <td>5</td>\n",
       "      <td>27</td>\n",
       "      <td>32</td>\n",
       "    </tr>\n",
       "    <tr>\n",
       "      <th>3</th>\n",
       "      <td>2011-01-01 03:00:00</td>\n",
       "      <td>1</td>\n",
       "      <td>0</td>\n",
       "      <td>0</td>\n",
       "      <td>1</td>\n",
       "      <td>9.84</td>\n",
       "      <td>14.395</td>\n",
       "      <td>75</td>\n",
       "      <td>0.0</td>\n",
       "      <td>3</td>\n",
       "      <td>10</td>\n",
       "      <td>13</td>\n",
       "    </tr>\n",
       "    <tr>\n",
       "      <th>4</th>\n",
       "      <td>2011-01-01 04:00:00</td>\n",
       "      <td>1</td>\n",
       "      <td>0</td>\n",
       "      <td>0</td>\n",
       "      <td>1</td>\n",
       "      <td>9.84</td>\n",
       "      <td>14.395</td>\n",
       "      <td>75</td>\n",
       "      <td>0.0</td>\n",
       "      <td>0</td>\n",
       "      <td>1</td>\n",
       "      <td>1</td>\n",
       "    </tr>\n",
       "  </tbody>\n",
       "</table>\n",
       "</div>"
      ],
      "text/plain": [
       "              datetime  season  holiday  workingday  weather  temp   atemp  \\\n",
       "0  2011-01-01 00:00:00       1        0           0        1  9.84  14.395   \n",
       "1  2011-01-01 01:00:00       1        0           0        1  9.02  13.635   \n",
       "2  2011-01-01 02:00:00       1        0           0        1  9.02  13.635   \n",
       "3  2011-01-01 03:00:00       1        0           0        1  9.84  14.395   \n",
       "4  2011-01-01 04:00:00       1        0           0        1  9.84  14.395   \n",
       "\n",
       "   humidity  windspeed  casual  registered  count  \n",
       "0        81        0.0       3          13     16  \n",
       "1        80        0.0       8          32     40  \n",
       "2        80        0.0       5          27     32  \n",
       "3        75        0.0       3          10     13  \n",
       "4        75        0.0       0           1      1  "
      ]
     },
     "execution_count": 2,
     "metadata": {},
     "output_type": "execute_result"
    }
   ],
   "source": [
    "#path of data\n",
    "data_path = os.pardir+'/input/bike-sharing-demand/'\n",
    "train = pd.read_csv(data_path + 'train.csv')\n",
    "test = pd.read_csv(data_path + 'test.csv')\n",
    "submission = pd.read_csv(data_path + 'sampleSubmission.csv')\n",
    "train.head()"
   ]
  },
  {
   "cell_type": "code",
   "execution_count": 3,
   "id": "331d8767",
   "metadata": {
    "execution": {
     "iopub.execute_input": "2022-07-21T09:33:05.775819Z",
     "iopub.status.busy": "2022-07-21T09:33:05.775150Z",
     "iopub.status.idle": "2022-07-21T09:33:05.781369Z",
     "shell.execute_reply": "2022-07-21T09:33:05.780680Z"
    },
    "papermill": {
     "duration": 0.032172,
     "end_time": "2022-07-21T09:33:05.783182",
     "exception": false,
     "start_time": "2022-07-21T09:33:05.751010",
     "status": "completed"
    },
    "tags": []
   },
   "outputs": [
    {
     "data": {
      "text/plain": [
       "((10886, 12), (6493, 9), (6493, 2))"
      ]
     },
     "execution_count": 3,
     "metadata": {},
     "output_type": "execute_result"
    }
   ],
   "source": [
    "train.shape, test.shape, submission.shape"
   ]
  },
  {
   "cell_type": "code",
   "execution_count": 4,
   "id": "348304a9",
   "metadata": {
    "execution": {
     "iopub.execute_input": "2022-07-21T09:33:05.831477Z",
     "iopub.status.busy": "2022-07-21T09:33:05.830827Z",
     "iopub.status.idle": "2022-07-21T09:33:05.845624Z",
     "shell.execute_reply": "2022-07-21T09:33:05.844740Z"
    },
    "papermill": {
     "duration": 0.041052,
     "end_time": "2022-07-21T09:33:05.847654",
     "exception": false,
     "start_time": "2022-07-21T09:33:05.806602",
     "status": "completed"
    },
    "tags": []
   },
   "outputs": [
    {
     "data": {
      "text/html": [
       "<div>\n",
       "<style scoped>\n",
       "    .dataframe tbody tr th:only-of-type {\n",
       "        vertical-align: middle;\n",
       "    }\n",
       "\n",
       "    .dataframe tbody tr th {\n",
       "        vertical-align: top;\n",
       "    }\n",
       "\n",
       "    .dataframe thead th {\n",
       "        text-align: right;\n",
       "    }\n",
       "</style>\n",
       "<table border=\"1\" class=\"dataframe\">\n",
       "  <thead>\n",
       "    <tr style=\"text-align: right;\">\n",
       "      <th></th>\n",
       "      <th>datetime</th>\n",
       "      <th>season</th>\n",
       "      <th>holiday</th>\n",
       "      <th>workingday</th>\n",
       "      <th>weather</th>\n",
       "      <th>temp</th>\n",
       "      <th>atemp</th>\n",
       "      <th>humidity</th>\n",
       "      <th>windspeed</th>\n",
       "      <th>casual</th>\n",
       "      <th>registered</th>\n",
       "      <th>count</th>\n",
       "    </tr>\n",
       "  </thead>\n",
       "  <tbody>\n",
       "    <tr>\n",
       "      <th>0</th>\n",
       "      <td>2011-01-01 00:00:00</td>\n",
       "      <td>1</td>\n",
       "      <td>0</td>\n",
       "      <td>0</td>\n",
       "      <td>1</td>\n",
       "      <td>9.84</td>\n",
       "      <td>14.395</td>\n",
       "      <td>81</td>\n",
       "      <td>0.0</td>\n",
       "      <td>3</td>\n",
       "      <td>13</td>\n",
       "      <td>16</td>\n",
       "    </tr>\n",
       "    <tr>\n",
       "      <th>1</th>\n",
       "      <td>2011-01-01 01:00:00</td>\n",
       "      <td>1</td>\n",
       "      <td>0</td>\n",
       "      <td>0</td>\n",
       "      <td>1</td>\n",
       "      <td>9.02</td>\n",
       "      <td>13.635</td>\n",
       "      <td>80</td>\n",
       "      <td>0.0</td>\n",
       "      <td>8</td>\n",
       "      <td>32</td>\n",
       "      <td>40</td>\n",
       "    </tr>\n",
       "    <tr>\n",
       "      <th>2</th>\n",
       "      <td>2011-01-01 02:00:00</td>\n",
       "      <td>1</td>\n",
       "      <td>0</td>\n",
       "      <td>0</td>\n",
       "      <td>1</td>\n",
       "      <td>9.02</td>\n",
       "      <td>13.635</td>\n",
       "      <td>80</td>\n",
       "      <td>0.0</td>\n",
       "      <td>5</td>\n",
       "      <td>27</td>\n",
       "      <td>32</td>\n",
       "    </tr>\n",
       "    <tr>\n",
       "      <th>3</th>\n",
       "      <td>2011-01-01 03:00:00</td>\n",
       "      <td>1</td>\n",
       "      <td>0</td>\n",
       "      <td>0</td>\n",
       "      <td>1</td>\n",
       "      <td>9.84</td>\n",
       "      <td>14.395</td>\n",
       "      <td>75</td>\n",
       "      <td>0.0</td>\n",
       "      <td>3</td>\n",
       "      <td>10</td>\n",
       "      <td>13</td>\n",
       "    </tr>\n",
       "    <tr>\n",
       "      <th>4</th>\n",
       "      <td>2011-01-01 04:00:00</td>\n",
       "      <td>1</td>\n",
       "      <td>0</td>\n",
       "      <td>0</td>\n",
       "      <td>1</td>\n",
       "      <td>9.84</td>\n",
       "      <td>14.395</td>\n",
       "      <td>75</td>\n",
       "      <td>0.0</td>\n",
       "      <td>0</td>\n",
       "      <td>1</td>\n",
       "      <td>1</td>\n",
       "    </tr>\n",
       "  </tbody>\n",
       "</table>\n",
       "</div>"
      ],
      "text/plain": [
       "              datetime  season  holiday  workingday  weather  temp   atemp  \\\n",
       "0  2011-01-01 00:00:00       1        0           0        1  9.84  14.395   \n",
       "1  2011-01-01 01:00:00       1        0           0        1  9.02  13.635   \n",
       "2  2011-01-01 02:00:00       1        0           0        1  9.02  13.635   \n",
       "3  2011-01-01 03:00:00       1        0           0        1  9.84  14.395   \n",
       "4  2011-01-01 04:00:00       1        0           0        1  9.84  14.395   \n",
       "\n",
       "   humidity  windspeed  casual  registered  count  \n",
       "0        81        0.0       3          13     16  \n",
       "1        80        0.0       8          32     40  \n",
       "2        80        0.0       5          27     32  \n",
       "3        75        0.0       3          10     13  \n",
       "4        75        0.0       0           1      1  "
      ]
     },
     "execution_count": 4,
     "metadata": {},
     "output_type": "execute_result"
    }
   ],
   "source": [
    "train.head()"
   ]
  },
  {
   "cell_type": "code",
   "execution_count": 5,
   "id": "3cbeb747",
   "metadata": {
    "execution": {
     "iopub.execute_input": "2022-07-21T09:33:05.897044Z",
     "iopub.status.busy": "2022-07-21T09:33:05.896236Z",
     "iopub.status.idle": "2022-07-21T09:33:05.910453Z",
     "shell.execute_reply": "2022-07-21T09:33:05.909392Z"
    },
    "papermill": {
     "duration": 0.041919,
     "end_time": "2022-07-21T09:33:05.913061",
     "exception": false,
     "start_time": "2022-07-21T09:33:05.871142",
     "status": "completed"
    },
    "tags": []
   },
   "outputs": [
    {
     "data": {
      "text/html": [
       "<div>\n",
       "<style scoped>\n",
       "    .dataframe tbody tr th:only-of-type {\n",
       "        vertical-align: middle;\n",
       "    }\n",
       "\n",
       "    .dataframe tbody tr th {\n",
       "        vertical-align: top;\n",
       "    }\n",
       "\n",
       "    .dataframe thead th {\n",
       "        text-align: right;\n",
       "    }\n",
       "</style>\n",
       "<table border=\"1\" class=\"dataframe\">\n",
       "  <thead>\n",
       "    <tr style=\"text-align: right;\">\n",
       "      <th></th>\n",
       "      <th>datetime</th>\n",
       "      <th>season</th>\n",
       "      <th>holiday</th>\n",
       "      <th>workingday</th>\n",
       "      <th>weather</th>\n",
       "      <th>temp</th>\n",
       "      <th>atemp</th>\n",
       "      <th>humidity</th>\n",
       "      <th>windspeed</th>\n",
       "    </tr>\n",
       "  </thead>\n",
       "  <tbody>\n",
       "    <tr>\n",
       "      <th>0</th>\n",
       "      <td>2011-01-20 00:00:00</td>\n",
       "      <td>1</td>\n",
       "      <td>0</td>\n",
       "      <td>1</td>\n",
       "      <td>1</td>\n",
       "      <td>10.66</td>\n",
       "      <td>11.365</td>\n",
       "      <td>56</td>\n",
       "      <td>26.0027</td>\n",
       "    </tr>\n",
       "    <tr>\n",
       "      <th>1</th>\n",
       "      <td>2011-01-20 01:00:00</td>\n",
       "      <td>1</td>\n",
       "      <td>0</td>\n",
       "      <td>1</td>\n",
       "      <td>1</td>\n",
       "      <td>10.66</td>\n",
       "      <td>13.635</td>\n",
       "      <td>56</td>\n",
       "      <td>0.0000</td>\n",
       "    </tr>\n",
       "    <tr>\n",
       "      <th>2</th>\n",
       "      <td>2011-01-20 02:00:00</td>\n",
       "      <td>1</td>\n",
       "      <td>0</td>\n",
       "      <td>1</td>\n",
       "      <td>1</td>\n",
       "      <td>10.66</td>\n",
       "      <td>13.635</td>\n",
       "      <td>56</td>\n",
       "      <td>0.0000</td>\n",
       "    </tr>\n",
       "    <tr>\n",
       "      <th>3</th>\n",
       "      <td>2011-01-20 03:00:00</td>\n",
       "      <td>1</td>\n",
       "      <td>0</td>\n",
       "      <td>1</td>\n",
       "      <td>1</td>\n",
       "      <td>10.66</td>\n",
       "      <td>12.880</td>\n",
       "      <td>56</td>\n",
       "      <td>11.0014</td>\n",
       "    </tr>\n",
       "    <tr>\n",
       "      <th>4</th>\n",
       "      <td>2011-01-20 04:00:00</td>\n",
       "      <td>1</td>\n",
       "      <td>0</td>\n",
       "      <td>1</td>\n",
       "      <td>1</td>\n",
       "      <td>10.66</td>\n",
       "      <td>12.880</td>\n",
       "      <td>56</td>\n",
       "      <td>11.0014</td>\n",
       "    </tr>\n",
       "  </tbody>\n",
       "</table>\n",
       "</div>"
      ],
      "text/plain": [
       "              datetime  season  holiday  workingday  weather   temp   atemp  \\\n",
       "0  2011-01-20 00:00:00       1        0           1        1  10.66  11.365   \n",
       "1  2011-01-20 01:00:00       1        0           1        1  10.66  13.635   \n",
       "2  2011-01-20 02:00:00       1        0           1        1  10.66  13.635   \n",
       "3  2011-01-20 03:00:00       1        0           1        1  10.66  12.880   \n",
       "4  2011-01-20 04:00:00       1        0           1        1  10.66  12.880   \n",
       "\n",
       "   humidity  windspeed  \n",
       "0        56    26.0027  \n",
       "1        56     0.0000  \n",
       "2        56     0.0000  \n",
       "3        56    11.0014  \n",
       "4        56    11.0014  "
      ]
     },
     "execution_count": 5,
     "metadata": {},
     "output_type": "execute_result"
    }
   ],
   "source": [
    "test.head()"
   ]
  },
  {
   "cell_type": "code",
   "execution_count": 6,
   "id": "1418a169",
   "metadata": {
    "execution": {
     "iopub.execute_input": "2022-07-21T09:33:05.962185Z",
     "iopub.status.busy": "2022-07-21T09:33:05.961817Z",
     "iopub.status.idle": "2022-07-21T09:33:05.972162Z",
     "shell.execute_reply": "2022-07-21T09:33:05.971083Z"
    },
    "papermill": {
     "duration": 0.037531,
     "end_time": "2022-07-21T09:33:05.974350",
     "exception": false,
     "start_time": "2022-07-21T09:33:05.936819",
     "status": "completed"
    },
    "tags": []
   },
   "outputs": [
    {
     "data": {
      "text/html": [
       "<div>\n",
       "<style scoped>\n",
       "    .dataframe tbody tr th:only-of-type {\n",
       "        vertical-align: middle;\n",
       "    }\n",
       "\n",
       "    .dataframe tbody tr th {\n",
       "        vertical-align: top;\n",
       "    }\n",
       "\n",
       "    .dataframe thead th {\n",
       "        text-align: right;\n",
       "    }\n",
       "</style>\n",
       "<table border=\"1\" class=\"dataframe\">\n",
       "  <thead>\n",
       "    <tr style=\"text-align: right;\">\n",
       "      <th></th>\n",
       "      <th>datetime</th>\n",
       "      <th>count</th>\n",
       "    </tr>\n",
       "  </thead>\n",
       "  <tbody>\n",
       "    <tr>\n",
       "      <th>0</th>\n",
       "      <td>2011-01-20 00:00:00</td>\n",
       "      <td>0</td>\n",
       "    </tr>\n",
       "    <tr>\n",
       "      <th>1</th>\n",
       "      <td>2011-01-20 01:00:00</td>\n",
       "      <td>0</td>\n",
       "    </tr>\n",
       "    <tr>\n",
       "      <th>2</th>\n",
       "      <td>2011-01-20 02:00:00</td>\n",
       "      <td>0</td>\n",
       "    </tr>\n",
       "    <tr>\n",
       "      <th>3</th>\n",
       "      <td>2011-01-20 03:00:00</td>\n",
       "      <td>0</td>\n",
       "    </tr>\n",
       "    <tr>\n",
       "      <th>4</th>\n",
       "      <td>2011-01-20 04:00:00</td>\n",
       "      <td>0</td>\n",
       "    </tr>\n",
       "  </tbody>\n",
       "</table>\n",
       "</div>"
      ],
      "text/plain": [
       "              datetime  count\n",
       "0  2011-01-20 00:00:00      0\n",
       "1  2011-01-20 01:00:00      0\n",
       "2  2011-01-20 02:00:00      0\n",
       "3  2011-01-20 03:00:00      0\n",
       "4  2011-01-20 04:00:00      0"
      ]
     },
     "execution_count": 6,
     "metadata": {},
     "output_type": "execute_result"
    }
   ],
   "source": [
    "submission.head()"
   ]
  },
  {
   "cell_type": "code",
   "execution_count": 7,
   "id": "636e0d75",
   "metadata": {
    "execution": {
     "iopub.execute_input": "2022-07-21T09:33:06.025285Z",
     "iopub.status.busy": "2022-07-21T09:33:06.024909Z",
     "iopub.status.idle": "2022-07-21T09:33:06.054587Z",
     "shell.execute_reply": "2022-07-21T09:33:06.053400Z"
    },
    "papermill": {
     "duration": 0.059009,
     "end_time": "2022-07-21T09:33:06.057302",
     "exception": false,
     "start_time": "2022-07-21T09:33:05.998293",
     "status": "completed"
    },
    "tags": []
   },
   "outputs": [
    {
     "name": "stdout",
     "output_type": "stream",
     "text": [
      "<class 'pandas.core.frame.DataFrame'>\n",
      "RangeIndex: 10886 entries, 0 to 10885\n",
      "Data columns (total 12 columns):\n",
      " #   Column      Non-Null Count  Dtype  \n",
      "---  ------      --------------  -----  \n",
      " 0   datetime    10886 non-null  object \n",
      " 1   season      10886 non-null  int64  \n",
      " 2   holiday     10886 non-null  int64  \n",
      " 3   workingday  10886 non-null  int64  \n",
      " 4   weather     10886 non-null  int64  \n",
      " 5   temp        10886 non-null  float64\n",
      " 6   atemp       10886 non-null  float64\n",
      " 7   humidity    10886 non-null  int64  \n",
      " 8   windspeed   10886 non-null  float64\n",
      " 9   casual      10886 non-null  int64  \n",
      " 10  registered  10886 non-null  int64  \n",
      " 11  count       10886 non-null  int64  \n",
      "dtypes: float64(3), int64(8), object(1)\n",
      "memory usage: 1020.7+ KB\n"
     ]
    }
   ],
   "source": [
    "train.info()"
   ]
  },
  {
   "cell_type": "code",
   "execution_count": 8,
   "id": "bef51eac",
   "metadata": {
    "execution": {
     "iopub.execute_input": "2022-07-21T09:33:06.108148Z",
     "iopub.status.busy": "2022-07-21T09:33:06.107074Z",
     "iopub.status.idle": "2022-07-21T09:33:06.120574Z",
     "shell.execute_reply": "2022-07-21T09:33:06.119276Z"
    },
    "papermill": {
     "duration": 0.041332,
     "end_time": "2022-07-21T09:33:06.122774",
     "exception": false,
     "start_time": "2022-07-21T09:33:06.081442",
     "status": "completed"
    },
    "tags": []
   },
   "outputs": [
    {
     "name": "stdout",
     "output_type": "stream",
     "text": [
      "<class 'pandas.core.frame.DataFrame'>\n",
      "RangeIndex: 6493 entries, 0 to 6492\n",
      "Data columns (total 9 columns):\n",
      " #   Column      Non-Null Count  Dtype  \n",
      "---  ------      --------------  -----  \n",
      " 0   datetime    6493 non-null   object \n",
      " 1   season      6493 non-null   int64  \n",
      " 2   holiday     6493 non-null   int64  \n",
      " 3   workingday  6493 non-null   int64  \n",
      " 4   weather     6493 non-null   int64  \n",
      " 5   temp        6493 non-null   float64\n",
      " 6   atemp       6493 non-null   float64\n",
      " 7   humidity    6493 non-null   int64  \n",
      " 8   windspeed   6493 non-null   float64\n",
      "dtypes: float64(3), int64(5), object(1)\n",
      "memory usage: 456.7+ KB\n"
     ]
    }
   ],
   "source": [
    "test.info()"
   ]
  },
  {
   "cell_type": "markdown",
   "id": "71b075de",
   "metadata": {
    "papermill": {
     "duration": 0.023915,
     "end_time": "2022-07-21T09:33:06.170683",
     "exception": false,
     "start_time": "2022-07-21T09:33:06.146768",
     "status": "completed"
    },
    "tags": []
   },
   "source": [
    "## 데이터 살펴보기\n",
    "info()메서드를 사용해서 데이터프레임의 정보를 확인해 보았습니다. 일단 int64, float64는 처리할 수 있을 것 같은데 datetime은 따로 처리를 해야 할 것 같네요. 사실 이것에 관해서는 LMS에서 이미 parsing을 해보았는데요 일단 따라가보겠습니다. test, train데이터셋의 column은 세 개가 차이납니다. count가 target label인데, 이것은 casual과 registered의 합으로 보입니다. 아무튼 노트북을 따라가보겠습니다.\n",
    "\n",
    "# 1.2. 더 효과적인 분석을 위한 피쳐 엔지니어링"
   ]
  },
  {
   "cell_type": "code",
   "execution_count": 9,
   "id": "932e45be",
   "metadata": {
    "execution": {
     "iopub.execute_input": "2022-07-21T09:33:06.220886Z",
     "iopub.status.busy": "2022-07-21T09:33:06.220178Z",
     "iopub.status.idle": "2022-07-21T09:33:06.226113Z",
     "shell.execute_reply": "2022-07-21T09:33:06.225058Z"
    },
    "papermill": {
     "duration": 0.033325,
     "end_time": "2022-07-21T09:33:06.228257",
     "exception": false,
     "start_time": "2022-07-21T09:33:06.194932",
     "status": "completed"
    },
    "tags": []
   },
   "outputs": [
    {
     "name": "stdout",
     "output_type": "stream",
     "text": [
      "2011-01-05 09:00:00\n",
      "['2011-01-05', '09:00:00']\n",
      "['2011-01-05', '09:00:00']\n"
     ]
    }
   ],
   "source": [
    "print(train['datetime'][100])\n",
    "print(train['datetime'][100].split())\n",
    "print(train['datetime'][100].split())"
   ]
  },
  {
   "cell_type": "code",
   "execution_count": 10,
   "id": "069cccea",
   "metadata": {
    "execution": {
     "iopub.execute_input": "2022-07-21T09:33:06.278631Z",
     "iopub.status.busy": "2022-07-21T09:33:06.277903Z",
     "iopub.status.idle": "2022-07-21T09:33:06.285280Z",
     "shell.execute_reply": "2022-07-21T09:33:06.283948Z"
    },
    "papermill": {
     "duration": 0.035128,
     "end_time": "2022-07-21T09:33:06.287565",
     "exception": false,
     "start_time": "2022-07-21T09:33:06.252437",
     "status": "completed"
    },
    "tags": []
   },
   "outputs": [
    {
     "name": "stdout",
     "output_type": "stream",
     "text": [
      "['2011', '01', '05']\n",
      "['09', '00', '00']\n"
     ]
    }
   ],
   "source": [
    "print(train['datetime'][100].split()[0].split('-'))\n",
    "print(train['datetime'][100].split()[1].split(':'))"
   ]
  },
  {
   "cell_type": "markdown",
   "id": "8f61e145",
   "metadata": {
    "papermill": {
     "duration": 0.024038,
     "end_time": "2022-07-21T09:33:06.336274",
     "exception": false,
     "start_time": "2022-07-21T09:33:06.312236",
     "status": "completed"
    },
    "tags": []
   },
   "source": [
    "## 날짜, 시간 feature생성\n",
    "LMS EXP2 node에서는 pandas의 DatetimeIndex를 사용했는데, 여기서는 이미 숫자 단위로 데이터를 나누었기 때문에 그대로 쓰면 되겠습니다. 여기에서는 apply method를 사용하고 있습니다. 날짜를 합친 feature는 용도를 알 수 없기 때문에 일단 생성하지 않겠습니다."
   ]
  },
  {
   "cell_type": "code",
   "execution_count": 11,
   "id": "066efff2",
   "metadata": {
    "execution": {
     "iopub.execute_input": "2022-07-21T09:33:06.387147Z",
     "iopub.status.busy": "2022-07-21T09:33:06.386150Z",
     "iopub.status.idle": "2022-07-21T09:33:06.464625Z",
     "shell.execute_reply": "2022-07-21T09:33:06.463506Z"
    },
    "papermill": {
     "duration": 0.106585,
     "end_time": "2022-07-21T09:33:06.467105",
     "exception": false,
     "start_time": "2022-07-21T09:33:06.360520",
     "status": "completed"
    },
    "tags": []
   },
   "outputs": [
    {
     "data": {
      "text/html": [
       "<div>\n",
       "<style scoped>\n",
       "    .dataframe tbody tr th:only-of-type {\n",
       "        vertical-align: middle;\n",
       "    }\n",
       "\n",
       "    .dataframe tbody tr th {\n",
       "        vertical-align: top;\n",
       "    }\n",
       "\n",
       "    .dataframe thead th {\n",
       "        text-align: right;\n",
       "    }\n",
       "</style>\n",
       "<table border=\"1\" class=\"dataframe\">\n",
       "  <thead>\n",
       "    <tr style=\"text-align: right;\">\n",
       "      <th></th>\n",
       "      <th>datetime</th>\n",
       "      <th>season</th>\n",
       "      <th>holiday</th>\n",
       "      <th>workingday</th>\n",
       "      <th>weather</th>\n",
       "      <th>temp</th>\n",
       "      <th>atemp</th>\n",
       "      <th>humidity</th>\n",
       "      <th>windspeed</th>\n",
       "      <th>casual</th>\n",
       "      <th>registered</th>\n",
       "      <th>count</th>\n",
       "      <th>year</th>\n",
       "      <th>hour</th>\n",
       "      <th>month</th>\n",
       "      <th>minute</th>\n",
       "      <th>day</th>\n",
       "      <th>second</th>\n",
       "    </tr>\n",
       "  </thead>\n",
       "  <tbody>\n",
       "    <tr>\n",
       "      <th>0</th>\n",
       "      <td>2011-01-01 00:00:00</td>\n",
       "      <td>1</td>\n",
       "      <td>0</td>\n",
       "      <td>0</td>\n",
       "      <td>1</td>\n",
       "      <td>9.84</td>\n",
       "      <td>14.395</td>\n",
       "      <td>81</td>\n",
       "      <td>0.0</td>\n",
       "      <td>3</td>\n",
       "      <td>13</td>\n",
       "      <td>16</td>\n",
       "      <td>2011</td>\n",
       "      <td>00</td>\n",
       "      <td>01</td>\n",
       "      <td>00</td>\n",
       "      <td>01</td>\n",
       "      <td>00</td>\n",
       "    </tr>\n",
       "    <tr>\n",
       "      <th>1</th>\n",
       "      <td>2011-01-01 01:00:00</td>\n",
       "      <td>1</td>\n",
       "      <td>0</td>\n",
       "      <td>0</td>\n",
       "      <td>1</td>\n",
       "      <td>9.02</td>\n",
       "      <td>13.635</td>\n",
       "      <td>80</td>\n",
       "      <td>0.0</td>\n",
       "      <td>8</td>\n",
       "      <td>32</td>\n",
       "      <td>40</td>\n",
       "      <td>2011</td>\n",
       "      <td>01</td>\n",
       "      <td>01</td>\n",
       "      <td>00</td>\n",
       "      <td>01</td>\n",
       "      <td>00</td>\n",
       "    </tr>\n",
       "    <tr>\n",
       "      <th>2</th>\n",
       "      <td>2011-01-01 02:00:00</td>\n",
       "      <td>1</td>\n",
       "      <td>0</td>\n",
       "      <td>0</td>\n",
       "      <td>1</td>\n",
       "      <td>9.02</td>\n",
       "      <td>13.635</td>\n",
       "      <td>80</td>\n",
       "      <td>0.0</td>\n",
       "      <td>5</td>\n",
       "      <td>27</td>\n",
       "      <td>32</td>\n",
       "      <td>2011</td>\n",
       "      <td>02</td>\n",
       "      <td>01</td>\n",
       "      <td>00</td>\n",
       "      <td>01</td>\n",
       "      <td>00</td>\n",
       "    </tr>\n",
       "    <tr>\n",
       "      <th>3</th>\n",
       "      <td>2011-01-01 03:00:00</td>\n",
       "      <td>1</td>\n",
       "      <td>0</td>\n",
       "      <td>0</td>\n",
       "      <td>1</td>\n",
       "      <td>9.84</td>\n",
       "      <td>14.395</td>\n",
       "      <td>75</td>\n",
       "      <td>0.0</td>\n",
       "      <td>3</td>\n",
       "      <td>10</td>\n",
       "      <td>13</td>\n",
       "      <td>2011</td>\n",
       "      <td>03</td>\n",
       "      <td>01</td>\n",
       "      <td>00</td>\n",
       "      <td>01</td>\n",
       "      <td>00</td>\n",
       "    </tr>\n",
       "    <tr>\n",
       "      <th>4</th>\n",
       "      <td>2011-01-01 04:00:00</td>\n",
       "      <td>1</td>\n",
       "      <td>0</td>\n",
       "      <td>0</td>\n",
       "      <td>1</td>\n",
       "      <td>9.84</td>\n",
       "      <td>14.395</td>\n",
       "      <td>75</td>\n",
       "      <td>0.0</td>\n",
       "      <td>0</td>\n",
       "      <td>1</td>\n",
       "      <td>1</td>\n",
       "      <td>2011</td>\n",
       "      <td>04</td>\n",
       "      <td>01</td>\n",
       "      <td>00</td>\n",
       "      <td>01</td>\n",
       "      <td>00</td>\n",
       "    </tr>\n",
       "  </tbody>\n",
       "</table>\n",
       "</div>"
      ],
      "text/plain": [
       "              datetime  season  holiday  workingday  weather  temp   atemp  \\\n",
       "0  2011-01-01 00:00:00       1        0           0        1  9.84  14.395   \n",
       "1  2011-01-01 01:00:00       1        0           0        1  9.02  13.635   \n",
       "2  2011-01-01 02:00:00       1        0           0        1  9.02  13.635   \n",
       "3  2011-01-01 03:00:00       1        0           0        1  9.84  14.395   \n",
       "4  2011-01-01 04:00:00       1        0           0        1  9.84  14.395   \n",
       "\n",
       "   humidity  windspeed  casual  registered  count  year hour month minute day  \\\n",
       "0        81        0.0       3          13     16  2011   00    01     00  01   \n",
       "1        80        0.0       8          32     40  2011   01    01     00  01   \n",
       "2        80        0.0       5          27     32  2011   02    01     00  01   \n",
       "3        75        0.0       3          10     13  2011   03    01     00  01   \n",
       "4        75        0.0       0           1      1  2011   04    01     00  01   \n",
       "\n",
       "  second  \n",
       "0     00  \n",
       "1     00  \n",
       "2     00  \n",
       "3     00  \n",
       "4     00  "
      ]
     },
     "execution_count": 11,
     "metadata": {},
     "output_type": "execute_result"
    }
   ],
   "source": [
    "date_cols=['year','month','day']\n",
    "time_cols=['hour','minute','second']\n",
    "#does apply method apply 'self' as iterable of lambda function?\n",
    "for i in range(3):\n",
    "    train[date_cols[i]]=train.datetime.apply(lambda x:x.split()[0].split('-')[i])\n",
    "    train[time_cols[i]]=train.datetime.apply(lambda x:x.split()[1].split(':')[i])\n",
    "train.head()"
   ]
  },
  {
   "cell_type": "code",
   "execution_count": 12,
   "id": "0f6fcde0",
   "metadata": {
    "execution": {
     "iopub.execute_input": "2022-07-21T09:33:06.518846Z",
     "iopub.status.busy": "2022-07-21T09:33:06.518111Z",
     "iopub.status.idle": "2022-07-21T09:33:06.532446Z",
     "shell.execute_reply": "2022-07-21T09:33:06.531122Z"
    },
    "papermill": {
     "duration": 0.042714,
     "end_time": "2022-07-21T09:33:06.534758",
     "exception": false,
     "start_time": "2022-07-21T09:33:06.492044",
     "status": "completed"
    },
    "tags": []
   },
   "outputs": [
    {
     "name": "stdout",
     "output_type": "stream",
     "text": [
      "0        2011-01-01\n",
      "1        2011-01-01\n",
      "2        2011-01-01\n",
      "3        2011-01-01\n",
      "4        2011-01-01\n",
      "            ...    \n",
      "10881    2012-12-19\n",
      "10882    2012-12-19\n",
      "10883    2012-12-19\n",
      "10884    2012-12-19\n",
      "10885    2012-12-19\n",
      "Name: date, Length: 10886, dtype: object\n"
     ]
    }
   ],
   "source": [
    "from datetime import datetime\n",
    "import calendar\n",
    "#it is revealed that date is used to extract weekday. Let's just follow skipped things\n",
    "train['date']=train.datetime.apply(lambda x:x.split()[0])\n",
    "print(train['date'])"
   ]
  },
  {
   "cell_type": "code",
   "execution_count": 13,
   "id": "3869500e",
   "metadata": {
    "execution": {
     "iopub.execute_input": "2022-07-21T09:33:06.585752Z",
     "iopub.status.busy": "2022-07-21T09:33:06.585321Z",
     "iopub.status.idle": "2022-07-21T09:33:06.595488Z",
     "shell.execute_reply": "2022-07-21T09:33:06.594069Z"
    },
    "papermill": {
     "duration": 0.038158,
     "end_time": "2022-07-21T09:33:06.597474",
     "exception": false,
     "start_time": "2022-07-21T09:33:06.559316",
     "status": "completed"
    },
    "tags": []
   },
   "outputs": [
    {
     "name": "stdout",
     "output_type": "stream",
     "text": [
      "<class 'datetime.datetime'>\n",
      "2011-01-05 00:00:00\n",
      "2\n",
      "Wednesday\n"
     ]
    }
   ],
   "source": [
    "#help(datetime.strptime) #checked help on strptime method - strptime returns 'datetime' parsed from a string.\n",
    "print(type(datetime.strptime(train['date'][100], '%Y-%m-%d'))) #maybe 'datetime' is a class of datetime package\n",
    "print(datetime.strptime(train['date'][100], '%Y-%m-%d')) #not a regular expression.... maybe\n",
    "print(datetime.strptime(train['date'][100], '%Y-%m-%d').weekday())\n",
    "print(calendar.day_name[datetime.strptime(train['date'][100], '%Y-%m-%d').weekday()]) #print 'day of the week' string\n"
   ]
  },
  {
   "cell_type": "code",
   "execution_count": 14,
   "id": "87853a0c",
   "metadata": {
    "execution": {
     "iopub.execute_input": "2022-07-21T09:33:06.649100Z",
     "iopub.status.busy": "2022-07-21T09:33:06.648407Z",
     "iopub.status.idle": "2022-07-21T09:33:06.803481Z",
     "shell.execute_reply": "2022-07-21T09:33:06.802013Z"
    },
    "papermill": {
     "duration": 0.184755,
     "end_time": "2022-07-21T09:33:06.806941",
     "exception": false,
     "start_time": "2022-07-21T09:33:06.622186",
     "status": "completed"
    },
    "tags": []
   },
   "outputs": [
    {
     "name": "stdout",
     "output_type": "stream",
     "text": [
      "0        5\n",
      "1        5\n",
      "2        5\n",
      "3        5\n",
      "4        5\n",
      "        ..\n",
      "10881    2\n",
      "10882    2\n",
      "10883    2\n",
      "10884    2\n",
      "10885    2\n",
      "Name: weekday, Length: 10886, dtype: int64\n"
     ]
    },
    {
     "data": {
      "text/plain": [
       "100      2\n",
       "101      2\n",
       "102      2\n",
       "103      2\n",
       "104      2\n",
       "        ..\n",
       "10881    2\n",
       "10882    2\n",
       "10883    2\n",
       "10884    2\n",
       "10885    2\n",
       "Name: weekday, Length: 10786, dtype: int64"
      ]
     },
     "execution_count": 14,
     "metadata": {},
     "output_type": "execute_result"
    }
   ],
   "source": [
    "train['weekday'] = train['date'].apply(lambda x: datetime.strptime(x, '%Y-%m-%d').weekday())\n",
    "print(train['weekday'])\n",
    "train['weekday'][100:] #made weekday column succesfuly...."
   ]
  },
  {
   "cell_type": "markdown",
   "id": "8f2b6b2a",
   "metadata": {
    "execution": {
     "iopub.execute_input": "2022-07-20T11:45:15.771752Z",
     "iopub.status.busy": "2022-07-20T11:45:15.771373Z",
     "iopub.status.idle": "2022-07-20T11:45:15.776854Z",
     "shell.execute_reply": "2022-07-20T11:45:15.775744Z",
     "shell.execute_reply.started": "2022-07-20T11:45:15.771722Z"
    },
    "papermill": {
     "duration": 0.024839,
     "end_time": "2022-07-21T09:33:06.857106",
     "exception": false,
     "start_time": "2022-07-21T09:33:06.832267",
     "status": "completed"
    },
    "tags": []
   },
   "source": [
    "### 요일 처리\n",
    "굳이 요일을 string으로 저장하지는 않았습니다. 나중에 바꿔주기가 어려울 것 같지도 않고요. 하지만 요일을 확인하는 작업은 필요한 것이었습니다. 일주일의 시작을 월요일로 하는지 일요일로 하는지 모르기 때문입니다. 여기에서 수요일이 2인 것으로 볼때 월요일을 0으로 시작하는 값이 반환됐다고 확신할 수 있겠습니다. 물론 weekday() method의 설명을 확인해도 알 수 있겠죠"
   ]
  },
  {
   "cell_type": "code",
   "execution_count": 15,
   "id": "90057c92",
   "metadata": {
    "execution": {
     "iopub.execute_input": "2022-07-21T09:33:06.910157Z",
     "iopub.status.busy": "2022-07-21T09:33:06.909346Z",
     "iopub.status.idle": "2022-07-21T09:33:06.916352Z",
     "shell.execute_reply": "2022-07-21T09:33:06.914883Z"
    },
    "papermill": {
     "duration": 0.037527,
     "end_time": "2022-07-21T09:33:06.919834",
     "exception": false,
     "start_time": "2022-07-21T09:33:06.882307",
     "status": "completed"
    },
    "tags": []
   },
   "outputs": [
    {
     "name": "stdout",
     "output_type": "stream",
     "text": [
      "Help on method_descriptor:\n",
      "\n",
      "weekday(...)\n",
      "    Return the day of the week represented by the date.\n",
      "    Monday == 0 ... Sunday == 6\n",
      "\n"
     ]
    }
   ],
   "source": [
    "help(datetime.weekday) #it's description shows that monday is 0 and sunday is 6."
   ]
  },
  {
   "cell_type": "code",
   "execution_count": 16,
   "id": "334551d7",
   "metadata": {
    "execution": {
     "iopub.execute_input": "2022-07-21T09:33:06.972199Z",
     "iopub.status.busy": "2022-07-21T09:33:06.971522Z",
     "iopub.status.idle": "2022-07-21T09:33:06.989765Z",
     "shell.execute_reply": "2022-07-21T09:33:06.988111Z"
    },
    "papermill": {
     "duration": 0.046687,
     "end_time": "2022-07-21T09:33:06.992151",
     "exception": false,
     "start_time": "2022-07-21T09:33:06.945464",
     "status": "completed"
    },
    "tags": []
   },
   "outputs": [
    {
     "name": "stdout",
     "output_type": "stream",
     "text": [
      "              datetime  season  holiday  workingday weather  temp   atemp  \\\n",
      "0  2011-01-01 00:00:00  Spring        0           0   Clear  9.84  14.395   \n",
      "1  2011-01-01 01:00:00  Spring        0           0   Clear  9.02  13.635   \n",
      "2  2011-01-01 02:00:00  Spring        0           0   Clear  9.02  13.635   \n",
      "3  2011-01-01 03:00:00  Spring        0           0   Clear  9.84  14.395   \n",
      "4  2011-01-01 04:00:00  Spring        0           0   Clear  9.84  14.395   \n",
      "\n",
      "   humidity  windspeed  casual  registered  count  year hour month minute day  \\\n",
      "0        81        0.0       3          13     16  2011   00    01     00  01   \n",
      "1        80        0.0       8          32     40  2011   01    01     00  01   \n",
      "2        80        0.0       5          27     32  2011   02    01     00  01   \n",
      "3        75        0.0       3          10     13  2011   03    01     00  01   \n",
      "4        75        0.0       0           1      1  2011   04    01     00  01   \n",
      "\n",
      "  second        date  weekday  \n",
      "0     00  2011-01-01        5  \n",
      "1     00  2011-01-01        5  \n",
      "2     00  2011-01-01        5  \n",
      "3     00  2011-01-01        5  \n",
      "4     00  2011-01-01        5  \n"
     ]
    }
   ],
   "source": [
    "train['season'] = train['season'].map({1: 'Spring', 2: 'Summer', 3: 'Fall', 4: 'Winter'})\n",
    "train['weather'] = train['weather'].map({1: 'Clear', 2: 'Mist, Few clouds', 3: 'Light Snow, Rain, Thunder', 4: 'Heavy Snow, Rain, Thunder'})\n",
    "print(train.head())\n",
    "#help(pd.Series.map)"
   ]
  },
  {
   "cell_type": "markdown",
   "id": "07e75a6a",
   "metadata": {
    "papermill": {
     "duration": 0.024542,
     "end_time": "2022-07-21T09:33:07.041879",
     "exception": false,
     "start_time": "2022-07-21T09:33:07.017337",
     "status": "completed"
    },
    "tags": []
   },
   "source": [
    "### pandas.Series.map() method\n",
    "뭔지 잘 모르는 것이 나왔으니 잠깐 살펴봅니다. 새로운 포맷의 데이터를 만드는데 유용해 보이는 예시들이 많이 나와있네요. 그런데 변환하려고 나왔다는 것이 분명해 보이니까 변환이 잘 됐는지 unique() method, isna() method로 확인하겟습니다."
   ]
  },
  {
   "cell_type": "code",
   "execution_count": 17,
   "id": "1807816b",
   "metadata": {
    "execution": {
     "iopub.execute_input": "2022-07-21T09:33:07.094160Z",
     "iopub.status.busy": "2022-07-21T09:33:07.093450Z",
     "iopub.status.idle": "2022-07-21T09:33:07.105884Z",
     "shell.execute_reply": "2022-07-21T09:33:07.104888Z"
    },
    "papermill": {
     "duration": 0.040646,
     "end_time": "2022-07-21T09:33:07.107940",
     "exception": false,
     "start_time": "2022-07-21T09:33:07.067294",
     "status": "completed"
    },
    "tags": []
   },
   "outputs": [
    {
     "data": {
      "text/plain": [
       "(array(['Clear', 'Mist, Few clouds', 'Light Snow, Rain, Thunder',\n",
       "        'Heavy Snow, Rain, Thunder'], dtype=object),\n",
       " array(['Spring', 'Summer', 'Fall', 'Winter'], dtype=object),\n",
       " False,\n",
       " False)"
      ]
     },
     "execution_count": 17,
     "metadata": {},
     "output_type": "execute_result"
    }
   ],
   "source": [
    "train['weather'].unique(), train['season'].unique(), train['weather'].isna().all(), train['season'].isna().any()"
   ]
  },
  {
   "cell_type": "markdown",
   "id": "b69f5bbd",
   "metadata": {
    "papermill": {
     "duration": 0.024862,
     "end_time": "2022-07-21T09:33:07.158612",
     "exception": false,
     "start_time": "2022-07-21T09:33:07.133750",
     "status": "completed"
    },
    "tags": []
   },
   "source": [
    "# 1.3. 데이터 시각화"
   ]
  },
  {
   "cell_type": "code",
   "execution_count": 18,
   "id": "f327d799",
   "metadata": {
    "execution": {
     "iopub.execute_input": "2022-07-21T09:33:07.211157Z",
     "iopub.status.busy": "2022-07-21T09:33:07.210481Z",
     "iopub.status.idle": "2022-07-21T09:33:08.678016Z",
     "shell.execute_reply": "2022-07-21T09:33:08.676941Z"
    },
    "papermill": {
     "duration": 1.496266,
     "end_time": "2022-07-21T09:33:08.680218",
     "exception": false,
     "start_time": "2022-07-21T09:33:07.183952",
     "status": "completed"
    },
    "tags": []
   },
   "outputs": [
    {
     "data": {
      "text/plain": [
       "<seaborn.axisgrid.FacetGrid at 0x7f1ae14f20d0>"
      ]
     },
     "execution_count": 18,
     "metadata": {},
     "output_type": "execute_result"
    },
    {
     "data": {
      "image/png": "[encoded data removed]",
      "text/plain": [
       "<Figure size 360x360 with 1 Axes>"
      ]
     },
     "metadata": {
      "needs_background": "light"
     },
     "output_type": "display_data"
    }
   ],
   "source": [
    "import seaborn as sns\n",
    "import matplotlib as mpl\n",
    "#import mpl.pyplot as plt #ErrorNote\n",
    "import matplotlib.pyplot as plt\n",
    "%matplotlib inline\n",
    "\n",
    "#plot distrubution (speed up from this point because of deadline)\n",
    "mpl.rc('font', size = 15) #set font size\n",
    "sns.displot(train['count']) #plot distribution"
   ]
  },
  {
   "cell_type": "code",
   "execution_count": 19,
   "id": "31160687",
   "metadata": {
    "execution": {
     "iopub.execute_input": "2022-07-21T09:33:08.733666Z",
     "iopub.status.busy": "2022-07-21T09:33:08.732972Z",
     "iopub.status.idle": "2022-07-21T09:33:09.071503Z",
     "shell.execute_reply": "2022-07-21T09:33:09.070427Z"
    },
    "papermill": {
     "duration": 0.368046,
     "end_time": "2022-07-21T09:33:09.073804",
     "exception": false,
     "start_time": "2022-07-21T09:33:08.705758",
     "status": "completed"
    },
    "tags": []
   },
   "outputs": [
    {
     "data": {
      "text/plain": [
       "<seaborn.axisgrid.FacetGrid at 0x7f1add8ef1d0>"
      ]
     },
     "execution_count": 19,
     "metadata": {},
     "output_type": "execute_result"
    },
    {
     "data": {
      "image/png": "[encoded data removed]",
      "text/plain": [
       "<Figure size 360x360 with 1 Axes>"
      ]
     },
     "metadata": {
      "needs_background": "light"
     },
     "output_type": "display_data"
    }
   ],
   "source": [
    "sns.displot(np.log(train['count'])) #log scaled count. log(1) is 0. (remember log(0) is -inf)"
   ]
  },
  {
   "cell_type": "code",
   "execution_count": 20,
   "id": "684295ad",
   "metadata": {
    "execution": {
     "iopub.execute_input": "2022-07-21T09:33:09.127649Z",
     "iopub.status.busy": "2022-07-21T09:33:09.127244Z",
     "iopub.status.idle": "2022-07-21T09:33:12.844040Z",
     "shell.execute_reply": "2022-07-21T09:33:12.842797Z"
    },
    "papermill": {
     "duration": 3.747386,
     "end_time": "2022-07-21T09:33:12.847226",
     "exception": false,
     "start_time": "2022-07-21T09:33:09.099840",
     "status": "completed"
    },
    "tags": []
   },
   "outputs": [
    {
     "data": {
      "image/png": "[encoded data removed]",
      "text/plain": [
       "<Figure size 720x648 with 6 Axes>"
      ]
     },
     "metadata": {
      "needs_background": "light"
     },
     "output_type": "display_data"
    }
   ],
   "source": [
    "#bar plot\n",
    "mpl.rc('font', size=14)\n",
    "mpl.rc('axes', titlesize=15) #set title size of plots\n",
    "figure, axes = plt.subplots(nrows = 3, ncols=2)\n",
    "plt.tight_layout() #set margins between graphs\n",
    "figure.set_size_inches(10,9)\n",
    "\n",
    "#step 2. draw(assign) subplots, count accroding to year/ month etc.,\n",
    "sns.barplot(x = 'year', y='count', data=train, ax=axes[0,0])\n",
    "sns.barplot(x='month',y='count',data=train, ax=axes[0,1])\n",
    "sns.barplot(x='day', y='count', data=train, ax=axes[1,0])\n",
    "sns.barplot(x='hour', y='count', data=train, ax=axes[1,1])\n",
    "sns.barplot(x='minute', y='count', data=train, ax=axes[2,0])\n",
    "sns.barplot(x='second', y='count', data=train, ax=axes[2,1])\n",
    "\n",
    "#set title for subplots\n",
    "axes[0,0].set(title='Rental amounts by year')\n",
    "axes[0,1].set(title='Rental amounts by month')\n",
    "axes[1,0].set(title='Rental amounts by day')\n",
    "axes[1,1].set(title='Rental amounts by hour')\n",
    "axes[2,0].set(title='Rental amounts by minute')\n",
    "axes[2,1].set(title='Rental amounts by second')\n",
    "\n",
    "#rotate axis labels of horizontal axis\n",
    "axes[1,0].tick_params(axis='x', labelrotation=90)\n",
    "axes[1,1].tick_params(axis='x', labelrotation=90)"
   ]
  },
  {
   "cell_type": "code",
   "execution_count": 21,
   "id": "4e9585bc",
   "metadata": {
    "execution": {
     "iopub.execute_input": "2022-07-21T09:33:12.912412Z",
     "iopub.status.busy": "2022-07-21T09:33:12.911572Z",
     "iopub.status.idle": "2022-07-21T09:33:13.552222Z",
     "shell.execute_reply": "2022-07-21T09:33:13.551388Z"
    },
    "papermill": {
     "duration": 0.671502,
     "end_time": "2022-07-21T09:33:13.554238",
     "exception": false,
     "start_time": "2022-07-21T09:33:12.882736",
     "status": "completed"
    },
    "tags": []
   },
   "outputs": [
    {
     "data": {
      "image/png": "[encoded data removed]",
      "text/plain": [
       "<Figure size 720x720 with 4 Axes>"
      ]
     },
     "metadata": {
      "needs_background": "light"
     },
     "output_type": "display_data"
    }
   ],
   "source": [
    "#box plot\n",
    "figure, ax=plt.subplots(nrows = 2, ncols = 2) #2 by 2\n",
    "plt.tight_layout()\n",
    "figure.set_size_inches(10,10)\n",
    "\n",
    "#assign(draw) subplots, counts per season, weather, holiday, workingday\n",
    "sns.boxplot(x='season', y='count', data=train, ax=ax[0,0])\n",
    "sns.boxplot(x='weather', y='count', data=train, ax=ax[0,1])\n",
    "sns.boxplot(x='holiday', y='count', data=train, ax=ax[1,0])\n",
    "sns.boxplot(x='workingday', y='count', data=train, ax=ax[1,1])\n",
    "\n",
    "#set titles\n",
    "ax[0,0].set(title='Box plot(BP) On Count Across Season')\n",
    "ax[0,1].set(title='BP on Count Over Weather')\n",
    "ax[1,0].set(title='BP on Count by holiday')\n",
    "ax[1,1].set(title='BP on Count by workingday')\n",
    "\n",
    "#it solves interference between horizontal labels\n",
    "ax[0,1].tick_params('x', labelrotation = 10) "
   ]
  },
  {
   "cell_type": "markdown",
   "id": "18f7074c",
   "metadata": {
    "papermill": {
     "duration": 0.027161,
     "end_time": "2022-07-21T09:33:13.609077",
     "exception": false,
     "start_time": "2022-07-21T09:33:13.581916",
     "status": "completed"
    },
    "tags": []
   },
   "source": [
    "### Box Plot에 대한 해설\n",
    "박스 가운데 선은 중앙값 (줄세웠을때 중간에 있는 샘플의 값)입니다. 박스의 위, 아래 바운더리와 바깥의 수평선은 사원소수에 의한 것들입니다. 하위 25%, 상위 25%값이 있는 곳이 박스의 위아래 높이이고요, 바깥 선은 사원소수 범위를 1.5배 한 것입니다만 count는 이 끝이기 때문에 여기선 0에 생겼네요. 바깥의 점들은 1.5사원소수 범위에서 벗어난, outlier로 취급할만한 값들입니다"
   ]
  },
  {
   "cell_type": "code",
   "execution_count": 22,
   "id": "74b9e97c",
   "metadata": {
    "execution": {
     "iopub.execute_input": "2022-07-21T09:33:13.665997Z",
     "iopub.status.busy": "2022-07-21T09:33:13.665341Z",
     "iopub.status.idle": "2022-07-21T09:33:30.104733Z",
     "shell.execute_reply": "2022-07-21T09:33:30.103545Z"
    },
    "papermill": {
     "duration": 16.47257,
     "end_time": "2022-07-21T09:33:30.109025",
     "exception": false,
     "start_time": "2022-07-21T09:33:13.636455",
     "status": "completed"
    },
    "tags": []
   },
   "outputs": [
    {
     "data": {
      "text/plain": [
       "<AxesSubplot:xlabel='hour', ylabel='count'>"
      ]
     },
     "execution_count": 22,
     "metadata": {},
     "output_type": "execute_result"
    },
    {
     "data": {
      "image/png": "[encoded data removed]",
      "text/plain": [
       "<Figure size 864x1296 with 5 Axes>"
      ]
     },
     "metadata": {
      "needs_background": "light"
     },
     "output_type": "display_data"
    }
   ],
   "source": [
    "#point plot\n",
    "mpl.rc('font', size=11)\n",
    "fig, ax=plt.subplots(5,1)\n",
    "fig.set_size_inches(12,18)\n",
    "\n",
    "#subplots assigned.\n",
    "#mean counts over hour versus workingday/holiday/weekday/season/weather\n",
    "sns.pointplot(x='hour', y='count', data=train, hue='workingday', ax=ax[0]) #was this average?\n",
    "sns.pointplot(x='hour', y='count', data=train, hue='holiday', ax=ax[1])\n",
    "sns.pointplot(x='hour', y='count', data=train, hue='weekday', ax=ax[2])\n",
    "sns.pointplot(x='hour', y='count', data=train, hue='season', ax=ax[3])\n",
    "sns.pointplot(x='hour', y='count', data=train, hue='weather', ax=ax[4])\n"
   ]
  },
  {
   "cell_type": "code",
   "execution_count": 23,
   "id": "7eba5b23",
   "metadata": {
    "execution": {
     "iopub.execute_input": "2022-07-21T09:33:30.173945Z",
     "iopub.status.busy": "2022-07-21T09:33:30.172970Z",
     "iopub.status.idle": "2022-07-21T09:33:33.503352Z",
     "shell.execute_reply": "2022-07-21T09:33:33.502247Z"
    },
    "papermill": {
     "duration": 3.365664,
     "end_time": "2022-07-21T09:33:33.506267",
     "exception": false,
     "start_time": "2022-07-21T09:33:30.140603",
     "status": "completed"
    },
    "tags": []
   },
   "outputs": [
    {
     "data": {
      "text/plain": [
       "<AxesSubplot:xlabel='humidity', ylabel='count'>"
      ]
     },
     "execution_count": 23,
     "metadata": {},
     "output_type": "execute_result"
    },
    {
     "data": {
      "image/png": "[encoded data removed]",
      "text/plain": [
       "<Figure size 504x432 with 4 Axes>"
      ]
     },
     "metadata": {
      "needs_background": "light"
     },
     "output_type": "display_data"
    }
   ],
   "source": [
    "#scatter plot with regression line\n",
    "mpl.rc('font', size=15)\n",
    "fig, ax = plt.subplots(2,2)\n",
    "plt.tight_layout()\n",
    "fig.set_size_inches(7,6)\n",
    "\n",
    "#assign(draw) subplots\n",
    "#count versus temp, atemp(wind chill temperature), windspeed, humidity\n",
    "sns.regplot(x='temp', y='count', data=train, ax=ax[0,0], scatter_kws={'alpha': 0.2}, line_kws={'color':'blue'})\n",
    "sns.regplot(x='atemp', y='count', data=train, ax=ax[0,1], scatter_kws={'alpha': 0.2}, line_kws={'color':'blue'})\n",
    "sns.regplot(x='windspeed', y='count', data=train, ax=ax[1,0], scatter_kws={'alpha': 0.2}, line_kws={'color':'blue'})\n",
    "sns.regplot(x='humidity', y='count', data=train, ax=ax[1,1], scatter_kws={'alpha': 0.2}, line_kws={'color':'blue'})\n",
    "\n"
   ]
  },
  {
   "cell_type": "code",
   "execution_count": 24,
   "id": "063958f4",
   "metadata": {
    "execution": {
     "iopub.execute_input": "2022-07-21T09:33:33.574351Z",
     "iopub.status.busy": "2022-07-21T09:33:33.573980Z",
     "iopub.status.idle": "2022-07-21T09:33:33.593077Z",
     "shell.execute_reply": "2022-07-21T09:33:33.591964Z"
    },
    "papermill": {
     "duration": 0.055978,
     "end_time": "2022-07-21T09:33:33.595204",
     "exception": false,
     "start_time": "2022-07-21T09:33:33.539226",
     "status": "completed"
    },
    "tags": []
   },
   "outputs": [
    {
     "data": {
      "text/html": [
       "<div>\n",
       "<style scoped>\n",
       "    .dataframe tbody tr th:only-of-type {\n",
       "        vertical-align: middle;\n",
       "    }\n",
       "\n",
       "    .dataframe tbody tr th {\n",
       "        vertical-align: top;\n",
       "    }\n",
       "\n",
       "    .dataframe thead th {\n",
       "        text-align: right;\n",
       "    }\n",
       "</style>\n",
       "<table border=\"1\" class=\"dataframe\">\n",
       "  <thead>\n",
       "    <tr style=\"text-align: right;\">\n",
       "      <th></th>\n",
       "      <th>temp</th>\n",
       "      <th>atemp</th>\n",
       "      <th>humidity</th>\n",
       "      <th>windspeed</th>\n",
       "      <th>count</th>\n",
       "    </tr>\n",
       "  </thead>\n",
       "  <tbody>\n",
       "    <tr>\n",
       "      <th>temp</th>\n",
       "      <td>1.000000</td>\n",
       "      <td>0.984948</td>\n",
       "      <td>-0.064949</td>\n",
       "      <td>-0.017852</td>\n",
       "      <td>0.394454</td>\n",
       "    </tr>\n",
       "    <tr>\n",
       "      <th>atemp</th>\n",
       "      <td>0.984948</td>\n",
       "      <td>1.000000</td>\n",
       "      <td>-0.043536</td>\n",
       "      <td>-0.057473</td>\n",
       "      <td>0.389784</td>\n",
       "    </tr>\n",
       "    <tr>\n",
       "      <th>humidity</th>\n",
       "      <td>-0.064949</td>\n",
       "      <td>-0.043536</td>\n",
       "      <td>1.000000</td>\n",
       "      <td>-0.318607</td>\n",
       "      <td>-0.317371</td>\n",
       "    </tr>\n",
       "    <tr>\n",
       "      <th>windspeed</th>\n",
       "      <td>-0.017852</td>\n",
       "      <td>-0.057473</td>\n",
       "      <td>-0.318607</td>\n",
       "      <td>1.000000</td>\n",
       "      <td>0.101369</td>\n",
       "    </tr>\n",
       "    <tr>\n",
       "      <th>count</th>\n",
       "      <td>0.394454</td>\n",
       "      <td>0.389784</td>\n",
       "      <td>-0.317371</td>\n",
       "      <td>0.101369</td>\n",
       "      <td>1.000000</td>\n",
       "    </tr>\n",
       "  </tbody>\n",
       "</table>\n",
       "</div>"
      ],
      "text/plain": [
       "               temp     atemp  humidity  windspeed     count\n",
       "temp       1.000000  0.984948 -0.064949  -0.017852  0.394454\n",
       "atemp      0.984948  1.000000 -0.043536  -0.057473  0.389784\n",
       "humidity  -0.064949 -0.043536  1.000000  -0.318607 -0.317371\n",
       "windspeed -0.017852 -0.057473 -0.318607   1.000000  0.101369\n",
       "count      0.394454  0.389784 -0.317371   0.101369  1.000000"
      ]
     },
     "execution_count": 24,
     "metadata": {},
     "output_type": "execute_result"
    }
   ],
   "source": [
    "#heatmap\n",
    "train[['temp','atemp','humidity','windspeed','count']].corr()"
   ]
  },
  {
   "cell_type": "code",
   "execution_count": 25,
   "id": "e4164f78",
   "metadata": {
    "execution": {
     "iopub.execute_input": "2022-07-21T09:33:33.663965Z",
     "iopub.status.busy": "2022-07-21T09:33:33.663255Z",
     "iopub.status.idle": "2022-07-21T09:33:33.986710Z",
     "shell.execute_reply": "2022-07-21T09:33:33.985418Z"
    },
    "papermill": {
     "duration": 0.360384,
     "end_time": "2022-07-21T09:33:33.989075",
     "exception": false,
     "start_time": "2022-07-21T09:33:33.628691",
     "status": "completed"
    },
    "tags": []
   },
   "outputs": [
    {
     "data": {
      "text/plain": [
       "[Text(0.5, 1.0, 'Heatmap of Numerical Data')]"
      ]
     },
     "execution_count": 25,
     "metadata": {},
     "output_type": "execute_result"
    },
    {
     "data": {
      "image/png": "[encoded data removed]",
      "text/plain": [
       "<Figure size 720x720 with 2 Axes>"
      ]
     },
     "metadata": {
      "needs_background": "light"
     },
     "output_type": "display_data"
    }
   ],
   "source": [
    "#correlation matrix between features\n",
    "corrMat = train[['temp','atemp','humidity','windspeed','count']].corr()\n",
    "fig, ax = plt.subplots()\n",
    "fig.set_size_inches(10,10)\n",
    "sns.heatmap(corrMat, annot=True) #heatmap, include annotation (value of correlation)\n",
    "ax.set(title='Heatmap of Numerical Data')"
   ]
  },
  {
   "cell_type": "markdown",
   "id": "a1d6a450",
   "metadata": {
    "papermill": {
     "duration": 0.034058,
     "end_time": "2022-07-21T09:33:34.058120",
     "exception": false,
     "start_time": "2022-07-21T09:33:34.024062",
     "status": "completed"
    },
    "tags": []
   },
   "source": [
    "# 자전거 대여 수요 예측 경진대회 베이스라인 모델\n",
    "- 메뉴: [Run]->[Stop Session]후 여기서부터 실행 권장.(필수 아님)"
   ]
  },
  {
   "cell_type": "code",
   "execution_count": 26,
   "id": "22e84495",
   "metadata": {
    "execution": {
     "iopub.execute_input": "2022-07-21T09:33:34.128980Z",
     "iopub.status.busy": "2022-07-21T09:33:34.128401Z",
     "iopub.status.idle": "2022-07-21T09:33:34.172667Z",
     "shell.execute_reply": "2022-07-21T09:33:34.171716Z"
    },
    "papermill": {
     "duration": 0.08259,
     "end_time": "2022-07-21T09:33:34.175222",
     "exception": false,
     "start_time": "2022-07-21T09:33:34.092632",
     "status": "completed"
    },
    "tags": []
   },
   "outputs": [],
   "source": [
    "import pandas as pd\n",
    "data_path = '../input/bike-sharing-demand/'\n",
    "train = pd.read_csv(data_path+'train.csv')\n",
    "test=pd.read_csv(data_path + 'test.csv')\n",
    "submission=pd.read_csv(data_path+'sampleSubmission.csv')"
   ]
  },
  {
   "cell_type": "markdown",
   "id": "adb5be52",
   "metadata": {
    "papermill": {
     "duration": 0.034,
     "end_time": "2022-07-21T09:33:34.243574",
     "exception": false,
     "start_time": "2022-07-21T09:33:34.209574",
     "status": "completed"
    },
    "tags": []
   },
   "source": [
    "## 2.1. Feature Engineering\n",
    "\n",
    "remove outliers"
   ]
  },
  {
   "cell_type": "code",
   "execution_count": 27,
   "id": "167eaaa3",
   "metadata": {
    "execution": {
     "iopub.execute_input": "2022-07-21T09:33:34.313679Z",
     "iopub.status.busy": "2022-07-21T09:33:34.313286Z",
     "iopub.status.idle": "2022-07-21T09:33:34.319341Z",
     "shell.execute_reply": "2022-07-21T09:33:34.318662Z"
    },
    "papermill": {
     "duration": 0.043533,
     "end_time": "2022-07-21T09:33:34.321368",
     "exception": false,
     "start_time": "2022-07-21T09:33:34.277835",
     "status": "completed"
    },
    "tags": []
   },
   "outputs": [],
   "source": [
    "#from train data, extract weather is not 4\n",
    "\n",
    "train=train[train['weather']!=4]"
   ]
  },
  {
   "cell_type": "code",
   "execution_count": 28,
   "id": "adf49876",
   "metadata": {
    "execution": {
     "iopub.execute_input": "2022-07-21T09:33:34.392116Z",
     "iopub.status.busy": "2022-07-21T09:33:34.391437Z",
     "iopub.status.idle": "2022-07-21T09:33:34.416501Z",
     "shell.execute_reply": "2022-07-21T09:33:34.415776Z"
    },
    "papermill": {
     "duration": 0.062796,
     "end_time": "2022-07-21T09:33:34.418463",
     "exception": false,
     "start_time": "2022-07-21T09:33:34.355667",
     "status": "completed"
    },
    "tags": []
   },
   "outputs": [
    {
     "data": {
      "text/html": [
       "<div>\n",
       "<style scoped>\n",
       "    .dataframe tbody tr th:only-of-type {\n",
       "        vertical-align: middle;\n",
       "    }\n",
       "\n",
       "    .dataframe tbody tr th {\n",
       "        vertical-align: top;\n",
       "    }\n",
       "\n",
       "    .dataframe thead th {\n",
       "        text-align: right;\n",
       "    }\n",
       "</style>\n",
       "<table border=\"1\" class=\"dataframe\">\n",
       "  <thead>\n",
       "    <tr style=\"text-align: right;\">\n",
       "      <th></th>\n",
       "      <th>datetime</th>\n",
       "      <th>season</th>\n",
       "      <th>holiday</th>\n",
       "      <th>workingday</th>\n",
       "      <th>weather</th>\n",
       "      <th>temp</th>\n",
       "      <th>atemp</th>\n",
       "      <th>humidity</th>\n",
       "      <th>windspeed</th>\n",
       "      <th>casual</th>\n",
       "      <th>registered</th>\n",
       "      <th>count</th>\n",
       "    </tr>\n",
       "  </thead>\n",
       "  <tbody>\n",
       "    <tr>\n",
       "      <th>0</th>\n",
       "      <td>2011-01-01 00:00:00</td>\n",
       "      <td>1</td>\n",
       "      <td>0</td>\n",
       "      <td>0</td>\n",
       "      <td>1</td>\n",
       "      <td>9.84</td>\n",
       "      <td>14.395</td>\n",
       "      <td>81</td>\n",
       "      <td>0.0000</td>\n",
       "      <td>3.0</td>\n",
       "      <td>13.0</td>\n",
       "      <td>16.0</td>\n",
       "    </tr>\n",
       "    <tr>\n",
       "      <th>1</th>\n",
       "      <td>2011-01-01 01:00:00</td>\n",
       "      <td>1</td>\n",
       "      <td>0</td>\n",
       "      <td>0</td>\n",
       "      <td>1</td>\n",
       "      <td>9.02</td>\n",
       "      <td>13.635</td>\n",
       "      <td>80</td>\n",
       "      <td>0.0000</td>\n",
       "      <td>8.0</td>\n",
       "      <td>32.0</td>\n",
       "      <td>40.0</td>\n",
       "    </tr>\n",
       "    <tr>\n",
       "      <th>2</th>\n",
       "      <td>2011-01-01 02:00:00</td>\n",
       "      <td>1</td>\n",
       "      <td>0</td>\n",
       "      <td>0</td>\n",
       "      <td>1</td>\n",
       "      <td>9.02</td>\n",
       "      <td>13.635</td>\n",
       "      <td>80</td>\n",
       "      <td>0.0000</td>\n",
       "      <td>5.0</td>\n",
       "      <td>27.0</td>\n",
       "      <td>32.0</td>\n",
       "    </tr>\n",
       "    <tr>\n",
       "      <th>3</th>\n",
       "      <td>2011-01-01 03:00:00</td>\n",
       "      <td>1</td>\n",
       "      <td>0</td>\n",
       "      <td>0</td>\n",
       "      <td>1</td>\n",
       "      <td>9.84</td>\n",
       "      <td>14.395</td>\n",
       "      <td>75</td>\n",
       "      <td>0.0000</td>\n",
       "      <td>3.0</td>\n",
       "      <td>10.0</td>\n",
       "      <td>13.0</td>\n",
       "    </tr>\n",
       "    <tr>\n",
       "      <th>4</th>\n",
       "      <td>2011-01-01 04:00:00</td>\n",
       "      <td>1</td>\n",
       "      <td>0</td>\n",
       "      <td>0</td>\n",
       "      <td>1</td>\n",
       "      <td>9.84</td>\n",
       "      <td>14.395</td>\n",
       "      <td>75</td>\n",
       "      <td>0.0000</td>\n",
       "      <td>0.0</td>\n",
       "      <td>1.0</td>\n",
       "      <td>1.0</td>\n",
       "    </tr>\n",
       "    <tr>\n",
       "      <th>...</th>\n",
       "      <td>...</td>\n",
       "      <td>...</td>\n",
       "      <td>...</td>\n",
       "      <td>...</td>\n",
       "      <td>...</td>\n",
       "      <td>...</td>\n",
       "      <td>...</td>\n",
       "      <td>...</td>\n",
       "      <td>...</td>\n",
       "      <td>...</td>\n",
       "      <td>...</td>\n",
       "      <td>...</td>\n",
       "    </tr>\n",
       "    <tr>\n",
       "      <th>6488</th>\n",
       "      <td>2012-12-31 19:00:00</td>\n",
       "      <td>1</td>\n",
       "      <td>0</td>\n",
       "      <td>1</td>\n",
       "      <td>2</td>\n",
       "      <td>10.66</td>\n",
       "      <td>12.880</td>\n",
       "      <td>60</td>\n",
       "      <td>11.0014</td>\n",
       "      <td>NaN</td>\n",
       "      <td>NaN</td>\n",
       "      <td>NaN</td>\n",
       "    </tr>\n",
       "    <tr>\n",
       "      <th>6489</th>\n",
       "      <td>2012-12-31 20:00:00</td>\n",
       "      <td>1</td>\n",
       "      <td>0</td>\n",
       "      <td>1</td>\n",
       "      <td>2</td>\n",
       "      <td>10.66</td>\n",
       "      <td>12.880</td>\n",
       "      <td>60</td>\n",
       "      <td>11.0014</td>\n",
       "      <td>NaN</td>\n",
       "      <td>NaN</td>\n",
       "      <td>NaN</td>\n",
       "    </tr>\n",
       "    <tr>\n",
       "      <th>6490</th>\n",
       "      <td>2012-12-31 21:00:00</td>\n",
       "      <td>1</td>\n",
       "      <td>0</td>\n",
       "      <td>1</td>\n",
       "      <td>1</td>\n",
       "      <td>10.66</td>\n",
       "      <td>12.880</td>\n",
       "      <td>60</td>\n",
       "      <td>11.0014</td>\n",
       "      <td>NaN</td>\n",
       "      <td>NaN</td>\n",
       "      <td>NaN</td>\n",
       "    </tr>\n",
       "    <tr>\n",
       "      <th>6491</th>\n",
       "      <td>2012-12-31 22:00:00</td>\n",
       "      <td>1</td>\n",
       "      <td>0</td>\n",
       "      <td>1</td>\n",
       "      <td>1</td>\n",
       "      <td>10.66</td>\n",
       "      <td>13.635</td>\n",
       "      <td>56</td>\n",
       "      <td>8.9981</td>\n",
       "      <td>NaN</td>\n",
       "      <td>NaN</td>\n",
       "      <td>NaN</td>\n",
       "    </tr>\n",
       "    <tr>\n",
       "      <th>6492</th>\n",
       "      <td>2012-12-31 23:00:00</td>\n",
       "      <td>1</td>\n",
       "      <td>0</td>\n",
       "      <td>1</td>\n",
       "      <td>1</td>\n",
       "      <td>10.66</td>\n",
       "      <td>13.635</td>\n",
       "      <td>65</td>\n",
       "      <td>8.9981</td>\n",
       "      <td>NaN</td>\n",
       "      <td>NaN</td>\n",
       "      <td>NaN</td>\n",
       "    </tr>\n",
       "  </tbody>\n",
       "</table>\n",
       "<p>17378 rows × 12 columns</p>\n",
       "</div>"
      ],
      "text/plain": [
       "                 datetime  season  holiday  workingday  weather   temp  \\\n",
       "0     2011-01-01 00:00:00       1        0           0        1   9.84   \n",
       "1     2011-01-01 01:00:00       1        0           0        1   9.02   \n",
       "2     2011-01-01 02:00:00       1        0           0        1   9.02   \n",
       "3     2011-01-01 03:00:00       1        0           0        1   9.84   \n",
       "4     2011-01-01 04:00:00       1        0           0        1   9.84   \n",
       "...                   ...     ...      ...         ...      ...    ...   \n",
       "6488  2012-12-31 19:00:00       1        0           1        2  10.66   \n",
       "6489  2012-12-31 20:00:00       1        0           1        2  10.66   \n",
       "6490  2012-12-31 21:00:00       1        0           1        1  10.66   \n",
       "6491  2012-12-31 22:00:00       1        0           1        1  10.66   \n",
       "6492  2012-12-31 23:00:00       1        0           1        1  10.66   \n",
       "\n",
       "       atemp  humidity  windspeed  casual  registered  count  \n",
       "0     14.395        81     0.0000     3.0        13.0   16.0  \n",
       "1     13.635        80     0.0000     8.0        32.0   40.0  \n",
       "2     13.635        80     0.0000     5.0        27.0   32.0  \n",
       "3     14.395        75     0.0000     3.0        10.0   13.0  \n",
       "4     14.395        75     0.0000     0.0         1.0    1.0  \n",
       "...      ...       ...        ...     ...         ...    ...  \n",
       "6488  12.880        60    11.0014     NaN         NaN    NaN  \n",
       "6489  12.880        60    11.0014     NaN         NaN    NaN  \n",
       "6490  12.880        60    11.0014     NaN         NaN    NaN  \n",
       "6491  13.635        56     8.9981     NaN         NaN    NaN  \n",
       "6492  13.635        65     8.9981     NaN         NaN    NaN  \n",
       "\n",
       "[17378 rows x 12 columns]"
      ]
     },
     "execution_count": 28,
     "metadata": {},
     "output_type": "execute_result"
    }
   ],
   "source": [
    "all_data_tmp=pd.concat([train,test])\n",
    "all_data_tmp"
   ]
  },
  {
   "cell_type": "code",
   "execution_count": 29,
   "id": "0cfc59ee",
   "metadata": {
    "execution": {
     "iopub.execute_input": "2022-07-21T09:33:34.489528Z",
     "iopub.status.busy": "2022-07-21T09:33:34.488862Z",
     "iopub.status.idle": "2022-07-21T09:33:34.514310Z",
     "shell.execute_reply": "2022-07-21T09:33:34.513295Z"
    },
    "papermill": {
     "duration": 0.063519,
     "end_time": "2022-07-21T09:33:34.516446",
     "exception": false,
     "start_time": "2022-07-21T09:33:34.452927",
     "status": "completed"
    },
    "tags": []
   },
   "outputs": [
    {
     "data": {
      "text/html": [
       "<div>\n",
       "<style scoped>\n",
       "    .dataframe tbody tr th:only-of-type {\n",
       "        vertical-align: middle;\n",
       "    }\n",
       "\n",
       "    .dataframe tbody tr th {\n",
       "        vertical-align: top;\n",
       "    }\n",
       "\n",
       "    .dataframe thead th {\n",
       "        text-align: right;\n",
       "    }\n",
       "</style>\n",
       "<table border=\"1\" class=\"dataframe\">\n",
       "  <thead>\n",
       "    <tr style=\"text-align: right;\">\n",
       "      <th></th>\n",
       "      <th>datetime</th>\n",
       "      <th>season</th>\n",
       "      <th>holiday</th>\n",
       "      <th>workingday</th>\n",
       "      <th>weather</th>\n",
       "      <th>temp</th>\n",
       "      <th>atemp</th>\n",
       "      <th>humidity</th>\n",
       "      <th>windspeed</th>\n",
       "      <th>casual</th>\n",
       "      <th>registered</th>\n",
       "      <th>count</th>\n",
       "    </tr>\n",
       "  </thead>\n",
       "  <tbody>\n",
       "    <tr>\n",
       "      <th>0</th>\n",
       "      <td>2011-01-01 00:00:00</td>\n",
       "      <td>1</td>\n",
       "      <td>0</td>\n",
       "      <td>0</td>\n",
       "      <td>1</td>\n",
       "      <td>9.84</td>\n",
       "      <td>14.395</td>\n",
       "      <td>81</td>\n",
       "      <td>0.0000</td>\n",
       "      <td>3.0</td>\n",
       "      <td>13.0</td>\n",
       "      <td>16.0</td>\n",
       "    </tr>\n",
       "    <tr>\n",
       "      <th>1</th>\n",
       "      <td>2011-01-01 01:00:00</td>\n",
       "      <td>1</td>\n",
       "      <td>0</td>\n",
       "      <td>0</td>\n",
       "      <td>1</td>\n",
       "      <td>9.02</td>\n",
       "      <td>13.635</td>\n",
       "      <td>80</td>\n",
       "      <td>0.0000</td>\n",
       "      <td>8.0</td>\n",
       "      <td>32.0</td>\n",
       "      <td>40.0</td>\n",
       "    </tr>\n",
       "    <tr>\n",
       "      <th>2</th>\n",
       "      <td>2011-01-01 02:00:00</td>\n",
       "      <td>1</td>\n",
       "      <td>0</td>\n",
       "      <td>0</td>\n",
       "      <td>1</td>\n",
       "      <td>9.02</td>\n",
       "      <td>13.635</td>\n",
       "      <td>80</td>\n",
       "      <td>0.0000</td>\n",
       "      <td>5.0</td>\n",
       "      <td>27.0</td>\n",
       "      <td>32.0</td>\n",
       "    </tr>\n",
       "    <tr>\n",
       "      <th>3</th>\n",
       "      <td>2011-01-01 03:00:00</td>\n",
       "      <td>1</td>\n",
       "      <td>0</td>\n",
       "      <td>0</td>\n",
       "      <td>1</td>\n",
       "      <td>9.84</td>\n",
       "      <td>14.395</td>\n",
       "      <td>75</td>\n",
       "      <td>0.0000</td>\n",
       "      <td>3.0</td>\n",
       "      <td>10.0</td>\n",
       "      <td>13.0</td>\n",
       "    </tr>\n",
       "    <tr>\n",
       "      <th>4</th>\n",
       "      <td>2011-01-01 04:00:00</td>\n",
       "      <td>1</td>\n",
       "      <td>0</td>\n",
       "      <td>0</td>\n",
       "      <td>1</td>\n",
       "      <td>9.84</td>\n",
       "      <td>14.395</td>\n",
       "      <td>75</td>\n",
       "      <td>0.0000</td>\n",
       "      <td>0.0</td>\n",
       "      <td>1.0</td>\n",
       "      <td>1.0</td>\n",
       "    </tr>\n",
       "    <tr>\n",
       "      <th>...</th>\n",
       "      <td>...</td>\n",
       "      <td>...</td>\n",
       "      <td>...</td>\n",
       "      <td>...</td>\n",
       "      <td>...</td>\n",
       "      <td>...</td>\n",
       "      <td>...</td>\n",
       "      <td>...</td>\n",
       "      <td>...</td>\n",
       "      <td>...</td>\n",
       "      <td>...</td>\n",
       "      <td>...</td>\n",
       "    </tr>\n",
       "    <tr>\n",
       "      <th>17373</th>\n",
       "      <td>2012-12-31 19:00:00</td>\n",
       "      <td>1</td>\n",
       "      <td>0</td>\n",
       "      <td>1</td>\n",
       "      <td>2</td>\n",
       "      <td>10.66</td>\n",
       "      <td>12.880</td>\n",
       "      <td>60</td>\n",
       "      <td>11.0014</td>\n",
       "      <td>NaN</td>\n",
       "      <td>NaN</td>\n",
       "      <td>NaN</td>\n",
       "    </tr>\n",
       "    <tr>\n",
       "      <th>17374</th>\n",
       "      <td>2012-12-31 20:00:00</td>\n",
       "      <td>1</td>\n",
       "      <td>0</td>\n",
       "      <td>1</td>\n",
       "      <td>2</td>\n",
       "      <td>10.66</td>\n",
       "      <td>12.880</td>\n",
       "      <td>60</td>\n",
       "      <td>11.0014</td>\n",
       "      <td>NaN</td>\n",
       "      <td>NaN</td>\n",
       "      <td>NaN</td>\n",
       "    </tr>\n",
       "    <tr>\n",
       "      <th>17375</th>\n",
       "      <td>2012-12-31 21:00:00</td>\n",
       "      <td>1</td>\n",
       "      <td>0</td>\n",
       "      <td>1</td>\n",
       "      <td>1</td>\n",
       "      <td>10.66</td>\n",
       "      <td>12.880</td>\n",
       "      <td>60</td>\n",
       "      <td>11.0014</td>\n",
       "      <td>NaN</td>\n",
       "      <td>NaN</td>\n",
       "      <td>NaN</td>\n",
       "    </tr>\n",
       "    <tr>\n",
       "      <th>17376</th>\n",
       "      <td>2012-12-31 22:00:00</td>\n",
       "      <td>1</td>\n",
       "      <td>0</td>\n",
       "      <td>1</td>\n",
       "      <td>1</td>\n",
       "      <td>10.66</td>\n",
       "      <td>13.635</td>\n",
       "      <td>56</td>\n",
       "      <td>8.9981</td>\n",
       "      <td>NaN</td>\n",
       "      <td>NaN</td>\n",
       "      <td>NaN</td>\n",
       "    </tr>\n",
       "    <tr>\n",
       "      <th>17377</th>\n",
       "      <td>2012-12-31 23:00:00</td>\n",
       "      <td>1</td>\n",
       "      <td>0</td>\n",
       "      <td>1</td>\n",
       "      <td>1</td>\n",
       "      <td>10.66</td>\n",
       "      <td>13.635</td>\n",
       "      <td>65</td>\n",
       "      <td>8.9981</td>\n",
       "      <td>NaN</td>\n",
       "      <td>NaN</td>\n",
       "      <td>NaN</td>\n",
       "    </tr>\n",
       "  </tbody>\n",
       "</table>\n",
       "<p>17378 rows × 12 columns</p>\n",
       "</div>"
      ],
      "text/plain": [
       "                  datetime  season  holiday  workingday  weather   temp  \\\n",
       "0      2011-01-01 00:00:00       1        0           0        1   9.84   \n",
       "1      2011-01-01 01:00:00       1        0           0        1   9.02   \n",
       "2      2011-01-01 02:00:00       1        0           0        1   9.02   \n",
       "3      2011-01-01 03:00:00       1        0           0        1   9.84   \n",
       "4      2011-01-01 04:00:00       1        0           0        1   9.84   \n",
       "...                    ...     ...      ...         ...      ...    ...   \n",
       "17373  2012-12-31 19:00:00       1        0           1        2  10.66   \n",
       "17374  2012-12-31 20:00:00       1        0           1        2  10.66   \n",
       "17375  2012-12-31 21:00:00       1        0           1        1  10.66   \n",
       "17376  2012-12-31 22:00:00       1        0           1        1  10.66   \n",
       "17377  2012-12-31 23:00:00       1        0           1        1  10.66   \n",
       "\n",
       "        atemp  humidity  windspeed  casual  registered  count  \n",
       "0      14.395        81     0.0000     3.0        13.0   16.0  \n",
       "1      13.635        80     0.0000     8.0        32.0   40.0  \n",
       "2      13.635        80     0.0000     5.0        27.0   32.0  \n",
       "3      14.395        75     0.0000     3.0        10.0   13.0  \n",
       "4      14.395        75     0.0000     0.0         1.0    1.0  \n",
       "...       ...       ...        ...     ...         ...    ...  \n",
       "17373  12.880        60    11.0014     NaN         NaN    NaN  \n",
       "17374  12.880        60    11.0014     NaN         NaN    NaN  \n",
       "17375  12.880        60    11.0014     NaN         NaN    NaN  \n",
       "17376  13.635        56     8.9981     NaN         NaN    NaN  \n",
       "17377  13.635        65     8.9981     NaN         NaN    NaN  \n",
       "\n",
       "[17378 rows x 12 columns]"
      ]
     },
     "execution_count": 29,
     "metadata": {},
     "output_type": "execute_result"
    }
   ],
   "source": [
    "all_data = pd.concat([train,test], ignore_index=True)\n",
    "all_data"
   ]
  },
  {
   "cell_type": "markdown",
   "id": "a4f8af43",
   "metadata": {
    "execution": {
     "iopub.execute_input": "2022-07-21T02:09:46.535345Z",
     "iopub.status.busy": "2022-07-21T02:09:46.532742Z",
     "iopub.status.idle": "2022-07-21T02:09:46.540379Z",
     "shell.execute_reply": "2022-07-21T02:09:46.539178Z",
     "shell.execute_reply.started": "2022-07-21T02:09:46.535305Z"
    },
    "papermill": {
     "duration": 0.035076,
     "end_time": "2022-07-21T09:33:34.587341",
     "exception": false,
     "start_time": "2022-07-21T09:33:34.552265",
     "status": "completed"
    },
    "tags": []
   },
   "source": [
    "### Derived Features"
   ]
  },
  {
   "cell_type": "code",
   "execution_count": 30,
   "id": "716fcaae",
   "metadata": {
    "execution": {
     "iopub.execute_input": "2022-07-21T09:33:34.659727Z",
     "iopub.status.busy": "2022-07-21T09:33:34.659148Z",
     "iopub.status.idle": "2022-07-21T09:33:34.956588Z",
     "shell.execute_reply": "2022-07-21T09:33:34.955529Z"
    },
    "papermill": {
     "duration": 0.336237,
     "end_time": "2022-07-21T09:33:34.958764",
     "exception": false,
     "start_time": "2022-07-21T09:33:34.622527",
     "status": "completed"
    },
    "tags": []
   },
   "outputs": [
    {
     "data": {
      "text/html": [
       "<div>\n",
       "<style scoped>\n",
       "    .dataframe tbody tr th:only-of-type {\n",
       "        vertical-align: middle;\n",
       "    }\n",
       "\n",
       "    .dataframe tbody tr th {\n",
       "        vertical-align: top;\n",
       "    }\n",
       "\n",
       "    .dataframe thead th {\n",
       "        text-align: right;\n",
       "    }\n",
       "</style>\n",
       "<table border=\"1\" class=\"dataframe\">\n",
       "  <thead>\n",
       "    <tr style=\"text-align: right;\">\n",
       "      <th></th>\n",
       "      <th>datetime</th>\n",
       "      <th>season</th>\n",
       "      <th>holiday</th>\n",
       "      <th>workingday</th>\n",
       "      <th>weather</th>\n",
       "      <th>temp</th>\n",
       "      <th>atemp</th>\n",
       "      <th>humidity</th>\n",
       "      <th>windspeed</th>\n",
       "      <th>casual</th>\n",
       "      <th>registered</th>\n",
       "      <th>count</th>\n",
       "      <th>year</th>\n",
       "      <th>month</th>\n",
       "      <th>hour</th>\n",
       "      <th>date</th>\n",
       "      <th>weekday</th>\n",
       "    </tr>\n",
       "  </thead>\n",
       "  <tbody>\n",
       "    <tr>\n",
       "      <th>0</th>\n",
       "      <td>2011-01-01 00:00:00</td>\n",
       "      <td>1</td>\n",
       "      <td>0</td>\n",
       "      <td>0</td>\n",
       "      <td>1</td>\n",
       "      <td>9.84</td>\n",
       "      <td>14.395</td>\n",
       "      <td>81</td>\n",
       "      <td>0.0</td>\n",
       "      <td>3.0</td>\n",
       "      <td>13.0</td>\n",
       "      <td>16.0</td>\n",
       "      <td>2011</td>\n",
       "      <td>01</td>\n",
       "      <td>00</td>\n",
       "      <td>2011-01-01</td>\n",
       "      <td>5</td>\n",
       "    </tr>\n",
       "    <tr>\n",
       "      <th>1</th>\n",
       "      <td>2011-01-01 01:00:00</td>\n",
       "      <td>1</td>\n",
       "      <td>0</td>\n",
       "      <td>0</td>\n",
       "      <td>1</td>\n",
       "      <td>9.02</td>\n",
       "      <td>13.635</td>\n",
       "      <td>80</td>\n",
       "      <td>0.0</td>\n",
       "      <td>8.0</td>\n",
       "      <td>32.0</td>\n",
       "      <td>40.0</td>\n",
       "      <td>2011</td>\n",
       "      <td>01</td>\n",
       "      <td>01</td>\n",
       "      <td>2011-01-01</td>\n",
       "      <td>5</td>\n",
       "    </tr>\n",
       "    <tr>\n",
       "      <th>2</th>\n",
       "      <td>2011-01-01 02:00:00</td>\n",
       "      <td>1</td>\n",
       "      <td>0</td>\n",
       "      <td>0</td>\n",
       "      <td>1</td>\n",
       "      <td>9.02</td>\n",
       "      <td>13.635</td>\n",
       "      <td>80</td>\n",
       "      <td>0.0</td>\n",
       "      <td>5.0</td>\n",
       "      <td>27.0</td>\n",
       "      <td>32.0</td>\n",
       "      <td>2011</td>\n",
       "      <td>01</td>\n",
       "      <td>02</td>\n",
       "      <td>2011-01-01</td>\n",
       "      <td>5</td>\n",
       "    </tr>\n",
       "    <tr>\n",
       "      <th>3</th>\n",
       "      <td>2011-01-01 03:00:00</td>\n",
       "      <td>1</td>\n",
       "      <td>0</td>\n",
       "      <td>0</td>\n",
       "      <td>1</td>\n",
       "      <td>9.84</td>\n",
       "      <td>14.395</td>\n",
       "      <td>75</td>\n",
       "      <td>0.0</td>\n",
       "      <td>3.0</td>\n",
       "      <td>10.0</td>\n",
       "      <td>13.0</td>\n",
       "      <td>2011</td>\n",
       "      <td>01</td>\n",
       "      <td>03</td>\n",
       "      <td>2011-01-01</td>\n",
       "      <td>5</td>\n",
       "    </tr>\n",
       "    <tr>\n",
       "      <th>4</th>\n",
       "      <td>2011-01-01 04:00:00</td>\n",
       "      <td>1</td>\n",
       "      <td>0</td>\n",
       "      <td>0</td>\n",
       "      <td>1</td>\n",
       "      <td>9.84</td>\n",
       "      <td>14.395</td>\n",
       "      <td>75</td>\n",
       "      <td>0.0</td>\n",
       "      <td>0.0</td>\n",
       "      <td>1.0</td>\n",
       "      <td>1.0</td>\n",
       "      <td>2011</td>\n",
       "      <td>01</td>\n",
       "      <td>04</td>\n",
       "      <td>2011-01-01</td>\n",
       "      <td>5</td>\n",
       "    </tr>\n",
       "  </tbody>\n",
       "</table>\n",
       "</div>"
      ],
      "text/plain": [
       "              datetime  season  holiday  workingday  weather  temp   atemp  \\\n",
       "0  2011-01-01 00:00:00       1        0           0        1  9.84  14.395   \n",
       "1  2011-01-01 01:00:00       1        0           0        1  9.02  13.635   \n",
       "2  2011-01-01 02:00:00       1        0           0        1  9.02  13.635   \n",
       "3  2011-01-01 03:00:00       1        0           0        1  9.84  14.395   \n",
       "4  2011-01-01 04:00:00       1        0           0        1  9.84  14.395   \n",
       "\n",
       "   humidity  windspeed  casual  registered  count  year month hour  \\\n",
       "0        81        0.0     3.0        13.0   16.0  2011    01   00   \n",
       "1        80        0.0     8.0        32.0   40.0  2011    01   01   \n",
       "2        80        0.0     5.0        27.0   32.0  2011    01   02   \n",
       "3        75        0.0     3.0        10.0   13.0  2011    01   03   \n",
       "4        75        0.0     0.0         1.0    1.0  2011    01   04   \n",
       "\n",
       "         date  weekday  \n",
       "0  2011-01-01        5  \n",
       "1  2011-01-01        5  \n",
       "2  2011-01-01        5  \n",
       "3  2011-01-01        5  \n",
       "4  2011-01-01        5  "
      ]
     },
     "execution_count": 30,
     "metadata": {},
     "output_type": "execute_result"
    }
   ],
   "source": [
    "from datetime import datetime\n",
    "date_cols=['year','month']\n",
    "\n",
    "for i in range(2):\n",
    "    all_data[date_cols[i]]=all_data.datetime.apply(lambda x:x.split()[0].split('-')[i])\n",
    "\n",
    "all_data['hour']=all_data.datetime.apply(lambda x:x.split()[1].split(':')[0])\n",
    "all_data['date']=all_data.datetime.apply(lambda x:x.split()[0])\n",
    "all_data['weekday'] = all_data['date'].apply(lambda dateString:datetime.strptime(dateString, '%Y-%m-%d').weekday())\n",
    "all_data.head()"
   ]
  },
  {
   "cell_type": "code",
   "execution_count": 31,
   "id": "3ee2e701",
   "metadata": {
    "execution": {
     "iopub.execute_input": "2022-07-21T09:33:35.031823Z",
     "iopub.status.busy": "2022-07-21T09:33:35.031227Z",
     "iopub.status.idle": "2022-07-21T09:33:35.041438Z",
     "shell.execute_reply": "2022-07-21T09:33:35.040521Z"
    },
    "papermill": {
     "duration": 0.049419,
     "end_time": "2022-07-21T09:33:35.043658",
     "exception": false,
     "start_time": "2022-07-21T09:33:34.994239",
     "status": "completed"
    },
    "tags": []
   },
   "outputs": [],
   "source": [
    "#drop columns\n",
    "drop_features = ['casual','registered','datetime','date','windspeed','month']\n",
    "all_data = all_data.drop(drop_features, axis=1)"
   ]
  },
  {
   "cell_type": "code",
   "execution_count": 32,
   "id": "10400572",
   "metadata": {
    "execution": {
     "iopub.execute_input": "2022-07-21T09:33:35.116937Z",
     "iopub.status.busy": "2022-07-21T09:33:35.116291Z",
     "iopub.status.idle": "2022-07-21T09:33:35.128708Z",
     "shell.execute_reply": "2022-07-21T09:33:35.127857Z"
    },
    "papermill": {
     "duration": 0.051569,
     "end_time": "2022-07-21T09:33:35.130942",
     "exception": false,
     "start_time": "2022-07-21T09:33:35.079373",
     "status": "completed"
    },
    "tags": []
   },
   "outputs": [],
   "source": [
    "#separate train, test data\n",
    "X_train = all_data[~pd.isnull(all_data['count'])] #Q)does '~' work like 'not'? '~'\n",
    "X_test = all_data[pd.isnull(all_data['count'])]\n",
    "\n",
    "#separate count\n",
    "X_train = X_train.drop(['count'], axis=1)\n",
    "X_test = X_test.drop(['count'], axis=1)\n",
    "y=train['count']"
   ]
  },
  {
   "cell_type": "code",
   "execution_count": 33,
   "id": "88583e60",
   "metadata": {
    "execution": {
     "iopub.execute_input": "2022-07-21T09:33:35.207030Z",
     "iopub.status.busy": "2022-07-21T09:33:35.206258Z",
     "iopub.status.idle": "2022-07-21T09:33:35.221383Z",
     "shell.execute_reply": "2022-07-21T09:33:35.220317Z"
    },
    "papermill": {
     "duration": 0.057208,
     "end_time": "2022-07-21T09:33:35.223605",
     "exception": false,
     "start_time": "2022-07-21T09:33:35.166397",
     "status": "completed"
    },
    "tags": []
   },
   "outputs": [
    {
     "data": {
      "text/html": [
       "<div>\n",
       "<style scoped>\n",
       "    .dataframe tbody tr th:only-of-type {\n",
       "        vertical-align: middle;\n",
       "    }\n",
       "\n",
       "    .dataframe tbody tr th {\n",
       "        vertical-align: top;\n",
       "    }\n",
       "\n",
       "    .dataframe thead th {\n",
       "        text-align: right;\n",
       "    }\n",
       "</style>\n",
       "<table border=\"1\" class=\"dataframe\">\n",
       "  <thead>\n",
       "    <tr style=\"text-align: right;\">\n",
       "      <th></th>\n",
       "      <th>season</th>\n",
       "      <th>holiday</th>\n",
       "      <th>workingday</th>\n",
       "      <th>weather</th>\n",
       "      <th>temp</th>\n",
       "      <th>atemp</th>\n",
       "      <th>humidity</th>\n",
       "      <th>year</th>\n",
       "      <th>hour</th>\n",
       "      <th>weekday</th>\n",
       "    </tr>\n",
       "  </thead>\n",
       "  <tbody>\n",
       "    <tr>\n",
       "      <th>0</th>\n",
       "      <td>1</td>\n",
       "      <td>0</td>\n",
       "      <td>0</td>\n",
       "      <td>1</td>\n",
       "      <td>9.84</td>\n",
       "      <td>14.395</td>\n",
       "      <td>81</td>\n",
       "      <td>2011</td>\n",
       "      <td>00</td>\n",
       "      <td>5</td>\n",
       "    </tr>\n",
       "    <tr>\n",
       "      <th>1</th>\n",
       "      <td>1</td>\n",
       "      <td>0</td>\n",
       "      <td>0</td>\n",
       "      <td>1</td>\n",
       "      <td>9.02</td>\n",
       "      <td>13.635</td>\n",
       "      <td>80</td>\n",
       "      <td>2011</td>\n",
       "      <td>01</td>\n",
       "      <td>5</td>\n",
       "    </tr>\n",
       "    <tr>\n",
       "      <th>2</th>\n",
       "      <td>1</td>\n",
       "      <td>0</td>\n",
       "      <td>0</td>\n",
       "      <td>1</td>\n",
       "      <td>9.02</td>\n",
       "      <td>13.635</td>\n",
       "      <td>80</td>\n",
       "      <td>2011</td>\n",
       "      <td>02</td>\n",
       "      <td>5</td>\n",
       "    </tr>\n",
       "    <tr>\n",
       "      <th>3</th>\n",
       "      <td>1</td>\n",
       "      <td>0</td>\n",
       "      <td>0</td>\n",
       "      <td>1</td>\n",
       "      <td>9.84</td>\n",
       "      <td>14.395</td>\n",
       "      <td>75</td>\n",
       "      <td>2011</td>\n",
       "      <td>03</td>\n",
       "      <td>5</td>\n",
       "    </tr>\n",
       "    <tr>\n",
       "      <th>4</th>\n",
       "      <td>1</td>\n",
       "      <td>0</td>\n",
       "      <td>0</td>\n",
       "      <td>1</td>\n",
       "      <td>9.84</td>\n",
       "      <td>14.395</td>\n",
       "      <td>75</td>\n",
       "      <td>2011</td>\n",
       "      <td>04</td>\n",
       "      <td>5</td>\n",
       "    </tr>\n",
       "  </tbody>\n",
       "</table>\n",
       "</div>"
      ],
      "text/plain": [
       "   season  holiday  workingday  weather  temp   atemp  humidity  year hour  \\\n",
       "0       1        0           0        1  9.84  14.395        81  2011   00   \n",
       "1       1        0           0        1  9.02  13.635        80  2011   01   \n",
       "2       1        0           0        1  9.02  13.635        80  2011   02   \n",
       "3       1        0           0        1  9.84  14.395        75  2011   03   \n",
       "4       1        0           0        1  9.84  14.395        75  2011   04   \n",
       "\n",
       "   weekday  \n",
       "0        5  \n",
       "1        5  \n",
       "2        5  \n",
       "3        5  \n",
       "4        5  "
      ]
     },
     "execution_count": 33,
     "metadata": {},
     "output_type": "execute_result"
    }
   ],
   "source": [
    "X_train.head()"
   ]
  },
  {
   "cell_type": "markdown",
   "id": "19e58729",
   "metadata": {
    "papermill": {
     "duration": 0.035541,
     "end_time": "2022-07-21T09:33:35.294742",
     "exception": false,
     "start_time": "2022-07-21T09:33:35.259201",
     "status": "completed"
    },
    "tags": []
   },
   "source": [
    "## 2.2. 평가지표 계산 함수 작성"
   ]
  },
  {
   "cell_type": "code",
   "execution_count": 34,
   "id": "8b55a5a1",
   "metadata": {
    "execution": {
     "iopub.execute_input": "2022-07-21T09:33:35.368706Z",
     "iopub.status.busy": "2022-07-21T09:33:35.367942Z",
     "iopub.status.idle": "2022-07-21T09:33:35.375124Z",
     "shell.execute_reply": "2022-07-21T09:33:35.374367Z"
    },
    "papermill": {
     "duration": 0.046446,
     "end_time": "2022-07-21T09:33:35.377172",
     "exception": false,
     "start_time": "2022-07-21T09:33:35.330726",
     "status": "completed"
    },
    "tags": []
   },
   "outputs": [],
   "source": [
    "import numpy as np\n",
    "\n",
    "def rmsle(y_true, y_pred, convert_exp=True):\n",
    "    #convert to exponentials\n",
    "    if convert_exp:\n",
    "        y_true = np.exp(y_true)\n",
    "        y_pred = np.exp(y_pred)\n",
    "    #convert by log function, return nan values as 0\n",
    "    log_true = np.nan_to_num(np.log(y_true+1)) #Q) so wha\n",
    "    log_pred = np.nan_to_num(np.log(y_pred+1))\n",
    "    \n",
    "    #calculate RMSLE (RMSLE = Root Mean Squared Log Error)\n",
    "    output = np.sqrt(np.mean((log_true-log_pred)**2))\n",
    "    return output"
   ]
  },
  {
   "cell_type": "markdown",
   "id": "47cbeed3",
   "metadata": {
    "papermill": {
     "duration": 0.035293,
     "end_time": "2022-07-21T09:33:35.447796",
     "exception": false,
     "start_time": "2022-07-21T09:33:35.412503",
     "status": "completed"
    },
    "tags": []
   },
   "source": [
    "## 2.3. 모델 훈련"
   ]
  },
  {
   "cell_type": "code",
   "execution_count": 35,
   "id": "9287b107",
   "metadata": {
    "execution": {
     "iopub.execute_input": "2022-07-21T09:33:35.520359Z",
     "iopub.status.busy": "2022-07-21T09:33:35.519989Z",
     "iopub.status.idle": "2022-07-21T09:33:35.817031Z",
     "shell.execute_reply": "2022-07-21T09:33:35.815689Z"
    },
    "papermill": {
     "duration": 0.337188,
     "end_time": "2022-07-21T09:33:35.820464",
     "exception": false,
     "start_time": "2022-07-21T09:33:35.483276",
     "status": "completed"
    },
    "tags": []
   },
   "outputs": [
    {
     "data": {
      "text/plain": [
       "LinearRegression()"
      ]
     },
     "execution_count": 35,
     "metadata": {},
     "output_type": "execute_result"
    }
   ],
   "source": [
    "from sklearn.linear_model import LinearRegression\n",
    "\n",
    "linear_reg_model = LinearRegression()\n",
    "log_y = np.log(y) #log of target values\n",
    "linear_reg_model.fit(X_train, log_y)"
   ]
  },
  {
   "cell_type": "markdown",
   "id": "08dec877",
   "metadata": {
    "papermill": {
     "duration": 0.051424,
     "end_time": "2022-07-21T09:33:35.940391",
     "exception": false,
     "start_time": "2022-07-21T09:33:35.888967",
     "status": "completed"
    },
    "tags": []
   },
   "source": [
    "## 2.4. 모델 성능 검증/평가"
   ]
  },
  {
   "cell_type": "code",
   "execution_count": 36,
   "id": "f5e30f67",
   "metadata": {
    "execution": {
     "iopub.execute_input": "2022-07-21T09:33:36.015451Z",
     "iopub.status.busy": "2022-07-21T09:33:36.014293Z",
     "iopub.status.idle": "2022-07-21T09:33:36.044249Z",
     "shell.execute_reply": "2022-07-21T09:33:36.042943Z"
    },
    "papermill": {
     "duration": 0.071463,
     "end_time": "2022-07-21T09:33:36.047891",
     "exception": false,
     "start_time": "2022-07-21T09:33:35.976428",
     "status": "completed"
    },
    "tags": []
   },
   "outputs": [],
   "source": [
    "\n",
    "preds = linear_reg_model.predict(X_train)"
   ]
  },
  {
   "cell_type": "code",
   "execution_count": 37,
   "id": "3b531d4b",
   "metadata": {
    "execution": {
     "iopub.execute_input": "2022-07-21T09:33:36.172574Z",
     "iopub.status.busy": "2022-07-21T09:33:36.172171Z",
     "iopub.status.idle": "2022-07-21T09:33:36.180321Z",
     "shell.execute_reply": "2022-07-21T09:33:36.178762Z"
    },
    "papermill": {
     "duration": 0.066996,
     "end_time": "2022-07-21T09:33:36.182604",
     "exception": false,
     "start_time": "2022-07-21T09:33:36.115608",
     "status": "completed"
    },
    "tags": []
   },
   "outputs": [
    {
     "name": "stdout",
     "output_type": "stream",
     "text": [
      "선형회귀의 RMSLE 값 : 1.0205\n"
     ]
    }
   ],
   "source": [
    "print(f'선형회귀의 RMSLE 값 : {rmsle(log_y, preds, True):.4f}')#f-string      "
   ]
  },
  {
   "cell_type": "markdown",
   "id": "4cc61b20",
   "metadata": {
    "papermill": {
     "duration": 0.035671,
     "end_time": "2022-07-21T09:33:36.254069",
     "exception": false,
     "start_time": "2022-07-21T09:33:36.218398",
     "status": "completed"
    },
    "tags": []
   },
   "source": [
    "## 2.5 predic and submit"
   ]
  },
  {
   "cell_type": "code",
   "execution_count": 38,
   "id": "656ec0b3",
   "metadata": {
    "execution": {
     "iopub.execute_input": "2022-07-21T09:33:36.329142Z",
     "iopub.status.busy": "2022-07-21T09:33:36.327258Z",
     "iopub.status.idle": "2022-07-21T09:33:36.397690Z",
     "shell.execute_reply": "2022-07-21T09:33:36.396369Z"
    },
    "papermill": {
     "duration": 0.111327,
     "end_time": "2022-07-21T09:33:36.401399",
     "exception": false,
     "start_time": "2022-07-21T09:33:36.290072",
     "status": "completed"
    },
    "tags": []
   },
   "outputs": [],
   "source": [
    "linearreg_preds = linear_reg_model.predict(X_test) #prediction with test data\n",
    "submission['count']=np.exp(linearreg_preds) #take exponential\n",
    "submission.to_csv('baseline_submission.csv',index=False)"
   ]
  },
  {
   "cell_type": "markdown",
   "id": "62bc197c",
   "metadata": {
    "papermill": {
     "duration": 0.035281,
     "end_time": "2022-07-21T09:33:36.501838",
     "exception": false,
     "start_time": "2022-07-21T09:33:36.466557",
     "status": "completed"
    },
    "tags": []
   },
   "source": [
    "제출&평가 점수 받기.\n",
    "\n",
    "# 3. Bicycle Share demand prediction competition model - boost performance"
   ]
  },
  {
   "cell_type": "code",
   "execution_count": 39,
   "id": "6afb30bc",
   "metadata": {
    "execution": {
     "iopub.execute_input": "2022-07-21T09:33:36.574956Z",
     "iopub.status.busy": "2022-07-21T09:33:36.573862Z",
     "iopub.status.idle": "2022-07-21T09:33:36.615098Z",
     "shell.execute_reply": "2022-07-21T09:33:36.614061Z"
    },
    "papermill": {
     "duration": 0.080165,
     "end_time": "2022-07-21T09:33:36.617318",
     "exception": false,
     "start_time": "2022-07-21T09:33:36.537153",
     "status": "completed"
    },
    "tags": []
   },
   "outputs": [],
   "source": [
    "import pandas as pd\n",
    "data_path = '../input/bike-sharing-demand/'\n",
    "train=pd.read_csv(data_path + 'train.csv')\n",
    "test = pd.read_csv(data_path+'test.csv')\n",
    "submission=pd.read_csv(data_path+'sampleSubmission.csv')"
   ]
  },
  {
   "cell_type": "markdown",
   "id": "583b195e",
   "metadata": {
    "papermill": {
     "duration": 0.035821,
     "end_time": "2022-07-21T09:33:36.689233",
     "exception": false,
     "start_time": "2022-07-21T09:33:36.653412",
     "status": "completed"
    },
    "tags": []
   },
   "source": [
    "### Feature engineering\n",
    "__remove outliers__ "
   ]
  },
  {
   "cell_type": "code",
   "execution_count": 40,
   "id": "11a2dbd5",
   "metadata": {
    "execution": {
     "iopub.execute_input": "2022-07-21T09:33:36.762853Z",
     "iopub.status.busy": "2022-07-21T09:33:36.762139Z",
     "iopub.status.idle": "2022-07-21T09:33:36.792132Z",
     "shell.execute_reply": "2022-07-21T09:33:36.790762Z"
    },
    "papermill": {
     "duration": 0.069147,
     "end_time": "2022-07-21T09:33:36.794093",
     "exception": false,
     "start_time": "2022-07-21T09:33:36.724946",
     "status": "completed"
    },
    "tags": []
   },
   "outputs": [
    {
     "data": {
      "text/html": [
       "<div>\n",
       "<style scoped>\n",
       "    .dataframe tbody tr th:only-of-type {\n",
       "        vertical-align: middle;\n",
       "    }\n",
       "\n",
       "    .dataframe tbody tr th {\n",
       "        vertical-align: top;\n",
       "    }\n",
       "\n",
       "    .dataframe thead th {\n",
       "        text-align: right;\n",
       "    }\n",
       "</style>\n",
       "<table border=\"1\" class=\"dataframe\">\n",
       "  <thead>\n",
       "    <tr style=\"text-align: right;\">\n",
       "      <th></th>\n",
       "      <th>datetime</th>\n",
       "      <th>season</th>\n",
       "      <th>holiday</th>\n",
       "      <th>workingday</th>\n",
       "      <th>weather</th>\n",
       "      <th>temp</th>\n",
       "      <th>atemp</th>\n",
       "      <th>humidity</th>\n",
       "      <th>windspeed</th>\n",
       "      <th>casual</th>\n",
       "      <th>registered</th>\n",
       "      <th>count</th>\n",
       "    </tr>\n",
       "  </thead>\n",
       "  <tbody>\n",
       "    <tr>\n",
       "      <th>0</th>\n",
       "      <td>2011-01-01 00:00:00</td>\n",
       "      <td>1</td>\n",
       "      <td>0</td>\n",
       "      <td>0</td>\n",
       "      <td>1</td>\n",
       "      <td>9.84</td>\n",
       "      <td>14.395</td>\n",
       "      <td>81</td>\n",
       "      <td>0.0000</td>\n",
       "      <td>3.0</td>\n",
       "      <td>13.0</td>\n",
       "      <td>16.0</td>\n",
       "    </tr>\n",
       "    <tr>\n",
       "      <th>1</th>\n",
       "      <td>2011-01-01 01:00:00</td>\n",
       "      <td>1</td>\n",
       "      <td>0</td>\n",
       "      <td>0</td>\n",
       "      <td>1</td>\n",
       "      <td>9.02</td>\n",
       "      <td>13.635</td>\n",
       "      <td>80</td>\n",
       "      <td>0.0000</td>\n",
       "      <td>8.0</td>\n",
       "      <td>32.0</td>\n",
       "      <td>40.0</td>\n",
       "    </tr>\n",
       "    <tr>\n",
       "      <th>2</th>\n",
       "      <td>2011-01-01 02:00:00</td>\n",
       "      <td>1</td>\n",
       "      <td>0</td>\n",
       "      <td>0</td>\n",
       "      <td>1</td>\n",
       "      <td>9.02</td>\n",
       "      <td>13.635</td>\n",
       "      <td>80</td>\n",
       "      <td>0.0000</td>\n",
       "      <td>5.0</td>\n",
       "      <td>27.0</td>\n",
       "      <td>32.0</td>\n",
       "    </tr>\n",
       "    <tr>\n",
       "      <th>3</th>\n",
       "      <td>2011-01-01 03:00:00</td>\n",
       "      <td>1</td>\n",
       "      <td>0</td>\n",
       "      <td>0</td>\n",
       "      <td>1</td>\n",
       "      <td>9.84</td>\n",
       "      <td>14.395</td>\n",
       "      <td>75</td>\n",
       "      <td>0.0000</td>\n",
       "      <td>3.0</td>\n",
       "      <td>10.0</td>\n",
       "      <td>13.0</td>\n",
       "    </tr>\n",
       "    <tr>\n",
       "      <th>4</th>\n",
       "      <td>2011-01-01 04:00:00</td>\n",
       "      <td>1</td>\n",
       "      <td>0</td>\n",
       "      <td>0</td>\n",
       "      <td>1</td>\n",
       "      <td>9.84</td>\n",
       "      <td>14.395</td>\n",
       "      <td>75</td>\n",
       "      <td>0.0000</td>\n",
       "      <td>0.0</td>\n",
       "      <td>1.0</td>\n",
       "      <td>1.0</td>\n",
       "    </tr>\n",
       "    <tr>\n",
       "      <th>...</th>\n",
       "      <td>...</td>\n",
       "      <td>...</td>\n",
       "      <td>...</td>\n",
       "      <td>...</td>\n",
       "      <td>...</td>\n",
       "      <td>...</td>\n",
       "      <td>...</td>\n",
       "      <td>...</td>\n",
       "      <td>...</td>\n",
       "      <td>...</td>\n",
       "      <td>...</td>\n",
       "      <td>...</td>\n",
       "    </tr>\n",
       "    <tr>\n",
       "      <th>17373</th>\n",
       "      <td>2012-12-31 19:00:00</td>\n",
       "      <td>1</td>\n",
       "      <td>0</td>\n",
       "      <td>1</td>\n",
       "      <td>2</td>\n",
       "      <td>10.66</td>\n",
       "      <td>12.880</td>\n",
       "      <td>60</td>\n",
       "      <td>11.0014</td>\n",
       "      <td>NaN</td>\n",
       "      <td>NaN</td>\n",
       "      <td>NaN</td>\n",
       "    </tr>\n",
       "    <tr>\n",
       "      <th>17374</th>\n",
       "      <td>2012-12-31 20:00:00</td>\n",
       "      <td>1</td>\n",
       "      <td>0</td>\n",
       "      <td>1</td>\n",
       "      <td>2</td>\n",
       "      <td>10.66</td>\n",
       "      <td>12.880</td>\n",
       "      <td>60</td>\n",
       "      <td>11.0014</td>\n",
       "      <td>NaN</td>\n",
       "      <td>NaN</td>\n",
       "      <td>NaN</td>\n",
       "    </tr>\n",
       "    <tr>\n",
       "      <th>17375</th>\n",
       "      <td>2012-12-31 21:00:00</td>\n",
       "      <td>1</td>\n",
       "      <td>0</td>\n",
       "      <td>1</td>\n",
       "      <td>1</td>\n",
       "      <td>10.66</td>\n",
       "      <td>12.880</td>\n",
       "      <td>60</td>\n",
       "      <td>11.0014</td>\n",
       "      <td>NaN</td>\n",
       "      <td>NaN</td>\n",
       "      <td>NaN</td>\n",
       "    </tr>\n",
       "    <tr>\n",
       "      <th>17376</th>\n",
       "      <td>2012-12-31 22:00:00</td>\n",
       "      <td>1</td>\n",
       "      <td>0</td>\n",
       "      <td>1</td>\n",
       "      <td>1</td>\n",
       "      <td>10.66</td>\n",
       "      <td>13.635</td>\n",
       "      <td>56</td>\n",
       "      <td>8.9981</td>\n",
       "      <td>NaN</td>\n",
       "      <td>NaN</td>\n",
       "      <td>NaN</td>\n",
       "    </tr>\n",
       "    <tr>\n",
       "      <th>17377</th>\n",
       "      <td>2012-12-31 23:00:00</td>\n",
       "      <td>1</td>\n",
       "      <td>0</td>\n",
       "      <td>1</td>\n",
       "      <td>1</td>\n",
       "      <td>10.66</td>\n",
       "      <td>13.635</td>\n",
       "      <td>65</td>\n",
       "      <td>8.9981</td>\n",
       "      <td>NaN</td>\n",
       "      <td>NaN</td>\n",
       "      <td>NaN</td>\n",
       "    </tr>\n",
       "  </tbody>\n",
       "</table>\n",
       "<p>17378 rows × 12 columns</p>\n",
       "</div>"
      ],
      "text/plain": [
       "                  datetime  season  holiday  workingday  weather   temp  \\\n",
       "0      2011-01-01 00:00:00       1        0           0        1   9.84   \n",
       "1      2011-01-01 01:00:00       1        0           0        1   9.02   \n",
       "2      2011-01-01 02:00:00       1        0           0        1   9.02   \n",
       "3      2011-01-01 03:00:00       1        0           0        1   9.84   \n",
       "4      2011-01-01 04:00:00       1        0           0        1   9.84   \n",
       "...                    ...     ...      ...         ...      ...    ...   \n",
       "17373  2012-12-31 19:00:00       1        0           1        2  10.66   \n",
       "17374  2012-12-31 20:00:00       1        0           1        2  10.66   \n",
       "17375  2012-12-31 21:00:00       1        0           1        1  10.66   \n",
       "17376  2012-12-31 22:00:00       1        0           1        1  10.66   \n",
       "17377  2012-12-31 23:00:00       1        0           1        1  10.66   \n",
       "\n",
       "        atemp  humidity  windspeed  casual  registered  count  \n",
       "0      14.395        81     0.0000     3.0        13.0   16.0  \n",
       "1      13.635        80     0.0000     8.0        32.0   40.0  \n",
       "2      13.635        80     0.0000     5.0        27.0   32.0  \n",
       "3      14.395        75     0.0000     3.0        10.0   13.0  \n",
       "4      14.395        75     0.0000     0.0         1.0    1.0  \n",
       "...       ...       ...        ...     ...         ...    ...  \n",
       "17373  12.880        60    11.0014     NaN         NaN    NaN  \n",
       "17374  12.880        60    11.0014     NaN         NaN    NaN  \n",
       "17375  12.880        60    11.0014     NaN         NaN    NaN  \n",
       "17376  13.635        56     8.9981     NaN         NaN    NaN  \n",
       "17377  13.635        65     8.9981     NaN         NaN    NaN  \n",
       "\n",
       "[17378 rows x 12 columns]"
      ]
     },
     "execution_count": 40,
     "metadata": {},
     "output_type": "execute_result"
    }
   ],
   "source": [
    "train=train[train['weather']!=4] #exclude weather = 4 samples\n",
    "\n",
    "#concat train, test data\n",
    "all_data=pd.concat([train, test],ignore_index=True)\n",
    "all_data"
   ]
  },
  {
   "cell_type": "markdown",
   "id": "1a38c4fb",
   "metadata": {
    "papermill": {
     "duration": 0.035772,
     "end_time": "2022-07-21T09:33:36.866166",
     "exception": false,
     "start_time": "2022-07-21T09:33:36.830394",
     "status": "completed"
    },
    "tags": []
   },
   "source": [
    "### add Derived Features "
   ]
  },
  {
   "cell_type": "code",
   "execution_count": 41,
   "id": "140beeed",
   "metadata": {
    "execution": {
     "iopub.execute_input": "2022-07-21T09:33:36.940434Z",
     "iopub.status.busy": "2022-07-21T09:33:36.939764Z",
     "iopub.status.idle": "2022-07-21T09:33:37.237849Z",
     "shell.execute_reply": "2022-07-21T09:33:37.236600Z"
    },
    "papermill": {
     "duration": 0.337658,
     "end_time": "2022-07-21T09:33:37.239976",
     "exception": false,
     "start_time": "2022-07-21T09:33:36.902318",
     "status": "completed"
    },
    "tags": []
   },
   "outputs": [
    {
     "data": {
      "text/html": [
       "<div>\n",
       "<style scoped>\n",
       "    .dataframe tbody tr th:only-of-type {\n",
       "        vertical-align: middle;\n",
       "    }\n",
       "\n",
       "    .dataframe tbody tr th {\n",
       "        vertical-align: top;\n",
       "    }\n",
       "\n",
       "    .dataframe thead th {\n",
       "        text-align: right;\n",
       "    }\n",
       "</style>\n",
       "<table border=\"1\" class=\"dataframe\">\n",
       "  <thead>\n",
       "    <tr style=\"text-align: right;\">\n",
       "      <th></th>\n",
       "      <th>datetime</th>\n",
       "      <th>season</th>\n",
       "      <th>holiday</th>\n",
       "      <th>workingday</th>\n",
       "      <th>weather</th>\n",
       "      <th>temp</th>\n",
       "      <th>atemp</th>\n",
       "      <th>humidity</th>\n",
       "      <th>windspeed</th>\n",
       "      <th>casual</th>\n",
       "      <th>registered</th>\n",
       "      <th>count</th>\n",
       "      <th>year</th>\n",
       "      <th>month</th>\n",
       "      <th>hour</th>\n",
       "      <th>date</th>\n",
       "      <th>weekday</th>\n",
       "    </tr>\n",
       "  </thead>\n",
       "  <tbody>\n",
       "    <tr>\n",
       "      <th>0</th>\n",
       "      <td>2011-01-01 00:00:00</td>\n",
       "      <td>1</td>\n",
       "      <td>0</td>\n",
       "      <td>0</td>\n",
       "      <td>1</td>\n",
       "      <td>9.84</td>\n",
       "      <td>14.395</td>\n",
       "      <td>81</td>\n",
       "      <td>0.0</td>\n",
       "      <td>3.0</td>\n",
       "      <td>13.0</td>\n",
       "      <td>16.0</td>\n",
       "      <td>2011</td>\n",
       "      <td>01</td>\n",
       "      <td>00</td>\n",
       "      <td>2011-01-01</td>\n",
       "      <td>5</td>\n",
       "    </tr>\n",
       "    <tr>\n",
       "      <th>1</th>\n",
       "      <td>2011-01-01 01:00:00</td>\n",
       "      <td>1</td>\n",
       "      <td>0</td>\n",
       "      <td>0</td>\n",
       "      <td>1</td>\n",
       "      <td>9.02</td>\n",
       "      <td>13.635</td>\n",
       "      <td>80</td>\n",
       "      <td>0.0</td>\n",
       "      <td>8.0</td>\n",
       "      <td>32.0</td>\n",
       "      <td>40.0</td>\n",
       "      <td>2011</td>\n",
       "      <td>01</td>\n",
       "      <td>01</td>\n",
       "      <td>2011-01-01</td>\n",
       "      <td>5</td>\n",
       "    </tr>\n",
       "    <tr>\n",
       "      <th>2</th>\n",
       "      <td>2011-01-01 02:00:00</td>\n",
       "      <td>1</td>\n",
       "      <td>0</td>\n",
       "      <td>0</td>\n",
       "      <td>1</td>\n",
       "      <td>9.02</td>\n",
       "      <td>13.635</td>\n",
       "      <td>80</td>\n",
       "      <td>0.0</td>\n",
       "      <td>5.0</td>\n",
       "      <td>27.0</td>\n",
       "      <td>32.0</td>\n",
       "      <td>2011</td>\n",
       "      <td>01</td>\n",
       "      <td>02</td>\n",
       "      <td>2011-01-01</td>\n",
       "      <td>5</td>\n",
       "    </tr>\n",
       "    <tr>\n",
       "      <th>3</th>\n",
       "      <td>2011-01-01 03:00:00</td>\n",
       "      <td>1</td>\n",
       "      <td>0</td>\n",
       "      <td>0</td>\n",
       "      <td>1</td>\n",
       "      <td>9.84</td>\n",
       "      <td>14.395</td>\n",
       "      <td>75</td>\n",
       "      <td>0.0</td>\n",
       "      <td>3.0</td>\n",
       "      <td>10.0</td>\n",
       "      <td>13.0</td>\n",
       "      <td>2011</td>\n",
       "      <td>01</td>\n",
       "      <td>03</td>\n",
       "      <td>2011-01-01</td>\n",
       "      <td>5</td>\n",
       "    </tr>\n",
       "    <tr>\n",
       "      <th>4</th>\n",
       "      <td>2011-01-01 04:00:00</td>\n",
       "      <td>1</td>\n",
       "      <td>0</td>\n",
       "      <td>0</td>\n",
       "      <td>1</td>\n",
       "      <td>9.84</td>\n",
       "      <td>14.395</td>\n",
       "      <td>75</td>\n",
       "      <td>0.0</td>\n",
       "      <td>0.0</td>\n",
       "      <td>1.0</td>\n",
       "      <td>1.0</td>\n",
       "      <td>2011</td>\n",
       "      <td>01</td>\n",
       "      <td>04</td>\n",
       "      <td>2011-01-01</td>\n",
       "      <td>5</td>\n",
       "    </tr>\n",
       "  </tbody>\n",
       "</table>\n",
       "</div>"
      ],
      "text/plain": [
       "              datetime  season  holiday  workingday  weather  temp   atemp  \\\n",
       "0  2011-01-01 00:00:00       1        0           0        1  9.84  14.395   \n",
       "1  2011-01-01 01:00:00       1        0           0        1  9.02  13.635   \n",
       "2  2011-01-01 02:00:00       1        0           0        1  9.02  13.635   \n",
       "3  2011-01-01 03:00:00       1        0           0        1  9.84  14.395   \n",
       "4  2011-01-01 04:00:00       1        0           0        1  9.84  14.395   \n",
       "\n",
       "   humidity  windspeed  casual  registered  count  year month hour  \\\n",
       "0        81        0.0     3.0        13.0   16.0  2011    01   00   \n",
       "1        80        0.0     8.0        32.0   40.0  2011    01   01   \n",
       "2        80        0.0     5.0        27.0   32.0  2011    01   02   \n",
       "3        75        0.0     3.0        10.0   13.0  2011    01   03   \n",
       "4        75        0.0     0.0         1.0    1.0  2011    01   04   \n",
       "\n",
       "         date  weekday  \n",
       "0  2011-01-01        5  \n",
       "1  2011-01-01        5  \n",
       "2  2011-01-01        5  \n",
       "3  2011-01-01        5  \n",
       "4  2011-01-01        5  "
      ]
     },
     "execution_count": 41,
     "metadata": {},
     "output_type": "execute_result"
    }
   ],
   "source": [
    "from datetime import datetime\n",
    "date_cols=['year','month']\n",
    "\n",
    "for i in range(2):\n",
    "    all_data[date_cols[i]]=all_data.datetime.apply(lambda x:x.split()[0].split('-')[i])\n",
    "\n",
    "all_data['hour']=all_data.datetime.apply(lambda x:x.split()[1].split(':')[0])\n",
    "all_data['date']=all_data.datetime.apply(lambda x:x.split()[0])\n",
    "all_data['weekday'] = all_data['date'].apply(lambda dateString:datetime.strptime(dateString, '%Y-%m-%d').weekday())\n",
    "all_data.head()"
   ]
  },
  {
   "cell_type": "markdown",
   "id": "05369b2d",
   "metadata": {
    "papermill": {
     "duration": 0.036365,
     "end_time": "2022-07-21T09:33:37.312927",
     "exception": false,
     "start_time": "2022-07-21T09:33:37.276562",
     "status": "completed"
    },
    "tags": []
   },
   "source": [
    "### delete columns"
   ]
  },
  {
   "cell_type": "code",
   "execution_count": 42,
   "id": "1582cc7e",
   "metadata": {
    "execution": {
     "iopub.execute_input": "2022-07-21T09:33:37.388361Z",
     "iopub.status.busy": "2022-07-21T09:33:37.387647Z",
     "iopub.status.idle": "2022-07-21T09:33:37.397567Z",
     "shell.execute_reply": "2022-07-21T09:33:37.396784Z"
    },
    "papermill": {
     "duration": 0.050443,
     "end_time": "2022-07-21T09:33:37.399826",
     "exception": false,
     "start_time": "2022-07-21T09:33:37.349383",
     "status": "completed"
    },
    "tags": []
   },
   "outputs": [],
   "source": [
    "drop_features = ['casual','registered','datetime','date','windspeed','month']\n",
    "all_data = all_data.drop(drop_features, axis=1)"
   ]
  },
  {
   "cell_type": "code",
   "execution_count": 43,
   "id": "2bd3ff1c",
   "metadata": {
    "execution": {
     "iopub.execute_input": "2022-07-21T09:33:37.474937Z",
     "iopub.status.busy": "2022-07-21T09:33:37.474285Z",
     "iopub.status.idle": "2022-07-21T09:33:37.485378Z",
     "shell.execute_reply": "2022-07-21T09:33:37.484602Z"
    },
    "papermill": {
     "duration": 0.051107,
     "end_time": "2022-07-21T09:33:37.487561",
     "exception": false,
     "start_time": "2022-07-21T09:33:37.436454",
     "status": "completed"
    },
    "tags": []
   },
   "outputs": [],
   "source": [
    "#separate train, test data\n",
    "X_train = all_data[~pd.isnull(all_data['count'])] #Q&A)does '~' work like 'not'? yes!'~'\n",
    "X_test = all_data[pd.isnull(all_data['count'])]\n",
    "\n",
    "#separate count\n",
    "X_train = X_train.drop(['count'], axis=1)\n",
    "X_test = X_test.drop(['count'], axis=1)\n",
    "y=train['count']"
   ]
  },
  {
   "cell_type": "code",
   "execution_count": 44,
   "id": "19ac45f0",
   "metadata": {
    "execution": {
     "iopub.execute_input": "2022-07-21T09:33:37.562794Z",
     "iopub.status.busy": "2022-07-21T09:33:37.562087Z",
     "iopub.status.idle": "2022-07-21T09:33:37.568601Z",
     "shell.execute_reply": "2022-07-21T09:33:37.567888Z"
    },
    "papermill": {
     "duration": 0.04636,
     "end_time": "2022-07-21T09:33:37.570548",
     "exception": false,
     "start_time": "2022-07-21T09:33:37.524188",
     "status": "completed"
    },
    "tags": []
   },
   "outputs": [],
   "source": [
    "#evaluation score function\n",
    "import numpy as np\n",
    "\n",
    "def rmsle(y_true, y_pred, convert_exp=True):\n",
    "    #convert to exponentials\n",
    "    if convert_exp:\n",
    "        y_true = np.exp(y_true)\n",
    "        y_pred = np.exp(y_pred)\n",
    "    #convert by log function, return nan values as 0\n",
    "    log_true = np.nan_to_num(np.log(y_true+1)) #Q) so wha\n",
    "    log_pred = np.nan_to_num(np.log(y_pred+1))\n",
    "    \n",
    "    #calculate RMSLE (RMSLE = Root Mean Squared Log Error)\n",
    "    output = np.sqrt(np.mean((log_true-log_pred)**2))\n",
    "    return output"
   ]
  },
  {
   "cell_type": "markdown",
   "id": "b3a2339c",
   "metadata": {
    "papermill": {
     "duration": 0.035991,
     "end_time": "2022-07-21T09:33:37.642990",
     "exception": false,
     "start_time": "2022-07-21T09:33:37.606999",
     "status": "completed"
    },
    "tags": []
   },
   "source": [
    "# 3.1. 성능 개선1. 릿지 회귀 모델\n",
    "### 3.1.1. optimize hyper parameters (train)"
   ]
  },
  {
   "cell_type": "code",
   "execution_count": 45,
   "id": "b030def1",
   "metadata": {
    "execution": {
     "iopub.execute_input": "2022-07-21T09:33:37.718084Z",
     "iopub.status.busy": "2022-07-21T09:33:37.717250Z",
     "iopub.status.idle": "2022-07-21T09:33:40.423483Z",
     "shell.execute_reply": "2022-07-21T09:33:40.422254Z"
    },
    "papermill": {
     "duration": 2.747878,
     "end_time": "2022-07-21T09:33:40.427099",
     "exception": false,
     "start_time": "2022-07-21T09:33:37.679221",
     "status": "completed"
    },
    "tags": []
   },
   "outputs": [
    {
     "data": {
      "text/plain": [
       "GridSearchCV(cv=5, estimator=Ridge(),\n",
       "             param_grid={'alpha': [0.1, 1, 2, 3, 4, 10, 30, 100, 200, 300, 400,\n",
       "                                   800, 900, 1000],\n",
       "                         'max_iter': [3000]},\n",
       "             scoring=make_scorer(rmsle, greater_is_better=False))"
      ]
     },
     "execution_count": 45,
     "metadata": {},
     "output_type": "execute_result"
    }
   ],
   "source": [
    "#import and assign model\n",
    "from sklearn.linear_model import Ridge\n",
    "from sklearn.model_selection import GridSearchCV\n",
    "from sklearn import metrics\n",
    "\n",
    "ridge_model = Ridge()\n",
    "\n",
    "#set Grid Search object\n",
    "#hyper parameters\n",
    "ridge_params = {'max_iter':[3000], 'alpha':[0.1, 1, 2, 3, 4, 10, 30, 100, 200, 300, 400, 800, 900, 1000]}\n",
    "\n",
    "#evaluation function for cross validation(RMSLE score)\n",
    "rmsle_scorer = metrics.make_scorer(rmsle, greater_is_better = False)\n",
    "#gridsearch(with Ridge) object\n",
    "gridsearch_ridge_model = GridSearchCV(estimator = ridge_model,\n",
    "                                     param_grid = ridge_params,\n",
    "                                     scoring=rmsle_scorer, \n",
    "                                     cv=5) #fold number of cross validation\n",
    "\n",
    "#fit by gridsearch\n",
    "log_y = np.log(y) #log of target\n",
    "gridsearch_ridge_model.fit(X_train, log_y) #fit (gridsearch)"
   ]
  },
  {
   "cell_type": "code",
   "execution_count": 46,
   "id": "171b5807",
   "metadata": {
    "execution": {
     "iopub.execute_input": "2022-07-21T09:33:40.555885Z",
     "iopub.status.busy": "2022-07-21T09:33:40.555385Z",
     "iopub.status.idle": "2022-07-21T09:33:40.561318Z",
     "shell.execute_reply": "2022-07-21T09:33:40.560212Z"
    },
    "papermill": {
     "duration": 0.068052,
     "end_time": "2022-07-21T09:33:40.564098",
     "exception": false,
     "start_time": "2022-07-21T09:33:40.496046",
     "status": "completed"
    },
    "tags": []
   },
   "outputs": [
    {
     "name": "stdout",
     "output_type": "stream",
     "text": [
      "optimized hyperparameter : {'alpha': 0.1, 'max_iter': 3000}\n"
     ]
    }
   ],
   "source": [
    "print('optimized hyperparameter :', gridsearch_ridge_model.best_params_)"
   ]
  },
  {
   "cell_type": "markdown",
   "id": "8d7286f1",
   "metadata": {
    "papermill": {
     "duration": 0.036723,
     "end_time": "2022-07-21T09:33:40.639066",
     "exception": false,
     "start_time": "2022-07-21T09:33:40.602343",
     "status": "completed"
    },
    "tags": []
   },
   "source": [
    "### 3.1.2. performance check"
   ]
  },
  {
   "cell_type": "code",
   "execution_count": 47,
   "id": "4606c202",
   "metadata": {
    "execution": {
     "iopub.execute_input": "2022-07-21T09:33:40.715641Z",
     "iopub.status.busy": "2022-07-21T09:33:40.714969Z",
     "iopub.status.idle": "2022-07-21T09:33:40.744767Z",
     "shell.execute_reply": "2022-07-21T09:33:40.743510Z"
    },
    "papermill": {
     "duration": 0.072733,
     "end_time": "2022-07-21T09:33:40.748546",
     "exception": false,
     "start_time": "2022-07-21T09:33:40.675813",
     "status": "completed"
    },
    "tags": []
   },
   "outputs": [
    {
     "name": "stdout",
     "output_type": "stream",
     "text": [
      "ridge regression RMSLE score : 1.0205\n"
     ]
    }
   ],
   "source": [
    "#prediction\n",
    "preds = gridsearch_ridge_model.best_estimator_.predict(X_train)\n",
    "#GridSearchCV.best_estimator_ returns the model object with optimized hyperparameter\n",
    "\n",
    "\n",
    "#evaluation\n",
    "print(f'ridge regression RMSLE score : {rmsle(log_y, preds, True):.4f}')"
   ]
  },
  {
   "cell_type": "code",
   "execution_count": 48,
   "id": "0ba107c8",
   "metadata": {
    "execution": {
     "iopub.execute_input": "2022-07-21T09:33:40.875591Z",
     "iopub.status.busy": "2022-07-21T09:33:40.875210Z",
     "iopub.status.idle": "2022-07-21T09:33:40.904027Z",
     "shell.execute_reply": "2022-07-21T09:33:40.902787Z"
    },
    "papermill": {
     "duration": 0.086631,
     "end_time": "2022-07-21T09:33:40.907245",
     "exception": false,
     "start_time": "2022-07-21T09:33:40.820614",
     "status": "completed"
    },
    "tags": []
   },
   "outputs": [
    {
     "data": {
      "text/plain": [
       "Ridge(alpha=0.1, max_iter=3000)"
      ]
     },
     "execution_count": 48,
     "metadata": {},
     "output_type": "execute_result"
    }
   ],
   "source": [
    "ridge_model_opt=Ridge(alpha=0.1, max_iter=3000)\n",
    "log_y = np.log(y) #log of target values\n",
    "ridge_model_opt.fit(X_train, log_y)\n",
    "\n"
   ]
  },
  {
   "cell_type": "markdown",
   "id": "880d3043",
   "metadata": {
    "papermill": {
     "duration": 0.055537,
     "end_time": "2022-07-21T09:33:41.032764",
     "exception": false,
     "start_time": "2022-07-21T09:33:40.977227",
     "status": "completed"
    },
    "tags": []
   },
   "source": [
    "# 3.2. 성능 개선2. 라쏘 회귀 모델\n",
    "## 3.2.1. 하이퍼 파라미터 최적화(모델 훈련)"
   ]
  },
  {
   "cell_type": "code",
   "execution_count": 49,
   "id": "ceb3b851",
   "metadata": {
    "execution": {
     "iopub.execute_input": "2022-07-21T09:33:41.108586Z",
     "iopub.status.busy": "2022-07-21T09:33:41.108173Z",
     "iopub.status.idle": "2022-07-21T09:33:47.482098Z",
     "shell.execute_reply": "2022-07-21T09:33:47.480898Z"
    },
    "papermill": {
     "duration": 6.418601,
     "end_time": "2022-07-21T09:33:47.488516",
     "exception": false,
     "start_time": "2022-07-21T09:33:41.069915",
     "status": "completed"
    },
    "tags": []
   },
   "outputs": [
    {
     "name": "stdout",
     "output_type": "stream",
     "text": [
      "optimized hyperparams are : {'alpha': 0.00125, 'max_iter': 3000}\n"
     ]
    }
   ],
   "source": [
    "from sklearn.linear_model import Lasso\n",
    "#assign model\n",
    "lasso_model = Lasso()\n",
    "#list of hyper parameters\n",
    "lasso_alpha = 1/np.array([0.1, 1, 2, 3, 4, 10, 30, 100, 200, 300, 400, 800, 900, 1000])\n",
    "lasso_params = {'max_iter':[3000], 'alpha':lasso_alpha}\n",
    "\n",
    "#initialize gridsearch obeject\n",
    "gridsearch_lasso_model = GridSearchCV(estimator = lasso_model,\n",
    "                                     param_grid=lasso_params,\n",
    "                                     scoring=rmsle_scorer,\n",
    "                                     cv=5)\n",
    "\n",
    "#grid search\n",
    "log_y = np.log(y)\n",
    "gridsearch_lasso_model.fit(X_train, log_y)\n",
    "print('optimized hyperparams are :', gridsearch_lasso_model.best_params_)"
   ]
  },
  {
   "cell_type": "markdown",
   "id": "7bbea3eb",
   "metadata": {
    "papermill": {
     "duration": 0.052001,
     "end_time": "2022-07-21T09:33:47.646736",
     "exception": false,
     "start_time": "2022-07-21T09:33:47.594735",
     "status": "completed"
    },
    "tags": []
   },
   "source": [
    "## 3.2.2. 성능 검증"
   ]
  },
  {
   "cell_type": "code",
   "execution_count": 50,
   "id": "02caab5b",
   "metadata": {
    "execution": {
     "iopub.execute_input": "2022-07-21T09:33:47.724201Z",
     "iopub.status.busy": "2022-07-21T09:33:47.723387Z",
     "iopub.status.idle": "2022-07-21T09:33:47.755737Z",
     "shell.execute_reply": "2022-07-21T09:33:47.752582Z"
    },
    "papermill": {
     "duration": 0.076103,
     "end_time": "2022-07-21T09:33:47.760190",
     "exception": false,
     "start_time": "2022-07-21T09:33:47.684087",
     "status": "completed"
    },
    "tags": []
   },
   "outputs": [
    {
     "name": "stdout",
     "output_type": "stream",
     "text": [
      "Lasso regression RMSLE score:1.0205\n"
     ]
    }
   ],
   "source": [
    "preds = gridsearch_lasso_model.best_estimator_.predict(X_train)\n",
    "print(f'Lasso regression RMSLE score:{rmsle(log_y, preds, True):.4f}')"
   ]
  },
  {
   "cell_type": "markdown",
   "id": "d9199706",
   "metadata": {
    "papermill": {
     "duration": 0.050966,
     "end_time": "2022-07-21T09:33:47.898583",
     "exception": false,
     "start_time": "2022-07-21T09:33:47.847617",
     "status": "completed"
    },
    "tags": []
   },
   "source": [
    "# 3.3. 성능 개선3 : 랜덤 포레스트 회귀 모델\n",
    "## 3.3.1. hyper parameter 최적화 (모델 훈련)"
   ]
  },
  {
   "cell_type": "code",
   "execution_count": 51,
   "id": "fc36fa12",
   "metadata": {
    "execution": {
     "iopub.execute_input": "2022-07-21T09:33:47.979974Z",
     "iopub.status.busy": "2022-07-21T09:33:47.979267Z",
     "iopub.status.idle": "2022-07-21T09:34:37.506605Z",
     "shell.execute_reply": "2022-07-21T09:34:37.505448Z"
    },
    "papermill": {
     "duration": 49.607282,
     "end_time": "2022-07-21T09:34:37.546165",
     "exception": false,
     "start_time": "2022-07-21T09:33:47.938883",
     "status": "completed"
    },
    "tags": []
   },
   "outputs": [
    {
     "name": "stdout",
     "output_type": "stream",
     "text": [
      "optimized hyperparameter : {'n_estimators': 140, 'random_state': 42}\n"
     ]
    }
   ],
   "source": [
    "from sklearn.ensemble import RandomForestRegressor\n",
    "\n",
    "#assign model\n",
    "randomforest_model = RandomForestRegressor()\n",
    "\n",
    "#initialize gridsearch object\n",
    "rf_params={'random_state':[42], \n",
    "          'n_estimators':[100,120,140]}\n",
    "gridsearch_random_forest_model = GridSearchCV(estimator=randomforest_model,\n",
    "                                             param_grid=rf_params,\n",
    "                                             scoring=rmsle_scorer,\n",
    "                                             cv=5)\n",
    "\n",
    "#grid search\n",
    "log_y = np.log(y)\n",
    "gridsearch_random_forest_model.fit(X_train, log_y)\n",
    "print('optimized hyperparameter :', gridsearch_random_forest_model.best_params_)"
   ]
  },
  {
   "cell_type": "markdown",
   "id": "d4b48d58",
   "metadata": {
    "papermill": {
     "duration": 0.037302,
     "end_time": "2022-07-21T09:34:37.621396",
     "exception": false,
     "start_time": "2022-07-21T09:34:37.584094",
     "status": "completed"
    },
    "tags": []
   },
   "source": [
    "## 3.3.2. 모델 성능 검증"
   ]
  },
  {
   "cell_type": "code",
   "execution_count": 52,
   "id": "17f69999",
   "metadata": {
    "execution": {
     "iopub.execute_input": "2022-07-21T09:34:37.698883Z",
     "iopub.status.busy": "2022-07-21T09:34:37.698431Z",
     "iopub.status.idle": "2022-07-21T09:34:38.021034Z",
     "shell.execute_reply": "2022-07-21T09:34:38.020229Z"
    },
    "papermill": {
     "duration": 0.364052,
     "end_time": "2022-07-21T09:34:38.023289",
     "exception": false,
     "start_time": "2022-07-21T09:34:37.659237",
     "status": "completed"
    },
    "tags": []
   },
   "outputs": [
    {
     "name": "stdout",
     "output_type": "stream",
     "text": [
      "random forest regressor RMSLE score : 0.1127\n"
     ]
    }
   ],
   "source": [
    "#prediction\n",
    "preds = gridsearch_random_forest_model.best_estimator_.predict(X_train)\n",
    "\n",
    "#scoring\n",
    "print(f'random forest regressor RMSLE score : {rmsle(log_y, preds, True):.4f}')"
   ]
  },
  {
   "cell_type": "markdown",
   "id": "15fc4fcb",
   "metadata": {
    "papermill": {
     "duration": 0.038548,
     "end_time": "2022-07-21T09:34:38.100059",
     "exception": false,
     "start_time": "2022-07-21T09:34:38.061511",
     "status": "completed"
    },
    "tags": []
   },
   "source": [
    "## 3.3.3. 예측 및 결과 제출\n",
    "두 번의 시도와는 다르게, random forest regressor에 대한 hyper parameter 최적화는 RMSLE 스코어를 크게 개선시켰습니다. 필사하는 입장에선 여기가 두 번째 베이스라인이라고 할 수 있겠네요."
   ]
  },
  {
   "cell_type": "code",
   "execution_count": 53,
   "id": "246804bc",
   "metadata": {
    "execution": {
     "iopub.execute_input": "2022-07-21T09:34:38.177164Z",
     "iopub.status.busy": "2022-07-21T09:34:38.176310Z",
     "iopub.status.idle": "2022-07-21T09:34:38.847615Z",
     "shell.execute_reply": "2022-07-21T09:34:38.846889Z"
    },
    "papermill": {
     "duration": 0.712366,
     "end_time": "2022-07-21T09:34:38.849828",
     "exception": false,
     "start_time": "2022-07-21T09:34:38.137462",
     "status": "completed"
    },
    "tags": []
   },
   "outputs": [
    {
     "data": {
      "text/plain": [
       "Text(0.5, 1.0, 'Predicted Test Data Distribution')"
      ]
     },
     "execution_count": 53,
     "metadata": {},
     "output_type": "execute_result"
    },
    {
     "data": {
      "image/png": "[encoded data removed]",
      "text/plain": [
       "<Figure size 720x288 with 2 Axes>"
      ]
     },
     "metadata": {
      "needs_background": "light"
     },
     "output_type": "display_data"
    }
   ],
   "source": [
    "import seaborn as sns\n",
    "import matplotlib.pyplot as plt\n",
    "\n",
    "randomforest_preds=gridsearch_random_forest_model.best_estimator_.predict(X_test)\n",
    "figure, ax=plt.subplots(1,2)\n",
    "figure.set_size_inches(10,4)\n",
    "\n",
    "sns.histplot(y, bins=50, ax=ax[0])\n",
    "ax[0].set_title('Train Data Distribution')\n",
    "sns.histplot(np.exp(randomforest_preds), bins=50, ax=ax[1])\n",
    "ax[1].set_title('Predicted Test Data Distribution')\n"
   ]
  },
  {
   "cell_type": "code",
   "execution_count": 54,
   "id": "d7bd9cfd",
   "metadata": {
    "execution": {
     "iopub.execute_input": "2022-07-21T09:34:38.929044Z",
     "iopub.status.busy": "2022-07-21T09:34:38.928447Z",
     "iopub.status.idle": "2022-07-21T09:34:38.960015Z",
     "shell.execute_reply": "2022-07-21T09:34:38.958970Z"
    },
    "papermill": {
     "duration": 0.074133,
     "end_time": "2022-07-21T09:34:38.962403",
     "exception": false,
     "start_time": "2022-07-21T09:34:38.888270",
     "status": "completed"
    },
    "tags": []
   },
   "outputs": [],
   "source": [
    "submission['count']=np.exp(randomforest_preds)\n",
    "submission.to_csv('second_baseline.csv',index=False)"
   ]
  },
  {
   "cell_type": "markdown",
   "id": "193f02e6",
   "metadata": {
    "papermill": {
     "duration": 0.037972,
     "end_time": "2022-07-21T09:34:39.038166",
     "exception": false,
     "start_time": "2022-07-21T09:34:39.000194",
     "status": "completed"
    },
    "tags": []
   },
   "source": [
    "# 4. Challenge\n",
    "## 4.1. expand grid of gridsearch\n",
    "Random Forest Regressor 를 사용했을 때 효과가 좋았는데요, grid를 좀 넓혀보겠습니다."
   ]
  },
  {
   "cell_type": "code",
   "execution_count": 55,
   "id": "4f29b7ff",
   "metadata": {
    "execution": {
     "iopub.execute_input": "2022-07-21T09:34:39.117213Z",
     "iopub.status.busy": "2022-07-21T09:34:39.116493Z",
     "iopub.status.idle": "2022-07-21T09:34:39.121756Z",
     "shell.execute_reply": "2022-07-21T09:34:39.120995Z"
    },
    "papermill": {
     "duration": 0.047262,
     "end_time": "2022-07-21T09:34:39.123999",
     "exception": false,
     "start_time": "2022-07-21T09:34:39.076737",
     "status": "completed"
    },
    "tags": []
   },
   "outputs": [],
   "source": [
    "import numpy as np\n",
    "import seaborn as sns\n",
    "import matplotlib.pyplot as plt\n",
    "from sklearn.linear_model import Ridge\n",
    "from sklearn.model_selection import GridSearchCV\n",
    "from sklearn import metrics\n",
    "import pandas as pd\n",
    "from datetime import datetime\n",
    "\n",
    "\n"
   ]
  },
  {
   "cell_type": "markdown",
   "id": "d87a6806",
   "metadata": {
    "papermill": {
     "duration": 0.038108,
     "end_time": "2022-07-21T09:34:39.200515",
     "exception": false,
     "start_time": "2022-07-21T09:34:39.162407",
     "status": "completed"
    },
    "tags": []
   },
   "source": []
  },
  {
   "cell_type": "markdown",
   "id": "643745d5",
   "metadata": {
    "papermill": {
     "duration": 0.037873,
     "end_time": "2022-07-21T09:34:39.276516",
     "exception": false,
     "start_time": "2022-07-21T09:34:39.238643",
     "status": "completed"
    },
    "tags": []
   },
   "source": [
    "from sklearn.ensemble import RandomForestRegressor\n",
    "\n",
    "#assign model\n",
    "randomforest_model = RandomForestRegressor()\n",
    "\n",
    "#initialize gridsearch object\n",
    "rf_params={'random_state':[42], \n",
    "          'n_estimators':[80, 160, 240]}\n",
    "gridsearch_random_forest_model = GridSearchCV(estimator=randomforest_model,\n",
    "                                             param_grid=rf_params,\n",
    "                                             scoring=rmsle_scorer,\n",
    "                                             cv=5)\n",
    "\n",
    "#grid search\n",
    "log_y = np.log(y)\n",
    "gridsearch_random_forest_model.fit(X_train, log_y)\n",
    "print('optimized hyperparameter :', gridsearch_random_forest_model.best_params_)\n",
    "#prediction\n",
    "preds = gridsearch_random_forest_model.best_estimator_.predict(X_train)\n",
    "\n",
    "#scoring\n",
    "print(f'random forest regressor RMSLE score : {rmsle(log_y, preds, True):.4f}')"
   ]
  },
  {
   "cell_type": "markdown",
   "id": "5f68c170",
   "metadata": {
    "papermill": {
     "duration": 0.038113,
     "end_time": "2022-07-21T09:34:39.352974",
     "exception": false,
     "start_time": "2022-07-21T09:34:39.314861",
     "status": "completed"
    },
    "tags": []
   },
   "source": [
    "### 결과 평가\n",
    "\n",
    "간단히 random forest model의 estimator 숫자를 늘려보았습니다만 160 에서 0.1124로 이전의 0.1127과 거의 같은 결과가 나왔으며, 240개에서 결과를 제치고 160개일 때가 더 좋은 결과를 낸 것을 볼때 140 정도에서 n_estimator에 대한 최적화는 끝난 것 같습니다. 다른 것을 바꿔보는게 좋겠습니다.\n",
    "\n",
    "## 지금까지 했던 것들 다시 살펴보기\n",
    "### drop\n",
    "- month와 windspeed는 drop되었습니다. windspeed는 heatmap의 결과를 보고 drop하기로 결정된 것일까요? month는 season으로 통합됐다고 볼 수 있겠습니다.\n",
    "- year의 경우 두 개의 값밖에 없습니다. 이것을 가지고 크게 벗어난 다른 시간대에 대해 예측한다는 것은 위험할 수도 있습니다. test데이터에서 year를 살펴보면 좋겠는데 같은 값만 있으니 더 생각 안해도 되겠습니다."
   ]
  },
  {
   "cell_type": "markdown",
   "id": "7f1ddf0f",
   "metadata": {
    "papermill": {
     "duration": 0.038796,
     "end_time": "2022-07-21T09:34:39.430560",
     "exception": false,
     "start_time": "2022-07-21T09:34:39.391764",
     "status": "completed"
    },
    "tags": []
   },
   "source": [
    "## one-hot encoding을 해 볼 column"
   ]
  },
  {
   "cell_type": "code",
   "execution_count": 56,
   "id": "3da5c582",
   "metadata": {
    "execution": {
     "iopub.execute_input": "2022-07-21T09:34:39.508234Z",
     "iopub.status.busy": "2022-07-21T09:34:39.507532Z",
     "iopub.status.idle": "2022-07-21T09:34:39.520956Z",
     "shell.execute_reply": "2022-07-21T09:34:39.520189Z"
    },
    "papermill": {
     "duration": 0.054491,
     "end_time": "2022-07-21T09:34:39.522888",
     "exception": false,
     "start_time": "2022-07-21T09:34:39.468397",
     "status": "completed"
    },
    "tags": []
   },
   "outputs": [
    {
     "data": {
      "text/html": [
       "<div>\n",
       "<style scoped>\n",
       "    .dataframe tbody tr th:only-of-type {\n",
       "        vertical-align: middle;\n",
       "    }\n",
       "\n",
       "    .dataframe tbody tr th {\n",
       "        vertical-align: top;\n",
       "    }\n",
       "\n",
       "    .dataframe thead th {\n",
       "        text-align: right;\n",
       "    }\n",
       "</style>\n",
       "<table border=\"1\" class=\"dataframe\">\n",
       "  <thead>\n",
       "    <tr style=\"text-align: right;\">\n",
       "      <th></th>\n",
       "      <th>season</th>\n",
       "      <th>holiday</th>\n",
       "      <th>workingday</th>\n",
       "      <th>weather</th>\n",
       "      <th>temp</th>\n",
       "      <th>atemp</th>\n",
       "      <th>humidity</th>\n",
       "      <th>year</th>\n",
       "      <th>hour</th>\n",
       "      <th>weekday</th>\n",
       "    </tr>\n",
       "  </thead>\n",
       "  <tbody>\n",
       "    <tr>\n",
       "      <th>0</th>\n",
       "      <td>1</td>\n",
       "      <td>0</td>\n",
       "      <td>0</td>\n",
       "      <td>1</td>\n",
       "      <td>9.84</td>\n",
       "      <td>14.395</td>\n",
       "      <td>81</td>\n",
       "      <td>2011</td>\n",
       "      <td>00</td>\n",
       "      <td>5</td>\n",
       "    </tr>\n",
       "    <tr>\n",
       "      <th>1</th>\n",
       "      <td>1</td>\n",
       "      <td>0</td>\n",
       "      <td>0</td>\n",
       "      <td>1</td>\n",
       "      <td>9.02</td>\n",
       "      <td>13.635</td>\n",
       "      <td>80</td>\n",
       "      <td>2011</td>\n",
       "      <td>01</td>\n",
       "      <td>5</td>\n",
       "    </tr>\n",
       "    <tr>\n",
       "      <th>2</th>\n",
       "      <td>1</td>\n",
       "      <td>0</td>\n",
       "      <td>0</td>\n",
       "      <td>1</td>\n",
       "      <td>9.02</td>\n",
       "      <td>13.635</td>\n",
       "      <td>80</td>\n",
       "      <td>2011</td>\n",
       "      <td>02</td>\n",
       "      <td>5</td>\n",
       "    </tr>\n",
       "    <tr>\n",
       "      <th>3</th>\n",
       "      <td>1</td>\n",
       "      <td>0</td>\n",
       "      <td>0</td>\n",
       "      <td>1</td>\n",
       "      <td>9.84</td>\n",
       "      <td>14.395</td>\n",
       "      <td>75</td>\n",
       "      <td>2011</td>\n",
       "      <td>03</td>\n",
       "      <td>5</td>\n",
       "    </tr>\n",
       "    <tr>\n",
       "      <th>4</th>\n",
       "      <td>1</td>\n",
       "      <td>0</td>\n",
       "      <td>0</td>\n",
       "      <td>1</td>\n",
       "      <td>9.84</td>\n",
       "      <td>14.395</td>\n",
       "      <td>75</td>\n",
       "      <td>2011</td>\n",
       "      <td>04</td>\n",
       "      <td>5</td>\n",
       "    </tr>\n",
       "  </tbody>\n",
       "</table>\n",
       "</div>"
      ],
      "text/plain": [
       "   season  holiday  workingday  weather  temp   atemp  humidity  year hour  \\\n",
       "0       1        0           0        1  9.84  14.395        81  2011   00   \n",
       "1       1        0           0        1  9.02  13.635        80  2011   01   \n",
       "2       1        0           0        1  9.02  13.635        80  2011   02   \n",
       "3       1        0           0        1  9.84  14.395        75  2011   03   \n",
       "4       1        0           0        1  9.84  14.395        75  2011   04   \n",
       "\n",
       "   weekday  \n",
       "0        5  \n",
       "1        5  \n",
       "2        5  \n",
       "3        5  \n",
       "4        5  "
      ]
     },
     "execution_count": 56,
     "metadata": {},
     "output_type": "execute_result"
    }
   ],
   "source": [
    "X_train.head()\n"
   ]
  },
  {
   "cell_type": "markdown",
   "id": "67b8becb",
   "metadata": {
    "papermill": {
     "duration": 0.03809,
     "end_time": "2022-07-21T09:34:39.599955",
     "exception": false,
     "start_time": "2022-07-21T09:34:39.561865",
     "status": "completed"
    },
    "tags": []
   },
   "source": [
    "- weekday의 경우 one-hot encoding을 해 보면 괜찮을 것 같습니다. 수요일이 월요일과 금요일의 중간이라고 할 수도 있지만 유니크한 속성이라고 할 수도 있겠죠\n",
    "\n",
    "- year, hour, season, weather의 경우도 one-hot encoding을 해 볼 가치는 있겠습니다."
   ]
  },
  {
   "cell_type": "code",
   "execution_count": 57,
   "id": "f568c842",
   "metadata": {
    "execution": {
     "iopub.execute_input": "2022-07-21T09:34:39.678032Z",
     "iopub.status.busy": "2022-07-21T09:34:39.677318Z",
     "iopub.status.idle": "2022-07-21T09:34:39.684322Z",
     "shell.execute_reply": "2022-07-21T09:34:39.683576Z"
    },
    "papermill": {
     "duration": 0.04822,
     "end_time": "2022-07-21T09:34:39.686284",
     "exception": false,
     "start_time": "2022-07-21T09:34:39.638064",
     "status": "completed"
    },
    "tags": []
   },
   "outputs": [
    {
     "name": "stdout",
     "output_type": "stream",
     "text": [
      "['2011' '2012'] ['2011' '2012']\n"
     ]
    }
   ],
   "source": [
    "print(X_test['year'].unique(), X_train['year'].unique())"
   ]
  },
  {
   "cell_type": "code",
   "execution_count": 58,
   "id": "927a5f86",
   "metadata": {
    "execution": {
     "iopub.execute_input": "2022-07-21T09:34:39.766799Z",
     "iopub.status.busy": "2022-07-21T09:34:39.766014Z",
     "iopub.status.idle": "2022-07-21T09:34:39.784827Z",
     "shell.execute_reply": "2022-07-21T09:34:39.783717Z"
    },
    "papermill": {
     "duration": 0.062597,
     "end_time": "2022-07-21T09:34:39.787521",
     "exception": false,
     "start_time": "2022-07-21T09:34:39.724924",
     "status": "completed"
    },
    "tags": []
   },
   "outputs": [],
   "source": [
    "#X_train = pd.get_dummies(X_train, columns=['year', 'hour', 'weather', 'weekday'])\n",
    "#X_test=pd.get_dummies(X_test, columns=['year', 'hour', 'weather', 'weekday'])\n",
    "X_train = pd.get_dummies(X_train, columns=['year', 'weather', 'weekday'])\n",
    "X_test=pd.get_dummies(X_test, columns=['year', 'weather', 'weekday'])"
   ]
  },
  {
   "cell_type": "code",
   "execution_count": 59,
   "id": "e1a82e65",
   "metadata": {
    "execution": {
     "iopub.execute_input": "2022-07-21T09:34:39.866235Z",
     "iopub.status.busy": "2022-07-21T09:34:39.865879Z",
     "iopub.status.idle": "2022-07-21T09:34:39.869954Z",
     "shell.execute_reply": "2022-07-21T09:34:39.868751Z"
    },
    "papermill": {
     "duration": 0.046066,
     "end_time": "2022-07-21T09:34:39.872193",
     "exception": false,
     "start_time": "2022-07-21T09:34:39.826127",
     "status": "completed"
    },
    "tags": []
   },
   "outputs": [],
   "source": [
    "#X_train.drop(['year', 'hour','weather','weekday'], axis=1)\n",
    "#X_test.drop(['year', 'hour','weather','weekday'], axis=1)"
   ]
  },
  {
   "cell_type": "code",
   "execution_count": 60,
   "id": "0b81879f",
   "metadata": {
    "execution": {
     "iopub.execute_input": "2022-07-21T09:34:39.952143Z",
     "iopub.status.busy": "2022-07-21T09:34:39.951141Z",
     "iopub.status.idle": "2022-07-21T09:34:39.958496Z",
     "shell.execute_reply": "2022-07-21T09:34:39.957742Z"
    },
    "papermill": {
     "duration": 0.049574,
     "end_time": "2022-07-21T09:34:39.960492",
     "exception": false,
     "start_time": "2022-07-21T09:34:39.910918",
     "status": "completed"
    },
    "tags": []
   },
   "outputs": [
    {
     "data": {
      "text/plain": [
       "Index(['season', 'holiday', 'workingday', 'temp', 'atemp', 'humidity', 'hour',\n",
       "       'year_2011', 'year_2012', 'weather_1', 'weather_2', 'weather_3',\n",
       "       'weekday_0', 'weekday_1', 'weekday_2', 'weekday_3', 'weekday_4',\n",
       "       'weekday_5', 'weekday_6'],\n",
       "      dtype='object')"
      ]
     },
     "execution_count": 60,
     "metadata": {},
     "output_type": "execute_result"
    }
   ],
   "source": [
    "X_train.columns"
   ]
  },
  {
   "cell_type": "code",
   "execution_count": 61,
   "id": "8603ab21",
   "metadata": {
    "execution": {
     "iopub.execute_input": "2022-07-21T09:34:40.039196Z",
     "iopub.status.busy": "2022-07-21T09:34:40.038777Z",
     "iopub.status.idle": "2022-07-21T09:34:40.052180Z",
     "shell.execute_reply": "2022-07-21T09:34:40.051127Z"
    },
    "papermill": {
     "duration": 0.055612,
     "end_time": "2022-07-21T09:34:40.054784",
     "exception": false,
     "start_time": "2022-07-21T09:34:39.999172",
     "status": "completed"
    },
    "tags": []
   },
   "outputs": [],
   "source": [
    "X_train=pd.get_dummies(X_train, columns=['season'])\n",
    "X_test=pd.get_dummies(X_test, columns=['season'])\n"
   ]
  },
  {
   "cell_type": "code",
   "execution_count": 62,
   "id": "9a082968",
   "metadata": {
    "execution": {
     "iopub.execute_input": "2022-07-21T09:34:40.133614Z",
     "iopub.status.busy": "2022-07-21T09:34:40.133262Z",
     "iopub.status.idle": "2022-07-21T09:34:40.152012Z",
     "shell.execute_reply": "2022-07-21T09:34:40.151233Z"
    },
    "papermill": {
     "duration": 0.060543,
     "end_time": "2022-07-21T09:34:40.153980",
     "exception": false,
     "start_time": "2022-07-21T09:34:40.093437",
     "status": "completed"
    },
    "tags": []
   },
   "outputs": [
    {
     "data": {
      "text/html": [
       "<div>\n",
       "<style scoped>\n",
       "    .dataframe tbody tr th:only-of-type {\n",
       "        vertical-align: middle;\n",
       "    }\n",
       "\n",
       "    .dataframe tbody tr th {\n",
       "        vertical-align: top;\n",
       "    }\n",
       "\n",
       "    .dataframe thead th {\n",
       "        text-align: right;\n",
       "    }\n",
       "</style>\n",
       "<table border=\"1\" class=\"dataframe\">\n",
       "  <thead>\n",
       "    <tr style=\"text-align: right;\">\n",
       "      <th></th>\n",
       "      <th>holiday</th>\n",
       "      <th>workingday</th>\n",
       "      <th>temp</th>\n",
       "      <th>atemp</th>\n",
       "      <th>humidity</th>\n",
       "      <th>hour</th>\n",
       "      <th>year_2011</th>\n",
       "      <th>year_2012</th>\n",
       "      <th>weather_1</th>\n",
       "      <th>weather_2</th>\n",
       "      <th>...</th>\n",
       "      <th>weekday_1</th>\n",
       "      <th>weekday_2</th>\n",
       "      <th>weekday_3</th>\n",
       "      <th>weekday_4</th>\n",
       "      <th>weekday_5</th>\n",
       "      <th>weekday_6</th>\n",
       "      <th>season_1</th>\n",
       "      <th>season_2</th>\n",
       "      <th>season_3</th>\n",
       "      <th>season_4</th>\n",
       "    </tr>\n",
       "  </thead>\n",
       "  <tbody>\n",
       "    <tr>\n",
       "      <th>0</th>\n",
       "      <td>0</td>\n",
       "      <td>0</td>\n",
       "      <td>9.84</td>\n",
       "      <td>14.395</td>\n",
       "      <td>81</td>\n",
       "      <td>00</td>\n",
       "      <td>1</td>\n",
       "      <td>0</td>\n",
       "      <td>1</td>\n",
       "      <td>0</td>\n",
       "      <td>...</td>\n",
       "      <td>0</td>\n",
       "      <td>0</td>\n",
       "      <td>0</td>\n",
       "      <td>0</td>\n",
       "      <td>1</td>\n",
       "      <td>0</td>\n",
       "      <td>1</td>\n",
       "      <td>0</td>\n",
       "      <td>0</td>\n",
       "      <td>0</td>\n",
       "    </tr>\n",
       "    <tr>\n",
       "      <th>1</th>\n",
       "      <td>0</td>\n",
       "      <td>0</td>\n",
       "      <td>9.02</td>\n",
       "      <td>13.635</td>\n",
       "      <td>80</td>\n",
       "      <td>01</td>\n",
       "      <td>1</td>\n",
       "      <td>0</td>\n",
       "      <td>1</td>\n",
       "      <td>0</td>\n",
       "      <td>...</td>\n",
       "      <td>0</td>\n",
       "      <td>0</td>\n",
       "      <td>0</td>\n",
       "      <td>0</td>\n",
       "      <td>1</td>\n",
       "      <td>0</td>\n",
       "      <td>1</td>\n",
       "      <td>0</td>\n",
       "      <td>0</td>\n",
       "      <td>0</td>\n",
       "    </tr>\n",
       "    <tr>\n",
       "      <th>2</th>\n",
       "      <td>0</td>\n",
       "      <td>0</td>\n",
       "      <td>9.02</td>\n",
       "      <td>13.635</td>\n",
       "      <td>80</td>\n",
       "      <td>02</td>\n",
       "      <td>1</td>\n",
       "      <td>0</td>\n",
       "      <td>1</td>\n",
       "      <td>0</td>\n",
       "      <td>...</td>\n",
       "      <td>0</td>\n",
       "      <td>0</td>\n",
       "      <td>0</td>\n",
       "      <td>0</td>\n",
       "      <td>1</td>\n",
       "      <td>0</td>\n",
       "      <td>1</td>\n",
       "      <td>0</td>\n",
       "      <td>0</td>\n",
       "      <td>0</td>\n",
       "    </tr>\n",
       "    <tr>\n",
       "      <th>3</th>\n",
       "      <td>0</td>\n",
       "      <td>0</td>\n",
       "      <td>9.84</td>\n",
       "      <td>14.395</td>\n",
       "      <td>75</td>\n",
       "      <td>03</td>\n",
       "      <td>1</td>\n",
       "      <td>0</td>\n",
       "      <td>1</td>\n",
       "      <td>0</td>\n",
       "      <td>...</td>\n",
       "      <td>0</td>\n",
       "      <td>0</td>\n",
       "      <td>0</td>\n",
       "      <td>0</td>\n",
       "      <td>1</td>\n",
       "      <td>0</td>\n",
       "      <td>1</td>\n",
       "      <td>0</td>\n",
       "      <td>0</td>\n",
       "      <td>0</td>\n",
       "    </tr>\n",
       "    <tr>\n",
       "      <th>4</th>\n",
       "      <td>0</td>\n",
       "      <td>0</td>\n",
       "      <td>9.84</td>\n",
       "      <td>14.395</td>\n",
       "      <td>75</td>\n",
       "      <td>04</td>\n",
       "      <td>1</td>\n",
       "      <td>0</td>\n",
       "      <td>1</td>\n",
       "      <td>0</td>\n",
       "      <td>...</td>\n",
       "      <td>0</td>\n",
       "      <td>0</td>\n",
       "      <td>0</td>\n",
       "      <td>0</td>\n",
       "      <td>1</td>\n",
       "      <td>0</td>\n",
       "      <td>1</td>\n",
       "      <td>0</td>\n",
       "      <td>0</td>\n",
       "      <td>0</td>\n",
       "    </tr>\n",
       "  </tbody>\n",
       "</table>\n",
       "<p>5 rows × 22 columns</p>\n",
       "</div>"
      ],
      "text/plain": [
       "   holiday  workingday  temp   atemp  humidity hour  year_2011  year_2012  \\\n",
       "0        0           0  9.84  14.395        81   00          1          0   \n",
       "1        0           0  9.02  13.635        80   01          1          0   \n",
       "2        0           0  9.02  13.635        80   02          1          0   \n",
       "3        0           0  9.84  14.395        75   03          1          0   \n",
       "4        0           0  9.84  14.395        75   04          1          0   \n",
       "\n",
       "   weather_1  weather_2  ...  weekday_1  weekday_2  weekday_3  weekday_4  \\\n",
       "0          1          0  ...          0          0          0          0   \n",
       "1          1          0  ...          0          0          0          0   \n",
       "2          1          0  ...          0          0          0          0   \n",
       "3          1          0  ...          0          0          0          0   \n",
       "4          1          0  ...          0          0          0          0   \n",
       "\n",
       "   weekday_5  weekday_6  season_1  season_2  season_3  season_4  \n",
       "0          1          0         1         0         0         0  \n",
       "1          1          0         1         0         0         0  \n",
       "2          1          0         1         0         0         0  \n",
       "3          1          0         1         0         0         0  \n",
       "4          1          0         1         0         0         0  \n",
       "\n",
       "[5 rows x 22 columns]"
      ]
     },
     "execution_count": 62,
     "metadata": {},
     "output_type": "execute_result"
    }
   ],
   "source": [
    "X_train.head()"
   ]
  },
  {
   "cell_type": "code",
   "execution_count": 63,
   "id": "8fd4c33b",
   "metadata": {
    "execution": {
     "iopub.execute_input": "2022-07-21T09:34:40.233686Z",
     "iopub.status.busy": "2022-07-21T09:34:40.233128Z",
     "iopub.status.idle": "2022-07-21T09:34:40.237386Z",
     "shell.execute_reply": "2022-07-21T09:34:40.236402Z"
    },
    "papermill": {
     "duration": 0.046447,
     "end_time": "2022-07-21T09:34:40.239381",
     "exception": false,
     "start_time": "2022-07-21T09:34:40.192934",
     "status": "completed"
    },
    "tags": []
   },
   "outputs": [],
   "source": [
    "from sklearn.ensemble import RandomForestRegressor\n",
    "\n",
    "randomforest_model_manyoh = RandomForestRegressor(n_estimators=500)"
   ]
  },
  {
   "cell_type": "code",
   "execution_count": 64,
   "id": "285ccbdf",
   "metadata": {
    "execution": {
     "iopub.execute_input": "2022-07-21T09:34:40.319513Z",
     "iopub.status.busy": "2022-07-21T09:34:40.318944Z",
     "iopub.status.idle": "2022-07-21T09:35:00.696826Z",
     "shell.execute_reply": "2022-07-21T09:35:00.695542Z"
    },
    "papermill": {
     "duration": 20.421741,
     "end_time": "2022-07-21T09:35:00.700275",
     "exception": false,
     "start_time": "2022-07-21T09:34:40.278534",
     "status": "completed"
    },
    "tags": []
   },
   "outputs": [
    {
     "name": "stdout",
     "output_type": "stream",
     "text": [
      "선형회귀의 RMSLE 값 : 0.1120\n"
     ]
    }
   ],
   "source": [
    "log_y=np.log(y)\n",
    "randomforest_model_manyoh.fit(X_train,log_y)\n",
    "\n",
    "preds = randomforest_model_manyoh.predict(X_train)\n",
    "print(f'선형회귀의 RMSLE 값 : {rmsle(log_y, preds, True):.4f}')#f-string      "
   ]
  },
  {
   "cell_type": "markdown",
   "id": "265194b8",
   "metadata": {
    "papermill": {
     "duration": 0.040181,
     "end_time": "2022-07-21T09:35:00.780265",
     "exception": false,
     "start_time": "2022-07-21T09:35:00.740084",
     "status": "completed"
    },
    "tags": []
   },
   "source": [
    "one - hot encoding을 마구 적용하는 방법은 아무 효과가 없었습니다. 오히려 학습 효율을 떨어뜨린 것인지.... 특히 hour가 너무 많아졌던 것이 아닌가 싶습니다. 이번에는 hour를 빼고 season, year, weekday, weather만 해보니 0.1120으로 아주 조금 나아졌습니다."
   ]
  },
  {
   "cell_type": "code",
   "execution_count": 65,
   "id": "8267ac54",
   "metadata": {
    "execution": {
     "iopub.execute_input": "2022-07-21T09:35:00.859297Z",
     "iopub.status.busy": "2022-07-21T09:35:00.858615Z",
     "iopub.status.idle": "2022-07-21T09:35:01.664484Z",
     "shell.execute_reply": "2022-07-21T09:35:01.663357Z"
    },
    "papermill": {
     "duration": 0.848413,
     "end_time": "2022-07-21T09:35:01.667152",
     "exception": false,
     "start_time": "2022-07-21T09:35:00.818739",
     "status": "completed"
    },
    "tags": []
   },
   "outputs": [],
   "source": [
    "X_test.drop('weather_4', axis=1,inplace=True)\n",
    "predsmy = randomforest_model_manyoh.predict(X_test) #prediction with test data\n",
    "submission['count']=np.exp(predsmy) #take exponential\n",
    "submission.to_csv('predsmy_first.csv',index=False)"
   ]
  },
  {
   "cell_type": "code",
   "execution_count": 66,
   "id": "ed5fd107",
   "metadata": {
    "execution": {
     "iopub.execute_input": "2022-07-21T09:35:01.746477Z",
     "iopub.status.busy": "2022-07-21T09:35:01.746096Z",
     "iopub.status.idle": "2022-07-21T09:35:01.753734Z",
     "shell.execute_reply": "2022-07-21T09:35:01.752682Z"
    },
    "papermill": {
     "duration": 0.049898,
     "end_time": "2022-07-21T09:35:01.755887",
     "exception": false,
     "start_time": "2022-07-21T09:35:01.705989",
     "status": "completed"
    },
    "tags": []
   },
   "outputs": [
    {
     "data": {
      "text/plain": [
       "Index(['holiday', 'workingday', 'temp', 'atemp', 'humidity', 'hour',\n",
       "       'year_2011', 'year_2012', 'weather_1', 'weather_2', 'weather_3',\n",
       "       'weekday_0', 'weekday_1', 'weekday_2', 'weekday_3', 'weekday_4',\n",
       "       'weekday_5', 'weekday_6', 'season_1', 'season_2', 'season_3',\n",
       "       'season_4'],\n",
       "      dtype='object')"
      ]
     },
     "execution_count": 66,
     "metadata": {},
     "output_type": "execute_result"
    }
   ],
   "source": [
    "X_test.columns"
   ]
  },
  {
   "cell_type": "markdown",
   "id": "d4fb92da",
   "metadata": {
    "papermill": {
     "duration": 0.038627,
     "end_time": "2022-07-21T09:35:01.834195",
     "exception": false,
     "start_time": "2022-07-21T09:35:01.795568",
     "status": "completed"
    },
    "tags": []
   },
   "source": [
    "### 제출 결과\n",
    "0.39627으로 점수가 더 떨어졌습니다! overfitting이 된 것일까요? 그런데 너무 작은 차이라 딱히 큰 의미를 부여하지는 않아도 될 것 같습니다. 다음에는 drop해버린 windspeed를 좀 만져서 넣어보고 싶은데 아쉽게도 데드라인이라 할 수가 없네요."
   ]
  },
  {
   "cell_type": "code",
   "execution_count": null,
   "id": "145e60c6",
   "metadata": {
    "papermill": {
     "duration": 0.038732,
     "end_time": "2022-07-21T09:35:01.912412",
     "exception": false,
     "start_time": "2022-07-21T09:35:01.873680",
     "status": "completed"
    },
    "tags": []
   },
   "outputs": [],
   "source": []
  }
 ],
 "metadata": {
  "kernelspec": {
   "display_name": "Python 3",
   "language": "python",
   "name": "python3"
  },
  "language_info": {
   "codemirror_mode": {
    "name": "ipython",
    "version": 3
   },
   "file_extension": ".py",
   "mimetype": "text/x-python",
   "name": "python",
   "nbconvert_exporter": "python",
   "pygments_lexer": "ipython3",
   "version": "3.7.12"
  },
  "papermill": {
   "default_parameters": {},
   "duration": 127.826328,
   "end_time": "2022-07-21T09:35:02.874771",
   "environment_variables": {},
   "exception": null,
   "input_path": "__notebook__.ipynb",
   "output_path": "__notebook__.ipynb",
   "parameters": {},
   "start_time": "2022-07-21T09:32:55.048443",
   "version": "2.3.4"
  }
 },
 "nbformat": 4,
 "nbformat_minor": 5
}
