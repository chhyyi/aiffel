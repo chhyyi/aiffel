{
 "cells": [
  {
   "cell_type": "markdown",
   "id": "48207312",
   "metadata": {
    "papermill": {
     "duration": 0.008402,
     "end_time": "2022-07-14T09:37:13.804915",
     "exception": false,
     "start_time": "2022-07-14T09:37:13.796513",
     "status": "completed"
    },
    "tags": []
   },
   "source": [
    "# Titanic Tutorial Copy2\n",
    "\n",
    "## previously....\n",
    "\n",
    "in the previous notebook, I followed two tutorial written in korean\n",
    "- (titanic tutorial1)https://kaggle-kr.tistory.com/17?category=868316\n",
    "- (titanic tutorial2)https://kaggle-kr.tistory.com/18?category=868316\n",
    "Including part 1 and some of tutorial 2. I've prepared dataset for machine learning.\n",
    "But it is not completed.... I'll continue to copy from 4.4. one-hot encoding."
   ]
  },
  {
   "cell_type": "code",
   "execution_count": 1,
   "id": "4baa38ab",
   "metadata": {
    "execution": {
     "iopub.execute_input": "2022-07-14T09:37:13.821967Z",
     "iopub.status.busy": "2022-07-14T09:37:13.820573Z",
     "iopub.status.idle": "2022-07-14T09:37:14.998662Z",
     "shell.execute_reply": "2022-07-14T09:37:14.997483Z"
    },
    "id": "xwO7NHr-imf0",
    "papermill": {
     "duration": 1.190364,
     "end_time": "2022-07-14T09:37:15.002427",
     "exception": false,
     "start_time": "2022-07-14T09:37:13.812063",
     "status": "completed"
    },
    "tags": []
   },
   "outputs": [
    {
     "name": "stdout",
     "output_type": "stream",
     "text": [
      "     Survived  Pclass  Sex      Fare  Embarked  FamilySize  Initial  Age_cat\n",
      "0           0       3    1  1.981001         2           2        2        2\n",
      "1           1       1    0  4.266662         0           2        3        3\n",
      "2           1       3    0  2.070022         2           1        1        2\n",
      "3           1       1    0  3.972177         2           2        3        3\n",
      "4           0       3    1  2.085672         2           1        2        3\n",
      "..        ...     ...  ...       ...       ...         ...      ...      ...\n",
      "886         0       2    1  2.564949         2           1        2        2\n",
      "887         1       1    0  3.401197         2           1        1        1\n",
      "888         0       3    0  3.154870         2           4        1        2\n",
      "889         1       1    1  3.401197         0           1        2        2\n",
      "890         0       3    1  2.047693         1           1        2        3\n",
      "\n",
      "[891 rows x 8 columns]\n",
      "     Pclass  Sex      Fare  Embarked  FamilySize  Initial  Age_cat\n",
      "0         3    1  2.057860         1           1      2.0      3.0\n",
      "1         3    0  1.945910         2           2      3.0      4.0\n",
      "2         2    1  2.270836         1           1      2.0      6.0\n",
      "3         3    1  2.159003         2           1      2.0      2.0\n",
      "4         3    0  2.508582         2           3      3.0      2.0\n",
      "..      ...  ...       ...       ...         ...      ...      ...\n",
      "413       3    1  2.085672         2           1      2.0      3.0\n",
      "414       1    0  4.690430         0           1      NaN      3.0\n",
      "415       3    1  1.981001         2           1      2.0      3.0\n",
      "416       3    1  2.085672         2           1      2.0      3.0\n",
      "417       3    1  3.107198         0           3      0.0      0.0\n",
      "\n",
      "[418 rows x 7 columns]\n"
     ]
    }
   ],
   "source": [
    "import numpy as np\n",
    "import pandas as pd\n",
    "import matplotlib.pyplot as plt\n",
    "import seaborn as sns\n",
    "\n",
    "plt.style.use('seaborn')\n",
    "sns.set(font_scale=2.5)\n",
    "\n",
    "import missingno as msno\n",
    "\n",
    "%matplotlib inline\n",
    "#Initiallize libraries and matplotlib.pyplot style like previous notebook (titanic_tutorial_copy1)\n",
    "\n",
    "#let's check out dataframe before we start....\n",
    "df_train=pd.read_csv('../input/titanic-tutorical-copy1to2/df_train1.csv')\n",
    "df_test=pd.read_csv('../input/titanic-tutorical-copy1to2/df_test1.csv')\n",
    "\n",
    "print(df_train)\n",
    "print(df_test)"
   ]
  },
  {
   "cell_type": "markdown",
   "id": "5d1b6da3",
   "metadata": {
    "papermill": {
     "duration": 0.006456,
     "end_time": "2022-07-14T09:37:15.016291",
     "exception": false,
     "start_time": "2022-07-14T09:37:15.009835",
     "status": "completed"
    },
    "tags": []
   },
   "source": [
    "They have corresponding 7 columns and train set has 'survived' column, as I expected.  Unfortunately, there is NaN value found. Why does it happened? \n",
    "\n"
   ]
  },
  {
   "cell_type": "code",
   "execution_count": 2,
   "id": "76c0040d",
   "metadata": {
    "execution": {
     "iopub.execute_input": "2022-07-14T09:37:15.032192Z",
     "iopub.status.busy": "2022-07-14T09:37:15.031383Z",
     "iopub.status.idle": "2022-07-14T09:37:15.093118Z",
     "shell.execute_reply": "2022-07-14T09:37:15.091915Z"
    },
    "papermill": {
     "duration": 0.07264,
     "end_time": "2022-07-14T09:37:15.095679",
     "exception": false,
     "start_time": "2022-07-14T09:37:15.023039",
     "status": "completed"
    },
    "tags": []
   },
   "outputs": [
    {
     "data": {
      "text/html": [
       "<div>\n",
       "<style scoped>\n",
       "    .dataframe tbody tr th:only-of-type {\n",
       "        vertical-align: middle;\n",
       "    }\n",
       "\n",
       "    .dataframe tbody tr th {\n",
       "        vertical-align: top;\n",
       "    }\n",
       "\n",
       "    .dataframe thead th {\n",
       "        text-align: right;\n",
       "    }\n",
       "</style>\n",
       "<table border=\"1\" class=\"dataframe\">\n",
       "  <thead>\n",
       "    <tr style=\"text-align: right;\">\n",
       "      <th></th>\n",
       "      <th>Pclass</th>\n",
       "      <th>Sex</th>\n",
       "      <th>Fare</th>\n",
       "      <th>Embarked</th>\n",
       "      <th>FamilySize</th>\n",
       "      <th>Initial</th>\n",
       "      <th>Age_cat</th>\n",
       "    </tr>\n",
       "  </thead>\n",
       "  <tbody>\n",
       "    <tr>\n",
       "      <th>count</th>\n",
       "      <td>418.000000</td>\n",
       "      <td>418.000000</td>\n",
       "      <td>418.000000</td>\n",
       "      <td>418.000000</td>\n",
       "      <td>418.000000</td>\n",
       "      <td>417.000000</td>\n",
       "      <td>417.000000</td>\n",
       "    </tr>\n",
       "    <tr>\n",
       "      <th>mean</th>\n",
       "      <td>2.265550</td>\n",
       "      <td>0.636364</td>\n",
       "      <td>2.947868</td>\n",
       "      <td>1.401914</td>\n",
       "      <td>1.839713</td>\n",
       "      <td>1.887290</td>\n",
       "      <td>2.606715</td>\n",
       "    </tr>\n",
       "    <tr>\n",
       "      <th>std</th>\n",
       "      <td>0.841838</td>\n",
       "      <td>0.481622</td>\n",
       "      <td>1.006656</td>\n",
       "      <td>0.854496</td>\n",
       "      <td>1.519072</td>\n",
       "      <td>0.749523</td>\n",
       "      <td>1.302274</td>\n",
       "    </tr>\n",
       "    <tr>\n",
       "      <th>min</th>\n",
       "      <td>1.000000</td>\n",
       "      <td>0.000000</td>\n",
       "      <td>0.000000</td>\n",
       "      <td>0.000000</td>\n",
       "      <td>1.000000</td>\n",
       "      <td>0.000000</td>\n",
       "      <td>0.000000</td>\n",
       "    </tr>\n",
       "    <tr>\n",
       "      <th>25%</th>\n",
       "      <td>1.000000</td>\n",
       "      <td>0.000000</td>\n",
       "      <td>2.066331</td>\n",
       "      <td>1.000000</td>\n",
       "      <td>1.000000</td>\n",
       "      <td>2.000000</td>\n",
       "      <td>2.000000</td>\n",
       "    </tr>\n",
       "    <tr>\n",
       "      <th>50%</th>\n",
       "      <td>3.000000</td>\n",
       "      <td>1.000000</td>\n",
       "      <td>2.670985</td>\n",
       "      <td>2.000000</td>\n",
       "      <td>1.000000</td>\n",
       "      <td>2.000000</td>\n",
       "      <td>3.000000</td>\n",
       "    </tr>\n",
       "    <tr>\n",
       "      <th>75%</th>\n",
       "      <td>3.000000</td>\n",
       "      <td>1.000000</td>\n",
       "      <td>3.449988</td>\n",
       "      <td>2.000000</td>\n",
       "      <td>2.000000</td>\n",
       "      <td>2.000000</td>\n",
       "      <td>3.000000</td>\n",
       "    </tr>\n",
       "    <tr>\n",
       "      <th>max</th>\n",
       "      <td>3.000000</td>\n",
       "      <td>1.000000</td>\n",
       "      <td>6.238967</td>\n",
       "      <td>2.000000</td>\n",
       "      <td>11.000000</td>\n",
       "      <td>4.000000</td>\n",
       "      <td>6.000000</td>\n",
       "    </tr>\n",
       "  </tbody>\n",
       "</table>\n",
       "</div>"
      ],
      "text/plain": [
       "           Pclass         Sex        Fare    Embarked  FamilySize     Initial  \\\n",
       "count  418.000000  418.000000  418.000000  418.000000  418.000000  417.000000   \n",
       "mean     2.265550    0.636364    2.947868    1.401914    1.839713    1.887290   \n",
       "std      0.841838    0.481622    1.006656    0.854496    1.519072    0.749523   \n",
       "min      1.000000    0.000000    0.000000    0.000000    1.000000    0.000000   \n",
       "25%      1.000000    0.000000    2.066331    1.000000    1.000000    2.000000   \n",
       "50%      3.000000    1.000000    2.670985    2.000000    1.000000    2.000000   \n",
       "75%      3.000000    1.000000    3.449988    2.000000    2.000000    2.000000   \n",
       "max      3.000000    1.000000    6.238967    2.000000   11.000000    4.000000   \n",
       "\n",
       "          Age_cat  \n",
       "count  417.000000  \n",
       "mean     2.606715  \n",
       "std      1.302274  \n",
       "min      0.000000  \n",
       "25%      2.000000  \n",
       "50%      3.000000  \n",
       "75%      3.000000  \n",
       "max      6.000000  "
      ]
     },
     "execution_count": 2,
     "metadata": {},
     "output_type": "execute_result"
    }
   ],
   "source": [
    "#df_train.describe()\n",
    "df_train.describe()\n",
    "df_test.describe()\n",
    "#df_test_origin=pd.read_csv('../input/titanic/test.csv')\n",
    "#df_test_origin.describe()"
   ]
  },
  {
   "cell_type": "markdown",
   "id": "2ebefdf5",
   "metadata": {
    "papermill": {
     "duration": 0.006897,
     "end_time": "2022-07-14T09:37:15.109706",
     "exception": false,
     "start_time": "2022-07-14T09:37:15.102809",
     "status": "completed"
    },
    "tags": []
   },
   "source": [
    "It looks like I forgot to fill up some test.csv columns..... as 'age' feature is filled up with average of 'initial' feature, I can fill up again as average does not changed. Also 'fare' can be filled up as the average of pclass."
   ]
  },
  {
   "cell_type": "code",
   "execution_count": 3,
   "id": "887ad095",
   "metadata": {
    "execution": {
     "iopub.execute_input": "2022-07-14T09:37:15.126299Z",
     "iopub.status.busy": "2022-07-14T09:37:15.125611Z",
     "iopub.status.idle": "2022-07-14T09:37:15.209135Z",
     "shell.execute_reply": "2022-07-14T09:37:15.208217Z"
    },
    "papermill": {
     "duration": 0.094617,
     "end_time": "2022-07-14T09:37:15.211525",
     "exception": false,
     "start_time": "2022-07-14T09:37:15.116908",
     "status": "completed"
    },
    "tags": []
   },
   "outputs": [
    {
     "name": "stdout",
     "output_type": "stream",
     "text": [
      "age is null  96 3.0\n",
      "Initial is null  414 0 3.0\n",
      "           Pclass  Sex      Fare  Embarked  FamilySize   Age_cat\n",
      "Initial                                                         \n",
      "0.0      2.714286  1.0  3.112730  1.380952    3.952381  0.285714\n",
      "1.0      2.443038  0.0  2.927526  1.430380    1.936709  1.822785\n",
      "2.0      2.307377  1.0  2.744583  1.454918    1.450820  2.852459\n",
      "3.0      1.833333  0.0  3.566570  1.208333    2.430556  3.281690\n",
      "4.0      1.000000  1.0  4.404990  2.000000    3.000000  5.000000\n"
     ]
    }
   ],
   "source": [
    "\n",
    "for i in range(418):\n",
    "    if df_test.Age_cat.isnull().values[i]==True:\n",
    "        print('age is null ',i, df_test['Initial'][i])\n",
    "    if df_test.Initial.isnull().values[i]==True:\n",
    "        print('Initial is null ',i,df_test['Sex'][i],df_test['Age_cat'][i])\n",
    "df_test[['Initial','Age_cat']].groupby(['Initial'], as_index=True).mean()\n",
    "print(df_test.groupby('Initial').mean())\n"
   ]
  },
  {
   "cell_type": "code",
   "execution_count": 4,
   "id": "53ac6be1",
   "metadata": {
    "execution": {
     "iopub.execute_input": "2022-07-14T09:37:15.228457Z",
     "iopub.status.busy": "2022-07-14T09:37:15.227910Z",
     "iopub.status.idle": "2022-07-14T09:37:15.262805Z",
     "shell.execute_reply": "2022-07-14T09:37:15.261559Z"
    },
    "papermill": {
     "duration": 0.047239,
     "end_time": "2022-07-14T09:37:15.266066",
     "exception": false,
     "start_time": "2022-07-14T09:37:15.218827",
     "status": "completed"
    },
    "tags": []
   },
   "outputs": [
    {
     "name": "stderr",
     "output_type": "stream",
     "text": [
      "/opt/conda/lib/python3.7/site-packages/ipykernel_launcher.py:1: SettingWithCopyWarning: \n",
      "A value is trying to be set on a copy of a slice from a DataFrame\n",
      "\n",
      "See the caveats in the documentation: https://pandas.pydata.org/pandas-docs/stable/user_guide/indexing.html#returning-a-view-versus-a-copy\n",
      "  \"\"\"Entry point for launching an IPython kernel.\n",
      "/opt/conda/lib/python3.7/site-packages/ipykernel_launcher.py:2: SettingWithCopyWarning: \n",
      "A value is trying to be set on a copy of a slice from a DataFrame\n",
      "\n",
      "See the caveats in the documentation: https://pandas.pydata.org/pandas-docs/stable/user_guide/indexing.html#returning-a-view-versus-a-copy\n",
      "  \n"
     ]
    },
    {
     "data": {
      "text/html": [
       "<div>\n",
       "<style scoped>\n",
       "    .dataframe tbody tr th:only-of-type {\n",
       "        vertical-align: middle;\n",
       "    }\n",
       "\n",
       "    .dataframe tbody tr th {\n",
       "        vertical-align: top;\n",
       "    }\n",
       "\n",
       "    .dataframe thead th {\n",
       "        text-align: right;\n",
       "    }\n",
       "</style>\n",
       "<table border=\"1\" class=\"dataframe\">\n",
       "  <thead>\n",
       "    <tr style=\"text-align: right;\">\n",
       "      <th></th>\n",
       "      <th>Pclass</th>\n",
       "      <th>Sex</th>\n",
       "      <th>Fare</th>\n",
       "      <th>Embarked</th>\n",
       "      <th>FamilySize</th>\n",
       "      <th>Initial</th>\n",
       "      <th>Age_cat</th>\n",
       "    </tr>\n",
       "  </thead>\n",
       "  <tbody>\n",
       "    <tr>\n",
       "      <th>count</th>\n",
       "      <td>418.000000</td>\n",
       "      <td>418.000000</td>\n",
       "      <td>418.000000</td>\n",
       "      <td>418.000000</td>\n",
       "      <td>418.000000</td>\n",
       "      <td>418.000000</td>\n",
       "      <td>418.000000</td>\n",
       "    </tr>\n",
       "    <tr>\n",
       "      <th>mean</th>\n",
       "      <td>2.265550</td>\n",
       "      <td>0.636364</td>\n",
       "      <td>2.947868</td>\n",
       "      <td>1.401914</td>\n",
       "      <td>1.839713</td>\n",
       "      <td>1.889952</td>\n",
       "      <td>2.607656</td>\n",
       "    </tr>\n",
       "    <tr>\n",
       "      <th>std</th>\n",
       "      <td>0.841838</td>\n",
       "      <td>0.481622</td>\n",
       "      <td>1.006656</td>\n",
       "      <td>0.854496</td>\n",
       "      <td>1.519072</td>\n",
       "      <td>0.750600</td>\n",
       "      <td>1.300853</td>\n",
       "    </tr>\n",
       "    <tr>\n",
       "      <th>min</th>\n",
       "      <td>1.000000</td>\n",
       "      <td>0.000000</td>\n",
       "      <td>0.000000</td>\n",
       "      <td>0.000000</td>\n",
       "      <td>1.000000</td>\n",
       "      <td>0.000000</td>\n",
       "      <td>0.000000</td>\n",
       "    </tr>\n",
       "    <tr>\n",
       "      <th>25%</th>\n",
       "      <td>1.000000</td>\n",
       "      <td>0.000000</td>\n",
       "      <td>2.066331</td>\n",
       "      <td>1.000000</td>\n",
       "      <td>1.000000</td>\n",
       "      <td>2.000000</td>\n",
       "      <td>2.000000</td>\n",
       "    </tr>\n",
       "    <tr>\n",
       "      <th>50%</th>\n",
       "      <td>3.000000</td>\n",
       "      <td>1.000000</td>\n",
       "      <td>2.670985</td>\n",
       "      <td>2.000000</td>\n",
       "      <td>1.000000</td>\n",
       "      <td>2.000000</td>\n",
       "      <td>3.000000</td>\n",
       "    </tr>\n",
       "    <tr>\n",
       "      <th>75%</th>\n",
       "      <td>3.000000</td>\n",
       "      <td>1.000000</td>\n",
       "      <td>3.449988</td>\n",
       "      <td>2.000000</td>\n",
       "      <td>2.000000</td>\n",
       "      <td>2.000000</td>\n",
       "      <td>3.000000</td>\n",
       "    </tr>\n",
       "    <tr>\n",
       "      <th>max</th>\n",
       "      <td>3.000000</td>\n",
       "      <td>1.000000</td>\n",
       "      <td>6.238967</td>\n",
       "      <td>2.000000</td>\n",
       "      <td>11.000000</td>\n",
       "      <td>4.000000</td>\n",
       "      <td>6.000000</td>\n",
       "    </tr>\n",
       "  </tbody>\n",
       "</table>\n",
       "</div>"
      ],
      "text/plain": [
       "           Pclass         Sex        Fare    Embarked  FamilySize     Initial  \\\n",
       "count  418.000000  418.000000  418.000000  418.000000  418.000000  418.000000   \n",
       "mean     2.265550    0.636364    2.947868    1.401914    1.839713    1.889952   \n",
       "std      0.841838    0.481622    1.006656    0.854496    1.519072    0.750600   \n",
       "min      1.000000    0.000000    0.000000    0.000000    1.000000    0.000000   \n",
       "25%      1.000000    0.000000    2.066331    1.000000    1.000000    2.000000   \n",
       "50%      3.000000    1.000000    2.670985    2.000000    1.000000    2.000000   \n",
       "75%      3.000000    1.000000    3.449988    2.000000    2.000000    2.000000   \n",
       "max      3.000000    1.000000    6.238967    2.000000   11.000000    4.000000   \n",
       "\n",
       "          Age_cat  \n",
       "count  418.000000  \n",
       "mean     2.607656  \n",
       "std      1.300853  \n",
       "min      0.000000  \n",
       "25%      2.000000  \n",
       "50%      3.000000  \n",
       "75%      3.000000  \n",
       "max      6.000000  "
      ]
     },
     "execution_count": 4,
     "metadata": {},
     "output_type": "execute_result"
    }
   ],
   "source": [
    "df_test['Age_cat'][96]=3.0\n",
    "df_test['Initial'][414]=3.0 #chosen 3.0 from sex and age\n",
    "df_test.describe()"
   ]
  },
  {
   "cell_type": "markdown",
   "id": "383bae9a",
   "metadata": {
    "papermill": {
     "duration": 0.007474,
     "end_time": "2022-07-14T09:37:15.281073",
     "exception": false,
     "start_time": "2022-07-14T09:37:15.273599",
     "status": "completed"
    },
    "tags": []
   },
   "source": [
    "## One-hot encoding Embarked and Initial.\n",
    "\n",
    "I'll not discuss One-hot encoding works. Anyway it can be easily done with get_dummies of pandas."
   ]
  },
  {
   "cell_type": "code",
   "execution_count": 5,
   "id": "2b5de931",
   "metadata": {
    "execution": {
     "iopub.execute_input": "2022-07-14T09:37:15.298966Z",
     "iopub.status.busy": "2022-07-14T09:37:15.298303Z",
     "iopub.status.idle": "2022-07-14T09:37:15.309502Z",
     "shell.execute_reply": "2022-07-14T09:37:15.308600Z"
    },
    "papermill": {
     "duration": 0.022964,
     "end_time": "2022-07-14T09:37:15.311849",
     "exception": false,
     "start_time": "2022-07-14T09:37:15.288885",
     "status": "completed"
    },
    "tags": []
   },
   "outputs": [],
   "source": [
    "df_train=pd.get_dummies(df_train, columns=['Embarked'],prefix='Embarked')\n",
    "df_test=pd.get_dummies(df_test, columns=['Embarked'], prefix = 'Embarked')"
   ]
  },
  {
   "cell_type": "code",
   "execution_count": 6,
   "id": "137b4da9",
   "metadata": {
    "execution": {
     "iopub.execute_input": "2022-07-14T09:37:15.329528Z",
     "iopub.status.busy": "2022-07-14T09:37:15.329103Z",
     "iopub.status.idle": "2022-07-14T09:37:15.388554Z",
     "shell.execute_reply": "2022-07-14T09:37:15.387433Z"
    },
    "papermill": {
     "duration": 0.071434,
     "end_time": "2022-07-14T09:37:15.390929",
     "exception": false,
     "start_time": "2022-07-14T09:37:15.319495",
     "status": "completed"
    },
    "tags": []
   },
   "outputs": [
    {
     "data": {
      "text/html": [
       "<div>\n",
       "<style scoped>\n",
       "    .dataframe tbody tr th:only-of-type {\n",
       "        vertical-align: middle;\n",
       "    }\n",
       "\n",
       "    .dataframe tbody tr th {\n",
       "        vertical-align: top;\n",
       "    }\n",
       "\n",
       "    .dataframe thead th {\n",
       "        text-align: right;\n",
       "    }\n",
       "</style>\n",
       "<table border=\"1\" class=\"dataframe\">\n",
       "  <thead>\n",
       "    <tr style=\"text-align: right;\">\n",
       "      <th></th>\n",
       "      <th>Survived</th>\n",
       "      <th>Pclass</th>\n",
       "      <th>Sex</th>\n",
       "      <th>Fare</th>\n",
       "      <th>FamilySize</th>\n",
       "      <th>Age_cat</th>\n",
       "      <th>Embarked_0</th>\n",
       "      <th>Embarked_1</th>\n",
       "      <th>Embarked_2</th>\n",
       "      <th>Initial_0</th>\n",
       "      <th>Initial_1</th>\n",
       "      <th>Initial_2</th>\n",
       "      <th>Initial_3</th>\n",
       "      <th>Initial_4</th>\n",
       "    </tr>\n",
       "  </thead>\n",
       "  <tbody>\n",
       "    <tr>\n",
       "      <th>count</th>\n",
       "      <td>891.000000</td>\n",
       "      <td>891.000000</td>\n",
       "      <td>891.000000</td>\n",
       "      <td>891.000000</td>\n",
       "      <td>891.000000</td>\n",
       "      <td>891.000000</td>\n",
       "      <td>891.000000</td>\n",
       "      <td>891.000000</td>\n",
       "      <td>891.000000</td>\n",
       "      <td>891.000000</td>\n",
       "      <td>891.000000</td>\n",
       "      <td>891.000000</td>\n",
       "      <td>891.000000</td>\n",
       "      <td>891.000000</td>\n",
       "    </tr>\n",
       "    <tr>\n",
       "      <th>mean</th>\n",
       "      <td>0.383838</td>\n",
       "      <td>2.308642</td>\n",
       "      <td>0.647587</td>\n",
       "      <td>2.893846</td>\n",
       "      <td>1.904602</td>\n",
       "      <td>2.510662</td>\n",
       "      <td>0.188552</td>\n",
       "      <td>0.086420</td>\n",
       "      <td>0.725028</td>\n",
       "      <td>0.044893</td>\n",
       "      <td>0.208754</td>\n",
       "      <td>0.595960</td>\n",
       "      <td>0.142536</td>\n",
       "      <td>0.007856</td>\n",
       "    </tr>\n",
       "    <tr>\n",
       "      <th>std</th>\n",
       "      <td>0.486592</td>\n",
       "      <td>0.836071</td>\n",
       "      <td>0.477990</td>\n",
       "      <td>1.002899</td>\n",
       "      <td>1.613459</td>\n",
       "      <td>1.324212</td>\n",
       "      <td>0.391372</td>\n",
       "      <td>0.281141</td>\n",
       "      <td>0.446751</td>\n",
       "      <td>0.207186</td>\n",
       "      <td>0.406647</td>\n",
       "      <td>0.490981</td>\n",
       "      <td>0.349796</td>\n",
       "      <td>0.088337</td>\n",
       "    </tr>\n",
       "    <tr>\n",
       "      <th>min</th>\n",
       "      <td>0.000000</td>\n",
       "      <td>1.000000</td>\n",
       "      <td>0.000000</td>\n",
       "      <td>0.000000</td>\n",
       "      <td>1.000000</td>\n",
       "      <td>0.000000</td>\n",
       "      <td>0.000000</td>\n",
       "      <td>0.000000</td>\n",
       "      <td>0.000000</td>\n",
       "      <td>0.000000</td>\n",
       "      <td>0.000000</td>\n",
       "      <td>0.000000</td>\n",
       "      <td>0.000000</td>\n",
       "      <td>0.000000</td>\n",
       "    </tr>\n",
       "    <tr>\n",
       "      <th>25%</th>\n",
       "      <td>0.000000</td>\n",
       "      <td>2.000000</td>\n",
       "      <td>0.000000</td>\n",
       "      <td>2.068177</td>\n",
       "      <td>1.000000</td>\n",
       "      <td>2.000000</td>\n",
       "      <td>0.000000</td>\n",
       "      <td>0.000000</td>\n",
       "      <td>0.000000</td>\n",
       "      <td>0.000000</td>\n",
       "      <td>0.000000</td>\n",
       "      <td>0.000000</td>\n",
       "      <td>0.000000</td>\n",
       "      <td>0.000000</td>\n",
       "    </tr>\n",
       "    <tr>\n",
       "      <th>50%</th>\n",
       "      <td>0.000000</td>\n",
       "      <td>3.000000</td>\n",
       "      <td>1.000000</td>\n",
       "      <td>2.670985</td>\n",
       "      <td>1.000000</td>\n",
       "      <td>3.000000</td>\n",
       "      <td>0.000000</td>\n",
       "      <td>0.000000</td>\n",
       "      <td>1.000000</td>\n",
       "      <td>0.000000</td>\n",
       "      <td>0.000000</td>\n",
       "      <td>1.000000</td>\n",
       "      <td>0.000000</td>\n",
       "      <td>0.000000</td>\n",
       "    </tr>\n",
       "    <tr>\n",
       "      <th>75%</th>\n",
       "      <td>1.000000</td>\n",
       "      <td>3.000000</td>\n",
       "      <td>1.000000</td>\n",
       "      <td>3.433987</td>\n",
       "      <td>2.000000</td>\n",
       "      <td>3.000000</td>\n",
       "      <td>0.000000</td>\n",
       "      <td>0.000000</td>\n",
       "      <td>1.000000</td>\n",
       "      <td>0.000000</td>\n",
       "      <td>0.000000</td>\n",
       "      <td>1.000000</td>\n",
       "      <td>0.000000</td>\n",
       "      <td>0.000000</td>\n",
       "    </tr>\n",
       "    <tr>\n",
       "      <th>max</th>\n",
       "      <td>1.000000</td>\n",
       "      <td>3.000000</td>\n",
       "      <td>1.000000</td>\n",
       "      <td>6.238967</td>\n",
       "      <td>11.000000</td>\n",
       "      <td>6.000000</td>\n",
       "      <td>1.000000</td>\n",
       "      <td>1.000000</td>\n",
       "      <td>1.000000</td>\n",
       "      <td>1.000000</td>\n",
       "      <td>1.000000</td>\n",
       "      <td>1.000000</td>\n",
       "      <td>1.000000</td>\n",
       "      <td>1.000000</td>\n",
       "    </tr>\n",
       "  </tbody>\n",
       "</table>\n",
       "</div>"
      ],
      "text/plain": [
       "         Survived      Pclass         Sex        Fare  FamilySize     Age_cat  \\\n",
       "count  891.000000  891.000000  891.000000  891.000000  891.000000  891.000000   \n",
       "mean     0.383838    2.308642    0.647587    2.893846    1.904602    2.510662   \n",
       "std      0.486592    0.836071    0.477990    1.002899    1.613459    1.324212   \n",
       "min      0.000000    1.000000    0.000000    0.000000    1.000000    0.000000   \n",
       "25%      0.000000    2.000000    0.000000    2.068177    1.000000    2.000000   \n",
       "50%      0.000000    3.000000    1.000000    2.670985    1.000000    3.000000   \n",
       "75%      1.000000    3.000000    1.000000    3.433987    2.000000    3.000000   \n",
       "max      1.000000    3.000000    1.000000    6.238967   11.000000    6.000000   \n",
       "\n",
       "       Embarked_0  Embarked_1  Embarked_2   Initial_0   Initial_1   Initial_2  \\\n",
       "count  891.000000  891.000000  891.000000  891.000000  891.000000  891.000000   \n",
       "mean     0.188552    0.086420    0.725028    0.044893    0.208754    0.595960   \n",
       "std      0.391372    0.281141    0.446751    0.207186    0.406647    0.490981   \n",
       "min      0.000000    0.000000    0.000000    0.000000    0.000000    0.000000   \n",
       "25%      0.000000    0.000000    0.000000    0.000000    0.000000    0.000000   \n",
       "50%      0.000000    0.000000    1.000000    0.000000    0.000000    1.000000   \n",
       "75%      0.000000    0.000000    1.000000    0.000000    0.000000    1.000000   \n",
       "max      1.000000    1.000000    1.000000    1.000000    1.000000    1.000000   \n",
       "\n",
       "        Initial_3   Initial_4  \n",
       "count  891.000000  891.000000  \n",
       "mean     0.142536    0.007856  \n",
       "std      0.349796    0.088337  \n",
       "min      0.000000    0.000000  \n",
       "25%      0.000000    0.000000  \n",
       "50%      0.000000    0.000000  \n",
       "75%      0.000000    0.000000  \n",
       "max      1.000000    1.000000  "
      ]
     },
     "execution_count": 6,
     "metadata": {},
     "output_type": "execute_result"
    }
   ],
   "source": [
    "df_train = pd.get_dummies(df_train, columns=['Initial'], prefix='Initial')\n",
    "df_test = pd.get_dummies(df_test, columns=['Initial'], prefix='Initial')\n",
    "df_train.describe()"
   ]
  },
  {
   "cell_type": "markdown",
   "id": "7839c350",
   "metadata": {
    "papermill": {
     "duration": 0.007826,
     "end_time": "2022-07-14T09:37:15.406913",
     "exception": false,
     "start_time": "2022-07-14T09:37:15.399087",
     "status": "completed"
    },
    "tags": []
   },
   "source": [
    "final dataset check-up before building machine learning model"
   ]
  },
  {
   "cell_type": "code",
   "execution_count": 7,
   "id": "a3411b37",
   "metadata": {
    "execution": {
     "iopub.execute_input": "2022-07-14T09:37:15.425098Z",
     "iopub.status.busy": "2022-07-14T09:37:15.424285Z",
     "iopub.status.idle": "2022-07-14T09:37:15.502258Z",
     "shell.execute_reply": "2022-07-14T09:37:15.500220Z"
    },
    "papermill": {
     "duration": 0.089913,
     "end_time": "2022-07-14T09:37:15.504852",
     "exception": false,
     "start_time": "2022-07-14T09:37:15.414939",
     "status": "completed"
    },
    "tags": []
   },
   "outputs": [
    {
     "name": "stdout",
     "output_type": "stream",
     "text": [
      "         Survived      Pclass         Sex        Fare  FamilySize     Age_cat  \\\n",
      "count  891.000000  891.000000  891.000000  891.000000  891.000000  891.000000   \n",
      "mean     0.383838    2.308642    0.647587    2.893846    1.904602    2.510662   \n",
      "std      0.486592    0.836071    0.477990    1.002899    1.613459    1.324212   \n",
      "min      0.000000    1.000000    0.000000    0.000000    1.000000    0.000000   \n",
      "25%      0.000000    2.000000    0.000000    2.068177    1.000000    2.000000   \n",
      "50%      0.000000    3.000000    1.000000    2.670985    1.000000    3.000000   \n",
      "75%      1.000000    3.000000    1.000000    3.433987    2.000000    3.000000   \n",
      "max      1.000000    3.000000    1.000000    6.238967   11.000000    6.000000   \n",
      "\n",
      "       Embarked_0  Embarked_1  Embarked_2   Initial_0   Initial_1   Initial_2  \\\n",
      "count  891.000000  891.000000  891.000000  891.000000  891.000000  891.000000   \n",
      "mean     0.188552    0.086420    0.725028    0.044893    0.208754    0.595960   \n",
      "std      0.391372    0.281141    0.446751    0.207186    0.406647    0.490981   \n",
      "min      0.000000    0.000000    0.000000    0.000000    0.000000    0.000000   \n",
      "25%      0.000000    0.000000    0.000000    0.000000    0.000000    0.000000   \n",
      "50%      0.000000    0.000000    1.000000    0.000000    0.000000    1.000000   \n",
      "75%      0.000000    0.000000    1.000000    0.000000    0.000000    1.000000   \n",
      "max      1.000000    1.000000    1.000000    1.000000    1.000000    1.000000   \n",
      "\n",
      "        Initial_3   Initial_4  \n",
      "count  891.000000  891.000000  \n",
      "mean     0.142536    0.007856  \n",
      "std      0.349796    0.088337  \n",
      "min      0.000000    0.000000  \n",
      "25%      0.000000    0.000000  \n",
      "50%      0.000000    0.000000  \n",
      "75%      0.000000    0.000000  \n",
      "max      1.000000    1.000000  \n",
      "           Pclass         Sex        Fare  FamilySize     Age_cat  Embarked_0  \\\n",
      "count  418.000000  418.000000  418.000000  418.000000  418.000000  418.000000   \n",
      "mean     2.265550    0.636364    2.947868    1.839713    2.607656    0.244019   \n",
      "std      0.841838    0.481622    1.006656    1.519072    1.300853    0.430019   \n",
      "min      1.000000    0.000000    0.000000    1.000000    0.000000    0.000000   \n",
      "25%      1.000000    0.000000    2.066331    1.000000    2.000000    0.000000   \n",
      "50%      3.000000    1.000000    2.670985    1.000000    3.000000    0.000000   \n",
      "75%      3.000000    1.000000    3.449988    2.000000    3.000000    0.000000   \n",
      "max      3.000000    1.000000    6.238967   11.000000    6.000000    1.000000   \n",
      "\n",
      "       Embarked_1  Embarked_2  Initial_0.0  Initial_1.0  Initial_2.0  \\\n",
      "count  418.000000  418.000000   418.000000   418.000000   418.000000   \n",
      "mean     0.110048    0.645933     0.050239     0.188995     0.583732   \n",
      "std      0.313324    0.478803     0.218700     0.391974     0.493530   \n",
      "min      0.000000    0.000000     0.000000     0.000000     0.000000   \n",
      "25%      0.000000    0.000000     0.000000     0.000000     0.000000   \n",
      "50%      0.000000    1.000000     0.000000     0.000000     1.000000   \n",
      "75%      0.000000    1.000000     0.000000     0.000000     1.000000   \n",
      "max      1.000000    1.000000     1.000000     1.000000     1.000000   \n",
      "\n",
      "       Initial_3.0  Initial_4.0  \n",
      "count   418.000000   418.000000  \n",
      "mean      0.174641     0.002392  \n",
      "std       0.380115     0.048912  \n",
      "min       0.000000     0.000000  \n",
      "25%       0.000000     0.000000  \n",
      "50%       0.000000     0.000000  \n",
      "75%       0.000000     0.000000  \n",
      "max       1.000000     1.000000  \n"
     ]
    }
   ],
   "source": [
    "print(df_train.describe())\n",
    "print(df_test.describe())"
   ]
  },
  {
   "cell_type": "markdown",
   "id": "b5a9825d",
   "metadata": {
    "papermill": {
     "duration": 0.007856,
     "end_time": "2022-07-14T09:37:15.520889",
     "exception": false,
     "start_time": "2022-07-14T09:37:15.513033",
     "status": "completed"
    },
    "tags": []
   },
   "source": [
    "# Building machine learning model and prediction using the trained model"
   ]
  },
  {
   "cell_type": "code",
   "execution_count": 8,
   "id": "3cad8ac1",
   "metadata": {
    "execution": {
     "iopub.execute_input": "2022-07-14T09:37:15.539461Z",
     "iopub.status.busy": "2022-07-14T09:37:15.538689Z",
     "iopub.status.idle": "2022-07-14T09:37:15.948560Z",
     "shell.execute_reply": "2022-07-14T09:37:15.947323Z"
    },
    "papermill": {
     "duration": 0.42245,
     "end_time": "2022-07-14T09:37:15.951442",
     "exception": false,
     "start_time": "2022-07-14T09:37:15.528992",
     "status": "completed"
    },
    "tags": []
   },
   "outputs": [],
   "source": [
    "from sklearn.ensemble import RandomForestClassifier #randomforest모델을 쓴답니다.\n",
    "from sklearn import metrics #제출 전 사전평가를 위해 사용한다고 합니다.\n",
    "from sklearn.model_selection import train_test_split #역시 사전평가에 쓰일 데이터를 준비하는 것 같습니다."
   ]
  },
  {
   "cell_type": "code",
   "execution_count": 9,
   "id": "de4c1d71",
   "metadata": {
    "execution": {
     "iopub.execute_input": "2022-07-14T09:37:15.970654Z",
     "iopub.status.busy": "2022-07-14T09:37:15.969740Z",
     "iopub.status.idle": "2022-07-14T09:37:15.978041Z",
     "shell.execute_reply": "2022-07-14T09:37:15.977227Z"
    },
    "id": "dY_lfX6Wi04X",
    "papermill": {
     "duration": 0.0206,
     "end_time": "2022-07-14T09:37:15.980423",
     "exception": false,
     "start_time": "2022-07-14T09:37:15.959823",
     "status": "completed"
    },
    "tags": []
   },
   "outputs": [],
   "source": [
    "X_train = df_train.drop('Survived', axis=1).values\n",
    "target_label = df_train['Survived'].values\n",
    "X_test = df_test.values\n",
    "#결과를 알고 있는 train셋에서 임의로 일부를 떼어내 테스트 셋으로 사용, 모델의 성능을 예측해봅니다."
   ]
  },
  {
   "cell_type": "code",
   "execution_count": 10,
   "id": "3ac8134a",
   "metadata": {
    "execution": {
     "iopub.execute_input": "2022-07-14T09:37:15.999417Z",
     "iopub.status.busy": "2022-07-14T09:37:15.998988Z",
     "iopub.status.idle": "2022-07-14T09:37:16.230188Z",
     "shell.execute_reply": "2022-07-14T09:37:16.228930Z"
    },
    "papermill": {
     "duration": 0.244108,
     "end_time": "2022-07-14T09:37:16.232829",
     "exception": false,
     "start_time": "2022-07-14T09:37:15.988721",
     "status": "completed"
    },
    "tags": []
   },
   "outputs": [],
   "source": [
    "X_tr, X_vld, y_tr, y_vld = train_test_split(X_train, target_label, test_size=0.3, random_state=2018)\n",
    "model = RandomForestClassifier()\n",
    "model.fit(X_tr, y_tr)\n",
    "prediction = model.predict(X_vld)"
   ]
  },
  {
   "cell_type": "code",
   "execution_count": 11,
   "id": "02aa1c8f",
   "metadata": {
    "execution": {
     "iopub.execute_input": "2022-07-14T09:37:16.252240Z",
     "iopub.status.busy": "2022-07-14T09:37:16.251812Z",
     "iopub.status.idle": "2022-07-14T09:37:16.259844Z",
     "shell.execute_reply": "2022-07-14T09:37:16.258637Z"
    },
    "papermill": {
     "duration": 0.021345,
     "end_time": "2022-07-14T09:37:16.262863",
     "exception": false,
     "start_time": "2022-07-14T09:37:16.241518",
     "status": "completed"
    },
    "tags": []
   },
   "outputs": [
    {
     "name": "stdout",
     "output_type": "stream",
     "text": [
      "268명 중 81.71641791044776%의 생존을 맞춤.\n"
     ]
    }
   ],
   "source": [
    "print('{}명 중 {}%의 생존을 맞춤.'.format(y_vld.shape[0],100*metrics.accuracy_score(prediction,y_vld)))"
   ]
  },
  {
   "cell_type": "markdown",
   "id": "17854387",
   "metadata": {
    "papermill": {
     "duration": 0.008291,
     "end_time": "2022-07-14T09:37:16.279400",
     "exception": false,
     "start_time": "2022-07-14T09:37:16.271109",
     "status": "completed"
    },
    "tags": []
   },
   "source": [
    "## 4.3. Feature importance\n",
    "\n",
    "어떤 feature가 생존률에 큰 영향을 줬는지 따져보는 것 같습니다."
   ]
  },
  {
   "cell_type": "markdown",
   "id": "db52c253",
   "metadata": {
    "papermill": {
     "duration": 0.008131,
     "end_time": "2022-07-14T09:37:16.296000",
     "exception": false,
     "start_time": "2022-07-14T09:37:16.287869",
     "status": "completed"
    },
    "tags": []
   },
   "source": [
    "## 4.4 Prediction on Test set"
   ]
  },
  {
   "cell_type": "code",
   "execution_count": 12,
   "id": "7b899a5a",
   "metadata": {
    "execution": {
     "iopub.execute_input": "2022-07-14T09:37:16.315226Z",
     "iopub.status.busy": "2022-07-14T09:37:16.314402Z",
     "iopub.status.idle": "2022-07-14T09:37:16.630044Z",
     "shell.execute_reply": "2022-07-14T09:37:16.628839Z"
    },
    "papermill": {
     "duration": 0.328757,
     "end_time": "2022-07-14T09:37:16.633241",
     "exception": false,
     "start_time": "2022-07-14T09:37:16.304484",
     "status": "completed"
    },
    "tags": []
   },
   "outputs": [
    {
     "data": {
      "image/png": "[encoded data removed]",
      "text/plain": [
       "<Figure size 576x576 with 1 Axes>"
      ]
     },
     "metadata": {
      "needs_background": "light"
     },
     "output_type": "display_data"
    }
   ],
   "source": [
    "from pandas import Series\n",
    "\n",
    "feature_importance = model.feature_importances_\n",
    "Series_feat_imp = Series(feature_importance, index=df_test.columns)\n",
    "\n",
    "plt.figure(figsize=(8,8))\n",
    "Series_feat_imp.sort_values(ascending=True).plot.barh()\n",
    "plt.xlabel('Importance')\n",
    "plt.ylabel('Feature')\n",
    "plt.show()"
   ]
  },
  {
   "cell_type": "markdown",
   "id": "66a330ff",
   "metadata": {
    "papermill": {
     "duration": 0.00902,
     "end_time": "2022-07-14T09:37:16.652097",
     "exception": false,
     "start_time": "2022-07-14T09:37:16.643077",
     "status": "completed"
    },
    "tags": []
   },
   "source": [
    "## 4.4 Prediction on Test set"
   ]
  },
  {
   "cell_type": "code",
   "execution_count": 13,
   "id": "8f87970f",
   "metadata": {
    "execution": {
     "iopub.execute_input": "2022-07-14T09:37:16.673003Z",
     "iopub.status.busy": "2022-07-14T09:37:16.672304Z",
     "iopub.status.idle": "2022-07-14T09:37:16.683614Z",
     "shell.execute_reply": "2022-07-14T09:37:16.682540Z"
    },
    "papermill": {
     "duration": 0.024785,
     "end_time": "2022-07-14T09:37:16.686191",
     "exception": false,
     "start_time": "2022-07-14T09:37:16.661406",
     "status": "completed"
    },
    "tags": []
   },
   "outputs": [],
   "source": [
    "submission = pd.read_csv('../input/titanic/gender_submission.csv')"
   ]
  },
  {
   "cell_type": "code",
   "execution_count": 14,
   "id": "e1a76e28",
   "metadata": {
    "execution": {
     "iopub.execute_input": "2022-07-14T09:37:16.706617Z",
     "iopub.status.busy": "2022-07-14T09:37:16.705846Z",
     "iopub.status.idle": "2022-07-14T09:37:16.716101Z",
     "shell.execute_reply": "2022-07-14T09:37:16.714985Z"
    },
    "papermill": {
     "duration": 0.023002,
     "end_time": "2022-07-14T09:37:16.718499",
     "exception": false,
     "start_time": "2022-07-14T09:37:16.695497",
     "status": "completed"
    },
    "tags": []
   },
   "outputs": [
    {
     "data": {
      "text/html": [
       "<div>\n",
       "<style scoped>\n",
       "    .dataframe tbody tr th:only-of-type {\n",
       "        vertical-align: middle;\n",
       "    }\n",
       "\n",
       "    .dataframe tbody tr th {\n",
       "        vertical-align: top;\n",
       "    }\n",
       "\n",
       "    .dataframe thead th {\n",
       "        text-align: right;\n",
       "    }\n",
       "</style>\n",
       "<table border=\"1\" class=\"dataframe\">\n",
       "  <thead>\n",
       "    <tr style=\"text-align: right;\">\n",
       "      <th></th>\n",
       "      <th>PassengerId</th>\n",
       "      <th>Survived</th>\n",
       "    </tr>\n",
       "  </thead>\n",
       "  <tbody>\n",
       "    <tr>\n",
       "      <th>0</th>\n",
       "      <td>892</td>\n",
       "      <td>0</td>\n",
       "    </tr>\n",
       "    <tr>\n",
       "      <th>1</th>\n",
       "      <td>893</td>\n",
       "      <td>1</td>\n",
       "    </tr>\n",
       "    <tr>\n",
       "      <th>2</th>\n",
       "      <td>894</td>\n",
       "      <td>0</td>\n",
       "    </tr>\n",
       "    <tr>\n",
       "      <th>3</th>\n",
       "      <td>895</td>\n",
       "      <td>0</td>\n",
       "    </tr>\n",
       "    <tr>\n",
       "      <th>4</th>\n",
       "      <td>896</td>\n",
       "      <td>1</td>\n",
       "    </tr>\n",
       "  </tbody>\n",
       "</table>\n",
       "</div>"
      ],
      "text/plain": [
       "   PassengerId  Survived\n",
       "0          892         0\n",
       "1          893         1\n",
       "2          894         0\n",
       "3          895         0\n",
       "4          896         1"
      ]
     },
     "execution_count": 14,
     "metadata": {},
     "output_type": "execute_result"
    }
   ],
   "source": [
    "submission.head()"
   ]
  },
  {
   "cell_type": "code",
   "execution_count": 15,
   "id": "0c817746",
   "metadata": {
    "execution": {
     "iopub.execute_input": "2022-07-14T09:37:16.739404Z",
     "iopub.status.busy": "2022-07-14T09:37:16.738621Z",
     "iopub.status.idle": "2022-07-14T09:37:16.767681Z",
     "shell.execute_reply": "2022-07-14T09:37:16.766814Z"
    },
    "papermill": {
     "duration": 0.042441,
     "end_time": "2022-07-14T09:37:16.770221",
     "exception": false,
     "start_time": "2022-07-14T09:37:16.727780",
     "status": "completed"
    },
    "tags": []
   },
   "outputs": [],
   "source": [
    "prediction = model.predict(X_test)\n",
    "submission['Survived']=prediction\n",
    "submission.to_csv('./my_first_submission.csv',index=False)"
   ]
  },
  {
   "cell_type": "markdown",
   "id": "06a5c47a",
   "metadata": {
    "papermill": {
     "duration": 0.008886,
     "end_time": "2022-07-14T09:37:16.788373",
     "exception": false,
     "start_time": "2022-07-14T09:37:16.779487",
     "status": "completed"
    },
    "tags": []
   },
   "source": [
    "submission 파일을 만들 수 있었습니다."
   ]
  },
  {
   "cell_type": "code",
   "execution_count": null,
   "id": "203c5e6d",
   "metadata": {
    "papermill": {
     "duration": 0.008946,
     "end_time": "2022-07-14T09:37:16.806602",
     "exception": false,
     "start_time": "2022-07-14T09:37:16.797656",
     "status": "completed"
    },
    "tags": []
   },
   "outputs": [],
   "source": []
  }
 ],
 "metadata": {
  "kernelspec": {
   "display_name": "Python 3",
   "language": "python",
   "name": "python3"
  },
  "language_info": {
   "codemirror_mode": {
    "name": "ipython",
    "version": 3
   },
   "file_extension": ".py",
   "mimetype": "text/x-python",
   "name": "python",
   "nbconvert_exporter": "python",
   "pygments_lexer": "ipython3",
   "version": "3.7.12"
  },
  "papermill": {
   "default_parameters": {},
   "duration": 14.099537,
   "end_time": "2022-07-14T09:37:17.637773",
   "environment_variables": {},
   "exception": null,
   "input_path": "__notebook__.ipynb",
   "output_path": "__notebook__.ipynb",
   "parameters": {},
   "start_time": "2022-07-14T09:37:03.538236",
   "version": "2.3.4"
  }
 },
 "nbformat": 4,
 "nbformat_minor": 5
}
