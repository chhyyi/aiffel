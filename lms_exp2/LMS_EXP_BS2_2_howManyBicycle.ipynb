{
  "nbformat": 4,
  "nbformat_minor": 0,
  "metadata": {
    "colab": {
      "name": "LMS EXP_BS2 2_howManyBicycle.ipynb",
      "provenance": [],
      "collapsed_sections": [],
      "authorship_tag": "ABX9TyMponsj71sGrLEKuhUTQQr1",
      "include_colab_link": true
    },
    "kernelspec": {
      "name": "python3",
      "display_name": "Python 3"
    },
    "language_info": {
      "name": "python"
    }
  },
  "cells": [
    {
      "cell_type": "markdown",
      "metadata": {
        "id": "view-in-github",
        "colab_type": "text"
      },
      "source": [
        "<a href=\"https://colab.research.google.com/github/chhyyi/aiffel/blob/main/lms_exp2/LMS_EXP_BS2_2_howManyBicycle.ipynb\" target=\"_parent\"><img src=\"https://colab.research.google.com/assets/colab-badge.svg\" alt=\"Open In Colab\"/></a>"
      ]
    },
    {
      "cell_type": "markdown",
      "source": [
        "# LMS노드 - EXP BS2 연습노트\n",
        "\n",
        "Q나)철학이 뭘까요?\n",
        "Q나)손실함수란?\n",
        "\n",
        "## 2-3 Error 와 Regression Model Accuracy\n",
        "\n",
        "(모델의 예측값) - (실제값)을 샘플 i의 error, $E_i$라고 하겠습니다. 이 때\n",
        "mean absolute error(MAE)는 $\\frac{\\sum_{i=0}^n \\left|E_i\\right|}{N}$ 인데 error의 절대값의 평균입니다.\n",
        "mean squared error(MSE)는 에러의 제곱의 평균이고 RMSE는 MSE의 제곱근입니다. 마지막으로 R-squared는 분모에 (실제값 - 평균값)제곱의 합, (실제값-모델 예측값) 제곱의 합을 1에서 뺀 값을 R-squared라고 보고 이것이 1에 가까울 수록 모델이 정확하다고 봅니다. 이게 어떻게 성립하는지 2개의 샘플 데이터포인트만 있다고 생각해봅시다.\n",
        "$(1,1)$, $\\left({2,2}\\right)$\n",
        "y=x가 정확한 모델이죠.\n",
        "y평균은 1.5입니다. 분자는 0, 0이고 분모가 뭐든 0이 됩니다.\n",
        "약간 틀렸다고 해봅시다. y=1.1x-0.1이라고 하죠.\n",
        "분자는 0, 0.01 분모는 0.25+025\n",
        "그렇습니다. 분모는 모델에 의존하지 않아요. 분모는 샘플들이 평균에서 멀리 떨어져있을수록 커질 뿐입니다. 각각의 가중치가 아닙니다. 0이 되는 경우를 살펴보고 싶지만 그냥 넘어갑시다"
      ],
      "metadata": {
        "id": "75I5RRsMpJov"
      }
    },
    {
      "cell_type": "markdown",
      "source": [
        "### Loss Function \n",
        "그냥 RSME같은 거를 손실함수로 씁니다.\n",
        "\n",
        "## 2-5 경사하강법\n",
        "2차원에서 gradient 계산\n",
        "$η$\n",
        "\n",
        "Q나) 왜 Gradient라면서 두 변수 w, b에 대한 편미분값을 반환하나? 벡터가 아니고 튜플이잖아. 근데 값은 제대로 전달했으니 잘 쓰면 되는거 아닌가? 근데 써먹는 쪽에서는 벡터 내적과 같은 식으로 받았으니 상관이 없네\n",
        "\n"
      ],
      "metadata": {
        "id": "10PEMt1CtlRf"
      }
    },
    {
      "cell_type": "markdown",
      "source": [
        "# 2-12 project 1. 당뇨병 환자 데이터로 실습\n",
        "\n",
        "## (1)데이터를 df_X, df_Y에 저장하기 : 이건 pandas의 DataFrame으로 저장하라는 것 같습니다."
      ],
      "metadata": {
        "id": "8177atWtx2iU"
      }
    },
    {
      "cell_type": "code",
      "execution_count": null,
      "metadata": {
        "colab": {
          "base_uri": "https://localhost:8080/"
        },
        "id": "njhr2UCCo58D",
        "outputId": "0a0fba17-7a2e-43ca-c2e2-4ae45ce6a0d2"
      },
      "outputs": [
        {
          "output_type": "execute_result",
          "data": {
            "text/plain": [
              "dict_keys(['data', 'target', 'frame', 'DESCR', 'feature_names', 'data_filename', 'target_filename', 'data_module'])"
            ]
          },
          "metadata": {},
          "execution_count": 3
        }
      ],
      "source": [
        "import numpy as np\n",
        "import matplotlib.pyplot as plt\n",
        "import pandas as pd\n",
        "import seaborn as sns\n",
        "from sklearn.linear_model import LinearRegression\n",
        "\n",
        "\n",
        "from sklearn.datasets import load_diabetes\n",
        "diab=load_diabetes()\n",
        "diab.keys()"
      ]
    },
    {
      "cell_type": "markdown",
      "source": [
        "pandas dataframe에 잘 넣어봅시다. df_X의 각각의 column에 feature name과 데이터를 넣고, df_Y는 target값을 확인해야 하겠습니다."
      ],
      "metadata": {
        "id": "c63cWBJVzGNo"
      }
    },
    {
      "cell_type": "markdown",
      "source": [
        "```python\n",
        "print(load_diabetes().data)\n",
        "print(diab.data.shape)\n",
        "print(diab.target)\n",
        "print(diab.feature_names)\n",
        "print(diab.DESCR)\n",
        "```\n"
      ],
      "metadata": {
        "id": "kifws2xZyRp7"
      }
    },
    {
      "cell_type": "markdown",
      "source": [
        "load_diabetes의 다음 정보들을 통해서 우리는 10 feature가 각각 어떤 것인지, Target이 무엇인지 등을 알 수 있었습니다. Target은 당뇨 진행도였고, 이것은 load_diabetes().target 에 1-d array로 저장돼 있었습니다. 나머지 feature는 $442 \\times 10$ dimension으로 data method로 호출 가능합니다. 따라서 df_X와 df_Y는 다음과 같이 됩니다."
      ],
      "metadata": {
        "id": "7W2x10wf0LkO"
      }
    },
    {
      "cell_type": "code",
      "source": [
        "df_X=pd.DataFrame(data=diab.data, columns=diab.feature_names)\n",
        "df_X.head()"
      ],
      "metadata": {
        "colab": {
          "base_uri": "https://localhost:8080/",
          "height": 206
        },
        "id": "rZluGdoiy4Tz",
        "outputId": "8c217e42-afed-41ab-9a26-1d4460f8e657"
      },
      "execution_count": null,
      "outputs": [
        {
          "output_type": "execute_result",
          "data": {
            "text/plain": [
              "        age       sex       bmi        bp        s1        s2        s3  \\\n",
              "0  0.038076  0.050680  0.061696  0.021872 -0.044223 -0.034821 -0.043401   \n",
              "1 -0.001882 -0.044642 -0.051474 -0.026328 -0.008449 -0.019163  0.074412   \n",
              "2  0.085299  0.050680  0.044451 -0.005671 -0.045599 -0.034194 -0.032356   \n",
              "3 -0.089063 -0.044642 -0.011595 -0.036656  0.012191  0.024991 -0.036038   \n",
              "4  0.005383 -0.044642 -0.036385  0.021872  0.003935  0.015596  0.008142   \n",
              "\n",
              "         s4        s5        s6  \n",
              "0 -0.002592  0.019908 -0.017646  \n",
              "1 -0.039493 -0.068330 -0.092204  \n",
              "2 -0.002592  0.002864 -0.025930  \n",
              "3  0.034309  0.022692 -0.009362  \n",
              "4 -0.002592 -0.031991 -0.046641  "
            ],
            "text/html": [
              "\n",
              "  <div id=\"df-77ba4000-3062-449f-b7a6-37dd4d30843d\">\n",
              "    <div class=\"colab-df-container\">\n",
              "      <div>\n",
              "<style scoped>\n",
              "    .dataframe tbody tr th:only-of-type {\n",
              "        vertical-align: middle;\n",
              "    }\n",
              "\n",
              "    .dataframe tbody tr th {\n",
              "        vertical-align: top;\n",
              "    }\n",
              "\n",
              "    .dataframe thead th {\n",
              "        text-align: right;\n",
              "    }\n",
              "</style>\n",
              "<table border=\"1\" class=\"dataframe\">\n",
              "  <thead>\n",
              "    <tr style=\"text-align: right;\">\n",
              "      <th></th>\n",
              "      <th>age</th>\n",
              "      <th>sex</th>\n",
              "      <th>bmi</th>\n",
              "      <th>bp</th>\n",
              "      <th>s1</th>\n",
              "      <th>s2</th>\n",
              "      <th>s3</th>\n",
              "      <th>s4</th>\n",
              "      <th>s5</th>\n",
              "      <th>s6</th>\n",
              "    </tr>\n",
              "  </thead>\n",
              "  <tbody>\n",
              "    <tr>\n",
              "      <th>0</th>\n",
              "      <td>0.038076</td>\n",
              "      <td>0.050680</td>\n",
              "      <td>0.061696</td>\n",
              "      <td>0.021872</td>\n",
              "      <td>-0.044223</td>\n",
              "      <td>-0.034821</td>\n",
              "      <td>-0.043401</td>\n",
              "      <td>-0.002592</td>\n",
              "      <td>0.019908</td>\n",
              "      <td>-0.017646</td>\n",
              "    </tr>\n",
              "    <tr>\n",
              "      <th>1</th>\n",
              "      <td>-0.001882</td>\n",
              "      <td>-0.044642</td>\n",
              "      <td>-0.051474</td>\n",
              "      <td>-0.026328</td>\n",
              "      <td>-0.008449</td>\n",
              "      <td>-0.019163</td>\n",
              "      <td>0.074412</td>\n",
              "      <td>-0.039493</td>\n",
              "      <td>-0.068330</td>\n",
              "      <td>-0.092204</td>\n",
              "    </tr>\n",
              "    <tr>\n",
              "      <th>2</th>\n",
              "      <td>0.085299</td>\n",
              "      <td>0.050680</td>\n",
              "      <td>0.044451</td>\n",
              "      <td>-0.005671</td>\n",
              "      <td>-0.045599</td>\n",
              "      <td>-0.034194</td>\n",
              "      <td>-0.032356</td>\n",
              "      <td>-0.002592</td>\n",
              "      <td>0.002864</td>\n",
              "      <td>-0.025930</td>\n",
              "    </tr>\n",
              "    <tr>\n",
              "      <th>3</th>\n",
              "      <td>-0.089063</td>\n",
              "      <td>-0.044642</td>\n",
              "      <td>-0.011595</td>\n",
              "      <td>-0.036656</td>\n",
              "      <td>0.012191</td>\n",
              "      <td>0.024991</td>\n",
              "      <td>-0.036038</td>\n",
              "      <td>0.034309</td>\n",
              "      <td>0.022692</td>\n",
              "      <td>-0.009362</td>\n",
              "    </tr>\n",
              "    <tr>\n",
              "      <th>4</th>\n",
              "      <td>0.005383</td>\n",
              "      <td>-0.044642</td>\n",
              "      <td>-0.036385</td>\n",
              "      <td>0.021872</td>\n",
              "      <td>0.003935</td>\n",
              "      <td>0.015596</td>\n",
              "      <td>0.008142</td>\n",
              "      <td>-0.002592</td>\n",
              "      <td>-0.031991</td>\n",
              "      <td>-0.046641</td>\n",
              "    </tr>\n",
              "  </tbody>\n",
              "</table>\n",
              "</div>\n",
              "      <button class=\"colab-df-convert\" onclick=\"convertToInteractive('df-77ba4000-3062-449f-b7a6-37dd4d30843d')\"\n",
              "              title=\"Convert this dataframe to an interactive table.\"\n",
              "              style=\"display:none;\">\n",
              "        \n",
              "  <svg xmlns=\"http://www.w3.org/2000/svg\" height=\"24px\"viewBox=\"0 0 24 24\"\n",
              "       width=\"24px\">\n",
              "    <path d=\"M0 0h24v24H0V0z\" fill=\"none\"/>\n",
              "    <path d=\"M18.56 5.44l.94 2.06.94-2.06 2.06-.94-2.06-.94-.94-2.06-.94 2.06-2.06.94zm-11 1L8.5 8.5l.94-2.06 2.06-.94-2.06-.94L8.5 2.5l-.94 2.06-2.06.94zm10 10l.94 2.06.94-2.06 2.06-.94-2.06-.94-.94-2.06-.94 2.06-2.06.94z\"/><path d=\"M17.41 7.96l-1.37-1.37c-.4-.4-.92-.59-1.43-.59-.52 0-1.04.2-1.43.59L10.3 9.45l-7.72 7.72c-.78.78-.78 2.05 0 2.83L4 21.41c.39.39.9.59 1.41.59.51 0 1.02-.2 1.41-.59l7.78-7.78 2.81-2.81c.8-.78.8-2.07 0-2.86zM5.41 20L4 18.59l7.72-7.72 1.47 1.35L5.41 20z\"/>\n",
              "  </svg>\n",
              "      </button>\n",
              "      \n",
              "  <style>\n",
              "    .colab-df-container {\n",
              "      display:flex;\n",
              "      flex-wrap:wrap;\n",
              "      gap: 12px;\n",
              "    }\n",
              "\n",
              "    .colab-df-convert {\n",
              "      background-color: #E8F0FE;\n",
              "      border: none;\n",
              "      border-radius: 50%;\n",
              "      cursor: pointer;\n",
              "      display: none;\n",
              "      fill: #1967D2;\n",
              "      height: 32px;\n",
              "      padding: 0 0 0 0;\n",
              "      width: 32px;\n",
              "    }\n",
              "\n",
              "    .colab-df-convert:hover {\n",
              "      background-color: #E2EBFA;\n",
              "      box-shadow: 0px 1px 2px rgba(60, 64, 67, 0.3), 0px 1px 3px 1px rgba(60, 64, 67, 0.15);\n",
              "      fill: #174EA6;\n",
              "    }\n",
              "\n",
              "    [theme=dark] .colab-df-convert {\n",
              "      background-color: #3B4455;\n",
              "      fill: #D2E3FC;\n",
              "    }\n",
              "\n",
              "    [theme=dark] .colab-df-convert:hover {\n",
              "      background-color: #434B5C;\n",
              "      box-shadow: 0px 1px 3px 1px rgba(0, 0, 0, 0.15);\n",
              "      filter: drop-shadow(0px 1px 2px rgba(0, 0, 0, 0.3));\n",
              "      fill: #FFFFFF;\n",
              "    }\n",
              "  </style>\n",
              "\n",
              "      <script>\n",
              "        const buttonEl =\n",
              "          document.querySelector('#df-77ba4000-3062-449f-b7a6-37dd4d30843d button.colab-df-convert');\n",
              "        buttonEl.style.display =\n",
              "          google.colab.kernel.accessAllowed ? 'block' : 'none';\n",
              "\n",
              "        async function convertToInteractive(key) {\n",
              "          const element = document.querySelector('#df-77ba4000-3062-449f-b7a6-37dd4d30843d');\n",
              "          const dataTable =\n",
              "            await google.colab.kernel.invokeFunction('convertToInteractive',\n",
              "                                                     [key], {});\n",
              "          if (!dataTable) return;\n",
              "\n",
              "          const docLinkHtml = 'Like what you see? Visit the ' +\n",
              "            '<a target=\"_blank\" href=https://colab.research.google.com/notebooks/data_table.ipynb>data table notebook</a>'\n",
              "            + ' to learn more about interactive tables.';\n",
              "          element.innerHTML = '';\n",
              "          dataTable['output_type'] = 'display_data';\n",
              "          await google.colab.output.renderOutput(dataTable, element);\n",
              "          const docLink = document.createElement('div');\n",
              "          docLink.innerHTML = docLinkHtml;\n",
              "          element.appendChild(docLink);\n",
              "        }\n",
              "      </script>\n",
              "    </div>\n",
              "  </div>\n",
              "  "
            ]
          },
          "metadata": {},
          "execution_count": 4
        }
      ]
    },
    {
      "cell_type": "code",
      "source": [
        "df_Y=pd.Series(data=diab.target)\n",
        "df_Y.head()"
      ],
      "metadata": {
        "colab": {
          "base_uri": "https://localhost:8080/"
        },
        "id": "i6BND6VJ1DlL",
        "outputId": "72914577-ebb1-4dbf-86a9-eb8d8bb63cb9"
      },
      "execution_count": null,
      "outputs": [
        {
          "output_type": "execute_result",
          "data": {
            "text/plain": [
              "0    151.0\n",
              "1     75.0\n",
              "2    141.0\n",
              "3    206.0\n",
              "4    135.0\n",
              "dtype: float64"
            ]
          },
          "metadata": {},
          "execution_count": 5
        }
      ]
    },
    {
      "cell_type": "markdown",
      "source": [
        "## (2, 3) 모델에 입력할 X, Y 준비하기 \n",
        "이걸 왜 하는지 모르겠습니다. 확인용일 수도 있겠네요. (4)에서는 df_X, df_Y로 넣어줘도 되는데요."
      ],
      "metadata": {
        "id": "mXEtOw531z8F"
      }
    },
    {
      "cell_type": "code",
      "source": [
        "X=diab.data\n",
        "Y=diab.target\n",
        "#print(X, Y)"
      ],
      "metadata": {
        "id": "AKFfy5mF1VwD"
      },
      "execution_count": null,
      "outputs": []
    },
    {
      "cell_type": "code",
      "source": [
        "from sklearn.model_selection import train_test_split\n",
        "#help(train_tset_split)"
      ],
      "metadata": {
        "id": "f0NMeJAT2Tro"
      },
      "execution_count": null,
      "outputs": []
    },
    {
      "cell_type": "markdown",
      "source": [
        "train_test_split의 사용방법이 기억나지 않아 help를 이용했습니다만 가독성을 고려해 주석처리 하겠습니다."
      ],
      "metadata": {
        "id": "sVpCj4Nv3jF4"
      }
    },
    {
      "cell_type": "code",
      "source": [
        "#X_train, X_test, Y_train, Y_test =train_test_split(df_X, df_Y, train_size=0.8, random_state=8)\n",
        "#or\n",
        "X_train, X_test, Y_train, Y_test =train_test_split(X, Y, train_size=0.8, random_state=8)"
      ],
      "metadata": {
        "id": "B4UO91ek2HBa"
      },
      "execution_count": null,
      "outputs": []
    },
    {
      "cell_type": "markdown",
      "source": [
        "## (5) w, b 준비하고 모델 함수 구현하기\n",
        "\n",
        "shape에서도 확인했지만 10개의 feature를 학습시킬 것이므로 10개의 w가 필요합니다. model은 linear regression을 사용하도록 하겠습니다. 이전에 썼기 때문입니다. b는 linear regression이니 1개만 있으면 됩니다."
      ],
      "metadata": {
        "id": "XMby8AWZ4msq"
      }
    },
    {
      "cell_type": "code",
      "source": [
        "w=np.ones((10,))/2 #all w, b set to 0.5 with no reason.\n",
        "b = 0.5\n",
        "\n",
        "def model(xs, weights, bias):\n",
        "    return xs.dot(weights)+bias\n",
        "model(X,w,b).shape"
      ],
      "metadata": {
        "colab": {
          "base_uri": "https://localhost:8080/"
        },
        "id": "RUrf2Co628ZJ",
        "outputId": "b9627761-96b6-4b8c-f49b-b23b5616767c"
      },
      "execution_count": null,
      "outputs": [
        {
          "output_type": "execute_result",
          "data": {
            "text/plain": [
              "(442,)"
            ]
          },
          "metadata": {},
          "execution_count": 9
        }
      ]
    },
    {
      "cell_type": "markdown",
      "source": [
        "## (6) loss function as MSE\n",
        "model의 예측값과 ys가 필요합니다."
      ],
      "metadata": {
        "id": "GFyvRS4P6X7-"
      }
    },
    {
      "cell_type": "code",
      "source": [
        "def loss(xdata,ys,weights,bias):\n",
        "    return sum([(model(xdata[i], weights, bias)-ys[i])**2 for i in range(len(ys))])/len(ys)\n",
        "loss(X, Y, w, b)"
      ],
      "metadata": {
        "colab": {
          "base_uri": "https://localhost:8080/"
        },
        "id": "XxcNhzS72-Mc",
        "outputId": "f6e8c4e8-82e2-401e-97d6-ab105900ad08"
      },
      "execution_count": null,
      "outputs": [
        {
          "output_type": "execute_result",
          "data": {
            "text/plain": [
              "28912.985110245623"
            ]
          },
          "metadata": {},
          "execution_count": 10
        }
      ]
    },
    {
      "cell_type": "markdown",
      "source": [
        "## (7) gradient 함수 정의하기\n",
        "이 경우 주어진 X(vector)에서 error function을 w0...w9로 편미분한 10차원 벡터값을 내놓으면 되는데 list로 반환하겠습니다. 산술적(해석적)으로 미분값을 계산할 수도 있고 수치적으로 할 수도 있는데 어떻게 할까요? 일단 해석적으로 하면\n",
        "$2 x_i \\vec{W_i} \\left({model(\\vec{x})-y_i}\\right) + 2 \\vec{b} \\left({model({\\vec{x})}-y_i}\\right)$ 이 되는데 이걸 쓰겠습니다. "
      ],
      "metadata": {
        "id": "cKokw1tZ82wq"
      }
    },
    {
      "cell_type": "code",
      "source": [
        "def grad_one_row(xdata, ys, weights, bias):\n",
        "    grad=np.zeros(10)\n",
        "    b_sum=0\n",
        "    for j in range(len(ys)):\n",
        "        for i in range(len(weights)):\n",
        "            grad+=2.0*xdata[j]*weights[i]*(model(xdata[j],weights,bias)-ys[j])\n",
        "            b_sum+=2.0*(model(xdata[j],weights,bias)-ys[j])\n",
        "    return grad/len(ys), b_sum/len(ys)"
      ],
      "metadata": {
        "id": "SbCFo4Us6CGG"
      },
      "execution_count": null,
      "outputs": []
    },
    {
      "cell_type": "code",
      "source": [
        "learning_rate=.001\n",
        "target_loss=1.0\n",
        "\n",
        "max_iter=3000\n",
        "closs=0.0\n",
        "\n",
        "\n",
        "for i in range(max_iter):\n",
        "    dw=np.zeros(10)\n",
        "    db=0\n",
        "    closs=loss(X_train, Y_train, w, b)\n",
        "    if closs<target_loss:\n",
        "        break\n",
        "    else:\n",
        "        dw,db=grad_one_row(X_train,Y_train,w,b)\n",
        "        w-=dw*learning_rate\n",
        "        b-=db*learning_rate\n",
        "\n",
        "#    print(i,'-th step loss:',closs)"
      ],
      "metadata": {
        "id": "XgMSTip5TQ0V"
      },
      "execution_count": null,
      "outputs": []
    },
    {
      "cell_type": "code",
      "source": [
        "print(len(X_train[:,0]),len(Y_train))\n",
        "plt.scatter(X_train[:,3],Y_train)\n",
        "plt.scatter(X_train[:,3],model(X_train,w,b))\n",
        "plt.show()\n",
        "plt.scatter(X_train[:,8],Y_train)\n",
        "plt.scatter(X_train[:,8],model(X_train,w,b))\n",
        "plt.show()"
      ],
      "metadata": {
        "colab": {
          "base_uri": "https://localhost:8080/",
          "height": 531
        },
        "id": "bD-CMhUBxcrQ",
        "outputId": "9f49ef6d-5964-4281-9d07-ed8cdbd09c59"
      },
      "execution_count": null,
      "outputs": [
        {
          "output_type": "stream",
          "name": "stdout",
          "text": [
            "353 353\n"
          ]
        },
        {
          "output_type": "display_data",
          "data": {
            "text/plain": [
              "<Figure size 432x288 with 1 Axes>"
            ],
            "image/png": "[encoded data removed]"
          },
          "metadata": {
            "needs_background": "light"
          }
        },
        {
          "output_type": "display_data",
          "data": {
            "text/plain": [
              "<Figure size 432x288 with 1 Axes>"
            ],
            "image/png": "[encoded data removed]"
          },
          "metadata": {
            "needs_background": "light"
          }
        }
      ]
    },
    {
      "cell_type": "code",
      "source": [
        "y_pred=model(X_test,w,b)\n",
        "#for i in range(len(y_pred)):\n",
        "    #print(y_pred[i],Y_test[i])\n",
        "\n",
        "print('total accuracy(my_LR) = {:.2%}'.format(float((1-np.abs(y_pred-Y_test)/Y_test).mean())))\n",
        "print(w,b)\n",
        "print(loss(X, Y, w, b))"
      ],
      "metadata": {
        "colab": {
          "base_uri": "https://localhost:8080/"
        },
        "id": "IY2_iIYVyFtU",
        "outputId": "82f7327e-6577-495f-a459-efa09e123f64"
      },
      "execution_count": null,
      "outputs": [
        {
          "output_type": "stream",
          "name": "stdout",
          "text": [
            "total accuracy(my_LR) = 61.30%\n",
            "[   6.22545817 -265.51921493  532.65974929  369.24880514 -152.85518375\n",
            "  -87.93766899 -208.85745151  139.01624114  422.58292944  106.26062347] 152.04650736973628\n"
          ]
        }
      ]
    },
    {
      "cell_type": "markdown",
      "source": [
        "## 직접 학습 모델을 코딩한 것과 sklearn의 결과 비교"
      ],
      "metadata": {
        "id": "D6Y-wxlJ1p6X"
      }
    },
    {
      "cell_type": "code",
      "source": [
        "sklearn_LR=LinearRegression()\n",
        "sklearn_LR.fit(X_train,Y_train)\n",
        "y_pred_sklearn = sklearn_LR.predict(X_test)\n",
        "\n",
        "print('total accuracy (SKlearn_LR)= {:.2%}'.format(float((1-np.abs(y_pred_sklearn-Y_test)/Y_test).mean())))"
      ],
      "metadata": {
        "colab": {
          "base_uri": "https://localhost:8080/"
        },
        "id": "_iPg9TIK3hti",
        "outputId": "406ecddf-8a45-4167-e9d2-8af2ad8f6e91"
      },
      "execution_count": null,
      "outputs": [
        {
          "output_type": "stream",
          "name": "stdout",
          "text": [
            "total accuracy (SKlearn_LR)= 61.01%\n"
          ]
        }
      ]
    },
    {
      "cell_type": "code",
      "source": [
        "print('total accuracy (SKlearn_LR)= {:.2%}'.format(float((1-np.abs(y_pred-y_pred_sklearn)/y_pred_sklearn).mean())))"
      ],
      "metadata": {
        "colab": {
          "base_uri": "https://localhost:8080/"
        },
        "id": "2Wn2tLSd3oyc",
        "outputId": "9cf17f2f-fd23-4dae-9979-ccbdea7402a9"
      },
      "execution_count": null,
      "outputs": [
        {
          "output_type": "stream",
          "name": "stdout",
          "text": [
            "total accuracy (SKlearn_LR)= 96.55%\n"
          ]
        }
      ]
    },
    {
      "cell_type": "code",
      "source": [
        "plt.scatter(y_pred,y_pred_sklearn)\n",
        "plt.show()"
      ],
      "metadata": {
        "colab": {
          "base_uri": "https://localhost:8080/",
          "height": 265
        },
        "id": "hjxu8toi5Ho0",
        "outputId": "e17941e3-f79b-42d7-e67e-c1bcce6b4849"
      },
      "execution_count": null,
      "outputs": [
        {
          "output_type": "display_data",
          "data": {
            "text/plain": [
              "<Figure size 432x288 with 1 Axes>"
            ],
            "image/png": "[encoded data removed]"
          },
          "metadata": {
            "needs_background": "light"
          }
        }
      ]
    },
    {
      "cell_type": "code",
      "source": [
        "df_X['target']=df_Y\n",
        "sns.heatmap(df_X.corr(), annot=True, cmap='RdYlGn')\n",
        "plt.gcf()\n",
        "plt.gcf().set_size_inches(8,6)\n",
        "plt.show()"
      ],
      "metadata": {
        "colab": {
          "base_uri": "https://localhost:8080/",
          "height": 378
        },
        "id": "O2U7pnIU5osY",
        "outputId": "99139b4e-63d5-4aa8-a92a-a30ff45cc590"
      },
      "execution_count": null,
      "outputs": [
        {
          "output_type": "display_data",
          "data": {
            "text/plain": [
              "<Figure size 576x432 with 2 Axes>"
            ],
            "image/png": "[encoded data removed]"
          },
          "metadata": {
            "needs_background": "light"
          }
        }
      ]
    },
    {
      "cell_type": "markdown",
      "source": [
        "# 날씨 좋은 월요일 오후 세 시, 자전거 타는 사람은 몇 명?\n",
        "지금 google colab에서 하고 있기 때문에, csv파일을 따로 업로드합니다. 현재 디렉토리에 test.csv, train.csv가 업로드됐다고 가정합니다."
      ],
      "metadata": {
        "id": "P2_QBJIm6VBv"
      }
    },
    {
      "cell_type": "code",
      "source": [
        "ctrain=pd.read_csv('train.csv')\n",
        "ctest=pd.read_csv('test.csv')"
      ],
      "metadata": {
        "id": "ErlVh3ZG926Y"
      },
      "execution_count": null,
      "outputs": []
    },
    {
      "cell_type": "code",
      "source": [
        "print(ctrain.head())\n",
        "print(ctest.head())\n",
        "print(ctrain.isnull().any())\n",
        "print(ctest.isnull().any())"
      ],
      "metadata": {
        "colab": {
          "base_uri": "https://localhost:8080/"
        },
        "id": "GamNRBFO-CCn",
        "outputId": "0bfd3f32-203a-4cb5-ba24-53f2f78eee1b"
      },
      "execution_count": null,
      "outputs": [
        {
          "output_type": "stream",
          "name": "stdout",
          "text": [
            "              datetime  season  holiday  workingday  weather  temp   atemp  \\\n",
            "0  2011-01-01 00:00:00       1        0           0        1  9.84  14.395   \n",
            "1  2011-01-01 01:00:00       1        0           0        1  9.02  13.635   \n",
            "2  2011-01-01 02:00:00       1        0           0        1  9.02  13.635   \n",
            "3  2011-01-01 03:00:00       1        0           0        1  9.84  14.395   \n",
            "4  2011-01-01 04:00:00       1        0           0        1  9.84  14.395   \n",
            "\n",
            "   humidity  windspeed  casual  registered  count  \n",
            "0        81        0.0       3          13     16  \n",
            "1        80        0.0       8          32     40  \n",
            "2        80        0.0       5          27     32  \n",
            "3        75        0.0       3          10     13  \n",
            "4        75        0.0       0           1      1  \n",
            "              datetime  season  holiday  workingday  weather   temp   atemp  \\\n",
            "0  2011-01-20 00:00:00       1        0           1        1  10.66  11.365   \n",
            "1  2011-01-20 01:00:00       1        0           1        1  10.66  13.635   \n",
            "2  2011-01-20 02:00:00       1        0           1        1  10.66  13.635   \n",
            "3  2011-01-20 03:00:00       1        0           1        1  10.66  12.880   \n",
            "4  2011-01-20 04:00:00       1        0           1        1  10.66  12.880   \n",
            "\n",
            "   humidity  windspeed  \n",
            "0        56    26.0027  \n",
            "1        56     0.0000  \n",
            "2        56     0.0000  \n",
            "3        56    11.0014  \n",
            "4        56    11.0014  \n",
            "datetime      False\n",
            "season        False\n",
            "holiday       False\n",
            "workingday    False\n",
            "weather       False\n",
            "temp          False\n",
            "atemp         False\n",
            "humidity      False\n",
            "windspeed     False\n",
            "casual        False\n",
            "registered    False\n",
            "count         False\n",
            "dtype: bool\n",
            "datetime      False\n",
            "season        False\n",
            "holiday       False\n",
            "workingday    False\n",
            "weather       False\n",
            "temp          False\n",
            "atemp         False\n",
            "humidity      False\n",
            "windspeed     False\n",
            "dtype: bool\n"
          ]
        }
      ]
    },
    {
      "cell_type": "code",
      "source": [
        "ctrain['datetime']"
      ],
      "metadata": {
        "colab": {
          "base_uri": "https://localhost:8080/"
        },
        "id": "XgfoAWyz-2xC",
        "outputId": "99fc0397-8bb4-42d4-b6ac-911bb1ddd1c8"
      },
      "execution_count": null,
      "outputs": [
        {
          "output_type": "execute_result",
          "data": {
            "text/plain": [
              "0        2011-01-01 00:00:00\n",
              "1        2011-01-01 01:00:00\n",
              "2        2011-01-01 02:00:00\n",
              "3        2011-01-01 03:00:00\n",
              "4        2011-01-01 04:00:00\n",
              "                ...         \n",
              "10881    2012-12-19 19:00:00\n",
              "10882    2012-12-19 20:00:00\n",
              "10883    2012-12-19 21:00:00\n",
              "10884    2012-12-19 22:00:00\n",
              "10885    2012-12-19 23:00:00\n",
              "Name: datetime, Length: 10886, dtype: object"
            ]
          },
          "metadata": {},
          "execution_count": 100
        }
      ]
    },
    {
      "cell_type": "markdown",
      "source": [
        "## 일시 데이터 나누기 : 여기서는 pandas의 Datetimeindex 메소드를 사용합니다. \n",
        "\n",
        "```python\n",
        "pd.DatetimeIndex(ctrain['datetime'])\n",
        "```"
      ],
      "metadata": {
        "id": "3_Fw4gusBqk4"
      }
    },
    {
      "cell_type": "code",
      "source": [
        "#datetimes=pd.to_datetime(cycle_train_data['datetime'])\n",
        "pd.DatetimeIndex(ctrain['datetime']).year\n"
      ],
      "metadata": {
        "colab": {
          "base_uri": "https://localhost:8080/"
        },
        "id": "sLpGuJg9_DcV",
        "outputId": "bacf4d36-63b7-41ae-93cc-a82cd424ad88"
      },
      "execution_count": null,
      "outputs": [
        {
          "output_type": "execute_result",
          "data": {
            "text/plain": [
              "Int64Index([2011, 2011, 2011, 2011, 2011, 2011, 2011, 2011, 2011, 2011,\n",
              "            ...\n",
              "            2012, 2012, 2012, 2012, 2012, 2012, 2012, 2012, 2012, 2012],\n",
              "           dtype='int64', name='datetime', length=10886)"
            ]
          },
          "metadata": {},
          "execution_count": 101
        }
      ]
    },
    {
      "cell_type": "code",
      "source": [
        "ctrain['year']=0\n",
        "ctrain['month']=0\n",
        "ctrain['day']=0\n",
        "ctrain['hour']=0\n",
        "ctrain['minute']=0\n",
        "ctrain['second']=0\n",
        "\n",
        "ctrain['year']=pd.DatetimeIndex(ctrain['datetime']).year\n",
        "ctrain['month']=pd.DatetimeIndex(ctrain['datetime']).month\n",
        "ctrain['day']=pd.DatetimeIndex(ctrain['datetime']).day\n",
        "ctrain['hour']=pd.DatetimeIndex(ctrain['datetime']).hour\n",
        "ctrain['minute']=pd.DatetimeIndex(ctrain['datetime']).minute\n",
        "ctrain['second']=pd.DatetimeIndex(ctrain['datetime']).second\n",
        "ctrain"
      ],
      "metadata": {
        "colab": {
          "base_uri": "https://localhost:8080/",
          "height": 424
        },
        "id": "ZmdxJ_3P_LY7",
        "outputId": "47664081-5e18-4e8c-b7da-477b31898a42"
      },
      "execution_count": null,
      "outputs": [
        {
          "output_type": "execute_result",
          "data": {
            "text/plain": [
              "                  datetime  season  holiday  workingday  weather   temp  \\\n",
              "0      2011-01-01 00:00:00       1        0           0        1   9.84   \n",
              "1      2011-01-01 01:00:00       1        0           0        1   9.02   \n",
              "2      2011-01-01 02:00:00       1        0           0        1   9.02   \n",
              "3      2011-01-01 03:00:00       1        0           0        1   9.84   \n",
              "4      2011-01-01 04:00:00       1        0           0        1   9.84   \n",
              "...                    ...     ...      ...         ...      ...    ...   \n",
              "10881  2012-12-19 19:00:00       4        0           1        1  15.58   \n",
              "10882  2012-12-19 20:00:00       4        0           1        1  14.76   \n",
              "10883  2012-12-19 21:00:00       4        0           1        1  13.94   \n",
              "10884  2012-12-19 22:00:00       4        0           1        1  13.94   \n",
              "10885  2012-12-19 23:00:00       4        0           1        1  13.12   \n",
              "\n",
              "        atemp  humidity  windspeed  casual  registered  count  year  month  \\\n",
              "0      14.395        81     0.0000       3          13     16  2011      1   \n",
              "1      13.635        80     0.0000       8          32     40  2011      1   \n",
              "2      13.635        80     0.0000       5          27     32  2011      1   \n",
              "3      14.395        75     0.0000       3          10     13  2011      1   \n",
              "4      14.395        75     0.0000       0           1      1  2011      1   \n",
              "...       ...       ...        ...     ...         ...    ...   ...    ...   \n",
              "10881  19.695        50    26.0027       7         329    336  2012     12   \n",
              "10882  17.425        57    15.0013      10         231    241  2012     12   \n",
              "10883  15.910        61    15.0013       4         164    168  2012     12   \n",
              "10884  17.425        61     6.0032      12         117    129  2012     12   \n",
              "10885  16.665        66     8.9981       4          84     88  2012     12   \n",
              "\n",
              "       day  hour  minute  second  \n",
              "0        1     0       0       0  \n",
              "1        1     1       0       0  \n",
              "2        1     2       0       0  \n",
              "3        1     3       0       0  \n",
              "4        1     4       0       0  \n",
              "...    ...   ...     ...     ...  \n",
              "10881   19    19       0       0  \n",
              "10882   19    20       0       0  \n",
              "10883   19    21       0       0  \n",
              "10884   19    22       0       0  \n",
              "10885   19    23       0       0  \n",
              "\n",
              "[10886 rows x 18 columns]"
            ],
            "text/html": [
              "\n",
              "  <div id=\"df-c084a92f-a9f5-4d91-b5cd-f31cba412ca5\">\n",
              "    <div class=\"colab-df-container\">\n",
              "      <div>\n",
              "<style scoped>\n",
              "    .dataframe tbody tr th:only-of-type {\n",
              "        vertical-align: middle;\n",
              "    }\n",
              "\n",
              "    .dataframe tbody tr th {\n",
              "        vertical-align: top;\n",
              "    }\n",
              "\n",
              "    .dataframe thead th {\n",
              "        text-align: right;\n",
              "    }\n",
              "</style>\n",
              "<table border=\"1\" class=\"dataframe\">\n",
              "  <thead>\n",
              "    <tr style=\"text-align: right;\">\n",
              "      <th></th>\n",
              "      <th>datetime</th>\n",
              "      <th>season</th>\n",
              "      <th>holiday</th>\n",
              "      <th>workingday</th>\n",
              "      <th>weather</th>\n",
              "      <th>temp</th>\n",
              "      <th>atemp</th>\n",
              "      <th>humidity</th>\n",
              "      <th>windspeed</th>\n",
              "      <th>casual</th>\n",
              "      <th>registered</th>\n",
              "      <th>count</th>\n",
              "      <th>year</th>\n",
              "      <th>month</th>\n",
              "      <th>day</th>\n",
              "      <th>hour</th>\n",
              "      <th>minute</th>\n",
              "      <th>second</th>\n",
              "    </tr>\n",
              "  </thead>\n",
              "  <tbody>\n",
              "    <tr>\n",
              "      <th>0</th>\n",
              "      <td>2011-01-01 00:00:00</td>\n",
              "      <td>1</td>\n",
              "      <td>0</td>\n",
              "      <td>0</td>\n",
              "      <td>1</td>\n",
              "      <td>9.84</td>\n",
              "      <td>14.395</td>\n",
              "      <td>81</td>\n",
              "      <td>0.0000</td>\n",
              "      <td>3</td>\n",
              "      <td>13</td>\n",
              "      <td>16</td>\n",
              "      <td>2011</td>\n",
              "      <td>1</td>\n",
              "      <td>1</td>\n",
              "      <td>0</td>\n",
              "      <td>0</td>\n",
              "      <td>0</td>\n",
              "    </tr>\n",
              "    <tr>\n",
              "      <th>1</th>\n",
              "      <td>2011-01-01 01:00:00</td>\n",
              "      <td>1</td>\n",
              "      <td>0</td>\n",
              "      <td>0</td>\n",
              "      <td>1</td>\n",
              "      <td>9.02</td>\n",
              "      <td>13.635</td>\n",
              "      <td>80</td>\n",
              "      <td>0.0000</td>\n",
              "      <td>8</td>\n",
              "      <td>32</td>\n",
              "      <td>40</td>\n",
              "      <td>2011</td>\n",
              "      <td>1</td>\n",
              "      <td>1</td>\n",
              "      <td>1</td>\n",
              "      <td>0</td>\n",
              "      <td>0</td>\n",
              "    </tr>\n",
              "    <tr>\n",
              "      <th>2</th>\n",
              "      <td>2011-01-01 02:00:00</td>\n",
              "      <td>1</td>\n",
              "      <td>0</td>\n",
              "      <td>0</td>\n",
              "      <td>1</td>\n",
              "      <td>9.02</td>\n",
              "      <td>13.635</td>\n",
              "      <td>80</td>\n",
              "      <td>0.0000</td>\n",
              "      <td>5</td>\n",
              "      <td>27</td>\n",
              "      <td>32</td>\n",
              "      <td>2011</td>\n",
              "      <td>1</td>\n",
              "      <td>1</td>\n",
              "      <td>2</td>\n",
              "      <td>0</td>\n",
              "      <td>0</td>\n",
              "    </tr>\n",
              "    <tr>\n",
              "      <th>3</th>\n",
              "      <td>2011-01-01 03:00:00</td>\n",
              "      <td>1</td>\n",
              "      <td>0</td>\n",
              "      <td>0</td>\n",
              "      <td>1</td>\n",
              "      <td>9.84</td>\n",
              "      <td>14.395</td>\n",
              "      <td>75</td>\n",
              "      <td>0.0000</td>\n",
              "      <td>3</td>\n",
              "      <td>10</td>\n",
              "      <td>13</td>\n",
              "      <td>2011</td>\n",
              "      <td>1</td>\n",
              "      <td>1</td>\n",
              "      <td>3</td>\n",
              "      <td>0</td>\n",
              "      <td>0</td>\n",
              "    </tr>\n",
              "    <tr>\n",
              "      <th>4</th>\n",
              "      <td>2011-01-01 04:00:00</td>\n",
              "      <td>1</td>\n",
              "      <td>0</td>\n",
              "      <td>0</td>\n",
              "      <td>1</td>\n",
              "      <td>9.84</td>\n",
              "      <td>14.395</td>\n",
              "      <td>75</td>\n",
              "      <td>0.0000</td>\n",
              "      <td>0</td>\n",
              "      <td>1</td>\n",
              "      <td>1</td>\n",
              "      <td>2011</td>\n",
              "      <td>1</td>\n",
              "      <td>1</td>\n",
              "      <td>4</td>\n",
              "      <td>0</td>\n",
              "      <td>0</td>\n",
              "    </tr>\n",
              "    <tr>\n",
              "      <th>...</th>\n",
              "      <td>...</td>\n",
              "      <td>...</td>\n",
              "      <td>...</td>\n",
              "      <td>...</td>\n",
              "      <td>...</td>\n",
              "      <td>...</td>\n",
              "      <td>...</td>\n",
              "      <td>...</td>\n",
              "      <td>...</td>\n",
              "      <td>...</td>\n",
              "      <td>...</td>\n",
              "      <td>...</td>\n",
              "      <td>...</td>\n",
              "      <td>...</td>\n",
              "      <td>...</td>\n",
              "      <td>...</td>\n",
              "      <td>...</td>\n",
              "      <td>...</td>\n",
              "    </tr>\n",
              "    <tr>\n",
              "      <th>10881</th>\n",
              "      <td>2012-12-19 19:00:00</td>\n",
              "      <td>4</td>\n",
              "      <td>0</td>\n",
              "      <td>1</td>\n",
              "      <td>1</td>\n",
              "      <td>15.58</td>\n",
              "      <td>19.695</td>\n",
              "      <td>50</td>\n",
              "      <td>26.0027</td>\n",
              "      <td>7</td>\n",
              "      <td>329</td>\n",
              "      <td>336</td>\n",
              "      <td>2012</td>\n",
              "      <td>12</td>\n",
              "      <td>19</td>\n",
              "      <td>19</td>\n",
              "      <td>0</td>\n",
              "      <td>0</td>\n",
              "    </tr>\n",
              "    <tr>\n",
              "      <th>10882</th>\n",
              "      <td>2012-12-19 20:00:00</td>\n",
              "      <td>4</td>\n",
              "      <td>0</td>\n",
              "      <td>1</td>\n",
              "      <td>1</td>\n",
              "      <td>14.76</td>\n",
              "      <td>17.425</td>\n",
              "      <td>57</td>\n",
              "      <td>15.0013</td>\n",
              "      <td>10</td>\n",
              "      <td>231</td>\n",
              "      <td>241</td>\n",
              "      <td>2012</td>\n",
              "      <td>12</td>\n",
              "      <td>19</td>\n",
              "      <td>20</td>\n",
              "      <td>0</td>\n",
              "      <td>0</td>\n",
              "    </tr>\n",
              "    <tr>\n",
              "      <th>10883</th>\n",
              "      <td>2012-12-19 21:00:00</td>\n",
              "      <td>4</td>\n",
              "      <td>0</td>\n",
              "      <td>1</td>\n",
              "      <td>1</td>\n",
              "      <td>13.94</td>\n",
              "      <td>15.910</td>\n",
              "      <td>61</td>\n",
              "      <td>15.0013</td>\n",
              "      <td>4</td>\n",
              "      <td>164</td>\n",
              "      <td>168</td>\n",
              "      <td>2012</td>\n",
              "      <td>12</td>\n",
              "      <td>19</td>\n",
              "      <td>21</td>\n",
              "      <td>0</td>\n",
              "      <td>0</td>\n",
              "    </tr>\n",
              "    <tr>\n",
              "      <th>10884</th>\n",
              "      <td>2012-12-19 22:00:00</td>\n",
              "      <td>4</td>\n",
              "      <td>0</td>\n",
              "      <td>1</td>\n",
              "      <td>1</td>\n",
              "      <td>13.94</td>\n",
              "      <td>17.425</td>\n",
              "      <td>61</td>\n",
              "      <td>6.0032</td>\n",
              "      <td>12</td>\n",
              "      <td>117</td>\n",
              "      <td>129</td>\n",
              "      <td>2012</td>\n",
              "      <td>12</td>\n",
              "      <td>19</td>\n",
              "      <td>22</td>\n",
              "      <td>0</td>\n",
              "      <td>0</td>\n",
              "    </tr>\n",
              "    <tr>\n",
              "      <th>10885</th>\n",
              "      <td>2012-12-19 23:00:00</td>\n",
              "      <td>4</td>\n",
              "      <td>0</td>\n",
              "      <td>1</td>\n",
              "      <td>1</td>\n",
              "      <td>13.12</td>\n",
              "      <td>16.665</td>\n",
              "      <td>66</td>\n",
              "      <td>8.9981</td>\n",
              "      <td>4</td>\n",
              "      <td>84</td>\n",
              "      <td>88</td>\n",
              "      <td>2012</td>\n",
              "      <td>12</td>\n",
              "      <td>19</td>\n",
              "      <td>23</td>\n",
              "      <td>0</td>\n",
              "      <td>0</td>\n",
              "    </tr>\n",
              "  </tbody>\n",
              "</table>\n",
              "<p>10886 rows × 18 columns</p>\n",
              "</div>\n",
              "      <button class=\"colab-df-convert\" onclick=\"convertToInteractive('df-c084a92f-a9f5-4d91-b5cd-f31cba412ca5')\"\n",
              "              title=\"Convert this dataframe to an interactive table.\"\n",
              "              style=\"display:none;\">\n",
              "        \n",
              "  <svg xmlns=\"http://www.w3.org/2000/svg\" height=\"24px\"viewBox=\"0 0 24 24\"\n",
              "       width=\"24px\">\n",
              "    <path d=\"M0 0h24v24H0V0z\" fill=\"none\"/>\n",
              "    <path d=\"M18.56 5.44l.94 2.06.94-2.06 2.06-.94-2.06-.94-.94-2.06-.94 2.06-2.06.94zm-11 1L8.5 8.5l.94-2.06 2.06-.94-2.06-.94L8.5 2.5l-.94 2.06-2.06.94zm10 10l.94 2.06.94-2.06 2.06-.94-2.06-.94-.94-2.06-.94 2.06-2.06.94z\"/><path d=\"M17.41 7.96l-1.37-1.37c-.4-.4-.92-.59-1.43-.59-.52 0-1.04.2-1.43.59L10.3 9.45l-7.72 7.72c-.78.78-.78 2.05 0 2.83L4 21.41c.39.39.9.59 1.41.59.51 0 1.02-.2 1.41-.59l7.78-7.78 2.81-2.81c.8-.78.8-2.07 0-2.86zM5.41 20L4 18.59l7.72-7.72 1.47 1.35L5.41 20z\"/>\n",
              "  </svg>\n",
              "      </button>\n",
              "      \n",
              "  <style>\n",
              "    .colab-df-container {\n",
              "      display:flex;\n",
              "      flex-wrap:wrap;\n",
              "      gap: 12px;\n",
              "    }\n",
              "\n",
              "    .colab-df-convert {\n",
              "      background-color: #E8F0FE;\n",
              "      border: none;\n",
              "      border-radius: 50%;\n",
              "      cursor: pointer;\n",
              "      display: none;\n",
              "      fill: #1967D2;\n",
              "      height: 32px;\n",
              "      padding: 0 0 0 0;\n",
              "      width: 32px;\n",
              "    }\n",
              "\n",
              "    .colab-df-convert:hover {\n",
              "      background-color: #E2EBFA;\n",
              "      box-shadow: 0px 1px 2px rgba(60, 64, 67, 0.3), 0px 1px 3px 1px rgba(60, 64, 67, 0.15);\n",
              "      fill: #174EA6;\n",
              "    }\n",
              "\n",
              "    [theme=dark] .colab-df-convert {\n",
              "      background-color: #3B4455;\n",
              "      fill: #D2E3FC;\n",
              "    }\n",
              "\n",
              "    [theme=dark] .colab-df-convert:hover {\n",
              "      background-color: #434B5C;\n",
              "      box-shadow: 0px 1px 3px 1px rgba(0, 0, 0, 0.15);\n",
              "      filter: drop-shadow(0px 1px 2px rgba(0, 0, 0, 0.3));\n",
              "      fill: #FFFFFF;\n",
              "    }\n",
              "  </style>\n",
              "\n",
              "      <script>\n",
              "        const buttonEl =\n",
              "          document.querySelector('#df-c084a92f-a9f5-4d91-b5cd-f31cba412ca5 button.colab-df-convert');\n",
              "        buttonEl.style.display =\n",
              "          google.colab.kernel.accessAllowed ? 'block' : 'none';\n",
              "\n",
              "        async function convertToInteractive(key) {\n",
              "          const element = document.querySelector('#df-c084a92f-a9f5-4d91-b5cd-f31cba412ca5');\n",
              "          const dataTable =\n",
              "            await google.colab.kernel.invokeFunction('convertToInteractive',\n",
              "                                                     [key], {});\n",
              "          if (!dataTable) return;\n",
              "\n",
              "          const docLinkHtml = 'Like what you see? Visit the ' +\n",
              "            '<a target=\"_blank\" href=https://colab.research.google.com/notebooks/data_table.ipynb>data table notebook</a>'\n",
              "            + ' to learn more about interactive tables.';\n",
              "          element.innerHTML = '';\n",
              "          dataTable['output_type'] = 'display_data';\n",
              "          await google.colab.output.renderOutput(dataTable, element);\n",
              "          const docLink = document.createElement('div');\n",
              "          docLink.innerHTML = docLinkHtml;\n",
              "          element.appendChild(docLink);\n",
              "        }\n",
              "      </script>\n",
              "    </div>\n",
              "  </div>\n",
              "  "
            ]
          },
          "metadata": {},
          "execution_count": 102
        }
      ]
    },
    {
      "cell_type": "code",
      "source": [
        "fig, ax=plt.subplots(2,3)\n",
        "sns.countplot(ctrain['year'],ax=ax[0,0])\n",
        "sns.countplot(ctrain['month'],ax=ax[0,1])\n",
        "sns.countplot(ctrain['day'],ax=ax[0,2])\n",
        "sns.countplot(ctrain['hour'],ax=ax[1,0])\n",
        "sns.countplot(ctrain['minute'],ax=ax[1,1])\n",
        "sns.countplot(ctrain['second'],ax=ax[1,2])\n",
        "plt.show()"
      ],
      "metadata": {
        "colab": {
          "base_uri": "https://localhost:8080/",
          "height": 523
        },
        "id": "WOa0jVmW_5FK",
        "outputId": "76550d85-b388-4f96-9be1-7f96b7252067"
      },
      "execution_count": null,
      "outputs": [
        {
          "output_type": "stream",
          "name": "stderr",
          "text": [
            "/usr/local/lib/python3.7/dist-packages/seaborn/_decorators.py:43: FutureWarning: Pass the following variable as a keyword arg: x. From version 0.12, the only valid positional argument will be `data`, and passing other arguments without an explicit keyword will result in an error or misinterpretation.\n",
            "  FutureWarning\n",
            "/usr/local/lib/python3.7/dist-packages/seaborn/_decorators.py:43: FutureWarning: Pass the following variable as a keyword arg: x. From version 0.12, the only valid positional argument will be `data`, and passing other arguments without an explicit keyword will result in an error or misinterpretation.\n",
            "  FutureWarning\n",
            "/usr/local/lib/python3.7/dist-packages/seaborn/_decorators.py:43: FutureWarning: Pass the following variable as a keyword arg: x. From version 0.12, the only valid positional argument will be `data`, and passing other arguments without an explicit keyword will result in an error or misinterpretation.\n",
            "  FutureWarning\n",
            "/usr/local/lib/python3.7/dist-packages/seaborn/_decorators.py:43: FutureWarning: Pass the following variable as a keyword arg: x. From version 0.12, the only valid positional argument will be `data`, and passing other arguments without an explicit keyword will result in an error or misinterpretation.\n",
            "  FutureWarning\n",
            "/usr/local/lib/python3.7/dist-packages/seaborn/_decorators.py:43: FutureWarning: Pass the following variable as a keyword arg: x. From version 0.12, the only valid positional argument will be `data`, and passing other arguments without an explicit keyword will result in an error or misinterpretation.\n",
            "  FutureWarning\n",
            "/usr/local/lib/python3.7/dist-packages/seaborn/_decorators.py:43: FutureWarning: Pass the following variable as a keyword arg: x. From version 0.12, the only valid positional argument will be `data`, and passing other arguments without an explicit keyword will result in an error or misinterpretation.\n",
            "  FutureWarning\n"
          ]
        },
        {
          "output_type": "display_data",
          "data": {
            "text/plain": [
              "<Figure size 432x288 with 6 Axes>"
            ],
            "image/png": "[encoded data removed]"
          },
          "metadata": {
            "needs_background": "light"
          }
        }
      ]
    },
    {
      "cell_type": "code",
      "source": [
        "fig, ax=plt.subplots(2,2,figsize=(16,9))\n",
        "sns.lineplot(range(1,25),ctrain.groupby('hour')['count'].mean(),ax=ax[0,0])\n",
        "#pd.Series(data=ctrain.groupby('hour')['count'].mean()).plot(ax=ax[0,0])\n",
        "pd.Series(data=ctrain.groupby('day')['count'].mean()).plot(ax=ax[0,1])\n",
        "pd.Series(data=ctrain.groupby('month')['count'].mean()).plot(ax=ax[1,0])\n",
        "pd.Series(data=ctrain.groupby('year')['count'].mean()).plot(ax=ax[1,1])\n",
        "\n",
        "plt.show()"
      ],
      "metadata": {
        "id": "A82mVVllF5cu",
        "colab": {
          "base_uri": "https://localhost:8080/",
          "height": 608
        },
        "outputId": "f85e491c-8667-41be-baf5-659d3fe23587"
      },
      "execution_count": null,
      "outputs": [
        {
          "output_type": "stream",
          "name": "stderr",
          "text": [
            "/usr/local/lib/python3.7/dist-packages/seaborn/_decorators.py:43: FutureWarning: Pass the following variables as keyword args: x, y. From version 0.12, the only valid positional argument will be `data`, and passing other arguments without an explicit keyword will result in an error or misinterpretation.\n",
            "  FutureWarning\n"
          ]
        },
        {
          "output_type": "display_data",
          "data": {
            "text/plain": [
              "<Figure size 1152x648 with 4 Axes>"
            ],
            "image/png": "[encoded data removed]"
          },
          "metadata": {
            "needs_background": "light"
          }
        }
      ]
    },
    {
      "cell_type": "markdown",
      "source": [
        "### 시간에 따른 자전거 대여 수 그래프 해석\n",
        "자전거 대여 수는 count로 주어져 있었습니다. \n",
        "- 먼저 ax[0,0] (좌상단)은 hour-count 즉 시간대별 대여수입니다. 9시, 18시에 크게 대여수가 올라가는 것을 알 수 있습니다. 새벽시간인 5시에는 거의 0에 가까워집니다. 이 시간대는 흔히 '출퇴근시간'으로 불리는 때로 인구이동이 많아지고, 자전거 대여수도 많아지는 것이 합리적으로 보입니다.  \n",
        "- 우상단 ax[0,1]은 일별 데이터입니다만 수직축(대여수)의 최소값이 약 180, 최대값이 205 정도로 별로 차이가 없습니다. 또 0~19범위에만 값이 있는 것 같아 우리가 일반적으로 아는 day와 같은지 다시 확인할 필요가 있겠습니다만 아무튼 크게 차이는 없습니다.\n",
        "- 좌상단 ax[1,0]은 1월에 비해 6월에 3배 가까이 대여수가 늘어나는 것을 보여주고 있습니다. 6-10월까지는 대여수가 크게 유지됩니다.\n",
        "- 우하단 ax[1,1]은 사실 2011년, 2012년밖에 없습니다. 1년새 대여 숫자가 꽤 늘었습니다."
      ],
      "metadata": {
        "id": "VtyQo0bMndiK"
      }
    },
    {
      "cell_type": "code",
      "source": [
        "ctest['year']=0\n",
        "ctest['month']=0\n",
        "ctest['day']=0\n",
        "ctest['hour']=0\n",
        "\n",
        "ctest['year']=pd.DatetimeIndex(ctest['datetime']).year\n",
        "ctest['month']=pd.DatetimeIndex(ctest['datetime']).month\n",
        "ctest['day']=pd.DatetimeIndex(ctest['datetime']).day\n",
        "ctest['hour']=pd.DatetimeIndex(ctest['datetime']).hour"
      ],
      "metadata": {
        "id": "0MCQVmkdYNTI"
      },
      "execution_count": null,
      "outputs": []
    },
    {
      "cell_type": "code",
      "source": [
        "ctrain.drop(['datetime','casual','registered','minute','second'],axis=1,inplace=True)\n",
        "ctest.drop('datetime',axis=1,inplace=True)"
      ],
      "metadata": {
        "id": "Da2hSAU1cab9"
      },
      "execution_count": null,
      "outputs": []
    },
    {
      "cell_type": "code",
      "source": [
        "Y=ctrain['count'].to_numpy()\n",
        "ctrain.drop('count',axis=1,inplace=True)\n",
        "X=ctrain\n",
        "X_train,X_test,y_train,y_test=train_test_split(X,Y,test_size=0.2, random_state=8)"
      ],
      "metadata": {
        "id": "fndsYJRickVg"
      },
      "execution_count": null,
      "outputs": []
    },
    {
      "cell_type": "code",
      "source": [
        ""
      ],
      "metadata": {
        "colab": {
          "base_uri": "https://localhost:8080/"
        },
        "id": "BNdADoNafhYw",
        "outputId": "60c40fa6-83c0-465b-9963-22d742fdb769"
      },
      "execution_count": null,
      "outputs": [
        {
          "output_type": "execute_result",
          "data": {
            "text/plain": [
              "array([220, 156, 250, ..., 556, 626, 137])"
            ]
          },
          "metadata": {},
          "execution_count": 114
        }
      ]
    },
    {
      "cell_type": "code",
      "source": [
        "LR=LinearRegression()\n",
        "LR.fit(X_train,y_train)\n",
        "y_pred=LR.predict(X_test)\n",
        "print('accuracy = {:.2%}'.format(float((1-np.abs((y_pred-y_test)/y_test)).mean())))\n",
        "print('accuracy = {:.2%}'.format(float((1-np.abs((y_test-y_pred)/y_pred)).mean())))\n",
        "\n",
        "print(len(y_pred))"
      ],
      "metadata": {
        "colab": {
          "base_uri": "https://localhost:8080/"
        },
        "id": "33jym-2EeTQ0",
        "outputId": "19b1e3dc-5844-4f18-82e1-cd0fdc021b3b"
      },
      "execution_count": null,
      "outputs": [
        {
          "output_type": "stream",
          "name": "stdout",
          "text": [
            "accuracy = -251.43%\n",
            "accuracy = -60.00%\n",
            "2178\n"
          ]
        }
      ]
    },
    {
      "cell_type": "markdown",
      "source": [
        "## Accuracy\n",
        "일반적으로 사용되는 오차율의 개념을 이용해 계산한 값을 1에서 빼서 정확도라고 해보았는데요, 너무 크게 나와서 별 의미가 없어졌습니다. 오차율이 약 351%가 나왔습니다. 100%에 가깝다면 정확하다고 할 수 있겠지만 이런 값이 나오면 의미가 있는 값은 아닙니다.  \n",
        " 원인은 이전에 그렸던 그래프를 보면 짐작할 수 있겠습니다. month나 hour같은 column에 대해 count(target label)은 1차식으로는 도무지 그 dependancy를 표현할 수 없는 모양을 그리고 있습니다. 이것은 one-hot encoding 등의 처리를 하지 않으면 linear regression으로는 반영할 수 없는 것입니다. "
      ],
      "metadata": {
        "id": "nRXObDwApnit"
      }
    },
    {
      "cell_type": "code",
      "source": [
        "print(len(y_test),len(y_pred))"
      ],
      "metadata": {
        "colab": {
          "base_uri": "https://localhost:8080/"
        },
        "id": "nWXHbUlWfPpj",
        "outputId": "c7a0ba1d-43b2-40c5-d2a5-eac197edce9d"
      },
      "execution_count": null,
      "outputs": [
        {
          "output_type": "stream",
          "name": "stdout",
          "text": [
            "2178 2178\n"
          ]
        }
      ]
    },
    {
      "cell_type": "code",
      "source": [
        "print(X_train)\n",
        "print(y_train)"
      ],
      "metadata": {
        "colab": {
          "base_uri": "https://localhost:8080/"
        },
        "id": "GSaMU0Gzk8fo",
        "outputId": "41337b3c-8961-4b95-aa8a-9a9b38994cb0"
      },
      "execution_count": null,
      "outputs": [
        {
          "output_type": "stream",
          "name": "stdout",
          "text": [
            "       season  holiday  workingday  weather   temp   atemp  humidity  \\\n",
            "10357       4        0           1        1  13.12  15.150        53   \n",
            "9029        3        0           0        1  31.16  33.335        37   \n",
            "2132        2        0           0        1  22.96  26.515        78   \n",
            "8630        3        0           1        1  28.70  33.335        74   \n",
            "6826        2        0           1        1  20.50  24.240        27   \n",
            "...       ...      ...         ...      ...    ...     ...       ...   \n",
            "2181        2        0           1        1  24.60  29.545        69   \n",
            "10601       4        0           0        2  14.76  18.180        93   \n",
            "2033        2        0           1        1  26.24  31.060        41   \n",
            "9556        4        0           1        2  24.60  27.275        88   \n",
            "4547        4        0           1        1  19.68  23.485        48   \n",
            "\n",
            "       windspeed  year  month  day  hour  \n",
            "10357    15.0013  2012     11   16    23  \n",
            "9029     19.0012  2012      8   18    14  \n",
            "2132     16.9979  2011      5   15    18  \n",
            "8630      0.0000  2012      8    1    23  \n",
            "6826     16.9979  2012      4    2    18  \n",
            "...          ...   ...    ...  ...   ...  \n",
            "2181     16.9979  2011      5   17    19  \n",
            "10601     7.0015  2012     12    8     3  \n",
            "2033      0.0000  2011      5   11    15  \n",
            "9556      8.9981  2012     10    2    13  \n",
            "4547     11.0014  2011     11    2    13  \n",
            "\n",
            "[8708 rows x 12 columns]\n",
            "[128 598 237 ... 179 154 161]\n"
          ]
        }
      ]
    },
    {
      "cell_type": "code",
      "source": [
        "y_pred"
      ],
      "metadata": {
        "colab": {
          "base_uri": "https://localhost:8080/"
        },
        "id": "hzfVnhdDlb5Q",
        "outputId": "56e6234e-2d33-4818-d8f5-ca30bc40893a"
      },
      "execution_count": null,
      "outputs": [
        {
          "output_type": "execute_result",
          "data": {
            "text/plain": [
              "array([ 43.13871312, 335.7004113 , 190.31892676, ..., 351.92803339,\n",
              "       397.7916833 , 147.27311733])"
            ]
          },
          "metadata": {},
          "execution_count": 115
        }
      ]
    },
    {
      "cell_type": "code",
      "source": [
        ""
      ],
      "metadata": {
        "id": "6Q3-0LGCnA0_"
      },
      "execution_count": null,
      "outputs": []
    }
  ]
}