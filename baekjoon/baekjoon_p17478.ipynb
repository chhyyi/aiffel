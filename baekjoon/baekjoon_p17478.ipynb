{
  "nbformat": 4,
  "nbformat_minor": 0,
  "metadata": {
    "colab": {
      "name": "baekjoon_p17478.ipynb",
      "provenance": [],
      "authorship_tag": "ABX9TyNQVyQUHKtXJhJPXAxPwJH1",
      "include_colab_link": true
    },
    "kernelspec": {
      "name": "python3",
      "display_name": "Python 3"
    },
    "language_info": {
      "name": "python"
    }
  },
  "cells": [
    {
      "cell_type": "markdown",
      "metadata": {
        "id": "view-in-github",
        "colab_type": "text"
      },
      "source": [
        "<a href=\"https://colab.research.google.com/github/chhyyi/aiffel/blob/main/baekjoon/baekjoon_p17478.ipynb\" target=\"_parent\"><img src=\"https://colab.research.google.com/assets/colab-badge.svg\" alt=\"Open In Colab\"/></a>"
      ]
    },
    {
      "cell_type": "code",
      "execution_count": 1,
      "metadata": {
        "colab": {
          "base_uri": "https://localhost:8080/"
        },
        "id": "8EBzPVgxYpDX",
        "outputId": "688f51c7-9092-4495-891e-ffa396cc9b1d"
      },
      "outputs": [
        {
          "output_type": "stream",
          "name": "stdout",
          "text": [
            "3\n",
            "어느 한 컴퓨터공학과 학생이 유명한 교수님을 찾아가 물었다.\n",
            "\"재귀함수가 뭔가요?\"\n",
            "\"잘 들어보게. 옛날옛날 한 산 꼭대기에 이세상 모든 지식을 통달한 선인이 있었어.\n",
            "마을 사람들은 모두 그 선인에게 수많은 질문을 했고, 모두 지혜롭게 대답해 주었지.\n",
            "그의 답은 대부분 옳았다고 하네. 그런데 어느 날, 그 선인에게 한 선비가 찾아와서 물었어.\"\n",
            "____\"재귀함수가 뭔가요?\"\n",
            "____\"잘 들어보게. 옛날옛날 한 산 꼭대기에 이세상 모든 지식을 통달한 선인이 있었어.\n",
            "____마을 사람들은 모두 그 선인에게 수많은 질문을 했고, 모두 지혜롭게 대답해 주었지.\n",
            "____그의 답은 대부분 옳았다고 하네. 그런데 어느 날, 그 선인에게 한 선비가 찾아와서 물었어.\"\n",
            "________\"재귀함수가 뭔가요?\"\n",
            "________\"잘 들어보게. 옛날옛날 한 산 꼭대기에 이세상 모든 지식을 통달한 선인이 있었어.\n",
            "________마을 사람들은 모두 그 선인에게 수많은 질문을 했고, 모두 지혜롭게 대답해 주었지.\n",
            "________그의 답은 대부분 옳았다고 하네. 그런데 어느 날, 그 선인에게 한 선비가 찾아와서 물었어.\"\n",
            "____________\"재귀함수가 뭔가요?\"\n",
            "____________\"재귀함수는 자기 자신을 호출하는 함수라네\"\n",
            "____________라고 답변하였지.\n",
            "________라고 답변하였지.\n",
            "____라고 답변하였지.\n",
            "라고 답변하였지.\n"
          ]
        }
      ],
      "source": [
        "'''\n",
        "this is solution of baekjoon online judge problem 17478\n",
        "2022-08-04 changhyun yi\n",
        "'''\n",
        "\n",
        "def tail(N,indent):\n",
        "    print(''.join(['____']*indent)+'라고 답변하였지.')\n",
        "    if(indent!=0):\n",
        "        tail(N,indent-1)\n",
        "def head(N,indent):\n",
        "    print(''.join(['____']*indent)+'\"재귀함수가 뭔가요?\"')\n",
        "    print(''.join(['____']*indent)+'\"잘 들어보게. 옛날옛날 한 산 꼭대기에 이세상 모든 지식을 통달한 선인이 있었어.')\n",
        "    print(''.join(['____']*indent)+'마을 사람들은 모두 그 선인에게 수많은 질문을 했고, 모두 지혜롭게 대답해 주었지.')\n",
        "    print(''.join(['____']*indent)+'그의 답은 대부분 옳았다고 하네. 그런데 어느 날, 그 선인에게 한 선비가 찾아와서 물었어.\"')\n",
        "    indent+=1\n",
        "    if(N-indent==0):\n",
        "        print(''.join(['____']*indent)+'\"재귀함수가 뭔가요?\"')\n",
        "        print(''.join(['____']*indent)+'\"재귀함수는 자기 자신을 호출하는 함수라네\"')\n",
        "        tail(N,indent)\n",
        "    else:\n",
        "        head(N,indent)\n",
        "N=int(input())\n",
        "print(\"어느 한 컴퓨터공학과 학생이 유명한 교수님을 찾아가 물었다.\")\n",
        "head(N, 0)\n"
      ]
    },
    {
      "cell_type": "code",
      "source": [
        ""
      ],
      "metadata": {
        "id": "Kx9EuFjbYzK9"
      },
      "execution_count": null,
      "outputs": []
    }
  ]
}