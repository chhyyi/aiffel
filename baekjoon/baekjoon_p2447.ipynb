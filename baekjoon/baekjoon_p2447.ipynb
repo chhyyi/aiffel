{
  "nbformat": 4,
  "nbformat_minor": 0,
  "metadata": {
    "colab": {
      "name": "baekjoon_p2447.ipynb",
      "provenance": [],
      "collapsed_sections": [],
      "authorship_tag": "ABX9TyO2kaSFp6V69nLiOfBJgRDW",
      "include_colab_link": true
    },
    "kernelspec": {
      "name": "python3",
      "display_name": "Python 3"
    },
    "language_info": {
      "name": "python"
    }
  },
  "cells": [
    {
      "cell_type": "markdown",
      "metadata": {
        "id": "view-in-github",
        "colab_type": "text"
      },
      "source": [
        "<a href=\"https://colab.research.google.com/github/chhyyi/aiffel/blob/main/baekjoon/baekjoon_p2447.ipynb\" target=\"_parent\"><img src=\"https://colab.research.google.com/assets/colab-badge.svg\" alt=\"Open In Colab\"/></a>"
      ]
    },
    {
      "cell_type": "code",
      "execution_count": null,
      "metadata": {
        "id": "vowb_x7GYO7x"
      },
      "outputs": [],
      "source": [
        "'''\n",
        "This is solution of baekjoon online judge problem 2447\n",
        "by changhyun yi, 2022-08-04\n",
        "'''\n",
        "\n",
        "\n",
        "N=int(input())\n",
        "whole_array=[]\n",
        "for i in range(N):\n",
        "    whole_array.append(['*']*N) #first time i tried [['*']*N]*N. It caused reference problem, array[1][1] changed every array[:][1] value.\n",
        "    \n",
        "#total_depth=0 #total depth is important so I checked it out.\n",
        "\n",
        "\n",
        "def star(n,idx,idy): #idx, idy is left-top index (of whole_array)\n",
        "    #global total_depth\n",
        "    #total_depth+=1\n",
        "    if n==3:\n",
        "        whole_array[idy+1][idx+1]=' '\n",
        "    else:\n",
        "        star(n//3, idx,idy)\n",
        "        star(n//3, idx+n//3, idy)\n",
        "        star(n//3, idx+2*n//3, idy)\n",
        "        star(n//3, idx, idy+n//3)\n",
        "        star(n//3, idx+2*n//3, idy+n//3)\n",
        "        star(n//3, idx, idy+2*n//3)\n",
        "        star(n//3, idx+n//3, idy+2*n//3)\n",
        "        star(n//3, idx+2*n//3, idy+2*n//3)\n",
        "        for j in range(n//3):\n",
        "            whole_array[idy+n//3+j][idx+n//3:idx+2*n//3]=[' ']*(n//3)\n",
        "\n",
        "star(N,0,0)\n",
        "\n",
        "for i in range(N):\n",
        "    print(''.join(whole_array[i]))\n"
      ]
    }
  ]
}