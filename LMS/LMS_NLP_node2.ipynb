{
  "cells": [
    {
      "cell_type": "markdown",
      "metadata": {
        "id": "view-in-github",
        "colab_type": "text"
      },
      "source": [
        "<a href=\"https://colab.research.google.com/github/chhyyi/aiffel/blob/main/LMS/LMS_NLP_node2.ipynb\" target=\"_parent\"><img src=\"https://colab.research.google.com/assets/colab-badge.svg\" alt=\"Open In Colab\"/></a>"
      ]
    },
    {
      "cell_type": "markdown",
      "metadata": {
        "id": "HUQE86e4HUyE"
      },
      "source": [
        "# LMS NLP node2 프로젝트:\n",
        "fundamental의 exp8에서 tokenizer를 SentencePiece로 바꿔본다.  \n",
        "노드의 내용은 다음과 같다.  \n",
        ">만약 이 문제에서 tokenizer를 SentencePiece로 바꾸어 다시 풀어본다면 더 성능이 좋아질까요? KoNLPy에 있는 Mecab, kkma, Okt 등과 비교해보세요.  \n",
        "- 네이버 영화리뷰 감정 분석 코퍼스에 SentencePiece를 적용시킨 모델 학습하기\n",
        "- 학습된 모델로 sp_tokenize() 메소드 구현하기\n",
        "- 구현된 토크나이저를 적용하여 네이버 영화리뷰 감정 분석 모델을 재학습하기\n",
        "- KoNLPy 형태소 분석기를 사용한 모델과 성능 비교하기\n",
        "- SentencePiece 모델의 model_type, vocab_size 등을 변경해 가면서 성능 개선 여부 확인하기  \n",
        "\n",
        "[해당 노드에서 내가 제출한 노트북](https://colab.research.google.com/drive/1lv3FDw2hKe_Gp56mzCxGPIHof8p0m6Cz?usp=sharing)  \n",
        "일단 저 노트북을 그대로 가져와서 KoNLPy로 돌려봅시다."
      ]
    },
    {
      "cell_type": "code",
      "execution_count": 1,
      "metadata": {
        "colab": {
          "base_uri": "https://localhost:8080/"
        },
        "id": "r_RLzWXCrIUY",
        "outputId": "b08e2731-276b-429e-d84d-61c6a53559fc"
      },
      "outputs": [
        {
          "output_type": "stream",
          "name": "stdout",
          "text": [
            "Looking in indexes: https://pypi.org/simple, https://us-python.pkg.dev/colab-wheels/public/simple/\n",
            "Collecting konlpy\n",
            "  Downloading konlpy-0.6.0-py2.py3-none-any.whl (19.4 MB)\n",
            "\u001b[K     |████████████████████████████████| 19.4 MB 1.2 MB/s \n",
            "\u001b[?25hCollecting JPype1>=0.7.0\n",
            "  Downloading JPype1-1.4.0-cp37-cp37m-manylinux_2_5_x86_64.manylinux1_x86_64.whl (453 kB)\n",
            "\u001b[K     |████████████████████████████████| 453 kB 72.1 MB/s \n",
            "\u001b[?25hRequirement already satisfied: lxml>=4.1.0 in /usr/local/lib/python3.7/dist-packages (from konlpy) (4.9.1)\n",
            "Requirement already satisfied: numpy>=1.6 in /usr/local/lib/python3.7/dist-packages (from konlpy) (1.21.6)\n",
            "Requirement already satisfied: typing-extensions in /usr/local/lib/python3.7/dist-packages (from JPype1>=0.7.0->konlpy) (4.1.1)\n",
            "Installing collected packages: JPype1, konlpy\n",
            "Successfully installed JPype1-1.4.0 konlpy-0.6.0\n",
            "1.3.5\n",
            "0.6.0\n",
            "3.6.0\n"
          ]
        }
      ],
      "source": [
        "import pandas as pd\n",
        "!pip install konlpy\n",
        "import konlpy\n",
        "import gensim\n",
        "import numpy as np\n",
        "import time\n",
        "from tqdm.notebook import tqdm\n",
        "\n",
        "print(pd.__version__)\n",
        "print(konlpy.__version__)\n",
        "print(gensim.__version__)"
      ]
    },
    {
      "cell_type": "markdown",
      "metadata": {
        "id": "iUahT3hhtIfP"
      },
      "source": [
        "#  tokenizer 바꾸기:\n",
        "토크나이저를 변수로 해서 그냥 함수에 넣어주겠습니다. 그런데 이 과정이 꽤 오래 걸립니다. 흥미로운 점은 gpu로 바꿨는데 세션 관리에 들어가보니까 none-accelerator 세션이 살아있고, 호스팅된 런타임에 연결하니까 연결이 되고 메모리가 살아 있었단 것입니다. 물론 짧은 시간이기는 했지만요.   \n",
        "아무튼 코랩 노트북이 'gpu안쓰는데 gpu 세션 왜 쓰고 있냐'고 계속 알려주면서 'gpu 많이 쓰는 사람한텐 gpu 할당 팍팍해짐'이라고 경고하는 점을 생각해보면 고민이 되는 부분입니다.     \n",
        "\n",
        "|parser|accelerator|time|\n",
        "|---|----|----|\n",
        "|komoran|no|139.114|\n",
        "|komoran|no|147.343|\n",
        "|komoran|gpu|111.088|\n",
        "\n",
        "일단 konlpy의 parser들이 gpu를 쓰는 것 같지는 않습니다.  \n",
        "\n",
        "__Kkma의 에러__\n",
        "이거는 이제 kkma 자체에서 메모리 누수가 심하다는 것을 보여줍니다. 이렇게 되면 20% 정도씩 잘라서 런타임을 초기화 하면서 하는 수밖에 없겠습니다. -> 그런데 알고 보니 메모리 누수가 아니라 그냥 몇 개 문장이 문제였습니다. 그래서 그냥 try 해보고 안되면 빼버리게 만들었습니다. [아무튼 한시간 넘게 돌아가는 거라서 그냥 노트북을 따로 뺐습니다.](https://colab.research.google.com/drive/1C4j1WijHjkXfhEovIDuqwAA9EAoXF9Cy?usp=sharing)\n",
        "```java\n",
        "27%\n",
        "40555/149995 [20:29<30:22, 60.06it/s]\n",
        "---------------------------------------------------------------------------\n",
        "Exception                                 Traceback (most recent call last)\n",
        "/usr/local/lib/python3.7/dist-packages/_jpype.cpython-37m-x86_64-linux-gnu.so in kr.lucypark.kkma.KkmaInterface.morphAnalyzer()\n",
        "\n",
        "11 frames\n",
        "Exception: Java Exception\n",
        "\n",
        "The above exception was the direct cause of the following exception:\n",
        "\n",
        "java.lang.OutOfMemoryError                Traceback (most recent call last)\n",
        "/usr/local/lib/python3.7/dist-packages/konlpy/tag/_kkma.py in pos(self, phrase, flatten, join)\n",
        "     64         validate_phrase_inputs(phrase)\n",
        "     65 \n",
        "---> 66         sentences = self.jki.morphAnalyzer(phrase)\n",
        "     67         morphemes = []\n",
        "     68         if not sentences:\n",
        "\n",
        "java.lang.OutOfMemoryError: java.lang.OutOfMemoryError: Java heap space\n",
        "```\n",
        "\n",
        "```python\n",
        "\"\"\"\n",
        "This code save parsed text data, while parsing takes so long time in some parser.\n",
        "It will be executed in another notebook\n",
        "\"\"\"\n",
        "\n",
        "fcsv=path+'kkma_parsed_test.csv'\n",
        "data = pd.read_table(path+'ratings_test.txt')\n",
        "path = '/content/drive/MyDrive/colabdata/modulabs/lms_exp8/'\n",
        "\n",
        "\n",
        "def parsing(data, parser, fname):\n",
        "    _=[]\n",
        "\n",
        "    data.drop_duplicates(inplace=True)\n",
        "    data.dropna(inplace=True)\n",
        "\n",
        "    step=0\n",
        "\n",
        "    while step<len(data['document']):\n",
        "        for sent in tqdm(data['document'][step:], total=len(data['document'][step:])):\n",
        "            try:\n",
        "                _.append(parser.morphs(sent))\n",
        "                step+=1\n",
        "            except:\n",
        "                print('failed to parsing row', data.index[step])\n",
        "                step+=1\n",
        "                break\n",
        "\n",
        "    data['document']=_\n",
        "    data.reset_index(inplace=True)\n",
        "    data.to_csv(fname)\n",
        "\n",
        "kkma=konlpy.tag.Kkma()\n",
        "parsing(data, kkma, fcsv)\n",
        "```"
      ]
    },
    {
      "cell_type": "code",
      "source": [
        "fcsv=path+'kkma_parsed_test.csv'\n",
        "#data = pd.read_table(path+'ratings_test.txt')\n",
        "path = '/content/drive/MyDrive/colabdata/modulabs/lms_exp8/'\n",
        "\n",
        "\n",
        "def parsing(data, parser, fname):\n",
        "    _=[]\n",
        "\n",
        "    data.drop_duplicates(inplace=True)\n",
        "    data.dropna(inplace=True)\n",
        "\n",
        "    step=0\n",
        "\n",
        "    while step<len(data['document']):\n",
        "        for sent in tqdm(data['document'][step:], total=len(data['document'][step:])):\n",
        "            try:\n",
        "                _.append(parser.morphs(sent))\n",
        "                step+=1\n",
        "            except:\n",
        "                print('failed to parsing row', data.index[step])\n",
        "                step+=1\n",
        "                break\n",
        "\n",
        "    data['document']=_\n",
        "    data.reset_index(inplace=True)\n",
        "    data.to_csv(fname)\n",
        "\n",
        "#kkma=konlpy.tag.Kkma()\n",
        "#parsing(data, kkma, fcsv)"
      ],
      "metadata": {
        "id": "_BjqAnQI-e5T"
      },
      "execution_count": null,
      "outputs": []
    },
    {
      "cell_type": "code",
      "execution_count": null,
      "metadata": {
        "colab": {
          "base_uri": "https://localhost:8080/",
          "height": 424
        },
        "id": "bVG8yACbr1mr",
        "outputId": "5bb5c664-235b-404a-c03f-01c2c1f1dd0b"
      },
      "outputs": [
        {
          "output_type": "execute_result",
          "data": {
            "text/plain": [
              "        label                                           document\n",
              "0           0   ['아', '아', '더빙', '..', '진짜', '짜증나', '네요', '목소리']\n",
              "1           1  ['흠', '...', '포스터', '보고', '초', '딩', '영화', '줄',...\n",
              "2           0  ['너무', '재', '밓', '어', '었', '다', '그래서', '보', '는...\n",
              "3           0  ['교도소', '이야기', '구', '멀', 'ㄴ', '..', '솔직히', '재미...\n",
              "4           1  ['사이몬페그', '의', '익살', '스럽', 'ㄴ', '연기', '가', '돋보...\n",
              "...       ...                                                ...\n",
              "149988      0  ['인간', '이', '문제지', '..', '소', '는', '뭔', '죄', '...\n",
              "149989      1                ['평점', '이', '너무', '낮', '아서', '...']\n",
              "149990      0  ['이것', '이', '뭐', '이', '요', '?', '한국', '인은', '거...\n",
              "149991      1  ['청춘', '영화', '의', '최고', '봉', '.', '방황', '과', '...\n",
              "149992      0  ['한국', '영화', '최초', '로', '수간', '하', '는', '내용', ...\n",
              "\n",
              "[149993 rows x 2 columns]"
            ],
            "text/html": [
              "\n",
              "  <div id=\"df-e4ab55f6-5cd6-4492-878d-2d6f7357a1a0\">\n",
              "    <div class=\"colab-df-container\">\n",
              "      <div>\n",
              "<style scoped>\n",
              "    .dataframe tbody tr th:only-of-type {\n",
              "        vertical-align: middle;\n",
              "    }\n",
              "\n",
              "    .dataframe tbody tr th {\n",
              "        vertical-align: top;\n",
              "    }\n",
              "\n",
              "    .dataframe thead th {\n",
              "        text-align: right;\n",
              "    }\n",
              "</style>\n",
              "<table border=\"1\" class=\"dataframe\">\n",
              "  <thead>\n",
              "    <tr style=\"text-align: right;\">\n",
              "      <th></th>\n",
              "      <th>label</th>\n",
              "      <th>document</th>\n",
              "    </tr>\n",
              "  </thead>\n",
              "  <tbody>\n",
              "    <tr>\n",
              "      <th>0</th>\n",
              "      <td>0</td>\n",
              "      <td>['아', '아', '더빙', '..', '진짜', '짜증나', '네요', '목소리']</td>\n",
              "    </tr>\n",
              "    <tr>\n",
              "      <th>1</th>\n",
              "      <td>1</td>\n",
              "      <td>['흠', '...', '포스터', '보고', '초', '딩', '영화', '줄',...</td>\n",
              "    </tr>\n",
              "    <tr>\n",
              "      <th>2</th>\n",
              "      <td>0</td>\n",
              "      <td>['너무', '재', '밓', '어', '었', '다', '그래서', '보', '는...</td>\n",
              "    </tr>\n",
              "    <tr>\n",
              "      <th>3</th>\n",
              "      <td>0</td>\n",
              "      <td>['교도소', '이야기', '구', '멀', 'ㄴ', '..', '솔직히', '재미...</td>\n",
              "    </tr>\n",
              "    <tr>\n",
              "      <th>4</th>\n",
              "      <td>1</td>\n",
              "      <td>['사이몬페그', '의', '익살', '스럽', 'ㄴ', '연기', '가', '돋보...</td>\n",
              "    </tr>\n",
              "    <tr>\n",
              "      <th>...</th>\n",
              "      <td>...</td>\n",
              "      <td>...</td>\n",
              "    </tr>\n",
              "    <tr>\n",
              "      <th>149988</th>\n",
              "      <td>0</td>\n",
              "      <td>['인간', '이', '문제지', '..', '소', '는', '뭔', '죄', '...</td>\n",
              "    </tr>\n",
              "    <tr>\n",
              "      <th>149989</th>\n",
              "      <td>1</td>\n",
              "      <td>['평점', '이', '너무', '낮', '아서', '...']</td>\n",
              "    </tr>\n",
              "    <tr>\n",
              "      <th>149990</th>\n",
              "      <td>0</td>\n",
              "      <td>['이것', '이', '뭐', '이', '요', '?', '한국', '인은', '거...</td>\n",
              "    </tr>\n",
              "    <tr>\n",
              "      <th>149991</th>\n",
              "      <td>1</td>\n",
              "      <td>['청춘', '영화', '의', '최고', '봉', '.', '방황', '과', '...</td>\n",
              "    </tr>\n",
              "    <tr>\n",
              "      <th>149992</th>\n",
              "      <td>0</td>\n",
              "      <td>['한국', '영화', '최초', '로', '수간', '하', '는', '내용', ...</td>\n",
              "    </tr>\n",
              "  </tbody>\n",
              "</table>\n",
              "<p>149993 rows × 2 columns</p>\n",
              "</div>\n",
              "      <button class=\"colab-df-convert\" onclick=\"convertToInteractive('df-e4ab55f6-5cd6-4492-878d-2d6f7357a1a0')\"\n",
              "              title=\"Convert this dataframe to an interactive table.\"\n",
              "              style=\"display:none;\">\n",
              "        \n",
              "  <svg xmlns=\"http://www.w3.org/2000/svg\" height=\"24px\"viewBox=\"0 0 24 24\"\n",
              "       width=\"24px\">\n",
              "    <path d=\"M0 0h24v24H0V0z\" fill=\"none\"/>\n",
              "    <path d=\"M18.56 5.44l.94 2.06.94-2.06 2.06-.94-2.06-.94-.94-2.06-.94 2.06-2.06.94zm-11 1L8.5 8.5l.94-2.06 2.06-.94-2.06-.94L8.5 2.5l-.94 2.06-2.06.94zm10 10l.94 2.06.94-2.06 2.06-.94-2.06-.94-.94-2.06-.94 2.06-2.06.94z\"/><path d=\"M17.41 7.96l-1.37-1.37c-.4-.4-.92-.59-1.43-.59-.52 0-1.04.2-1.43.59L10.3 9.45l-7.72 7.72c-.78.78-.78 2.05 0 2.83L4 21.41c.39.39.9.59 1.41.59.51 0 1.02-.2 1.41-.59l7.78-7.78 2.81-2.81c.8-.78.8-2.07 0-2.86zM5.41 20L4 18.59l7.72-7.72 1.47 1.35L5.41 20z\"/>\n",
              "  </svg>\n",
              "      </button>\n",
              "      \n",
              "  <style>\n",
              "    .colab-df-container {\n",
              "      display:flex;\n",
              "      flex-wrap:wrap;\n",
              "      gap: 12px;\n",
              "    }\n",
              "\n",
              "    .colab-df-convert {\n",
              "      background-color: #E8F0FE;\n",
              "      border: none;\n",
              "      border-radius: 50%;\n",
              "      cursor: pointer;\n",
              "      display: none;\n",
              "      fill: #1967D2;\n",
              "      height: 32px;\n",
              "      padding: 0 0 0 0;\n",
              "      width: 32px;\n",
              "    }\n",
              "\n",
              "    .colab-df-convert:hover {\n",
              "      background-color: #E2EBFA;\n",
              "      box-shadow: 0px 1px 2px rgba(60, 64, 67, 0.3), 0px 1px 3px 1px rgba(60, 64, 67, 0.15);\n",
              "      fill: #174EA6;\n",
              "    }\n",
              "\n",
              "    [theme=dark] .colab-df-convert {\n",
              "      background-color: #3B4455;\n",
              "      fill: #D2E3FC;\n",
              "    }\n",
              "\n",
              "    [theme=dark] .colab-df-convert:hover {\n",
              "      background-color: #434B5C;\n",
              "      box-shadow: 0px 1px 3px 1px rgba(0, 0, 0, 0.15);\n",
              "      filter: drop-shadow(0px 1px 2px rgba(0, 0, 0, 0.3));\n",
              "      fill: #FFFFFF;\n",
              "    }\n",
              "  </style>\n",
              "\n",
              "      <script>\n",
              "        const buttonEl =\n",
              "          document.querySelector('#df-e4ab55f6-5cd6-4492-878d-2d6f7357a1a0 button.colab-df-convert');\n",
              "        buttonEl.style.display =\n",
              "          google.colab.kernel.accessAllowed ? 'block' : 'none';\n",
              "\n",
              "        async function convertToInteractive(key) {\n",
              "          const element = document.querySelector('#df-e4ab55f6-5cd6-4492-878d-2d6f7357a1a0');\n",
              "          const dataTable =\n",
              "            await google.colab.kernel.invokeFunction('convertToInteractive',\n",
              "                                                     [key], {});\n",
              "          if (!dataTable) return;\n",
              "\n",
              "          const docLinkHtml = 'Like what you see? Visit the ' +\n",
              "            '<a target=\"_blank\" href=https://colab.research.google.com/notebooks/data_table.ipynb>data table notebook</a>'\n",
              "            + ' to learn more about interactive tables.';\n",
              "          element.innerHTML = '';\n",
              "          dataTable['output_type'] = 'display_data';\n",
              "          await google.colab.output.renderOutput(dataTable, element);\n",
              "          const docLink = document.createElement('div');\n",
              "          docLink.innerHTML = docLinkHtml;\n",
              "          element.appendChild(docLink);\n",
              "        }\n",
              "      </script>\n",
              "    </div>\n",
              "  </div>\n",
              "  "
            ]
          },
          "metadata": {},
          "execution_count": 114
        }
      ],
      "source": [
        "path='/content/drive/MyDrive/colabdata/modulabs/lms_exp8/'\n",
        "train_data=pd.read_csv(path+'kkma_parsed_train_data.csv')\n",
        "test_data=pd.read_csv(path+'kkma_parsed_test_data.csv')\n",
        "\n",
        "train_data.drop(labels='Unnamed: 0', axis=1, inplace=True)\n",
        "train_data"
      ]
    },
    {
      "cell_type": "code",
      "source": [
        "test_data.drop(labels='Unnamed: 0', axis=1, inplace=True)\n",
        "test_data"
      ],
      "metadata": {
        "colab": {
          "base_uri": "https://localhost:8080/",
          "height": 424
        },
        "id": "F1CICEAtC2g6",
        "outputId": "0920a362-bb40-4581-e5d0-99bff766375f"
      },
      "execution_count": null,
      "outputs": [
        {
          "output_type": "execute_result",
          "data": {
            "text/plain": [
              "       label                                           document\n",
              "0          1                                         ['굳', 'ㅋ']\n",
              "1          0                           ['GDNTOPCLASSINTHECLUB']\n",
              "2          0  ['뭐', '야', '이', '평점', '들', '은', '....', '나쁘', ...\n",
              "3          0  ['지루', '하', '지', '는', '않', '은데', '완전', '막장', '...\n",
              "4          0  ['3', 'D', '만', '아니', '었', '어도', '별', '다섯', '개...\n",
              "...      ...                                                ...\n",
              "49989      1  ['오랜만', '에', '평점', '로', '긴하', '었', '네', 'ㅋㅋ', ...\n",
              "49990      0  ['의지', '박약', '들', '이나', '하', '는', '거', '이', '다...\n",
              "49991      0  ['그림', '도', '좋', '고', '완성도', '도', '높', '았', '지...\n",
              "49992      0  ['절대', '보', '아서', '는', '안', '되', 'ㄹ', '영화', '....\n",
              "49993      0                       ['마무리', '는', '또', '왜', '이래']\n",
              "\n",
              "[49994 rows x 2 columns]"
            ],
            "text/html": [
              "\n",
              "  <div id=\"df-69d46f02-1a13-4688-b6a1-432102c3ef5d\">\n",
              "    <div class=\"colab-df-container\">\n",
              "      <div>\n",
              "<style scoped>\n",
              "    .dataframe tbody tr th:only-of-type {\n",
              "        vertical-align: middle;\n",
              "    }\n",
              "\n",
              "    .dataframe tbody tr th {\n",
              "        vertical-align: top;\n",
              "    }\n",
              "\n",
              "    .dataframe thead th {\n",
              "        text-align: right;\n",
              "    }\n",
              "</style>\n",
              "<table border=\"1\" class=\"dataframe\">\n",
              "  <thead>\n",
              "    <tr style=\"text-align: right;\">\n",
              "      <th></th>\n",
              "      <th>label</th>\n",
              "      <th>document</th>\n",
              "    </tr>\n",
              "  </thead>\n",
              "  <tbody>\n",
              "    <tr>\n",
              "      <th>0</th>\n",
              "      <td>1</td>\n",
              "      <td>['굳', 'ㅋ']</td>\n",
              "    </tr>\n",
              "    <tr>\n",
              "      <th>1</th>\n",
              "      <td>0</td>\n",
              "      <td>['GDNTOPCLASSINTHECLUB']</td>\n",
              "    </tr>\n",
              "    <tr>\n",
              "      <th>2</th>\n",
              "      <td>0</td>\n",
              "      <td>['뭐', '야', '이', '평점', '들', '은', '....', '나쁘', ...</td>\n",
              "    </tr>\n",
              "    <tr>\n",
              "      <th>3</th>\n",
              "      <td>0</td>\n",
              "      <td>['지루', '하', '지', '는', '않', '은데', '완전', '막장', '...</td>\n",
              "    </tr>\n",
              "    <tr>\n",
              "      <th>4</th>\n",
              "      <td>0</td>\n",
              "      <td>['3', 'D', '만', '아니', '었', '어도', '별', '다섯', '개...</td>\n",
              "    </tr>\n",
              "    <tr>\n",
              "      <th>...</th>\n",
              "      <td>...</td>\n",
              "      <td>...</td>\n",
              "    </tr>\n",
              "    <tr>\n",
              "      <th>49989</th>\n",
              "      <td>1</td>\n",
              "      <td>['오랜만', '에', '평점', '로', '긴하', '었', '네', 'ㅋㅋ', ...</td>\n",
              "    </tr>\n",
              "    <tr>\n",
              "      <th>49990</th>\n",
              "      <td>0</td>\n",
              "      <td>['의지', '박약', '들', '이나', '하', '는', '거', '이', '다...</td>\n",
              "    </tr>\n",
              "    <tr>\n",
              "      <th>49991</th>\n",
              "      <td>0</td>\n",
              "      <td>['그림', '도', '좋', '고', '완성도', '도', '높', '았', '지...</td>\n",
              "    </tr>\n",
              "    <tr>\n",
              "      <th>49992</th>\n",
              "      <td>0</td>\n",
              "      <td>['절대', '보', '아서', '는', '안', '되', 'ㄹ', '영화', '....</td>\n",
              "    </tr>\n",
              "    <tr>\n",
              "      <th>49993</th>\n",
              "      <td>0</td>\n",
              "      <td>['마무리', '는', '또', '왜', '이래']</td>\n",
              "    </tr>\n",
              "  </tbody>\n",
              "</table>\n",
              "<p>49994 rows × 2 columns</p>\n",
              "</div>\n",
              "      <button class=\"colab-df-convert\" onclick=\"convertToInteractive('df-69d46f02-1a13-4688-b6a1-432102c3ef5d')\"\n",
              "              title=\"Convert this dataframe to an interactive table.\"\n",
              "              style=\"display:none;\">\n",
              "        \n",
              "  <svg xmlns=\"http://www.w3.org/2000/svg\" height=\"24px\"viewBox=\"0 0 24 24\"\n",
              "       width=\"24px\">\n",
              "    <path d=\"M0 0h24v24H0V0z\" fill=\"none\"/>\n",
              "    <path d=\"M18.56 5.44l.94 2.06.94-2.06 2.06-.94-2.06-.94-.94-2.06-.94 2.06-2.06.94zm-11 1L8.5 8.5l.94-2.06 2.06-.94-2.06-.94L8.5 2.5l-.94 2.06-2.06.94zm10 10l.94 2.06.94-2.06 2.06-.94-2.06-.94-.94-2.06-.94 2.06-2.06.94z\"/><path d=\"M17.41 7.96l-1.37-1.37c-.4-.4-.92-.59-1.43-.59-.52 0-1.04.2-1.43.59L10.3 9.45l-7.72 7.72c-.78.78-.78 2.05 0 2.83L4 21.41c.39.39.9.59 1.41.59.51 0 1.02-.2 1.41-.59l7.78-7.78 2.81-2.81c.8-.78.8-2.07 0-2.86zM5.41 20L4 18.59l7.72-7.72 1.47 1.35L5.41 20z\"/>\n",
              "  </svg>\n",
              "      </button>\n",
              "      \n",
              "  <style>\n",
              "    .colab-df-container {\n",
              "      display:flex;\n",
              "      flex-wrap:wrap;\n",
              "      gap: 12px;\n",
              "    }\n",
              "\n",
              "    .colab-df-convert {\n",
              "      background-color: #E8F0FE;\n",
              "      border: none;\n",
              "      border-radius: 50%;\n",
              "      cursor: pointer;\n",
              "      display: none;\n",
              "      fill: #1967D2;\n",
              "      height: 32px;\n",
              "      padding: 0 0 0 0;\n",
              "      width: 32px;\n",
              "    }\n",
              "\n",
              "    .colab-df-convert:hover {\n",
              "      background-color: #E2EBFA;\n",
              "      box-shadow: 0px 1px 2px rgba(60, 64, 67, 0.3), 0px 1px 3px 1px rgba(60, 64, 67, 0.15);\n",
              "      fill: #174EA6;\n",
              "    }\n",
              "\n",
              "    [theme=dark] .colab-df-convert {\n",
              "      background-color: #3B4455;\n",
              "      fill: #D2E3FC;\n",
              "    }\n",
              "\n",
              "    [theme=dark] .colab-df-convert:hover {\n",
              "      background-color: #434B5C;\n",
              "      box-shadow: 0px 1px 3px 1px rgba(0, 0, 0, 0.15);\n",
              "      filter: drop-shadow(0px 1px 2px rgba(0, 0, 0, 0.3));\n",
              "      fill: #FFFFFF;\n",
              "    }\n",
              "  </style>\n",
              "\n",
              "      <script>\n",
              "        const buttonEl =\n",
              "          document.querySelector('#df-69d46f02-1a13-4688-b6a1-432102c3ef5d button.colab-df-convert');\n",
              "        buttonEl.style.display =\n",
              "          google.colab.kernel.accessAllowed ? 'block' : 'none';\n",
              "\n",
              "        async function convertToInteractive(key) {\n",
              "          const element = document.querySelector('#df-69d46f02-1a13-4688-b6a1-432102c3ef5d');\n",
              "          const dataTable =\n",
              "            await google.colab.kernel.invokeFunction('convertToInteractive',\n",
              "                                                     [key], {});\n",
              "          if (!dataTable) return;\n",
              "\n",
              "          const docLinkHtml = 'Like what you see? Visit the ' +\n",
              "            '<a target=\"_blank\" href=https://colab.research.google.com/notebooks/data_table.ipynb>data table notebook</a>'\n",
              "            + ' to learn more about interactive tables.';\n",
              "          element.innerHTML = '';\n",
              "          dataTable['output_type'] = 'display_data';\n",
              "          await google.colab.output.renderOutput(dataTable, element);\n",
              "          const docLink = document.createElement('div');\n",
              "          docLink.innerHTML = docLinkHtml;\n",
              "          element.appendChild(docLink);\n",
              "        }\n",
              "      </script>\n",
              "    </div>\n",
              "  </div>\n",
              "  "
            ]
          },
          "metadata": {},
          "execution_count": 115
        }
      ]
    },
    {
      "cell_type": "code",
      "source": [],
      "metadata": {
        "id": "GBXEOqpCB9BW"
      },
      "execution_count": null,
      "outputs": []
    },
    {
      "cell_type": "code",
      "execution_count": 5,
      "metadata": {
        "colab": {
          "base_uri": "https://localhost:8080/"
        },
        "id": "_q2vyWiysDo6",
        "outputId": "5cd97a25-e7ea-4381-eea4-baa171620999"
      },
      "outputs": [
        {
          "output_type": "stream",
          "name": "stdout",
          "text": [
            "[[0, 1, 2, 1, 3, 4, 1, 5, 6, 1, 3, 4, 1, 7, 1, 3, 4, 1, 7, 1, 3, 4, 1, 8, 9, 1, 3, 4, 1, 9, 10, 1, 3, 4, 1, 11, 1, 3, 4, 1, 12, 13, 1, 3, 4, 1, 14, 15, 16, 1, 17], [0, 1, 18, 1, 3, 4, 1, 7, 7, 7, 1, 3, 4, 1, 19, 20, 21, 1, 3, 4, 1, 22, 23, 1, 3, 4, 1, 24, 25, 1, 3, 4, 1, 26, 27, 1, 3, 4, 1, 28, 1, 3, 4, 1, 7, 7, 7, 7, 1, 3, 4, 1, 29, 30, 1, 3, 4, 1, 31, 32, 1, 3, 4, 1, 33, 34, 1, 3, 4, 1, 35, 1, 3, 4, 1, 36, 1, 3, 4, 1, 37, 1, 3, 4, 1, 38, 11, 1, 17], [0, 1, 39, 40, 41, 42, 43, 44, 45, 46, 47, 22, 48, 49, 50, 51, 44, 1, 17], [0, 1, 52, 15, 1, 3, 4, 1, 53, 32, 1, 3, 4, 1, 1, 3, 4, 1, 38, 54, 1, 3, 4, 1, 7, 7, 1, 3, 4, 1, 55, 56, 57, 1, 3, 4, 1, 41, 58, 1, 3, 4, 1, 1, 3, 4, 1, 59, 1, 3, 4, 1, 44, 1, 3, 4, 1, 7, 1, 3, 4, 1, 7, 1, 3, 4, 1, 60, 61, 1, 3, 4, 1, 33, 62, 1, 17], [0, 1, 63, 64, 65, 45, 1, 3, 4, 1, 66, 67, 1, 3, 4, 1, 20, 68, 1, 3, 4, 1, 69, 1, 3, 4, 1, 31, 32, 1, 3, 4, 1, 1, 3, 4, 1, 70, 22, 1, 3, 4, 1, 43, 1, 3, 4, 1, 71, 1, 3, 4, 1, 26, 27, 1, 3, 4, 1, 72, 1, 3, 4, 1, 20, 73, 5, 74, 1, 3, 4, 1, 47, 1, 3, 4, 1, 75, 1, 3, 4, 1, 76, 1, 3, 4, 1, 22, 1, 3, 4, 1, 32, 1, 3, 4, 1, 77, 1, 3, 4, 1, 78, 1, 3, 4, 1, 79, 1, 3, 4, 1, 71, 1, 3, 4, 1, 80, 20, 81, 4, 71, 20, 82, 1, 3, 4, 1, 1, 3, 4, 1, 39, 40, 11, 1, 3, 4, 1, 1, 3, 4, 1, 83, 22, 84, 44, 1, 17]]\n"
          ]
        }
      ],
      "source": [
        "num_words=10000\n",
        "stopwords = ['의','가','이','은','들','는','좀','잘','걍','과','도','를','으로','자','에','와','한','하다']\n",
        "\n",
        "def tokenizer(train, test, num_words=num_words):\n",
        "\n",
        "    train_idx=[]\n",
        "    test_idx=[]\n",
        "    \n",
        "    dict_last_index=0\n",
        "\n",
        "    appearance={\"<PAD>\":100,\"<BOS>\":100, \"<UNK>\":100}\n",
        "    #appearance: 전체 데이터에서 등장 횟수.\n",
        "    #인덱스는 그냥 word로 하겠습니다.\n",
        "    \n",
        "    #word to_index, index_to_word 초기화.\n",
        "    word_to_index={\"<PAD>\":0, \"<BOS>\":1, \"<UNK>\":2}\n",
        "    index_to_word={0:\"<PAD>\", 1:\"<BOS>\", 2:\"<UNK>\"}\n",
        "\n",
        "    for tokens in train_data.document:\n",
        "        \n",
        "        token_to_index=[]\n",
        "        \n",
        "        for tk in tokens:\n",
        "            if tk not in stopwords:\n",
        "                if tk in word_to_index.keys():\n",
        "                    token_to_index.append(word_to_index[tk])\n",
        "                    appearance[tk]+=1\n",
        "\n",
        "                else:\n",
        "                    index_to_word[dict_last_index]=tk\n",
        "                    word_to_index[tk]=dict_last_index\n",
        "                    dict_last_index+=1\n",
        "                    token_to_index.append(word_to_index[tk])\n",
        "                    appearance[tk]=1\n",
        "\n",
        "        train_idx.append(token_to_index)\n",
        "\n",
        "    for tokens in test.document:\n",
        "        token_to_index=[]\n",
        "        for tk in tokens:\n",
        "            if tk not in stopwords:\n",
        "                if tk in word_to_index.keys():\n",
        "                    token_to_index.append(word_to_index[tk])\n",
        "                    appearance[tk]+=1\n",
        "                else:\n",
        "                    index_to_word[dict_last_index]=tk\n",
        "                    word_to_index[tk]=dict_last_index\n",
        "                    dict_last_index+=1\n",
        "                    token_to_index.append(word_to_index[tk])\n",
        "                    appearance[tk]=1\n",
        "\n",
        "        test_idx.append(token_to_index)\n",
        "    \n",
        "    if len(index_to_word)>num_words:\n",
        "        min=np.min(appearance.values())\n",
        "        for word, index in word_to_index.items():\n",
        "            if appearance[word]==min:\n",
        "                del word_to_index[word] \n",
        "                del index_to_word[index]\n",
        "            if len(index_to_word)<num_words:\n",
        "                break\n",
        "    \n",
        "    \n",
        "    for i, sentence in enumerate(test_idx):\n",
        "        for j, token in enumerate(sentence):\n",
        "            if token not in index_to_word.keys():\n",
        "                test_idx[i,j]=word_to_index[\"<UNK>\"]\n",
        "    for i, sentence in enumerate(train_idx):\n",
        "        for j, token in enumerate(sentence):\n",
        "            if token not in index_to_word.keys():\n",
        "                train_idx[i,j]=word_to_index[\"<UNK>\"]\n",
        "\n",
        "        \n",
        "    return train_idx, train.label, test_idx, test.label, word_to_index, index_to_word\n",
        "\n",
        "#index_to_word도 tokenizer에서 만들었기 때문에 그냥 같이 반환합니다.\n",
        "X_train, y_train, X_test, y_test, word_to_index, index_to_word = tokenizer(train_data, test_data)\n",
        "print(X_train[:5])"
      ]
    },
    {
      "cell_type": "code",
      "execution_count": null,
      "metadata": {
        "colab": {
          "base_uri": "https://localhost:8080/"
        },
        "id": "1uzgme81uDgK",
        "outputId": "f4c90fc7-5818-4c56-ec4b-1d93430c024f"
      },
      "outputs": [
        {
          "output_type": "execute_result",
          "data": {
            "text/plain": [
              "(3097, 3094)"
            ]
          },
          "metadata": {},
          "execution_count": 119
        }
      ],
      "source": [
        "len(word_to_index), len(index_to_word)"
      ]
    },
    {
      "cell_type": "markdown",
      "metadata": {
        "id": "kVXdfUB5xhnQ"
      },
      "source": [
        "# save & load parsed data"
      ]
    },
    {
      "cell_type": "code",
      "execution_count": 6,
      "metadata": {
        "id": "3p0LJ46A0M5w"
      },
      "outputs": [],
      "source": [
        "# 문장 1개를 활용할 딕셔너리와 함께 주면, 단어 인덱스 리스트 벡터로 변환해 주는 함수입니다. \n",
        "# 단, 모든 문장은 <BOS>로 시작하는 것으로 합니다. \n",
        "def get_encoded_sentence(sentence, word_to_index):\n",
        "    return [word_to_index['<BOS>']]+[word_to_index[word] if word in word_to_index else word_to_index['<UNK>'] for word in sentence.split()]\n",
        "\n",
        "# 여러 개의 문장 리스트를 한꺼번에 단어 인덱스 리스트 벡터로 encode해 주는 함수입니다. \n",
        "def get_encoded_sentences(sentences, word_to_index):\n",
        "    return [get_encoded_sentence(sentence, word_to_index) for sentence in sentences]\n",
        "\n",
        "# 숫자 벡터로 encode된 문장을 원래대로 decode하는 함수입니다. \n",
        "def get_decoded_sentence(encoded_sentence, index_to_word):\n",
        "    return ' '.join(index_to_word[index] if index in index_to_word else '<UNK>' for index in encoded_sentence[1:])  #[1:]를 통해 <BOS>를 제외\n",
        "\n",
        "# 여러 개의 숫자 벡터로 encode된 문장을 한꺼번에 원래대로 decode하는 함수입니다. \n",
        "def get_decoded_sentences(encoded_sentences, index_to_word):\n",
        "    return [get_decoded_sentence(encoded_sentence, index_to_word) for encoded_sentence in encoded_sentences]"
      ]
    },
    {
      "cell_type": "code",
      "source": [
        "get_decoded_sentence(X_train[0], index_to_word)\n"
      ],
      "metadata": {
        "colab": {
          "base_uri": "https://localhost:8080/",
          "height": 53
        },
        "id": "tHUlsMfkD0-Q",
        "outputId": "00d7a977-4481-4fd9-b648-dc8553348708"
      },
      "execution_count": null,
      "outputs": [
        {
          "output_type": "execute_result",
          "data": {
            "text/plain": [
              "\"' 아 ' ,   ' 아 ' ,   ' 더 빙 ' ,   ' . . ' ,   ' 진 짜 ' ,   ' 짜 증 나 ' ,   ' 네 요 ' ,   ' 목 소 리 ' ]\""
            ],
            "application/vnd.google.colaboratory.intrinsic+json": {
              "type": "string"
            }
          },
          "metadata": {},
          "execution_count": 121
        }
      ]
    },
    {
      "cell_type": "code",
      "source": [
        "length=[len(sentence) for sentence in X_train]\n",
        "print(np.max(length), np.mean(length), np.std(length))\n",
        "maxlen=int(np.mean(length)+2*np.std(length))"
      ],
      "metadata": {
        "colab": {
          "base_uri": "https://localhost:8080/"
        },
        "id": "zfmhec01D2qZ",
        "outputId": "a7bd18a9-3a44-4f13-95bd-a90ea8fd8526"
      },
      "execution_count": null,
      "outputs": [
        {
          "output_type": "stream",
          "name": "stdout",
          "text": [
            "692 105.71086650710366 87.89572050494313\n"
          ]
        }
      ]
    },
    {
      "cell_type": "code",
      "source": [
        "print(maxlen)"
      ],
      "metadata": {
        "colab": {
          "base_uri": "https://localhost:8080/"
        },
        "id": "1SKf9II4EkDW",
        "outputId": "4a656103-3387-4a39-cd63-482e3955d51a"
      },
      "execution_count": null,
      "outputs": [
        {
          "output_type": "stream",
          "name": "stdout",
          "text": [
            "281\n"
          ]
        }
      ]
    },
    {
      "cell_type": "code",
      "source": [
        "import tensorflow as tf\n",
        "x_train = tf.keras.preprocessing.sequence.pad_sequences(X_train,\n",
        "                                                        value=word_to_index[\"<PAD>\"],\n",
        "                                                        padding='pre',\n",
        "                                                        maxlen=maxlen)\n",
        "\n",
        "x_test = tf.keras.preprocessing.sequence.pad_sequences(X_test,\n",
        "                                                       value=word_to_index[\"<PAD>\"],\n",
        "                                                       padding='pre',\n",
        "                                                       maxlen=maxlen)\n",
        "\n",
        "print(x_train.shape)"
      ],
      "metadata": {
        "colab": {
          "base_uri": "https://localhost:8080/"
        },
        "id": "ZrTGk9cWEtnN",
        "outputId": "f8648665-3967-4d80-ddd0-0944911a87e2"
      },
      "execution_count": null,
      "outputs": [
        {
          "output_type": "stream",
          "name": "stdout",
          "text": [
            "(149993, 281)\n"
          ]
        }
      ]
    },
    {
      "cell_type": "code",
      "source": [
        "print(x_test.shape, x_train.shape)"
      ],
      "metadata": {
        "colab": {
          "base_uri": "https://localhost:8080/"
        },
        "id": "Wi22TAOpE7dd",
        "outputId": "3805ce88-ed33-43e8-a6b1-e732ba728e26"
      },
      "execution_count": null,
      "outputs": [
        {
          "output_type": "stream",
          "name": "stdout",
          "text": [
            "(49994, 281) (149993, 281)\n"
          ]
        }
      ]
    },
    {
      "cell_type": "code",
      "source": [
        "vocab_size = len(word_to_index)+1\n",
        "word_vector_dim = 32  # 단어 하나를 표현하는 임베딩 벡터의 차원수입니다. \n",
        "\n",
        "model = tf.keras.Sequential()\n",
        "model.add(tf.keras.layers.Embedding(vocab_size, word_vector_dim, input_shape=(None,)))\n",
        "model.add(tf.keras.layers.LSTM(32))\n",
        "model.add(tf.keras.layers.Dense(32, activation='relu'))\n",
        "model.add(tf.keras.layers.Dense(1, activation='sigmoid'))\n",
        "model.summary()"
      ],
      "metadata": {
        "colab": {
          "base_uri": "https://localhost:8080/"
        },
        "id": "Hzbn8MPzFJsq",
        "outputId": "73116f3d-25cd-45c2-b93e-1a2cf1fe5fc7"
      },
      "execution_count": null,
      "outputs": [
        {
          "output_type": "stream",
          "name": "stdout",
          "text": [
            "Model: \"sequential_16\"\n",
            "_________________________________________________________________\n",
            " Layer (type)                Output Shape              Param #   \n",
            "=================================================================\n",
            " embedding_16 (Embedding)    (None, None, 32)          99136     \n",
            "                                                                 \n",
            " lstm_19 (LSTM)              (None, 32)                8320      \n",
            "                                                                 \n",
            " dense_20 (Dense)            (None, 32)                1056      \n",
            "                                                                 \n",
            " dense_21 (Dense)            (None, 1)                 33        \n",
            "                                                                 \n",
            "=================================================================\n",
            "Total params: 108,545\n",
            "Trainable params: 108,545\n",
            "Non-trainable params: 0\n",
            "_________________________________________________________________\n"
          ]
        }
      ]
    },
    {
      "cell_type": "code",
      "source": [
        "model.compile(optimizer='adam',\n",
        "              loss='binary_crossentropy',\n",
        "              metrics=['accuracy'])\n",
        "\n",
        "epochs=20 \n",
        "\n",
        "history = model.fit(x_train,\n",
        "                    y_train,\n",
        "                    epochs=epochs,\n",
        "                    batch_size=512,\n",
        "                    validation_data=(x_test, y_test), verbose=1)"
      ],
      "metadata": {
        "colab": {
          "base_uri": "https://localhost:8080/"
        },
        "id": "jr2Hdpn_FM6-",
        "outputId": "5e41772f-e5ce-4fab-9c4d-01d38b95075a"
      },
      "execution_count": null,
      "outputs": [
        {
          "output_type": "stream",
          "name": "stdout",
          "text": [
            "Epoch 1/20\n",
            "293/293 [==============================] - 10s 28ms/step - loss: 0.5185 - accuracy: 0.7431 - val_loss: 0.4603 - val_accuracy: 0.7856\n",
            "Epoch 2/20\n",
            "293/293 [==============================] - 8s 27ms/step - loss: 0.4460 - accuracy: 0.7941 - val_loss: 0.4489 - val_accuracy: 0.7899\n",
            "Epoch 3/20\n",
            "293/293 [==============================] - 8s 27ms/step - loss: 0.4301 - accuracy: 0.8003 - val_loss: 0.4373 - val_accuracy: 0.7935\n",
            "Epoch 4/20\n",
            "293/293 [==============================] - 8s 29ms/step - loss: 0.4154 - accuracy: 0.8073 - val_loss: 0.4197 - val_accuracy: 0.8052\n",
            "Epoch 5/20\n",
            "293/293 [==============================] - 8s 27ms/step - loss: 0.4012 - accuracy: 0.8149 - val_loss: 0.4147 - val_accuracy: 0.8082\n",
            "Epoch 6/20\n",
            "293/293 [==============================] - 8s 27ms/step - loss: 0.3934 - accuracy: 0.8202 - val_loss: 0.4075 - val_accuracy: 0.8124\n",
            "Epoch 7/20\n",
            "293/293 [==============================] - 8s 27ms/step - loss: 0.3868 - accuracy: 0.8248 - val_loss: 0.4038 - val_accuracy: 0.8146\n",
            "Epoch 8/20\n",
            "293/293 [==============================] - 8s 27ms/step - loss: 0.3809 - accuracy: 0.8265 - val_loss: 0.3980 - val_accuracy: 0.8170\n",
            "Epoch 9/20\n",
            "293/293 [==============================] - 8s 27ms/step - loss: 0.3729 - accuracy: 0.8310 - val_loss: 0.3930 - val_accuracy: 0.8208\n",
            "Epoch 10/20\n",
            "293/293 [==============================] - 8s 27ms/step - loss: 0.3653 - accuracy: 0.8358 - val_loss: 0.3878 - val_accuracy: 0.8240\n",
            "Epoch 11/20\n",
            "293/293 [==============================] - 8s 27ms/step - loss: 0.3609 - accuracy: 0.8384 - val_loss: 0.3858 - val_accuracy: 0.8285\n",
            "Epoch 12/20\n",
            "293/293 [==============================] - 8s 27ms/step - loss: 0.3538 - accuracy: 0.8431 - val_loss: 0.3808 - val_accuracy: 0.8290\n",
            "Epoch 13/20\n",
            "293/293 [==============================] - 8s 27ms/step - loss: 0.3491 - accuracy: 0.8456 - val_loss: 0.3797 - val_accuracy: 0.8281\n",
            "Epoch 14/20\n",
            "293/293 [==============================] - 8s 27ms/step - loss: 0.3444 - accuracy: 0.8477 - val_loss: 0.3749 - val_accuracy: 0.8317\n",
            "Epoch 15/20\n",
            "293/293 [==============================] - 8s 27ms/step - loss: 0.3400 - accuracy: 0.8503 - val_loss: 0.3744 - val_accuracy: 0.8323\n",
            "Epoch 16/20\n",
            "293/293 [==============================] - 8s 27ms/step - loss: 0.3346 - accuracy: 0.8534 - val_loss: 0.3788 - val_accuracy: 0.8328\n",
            "Epoch 17/20\n",
            "293/293 [==============================] - 8s 29ms/step - loss: 0.3335 - accuracy: 0.8541 - val_loss: 0.3750 - val_accuracy: 0.8346\n",
            "Epoch 18/20\n",
            "293/293 [==============================] - 8s 27ms/step - loss: 0.3283 - accuracy: 0.8567 - val_loss: 0.3681 - val_accuracy: 0.8359\n",
            "Epoch 19/20\n",
            "293/293 [==============================] - 8s 27ms/step - loss: 0.3258 - accuracy: 0.8577 - val_loss: 0.3753 - val_accuracy: 0.8371\n",
            "Epoch 20/20\n",
            "293/293 [==============================] - 8s 29ms/step - loss: 0.3211 - accuracy: 0.8611 - val_loss: 0.3663 - val_accuracy: 0.8385\n"
          ]
        }
      ]
    },
    {
      "cell_type": "code",
      "source": [
        "import matplotlib.pyplot as plt\n",
        "%matplotlib inline\n",
        "print(history.history.keys())"
      ],
      "metadata": {
        "colab": {
          "base_uri": "https://localhost:8080/"
        },
        "id": "oY9BWxf8FP4-",
        "outputId": "e634a6c1-f2e0-470b-eba2-4016c827886a"
      },
      "execution_count": null,
      "outputs": [
        {
          "output_type": "stream",
          "name": "stdout",
          "text": [
            "dict_keys(['loss', 'accuracy', 'val_loss', 'val_accuracy'])\n"
          ]
        }
      ]
    },
    {
      "cell_type": "code",
      "source": [
        "plt.plot(history.history['loss'], label='loss')\n",
        "plt.plot(history.history['accuracy'], label='acc')\n",
        "plt.plot(history.history['val_loss'], label='val_loss')\n",
        "plt.plot(history.history['val_accuracy'], label='val_acc')\n",
        "\n",
        "plt.legend()\n",
        "plt.xticks(ticks=list(range(20)))\n",
        "plt.show()"
      ],
      "metadata": {
        "colab": {
          "base_uri": "https://localhost:8080/",
          "height": 265
        },
        "id": "s4advwYTFSDt",
        "outputId": "0702ea73-76f5-47da-f370-40bed39a6423"
      },
      "execution_count": null,
      "outputs": [
        {
          "output_type": "display_data",
          "data": {
            "text/plain": [
              "<Figure size 432x288 with 1 Axes>"
            ],
            "image/png": "[encoded data removed]"
          },
          "metadata": {
            "needs_background": "light"
          }
        }
      ]
    },
    {
      "cell_type": "markdown",
      "source": [
        "# kkma 형태소 분석기 적용 결과:\n",
        "같은 10000 words인데 val_loss가 천천히 올라갑니다. 근데 accuracy가 딱히 높지는 않습니다. training을 더 시켜볼까요?"
      ],
      "metadata": {
        "id": "3Au2X26gGbBo"
      }
    },
    {
      "cell_type": "code",
      "source": [
        "model.compile(optimizer='adam',\n",
        "              loss='binary_crossentropy',\n",
        "              metrics=['accuracy'])\n",
        "\n",
        "epochs=20 \n",
        "\n",
        "history = model.fit(x_train,\n",
        "                    y_train,\n",
        "                    epochs=epochs,\n",
        "                    batch_size=512,\n",
        "                    validation_data=(x_valid, y_valid), verbose=1)\n",
        "plt.plot(history.history['loss'], label='loss')\n",
        "plt.plot(history.history['accuracy'], label='acc')\n",
        "plt.plot(history.history['val_loss'], label='val_loss')\n",
        "plt.plot(history.history['val_accuracy'], label='val_acc')\n",
        "\n",
        "plt.legend()\n",
        "plt.xticks(ticks=list(range(20)))\n",
        "plt.show()"
      ],
      "metadata": {
        "colab": {
          "base_uri": "https://localhost:8080/",
          "height": 988
        },
        "id": "jxN4AnOLGrSQ",
        "outputId": "dd99708c-fc6e-425e-84f4-11ad8d4e1abc"
      },
      "execution_count": null,
      "outputs": [
        {
          "output_type": "stream",
          "name": "stdout",
          "text": [
            "Epoch 1/20\n",
            "293/293 [==============================] - 10s 28ms/step - loss: 0.3194 - accuracy: 0.8619 - val_loss: 0.3660 - val_accuracy: 0.8396\n",
            "Epoch 2/20\n",
            "293/293 [==============================] - 8s 26ms/step - loss: 0.3146 - accuracy: 0.8642 - val_loss: 0.3731 - val_accuracy: 0.8347\n",
            "Epoch 3/20\n",
            "293/293 [==============================] - 8s 26ms/step - loss: 0.3118 - accuracy: 0.8658 - val_loss: 0.3740 - val_accuracy: 0.8391\n",
            "Epoch 4/20\n",
            "293/293 [==============================] - 8s 26ms/step - loss: 0.3103 - accuracy: 0.8667 - val_loss: 0.3767 - val_accuracy: 0.8369\n",
            "Epoch 5/20\n",
            "293/293 [==============================] - 8s 26ms/step - loss: 0.3059 - accuracy: 0.8689 - val_loss: 0.3677 - val_accuracy: 0.8382\n",
            "Epoch 6/20\n",
            "293/293 [==============================] - 8s 26ms/step - loss: 0.3020 - accuracy: 0.8708 - val_loss: 0.3731 - val_accuracy: 0.8363\n",
            "Epoch 7/20\n",
            "293/293 [==============================] - 8s 26ms/step - loss: 0.3012 - accuracy: 0.8717 - val_loss: 0.3635 - val_accuracy: 0.8417\n",
            "Epoch 8/20\n",
            "293/293 [==============================] - 8s 26ms/step - loss: 0.2972 - accuracy: 0.8734 - val_loss: 0.3745 - val_accuracy: 0.8405\n",
            "Epoch 9/20\n",
            "293/293 [==============================] - 8s 26ms/step - loss: 0.2947 - accuracy: 0.8743 - val_loss: 0.3692 - val_accuracy: 0.8399\n",
            "Epoch 10/20\n",
            "293/293 [==============================] - 8s 26ms/step - loss: 0.2910 - accuracy: 0.8766 - val_loss: 0.3678 - val_accuracy: 0.8412\n",
            "Epoch 11/20\n",
            "293/293 [==============================] - 8s 26ms/step - loss: 0.2889 - accuracy: 0.8773 - val_loss: 0.3704 - val_accuracy: 0.8396\n",
            "Epoch 12/20\n",
            "293/293 [==============================] - 8s 26ms/step - loss: 0.2861 - accuracy: 0.8785 - val_loss: 0.3782 - val_accuracy: 0.8380\n",
            "Epoch 13/20\n",
            "293/293 [==============================] - 8s 26ms/step - loss: 0.2846 - accuracy: 0.8803 - val_loss: 0.3750 - val_accuracy: 0.8414\n",
            "Epoch 14/20\n",
            "293/293 [==============================] - 8s 26ms/step - loss: 0.2814 - accuracy: 0.8815 - val_loss: 0.3753 - val_accuracy: 0.8412\n",
            "Epoch 15/20\n",
            "293/293 [==============================] - 8s 26ms/step - loss: 0.2783 - accuracy: 0.8827 - val_loss: 0.3807 - val_accuracy: 0.8437\n",
            "Epoch 16/20\n",
            "293/293 [==============================] - 8s 26ms/step - loss: 0.2773 - accuracy: 0.8831 - val_loss: 0.3849 - val_accuracy: 0.8338\n",
            "Epoch 17/20\n",
            "293/293 [==============================] - 8s 26ms/step - loss: 0.2746 - accuracy: 0.8851 - val_loss: 0.3726 - val_accuracy: 0.8403\n",
            "Epoch 18/20\n",
            "293/293 [==============================] - 8s 26ms/step - loss: 0.2711 - accuracy: 0.8865 - val_loss: 0.3815 - val_accuracy: 0.8419\n",
            "Epoch 19/20\n",
            "293/293 [==============================] - 8s 26ms/step - loss: 0.2707 - accuracy: 0.8867 - val_loss: 0.3712 - val_accuracy: 0.8433\n",
            "Epoch 20/20\n",
            "293/293 [==============================] - 8s 26ms/step - loss: 0.2683 - accuracy: 0.8876 - val_loss: 0.3792 - val_accuracy: 0.8431\n"
          ]
        },
        {
          "output_type": "display_data",
          "data": {
            "text/plain": [
              "<Figure size 432x288 with 1 Axes>"
            ],
            "image/png": "[encoded data removed]"
          },
          "metadata": {
            "needs_background": "light"
          }
        }
      ]
    },
    {
      "cell_type": "markdown",
      "source": [
        "# Komoran 형태소 분석기 적용 결과:\n"
      ],
      "metadata": {
        "id": "xlM_Orb8MHO-"
      }
    },
    {
      "cell_type": "code",
      "source": [
        "path='/content/drive/MyDrive/colabdata/modulabs/lms_exp8/'\n",
        "train_data=pd.read_csv(path+'Komoran_parsed_train.csv')\n",
        "test_data=pd.read_csv(path+'Komoran_parsed_test.csv')"
      ],
      "metadata": {
        "id": "7erqS8xiMehQ"
      },
      "execution_count": 3,
      "outputs": []
    },
    {
      "cell_type": "code",
      "source": [
        "X_train, y_train, X_test, y_test, word_to_index, index_to_word = tokenizer(train_data, test_data)"
      ],
      "metadata": {
        "id": "YkTJal8WNma4"
      },
      "execution_count": null,
      "outputs": []
    },
    {
      "cell_type": "code",
      "source": [
        "length=[len(sentence) for sentence in X_train]\n",
        "print(np.max(length), np.mean(length), np.std(length))\n",
        "maxlen=int(np.mean(length)+2*np.std(length))\n",
        "\n",
        "print('maxlength is: ',maxlen)"
      ],
      "metadata": {
        "colab": {
          "base_uri": "https://localhost:8080/"
        },
        "id": "OltVvFSQMtky",
        "outputId": "22e2cf6e-70c3-4537-e1de-f4a0f9ba8216"
      },
      "execution_count": 9,
      "outputs": [
        {
          "output_type": "stream",
          "name": "stdout",
          "text": [
            "700 102.62062735424514 85.9458426226767\n",
            "maxlength is:  274\n"
          ]
        }
      ]
    },
    {
      "cell_type": "code",
      "source": [
        "import tensorflow as tf\n",
        "x_train = tf.keras.preprocessing.sequence.pad_sequences(X_train,\n",
        "                                                        value=word_to_index[\"<PAD>\"],\n",
        "                                                        padding='pre',\n",
        "                                                        maxlen=maxlen)\n",
        "\n",
        "x_test = tf.keras.preprocessing.sequence.pad_sequences(X_test,\n",
        "                                                       value=word_to_index[\"<PAD>\"],\n",
        "                                                       padding='pre',\n",
        "                                                       maxlen=maxlen)\n",
        "\n",
        "print(x_train.shape, x_test.shape)"
      ],
      "metadata": {
        "colab": {
          "base_uri": "https://localhost:8080/"
        },
        "id": "pENqqBP1N7Ww",
        "outputId": "c500eddd-bff3-4bad-acb7-ed42716ffbd7"
      },
      "execution_count": 11,
      "outputs": [
        {
          "output_type": "stream",
          "name": "stdout",
          "text": [
            "(149995, 274) (49997, 274)\n"
          ]
        }
      ]
    },
    {
      "cell_type": "code",
      "source": [
        "vocab_size = len(word_to_index)+1\n",
        "word_vector_dim = 32  # 단어 하나를 표현하는 임베딩 벡터의 차원수입니다. \n",
        "\n",
        "model = tf.keras.Sequential()\n",
        "model.add(tf.keras.layers.Embedding(vocab_size, word_vector_dim, input_shape=(None,)))\n",
        "model.add(tf.keras.layers.LSTM(32))\n",
        "model.add(tf.keras.layers.Dense(32, activation='relu'))\n",
        "model.add(tf.keras.layers.Dense(1, activation='sigmoid'))\n",
        "model.summary()"
      ],
      "metadata": {
        "colab": {
          "base_uri": "https://localhost:8080/"
        },
        "id": "GvTQgaazOarM",
        "outputId": "07a525da-eedd-4dff-8d7f-f38402e08119"
      },
      "execution_count": 17,
      "outputs": [
        {
          "output_type": "stream",
          "name": "stdout",
          "text": [
            "Model: \"sequential_1\"\n",
            "_________________________________________________________________\n",
            " Layer (type)                Output Shape              Param #   \n",
            "=================================================================\n",
            " embedding_1 (Embedding)     (None, None, 32)          101408    \n",
            "                                                                 \n",
            " lstm_1 (LSTM)               (None, 32)                8320      \n",
            "                                                                 \n",
            " dense_2 (Dense)             (None, 32)                1056      \n",
            "                                                                 \n",
            " dense_3 (Dense)             (None, 1)                 33        \n",
            "                                                                 \n",
            "=================================================================\n",
            "Total params: 110,817\n",
            "Trainable params: 110,817\n",
            "Non-trainable params: 0\n",
            "_________________________________________________________________\n"
          ]
        }
      ]
    },
    {
      "cell_type": "code",
      "source": [
        "model.compile(optimizer='adam',\n",
        "              loss='binary_crossentropy',\n",
        "              metrics=['accuracy'])\n",
        "\n",
        "epochs=40\n",
        "\n",
        "history = model.fit(x_train,\n",
        "                    y_train,\n",
        "                    epochs=epochs,\n",
        "                    batch_size=512,\n",
        "                    validation_data=(x_test, y_test), verbose=1)"
      ],
      "metadata": {
        "colab": {
          "base_uri": "https://localhost:8080/"
        },
        "id": "ZpKY9aS7Ojvd",
        "outputId": "0d27fad0-5011-4984-aa7a-686ba6c8a50e"
      },
      "execution_count": 18,
      "outputs": [
        {
          "output_type": "stream",
          "name": "stdout",
          "text": [
            "Epoch 1/40\n",
            "293/293 [==============================] - 10s 29ms/step - loss: 0.5184 - accuracy: 0.7396 - val_loss: 0.4725 - val_accuracy: 0.7806\n",
            "Epoch 2/40\n",
            "293/293 [==============================] - 8s 26ms/step - loss: 0.4482 - accuracy: 0.7939 - val_loss: 0.4502 - val_accuracy: 0.7906\n",
            "Epoch 3/40\n",
            "293/293 [==============================] - 8s 26ms/step - loss: 0.4365 - accuracy: 0.7990 - val_loss: 0.4402 - val_accuracy: 0.7938\n",
            "Epoch 4/40\n",
            "293/293 [==============================] - 8s 26ms/step - loss: 0.4242 - accuracy: 0.8050 - val_loss: 0.4305 - val_accuracy: 0.7975\n",
            "Epoch 5/40\n",
            "293/293 [==============================] - 8s 26ms/step - loss: 0.4116 - accuracy: 0.8112 - val_loss: 0.4181 - val_accuracy: 0.8064\n",
            "Epoch 6/40\n",
            "293/293 [==============================] - 8s 26ms/step - loss: 0.3979 - accuracy: 0.8179 - val_loss: 0.4141 - val_accuracy: 0.8082\n",
            "Epoch 7/40\n",
            "293/293 [==============================] - 8s 26ms/step - loss: 0.3916 - accuracy: 0.8222 - val_loss: 0.4082 - val_accuracy: 0.8124\n",
            "Epoch 8/40\n",
            "293/293 [==============================] - 7s 26ms/step - loss: 0.3833 - accuracy: 0.8263 - val_loss: 0.4069 - val_accuracy: 0.8119\n",
            "Epoch 9/40\n",
            "293/293 [==============================] - 8s 26ms/step - loss: 0.3769 - accuracy: 0.8292 - val_loss: 0.3977 - val_accuracy: 0.8200\n",
            "Epoch 10/40\n",
            "293/293 [==============================] - 8s 26ms/step - loss: 0.3701 - accuracy: 0.8339 - val_loss: 0.3946 - val_accuracy: 0.8198\n",
            "Epoch 11/40\n",
            "293/293 [==============================] - 8s 26ms/step - loss: 0.3651 - accuracy: 0.8363 - val_loss: 0.3959 - val_accuracy: 0.8228\n",
            "Epoch 12/40\n",
            "293/293 [==============================] - 8s 26ms/step - loss: 0.3595 - accuracy: 0.8400 - val_loss: 0.3902 - val_accuracy: 0.8241\n",
            "Epoch 13/40\n",
            "293/293 [==============================] - 8s 26ms/step - loss: 0.3554 - accuracy: 0.8423 - val_loss: 0.3864 - val_accuracy: 0.8249\n",
            "Epoch 14/40\n",
            "293/293 [==============================] - 8s 26ms/step - loss: 0.3483 - accuracy: 0.8464 - val_loss: 0.3863 - val_accuracy: 0.8248\n",
            "Epoch 15/40\n",
            "293/293 [==============================] - 8s 26ms/step - loss: 0.3445 - accuracy: 0.8484 - val_loss: 0.3904 - val_accuracy: 0.8284\n",
            "Epoch 16/40\n",
            "293/293 [==============================] - 8s 26ms/step - loss: 0.3424 - accuracy: 0.8497 - val_loss: 0.3864 - val_accuracy: 0.8307\n",
            "Epoch 17/40\n",
            "293/293 [==============================] - 8s 26ms/step - loss: 0.3359 - accuracy: 0.8535 - val_loss: 0.3801 - val_accuracy: 0.8298\n",
            "Epoch 18/40\n",
            "293/293 [==============================] - 8s 26ms/step - loss: 0.3326 - accuracy: 0.8555 - val_loss: 0.3785 - val_accuracy: 0.8298\n",
            "Epoch 19/40\n",
            "293/293 [==============================] - 8s 28ms/step - loss: 0.3284 - accuracy: 0.8571 - val_loss: 0.3782 - val_accuracy: 0.8339\n",
            "Epoch 20/40\n",
            "293/293 [==============================] - 8s 26ms/step - loss: 0.3268 - accuracy: 0.8581 - val_loss: 0.3844 - val_accuracy: 0.8356\n",
            "Epoch 21/40\n",
            "293/293 [==============================] - 8s 26ms/step - loss: 0.3231 - accuracy: 0.8605 - val_loss: 0.3739 - val_accuracy: 0.8322\n",
            "Epoch 22/40\n",
            "293/293 [==============================] - 8s 26ms/step - loss: 0.3175 - accuracy: 0.8639 - val_loss: 0.3770 - val_accuracy: 0.8343\n",
            "Epoch 23/40\n",
            "293/293 [==============================] - 8s 27ms/step - loss: 0.3149 - accuracy: 0.8651 - val_loss: 0.3746 - val_accuracy: 0.8376\n",
            "Epoch 24/40\n",
            "293/293 [==============================] - 8s 28ms/step - loss: 0.3111 - accuracy: 0.8666 - val_loss: 0.3696 - val_accuracy: 0.8350\n",
            "Epoch 25/40\n",
            "293/293 [==============================] - 8s 26ms/step - loss: 0.3090 - accuracy: 0.8679 - val_loss: 0.3695 - val_accuracy: 0.8389\n",
            "Epoch 26/40\n",
            "293/293 [==============================] - 8s 26ms/step - loss: 0.3061 - accuracy: 0.8687 - val_loss: 0.3848 - val_accuracy: 0.8368\n",
            "Epoch 27/40\n",
            "293/293 [==============================] - 8s 26ms/step - loss: 0.3038 - accuracy: 0.8703 - val_loss: 0.3749 - val_accuracy: 0.8376\n",
            "Epoch 28/40\n",
            "293/293 [==============================] - 8s 26ms/step - loss: 0.3004 - accuracy: 0.8721 - val_loss: 0.3746 - val_accuracy: 0.8369\n",
            "Epoch 29/40\n",
            "293/293 [==============================] - 8s 26ms/step - loss: 0.2966 - accuracy: 0.8743 - val_loss: 0.3779 - val_accuracy: 0.8361\n",
            "Epoch 30/40\n",
            "293/293 [==============================] - 8s 26ms/step - loss: 0.2930 - accuracy: 0.8765 - val_loss: 0.3750 - val_accuracy: 0.8387\n",
            "Epoch 31/40\n",
            "293/293 [==============================] - 8s 26ms/step - loss: 0.2917 - accuracy: 0.8776 - val_loss: 0.3722 - val_accuracy: 0.8398\n",
            "Epoch 32/40\n",
            "293/293 [==============================] - 8s 26ms/step - loss: 0.2883 - accuracy: 0.8787 - val_loss: 0.3733 - val_accuracy: 0.8396\n",
            "Epoch 33/40\n",
            "293/293 [==============================] - 7s 26ms/step - loss: 0.2841 - accuracy: 0.8809 - val_loss: 0.3765 - val_accuracy: 0.8398\n",
            "Epoch 34/40\n",
            "293/293 [==============================] - 8s 26ms/step - loss: 0.2831 - accuracy: 0.8816 - val_loss: 0.3811 - val_accuracy: 0.8400\n",
            "Epoch 35/40\n",
            "293/293 [==============================] - 8s 26ms/step - loss: 0.2782 - accuracy: 0.8837 - val_loss: 0.3849 - val_accuracy: 0.8400\n",
            "Epoch 36/40\n",
            "293/293 [==============================] - 8s 26ms/step - loss: 0.2771 - accuracy: 0.8854 - val_loss: 0.3904 - val_accuracy: 0.8387\n",
            "Epoch 37/40\n",
            "293/293 [==============================] - 8s 26ms/step - loss: 0.2738 - accuracy: 0.8864 - val_loss: 0.3860 - val_accuracy: 0.8416\n",
            "Epoch 38/40\n",
            "293/293 [==============================] - 8s 26ms/step - loss: 0.2715 - accuracy: 0.8877 - val_loss: 0.3907 - val_accuracy: 0.8416\n",
            "Epoch 39/40\n",
            "293/293 [==============================] - 8s 26ms/step - loss: 0.2683 - accuracy: 0.8891 - val_loss: 0.3741 - val_accuracy: 0.8396\n",
            "Epoch 40/40\n",
            "293/293 [==============================] - 7s 25ms/step - loss: 0.2665 - accuracy: 0.8895 - val_loss: 0.3777 - val_accuracy: 0.8405\n"
          ]
        }
      ]
    },
    {
      "cell_type": "code",
      "source": [
        "plt.plot(history.history['loss'], label='loss')\n",
        "plt.plot(history.history['accuracy'], label='acc')\n",
        "plt.plot(history.history['val_loss'], label='val_loss')\n",
        "plt.plot(history.history['val_accuracy'], label='val_acc')\n",
        "\n",
        "plt.legend()\n",
        "plt.xticks(ticks=list(range(40)))\n",
        "plt.show()"
      ],
      "metadata": {
        "colab": {
          "base_uri": "https://localhost:8080/",
          "height": 265
        },
        "id": "MjnRXElTPaQE",
        "outputId": "a4c92971-d1d9-4bfa-a764-9ab3532037de"
      },
      "execution_count": 19,
      "outputs": [
        {
          "output_type": "display_data",
          "data": {
            "text/plain": [
              "<Figure size 432x288 with 1 Axes>"
            ],
            "image/png": "[encoded data removed]"
          },
          "metadata": {
            "needs_background": "light"
          }
        }
      ]
    },
    {
      "cell_type": "code",
      "source": [
        "len(word_to_index), len(index_to_word)"
      ],
      "metadata": {
        "colab": {
          "base_uri": "https://localhost:8080/"
        },
        "id": "mkrSoe5rUHBj",
        "outputId": "c5bfe831-44a2-470d-989e-26844e81927b"
      },
      "execution_count": 22,
      "outputs": [
        {
          "output_type": "execute_result",
          "data": {
            "text/plain": [
              "(3168, 3165)"
            ]
          },
          "metadata": {},
          "execution_count": 22
        }
      ]
    },
    {
      "cell_type": "code",
      "source": [
        "# Okt 형태소 분석기 적용 결과"
      ],
      "metadata": {
        "id": "mmlfeckHTZ75"
      },
      "execution_count": null,
      "outputs": []
    },
    {
      "cell_type": "markdown",
      "source": [
        "# SentencePiece 사용해보기\n",
        "__(여기서부터 독립적으로 실행 가능하게 만듭시다)__  \n",
        "같은 작업을 SentencePiece를 이용해서 다시 해보라고 하였는데, 이게 어떤 일인지 생각해봅니다. \n",
        "1. SentencePiece 훈련 데이터가 그것을 적용할 데이터와 같은데 상관 없는가?: test data와 제대로 분리된다면 상관 없겠다. 물론 다른 데이터로 훈련하면 더 좋을지는 알 수 없다.\n",
        "2. "
      ],
      "metadata": {
        "id": "m_i1fTm_Guuf"
      }
    },
    {
      "cell_type": "code",
      "source": [
        "!pip install konlpy\n",
        "import tensorflow as tf\n",
        "import numpy as np\n",
        "import matplotlib.pyplot as plt\n",
        "import konlpy\n",
        "import os\n"
      ],
      "metadata": {
        "id": "fLEx5UkjQ2pf",
        "colab": {
          "base_uri": "https://localhost:8080/"
        },
        "outputId": "3ee571a7-3f5f-4d53-da04-c3a7d465500b"
      },
      "execution_count": null,
      "outputs": [
        {
          "output_type": "stream",
          "name": "stdout",
          "text": [
            "Looking in indexes: https://pypi.org/simple, https://us-python.pkg.dev/colab-wheels/public/simple/\n",
            "Collecting konlpy\n",
            "  Downloading konlpy-0.6.0-py2.py3-none-any.whl (19.4 MB)\n",
            "\u001b[K     |████████████████████████████████| 19.4 MB 533 kB/s \n",
            "\u001b[?25hRequirement already satisfied: lxml>=4.1.0 in /usr/local/lib/python3.7/dist-packages (from konlpy) (4.9.1)\n",
            "Requirement already satisfied: numpy>=1.6 in /usr/local/lib/python3.7/dist-packages (from konlpy) (1.21.6)\n",
            "Collecting JPype1>=0.7.0\n",
            "  Downloading JPype1-1.4.0-cp37-cp37m-manylinux_2_5_x86_64.manylinux1_x86_64.whl (453 kB)\n",
            "\u001b[K     |████████████████████████████████| 453 kB 67.8 MB/s \n",
            "\u001b[?25hRequirement already satisfied: typing-extensions in /usr/local/lib/python3.7/dist-packages (from JPype1>=0.7.0->konlpy) (4.1.1)\n",
            "Installing collected packages: JPype1, konlpy\n",
            "Successfully installed JPype1-1.4.0 konlpy-0.6.0\n"
          ]
        }
      ]
    },
    {
      "cell_type": "code",
      "source": [
        "#!wget https://github.com/jungyeul/korean-parallel-corpora/raw/master/korean-english-news-v1/korean-english-park.train.tar.gz\n",
        "#!tar -xzvf /content/drive/MyDrive/colabdata/modulabs/lms_exp8/data/korean-english-park.train.tar.gz\n",
        "#!mv korean-english-park.train.en /content/drive/MyDrive/colabdata/modulabs/lms_exp8/data/korean-english-park.train.en\n",
        "#!mv korean-english-park.train.ko /content/drive/MyDrive/colabdata/modulabs/lms_exp8/data/korean-english-park.train.ko"
      ],
      "metadata": {
        "id": "EB8CLpfeSER9"
      },
      "execution_count": null,
      "outputs": []
    },
    {
      "cell_type": "code",
      "source": [
        "import pandas as pd\n",
        "#path_to_file = path+'data/korean-english-park.train.ko'\n",
        "path = '/content/drive/MyDrive/colabdata/modulabs/lms_exp8/'\n",
        "min_len=10000\n",
        "sum_len=0\n",
        "max_len=0\n",
        "\n",
        "raw = pd.read_table(path+'ratings_train.txt')['document'].tolist()\n",
        "\n",
        "for sen in raw:\n",
        "    length = len(str(sen))\n",
        "    if min_len > length: min_len = length\n",
        "    if max_len < length: max_len = length\n",
        "    sum_len += length\n",
        "\n",
        "print('min_len: {}, max_len: {}'.format(min_len, max_len))\n",
        "sentence_length = np.zeros((max_len), dtype=np.int)\n",
        "\n",
        "for sen in raw:\n",
        "    sentence_length[len(str(sen))-1] += 1\n",
        "\n",
        "plt.plot(sentence_length)\n",
        "plt.show()\n"
      ],
      "metadata": {
        "colab": {
          "base_uri": "https://localhost:8080/",
          "height": 339
        },
        "id": "jJDEsgDOTLsl",
        "outputId": "156e5a63-12c5-49d4-832e-30cfc2736577"
      },
      "execution_count": null,
      "outputs": [
        {
          "output_type": "stream",
          "name": "stdout",
          "text": [
            "min_len: 1, max_len: 146\n"
          ]
        },
        {
          "output_type": "stream",
          "name": "stderr",
          "text": [
            "/usr/local/lib/python3.7/dist-packages/ipykernel_launcher.py:17: DeprecationWarning: `np.int` is a deprecated alias for the builtin `int`. To silence this warning, use `int` by itself. Doing this will not modify any behavior and is safe. When replacing `np.int`, you may wish to use e.g. `np.int64` or `np.int32` to specify the precision. If you wish to review your current use, check the release note link for additional information.\n",
            "Deprecated in NumPy 1.20; for more details and guidance: https://numpy.org/devdocs/release/1.20.0-notes.html#deprecations\n"
          ]
        },
        {
          "output_type": "display_data",
          "data": {
            "text/plain": [
              "<Figure size 432x288 with 1 Axes>"
            ],
            "image/png": "[encoded data removed]"
          },
          "metadata": {
            "needs_background": "light"
          }
        }
      ]
    },
    {
      "cell_type": "code",
      "source": [
        "\n",
        "cleaned_corpus = list(set(raw))  # set를 사용해서 중복을 제거합니다.\n",
        "\n",
        "min_len=10000\n",
        "sum_len=0\n",
        "max_len=0\n",
        "\n",
        "for sen in cleaned_corpus:\n",
        "    length = len(str(sen))\n",
        "    if min_len > length: min_len = length\n",
        "    if max_len < length: max_len = length\n",
        "    sum_len += length\n",
        "\n",
        "print(\"문장의 최단 길이:\", min_len)\n",
        "print(\"문장의 최장 길이:\", max_len)\n",
        "print(\"문장의 평균 길이:\", sum_len // len(cleaned_corpus))\n"
      ],
      "metadata": {
        "colab": {
          "base_uri": "https://localhost:8080/"
        },
        "id": "MvrcMFLkvWgq",
        "outputId": "b94551e8-f44d-4495-c19f-c8f98e05ba81"
      },
      "execution_count": null,
      "outputs": [
        {
          "output_type": "stream",
          "name": "stdout",
          "text": [
            "문장의 최단 길이: 1\n",
            "문장의 최장 길이: 146\n",
            "문장의 평균 길이: 35\n"
          ]
        }
      ]
    },
    {
      "cell_type": "code",
      "source": [
        "sentence_length = np.zeros((max_len), dtype=np.int)\n",
        "\n",
        "for sen in cleaned_corpus:   # 중복이 제거된 코퍼스 기준\n",
        "    sentence_length[len(str(sen))-1] += 1"
      ],
      "metadata": {
        "colab": {
          "base_uri": "https://localhost:8080/"
        },
        "id": "ycMfD6iQYNxE",
        "outputId": "8f8e0a68-ca3c-4a33-b16a-78b3e7055e51"
      },
      "execution_count": null,
      "outputs": [
        {
          "output_type": "stream",
          "name": "stderr",
          "text": [
            "/usr/local/lib/python3.7/dist-packages/ipykernel_launcher.py:1: DeprecationWarning: `np.int` is a deprecated alias for the builtin `int`. To silence this warning, use `int` by itself. Doing this will not modify any behavior and is safe. When replacing `np.int`, you may wish to use e.g. `np.int64` or `np.int32` to specify the precision. If you wish to review your current use, check the release note link for additional information.\n",
            "Deprecated in NumPy 1.20; for more details and guidance: https://numpy.org/devdocs/release/1.20.0-notes.html#deprecations\n",
            "  \"\"\"Entry point for launching an IPython kernel.\n"
          ]
        }
      ]
    },
    {
      "cell_type": "code",
      "source": [],
      "metadata": {
        "id": "w3vIusCfxqjh"
      },
      "execution_count": null,
      "outputs": []
    },
    {
      "cell_type": "code",
      "source": [
        "max_len = 146\n",
        "min_len = 10\n",
        "\n",
        "# 길이 조건에 맞는 문장만 선택합니다.\n",
        "filtered_corpus = [s for s in cleaned_corpus if type(s)==str if (len(s) < max_len) & (len(s) >= min_len)]\n",
        "\n",
        "# 분포도를 다시 그려봅니다.\n",
        "sentence_length = np.zeros((max_len), dtype=np.int)\n",
        "\n",
        "for sen in filtered_corpus:\n",
        "    sentence_length[len(sen)-1] += 1\n",
        "\n",
        "plt.bar(range(max_len), sentence_length, width=1.0)\n",
        "plt.title(\"Sentence Length Distribution\")\n",
        "plt.show()"
      ],
      "metadata": {
        "colab": {
          "base_uri": "https://localhost:8080/",
          "height": 355
        },
        "id": "Y1N6NU32T0-1",
        "outputId": "126dfe83-93c2-4761-800f-2dde38d888f1"
      },
      "execution_count": null,
      "outputs": [
        {
          "output_type": "stream",
          "name": "stderr",
          "text": [
            "/usr/local/lib/python3.7/dist-packages/ipykernel_launcher.py:8: DeprecationWarning: `np.int` is a deprecated alias for the builtin `int`. To silence this warning, use `int` by itself. Doing this will not modify any behavior and is safe. When replacing `np.int`, you may wish to use e.g. `np.int64` or `np.int32` to specify the precision. If you wish to review your current use, check the release note link for additional information.\n",
            "Deprecated in NumPy 1.20; for more details and guidance: https://numpy.org/devdocs/release/1.20.0-notes.html#deprecations\n",
            "  \n"
          ]
        },
        {
          "output_type": "display_data",
          "data": {
            "text/plain": [
              "<Figure size 432x288 with 1 Axes>"
            ],
            "image/png": "[encoded data removed]"
          },
          "metadata": {
            "needs_background": "light"
          }
        }
      ]
    },
    {
      "cell_type": "code",
      "source": [
        "!pip install sentencepiece\n",
        "\n",
        "import sentencepiece as spm\n",
        "\n",
        "temp_file = path+'korean-english-park.train.ko.temp'\n",
        "\n",
        "vocab_size = 10000\n",
        "\n",
        "with open(temp_file, 'w') as f:\n",
        "    for row in filtered_corpus:   # 이전 스텝에서 정제했던 corpus를 활용합니다.\n",
        "        f.write(str(row) + '\\n')\n",
        "\n",
        "spm.SentencePieceTrainer.Train(\"--input={} --model_prefix=korean_spm --vocab_size={} \".format(temp_file, vocab_size))\n",
        "#spm.SentencePieceTrainer.Train(\"--input={} --model_type=bpe --model_prefix=korean_spm --vocab_size={} \".format(temp_file, vocab_size))\n",
        "#위 Train에서  --model_type = 'unigram'이 디폴트 적용되어 있습니다. --model_type = 'bpe' 로 옵션을 주어 변경할 수 있습니다.\n",
        "\n",
        "!ls -l korean_spm*"
      ],
      "metadata": {
        "colab": {
          "base_uri": "https://localhost:8080/"
        },
        "id": "ZdZjdjW-J1xX",
        "outputId": "c7db1370-01d3-4e92-c593-d4a115f2ce93"
      },
      "execution_count": null,
      "outputs": [
        {
          "output_type": "stream",
          "name": "stdout",
          "text": [
            "Looking in indexes: https://pypi.org/simple, https://us-python.pkg.dev/colab-wheels/public/simple/\n",
            "Collecting sentencepiece\n",
            "  Downloading sentencepiece-0.1.97-cp37-cp37m-manylinux_2_17_x86_64.manylinux2014_x86_64.whl (1.3 MB)\n",
            "\u001b[K     |████████████████████████████████| 1.3 MB 7.8 MB/s \n",
            "\u001b[?25hInstalling collected packages: sentencepiece\n",
            "Successfully installed sentencepiece-0.1.97\n",
            "-rw-r--r-- 1 root root 413864 Sep 26 05:02 korean_spm.model\n",
            "-rw-r--r-- 1 root root 185074 Sep 26 05:02 korean_spm.vocab\n"
          ]
        }
      ]
    },
    {
      "cell_type": "code",
      "source": [
        "!mv korean_spm.model /content/drive/MyDrive/colabdata/modulabs/lms_exp8/data/korean_spm.model\n",
        "!mv korean_spm.vocab /content/drive/MyDrive/colabdata/modulabs/lms_exp8/data/korean_spm.vocab"
      ],
      "metadata": {
        "id": "_v_OsvZC1pXY"
      },
      "execution_count": null,
      "outputs": []
    },
    {
      "cell_type": "code",
      "source": [
        "s = spm.SentencePieceProcessor()\n",
        "s.Load(path+'data/korean_spm.model')\n",
        "\n",
        "# SentencePiece를 활용한 sentence -> encoding\n",
        "tokensIDs = s.EncodeAsIds('아버지가방에들어가신다.')\n",
        "print(tokensIDs)\n",
        "\n",
        "# SentencePiece를 활용한 sentence -> encoded pieces\n",
        "print(s.SampleEncodeAsPieces('아버지가방에들어가신다.', -1, 0.0))\n",
        "\n",
        "# SentencePiece를 활용한 encoding -> sentence 복원\n",
        "print(s.DecodeIds(tokensIDs))"
      ],
      "metadata": {
        "colab": {
          "base_uri": "https://localhost:8080/"
        },
        "id": "9L2HIcOzUFbR",
        "outputId": "50537bc3-21b0-4206-a502-09a007a862b5"
      },
      "execution_count": null,
      "outputs": [
        {
          "output_type": "stream",
          "name": "stdout",
          "text": [
            "[1270, 10, 434, 15, 1299, 10, 155, 18, 4]\n",
            "['▁아버지', '가', '방', '에', '들', '어', '가', '신', '다', '.']\n",
            "아버지가방에들어가신다.\n"
          ]
        }
      ]
    },
    {
      "cell_type": "code",
      "source": [
        "def sp_tokenize(s, corpus, maxlen):\n",
        "\n",
        "    tensor = []\n",
        "\n",
        "    for sen in corpus:\n",
        "        tensor.append(s.EncodeAsIds(sen))\n",
        "\n",
        "    with open(path+\"data/korean_spm.vocab\", 'r') as f:\n",
        "        vocab = f.readlines()\n",
        "\n",
        "    word_index = {}\n",
        "    index_word = {}\n",
        "\n",
        "    for idx, line in enumerate(vocab):\n",
        "        word = line.split(\"\\t\")[0]\n",
        "\n",
        "        word_index.update({word:idx})\n",
        "        index_word.update({idx:word})\n",
        "\n",
        "    tensor = tf.keras.preprocessing.sequence.pad_sequences(tensor, padding='pre', maxlen=maxlen)\n",
        "\n",
        "    return tensor, word_index, index_word\n",
        "\n",
        "def sp_tokenize_test(s, corpus, maxlen):\n",
        "    tensor=[]\n",
        "    for sen in corpus:\n",
        "        tensor.append(s.EncodeAsIds(sen))\n",
        "\n",
        "    tensor = tf.keras.preprocessing.sequence.pad_sequences(tensor, padding='pre', maxlen=maxlen)\n",
        "    return tensor"
      ],
      "metadata": {
        "id": "t1HHeqAXUPpc"
      },
      "execution_count": null,
      "outputs": []
    },
    {
      "cell_type": "markdown",
      "source": [
        "## sp_tokenize의 수정:  \n",
        "padding을 'post'에서 'pre'로 바꾼 것 말고는 별로 차이가 없습니다.  \n",
        "sp_tokenize_test() 함수는 그냥 인코딩만 하고 word_index, index_word는 건드리지 않습니다. 어차피 sp_tokenize에서 korean_spm.vocab의 모든 단어를 꺼내어 저장했기 때문에 다시 할 필요가 없습니다."
      ],
      "metadata": {
        "id": "6T5ANqTcYPIA"
      }
    },
    {
      "cell_type": "code",
      "source": [
        "train_data=pd.read_table(path+'ratings_train.txt')\n",
        "test_data=pd.read_table(path+'ratings_test.txt')\n",
        "train_data.drop_duplicates(inplace=True)\n",
        "train_data.dropna(inplace=True)\n",
        "test_data.drop_duplicates(inplace=True)\n",
        "test_data.dropna(inplace=True)"
      ],
      "metadata": {
        "id": "zs3s1jZZV-j_"
      },
      "execution_count": null,
      "outputs": []
    },
    {
      "cell_type": "code",
      "source": [
        "#sp_tokenize(s, corpus) 사용예제\n",
        "maxlen=146\n",
        "tensor, word_index, index_word = sp_tokenize(s, train_data['document'], maxlen)"
      ],
      "metadata": {
        "id": "_0MhMaEnVWqg"
      },
      "execution_count": null,
      "outputs": []
    },
    {
      "cell_type": "code",
      "source": [
        "X_train=tensor\n",
        "X_test=sp_tokenize_test(s, test_data['document'], maxlen)\n",
        "y_train=train_data['label'].to_numpy()\n",
        "y_test=test_data['label'].to_numpy()"
      ],
      "metadata": {
        "id": "r8iCf-cT4Dr_"
      },
      "execution_count": null,
      "outputs": []
    },
    {
      "cell_type": "code",
      "source": [
        "len(index_word)"
      ],
      "metadata": {
        "colab": {
          "base_uri": "https://localhost:8080/"
        },
        "id": "zy5_HG_FPU7H",
        "outputId": "37f7e38b-8e84-428e-c1a7-22c3f2af1014"
      },
      "execution_count": null,
      "outputs": [
        {
          "output_type": "execute_result",
          "data": {
            "text/plain": [
              "10000"
            ]
          },
          "metadata": {},
          "execution_count": 134
        }
      ]
    },
    {
      "cell_type": "code",
      "source": [
        "#s.pad_id()\n",
        "#index_word[10000]='<PAD>'\n",
        "#word_index['<PAD>']=10000"
      ],
      "metadata": {
        "id": "SZzPSZoV5bOC"
      },
      "execution_count": null,
      "outputs": []
    },
    {
      "cell_type": "code",
      "source": [
        "print(X_test.shape, X_train.shape)"
      ],
      "metadata": {
        "colab": {
          "base_uri": "https://localhost:8080/"
        },
        "outputId": "555d0724-a5db-408b-c79f-2fcc757c6edb",
        "id": "EO87v_kV3sgq"
      },
      "execution_count": null,
      "outputs": [
        {
          "output_type": "stream",
          "name": "stdout",
          "text": [
            "(49997, 146) (149995, 146)\n"
          ]
        }
      ]
    },
    {
      "cell_type": "code",
      "source": [
        "vocab_size = len(word_index)\n",
        "word_vector_dim = 32  # 단어 하나를 표현하는 임베딩 벡터의 차원수입니다. \n",
        "\n",
        "model = tf.keras.Sequential()\n",
        "model.add(tf.keras.layers.Embedding(vocab_size, word_vector_dim, input_shape=(None,)))\n",
        "#model.add(tf.keras.layers.LSTM(128, return_sequences=True))\n",
        "#to stack LSTM layers, return_sequences should be True except the last layer, as output of default LSTM layer reduces dimension by 1\n",
        "model.add(tf.keras.layers.LSTM(32))\n",
        "model.add(tf.keras.layers.Dense(32, activation='relu'))\n",
        "model.add(tf.keras.layers.Dense(1, activation='sigmoid'))\n",
        "model.summary()"
      ],
      "metadata": {
        "colab": {
          "base_uri": "https://localhost:8080/"
        },
        "outputId": "f93599fe-86dd-4f28-ce5f-4ca2ffb9b501",
        "id": "jO-yH_L13sgr"
      },
      "execution_count": null,
      "outputs": [
        {
          "output_type": "stream",
          "name": "stdout",
          "text": [
            "Model: \"sequential_19\"\n",
            "_________________________________________________________________\n",
            " Layer (type)                Output Shape              Param #   \n",
            "=================================================================\n",
            " embedding_19 (Embedding)    (None, None, 32)          320000    \n",
            "                                                                 \n",
            " lstm_22 (LSTM)              (None, 32)                8320      \n",
            "                                                                 \n",
            " dense_26 (Dense)            (None, 32)                1056      \n",
            "                                                                 \n",
            " dense_27 (Dense)            (None, 1)                 33        \n",
            "                                                                 \n",
            "=================================================================\n",
            "Total params: 329,409\n",
            "Trainable params: 329,409\n",
            "Non-trainable params: 0\n",
            "_________________________________________________________________\n"
          ]
        }
      ]
    },
    {
      "cell_type": "code",
      "source": [
        "model.compile(optimizer='adam',\n",
        "              loss='binary_crossentropy',\n",
        "              metrics=['accuracy'])\n",
        "\n",
        "epochs=20\n",
        "\n",
        "history = model.fit(X_train,\n",
        "                    y_train,\n",
        "                    epochs=epochs,\n",
        "                    batch_size=512,\n",
        "                    validation_data=(X_test, y_test), verbose=1)"
      ],
      "metadata": {
        "colab": {
          "base_uri": "https://localhost:8080/"
        },
        "outputId": "e5ad08f9-e7ee-4594-fd70-e620aab48dd9",
        "id": "GTaKqmS_3sgr"
      },
      "execution_count": null,
      "outputs": [
        {
          "output_type": "stream",
          "name": "stdout",
          "text": [
            "Epoch 1/20\n",
            "293/293 [==============================] - 7s 17ms/step - loss: 0.4273 - accuracy: 0.8044 - val_loss: 0.3629 - val_accuracy: 0.8431\n",
            "Epoch 2/20\n",
            "293/293 [==============================] - 5s 16ms/step - loss: 0.3096 - accuracy: 0.8690 - val_loss: 0.3347 - val_accuracy: 0.8535\n",
            "Epoch 3/20\n",
            "293/293 [==============================] - 5s 16ms/step - loss: 0.2840 - accuracy: 0.8812 - val_loss: 0.3347 - val_accuracy: 0.8528\n",
            "Epoch 4/20\n",
            "293/293 [==============================] - 5s 16ms/step - loss: 0.2643 - accuracy: 0.8902 - val_loss: 0.3456 - val_accuracy: 0.8516\n",
            "Epoch 5/20\n",
            "293/293 [==============================] - 5s 16ms/step - loss: 0.2473 - accuracy: 0.8971 - val_loss: 0.3516 - val_accuracy: 0.8501\n",
            "Epoch 6/20\n",
            "293/293 [==============================] - 5s 16ms/step - loss: 0.2317 - accuracy: 0.9036 - val_loss: 0.3622 - val_accuracy: 0.8491\n",
            "Epoch 7/20\n",
            "293/293 [==============================] - 5s 16ms/step - loss: 0.2183 - accuracy: 0.9089 - val_loss: 0.3820 - val_accuracy: 0.8472\n",
            "Epoch 8/20\n",
            "293/293 [==============================] - 5s 16ms/step - loss: 0.2042 - accuracy: 0.9141 - val_loss: 0.3909 - val_accuracy: 0.8491\n",
            "Epoch 9/20\n",
            "293/293 [==============================] - 5s 16ms/step - loss: 0.1917 - accuracy: 0.9192 - val_loss: 0.4250 - val_accuracy: 0.8477\n",
            "Epoch 10/20\n",
            "293/293 [==============================] - 5s 16ms/step - loss: 0.1769 - accuracy: 0.9258 - val_loss: 0.4527 - val_accuracy: 0.8437\n",
            "Epoch 11/20\n",
            "293/293 [==============================] - 5s 16ms/step - loss: 0.1663 - accuracy: 0.9307 - val_loss: 0.4974 - val_accuracy: 0.8404\n",
            "Epoch 12/20\n",
            "293/293 [==============================] - 5s 16ms/step - loss: 0.1505 - accuracy: 0.9375 - val_loss: 0.5247 - val_accuracy: 0.8390\n",
            "Epoch 13/20\n",
            "293/293 [==============================] - 5s 16ms/step - loss: 0.1357 - accuracy: 0.9437 - val_loss: 0.6265 - val_accuracy: 0.8400\n",
            "Epoch 14/20\n",
            "293/293 [==============================] - 5s 16ms/step - loss: 0.1254 - accuracy: 0.9480 - val_loss: 0.6014 - val_accuracy: 0.8354\n",
            "Epoch 15/20\n",
            "293/293 [==============================] - 5s 16ms/step - loss: 0.1163 - accuracy: 0.9527 - val_loss: 0.6640 - val_accuracy: 0.8335\n",
            "Epoch 16/20\n",
            "293/293 [==============================] - 5s 16ms/step - loss: 0.1031 - accuracy: 0.9582 - val_loss: 0.7729 - val_accuracy: 0.8325\n",
            "Epoch 17/20\n",
            "293/293 [==============================] - 5s 16ms/step - loss: 0.0960 - accuracy: 0.9610 - val_loss: 0.7802 - val_accuracy: 0.8288\n",
            "Epoch 18/20\n",
            "293/293 [==============================] - 5s 16ms/step - loss: 0.0855 - accuracy: 0.9663 - val_loss: 0.8667 - val_accuracy: 0.8256\n",
            "Epoch 19/20\n",
            "293/293 [==============================] - 5s 16ms/step - loss: 0.0814 - accuracy: 0.9677 - val_loss: 0.9344 - val_accuracy: 0.8299\n",
            "Epoch 20/20\n",
            "293/293 [==============================] - 5s 16ms/step - loss: 0.0749 - accuracy: 0.9705 - val_loss: 0.9710 - val_accuracy: 0.8289\n"
          ]
        }
      ]
    },
    {
      "cell_type": "code",
      "source": [
        "import matplotlib.pyplot as plt\n",
        "%matplotlib inline\n",
        "print(history.history.keys())"
      ],
      "metadata": {
        "colab": {
          "base_uri": "https://localhost:8080/"
        },
        "outputId": "d73520ca-3c1b-42d2-f45d-9ce9e2195903",
        "id": "gDpfh1E93sgr"
      },
      "execution_count": 14,
      "outputs": [
        {
          "output_type": "stream",
          "name": "stdout",
          "text": [
            "dict_keys(['loss', 'accuracy', 'val_loss', 'val_accuracy'])\n"
          ]
        }
      ]
    },
    {
      "cell_type": "code",
      "source": [
        "plt.plot(history.history['loss'], label='loss')\n",
        "plt.plot(history.history['accuracy'], label='acc')\n",
        "plt.plot(history.history['val_loss'], label='val_loss')\n",
        "plt.plot(history.history['val_accuracy'], label='val_acc')\n",
        "\n",
        "plt.legend()\n",
        "plt.xticks(ticks=list(range(5)))\n",
        "plt.show()"
      ],
      "metadata": {
        "colab": {
          "base_uri": "https://localhost:8080/",
          "height": 266
        },
        "outputId": "5da89db6-5964-4400-a003-4bce3b18df23",
        "id": "XyunafDK3sgr"
      },
      "execution_count": null,
      "outputs": [
        {
          "output_type": "display_data",
          "data": {
            "text/plain": [
              "<Figure size 432x288 with 1 Axes>"
            ],
            "image/png": "[encoded data removed]"
          },
          "metadata": {
            "needs_background": "light"
          }
        }
      ]
    },
    {
      "cell_type": "code",
      "source": [
        "model.predict([s.EncodeAsIds('돈 주고 보기 아깝다'),])"
      ],
      "metadata": {
        "colab": {
          "base_uri": "https://localhost:8080/"
        },
        "id": "QMsM4ZoxT3cH",
        "outputId": "3eedc6a2-a2fb-416d-a056-ce41da23d64c"
      },
      "execution_count": null,
      "outputs": [
        {
          "output_type": "execute_result",
          "data": {
            "text/plain": [
              "array([[2.2169974e-08]], dtype=float32)"
            ]
          },
          "metadata": {},
          "execution_count": 142
        }
      ]
    },
    {
      "cell_type": "code",
      "source": [
        "model.predict([s.EncodeAsIds('연기가 어중간하다.')])"
      ],
      "metadata": {
        "colab": {
          "base_uri": "https://localhost:8080/"
        },
        "id": "YZ3Y3d-gT_78",
        "outputId": "e7162fe4-2c63-4f15-d80b-2c1e9cb14d2d"
      },
      "execution_count": null,
      "outputs": [
        {
          "output_type": "execute_result",
          "data": {
            "text/plain": [
              "array([[0.962828]], dtype=float32)"
            ]
          },
          "metadata": {},
          "execution_count": 143
        }
      ]
    },
    {
      "cell_type": "code",
      "source": [
        "model.predict([s.EncodeAsIds('재미 없지는 않은데 예전이 더 좋았다.')])"
      ],
      "metadata": {
        "colab": {
          "base_uri": "https://localhost:8080/"
        },
        "id": "uF16qvqOWq3c",
        "outputId": "d15d08f6-75a3-44b2-8194-49689883733c"
      },
      "execution_count": null,
      "outputs": [
        {
          "output_type": "execute_result",
          "data": {
            "text/plain": [
              "array([[0.5373337]], dtype=float32)"
            ]
          },
          "metadata": {},
          "execution_count": 144
        }
      ]
    },
    {
      "cell_type": "code",
      "source": [
        "model.predict([s.EncodeAsIds('정말 실망스러웠지만 전투 장면 연출만큼은 좋았다')])"
      ],
      "metadata": {
        "colab": {
          "base_uri": "https://localhost:8080/"
        },
        "id": "Ys9kievfWu1z",
        "outputId": "0508219b-f517-42b6-995d-fa9565765eed"
      },
      "execution_count": null,
      "outputs": [
        {
          "output_type": "execute_result",
          "data": {
            "text/plain": [
              "array([[0.94696575]], dtype=float32)"
            ]
          },
          "metadata": {},
          "execution_count": 145
        }
      ]
    },
    {
      "cell_type": "code",
      "source": [
        "model.predict([s.EncodeAsIds('다 좋았는데 마지막 장면은 정말 억지였다.')])"
      ],
      "metadata": {
        "colab": {
          "base_uri": "https://localhost:8080/"
        },
        "id": "8fIdG3joW6UW",
        "outputId": "baf4a7d9-cac8-4d94-b5ae-196b5e3e4841"
      },
      "execution_count": null,
      "outputs": [
        {
          "output_type": "execute_result",
          "data": {
            "text/plain": [
              "array([[0.00598774]], dtype=float32)"
            ]
          },
          "metadata": {},
          "execution_count": 146
        }
      ]
    },
    {
      "cell_type": "markdown",
      "source": [
        "# 결과, 돌아보기  \n",
        "SentencePiece를 학습시키고, 그것으로 tokenize해서 감정 분류기를 학습시키는데 성공하였다. 그 성능은 형태소분석기로 Kkma를 썼을 때보다 조금 좋았지만, 학습 속도는 훨씬 빨랐다. 하지만 형태소분석기는 같은 training data에 대해 단어장의 사이즈가 훨씬 작았기 때문에 훨씬 적은 parameter를 사용하였다.  \n",
        "\n",
        "둘 모두 32 neuron을 가지는 LSTM Layer 하나에 FC layer를 연결해서 사용했다.\n",
        "\n",
        "|Parser|vocab_size|training_time(total)|parameters|epoch|val_acc|\n",
        "|----|----|----|----|----|----|\n",
        "|SentencePiece|10000|143.601|329,409|20|0.8289|\n",
        "|SentencePiece|10000||329,409|2|0.8535|\n",
        "|Kkma|3097|203.919|108,545|20|0.8385|\n",
        "|Komoran|3165|305.517|110,817|40|0.8405|"
      ],
      "metadata": {
        "id": "VPEcSHxqW9PC"
      }
    },
    {
      "cell_type": "code",
      "source": [],
      "metadata": {
        "id": "bjCitxlOUngP"
      },
      "execution_count": null,
      "outputs": []
    }
  ],
  "metadata": {
    "colab": {
      "collapsed_sections": [],
      "provenance": [],
      "toc_visible": true,
      "mount_file_id": "1AwVgHF09lcvKQmPbKoMV4f20hzwkn29G",
      "authorship_tag": "ABX9TyPeJi9UzgyHQH2hIkcHcSFX",
      "include_colab_link": true
    },
    "kernelspec": {
      "display_name": "Python 3",
      "name": "python3"
    },
    "language_info": {
      "name": "python"
    },
    "accelerator": "GPU"
  },
  "nbformat": 4,
  "nbformat_minor": 0
}