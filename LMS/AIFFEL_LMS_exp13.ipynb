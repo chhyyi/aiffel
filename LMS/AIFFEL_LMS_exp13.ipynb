{
  "nbformat": 4,
  "nbformat_minor": 0,
  "metadata": {
    "colab": {
      "provenance": [],
      "collapsed_sections": [],
      "mount_file_id": "12qd7-9S7GZ5_0Ku4rL7VV6vCZuJQcib9",
      "authorship_tag": "ABX9TyOkEZ8XDEQA6MaBI7v7ZSO3",
      "include_colab_link": true
    },
    "kernelspec": {
      "name": "python3",
      "display_name": "Python 3"
    },
    "language_info": {
      "name": "python"
    },
    "widgets": {
      "application/vnd.jupyter.widget-state+json": {
        "5e20a0d925f1451393c9c16a3d4b6e3c": {
          "model_module": "@jupyter-widgets/controls",
          "model_name": "HBoxModel",
          "model_module_version": "1.5.0",
          "state": {
            "_dom_classes": [],
            "_model_module": "@jupyter-widgets/controls",
            "_model_module_version": "1.5.0",
            "_model_name": "HBoxModel",
            "_view_count": null,
            "_view_module": "@jupyter-widgets/controls",
            "_view_module_version": "1.5.0",
            "_view_name": "HBoxView",
            "box_style": "",
            "children": [
              "IPY_MODEL_aef729fc9347454381cc98cbf23a40af",
              "IPY_MODEL_8d5e7b7802b1449f8966b07947bece33",
              "IPY_MODEL_0ce079f3b17d4c688b072223f347f3bb"
            ],
            "layout": "IPY_MODEL_9f0d13a09fc3419e80188d3ce9dcd65d"
          }
        },
        "aef729fc9347454381cc98cbf23a40af": {
          "model_module": "@jupyter-widgets/controls",
          "model_name": "HTMLModel",
          "model_module_version": "1.5.0",
          "state": {
            "_dom_classes": [],
            "_model_module": "@jupyter-widgets/controls",
            "_model_module_version": "1.5.0",
            "_model_name": "HTMLModel",
            "_view_count": null,
            "_view_module": "@jupyter-widgets/controls",
            "_view_module_version": "1.5.0",
            "_view_name": "HTMLView",
            "description": "",
            "description_tooltip": null,
            "layout": "IPY_MODEL_228a5ec715f248618ff240bf506cca36",
            "placeholder": "​",
            "style": "IPY_MODEL_67ca91d8177f4ad7bfd8719779b29d28",
            "value": "100%"
          }
        },
        "8d5e7b7802b1449f8966b07947bece33": {
          "model_module": "@jupyter-widgets/controls",
          "model_name": "FloatProgressModel",
          "model_module_version": "1.5.0",
          "state": {
            "_dom_classes": [],
            "_model_module": "@jupyter-widgets/controls",
            "_model_module_version": "1.5.0",
            "_model_name": "FloatProgressModel",
            "_view_count": null,
            "_view_module": "@jupyter-widgets/controls",
            "_view_module_version": "1.5.0",
            "_view_name": "ProgressView",
            "bar_style": "success",
            "description": "",
            "description_tooltip": null,
            "layout": "IPY_MODEL_3066a99e23324d45b6d09baf091c9b68",
            "max": 15,
            "min": 0,
            "orientation": "horizontal",
            "style": "IPY_MODEL_fffa51466a384265b34d3c0d3cb4baa9",
            "value": 15
          }
        },
        "0ce079f3b17d4c688b072223f347f3bb": {
          "model_module": "@jupyter-widgets/controls",
          "model_name": "HTMLModel",
          "model_module_version": "1.5.0",
          "state": {
            "_dom_classes": [],
            "_model_module": "@jupyter-widgets/controls",
            "_model_module_version": "1.5.0",
            "_model_name": "HTMLModel",
            "_view_count": null,
            "_view_module": "@jupyter-widgets/controls",
            "_view_module_version": "1.5.0",
            "_view_name": "HTMLView",
            "description": "",
            "description_tooltip": null,
            "layout": "IPY_MODEL_7c47a717ac8f4f63bfcf7c4927f473ec",
            "placeholder": "​",
            "style": "IPY_MODEL_fb82795401ef400495aff80f01277fa7",
            "value": " 15/15 [00:21&lt;00:00,  1.59s/it]"
          }
        },
        "9f0d13a09fc3419e80188d3ce9dcd65d": {
          "model_module": "@jupyter-widgets/base",
          "model_name": "LayoutModel",
          "model_module_version": "1.2.0",
          "state": {
            "_model_module": "@jupyter-widgets/base",
            "_model_module_version": "1.2.0",
            "_model_name": "LayoutModel",
            "_view_count": null,
            "_view_module": "@jupyter-widgets/base",
            "_view_module_version": "1.2.0",
            "_view_name": "LayoutView",
            "align_content": null,
            "align_items": null,
            "align_self": null,
            "border": null,
            "bottom": null,
            "display": null,
            "flex": null,
            "flex_flow": null,
            "grid_area": null,
            "grid_auto_columns": null,
            "grid_auto_flow": null,
            "grid_auto_rows": null,
            "grid_column": null,
            "grid_gap": null,
            "grid_row": null,
            "grid_template_areas": null,
            "grid_template_columns": null,
            "grid_template_rows": null,
            "height": null,
            "justify_content": null,
            "justify_items": null,
            "left": null,
            "margin": null,
            "max_height": null,
            "max_width": null,
            "min_height": null,
            "min_width": null,
            "object_fit": null,
            "object_position": null,
            "order": null,
            "overflow": null,
            "overflow_x": null,
            "overflow_y": null,
            "padding": null,
            "right": null,
            "top": null,
            "visibility": null,
            "width": null
          }
        },
        "228a5ec715f248618ff240bf506cca36": {
          "model_module": "@jupyter-widgets/base",
          "model_name": "LayoutModel",
          "model_module_version": "1.2.0",
          "state": {
            "_model_module": "@jupyter-widgets/base",
            "_model_module_version": "1.2.0",
            "_model_name": "LayoutModel",
            "_view_count": null,
            "_view_module": "@jupyter-widgets/base",
            "_view_module_version": "1.2.0",
            "_view_name": "LayoutView",
            "align_content": null,
            "align_items": null,
            "align_self": null,
            "border": null,
            "bottom": null,
            "display": null,
            "flex": null,
            "flex_flow": null,
            "grid_area": null,
            "grid_auto_columns": null,
            "grid_auto_flow": null,
            "grid_auto_rows": null,
            "grid_column": null,
            "grid_gap": null,
            "grid_row": null,
            "grid_template_areas": null,
            "grid_template_columns": null,
            "grid_template_rows": null,
            "height": null,
            "justify_content": null,
            "justify_items": null,
            "left": null,
            "margin": null,
            "max_height": null,
            "max_width": null,
            "min_height": null,
            "min_width": null,
            "object_fit": null,
            "object_position": null,
            "order": null,
            "overflow": null,
            "overflow_x": null,
            "overflow_y": null,
            "padding": null,
            "right": null,
            "top": null,
            "visibility": null,
            "width": null
          }
        },
        "67ca91d8177f4ad7bfd8719779b29d28": {
          "model_module": "@jupyter-widgets/controls",
          "model_name": "DescriptionStyleModel",
          "model_module_version": "1.5.0",
          "state": {
            "_model_module": "@jupyter-widgets/controls",
            "_model_module_version": "1.5.0",
            "_model_name": "DescriptionStyleModel",
            "_view_count": null,
            "_view_module": "@jupyter-widgets/base",
            "_view_module_version": "1.2.0",
            "_view_name": "StyleView",
            "description_width": ""
          }
        },
        "3066a99e23324d45b6d09baf091c9b68": {
          "model_module": "@jupyter-widgets/base",
          "model_name": "LayoutModel",
          "model_module_version": "1.2.0",
          "state": {
            "_model_module": "@jupyter-widgets/base",
            "_model_module_version": "1.2.0",
            "_model_name": "LayoutModel",
            "_view_count": null,
            "_view_module": "@jupyter-widgets/base",
            "_view_module_version": "1.2.0",
            "_view_name": "LayoutView",
            "align_content": null,
            "align_items": null,
            "align_self": null,
            "border": null,
            "bottom": null,
            "display": null,
            "flex": null,
            "flex_flow": null,
            "grid_area": null,
            "grid_auto_columns": null,
            "grid_auto_flow": null,
            "grid_auto_rows": null,
            "grid_column": null,
            "grid_gap": null,
            "grid_row": null,
            "grid_template_areas": null,
            "grid_template_columns": null,
            "grid_template_rows": null,
            "height": null,
            "justify_content": null,
            "justify_items": null,
            "left": null,
            "margin": null,
            "max_height": null,
            "max_width": null,
            "min_height": null,
            "min_width": null,
            "object_fit": null,
            "object_position": null,
            "order": null,
            "overflow": null,
            "overflow_x": null,
            "overflow_y": null,
            "padding": null,
            "right": null,
            "top": null,
            "visibility": null,
            "width": null
          }
        },
        "fffa51466a384265b34d3c0d3cb4baa9": {
          "model_module": "@jupyter-widgets/controls",
          "model_name": "ProgressStyleModel",
          "model_module_version": "1.5.0",
          "state": {
            "_model_module": "@jupyter-widgets/controls",
            "_model_module_version": "1.5.0",
            "_model_name": "ProgressStyleModel",
            "_view_count": null,
            "_view_module": "@jupyter-widgets/base",
            "_view_module_version": "1.2.0",
            "_view_name": "StyleView",
            "bar_color": null,
            "description_width": ""
          }
        },
        "7c47a717ac8f4f63bfcf7c4927f473ec": {
          "model_module": "@jupyter-widgets/base",
          "model_name": "LayoutModel",
          "model_module_version": "1.2.0",
          "state": {
            "_model_module": "@jupyter-widgets/base",
            "_model_module_version": "1.2.0",
            "_model_name": "LayoutModel",
            "_view_count": null,
            "_view_module": "@jupyter-widgets/base",
            "_view_module_version": "1.2.0",
            "_view_name": "LayoutView",
            "align_content": null,
            "align_items": null,
            "align_self": null,
            "border": null,
            "bottom": null,
            "display": null,
            "flex": null,
            "flex_flow": null,
            "grid_area": null,
            "grid_auto_columns": null,
            "grid_auto_flow": null,
            "grid_auto_rows": null,
            "grid_column": null,
            "grid_gap": null,
            "grid_row": null,
            "grid_template_areas": null,
            "grid_template_columns": null,
            "grid_template_rows": null,
            "height": null,
            "justify_content": null,
            "justify_items": null,
            "left": null,
            "margin": null,
            "max_height": null,
            "max_width": null,
            "min_height": null,
            "min_width": null,
            "object_fit": null,
            "object_position": null,
            "order": null,
            "overflow": null,
            "overflow_x": null,
            "overflow_y": null,
            "padding": null,
            "right": null,
            "top": null,
            "visibility": null,
            "width": null
          }
        },
        "fb82795401ef400495aff80f01277fa7": {
          "model_module": "@jupyter-widgets/controls",
          "model_name": "DescriptionStyleModel",
          "model_module_version": "1.5.0",
          "state": {
            "_model_module": "@jupyter-widgets/controls",
            "_model_module_version": "1.5.0",
            "_model_name": "DescriptionStyleModel",
            "_view_count": null,
            "_view_module": "@jupyter-widgets/base",
            "_view_module_version": "1.2.0",
            "_view_name": "StyleView",
            "description_width": ""
          }
        }
      }
    }
  },
  "cells": [
    {
      "cell_type": "markdown",
      "metadata": {
        "id": "view-in-github",
        "colab_type": "text"
      },
      "source": [
        "<a href=\"https://colab.research.google.com/github/chhyyi/aiffel/blob/main/LMS/AIFFEL_LMS_exp13.ipynb\" target=\"_parent\"><img src=\"https://colab.research.google.com/assets/colab-badge.svg\" alt=\"Open In Colab\"/></a>"
      ]
    },
    {
      "cell_type": "markdown",
      "source": [
        "# EXPLORATION 13 아이유 팬이 좋아할만한 다른 노래 찾기\n",
        "\n",
        "## version of packages\n",
        "```bash\n",
        "tensorflow-addons             0.14.0\n",
        "tensorflow-datasets           4.4.0\n",
        "tensorflow-estimator          2.7.0\n",
        "tensorflow-gpu                2.6.0\n",
        "tensorflow-hub                0.12.0\n",
        "tensorflow-metadata           1.5.0\n",
        "implicit                      0.4.8\n",
        "```"
      ],
      "metadata": {
        "id": "jN8AkF-8nA2I"
      }
    },
    {
      "cell_type": "code",
      "execution_count": 2,
      "metadata": {
        "colab": {
          "base_uri": "https://localhost:8080/"
        },
        "id": "IRlQkvr5mx_1",
        "outputId": "87444b21-809e-4b92-e86c-0dbd986af842"
      },
      "outputs": [
        {
          "output_type": "stream",
          "name": "stdout",
          "text": [
            "Looking in indexes: https://pypi.org/simple, https://us-python.pkg.dev/colab-wheels/public/simple/\n",
            "Requirement already satisfied: tensorflow==2.6.0 in /usr/local/lib/python3.7/dist-packages (2.6.0+zzzcolab20220506153740)\n",
            "Requirement already satisfied: numpy~=1.19.2 in /usr/local/lib/python3.7/dist-packages (from tensorflow==2.6.0) (1.19.5)\n",
            "Requirement already satisfied: wrapt~=1.12.1 in /usr/local/lib/python3.7/dist-packages (from tensorflow==2.6.0) (1.12.1)\n",
            "Requirement already satisfied: opt-einsum~=3.3.0 in /usr/local/lib/python3.7/dist-packages (from tensorflow==2.6.0) (3.3.0)\n",
            "Requirement already satisfied: h5py~=3.1.0 in /usr/local/lib/python3.7/dist-packages (from tensorflow==2.6.0) (3.1.0)\n",
            "Requirement already satisfied: absl-py~=0.10 in /usr/local/lib/python3.7/dist-packages (from tensorflow==2.6.0) (0.15.0)\n",
            "Requirement already satisfied: keras-preprocessing~=1.1.2 in /usr/local/lib/python3.7/dist-packages (from tensorflow==2.6.0) (1.1.2)\n",
            "Requirement already satisfied: gast==0.4.0 in /usr/local/lib/python3.7/dist-packages (from tensorflow==2.6.0) (0.4.0)\n",
            "Requirement already satisfied: keras~=2.6 in /usr/local/lib/python3.7/dist-packages (from tensorflow==2.6.0) (2.6.0)\n",
            "Requirement already satisfied: clang~=5.0 in /usr/local/lib/python3.7/dist-packages (from tensorflow==2.6.0) (5.0)\n",
            "Requirement already satisfied: tensorboard~=2.6 in /usr/local/lib/python3.7/dist-packages (from tensorflow==2.6.0) (2.8.0)\n",
            "Requirement already satisfied: google-pasta~=0.2 in /usr/local/lib/python3.7/dist-packages (from tensorflow==2.6.0) (0.2.0)\n",
            "Requirement already satisfied: astunparse~=1.6.3 in /usr/local/lib/python3.7/dist-packages (from tensorflow==2.6.0) (1.6.3)\n",
            "Requirement already satisfied: six~=1.15.0 in /usr/local/lib/python3.7/dist-packages (from tensorflow==2.6.0) (1.15.0)\n",
            "Requirement already satisfied: protobuf>=3.9.2 in /usr/local/lib/python3.7/dist-packages (from tensorflow==2.6.0) (3.17.3)\n",
            "Requirement already satisfied: termcolor~=1.1.0 in /usr/local/lib/python3.7/dist-packages (from tensorflow==2.6.0) (1.1.0)\n",
            "Requirement already satisfied: wheel~=0.35 in /usr/local/lib/python3.7/dist-packages (from tensorflow==2.6.0) (0.37.1)\n",
            "Requirement already satisfied: tensorflow-estimator~=2.6 in /usr/local/lib/python3.7/dist-packages (from tensorflow==2.6.0) (2.8.0)\n",
            "Requirement already satisfied: typing-extensions~=3.7.4 in /usr/local/lib/python3.7/dist-packages (from tensorflow==2.6.0) (3.7.4.3)\n",
            "Requirement already satisfied: flatbuffers~=1.12.0 in /usr/local/lib/python3.7/dist-packages (from tensorflow==2.6.0) (1.12)\n",
            "Requirement already satisfied: grpcio<2.0,>=1.37.0 in /usr/local/lib/python3.7/dist-packages (from tensorflow==2.6.0) (1.47.0)\n",
            "Requirement already satisfied: cached-property in /usr/local/lib/python3.7/dist-packages (from h5py~=3.1.0->tensorflow==2.6.0) (1.5.2)\n",
            "Requirement already satisfied: requests<3,>=2.21.0 in /usr/local/lib/python3.7/dist-packages (from tensorboard~=2.6->tensorflow==2.6.0) (2.23.0)\n",
            "Requirement already satisfied: setuptools>=41.0.0 in /usr/local/lib/python3.7/dist-packages (from tensorboard~=2.6->tensorflow==2.6.0) (57.4.0)\n",
            "Requirement already satisfied: markdown>=2.6.8 in /usr/local/lib/python3.7/dist-packages (from tensorboard~=2.6->tensorflow==2.6.0) (3.4.1)\n",
            "Requirement already satisfied: tensorboard-data-server<0.7.0,>=0.6.0 in /usr/local/lib/python3.7/dist-packages (from tensorboard~=2.6->tensorflow==2.6.0) (0.6.1)\n",
            "Requirement already satisfied: tensorboard-plugin-wit>=1.6.0 in /usr/local/lib/python3.7/dist-packages (from tensorboard~=2.6->tensorflow==2.6.0) (1.8.1)\n",
            "Requirement already satisfied: werkzeug>=0.11.15 in /usr/local/lib/python3.7/dist-packages (from tensorboard~=2.6->tensorflow==2.6.0) (1.0.1)\n",
            "Requirement already satisfied: google-auth<3,>=1.6.3 in /usr/local/lib/python3.7/dist-packages (from tensorboard~=2.6->tensorflow==2.6.0) (1.35.0)\n",
            "Requirement already satisfied: google-auth-oauthlib<0.5,>=0.4.1 in /usr/local/lib/python3.7/dist-packages (from tensorboard~=2.6->tensorflow==2.6.0) (0.4.6)\n",
            "Requirement already satisfied: pyasn1-modules>=0.2.1 in /usr/local/lib/python3.7/dist-packages (from google-auth<3,>=1.6.3->tensorboard~=2.6->tensorflow==2.6.0) (0.2.8)\n",
            "Requirement already satisfied: cachetools<5.0,>=2.0.0 in /usr/local/lib/python3.7/dist-packages (from google-auth<3,>=1.6.3->tensorboard~=2.6->tensorflow==2.6.0) (4.2.4)\n",
            "Requirement already satisfied: rsa<5,>=3.1.4 in /usr/local/lib/python3.7/dist-packages (from google-auth<3,>=1.6.3->tensorboard~=2.6->tensorflow==2.6.0) (4.9)\n",
            "Requirement already satisfied: requests-oauthlib>=0.7.0 in /usr/local/lib/python3.7/dist-packages (from google-auth-oauthlib<0.5,>=0.4.1->tensorboard~=2.6->tensorflow==2.6.0) (1.3.1)\n",
            "Requirement already satisfied: importlib-metadata>=4.4 in /usr/local/lib/python3.7/dist-packages (from markdown>=2.6.8->tensorboard~=2.6->tensorflow==2.6.0) (4.12.0)\n",
            "Requirement already satisfied: zipp>=0.5 in /usr/local/lib/python3.7/dist-packages (from importlib-metadata>=4.4->markdown>=2.6.8->tensorboard~=2.6->tensorflow==2.6.0) (3.8.1)\n",
            "Requirement already satisfied: pyasn1<0.5.0,>=0.4.6 in /usr/local/lib/python3.7/dist-packages (from pyasn1-modules>=0.2.1->google-auth<3,>=1.6.3->tensorboard~=2.6->tensorflow==2.6.0) (0.4.8)\n",
            "Requirement already satisfied: certifi>=2017.4.17 in /usr/local/lib/python3.7/dist-packages (from requests<3,>=2.21.0->tensorboard~=2.6->tensorflow==2.6.0) (2022.6.15)\n",
            "Requirement already satisfied: urllib3!=1.25.0,!=1.25.1,<1.26,>=1.21.1 in /usr/local/lib/python3.7/dist-packages (from requests<3,>=2.21.0->tensorboard~=2.6->tensorflow==2.6.0) (1.24.3)\n",
            "Requirement already satisfied: chardet<4,>=3.0.2 in /usr/local/lib/python3.7/dist-packages (from requests<3,>=2.21.0->tensorboard~=2.6->tensorflow==2.6.0) (3.0.4)\n",
            "Requirement already satisfied: idna<3,>=2.5 in /usr/local/lib/python3.7/dist-packages (from requests<3,>=2.21.0->tensorboard~=2.6->tensorflow==2.6.0) (2.10)\n",
            "Requirement already satisfied: oauthlib>=3.0.0 in /usr/local/lib/python3.7/dist-packages (from requests-oauthlib>=0.7.0->google-auth-oauthlib<0.5,>=0.4.1->tensorboard~=2.6->tensorflow==2.6.0) (3.2.0)\n",
            "Looking in indexes: https://pypi.org/simple, https://us-python.pkg.dev/colab-wheels/public/simple/\n",
            "Requirement already satisfied: keras==2.6.0 in /usr/local/lib/python3.7/dist-packages (2.6.0)\n",
            "Looking in indexes: https://pypi.org/simple, https://us-python.pkg.dev/colab-wheels/public/simple/\n",
            "Requirement already satisfied: implicit in /usr/local/lib/python3.7/dist-packages (0.6.1)\n",
            "Requirement already satisfied: numpy in /usr/local/lib/python3.7/dist-packages (from implicit) (1.19.5)\n",
            "Requirement already satisfied: scipy>=0.16 in /usr/local/lib/python3.7/dist-packages (from implicit) (1.7.3)\n",
            "Requirement already satisfied: tqdm>=4.27 in /usr/local/lib/python3.7/dist-packages (from implicit) (4.64.0)\n"
          ]
        }
      ],
      "source": [
        "!pip3 install tensorflow==2.6.0\n",
        "!pip3 install keras==2.6.0\n",
        "!pip3 install implicit"
      ]
    },
    {
      "cell_type": "code",
      "source": [
        "!pip3 install implicit"
      ],
      "metadata": {
        "colab": {
          "base_uri": "https://localhost:8080/"
        },
        "id": "SBIZOvnLoJBB",
        "outputId": "bc9d004d-3b67-4f49-ac6c-b88bd535fa2e"
      },
      "execution_count": null,
      "outputs": [
        {
          "output_type": "stream",
          "name": "stdout",
          "text": [
            "Looking in indexes: https://pypi.org/simple, https://us-python.pkg.dev/colab-wheels/public/simple/\n",
            "Requirement already satisfied: implicit in /usr/local/lib/python3.7/dist-packages (0.6.1)\n",
            "Requirement already satisfied: scipy>=0.16 in /usr/local/lib/python3.7/dist-packages (from implicit) (1.7.3)\n",
            "Requirement already satisfied: tqdm>=4.27 in /usr/local/lib/python3.7/dist-packages (from implicit) (4.64.0)\n",
            "Requirement already satisfied: numpy in /usr/local/lib/python3.7/dist-packages (from implicit) (1.19.5)\n"
          ]
        }
      ]
    },
    {
      "cell_type": "code",
      "source": [
        "path = '/content/drive/MyDrive/colabdata/modulabs/lms_exp13/ml-1m'\n",
        "import numpy as np\n",
        "import scipy\n",
        "import implicit\n",
        "import os\n",
        "import pandas as pd\n",
        "rating_file_path=os.path.join(path,'ratings.dat')\n",
        "ratings_cols = ['user_id', 'movie_id', 'ratings', 'timestamp']\n",
        "ratings = pd.read_csv(rating_file_path, sep='::', names=ratings_cols, engine='python', encoding = \"ISO-8859-1\")\n",
        "orginal_data_size = len(ratings)\n",
        "ratings.head()"
      ],
      "metadata": {
        "colab": {
          "base_uri": "https://localhost:8080/",
          "height": 262
        },
        "id": "zLEv_fxRpHTX",
        "outputId": "5718d647-a236-4878-e857-0a955332aece"
      },
      "execution_count": 3,
      "outputs": [
        {
          "output_type": "stream",
          "name": "stderr",
          "text": [
            "/usr/local/lib/python3.7/dist-packages/implicit/gpu/__init__.py:14: UserWarning: CUDA extension is built, but disabling GPU support because of 'Cuda Error: no CUDA-capable device is detected (/project/./implicit/gpu/utils.h:71)'\n",
            "  f\"CUDA extension is built, but disabling GPU support because of '{e}'\",\n"
          ]
        },
        {
          "output_type": "execute_result",
          "data": {
            "text/plain": [
              "   user_id  movie_id  ratings  timestamp\n",
              "0        1      1193        5  978300760\n",
              "1        1       661        3  978302109\n",
              "2        1       914        3  978301968\n",
              "3        1      3408        4  978300275\n",
              "4        1      2355        5  978824291"
            ],
            "text/html": [
              "\n",
              "  <div id=\"df-e799789d-235e-42a7-b015-caa1bab758ee\">\n",
              "    <div class=\"colab-df-container\">\n",
              "      <div>\n",
              "<style scoped>\n",
              "    .dataframe tbody tr th:only-of-type {\n",
              "        vertical-align: middle;\n",
              "    }\n",
              "\n",
              "    .dataframe tbody tr th {\n",
              "        vertical-align: top;\n",
              "    }\n",
              "\n",
              "    .dataframe thead th {\n",
              "        text-align: right;\n",
              "    }\n",
              "</style>\n",
              "<table border=\"1\" class=\"dataframe\">\n",
              "  <thead>\n",
              "    <tr style=\"text-align: right;\">\n",
              "      <th></th>\n",
              "      <th>user_id</th>\n",
              "      <th>movie_id</th>\n",
              "      <th>ratings</th>\n",
              "      <th>timestamp</th>\n",
              "    </tr>\n",
              "  </thead>\n",
              "  <tbody>\n",
              "    <tr>\n",
              "      <th>0</th>\n",
              "      <td>1</td>\n",
              "      <td>1193</td>\n",
              "      <td>5</td>\n",
              "      <td>978300760</td>\n",
              "    </tr>\n",
              "    <tr>\n",
              "      <th>1</th>\n",
              "      <td>1</td>\n",
              "      <td>661</td>\n",
              "      <td>3</td>\n",
              "      <td>978302109</td>\n",
              "    </tr>\n",
              "    <tr>\n",
              "      <th>2</th>\n",
              "      <td>1</td>\n",
              "      <td>914</td>\n",
              "      <td>3</td>\n",
              "      <td>978301968</td>\n",
              "    </tr>\n",
              "    <tr>\n",
              "      <th>3</th>\n",
              "      <td>1</td>\n",
              "      <td>3408</td>\n",
              "      <td>4</td>\n",
              "      <td>978300275</td>\n",
              "    </tr>\n",
              "    <tr>\n",
              "      <th>4</th>\n",
              "      <td>1</td>\n",
              "      <td>2355</td>\n",
              "      <td>5</td>\n",
              "      <td>978824291</td>\n",
              "    </tr>\n",
              "  </tbody>\n",
              "</table>\n",
              "</div>\n",
              "      <button class=\"colab-df-convert\" onclick=\"convertToInteractive('df-e799789d-235e-42a7-b015-caa1bab758ee')\"\n",
              "              title=\"Convert this dataframe to an interactive table.\"\n",
              "              style=\"display:none;\">\n",
              "        \n",
              "  <svg xmlns=\"http://www.w3.org/2000/svg\" height=\"24px\"viewBox=\"0 0 24 24\"\n",
              "       width=\"24px\">\n",
              "    <path d=\"M0 0h24v24H0V0z\" fill=\"none\"/>\n",
              "    <path d=\"M18.56 5.44l.94 2.06.94-2.06 2.06-.94-2.06-.94-.94-2.06-.94 2.06-2.06.94zm-11 1L8.5 8.5l.94-2.06 2.06-.94-2.06-.94L8.5 2.5l-.94 2.06-2.06.94zm10 10l.94 2.06.94-2.06 2.06-.94-2.06-.94-.94-2.06-.94 2.06-2.06.94z\"/><path d=\"M17.41 7.96l-1.37-1.37c-.4-.4-.92-.59-1.43-.59-.52 0-1.04.2-1.43.59L10.3 9.45l-7.72 7.72c-.78.78-.78 2.05 0 2.83L4 21.41c.39.39.9.59 1.41.59.51 0 1.02-.2 1.41-.59l7.78-7.78 2.81-2.81c.8-.78.8-2.07 0-2.86zM5.41 20L4 18.59l7.72-7.72 1.47 1.35L5.41 20z\"/>\n",
              "  </svg>\n",
              "      </button>\n",
              "      \n",
              "  <style>\n",
              "    .colab-df-container {\n",
              "      display:flex;\n",
              "      flex-wrap:wrap;\n",
              "      gap: 12px;\n",
              "    }\n",
              "\n",
              "    .colab-df-convert {\n",
              "      background-color: #E8F0FE;\n",
              "      border: none;\n",
              "      border-radius: 50%;\n",
              "      cursor: pointer;\n",
              "      display: none;\n",
              "      fill: #1967D2;\n",
              "      height: 32px;\n",
              "      padding: 0 0 0 0;\n",
              "      width: 32px;\n",
              "    }\n",
              "\n",
              "    .colab-df-convert:hover {\n",
              "      background-color: #E2EBFA;\n",
              "      box-shadow: 0px 1px 2px rgba(60, 64, 67, 0.3), 0px 1px 3px 1px rgba(60, 64, 67, 0.15);\n",
              "      fill: #174EA6;\n",
              "    }\n",
              "\n",
              "    [theme=dark] .colab-df-convert {\n",
              "      background-color: #3B4455;\n",
              "      fill: #D2E3FC;\n",
              "    }\n",
              "\n",
              "    [theme=dark] .colab-df-convert:hover {\n",
              "      background-color: #434B5C;\n",
              "      box-shadow: 0px 1px 3px 1px rgba(0, 0, 0, 0.15);\n",
              "      filter: drop-shadow(0px 1px 2px rgba(0, 0, 0, 0.3));\n",
              "      fill: #FFFFFF;\n",
              "    }\n",
              "  </style>\n",
              "\n",
              "      <script>\n",
              "        const buttonEl =\n",
              "          document.querySelector('#df-e799789d-235e-42a7-b015-caa1bab758ee button.colab-df-convert');\n",
              "        buttonEl.style.display =\n",
              "          google.colab.kernel.accessAllowed ? 'block' : 'none';\n",
              "\n",
              "        async function convertToInteractive(key) {\n",
              "          const element = document.querySelector('#df-e799789d-235e-42a7-b015-caa1bab758ee');\n",
              "          const dataTable =\n",
              "            await google.colab.kernel.invokeFunction('convertToInteractive',\n",
              "                                                     [key], {});\n",
              "          if (!dataTable) return;\n",
              "\n",
              "          const docLinkHtml = 'Like what you see? Visit the ' +\n",
              "            '<a target=\"_blank\" href=https://colab.research.google.com/notebooks/data_table.ipynb>data table notebook</a>'\n",
              "            + ' to learn more about interactive tables.';\n",
              "          element.innerHTML = '';\n",
              "          dataTable['output_type'] = 'display_data';\n",
              "          await google.colab.output.renderOutput(dataTable, element);\n",
              "          const docLink = document.createElement('div');\n",
              "          docLink.innerHTML = docLinkHtml;\n",
              "          element.appendChild(docLink);\n",
              "        }\n",
              "      </script>\n",
              "    </div>\n",
              "  </div>\n",
              "  "
            ]
          },
          "metadata": {},
          "execution_count": 3
        }
      ]
    },
    {
      "cell_type": "code",
      "source": [
        "# 3점 이상만 남깁니다.\n",
        "ratings = ratings[ratings['ratings']>=3]\n",
        "filtered_data_size = len(ratings)\n",
        "\n",
        "print(f'orginal_data_size: {orginal_data_size}, filtered_data_size: {filtered_data_size}')\n",
        "print(f'Ratio of Remaining Data is {filtered_data_size / orginal_data_size:.2%}')"
      ],
      "metadata": {
        "colab": {
          "base_uri": "https://localhost:8080/"
        },
        "id": "fgP8ObPmpRtb",
        "outputId": "f7202a01-4aa5-4143-e9af-f881a37fe10a"
      },
      "execution_count": 4,
      "outputs": [
        {
          "output_type": "stream",
          "name": "stdout",
          "text": [
            "orginal_data_size: 1000209, filtered_data_size: 836478\n",
            "Ratio of Remaining Data is 83.63%\n"
          ]
        }
      ]
    },
    {
      "cell_type": "code",
      "source": [
        "# ratings 컬럼의 이름을 counts로 바꿉니다.\n",
        "ratings.rename(columns={'ratings':'counts'}, inplace=True)"
      ],
      "metadata": {
        "id": "fQD5pbVSuHmf"
      },
      "execution_count": 5,
      "outputs": []
    },
    {
      "cell_type": "code",
      "source": [
        "# 영화 제목을 보기 위해 메타 데이터를 읽어옵니다.\n",
        "movie_file_path=os.path.join(path,'movies.dat')\n",
        "cols = ['movie_id', 'title', 'genre'] \n",
        "movies = pd.read_csv(movie_file_path, sep='::', names=cols, engine='python', encoding='ISO-8859-1')\n",
        "movies.head()"
      ],
      "metadata": {
        "colab": {
          "base_uri": "https://localhost:8080/",
          "height": 206
        },
        "id": "mwcnWobYuK8B",
        "outputId": "48301b86-0bb6-4ec1-a2ae-d391d1a3033a"
      },
      "execution_count": 6,
      "outputs": [
        {
          "output_type": "execute_result",
          "data": {
            "text/plain": [
              "   movie_id                               title                         genre\n",
              "0         1                    Toy Story (1995)   Animation|Children's|Comedy\n",
              "1         2                      Jumanji (1995)  Adventure|Children's|Fantasy\n",
              "2         3             Grumpier Old Men (1995)                Comedy|Romance\n",
              "3         4            Waiting to Exhale (1995)                  Comedy|Drama\n",
              "4         5  Father of the Bride Part II (1995)                        Comedy"
            ],
            "text/html": [
              "\n",
              "  <div id=\"df-6fb4c8b9-39c6-45ac-ae2a-9495e99d0d62\">\n",
              "    <div class=\"colab-df-container\">\n",
              "      <div>\n",
              "<style scoped>\n",
              "    .dataframe tbody tr th:only-of-type {\n",
              "        vertical-align: middle;\n",
              "    }\n",
              "\n",
              "    .dataframe tbody tr th {\n",
              "        vertical-align: top;\n",
              "    }\n",
              "\n",
              "    .dataframe thead th {\n",
              "        text-align: right;\n",
              "    }\n",
              "</style>\n",
              "<table border=\"1\" class=\"dataframe\">\n",
              "  <thead>\n",
              "    <tr style=\"text-align: right;\">\n",
              "      <th></th>\n",
              "      <th>movie_id</th>\n",
              "      <th>title</th>\n",
              "      <th>genre</th>\n",
              "    </tr>\n",
              "  </thead>\n",
              "  <tbody>\n",
              "    <tr>\n",
              "      <th>0</th>\n",
              "      <td>1</td>\n",
              "      <td>Toy Story (1995)</td>\n",
              "      <td>Animation|Children's|Comedy</td>\n",
              "    </tr>\n",
              "    <tr>\n",
              "      <th>1</th>\n",
              "      <td>2</td>\n",
              "      <td>Jumanji (1995)</td>\n",
              "      <td>Adventure|Children's|Fantasy</td>\n",
              "    </tr>\n",
              "    <tr>\n",
              "      <th>2</th>\n",
              "      <td>3</td>\n",
              "      <td>Grumpier Old Men (1995)</td>\n",
              "      <td>Comedy|Romance</td>\n",
              "    </tr>\n",
              "    <tr>\n",
              "      <th>3</th>\n",
              "      <td>4</td>\n",
              "      <td>Waiting to Exhale (1995)</td>\n",
              "      <td>Comedy|Drama</td>\n",
              "    </tr>\n",
              "    <tr>\n",
              "      <th>4</th>\n",
              "      <td>5</td>\n",
              "      <td>Father of the Bride Part II (1995)</td>\n",
              "      <td>Comedy</td>\n",
              "    </tr>\n",
              "  </tbody>\n",
              "</table>\n",
              "</div>\n",
              "      <button class=\"colab-df-convert\" onclick=\"convertToInteractive('df-6fb4c8b9-39c6-45ac-ae2a-9495e99d0d62')\"\n",
              "              title=\"Convert this dataframe to an interactive table.\"\n",
              "              style=\"display:none;\">\n",
              "        \n",
              "  <svg xmlns=\"http://www.w3.org/2000/svg\" height=\"24px\"viewBox=\"0 0 24 24\"\n",
              "       width=\"24px\">\n",
              "    <path d=\"M0 0h24v24H0V0z\" fill=\"none\"/>\n",
              "    <path d=\"M18.56 5.44l.94 2.06.94-2.06 2.06-.94-2.06-.94-.94-2.06-.94 2.06-2.06.94zm-11 1L8.5 8.5l.94-2.06 2.06-.94-2.06-.94L8.5 2.5l-.94 2.06-2.06.94zm10 10l.94 2.06.94-2.06 2.06-.94-2.06-.94-.94-2.06-.94 2.06-2.06.94z\"/><path d=\"M17.41 7.96l-1.37-1.37c-.4-.4-.92-.59-1.43-.59-.52 0-1.04.2-1.43.59L10.3 9.45l-7.72 7.72c-.78.78-.78 2.05 0 2.83L4 21.41c.39.39.9.59 1.41.59.51 0 1.02-.2 1.41-.59l7.78-7.78 2.81-2.81c.8-.78.8-2.07 0-2.86zM5.41 20L4 18.59l7.72-7.72 1.47 1.35L5.41 20z\"/>\n",
              "  </svg>\n",
              "      </button>\n",
              "      \n",
              "  <style>\n",
              "    .colab-df-container {\n",
              "      display:flex;\n",
              "      flex-wrap:wrap;\n",
              "      gap: 12px;\n",
              "    }\n",
              "\n",
              "    .colab-df-convert {\n",
              "      background-color: #E8F0FE;\n",
              "      border: none;\n",
              "      border-radius: 50%;\n",
              "      cursor: pointer;\n",
              "      display: none;\n",
              "      fill: #1967D2;\n",
              "      height: 32px;\n",
              "      padding: 0 0 0 0;\n",
              "      width: 32px;\n",
              "    }\n",
              "\n",
              "    .colab-df-convert:hover {\n",
              "      background-color: #E2EBFA;\n",
              "      box-shadow: 0px 1px 2px rgba(60, 64, 67, 0.3), 0px 1px 3px 1px rgba(60, 64, 67, 0.15);\n",
              "      fill: #174EA6;\n",
              "    }\n",
              "\n",
              "    [theme=dark] .colab-df-convert {\n",
              "      background-color: #3B4455;\n",
              "      fill: #D2E3FC;\n",
              "    }\n",
              "\n",
              "    [theme=dark] .colab-df-convert:hover {\n",
              "      background-color: #434B5C;\n",
              "      box-shadow: 0px 1px 3px 1px rgba(0, 0, 0, 0.15);\n",
              "      filter: drop-shadow(0px 1px 2px rgba(0, 0, 0, 0.3));\n",
              "      fill: #FFFFFF;\n",
              "    }\n",
              "  </style>\n",
              "\n",
              "      <script>\n",
              "        const buttonEl =\n",
              "          document.querySelector('#df-6fb4c8b9-39c6-45ac-ae2a-9495e99d0d62 button.colab-df-convert');\n",
              "        buttonEl.style.display =\n",
              "          google.colab.kernel.accessAllowed ? 'block' : 'none';\n",
              "\n",
              "        async function convertToInteractive(key) {\n",
              "          const element = document.querySelector('#df-6fb4c8b9-39c6-45ac-ae2a-9495e99d0d62');\n",
              "          const dataTable =\n",
              "            await google.colab.kernel.invokeFunction('convertToInteractive',\n",
              "                                                     [key], {});\n",
              "          if (!dataTable) return;\n",
              "\n",
              "          const docLinkHtml = 'Like what you see? Visit the ' +\n",
              "            '<a target=\"_blank\" href=https://colab.research.google.com/notebooks/data_table.ipynb>data table notebook</a>'\n",
              "            + ' to learn more about interactive tables.';\n",
              "          element.innerHTML = '';\n",
              "          dataTable['output_type'] = 'display_data';\n",
              "          await google.colab.output.renderOutput(dataTable, element);\n",
              "          const docLink = document.createElement('div');\n",
              "          docLink.innerHTML = docLinkHtml;\n",
              "          element.appendChild(docLink);\n",
              "        }\n",
              "      </script>\n",
              "    </div>\n",
              "  </div>\n",
              "  "
            ]
          },
          "metadata": {},
          "execution_count": 6
        }
      ]
    },
    {
      "cell_type": "code",
      "source": [
        "from implicit.als import AlternatingLeastSquares\n",
        "import os\n",
        "import numpy as np\n",
        "\n",
        "# implicit 라이브러리에서 권장하고 있는 부분입니다. 학습 내용과는 무관합니다.\n",
        "os.environ['OPENBLAS_NUM_THREADS']='1'\n",
        "os.environ['KMP_DUPLICATE_LIB_OK']='True'\n",
        "os.environ['MKL_NUM_THREADS']='1'\n"
      ],
      "metadata": {
        "id": "Yibny_MfuTt-"
      },
      "execution_count": 7,
      "outputs": []
    },
    {
      "cell_type": "markdown",
      "source": [
        "# 데이터 분석"
      ],
      "metadata": {
        "id": "OhwWXMPqudYU"
      }
    },
    {
      "cell_type": "code",
      "source": [
        "#print(len(movies), len(ratings))\n",
        "print(movies['title'].nunique())\n",
        "print(ratings['movie_id'].nunique())\n",
        "print(ratings['user_id'].nunique())\n",
        "\n",
        "\n",
        "#인기있는 영화 30개\n",
        "temp = ratings.groupby('movie_id')['user_id'].count()\n",
        "print(temp.sort_values(ascending=False).head(30))\n",
        "\n",
        "#평점이 높은 영화\n",
        "temp = ratings.groupby('movie_id')['counts'].mean()\n",
        "print(temp.sort_values(ascending=False).head(30))\n",
        "temp2=temp.sort_values(ascending=False).head(30).index\n",
        "for i in temp2:\n",
        "    print('index ',i,'의 rating 수: ',ratings.loc[ratings['movie_id']==i]['user_id'].count())\n",
        "#평점이 높은 것을 보려면 count가 일정 수 이상인 것만 봐야겠네요. rating 1개만 들어간 것들이 5점에 집중돼 있습니다. 318, 858같은 것은 인기도 있고 평점도 높습니다. 제목을 확인하면\n",
        "print(movies.loc[movies['movie_id']==858])\n",
        "print(movies.loc[movies['movie_id']==318])"
      ],
      "metadata": {
        "colab": {
          "base_uri": "https://localhost:8080/"
        },
        "id": "8G5ingYuuW7_",
        "outputId": "05c54a72-700f-4026-e4b4-80f7bac8971d"
      },
      "execution_count": 8,
      "outputs": [
        {
          "output_type": "stream",
          "name": "stdout",
          "text": [
            "3883\n",
            "3628\n",
            "6039\n",
            "movie_id\n",
            "2858    3211\n",
            "260     2910\n",
            "1196    2885\n",
            "1210    2716\n",
            "2028    2561\n",
            "589     2509\n",
            "593     2498\n",
            "1198    2473\n",
            "1270    2460\n",
            "2571    2434\n",
            "480     2413\n",
            "2762    2385\n",
            "608     2371\n",
            "110     2314\n",
            "1580    2297\n",
            "527     2257\n",
            "1197    2252\n",
            "2396    2213\n",
            "1617    2210\n",
            "318     2194\n",
            "858     2167\n",
            "1265    2121\n",
            "1097    2102\n",
            "2997    2066\n",
            "2716    2051\n",
            "296     2030\n",
            "356     2022\n",
            "1240    2019\n",
            "1       2000\n",
            "457     1941\n",
            "Name: user_id, dtype: int64\n",
            "movie_id\n",
            "1830    5.000000\n",
            "3607    5.000000\n",
            "3800    5.000000\n",
            "3280    5.000000\n",
            "989     5.000000\n",
            "1360    5.000000\n",
            "3656    5.000000\n",
            "687     5.000000\n",
            "3881    5.000000\n",
            "787     5.000000\n",
            "1420    5.000000\n",
            "1787    5.000000\n",
            "1553    5.000000\n",
            "3382    5.000000\n",
            "3205    5.000000\n",
            "3236    5.000000\n",
            "572     5.000000\n",
            "3172    5.000000\n",
            "3233    5.000000\n",
            "3245    4.800000\n",
            "53      4.750000\n",
            "3232    4.750000\n",
            "2503    4.666667\n",
            "2197    4.666667\n",
            "3866    4.666667\n",
            "2905    4.647059\n",
            "2019    4.629690\n",
            "670     4.603774\n",
            "858     4.598523\n",
            "318     4.596627\n",
            "Name: counts, dtype: float64\n",
            "index  1830 의 rating 수:  1\n",
            "index  3607 의 rating 수:  1\n",
            "index  3800 의 rating 수:  1\n",
            "index  3280 의 rating 수:  1\n",
            "index  989 의 rating 수:  1\n",
            "index  1360 의 rating 수:  1\n",
            "index  3656 의 rating 수:  1\n",
            "index  687 의 rating 수:  1\n",
            "index  3881 의 rating 수:  1\n",
            "index  787 의 rating 수:  3\n",
            "index  1420 의 rating 수:  5\n",
            "index  1787 의 rating 수:  1\n",
            "index  1553 의 rating 수:  1\n",
            "index  3382 의 rating 수:  1\n",
            "index  3205 의 rating 수:  1\n",
            "index  3236 의 rating 수:  1\n",
            "index  572 의 rating 수:  1\n",
            "index  3172 의 rating 수:  1\n",
            "index  3233 의 rating 수:  2\n",
            "index  3245 의 rating 수:  5\n",
            "index  53 의 rating 수:  8\n",
            "index  3232 의 rating 수:  4\n",
            "index  2503 의 rating 수:  9\n",
            "index  2197 의 rating 수:  9\n",
            "index  3866 의 rating 수:  3\n",
            "index  2905 의 rating 수:  68\n",
            "index  2019 의 rating 수:  613\n",
            "index  670 의 rating 수:  53\n",
            "index  858 의 rating 수:  2167\n",
            "index  318 의 rating 수:  2194\n",
            "     movie_id                  title               genre\n",
            "847       858  Godfather, The (1972)  Action|Crime|Drama\n",
            "     movie_id                             title  genre\n",
            "315       318  Shawshank Redemption, The (1994)  Drama\n"
          ]
        }
      ]
    },
    {
      "cell_type": "markdown",
      "source": [
        "## 인기있는 영화 찾아보기\n",
        " 그냥 평점이 많은 것 말고 평점 평균이 높은 것도 찾아보려고 했는데 별 소득은 없었습니다."
      ],
      "metadata": {
        "id": "GI4iafXqugkt"
      }
    },
    {
      "cell_type": "markdown",
      "source": [
        "# 내가 선호하는 영화 추가하기"
      ],
      "metadata": {
        "id": "tJVpz44kulH-"
      }
    },
    {
      "cell_type": "code",
      "source": [
        "#제가 재미있게 본 영화들을 찾아봤는데 없습니다.\n",
        "#(마스터 앤드 커맨더, 리즈와 파랑새, 덩케르크, 목소리의 형태 등을 찾아봤는데요. 연도를 보면 20세기 영화가 대부분입니다.)\n",
        "#그냥 more movies.dat 으로 스페이스 눌러가면서 아는 영화를 추가합시다.\n",
        "#영화의 숫자를 과소평가 한 것 같습니다. 그냥 옛날 영화들을 떠올려 보겠습니다. \n",
        "#그냥 배쉬 쉘에 movies.dat | grep terminator 이런식으로 치면서 겨우 5개를 찾았습니다.\n",
        "#1036 Die Hard (1988) 3\n",
        "#1240 터미네이터 3\n",
        "#캐스트 어웨이->없음\n",
        "#2028 라이언 일병 구하기 4\n",
        "#라붐 ->없음\n",
        "#1580 맨인블랙\n",
        "#1676 starship troopers 4\n",
        "#ratings\n",
        "temp=pd.DataFrame()\n",
        "temp['user_id']=[6041,6041,6041,6041,6041]\n",
        "temp['movie_id']=[1036,1240,2028,1580,1676]\n",
        "temp['counts']=[3,3,4,3,5]\n",
        "ratings=ratings.append(temp)\n",
        "print(ratings.tail(10))"
      ],
      "metadata": {
        "colab": {
          "base_uri": "https://localhost:8080/"
        },
        "id": "krLsBJ42umuZ",
        "outputId": "6ea6693a-d12f-47fc-eab9-fa137c979692"
      },
      "execution_count": 9,
      "outputs": [
        {
          "output_type": "stream",
          "name": "stdout",
          "text": [
            "         user_id  movie_id  counts    timestamp\n",
            "1000203     6040      1090       3  956715518.0\n",
            "1000205     6040      1094       5  956704887.0\n",
            "1000206     6040       562       5  956704746.0\n",
            "1000207     6040      1096       4  956715648.0\n",
            "1000208     6040      1097       4  956715569.0\n",
            "0           6041      1036       3          NaN\n",
            "1           6041      1240       3          NaN\n",
            "2           6041      2028       4          NaN\n",
            "3           6041      1580       3          NaN\n",
            "4           6041      1676       5          NaN\n"
          ]
        }
      ]
    },
    {
      "cell_type": "code",
      "source": [],
      "metadata": {
        "id": "nNH4hmEfuouu"
      },
      "execution_count": 9,
      "outputs": []
    },
    {
      "cell_type": "markdown",
      "source": [
        "# CSR Matrix"
      ],
      "metadata": {
        "id": "iWAqoTmwuxvG"
      }
    },
    {
      "cell_type": "code",
      "source": [
        "from scipy.sparse import csr_matrix\n",
        "#ratings.reset_index(inplace=True)\n",
        "num_user = max(ratings['user_id'])+1\n",
        "num_movie = max(ratings['movie_id'])+1\n",
        "\n",
        "csr_data = csr_matrix((ratings.counts, (ratings.user_id, ratings.movie_id)), shape= (num_user, num_movie))\n",
        "csr_data"
      ],
      "metadata": {
        "colab": {
          "base_uri": "https://localhost:8080/"
        },
        "id": "c6o_zRkDvDb5",
        "outputId": "8257a7e2-70ca-4c07-e3e2-52c0c8193787"
      },
      "execution_count": 11,
      "outputs": [
        {
          "output_type": "execute_result",
          "data": {
            "text/plain": [
              "<6042x3953 sparse matrix of type '<class 'numpy.int64'>'\n",
              "\twith 836483 stored elements in Compressed Sparse Row format>"
            ]
          },
          "metadata": {},
          "execution_count": 11
        }
      ]
    },
    {
      "cell_type": "markdown",
      "source": [
        "## CSR data의 Transpose:\n",
        "음악 데이터를 들을 때에는 Transpose를 취했는데 이번에는 그렇게 하지 않습니다. 왜냐하면 하고 넣어보니까 index가 영화 index보다 큰 것들이 나옵니다. implicit 버전이 달라지면서 뭐가 바뀐 건지 보려고 찾아봤는데 못찾겠습니다."
      ],
      "metadata": {
        "id": "4pBeLZSP71LM"
      }
    },
    {
      "cell_type": "code",
      "source": [
        "#모델 구성과 훈련\n",
        "als_model = AlternatingLeastSquares(factors=100, regularization=0.01, use_gpu=False, iterations=15, dtype=np.float32)\n",
        "#csr_data_transpose = csr_data.T\n",
        "#csr_data_transpose\n",
        "\n",
        "als_model.fit(csr_data)"
      ],
      "metadata": {
        "id": "R_cdHNAXu1yp",
        "colab": {
          "base_uri": "https://localhost:8080/",
          "height": 49,
          "referenced_widgets": [
            "5e20a0d925f1451393c9c16a3d4b6e3c",
            "aef729fc9347454381cc98cbf23a40af",
            "8d5e7b7802b1449f8966b07947bece33",
            "0ce079f3b17d4c688b072223f347f3bb",
            "9f0d13a09fc3419e80188d3ce9dcd65d",
            "228a5ec715f248618ff240bf506cca36",
            "67ca91d8177f4ad7bfd8719779b29d28",
            "3066a99e23324d45b6d09baf091c9b68",
            "fffa51466a384265b34d3c0d3cb4baa9",
            "7c47a717ac8f4f63bfcf7c4927f473ec",
            "fb82795401ef400495aff80f01277fa7"
          ]
        },
        "outputId": "db4e62cb-5335-4b52-ee46-dc2b1103e0b7"
      },
      "execution_count": 12,
      "outputs": [
        {
          "output_type": "display_data",
          "data": {
            "text/plain": [
              "  0%|          | 0/15 [00:00<?, ?it/s]"
            ],
            "application/vnd.jupyter.widget-view+json": {
              "version_major": 2,
              "version_minor": 0,
              "model_id": "5e20a0d925f1451393c9c16a3d4b6e3c"
            }
          },
          "metadata": {}
        }
      ]
    },
    {
      "cell_type": "markdown",
      "source": [
        "\n",
        "# 선호도 확인해보기 "
      ],
      "metadata": {
        "id": "G4IjamHec4kr"
      }
    },
    {
      "cell_type": "code",
      "source": [
        "#선호도 확인해보기 :\n",
        "#1676 starship troopers와\n",
        "#1682 트루먼 쇼를 봅시다. 근데 사전을 만들어야겠습니다.\n",
        "\n",
        "similar_artist = als_model.similar_items(1676, N=15)\n",
        "similar_artist\n"
      ],
      "metadata": {
        "colab": {
          "base_uri": "https://localhost:8080/"
        },
        "id": "eUbVcps9vTsR",
        "outputId": "6b829849-644e-44af-bb0f-9f4ced0888c0"
      },
      "execution_count": 13,
      "outputs": [
        {
          "output_type": "execute_result",
          "data": {
            "text/plain": [
              "(array([1676,  316, 1527, 1876, 1391,  780,  198, 1603,  303,  196, 2094,\n",
              "         442, 1590, 1356, 1320], dtype=int32),\n",
              " array([1.0000001 , 0.6139034 , 0.55412966, 0.5479362 , 0.53943807,\n",
              "        0.5106307 , 0.49014887, 0.48942375, 0.47755864, 0.47220564,\n",
              "        0.4620738 , 0.455844  , 0.45510632, 0.44530606, 0.44365618],\n",
              "       dtype=float32))"
            ]
          },
          "metadata": {},
          "execution_count": 13
        }
      ]
    },
    {
      "cell_type": "code",
      "source": [
        "idx_to_title=dict(zip(movies['movie_id'].values, movies['title'].values))\n",
        "title_to_idx=dict(zip(movies['title'].values, movies['movie_id'].values))\n",
        "print(idx_to_title[1682])\n",
        "def similar_title_idx2title(idx:int):\n",
        "    for i in als_model.similar_items(idx, N=15)[0]:\n",
        "        print(idx_to_title[i])"
      ],
      "metadata": {
        "colab": {
          "base_uri": "https://localhost:8080/"
        },
        "id": "R4QX8XNUw_eF",
        "outputId": "54da5c4b-167f-4ae4-e348-62bd6dc5659f"
      },
      "execution_count": 14,
      "outputs": [
        {
          "output_type": "stream",
          "name": "stdout",
          "text": [
            "Truman Show, The (1998)\n"
          ]
        }
      ]
    },
    {
      "cell_type": "code",
      "source": [
        "print(1682)"
      ],
      "metadata": {
        "colab": {
          "base_uri": "https://localhost:8080/"
        },
        "id": "qKAS0NpzyTQp",
        "outputId": "f7195382-e206-44a8-af2d-75569e740ced"
      },
      "execution_count": 15,
      "outputs": [
        {
          "output_type": "stream",
          "name": "stdout",
          "text": [
            "1682\n"
          ]
        }
      ]
    },
    {
      "cell_type": "code",
      "source": [
        "print(als_model.similar_items(1682, N=5)[0])"
      ],
      "metadata": {
        "colab": {
          "base_uri": "https://localhost:8080/"
        },
        "id": "i8iAOmAvyUnQ",
        "outputId": "66663a21-b421-4dc9-c322-b5ca9a2f95e8"
      },
      "execution_count": 16,
      "outputs": [
        {
          "output_type": "stream",
          "name": "stdout",
          "text": [
            "[1682  300  150  508   62]\n"
          ]
        }
      ]
    },
    {
      "cell_type": "code",
      "source": [
        "sim15=list(als_model.similar_items(1676, N=15))\n",
        "for i in range(15):\n",
        "    try:\n",
        "        print('Similarity(max=1)',idx_to_title[sim15[0][i]], 'is', sim15[1][i])\n",
        "    except:\n",
        "        print('found no title for movie_id: ',i)"
      ],
      "metadata": {
        "colab": {
          "base_uri": "https://localhost:8080/"
        },
        "id": "1qkgoTbp0n_u",
        "outputId": "6b210cbe-8c6e-4f2b-d640-ecedc3a9e1eb"
      },
      "execution_count": 36,
      "outputs": [
        {
          "output_type": "stream",
          "name": "stdout",
          "text": [
            "Similarity(max=1) Starship Troopers (1997) is 1.0000001\n",
            "Similarity(max=1) Stargate (1994) is 0.6139034\n",
            "Similarity(max=1) Fifth Element, The (1997) is 0.55412966\n",
            "Similarity(max=1) Deep Impact (1998) is 0.5479362\n",
            "Similarity(max=1) Mars Attacks! (1996) is 0.53943807\n",
            "Similarity(max=1) Independence Day (ID4) (1996) is 0.5106307\n",
            "Similarity(max=1) Strange Days (1995) is 0.49014887\n",
            "Similarity(max=1) Mimic (1997) is 0.48942375\n",
            "Similarity(max=1) Quick and the Dead, The (1995) is 0.47755864\n",
            "Similarity(max=1) Species (1995) is 0.47220564\n",
            "Similarity(max=1) Rocketeer, The (1991) is 0.4620738\n",
            "Similarity(max=1) Demolition Man (1993) is 0.455844\n",
            "Similarity(max=1) Event Horizon (1997) is 0.45510632\n",
            "Similarity(max=1) Star Trek: First Contact (1996) is 0.44530606\n",
            "Similarity(max=1) Alienï¿½ (1992) is 0.44365618\n"
          ]
        }
      ]
    },
    {
      "cell_type": "markdown",
      "source": [
        "# 추천 영화 받아보기\n",
        "USER_ID 6041로 좋아하는 영화를 넣었으니까 그걸로 찾으면 됩니다. 버전차이 때문인지 안돼서 https://github.com/benfred/implicit/issues/535 을 참고해서 좀 수정했습니다."
      ],
      "metadata": {
        "id": "hgynjXHcjsix"
      }
    },
    {
      "cell_type": "code",
      "source": [
        "user=6041\n",
        "movie_recommended = als_model.recommend(user, csr_data[user], filter_already_liked_items=True)\n",
        "print(movie_recommended)\n",
        "\n"
      ],
      "metadata": {
        "colab": {
          "base_uri": "https://localhost:8080/"
        },
        "id": "35oRjwuTj4oz",
        "outputId": "735343d0-d822-482c-9410-c146563db430"
      },
      "execution_count": 68,
      "outputs": [
        {
          "output_type": "stream",
          "name": "stdout",
          "text": [
            "(array([ 589,  110, 2916,  480, 2571, 1200,  780,  527, 1233, 1242],\n",
            "      dtype=int32), array([0.46031904, 0.38979518, 0.3868574 , 0.38001212, 0.3755428 ,\n",
            "       0.28830945, 0.25938582, 0.25693107, 0.2504824 , 0.25038552],\n",
            "      dtype=float32))\n"
          ]
        }
      ]
    },
    {
      "cell_type": "code",
      "source": [
        "for i in range(10):\n",
        "    try:\n",
        "        print(idx_to_title[movie_recommended[0][i]], movie_recommended[1][i])\n",
        "    except:\n",
        "        print('found no title for movie_id: ',i)"
      ],
      "metadata": {
        "colab": {
          "base_uri": "https://localhost:8080/"
        },
        "id": "RpSV0LB7p_B3",
        "outputId": "a9ee671e-7dbd-4a81-c057-4c3244ab18c3"
      },
      "execution_count": 69,
      "outputs": [
        {
          "output_type": "stream",
          "name": "stdout",
          "text": [
            "Terminator 2: Judgment Day (1991) 0.46031904\n",
            "Braveheart (1995) 0.38979518\n",
            "Total Recall (1990) 0.3868574\n",
            "Jurassic Park (1993) 0.38001212\n",
            "Matrix, The (1999) 0.3755428\n",
            "Aliens (1986) 0.28830945\n",
            "Independence Day (ID4) (1996) 0.25938582\n",
            "Schindler's List (1993) 0.25693107\n",
            "Boat, The (Das Boot) (1981) 0.2504824\n",
            "Glory (1989) 0.25038552\n"
          ]
        }
      ]
    },
    {
      "cell_type": "code",
      "source": [
        "print(help(csr_matrix))"
      ],
      "metadata": {
        "id": "ynh2HExF-FmQ"
      },
      "execution_count": null,
      "outputs": []
    },
    {
      "cell_type": "markdown",
      "source": [
        "### supplement: movie_id에 왜 이렇게 없는 값이 많은지...?\n",
        "근본적 원인규명은 못하고 그냥 transpose를 안하게 바꿨습니다. 아무튼 이 코드를 lms로 가져가보니 als_model.similar_items가 return시키는 값의 순서가 바뀌었습니다. 버전이 바뀌면서 뭐가 많이 바꼈나봐요."
      ],
      "metadata": {
        "id": "b9FjOYPy2sgX"
      }
    },
    {
      "cell_type": "code",
      "source": [
        "print(max(list(movies.movie_id.values)))"
      ],
      "metadata": {
        "colab": {
          "base_uri": "https://localhost:8080/"
        },
        "id": "2uyx-xFR4wND",
        "outputId": "562a6170-b287-4155-e457-23cf5cb381f3"
      },
      "execution_count": 18,
      "outputs": [
        {
          "output_type": "stream",
          "name": "stdout",
          "text": [
            "3952\n"
          ]
        }
      ]
    },
    {
      "cell_type": "code",
      "source": [
        "print(num_movie, num_user)"
      ],
      "metadata": {
        "colab": {
          "base_uri": "https://localhost:8080/"
        },
        "id": "E7v6cPdd4w22",
        "outputId": "57d56dda-52a4-415e-9a40-6519153f91f4"
      },
      "execution_count": 19,
      "outputs": [
        {
          "output_type": "stream",
          "name": "stdout",
          "text": [
            "3953 6042\n"
          ]
        }
      ]
    },
    {
      "cell_type": "code",
      "source": [
        "help(AlternatingLeastSquares)"
      ],
      "metadata": {
        "id": "BGQQ3-7G9TH_"
      },
      "execution_count": null,
      "outputs": []
    },
    {
      "cell_type": "markdown",
      "source": [
        "# 회고, 토의\n",
        "\n",
        "그냥 LMS에서 할 걸 그랬나 하는 생각이 많이 들었습니다. CSR matrix 너무 헷갈리네요. 아직도 맞게 했는지 정확히 모르겠습니다."
      ],
      "metadata": {
        "id": "7PJC2Wikq0UM"
      }
    }
  ]
}