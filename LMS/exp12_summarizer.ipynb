{
  "nbformat": 4,
  "nbformat_minor": 0,
  "metadata": {
    "colab": {
      "provenance": [],
      "collapsed_sections": [
        "8vWUMYBft8hu",
        "91j6cC70Wnmj",
        "Nvt2bDppvI0_",
        "t1Tv0mAIpfk5",
        "vzWCMoCRu1GG"
      ],
      "authorship_tag": "ABX9TyMQqAGm9SlgO0jwWme1wypU",
      "include_colab_link": true
    },
    "kernelspec": {
      "name": "python3",
      "display_name": "Python 3"
    },
    "language_info": {
      "name": "python"
    },
    "gpuClass": "standard",
    "accelerator": "GPU"
  },
  "cells": [
    {
      "cell_type": "markdown",
      "metadata": {
        "id": "view-in-github",
        "colab_type": "text"
      },
      "source": [
        "<a href=\"https://colab.research.google.com/github/chhyyi/aiffel/blob/main/LMS/exp12_summarizer.ipynb\" target=\"_parent\"><img src=\"https://colab.research.google.com/assets/colab-badge.svg\" alt=\"Open In Colab\"/></a>"
      ]
    },
    {
      "cell_type": "markdown",
      "source": [
        "# Aiffel LMS EXP12. summarizer \n",
        "\n",
        "일단 버전을 맞춥시다."
      ],
      "metadata": {
        "id": "63boCmhIipNs"
      }
    },
    {
      "cell_type": "code",
      "source": [
        "!pip3 list | grep tensorflow"
      ],
      "metadata": {
        "colab": {
          "base_uri": "https://localhost:8080/"
        },
        "id": "uxLPoFB7mL66",
        "outputId": "2e01a617-4b93-4dba-f4de-320c35b8ac35"
      },
      "execution_count": 1,
      "outputs": [
        {
          "output_type": "stream",
          "name": "stdout",
          "text": [
            "tensorflow                    2.8.2+zzzcolab20220719082949\n",
            "tensorflow-datasets           4.6.0\n",
            "tensorflow-estimator          2.8.0\n",
            "tensorflow-gcs-config         2.8.0\n",
            "tensorflow-hub                0.12.0\n",
            "tensorflow-io-gcs-filesystem  0.26.0\n",
            "tensorflow-metadata           1.10.0\n",
            "tensorflow-probability        0.16.0\n"
          ]
        }
      ]
    },
    {
      "cell_type": "code",
      "execution_count": 2,
      "metadata": {
        "colab": {
          "base_uri": "https://localhost:8080/",
          "height": 1000
        },
        "id": "NY2ATgK-iZmT",
        "outputId": "ba946348-f170-4c8d-fa5c-f167b83bd8f8"
      },
      "outputs": [
        {
          "output_type": "stream",
          "name": "stdout",
          "text": [
            "Looking in indexes: https://pypi.org/simple, https://us-python.pkg.dev/colab-wheels/public/simple/\n",
            "Collecting tensorflow==2.6.0\n",
            "  Downloading https://us-python.pkg.dev/colab-wheels/public/tensorflow/tensorflow-2.6.0%2Bzzzcolab20220506153740-cp37-cp37m-linux_x86_64.whl (564.4 MB)\n",
            "\u001b[K     |████████████████████████████████| 564.4 MB 2.4 kB/s \n",
            "\u001b[?25hCollecting wrapt~=1.12.1\n",
            "  Downloading wrapt-1.12.1.tar.gz (27 kB)\n",
            "Requirement already satisfied: h5py~=3.1.0 in /usr/local/lib/python3.7/dist-packages (from tensorflow==2.6.0) (3.1.0)\n",
            "Requirement already satisfied: keras~=2.6 in /usr/local/lib/python3.7/dist-packages (from tensorflow==2.6.0) (2.8.0)\n",
            "Collecting flatbuffers~=1.12.0\n",
            "  Downloading flatbuffers-1.12-py2.py3-none-any.whl (15 kB)\n",
            "Requirement already satisfied: protobuf>=3.9.2 in /usr/local/lib/python3.7/dist-packages (from tensorflow==2.6.0) (3.17.3)\n",
            "Collecting gast==0.4.0\n",
            "  Downloading gast-0.4.0-py3-none-any.whl (9.8 kB)\n",
            "Requirement already satisfied: opt-einsum~=3.3.0 in /usr/local/lib/python3.7/dist-packages (from tensorflow==2.6.0) (3.3.0)\n",
            "Requirement already satisfied: termcolor~=1.1.0 in /usr/local/lib/python3.7/dist-packages (from tensorflow==2.6.0) (1.1.0)\n",
            "Collecting numpy~=1.19.2\n",
            "  Downloading numpy-1.19.5-cp37-cp37m-manylinux2010_x86_64.whl (14.8 MB)\n",
            "\u001b[K     |████████████████████████████████| 14.8 MB 7.9 MB/s \n",
            "\u001b[?25hRequirement already satisfied: wheel~=0.35 in /usr/local/lib/python3.7/dist-packages (from tensorflow==2.6.0) (0.37.1)\n",
            "Requirement already satisfied: six~=1.15.0 in /usr/local/lib/python3.7/dist-packages (from tensorflow==2.6.0) (1.15.0)\n",
            "Collecting typing-extensions~=3.7.4\n",
            "  Downloading typing_extensions-3.7.4.3-py3-none-any.whl (22 kB)\n",
            "Requirement already satisfied: tensorboard~=2.6 in /usr/local/lib/python3.7/dist-packages (from tensorflow==2.6.0) (2.8.0)\n",
            "Requirement already satisfied: grpcio<2.0,>=1.37.0 in /usr/local/lib/python3.7/dist-packages (from tensorflow==2.6.0) (1.47.0)\n",
            "Collecting clang~=5.0\n",
            "  Downloading clang-5.0.tar.gz (30 kB)\n",
            "Requirement already satisfied: keras-preprocessing~=1.1.2 in /usr/local/lib/python3.7/dist-packages (from tensorflow==2.6.0) (1.1.2)\n",
            "Collecting absl-py~=0.10\n",
            "  Downloading absl_py-0.15.0-py3-none-any.whl (132 kB)\n",
            "\u001b[K     |████████████████████████████████| 132 kB 58.3 MB/s \n",
            "\u001b[?25hRequirement already satisfied: google-pasta~=0.2 in /usr/local/lib/python3.7/dist-packages (from tensorflow==2.6.0) (0.2.0)\n",
            "Requirement already satisfied: tensorflow-estimator~=2.6 in /usr/local/lib/python3.7/dist-packages (from tensorflow==2.6.0) (2.8.0)\n",
            "Requirement already satisfied: astunparse~=1.6.3 in /usr/local/lib/python3.7/dist-packages (from tensorflow==2.6.0) (1.6.3)\n",
            "Requirement already satisfied: cached-property in /usr/local/lib/python3.7/dist-packages (from h5py~=3.1.0->tensorflow==2.6.0) (1.5.2)\n",
            "Requirement already satisfied: markdown>=2.6.8 in /usr/local/lib/python3.7/dist-packages (from tensorboard~=2.6->tensorflow==2.6.0) (3.4.1)\n",
            "Requirement already satisfied: tensorboard-data-server<0.7.0,>=0.6.0 in /usr/local/lib/python3.7/dist-packages (from tensorboard~=2.6->tensorflow==2.6.0) (0.6.1)\n",
            "Requirement already satisfied: google-auth<3,>=1.6.3 in /usr/local/lib/python3.7/dist-packages (from tensorboard~=2.6->tensorflow==2.6.0) (1.35.0)\n",
            "Requirement already satisfied: tensorboard-plugin-wit>=1.6.0 in /usr/local/lib/python3.7/dist-packages (from tensorboard~=2.6->tensorflow==2.6.0) (1.8.1)\n",
            "Requirement already satisfied: werkzeug>=0.11.15 in /usr/local/lib/python3.7/dist-packages (from tensorboard~=2.6->tensorflow==2.6.0) (1.0.1)\n",
            "Requirement already satisfied: setuptools>=41.0.0 in /usr/local/lib/python3.7/dist-packages (from tensorboard~=2.6->tensorflow==2.6.0) (57.4.0)\n",
            "Requirement already satisfied: google-auth-oauthlib<0.5,>=0.4.1 in /usr/local/lib/python3.7/dist-packages (from tensorboard~=2.6->tensorflow==2.6.0) (0.4.6)\n",
            "Requirement already satisfied: requests<3,>=2.21.0 in /usr/local/lib/python3.7/dist-packages (from tensorboard~=2.6->tensorflow==2.6.0) (2.23.0)\n",
            "Requirement already satisfied: pyasn1-modules>=0.2.1 in /usr/local/lib/python3.7/dist-packages (from google-auth<3,>=1.6.3->tensorboard~=2.6->tensorflow==2.6.0) (0.2.8)\n",
            "Requirement already satisfied: rsa<5,>=3.1.4 in /usr/local/lib/python3.7/dist-packages (from google-auth<3,>=1.6.3->tensorboard~=2.6->tensorflow==2.6.0) (4.9)\n",
            "Requirement already satisfied: cachetools<5.0,>=2.0.0 in /usr/local/lib/python3.7/dist-packages (from google-auth<3,>=1.6.3->tensorboard~=2.6->tensorflow==2.6.0) (4.2.4)\n",
            "Requirement already satisfied: requests-oauthlib>=0.7.0 in /usr/local/lib/python3.7/dist-packages (from google-auth-oauthlib<0.5,>=0.4.1->tensorboard~=2.6->tensorflow==2.6.0) (1.3.1)\n",
            "Requirement already satisfied: importlib-metadata>=4.4 in /usr/local/lib/python3.7/dist-packages (from markdown>=2.6.8->tensorboard~=2.6->tensorflow==2.6.0) (4.12.0)\n",
            "Requirement already satisfied: zipp>=0.5 in /usr/local/lib/python3.7/dist-packages (from importlib-metadata>=4.4->markdown>=2.6.8->tensorboard~=2.6->tensorflow==2.6.0) (3.8.1)\n",
            "Requirement already satisfied: pyasn1<0.5.0,>=0.4.6 in /usr/local/lib/python3.7/dist-packages (from pyasn1-modules>=0.2.1->google-auth<3,>=1.6.3->tensorboard~=2.6->tensorflow==2.6.0) (0.4.8)\n",
            "Requirement already satisfied: urllib3!=1.25.0,!=1.25.1,<1.26,>=1.21.1 in /usr/local/lib/python3.7/dist-packages (from requests<3,>=2.21.0->tensorboard~=2.6->tensorflow==2.6.0) (1.24.3)\n",
            "Requirement already satisfied: certifi>=2017.4.17 in /usr/local/lib/python3.7/dist-packages (from requests<3,>=2.21.0->tensorboard~=2.6->tensorflow==2.6.0) (2022.6.15)\n",
            "Requirement already satisfied: chardet<4,>=3.0.2 in /usr/local/lib/python3.7/dist-packages (from requests<3,>=2.21.0->tensorboard~=2.6->tensorflow==2.6.0) (3.0.4)\n",
            "Requirement already satisfied: idna<3,>=2.5 in /usr/local/lib/python3.7/dist-packages (from requests<3,>=2.21.0->tensorboard~=2.6->tensorflow==2.6.0) (2.10)\n",
            "Requirement already satisfied: oauthlib>=3.0.0 in /usr/local/lib/python3.7/dist-packages (from requests-oauthlib>=0.7.0->google-auth-oauthlib<0.5,>=0.4.1->tensorboard~=2.6->tensorflow==2.6.0) (3.2.0)\n",
            "Building wheels for collected packages: clang, wrapt\n",
            "  Building wheel for clang (setup.py) ... \u001b[?25l\u001b[?25hdone\n",
            "  Created wheel for clang: filename=clang-5.0-py3-none-any.whl size=30694 sha256=77dc9b14c065421f8c78246b1d4250ec122df814549b312556f685099a24d3ce\n",
            "  Stored in directory: /root/.cache/pip/wheels/98/91/04/971b4c587cf47ae952b108949b46926f426c02832d120a082a\n",
            "  Building wheel for wrapt (setup.py) ... \u001b[?25l\u001b[?25hdone\n",
            "  Created wheel for wrapt: filename=wrapt-1.12.1-cp37-cp37m-linux_x86_64.whl size=68722 sha256=c50fbec0a2341ffc81646645ccb662530abfc77f4d0cbb31e9517eec1a93e003\n",
            "  Stored in directory: /root/.cache/pip/wheels/62/76/4c/aa25851149f3f6d9785f6c869387ad82b3fd37582fa8147ac6\n",
            "Successfully built clang wrapt\n",
            "Installing collected packages: typing-extensions, numpy, absl-py, wrapt, gast, flatbuffers, clang, tensorflow\n",
            "  Attempting uninstall: typing-extensions\n",
            "    Found existing installation: typing-extensions 4.1.1\n",
            "    Uninstalling typing-extensions-4.1.1:\n",
            "      Successfully uninstalled typing-extensions-4.1.1\n",
            "  Attempting uninstall: numpy\n",
            "    Found existing installation: numpy 1.21.6\n",
            "    Uninstalling numpy-1.21.6:\n",
            "      Successfully uninstalled numpy-1.21.6\n",
            "  Attempting uninstall: absl-py\n",
            "    Found existing installation: absl-py 1.2.0\n",
            "    Uninstalling absl-py-1.2.0:\n",
            "      Successfully uninstalled absl-py-1.2.0\n",
            "  Attempting uninstall: wrapt\n",
            "    Found existing installation: wrapt 1.14.1\n",
            "    Uninstalling wrapt-1.14.1:\n",
            "      Successfully uninstalled wrapt-1.14.1\n",
            "  Attempting uninstall: gast\n",
            "    Found existing installation: gast 0.5.3\n",
            "    Uninstalling gast-0.5.3:\n",
            "      Successfully uninstalled gast-0.5.3\n",
            "  Attempting uninstall: flatbuffers\n",
            "    Found existing installation: flatbuffers 2.0.7\n",
            "    Uninstalling flatbuffers-2.0.7:\n",
            "      Successfully uninstalled flatbuffers-2.0.7\n",
            "  Attempting uninstall: tensorflow\n",
            "    Found existing installation: tensorflow 2.8.2+zzzcolab20220719082949\n",
            "    Uninstalling tensorflow-2.8.2+zzzcolab20220719082949:\n",
            "      Successfully uninstalled tensorflow-2.8.2+zzzcolab20220719082949\n",
            "\u001b[31mERROR: pip's dependency resolver does not currently take into account all the packages that are installed. This behaviour is the source of the following dependency conflicts.\n",
            "xarray-einstats 0.2.2 requires numpy>=1.21, but you have numpy 1.19.5 which is incompatible.\n",
            "cmdstanpy 1.0.7 requires numpy>=1.21, but you have numpy 1.19.5 which is incompatible.\u001b[0m\n",
            "Successfully installed absl-py-0.15.0 clang-5.0 flatbuffers-1.12 gast-0.4.0 numpy-1.19.5 tensorflow-2.6.0+zzzcolab20220506153740 typing-extensions-3.7.4.3 wrapt-1.12.1\n"
          ]
        },
        {
          "output_type": "display_data",
          "data": {
            "application/vnd.colab-display-data+json": {
              "pip_warning": {
                "packages": [
                  "numpy",
                  "typing_extensions"
                ]
              }
            }
          },
          "metadata": {}
        },
        {
          "output_type": "stream",
          "name": "stdout",
          "text": [
            "Looking in indexes: https://pypi.org/simple, https://us-python.pkg.dev/colab-wheels/public/simple/\n",
            "Collecting keras==2.6.0\n",
            "  Downloading keras-2.6.0-py2.py3-none-any.whl (1.3 MB)\n",
            "\u001b[K     |████████████████████████████████| 1.3 MB 5.0 MB/s \n",
            "\u001b[?25hInstalling collected packages: keras\n",
            "  Attempting uninstall: keras\n",
            "    Found existing installation: keras 2.8.0\n",
            "    Uninstalling keras-2.8.0:\n",
            "      Successfully uninstalled keras-2.8.0\n",
            "Successfully installed keras-2.6.0\n",
            "Looking in indexes: https://pypi.org/simple, https://us-python.pkg.dev/colab-wheels/public/simple/\n",
            "Collecting nltk==3.6.5\n",
            "  Downloading nltk-3.6.5-py3-none-any.whl (1.5 MB)\n",
            "\u001b[K     |████████████████████████████████| 1.5 MB 5.2 MB/s \n",
            "\u001b[?25hRequirement already satisfied: click in /usr/local/lib/python3.7/dist-packages (from nltk==3.6.5) (7.1.2)\n",
            "Requirement already satisfied: tqdm in /usr/local/lib/python3.7/dist-packages (from nltk==3.6.5) (4.64.0)\n",
            "Requirement already satisfied: regex>=2021.8.3 in /usr/local/lib/python3.7/dist-packages (from nltk==3.6.5) (2022.6.2)\n",
            "Requirement already satisfied: joblib in /usr/local/lib/python3.7/dist-packages (from nltk==3.6.5) (1.1.0)\n",
            "Installing collected packages: nltk\n",
            "  Attempting uninstall: nltk\n",
            "    Found existing installation: nltk 3.7\n",
            "    Uninstalling nltk-3.7:\n",
            "      Successfully uninstalled nltk-3.7\n",
            "Successfully installed nltk-3.6.5\n",
            "Looking in indexes: https://pypi.org/simple, https://us-python.pkg.dev/colab-wheels/public/simple/\n",
            "Collecting summa==1.2.0\n",
            "  Downloading summa-1.2.0.tar.gz (54 kB)\n",
            "\u001b[K     |████████████████████████████████| 54 kB 2.4 MB/s \n",
            "\u001b[?25hRequirement already satisfied: scipy>=0.19 in /usr/local/lib/python3.7/dist-packages (from summa==1.2.0) (1.7.3)\n",
            "Requirement already satisfied: numpy<1.23.0,>=1.16.5 in /usr/local/lib/python3.7/dist-packages (from scipy>=0.19->summa==1.2.0) (1.19.5)\n",
            "Building wheels for collected packages: summa\n",
            "  Building wheel for summa (setup.py) ... \u001b[?25l\u001b[?25hdone\n",
            "  Created wheel for summa: filename=summa-1.2.0-py3-none-any.whl size=54412 sha256=6cbeee9ee5ce7f6ecc0ed3d91f9dbf47ec7d88c47541ff72a77ab0035d311747\n",
            "  Stored in directory: /root/.cache/pip/wheels/29/64/ac/7b443477588d365ef37ada30d456bdf5f07dc5be9f6324cb6e\n",
            "Successfully built summa\n",
            "Installing collected packages: summa\n",
            "Successfully installed summa-1.2.0\n"
          ]
        }
      ],
      "source": [
        "#restart runtime required!!\n",
        "!pip install tensorflow==2.6.0\n",
        "!pip install keras==2.6.0\n",
        "!pip install nltk==3.6.5\n",
        "!pip install summa==1.2.0"
      ]
    },
    {
      "cell_type": "code",
      "source": [
        "\n",
        "import nltk\n",
        "nltk.download('stopwords')\n",
        "\n",
        "import numpy as np\n",
        "import pandas as pd\n",
        "import os\n",
        "import re\n",
        "import matplotlib.pyplot as plt\n",
        "from nltk.corpus import stopwords\n",
        "from bs4 import BeautifulSoup \n",
        "from tensorflow.keras.preprocessing.text import Tokenizer \n",
        "from tensorflow.keras.preprocessing.sequence import pad_sequences\n",
        "import urllib.request\n",
        "import warnings\n",
        "warnings.filterwarnings(\"ignore\", category=UserWarning, module='bs4')\n",
        "\n"
      ],
      "metadata": {
        "colab": {
          "base_uri": "https://localhost:8080/"
        },
        "id": "dDwgI_-1mc7o",
        "outputId": "e20a5d10-68dd-4587-d673-1398f5f5460c"
      },
      "execution_count": 1,
      "outputs": [
        {
          "output_type": "stream",
          "name": "stderr",
          "text": [
            "[nltk_data] Downloading package stopwords to /root/nltk_data...\n",
            "[nltk_data]   Unzipping corpora/stopwords.zip.\n"
          ]
        }
      ]
    },
    {
      "cell_type": "markdown",
      "source": [
        "# 1. 데이터 수집하기"
      ],
      "metadata": {
        "id": "TsWfcnPpjfBX"
      }
    },
    {
      "cell_type": "code",
      "source": [
        "urllib.request.urlretrieve(\"https://raw.githubusercontent.com/sunnysai12345/News_Summary/master/news_summary_more.csv\", filename=\"news_summary_more.csv\")\n",
        "data = pd.read_csv('news_summary_more.csv', encoding='iso-8859-1')\n",
        "data.sample(5)\n"
      ],
      "metadata": {
        "colab": {
          "base_uri": "https://localhost:8080/",
          "height": 206
        },
        "id": "dcxdPHgWjYrf",
        "outputId": "17785eb4-b1b4-469a-a798-7b41031f15fc"
      },
      "execution_count": 2,
      "outputs": [
        {
          "output_type": "execute_result",
          "data": {
            "text/plain": [
              "                                               headlines  \\\n",
              "45004  US studying tardigrades to improve survival ra...   \n",
              "97225  Govt asks MPs to attend 'Dangal' screening wit...   \n",
              "10892  Faizabad will be called Ayodhya from today: UP...   \n",
              "7177   Those with big surnames came & went but found ...   \n",
              "93469  Hackers leak files showing NSA spied on int'l ...   \n",
              "\n",
              "                                                    text  \n",
              "45004  The US government's defence agency DARPA is ho...  \n",
              "97225  Lok Sabha Speaker Sumitra Mahajan has organise...  \n",
              "10892  Uttar Pradesh Chief Minister Yogi Adityanath o...  \n",
              "7177   In an alleged jibe at the Nehru-Gandhi family,...  \n",
              "93469  Hacking group TheShadowBrokers has released do...  "
            ],
            "text/html": [
              "\n",
              "  <div id=\"df-b6008d31-117d-465f-ae17-6b11f3d55ded\">\n",
              "    <div class=\"colab-df-container\">\n",
              "      <div>\n",
              "<style scoped>\n",
              "    .dataframe tbody tr th:only-of-type {\n",
              "        vertical-align: middle;\n",
              "    }\n",
              "\n",
              "    .dataframe tbody tr th {\n",
              "        vertical-align: top;\n",
              "    }\n",
              "\n",
              "    .dataframe thead th {\n",
              "        text-align: right;\n",
              "    }\n",
              "</style>\n",
              "<table border=\"1\" class=\"dataframe\">\n",
              "  <thead>\n",
              "    <tr style=\"text-align: right;\">\n",
              "      <th></th>\n",
              "      <th>headlines</th>\n",
              "      <th>text</th>\n",
              "    </tr>\n",
              "  </thead>\n",
              "  <tbody>\n",
              "    <tr>\n",
              "      <th>45004</th>\n",
              "      <td>US studying tardigrades to improve survival ra...</td>\n",
              "      <td>The US government's defence agency DARPA is ho...</td>\n",
              "    </tr>\n",
              "    <tr>\n",
              "      <th>97225</th>\n",
              "      <td>Govt asks MPs to attend 'Dangal' screening wit...</td>\n",
              "      <td>Lok Sabha Speaker Sumitra Mahajan has organise...</td>\n",
              "    </tr>\n",
              "    <tr>\n",
              "      <th>10892</th>\n",
              "      <td>Faizabad will be called Ayodhya from today: UP...</td>\n",
              "      <td>Uttar Pradesh Chief Minister Yogi Adityanath o...</td>\n",
              "    </tr>\n",
              "    <tr>\n",
              "      <th>7177</th>\n",
              "      <td>Those with big surnames came &amp; went but found ...</td>\n",
              "      <td>In an alleged jibe at the Nehru-Gandhi family,...</td>\n",
              "    </tr>\n",
              "    <tr>\n",
              "      <th>93469</th>\n",
              "      <td>Hackers leak files showing NSA spied on int'l ...</td>\n",
              "      <td>Hacking group TheShadowBrokers has released do...</td>\n",
              "    </tr>\n",
              "  </tbody>\n",
              "</table>\n",
              "</div>\n",
              "      <button class=\"colab-df-convert\" onclick=\"convertToInteractive('df-b6008d31-117d-465f-ae17-6b11f3d55ded')\"\n",
              "              title=\"Convert this dataframe to an interactive table.\"\n",
              "              style=\"display:none;\">\n",
              "        \n",
              "  <svg xmlns=\"http://www.w3.org/2000/svg\" height=\"24px\"viewBox=\"0 0 24 24\"\n",
              "       width=\"24px\">\n",
              "    <path d=\"M0 0h24v24H0V0z\" fill=\"none\"/>\n",
              "    <path d=\"M18.56 5.44l.94 2.06.94-2.06 2.06-.94-2.06-.94-.94-2.06-.94 2.06-2.06.94zm-11 1L8.5 8.5l.94-2.06 2.06-.94-2.06-.94L8.5 2.5l-.94 2.06-2.06.94zm10 10l.94 2.06.94-2.06 2.06-.94-2.06-.94-.94-2.06-.94 2.06-2.06.94z\"/><path d=\"M17.41 7.96l-1.37-1.37c-.4-.4-.92-.59-1.43-.59-.52 0-1.04.2-1.43.59L10.3 9.45l-7.72 7.72c-.78.78-.78 2.05 0 2.83L4 21.41c.39.39.9.59 1.41.59.51 0 1.02-.2 1.41-.59l7.78-7.78 2.81-2.81c.8-.78.8-2.07 0-2.86zM5.41 20L4 18.59l7.72-7.72 1.47 1.35L5.41 20z\"/>\n",
              "  </svg>\n",
              "      </button>\n",
              "      \n",
              "  <style>\n",
              "    .colab-df-container {\n",
              "      display:flex;\n",
              "      flex-wrap:wrap;\n",
              "      gap: 12px;\n",
              "    }\n",
              "\n",
              "    .colab-df-convert {\n",
              "      background-color: #E8F0FE;\n",
              "      border: none;\n",
              "      border-radius: 50%;\n",
              "      cursor: pointer;\n",
              "      display: none;\n",
              "      fill: #1967D2;\n",
              "      height: 32px;\n",
              "      padding: 0 0 0 0;\n",
              "      width: 32px;\n",
              "    }\n",
              "\n",
              "    .colab-df-convert:hover {\n",
              "      background-color: #E2EBFA;\n",
              "      box-shadow: 0px 1px 2px rgba(60, 64, 67, 0.3), 0px 1px 3px 1px rgba(60, 64, 67, 0.15);\n",
              "      fill: #174EA6;\n",
              "    }\n",
              "\n",
              "    [theme=dark] .colab-df-convert {\n",
              "      background-color: #3B4455;\n",
              "      fill: #D2E3FC;\n",
              "    }\n",
              "\n",
              "    [theme=dark] .colab-df-convert:hover {\n",
              "      background-color: #434B5C;\n",
              "      box-shadow: 0px 1px 3px 1px rgba(0, 0, 0, 0.15);\n",
              "      filter: drop-shadow(0px 1px 2px rgba(0, 0, 0, 0.3));\n",
              "      fill: #FFFFFF;\n",
              "    }\n",
              "  </style>\n",
              "\n",
              "      <script>\n",
              "        const buttonEl =\n",
              "          document.querySelector('#df-b6008d31-117d-465f-ae17-6b11f3d55ded button.colab-df-convert');\n",
              "        buttonEl.style.display =\n",
              "          google.colab.kernel.accessAllowed ? 'block' : 'none';\n",
              "\n",
              "        async function convertToInteractive(key) {\n",
              "          const element = document.querySelector('#df-b6008d31-117d-465f-ae17-6b11f3d55ded');\n",
              "          const dataTable =\n",
              "            await google.colab.kernel.invokeFunction('convertToInteractive',\n",
              "                                                     [key], {});\n",
              "          if (!dataTable) return;\n",
              "\n",
              "          const docLinkHtml = 'Like what you see? Visit the ' +\n",
              "            '<a target=\"_blank\" href=https://colab.research.google.com/notebooks/data_table.ipynb>data table notebook</a>'\n",
              "            + ' to learn more about interactive tables.';\n",
              "          element.innerHTML = '';\n",
              "          dataTable['output_type'] = 'display_data';\n",
              "          await google.colab.output.renderOutput(dataTable, element);\n",
              "          const docLink = document.createElement('div');\n",
              "          docLink.innerHTML = docLinkHtml;\n",
              "          element.appendChild(docLink);\n",
              "        }\n",
              "      </script>\n",
              "    </div>\n",
              "  </div>\n",
              "  "
            ]
          },
          "metadata": {},
          "execution_count": 2
        }
      ]
    },
    {
      "cell_type": "markdown",
      "source": [
        "# 2. 추상적 요약: 데이터 전처리하기\n",
        "- 불용어 적용 범위?"
      ],
      "metadata": {
        "id": "kPkdyNNojrQv"
      }
    },
    {
      "cell_type": "code",
      "source": [
        "print('Text 열에서 중복을 배제한 유일한 샘플의 수 :', data['text'].nunique())\n",
        "print('Summary 열에서 중복을 배제한 유일한 샘플의 수 :', data['headlines'].nunique())"
      ],
      "metadata": {
        "colab": {
          "base_uri": "https://localhost:8080/"
        },
        "id": "KadkEpE7ly2K",
        "outputId": "fba9c0e6-58e1-45f3-bdd4-ada6e6184981"
      },
      "execution_count": 9,
      "outputs": [
        {
          "output_type": "stream",
          "name": "stdout",
          "text": [
            "Text 열에서 중복을 배제한 유일한 샘플의 수 : 98360\n",
            "Summary 열에서 중복을 배제한 유일한 샘플의 수 : 98280\n"
          ]
        }
      ]
    },
    {
      "cell_type": "code",
      "source": [
        "# inplace=True 를 설정하면 DataFrame 타입 값을 return 하지 않고 data 내부를 직접적으로 바꿉니다\n",
        "data.drop_duplicates(subset = ['text'], inplace=True)\n",
        "print('전체 샘플수 :', (len(data)))"
      ],
      "metadata": {
        "colab": {
          "base_uri": "https://localhost:8080/"
        },
        "id": "AO-ue4A1l_DY",
        "outputId": "9dad14e6-8b08-4375-843d-5260bf517fca"
      },
      "execution_count": 10,
      "outputs": [
        {
          "output_type": "stream",
          "name": "stdout",
          "text": [
            "전체 샘플수 : 98360\n"
          ]
        }
      ]
    },
    {
      "cell_type": "code",
      "source": [
        "print(data.isnull().sum())"
      ],
      "metadata": {
        "colab": {
          "base_uri": "https://localhost:8080/"
        },
        "id": "iAVSJy9kmD-2",
        "outputId": "8c3baed8-d07b-49aa-b9f9-da2f84086dc8"
      },
      "execution_count": 11,
      "outputs": [
        {
          "output_type": "stream",
          "name": "stdout",
          "text": [
            "headlines     0\n",
            "text          0\n",
            "orig_index    0\n",
            "dtype: int64\n"
          ]
        }
      ]
    },
    {
      "cell_type": "code",
      "source": [
        "contractions = {\"ain't\": \"is not\", \"aren't\": \"are not\",\"can't\": \"cannot\", \"'cause\": \"because\", \"could've\": \"could have\", \"couldn't\": \"could not\",\n",
        "                           \"didn't\": \"did not\",  \"doesn't\": \"does not\", \"don't\": \"do not\", \"hadn't\": \"had not\", \"hasn't\": \"has not\", \"haven't\": \"have not\",\n",
        "                           \"he'd\": \"he would\",\"he'll\": \"he will\", \"he's\": \"he is\", \"how'd\": \"how did\", \"how'd'y\": \"how do you\", \"how'll\": \"how will\", \"how's\": \"how is\",\n",
        "                           \"I'd\": \"I would\", \"I'd've\": \"I would have\", \"I'll\": \"I will\", \"I'll've\": \"I will have\",\"I'm\": \"I am\", \"I've\": \"I have\", \"i'd\": \"i would\",\n",
        "                           \"i'd've\": \"i would have\", \"i'll\": \"i will\",  \"i'll've\": \"i will have\",\"i'm\": \"i am\", \"i've\": \"i have\", \"isn't\": \"is not\", \"it'd\": \"it would\",\n",
        "                           \"it'd've\": \"it would have\", \"it'll\": \"it will\", \"it'll've\": \"it will have\",\"it's\": \"it is\", \"let's\": \"let us\", \"ma'am\": \"madam\",\n",
        "                           \"mayn't\": \"may not\", \"might've\": \"might have\",\"mightn't\": \"might not\",\"mightn't've\": \"might not have\", \"must've\": \"must have\",\n",
        "                           \"mustn't\": \"must not\", \"mustn't've\": \"must not have\", \"needn't\": \"need not\", \"needn't've\": \"need not have\",\"o'clock\": \"of the clock\",\n",
        "                           \"oughtn't\": \"ought not\", \"oughtn't've\": \"ought not have\", \"shan't\": \"shall not\", \"sha'n't\": \"shall not\", \"shan't've\": \"shall not have\",\n",
        "                           \"she'd\": \"she would\", \"she'd've\": \"she would have\", \"she'll\": \"she will\", \"she'll've\": \"she will have\", \"she's\": \"she is\",\n",
        "                           \"should've\": \"should have\", \"shouldn't\": \"should not\", \"shouldn't've\": \"should not have\", \"so've\": \"so have\",\"so's\": \"so as\",\n",
        "                           \"this's\": \"this is\",\"that'd\": \"that would\", \"that'd've\": \"that would have\", \"that's\": \"that is\", \"there'd\": \"there would\",\n",
        "                           \"there'd've\": \"there would have\", \"there's\": \"there is\", \"here's\": \"here is\",\"they'd\": \"they would\", \"they'd've\": \"they would have\",\n",
        "                           \"they'll\": \"they will\", \"they'll've\": \"they will have\", \"they're\": \"they are\", \"they've\": \"they have\", \"to've\": \"to have\",\n",
        "                           \"wasn't\": \"was not\", \"we'd\": \"we would\", \"we'd've\": \"we would have\", \"we'll\": \"we will\", \"we'll've\": \"we will have\", \"we're\": \"we are\",\n",
        "                           \"we've\": \"we have\", \"weren't\": \"were not\", \"what'll\": \"what will\", \"what'll've\": \"what will have\", \"what're\": \"what are\",\n",
        "                           \"what's\": \"what is\", \"what've\": \"what have\", \"when's\": \"when is\", \"when've\": \"when have\", \"where'd\": \"where did\", \"where's\": \"where is\",\n",
        "                           \"where've\": \"where have\", \"who'll\": \"who will\", \"who'll've\": \"who will have\", \"who's\": \"who is\", \"who've\": \"who have\",\n",
        "                           \"why's\": \"why is\", \"why've\": \"why have\", \"will've\": \"will have\", \"won't\": \"will not\", \"won't've\": \"will not have\",\n",
        "                           \"would've\": \"would have\", \"wouldn't\": \"would not\", \"wouldn't've\": \"would not have\", \"y'all\": \"you all\",\n",
        "                           \"y'all'd\": \"you all would\",\"y'all'd've\": \"you all would have\",\"y'all're\": \"you all are\",\"y'all've\": \"you all have\",\n",
        "                           \"you'd\": \"you would\", \"you'd've\": \"you would have\", \"you'll\": \"you will\", \"you'll've\": \"you will have\",\n",
        "                           \"you're\": \"you are\", \"you've\": \"you have\"}\n",
        "\n",
        "print(\"정규화 사전의 수: \", len(contractions))"
      ],
      "metadata": {
        "colab": {
          "base_uri": "https://localhost:8080/"
        },
        "id": "GlHqXmq1mGd5",
        "outputId": "043b868e-2d03-4bb9-f973-c2fadb2c5d03"
      },
      "execution_count": 13,
      "outputs": [
        {
          "output_type": "stream",
          "name": "stdout",
          "text": [
            "정규화 사전의 수:  120\n"
          ]
        }
      ]
    },
    {
      "cell_type": "code",
      "source": [
        "print('불용어 개수 :', len(stopwords.words('english') ))\n",
        "print(stopwords.words('english'))"
      ],
      "metadata": {
        "colab": {
          "base_uri": "https://localhost:8080/"
        },
        "id": "hAW47IV0mO-z",
        "outputId": "80689e5b-c5ce-427a-8f36-2e09b7e9dbd7"
      },
      "execution_count": 14,
      "outputs": [
        {
          "output_type": "stream",
          "name": "stdout",
          "text": [
            "불용어 개수 : 179\n",
            "['i', 'me', 'my', 'myself', 'we', 'our', 'ours', 'ourselves', 'you', \"you're\", \"you've\", \"you'll\", \"you'd\", 'your', 'yours', 'yourself', 'yourselves', 'he', 'him', 'his', 'himself', 'she', \"she's\", 'her', 'hers', 'herself', 'it', \"it's\", 'its', 'itself', 'they', 'them', 'their', 'theirs', 'themselves', 'what', 'which', 'who', 'whom', 'this', 'that', \"that'll\", 'these', 'those', 'am', 'is', 'are', 'was', 'were', 'be', 'been', 'being', 'have', 'has', 'had', 'having', 'do', 'does', 'did', 'doing', 'a', 'an', 'the', 'and', 'but', 'if', 'or', 'because', 'as', 'until', 'while', 'of', 'at', 'by', 'for', 'with', 'about', 'against', 'between', 'into', 'through', 'during', 'before', 'after', 'above', 'below', 'to', 'from', 'up', 'down', 'in', 'out', 'on', 'off', 'over', 'under', 'again', 'further', 'then', 'once', 'here', 'there', 'when', 'where', 'why', 'how', 'all', 'any', 'both', 'each', 'few', 'more', 'most', 'other', 'some', 'such', 'no', 'nor', 'not', 'only', 'own', 'same', 'so', 'than', 'too', 'very', 's', 't', 'can', 'will', 'just', 'don', \"don't\", 'should', \"should've\", 'now', 'd', 'll', 'm', 'o', 're', 've', 'y', 'ain', 'aren', \"aren't\", 'couldn', \"couldn't\", 'didn', \"didn't\", 'doesn', \"doesn't\", 'hadn', \"hadn't\", 'hasn', \"hasn't\", 'haven', \"haven't\", 'isn', \"isn't\", 'ma', 'mightn', \"mightn't\", 'mustn', \"mustn't\", 'needn', \"needn't\", 'shan', \"shan't\", 'shouldn', \"shouldn't\", 'wasn', \"wasn't\", 'weren', \"weren't\", 'won', \"won't\", 'wouldn', \"wouldn't\"]\n"
          ]
        }
      ]
    },
    {
      "cell_type": "code",
      "source": [
        "# 데이터 전처리 함수\n",
        "def preprocess_sentence(sentence, remove_stopwords=True):\n",
        "    sentence = sentence.lower() # 텍스트 소문자화\n",
        "    sentence = BeautifulSoup(sentence, \"lxml\").text # <br />, <a href = ...> 등의 html 태그 제거\n",
        "    sentence = re.sub(r'\\([^)]*\\)', '', sentence) # 괄호로 닫힌 문자열 (...) 제거 Ex) my husband (and myself!) for => my husband for\n",
        "    sentence = re.sub('\"','', sentence) # 쌍따옴표 \" 제거\n",
        "    sentence = ' '.join([contractions[t] if t in contractions else t for t in sentence.split(\" \")]) # 약어 정규화\n",
        "    sentence = re.sub(r\"'s\\b\",\"\", sentence) # 소유격 제거. Ex) roland's -> roland\n",
        "    sentence = re.sub(\"[^a-zA-Z]\", \" \", sentence) # 영어 외 문자(숫자, 특수문자 등) 공백으로 변환\n",
        "    sentence = re.sub('[m]{2,}', 'mm', sentence) # m이 3개 이상이면 2개로 변경. Ex) ummmmmmm yeah -> umm yeah\n",
        "    \n",
        "    # 불용어 제거 (Text)\n",
        "    if remove_stopwords:\n",
        "        tokens = ' '.join(word for word in sentence.split() if not word in stopwords.words('english') if len(word) > 1)\n",
        "    # 불용어 미제거 (Summary)\n",
        "    else:\n",
        "        tokens = ' '.join(word for word in sentence.split() if len(word) > 1)\n",
        "    return tokens"
      ],
      "metadata": {
        "id": "XLLezflFm8rJ"
      },
      "execution_count": 15,
      "outputs": []
    },
    {
      "cell_type": "code",
      "source": [
        "print(data['headlines'][0])"
      ],
      "metadata": {
        "colab": {
          "base_uri": "https://localhost:8080/"
        },
        "id": "nYiccxoDnG-e",
        "outputId": "0f713454-cb4e-43a3-85e5-5f8e4e411dfc"
      },
      "execution_count": 19,
      "outputs": [
        {
          "output_type": "stream",
          "name": "stdout",
          "text": [
            "upGrad learner switches to career in ML & Al with 90% salary hike\n"
          ]
        }
      ]
    },
    {
      "cell_type": "code",
      "source": [
        "temp_text = str(data['text'][0])\n",
        "temp_summary = str(data['headlines'][0])\n",
        "\n",
        "print(\"text: \", preprocess_sentence(temp_text), '\\n orginal: ', temp_text)\n",
        "print(\"headlines:\", preprocess_sentence(temp_summary, False),'\\n orginal: ', temp_summary)  # 불용어를 제거하지 않습니다."
      ],
      "metadata": {
        "colab": {
          "base_uri": "https://localhost:8080/"
        },
        "id": "Ilf81WyUnBRJ",
        "outputId": "3e13ee4d-6ab9-41f2-b5bb-f4bb9dd921da"
      },
      "execution_count": 20,
      "outputs": [
        {
          "output_type": "stream",
          "name": "stdout",
          "text": [
            "text:  saurav kant alumnus upgrad iiit pg program machine learning artificial intelligence sr systems engineer infosys almost years work experience program upgrad degree career support helped transition data scientist tech mahindra salary hike upgrad online power learning powered lakh careers \n",
            " orginal:  Saurav Kant, an alumnus of upGrad and IIIT-B's PG Program in Machine learning and Artificial Intelligence, was a Sr Systems Engineer at Infosys with almost 5 years of work experience. The program and upGrad's 360-degree career support helped him transition to a Data Scientist at Tech Mahindra with 90% salary hike. upGrad's Online Power Learning has powered 3 lakh+ careers.\n",
            "headlines: upgrad learner switches to career in ml al with salary hike \n",
            " orginal:  upGrad learner switches to career in ML & Al with 90% salary hike\n"
          ]
        }
      ]
    },
    {
      "cell_type": "code",
      "source": [
        "clean_text = []\n",
        "\n",
        "for s in data['text']:\n",
        "    clean_text.append(preprocess_sentence(s))\n",
        "\n",
        "# 전처리 후 출력\n",
        "print(\"Text 전처리 후 결과: \", clean_text[:5])"
      ],
      "metadata": {
        "id": "X8AeKyK3oZOB",
        "colab": {
          "base_uri": "https://localhost:8080/"
        },
        "outputId": "3ec79c3c-a7ec-4fac-ed95-9b8b3fea39cd"
      },
      "execution_count": 21,
      "outputs": [
        {
          "output_type": "stream",
          "name": "stdout",
          "text": [
            "Text 전처리 후 결과:  ['saurav kant alumnus upgrad iiit pg program machine learning artificial intelligence sr systems engineer infosys almost years work experience program upgrad degree career support helped transition data scientist tech mahindra salary hike upgrad online power learning powered lakh careers', 'kunal shah credit card bill payment platform cred gave users chance win free food swiggy one year pranav kaushik delhi techie bagged reward spending cred coins users get one cred coin per rupee bill paid used avail rewards brands like ixigo bookmyshow ubereats cult fit', 'new zealand defeated india wickets fourth odi hamilton thursday win first match five match odi series india lost international match rohit sharma captaincy consecutive victories dating back march match witnessed india getting seventh lowest total odi cricket history', 'aegon life iterm insurance plan customers enjoy tax benefits premiums paid save taxes plan provides life cover age years also customers options insure critical illnesses disability accidental death benefit rider life cover age years', 'speaking sexual harassment allegations rajkumar hirani sonam kapoor said known hirani many years true metoo movement get derailed metoo movement always believe woman case need reserve judgment added hirani accused assistant worked sanju']\n"
          ]
        }
      ]
    },
    {
      "cell_type": "code",
      "source": [
        "clean_summary = []\n",
        "\n",
        "for s in data['headlines']:\n",
        "    clean_summary.append(preprocess_sentence(s, False))\n",
        "\n",
        "print(\"headlines 전처리 후 결과: \", clean_summary[:5])"
      ],
      "metadata": {
        "id": "jl5AiDRyohp_",
        "colab": {
          "base_uri": "https://localhost:8080/"
        },
        "outputId": "c7188310-86ca-4fa7-aa25-dbc0ddee4ab7"
      },
      "execution_count": 22,
      "outputs": [
        {
          "output_type": "stream",
          "name": "stdout",
          "text": [
            "headlines 전처리 후 결과:  ['upgrad learner switches to career in ml al with salary hike', 'delhi techie wins free food from swiggy for one year on cred', 'new zealand end rohit sharma led india match winning streak', 'aegon life iterm insurance plan helps customers save tax', 'have known hirani for yrs what if metoo claims are not true sonam']\n"
          ]
        }
      ]
    },
    {
      "cell_type": "markdown",
      "source": [
        "## 길이 맞추기"
      ],
      "metadata": {
        "id": "8vWUMYBft8hu"
      }
    },
    {
      "cell_type": "code",
      "source": [
        "# 길이 분포 출력\n",
        "import matplotlib.pyplot as plt\n",
        "\n",
        "text_len = [len(s.split()) for s in clean_text]\n",
        "summary_len = [len(s.split()) for s in clean_summary]\n",
        "\n",
        "print('텍스트의 최소 길이 : {}'.format(np.min(text_len)))\n",
        "print('텍스트의 최대 길이 : {}'.format(np.max(text_len)))\n",
        "print('텍스트의 평균 길이 : {}'.format(np.mean(text_len)))\n",
        "print('요약의 최소 길이 : {}'.format(np.min(summary_len)))\n",
        "print('요약의 최대 길이 : {}'.format(np.max(summary_len)))\n",
        "print('요약의 평균 길이 : {}'.format(np.mean(summary_len)))\n",
        "\n",
        "plt.subplot(1,2,1)\n",
        "plt.boxplot(text_len)\n",
        "plt.title('Text')\n",
        "plt.subplot(1,2,2)\n",
        "plt.boxplot(summary_len)\n",
        "plt.title('Summary')\n",
        "plt.tight_layout()\n",
        "plt.show()\n",
        "\n",
        "plt.title('Text')\n",
        "plt.hist(text_len, bins = 40)\n",
        "plt.xlabel('length of samples')\n",
        "plt.ylabel('number of samples')\n",
        "plt.show()\n",
        "\n",
        "plt.title('Summary')\n",
        "plt.hist(summary_len, bins = 40)\n",
        "plt.xlabel('length of samples')\n",
        "plt.ylabel('number of samples')\n",
        "plt.show()"
      ],
      "metadata": {
        "colab": {
          "base_uri": "https://localhost:8080/",
          "height": 962
        },
        "id": "8TUrz5W-t7zZ",
        "outputId": "61fc8f36-9e69-4a2a-ed60-e4c6f833a1d9"
      },
      "execution_count": null,
      "outputs": [
        {
          "output_type": "stream",
          "name": "stdout",
          "text": [
            "텍스트의 최소 길이 : 1\n",
            "텍스트의 최대 길이 : 60\n",
            "텍스트의 평균 길이 : 35.09968483123221\n",
            "요약의 최소 길이 : 1\n",
            "요약의 최대 길이 : 16\n",
            "요약의 평균 길이 : 9.299532330215534\n"
          ]
        },
        {
          "output_type": "display_data",
          "data": {
            "text/plain": [
              "<Figure size 432x288 with 2 Axes>"
            ],
            "image/png": "[encoded data removed]"
          },
          "metadata": {
            "needs_background": "light"
          }
        },
        {
          "output_type": "display_data",
          "data": {
            "text/plain": [
              "<Figure size 432x288 with 1 Axes>"
            ],
            "image/png": "[encoded data removed]"
          },
          "metadata": {
            "needs_background": "light"
          }
        },
        {
          "output_type": "display_data",
          "data": {
            "text/plain": [
              "<Figure size 432x288 with 1 Axes>"
            ],
            "image/png": "[encoded data removed]"
          },
          "metadata": {
            "needs_background": "light"
          }
        }
      ]
    },
    {
      "cell_type": "code",
      "source": [
        "\n",
        "#데이터셋과 길이를 넣으면 그 이하인 것의 비율을 출력하는 함수\n",
        "def below_threshold_len(max_len, nested_list):\n",
        "  cnt = 0\n",
        "  for s in nested_list:\n",
        "    if(len(s.split()) <= max_len):\n",
        "        cnt = cnt + 1\n",
        "  print('전체 샘플 중 길이가 %s 이하인 샘플의 비율: %s'%(max_len, (cnt / len(nested_list))))\n",
        "\n",
        "#이제 길이를 정해보아요. (이것은 임의로 정해진 것입니다.)\n",
        "below_threshold_len(41, clean_text)\n",
        "below_threshold_len(11, clean_summary)"
      ],
      "metadata": {
        "colab": {
          "base_uri": "https://localhost:8080/"
        },
        "id": "ZYVQYqWC7zNP",
        "outputId": "9686d022-4571-4d80-c854-36d05e15e37b"
      },
      "execution_count": 23,
      "outputs": [
        {
          "output_type": "stream",
          "name": "stdout",
          "text": [
            "전체 샘플 중 길이가 41 이하인 샘플의 비율: 0.9549613664091094\n",
            "전체 샘플 중 길이가 11 이하인 샘플의 비율: 0.9449877999186661\n"
          ]
        }
      ]
    },
    {
      "cell_type": "code",
      "source": [
        "#41, 11로 정하고 담아봅시다. \n",
        "#LMS에서는 조건식을 통해 array와 shape는 같고 Bool값이 들어있는 array를 데이터셋에 넣어서 하는데\n",
        "#apply 쓰는건 판다스 df거고 고쳐서 해야겠네요.\n",
        "\n",
        "text_max_len=41\n",
        "summary_max_len=11\n",
        "index_to_remain=[]\n",
        "lim_text=np.array(clean_text.copy())\n",
        "lim_summary=np.array(clean_summary.copy())\n",
        "print('maxlen 적용 전 전체 샘플수 :', len(lim_text), len(lim_summary))\n",
        "#better use np.where... but I did not planned to use numpy array so it is a bit dirty.\n",
        "\n",
        "for i, text in enumerate(lim_text):\n",
        "    index_to_remain.append(len(text.split())<=text_max_len or len(lim_summary[i].split())<=summary_max_len)\n",
        "\n",
        "lim_text=lim_text[index_to_remain]\n",
        "lim_summary=lim_summary[index_to_remain]\n",
        "\n",
        "print('maxlen 적용 전 전체 샘플수 :', len(lim_text), len(lim_summary))"
      ],
      "metadata": {
        "colab": {
          "base_uri": "https://localhost:8080/"
        },
        "id": "g-RGFGK7BqSl",
        "outputId": "51cdac45-f119-42ae-e033-1a53959ebf14"
      },
      "execution_count": 25,
      "outputs": [
        {
          "output_type": "stream",
          "name": "stdout",
          "text": [
            "maxlen 적용 전 전체 샘플수 : 98360 98360\n",
            "maxlen 적용 전 전체 샘플수 : 98130 98130\n"
          ]
        }
      ]
    },
    {
      "cell_type": "code",
      "source": [
        "#나중에 비교를 위해 original index를 저장합니다. 인덱스를 바꿀 때마다 이걸 추가할 것입니다..\n",
        "data['orig_index']=range(len(data))\n",
        "print(data.tail())"
      ],
      "metadata": {
        "colab": {
          "base_uri": "https://localhost:8080/"
        },
        "id": "UEQYkOT4O1dN",
        "outputId": "2eda70ba-8a54-4653-f21e-8e5ea05df105"
      },
      "execution_count": 28,
      "outputs": [
        {
          "output_type": "stream",
          "name": "stdout",
          "text": [
            "                                               headlines  \\\n",
            "98396  CRPF jawan axed to death by Maoists in Chhatti...   \n",
            "98397  First song from Sonakshi Sinha's 'Noor' titled...   \n",
            "98398         'The Matrix' film to get a reboot: Reports   \n",
            "98399  Snoop Dogg aims gun at clown dressed as Trump ...   \n",
            "98400  Madhesi Morcha withdraws support to Nepalese g...   \n",
            "\n",
            "                                                    text  orig_index  \n",
            "98396  A CRPF jawan was on Tuesday axed to death with...       98355  \n",
            "98397  'Uff Yeh', the first song from the Sonakshi Si...       98356  \n",
            "98398  According to reports, a new version of the 199...       98357  \n",
            "98399  A new music video shows rapper Snoop Dogg aimi...       98358  \n",
            "98400  Madhesi Morcha, an alliance of seven political...       98359  \n"
          ]
        }
      ]
    },
    {
      "cell_type": "code",
      "source": [
        "print(len(index_to_remain), len(data), len(lim_text),len(lim_summary), len(clean_text))"
      ],
      "metadata": {
        "colab": {
          "base_uri": "https://localhost:8080/"
        },
        "id": "N_g0ye5AZVK5",
        "outputId": "5b968b79-1c5a-4a9f-da33-492099dcf547"
      },
      "execution_count": 29,
      "outputs": [
        {
          "output_type": "stream",
          "name": "stdout",
          "text": [
            "98360 98360 98130 98130 98360\n"
          ]
        }
      ]
    },
    {
      "cell_type": "markdown",
      "source": [
        "index_to_remain을 통해 여러 열을 제거했습니다. 이것을 어떻게 하면 data (pandas dataframe)에 넣을 수 있을까요? 그냥 dataframe에서도 지우도록 하겠습니다."
      ],
      "metadata": {
        "id": "oXWSD1cYaDAb"
      }
    },
    {
      "cell_type": "code",
      "source": [
        "data=data[index_to_remain]\n",
        "print(len(data))"
      ],
      "metadata": {
        "colab": {
          "base_uri": "https://localhost:8080/"
        },
        "id": "EtQHG15pab-9",
        "outputId": "44ccb0e7-e902-496d-9acf-8f2bb1161b32"
      },
      "execution_count": 30,
      "outputs": [
        {
          "output_type": "stream",
          "name": "stdout",
          "text": [
            "98130\n"
          ]
        }
      ]
    },
    {
      "cell_type": "markdown",
      "source": [
        "## summary에 시작/종료 토큰 추가하기\n",
        "decoder는 input으로 시작 토큰이 있는 문자열을 받아 output으로 종료 토큰이 있는 문자열을 내놔야 합니다. 문자열은 그냥 더하면 됩니다."
      ],
      "metadata": {
        "id": "91j6cC70Wnmj"
      }
    },
    {
      "cell_type": "code",
      "source": [
        "decoder_input=['sostoken '+x for x in lim_summary]\n",
        "decoder_target=[x+' eostoken' for x in lim_summary]\n",
        "\n",
        "print(type(decoder_input), type(decoder_target), type(lim_text))\n"
      ],
      "metadata": {
        "colab": {
          "base_uri": "https://localhost:8080/"
        },
        "id": "ehyjrW5WWeiq",
        "outputId": "b8d2d918-08d4-42fd-9c82-eb031df56f1e"
      },
      "execution_count": 34,
      "outputs": [
        {
          "output_type": "stream",
          "name": "stdout",
          "text": [
            "<class 'list'> <class 'list'> <class 'numpy.ndarray'>\n"
          ]
        }
      ]
    },
    {
      "cell_type": "code",
      "source": [
        "#lms와 같이 일단 numpy array로 저장하겠습니다.\n",
        "decoder_input=np.array(decoder_input)\n",
        "decoder_target=np.array(decoder_target)"
      ],
      "metadata": {
        "id": "LsqGQQahnfzf"
      },
      "execution_count": 35,
      "outputs": []
    },
    {
      "cell_type": "markdown",
      "source": [
        "## train - valid data set 분리"
      ],
      "metadata": {
        "id": "Nvt2bDppvI0_"
      }
    },
    {
      "cell_type": "code",
      "source": [
        "#먼저 numpy를 이용해 shuffle합니다.\n",
        "indices = np.arange(decoder_input.shape[0])\n",
        "np.random.shuffle(indices)\n",
        "encoder_input = np.array(lim_text[indices])\n",
        "decoder_input = decoder_input[indices]\n",
        "decoder_target = decoder_target[indices]"
      ],
      "metadata": {
        "id": "sCKCBW_oM-BM"
      },
      "execution_count": 36,
      "outputs": []
    },
    {
      "cell_type": "code",
      "source": [
        "print(decoder_input)"
      ],
      "metadata": {
        "id": "DUsnto9-68MA",
        "colab": {
          "base_uri": "https://localhost:8080/"
        },
        "outputId": "f8e5dbb3-8d5b-4f64-ed21-73c5266a9286"
      },
      "execution_count": 39,
      "outputs": [
        {
          "output_type": "stream",
          "name": "stdout",
          "text": [
            "['sostoken man chopped body found in delhi drain'\n",
            " 'sostoken how did bjp persuade regional parties in goa to form govt'\n",
            " 'sostoken india embassy phone lines in us used to scam people of money'\n",
            " ...\n",
            " 'sostoken raise national flags to promote patriotism china to mosques'\n",
            " 'sostoken dmk protests against tn guv for holding meetings like cm'\n",
            " 'sostoken mumbai based automaker unveils india first hypercar shul']\n"
          ]
        }
      ]
    },
    {
      "cell_type": "markdown",
      "source": [
        "이번에는 dataframe을 어떻게 해야 할까요? shuffle된 indices array가 있는데, decoder_input[0]에 들어간 것은 indices[0]의 값을 인덱스로 하는 값이겠죠? 즉 data[indices[0]]의 shuffled_index를 0으로 하면 되겠습니다."
      ],
      "metadata": {
        "id": "yLM0cUf8b9QZ"
      }
    },
    {
      "cell_type": "code",
      "source": [
        "temp_shuffled_index=np.zeros(len(data))\n",
        "for i, val in enumerate(indices):\n",
        "    temp_shuffled_index[val]=i\n",
        "data['shuffled_index']=temp_shuffled_index\n",
        "data.head()"
      ],
      "metadata": {
        "colab": {
          "base_uri": "https://localhost:8080/",
          "height": 206
        },
        "id": "wfT-VJ2Eci4U",
        "outputId": "456738ae-dc73-4cba-98bc-8ccb7ffb302d"
      },
      "execution_count": 38,
      "outputs": [
        {
          "output_type": "execute_result",
          "data": {
            "text/plain": [
              "                                           headlines  \\\n",
              "0  upGrad learner switches to career in ML & Al w...   \n",
              "2  New Zealand end Rohit Sharma-led India's 12-ma...   \n",
              "3  Aegon life iTerm insurance plan helps customer...   \n",
              "4  Have known Hirani for yrs, what if MeToo claim...   \n",
              "5  Rahat Fateh Ali Khan denies getting notice for...   \n",
              "\n",
              "                                                text  orig_index  \\\n",
              "0  Saurav Kant, an alumnus of upGrad and IIIT-B's...           0   \n",
              "2  New Zealand defeated India by 8 wickets in the...           2   \n",
              "3  With Aegon Life iTerm Insurance plan, customer...           3   \n",
              "4  Speaking about the sexual harassment allegatio...           4   \n",
              "5  Pakistani singer Rahat Fateh Ali Khan has deni...           5   \n",
              "\n",
              "   shuffled_index  \n",
              "0          6195.0  \n",
              "2         44589.0  \n",
              "3         23081.0  \n",
              "4         49995.0  \n",
              "5         93173.0  "
            ],
            "text/html": [
              "\n",
              "  <div id=\"df-8db1d857-0bfc-4b5d-86c7-d1de5a71403c\">\n",
              "    <div class=\"colab-df-container\">\n",
              "      <div>\n",
              "<style scoped>\n",
              "    .dataframe tbody tr th:only-of-type {\n",
              "        vertical-align: middle;\n",
              "    }\n",
              "\n",
              "    .dataframe tbody tr th {\n",
              "        vertical-align: top;\n",
              "    }\n",
              "\n",
              "    .dataframe thead th {\n",
              "        text-align: right;\n",
              "    }\n",
              "</style>\n",
              "<table border=\"1\" class=\"dataframe\">\n",
              "  <thead>\n",
              "    <tr style=\"text-align: right;\">\n",
              "      <th></th>\n",
              "      <th>headlines</th>\n",
              "      <th>text</th>\n",
              "      <th>orig_index</th>\n",
              "      <th>shuffled_index</th>\n",
              "    </tr>\n",
              "  </thead>\n",
              "  <tbody>\n",
              "    <tr>\n",
              "      <th>0</th>\n",
              "      <td>upGrad learner switches to career in ML &amp; Al w...</td>\n",
              "      <td>Saurav Kant, an alumnus of upGrad and IIIT-B's...</td>\n",
              "      <td>0</td>\n",
              "      <td>6195.0</td>\n",
              "    </tr>\n",
              "    <tr>\n",
              "      <th>2</th>\n",
              "      <td>New Zealand end Rohit Sharma-led India's 12-ma...</td>\n",
              "      <td>New Zealand defeated India by 8 wickets in the...</td>\n",
              "      <td>2</td>\n",
              "      <td>44589.0</td>\n",
              "    </tr>\n",
              "    <tr>\n",
              "      <th>3</th>\n",
              "      <td>Aegon life iTerm insurance plan helps customer...</td>\n",
              "      <td>With Aegon Life iTerm Insurance plan, customer...</td>\n",
              "      <td>3</td>\n",
              "      <td>23081.0</td>\n",
              "    </tr>\n",
              "    <tr>\n",
              "      <th>4</th>\n",
              "      <td>Have known Hirani for yrs, what if MeToo claim...</td>\n",
              "      <td>Speaking about the sexual harassment allegatio...</td>\n",
              "      <td>4</td>\n",
              "      <td>49995.0</td>\n",
              "    </tr>\n",
              "    <tr>\n",
              "      <th>5</th>\n",
              "      <td>Rahat Fateh Ali Khan denies getting notice for...</td>\n",
              "      <td>Pakistani singer Rahat Fateh Ali Khan has deni...</td>\n",
              "      <td>5</td>\n",
              "      <td>93173.0</td>\n",
              "    </tr>\n",
              "  </tbody>\n",
              "</table>\n",
              "</div>\n",
              "      <button class=\"colab-df-convert\" onclick=\"convertToInteractive('df-8db1d857-0bfc-4b5d-86c7-d1de5a71403c')\"\n",
              "              title=\"Convert this dataframe to an interactive table.\"\n",
              "              style=\"display:none;\">\n",
              "        \n",
              "  <svg xmlns=\"http://www.w3.org/2000/svg\" height=\"24px\"viewBox=\"0 0 24 24\"\n",
              "       width=\"24px\">\n",
              "    <path d=\"M0 0h24v24H0V0z\" fill=\"none\"/>\n",
              "    <path d=\"M18.56 5.44l.94 2.06.94-2.06 2.06-.94-2.06-.94-.94-2.06-.94 2.06-2.06.94zm-11 1L8.5 8.5l.94-2.06 2.06-.94-2.06-.94L8.5 2.5l-.94 2.06-2.06.94zm10 10l.94 2.06.94-2.06 2.06-.94-2.06-.94-.94-2.06-.94 2.06-2.06.94z\"/><path d=\"M17.41 7.96l-1.37-1.37c-.4-.4-.92-.59-1.43-.59-.52 0-1.04.2-1.43.59L10.3 9.45l-7.72 7.72c-.78.78-.78 2.05 0 2.83L4 21.41c.39.39.9.59 1.41.59.51 0 1.02-.2 1.41-.59l7.78-7.78 2.81-2.81c.8-.78.8-2.07 0-2.86zM5.41 20L4 18.59l7.72-7.72 1.47 1.35L5.41 20z\"/>\n",
              "  </svg>\n",
              "      </button>\n",
              "      \n",
              "  <style>\n",
              "    .colab-df-container {\n",
              "      display:flex;\n",
              "      flex-wrap:wrap;\n",
              "      gap: 12px;\n",
              "    }\n",
              "\n",
              "    .colab-df-convert {\n",
              "      background-color: #E8F0FE;\n",
              "      border: none;\n",
              "      border-radius: 50%;\n",
              "      cursor: pointer;\n",
              "      display: none;\n",
              "      fill: #1967D2;\n",
              "      height: 32px;\n",
              "      padding: 0 0 0 0;\n",
              "      width: 32px;\n",
              "    }\n",
              "\n",
              "    .colab-df-convert:hover {\n",
              "      background-color: #E2EBFA;\n",
              "      box-shadow: 0px 1px 2px rgba(60, 64, 67, 0.3), 0px 1px 3px 1px rgba(60, 64, 67, 0.15);\n",
              "      fill: #174EA6;\n",
              "    }\n",
              "\n",
              "    [theme=dark] .colab-df-convert {\n",
              "      background-color: #3B4455;\n",
              "      fill: #D2E3FC;\n",
              "    }\n",
              "\n",
              "    [theme=dark] .colab-df-convert:hover {\n",
              "      background-color: #434B5C;\n",
              "      box-shadow: 0px 1px 3px 1px rgba(0, 0, 0, 0.15);\n",
              "      filter: drop-shadow(0px 1px 2px rgba(0, 0, 0, 0.3));\n",
              "      fill: #FFFFFF;\n",
              "    }\n",
              "  </style>\n",
              "\n",
              "      <script>\n",
              "        const buttonEl =\n",
              "          document.querySelector('#df-8db1d857-0bfc-4b5d-86c7-d1de5a71403c button.colab-df-convert');\n",
              "        buttonEl.style.display =\n",
              "          google.colab.kernel.accessAllowed ? 'block' : 'none';\n",
              "\n",
              "        async function convertToInteractive(key) {\n",
              "          const element = document.querySelector('#df-8db1d857-0bfc-4b5d-86c7-d1de5a71403c');\n",
              "          const dataTable =\n",
              "            await google.colab.kernel.invokeFunction('convertToInteractive',\n",
              "                                                     [key], {});\n",
              "          if (!dataTable) return;\n",
              "\n",
              "          const docLinkHtml = 'Like what you see? Visit the ' +\n",
              "            '<a target=\"_blank\" href=https://colab.research.google.com/notebooks/data_table.ipynb>data table notebook</a>'\n",
              "            + ' to learn more about interactive tables.';\n",
              "          element.innerHTML = '';\n",
              "          dataTable['output_type'] = 'display_data';\n",
              "          await google.colab.output.renderOutput(dataTable, element);\n",
              "          const docLink = document.createElement('div');\n",
              "          docLink.innerHTML = docLinkHtml;\n",
              "          element.appendChild(docLink);\n",
              "        }\n",
              "      </script>\n",
              "    </div>\n",
              "  </div>\n",
              "  "
            ]
          },
          "metadata": {},
          "execution_count": 38
        }
      ]
    },
    {
      "cell_type": "code",
      "source": [
        "n_of_val = int(len(encoder_input)*0.2)\n",
        "print('테스트 데이터의 수 :', n_of_val)"
      ],
      "metadata": {
        "colab": {
          "base_uri": "https://localhost:8080/"
        },
        "id": "P4PLC_ewob5C",
        "outputId": "5f6ee1c2-d43e-4bee-9aad-699a1d9277c7"
      },
      "execution_count": 40,
      "outputs": [
        {
          "output_type": "stream",
          "name": "stdout",
          "text": [
            "테스트 데이터의 수 : 19626\n"
          ]
        }
      ]
    },
    {
      "cell_type": "code",
      "source": [
        "encoder_input_train=encoder_input[:-n_of_val]\n",
        "decoder_input_train=decoder_input[:-n_of_val]\n",
        "decoder_target_train=decoder_target[:-n_of_val]\n",
        "\n",
        "encoder_input_test=encoder_input[-n_of_val:]\n",
        "decoder_input_test=decoder_input[-n_of_val:]\n",
        "decoder_target_test=decoder_target[-n_of_val:]\n",
        "\n",
        "print('훈련 데이터의 개수 :', len(encoder_input_train))\n",
        "print('훈련 레이블의 개수 :', len(decoder_input_train))\n",
        "print('테스트 데이터의 개수 :', len(encoder_input_test))\n",
        "print('테스트 레이블의 개수 :', len(decoder_input_test))"
      ],
      "metadata": {
        "colab": {
          "base_uri": "https://localhost:8080/"
        },
        "id": "jncF4xJbodYw",
        "outputId": "bb5594b2-3c57-4847-d0cc-853eda6b2b40"
      },
      "execution_count": 41,
      "outputs": [
        {
          "output_type": "stream",
          "name": "stdout",
          "text": [
            "훈련 데이터의 개수 : 78504\n",
            "훈련 레이블의 개수 : 78504\n",
            "테스트 데이터의 개수 : 19626\n",
            "테스트 레이블의 개수 : 19626\n"
          ]
        }
      ]
    },
    {
      "cell_type": "markdown",
      "source": [
        "## 정수 인코딩"
      ],
      "metadata": {
        "id": "t1Tv0mAIpfk5"
      }
    },
    {
      "cell_type": "code",
      "source": [
        "src_tokenizer = Tokenizer() # 토크나이저 정의\n",
        "src_tokenizer.fit_on_texts(encoder_input_train) # 입력된 데이터로부터 단어 집합 생성"
      ],
      "metadata": {
        "id": "-6qJJ9KLpZb3"
      },
      "execution_count": 42,
      "outputs": []
    },
    {
      "cell_type": "code",
      "source": [
        "threshold = 7\n",
        "total_cnt = len(src_tokenizer.word_index) # 단어의 수\n",
        "rare_cnt = 0 # 등장 빈도수가 threshold보다 작은 단어의 개수를 카운트\n",
        "total_freq = 0 # 훈련 데이터의 전체 단어 빈도수 총 합\n",
        "rare_freq = 0 # 등장 빈도수가 threshold보다 작은 단어의 등장 빈도수의 총 합\n",
        "\n",
        "# 단어와 빈도수의 쌍(pair)을 key와 value로 받는다.\n",
        "for key, value in src_tokenizer.word_counts.items():\n",
        "    total_freq = total_freq + value\n",
        "\n",
        "    # 단어의 등장 빈도수가 threshold보다 작으면\n",
        "    if(value < threshold):\n",
        "        rare_cnt = rare_cnt + 1\n",
        "        rare_freq = rare_freq + value\n",
        "\n",
        "print('단어 집합(vocabulary)의 크기 :', total_cnt)\n",
        "print('등장 빈도가 %s번 이하인 희귀 단어의 수: %s'%(threshold - 1, rare_cnt))\n",
        "print('단어 집합에서 희귀 단어를 제외시킬 경우의 단어 집합의 크기 %s'%(total_cnt - rare_cnt))\n",
        "print(\"단어 집합에서 희귀 단어의 비율:\", (rare_cnt / total_cnt)*100)\n",
        "print(\"전체 등장 빈도에서 희귀 단어 등장 빈도 비율:\", (rare_freq / total_freq)*100)"
      ],
      "metadata": {
        "colab": {
          "base_uri": "https://localhost:8080/"
        },
        "id": "C71Jd5-fqQ5_",
        "outputId": "78f14e92-1555-437f-aa31-23b9bbe1ce24"
      },
      "execution_count": 43,
      "outputs": [
        {
          "output_type": "stream",
          "name": "stdout",
          "text": [
            "단어 집합(vocabulary)의 크기 : 69469\n",
            "등장 빈도가 6번 이하인 희귀 단어의 수: 47288\n",
            "단어 집합에서 희귀 단어를 제외시킬 경우의 단어 집합의 크기 22181\n",
            "단어 집합에서 희귀 단어의 비율: 68.07065021808289\n",
            "전체 등장 빈도에서 희귀 단어 등장 빈도 비율: 3.484818325526252\n"
          ]
        }
      ]
    },
    {
      "cell_type": "code",
      "source": [
        "src_vocab = 22000\n",
        "src_tokenizer = Tokenizer(num_words=src_vocab)\n",
        "src_tokenizer.fit_on_texts(encoder_input_train) # 단어 집합 재생성\n"
      ],
      "metadata": {
        "id": "EuQjYjNAqbA2"
      },
      "execution_count": 44,
      "outputs": []
    },
    {
      "cell_type": "code",
      "source": [
        "# 텍스트 시퀀스를 정수 시퀀스로 변환 - encoder용\n",
        "encoder_input_train = src_tokenizer.texts_to_sequences(encoder_input_train) \n",
        "encoder_input_test = src_tokenizer.texts_to_sequences(encoder_input_test)\n",
        "\n",
        "# 잘 진행되었는지 샘플 출력\n",
        "print(encoder_input_train[:3])"
      ],
      "metadata": {
        "colab": {
          "base_uri": "https://localhost:8080/"
        },
        "id": "klOQkbhFqjlE",
        "outputId": "4b52133f-47b9-4e3d-a12a-994aac5f15e2"
      },
      "execution_count": 45,
      "outputs": [
        {
          "output_type": "stream",
          "name": "stdout",
          "text": [
            "[[37, 241, 655, 31, 3182, 6800, 2086, 82, 7236, 26, 62, 1379, 539, 1345, 5322, 9, 10961, 1141, 1029, 2086, 4996, 7236, 540, 1180, 637, 76, 607, 391, 9], [38, 90, 2872, 3499, 70, 80, 59, 478, 719, 464, 323, 585, 364, 4754, 1225, 1000, 284, 1177, 597, 730, 1000, 469, 585, 1299, 766, 432, 1635, 1958, 80], [11, 2087, 5, 328, 1665, 14287, 8255, 2365, 6171, 10, 179, 14287, 9819, 179, 11, 3589, 406, 7355, 4596, 1690, 3430, 7652, 84, 6536, 5, 2087, 1, 3466, 170, 2918]]\n"
          ]
        }
      ]
    },
    {
      "cell_type": "code",
      "source": [
        "#정수 시퀀스로 변환 - decoder용\n",
        "tar_tokenizer = Tokenizer()\n",
        "tar_tokenizer.fit_on_texts(decoder_input_train)\n"
      ],
      "metadata": {
        "id": "ivYkdu5MrAS7"
      },
      "execution_count": 46,
      "outputs": []
    },
    {
      "cell_type": "code",
      "source": [
        "threshold = 6\n",
        "total_cnt = len(tar_tokenizer.word_index) # 단어의 수\n",
        "rare_cnt = 0 # 등장 빈도수가 threshold보다 작은 단어의 개수를 카운트\n",
        "total_freq = 0 # 훈련 데이터의 전체 단어 빈도수 총 합\n",
        "rare_freq = 0 # 등장 빈도수가 threshold보다 작은 단어의 등장 빈도수의 총 합\n",
        "\n",
        "# 단어와 빈도수의 쌍(pair)을 key와 value로 받는다.\n",
        "for key, value in tar_tokenizer.word_counts.items():\n",
        "    total_freq = total_freq + value\n",
        "\n",
        "    # 단어의 등장 빈도수가 threshold보다 작으면\n",
        "    if(value < threshold):\n",
        "        rare_cnt = rare_cnt + 1\n",
        "        rare_freq = rare_freq + value\n",
        "\n",
        "print('단어 집합(vocabulary)의 크기 :', total_cnt)\n",
        "print('등장 빈도가 %s번 이하인 희귀 단어의 수: %s'%(threshold - 1, rare_cnt))\n",
        "print('단어 집합에서 희귀 단어를 제외시킬 경우의 단어 집합의 크기 %s'%(total_cnt - rare_cnt))\n",
        "print(\"단어 집합에서 희귀 단어의 비율:\", (rare_cnt / total_cnt)*100)\n",
        "print(\"전체 등장 빈도에서 희귀 단어 등장 빈도 비율:\", (rare_freq / total_freq)*100)"
      ],
      "metadata": {
        "colab": {
          "base_uri": "https://localhost:8080/"
        },
        "id": "iOEspXg7rGa2",
        "outputId": "8b92005a-6daa-4ce6-e129-2e2913d30527"
      },
      "execution_count": 47,
      "outputs": [
        {
          "output_type": "stream",
          "name": "stdout",
          "text": [
            "단어 집합(vocabulary)의 크기 : 30058\n",
            "등장 빈도가 5번 이하인 희귀 단어의 수: 19642\n",
            "단어 집합에서 희귀 단어를 제외시킬 경우의 단어 집합의 크기 10416\n",
            "단어 집합에서 희귀 단어의 비율: 65.34699580810434\n",
            "전체 등장 빈도에서 희귀 단어 등장 빈도 비율: 4.64297610099962\n"
          ]
        }
      ]
    },
    {
      "cell_type": "code",
      "source": [
        "tar_vocab = 10000\n",
        "tar_tokenizer = Tokenizer(num_words=tar_vocab) \n",
        "tar_tokenizer.fit_on_texts(decoder_input_train)\n",
        "tar_tokenizer.fit_on_texts(decoder_target_train)\n",
        "\n",
        "# 텍스트 시퀀스를 정수 시퀀스로 변환\n",
        "decoder_input_train = tar_tokenizer.texts_to_sequences(decoder_input_train) \n",
        "decoder_target_train = tar_tokenizer.texts_to_sequences(decoder_target_train)\n",
        "decoder_input_test = tar_tokenizer.texts_to_sequences(decoder_input_test)\n",
        "decoder_target_test = tar_tokenizer.texts_to_sequences(decoder_target_test)\n",
        "\n",
        "# 잘 변환되었는지 확인\n",
        "print('input')\n",
        "print('input ',decoder_input_train[:5])\n",
        "print('target')\n",
        "print('decoder ',decoder_target_train[:5])"
      ],
      "metadata": {
        "colab": {
          "base_uri": "https://localhost:8080/"
        },
        "id": "e9sTdpqYr7at",
        "outputId": "43cbe490-725f-4b9b-801e-aeea921c876d"
      },
      "execution_count": 48,
      "outputs": [
        {
          "output_type": "stream",
          "name": "stdout",
          "text": [
            "input\n",
            "input  [[1, 20, 5188, 151, 98, 4, 27, 5659], [1, 183, 153, 32, 4396, 1598, 4, 434, 3, 1025, 23], [1, 8, 1658, 452, 3579, 4, 14, 280, 3, 560, 56, 6, 289], [1, 485, 4832, 15, 810, 6793, 153, 10, 2922, 1800, 36], [1, 4833, 78, 162, 182, 4, 318, 586, 2124]]\n",
            "target\n",
            "decoder  [[20, 5188, 151, 98, 4, 27, 5659, 2], [183, 153, 32, 4396, 1598, 4, 434, 3, 1025, 23, 2], [8, 1658, 452, 3579, 4, 14, 280, 3, 560, 56, 6, 289, 2], [485, 4832, 15, 810, 6793, 153, 10, 2922, 1800, 36, 2], [4833, 78, 162, 182, 4, 318, 586, 2124, 2]]\n"
          ]
        }
      ]
    },
    {
      "cell_type": "code",
      "source": [
        "k=0\n",
        "for i, v in tar_tokenizer.word_counts.items():\n",
        "    print(i, v)\n",
        "    k+=1\n",
        "    if k>5:\n",
        "        break"
      ],
      "metadata": {
        "colab": {
          "base_uri": "https://localhost:8080/"
        },
        "id": "9Hm-M5ZRrYpQ",
        "outputId": "98a170e8-7ed2-4597-feec-48dd0e8d90cf"
      },
      "execution_count": 49,
      "outputs": [
        {
          "output_type": "stream",
          "name": "stdout",
          "text": [
            "sostoken 78504\n",
            "man 5238\n",
            "chopped 34\n",
            "body 1116\n",
            "found 1534\n",
            "in 42292\n"
          ]
        }
      ]
    },
    {
      "cell_type": "code",
      "source": [
        "# 단어 tokenizer에서 제외된 단어만 있는 문장들 삭제\n",
        "drop_train = [index for index, sentence in enumerate(decoder_input_train) if len(sentence) == 1]\n",
        "drop_test = [index for index, sentence in enumerate(decoder_input_test) if len(sentence) == 1]\n",
        "\n",
        "print('삭제할 훈련 데이터의 개수 :', len(drop_train))\n",
        "print('삭제할 테스트 데이터의 개수 :', len(drop_test))\n"
      ],
      "metadata": {
        "colab": {
          "base_uri": "https://localhost:8080/"
        },
        "id": "OzJEdM-mstwN",
        "outputId": "266edce5-dac8-4488-e1e5-a4a9283f705a"
      },
      "execution_count": 50,
      "outputs": [
        {
          "output_type": "stream",
          "name": "stdout",
          "text": [
            "삭제할 훈련 데이터의 개수 : 0\n",
            "삭제할 테스트 데이터의 개수 : 0\n"
          ]
        }
      ]
    },
    {
      "cell_type": "markdown",
      "source": [
        "원래 이런걸 했습니다만 삭제할 훈련 데이터가 없으니까 생략합니다.\n",
        "\n",
        "```python\n",
        "encoder_input_train = [sentence for index, sentence in enumerate(encoder_input_train) if index not in drop_train]\n",
        "decoder_input_train = [sentence for index, sentence in enumerate(decoder_input_train) if index not in drop_train]\n",
        "decoder_target_train = [sentence for index, sentence in enumerate(decoder_target_train) if index not in drop_train]\n",
        "\n",
        "encoder_input_test = [sentence for index, sentence in enumerate(encoder_input_test) if index not in drop_test]\n",
        "decoder_input_test = [sentence for index, sentence in enumerate(decoder_input_test) if index not in drop_test]\n",
        "decoder_target_test = [sentence for index, sentence in enumerate(decoder_target_test) if index not in drop_test]\n",
        "\n",
        "print('훈련 데이터의 개수 :', len(encoder_input_train))\n",
        "print('훈련 레이블의 개수 :', len(decoder_input_train))\n",
        "print('테스트 데이터의 개수 :', len(encoder_input_test))\n",
        "print('테스트 레이블의 개수 :', len(decoder_input_test))\n",
        "```"
      ],
      "metadata": {
        "id": "VO8652h4eSr4"
      }
    },
    {
      "cell_type": "code",
      "source": [
        "#padding\n",
        "encoder_input_train = pad_sequences(encoder_input_train, maxlen=text_max_len, padding='post')\n",
        "encoder_input_test = pad_sequences(encoder_input_test, maxlen=text_max_len, padding='post')\n",
        "decoder_input_train = pad_sequences(decoder_input_train, maxlen=summary_max_len, padding='post')\n",
        "decoder_target_train = pad_sequences(decoder_target_train, maxlen=summary_max_len, padding='post')\n",
        "decoder_input_test = pad_sequences(decoder_input_test, maxlen=summary_max_len, padding='post')\n",
        "decoder_target_test = pad_sequences(decoder_target_test, maxlen=summary_max_len, padding='post')\n"
      ],
      "metadata": {
        "id": "_cnefCaFtF7v"
      },
      "execution_count": 51,
      "outputs": []
    },
    {
      "cell_type": "markdown",
      "source": [
        "# 3. 추상적 요약: 어텐션 메커니즘 사용하기"
      ],
      "metadata": {
        "id": "qDzAl1JClLmp"
      }
    },
    {
      "cell_type": "code",
      "source": [
        "## 일단 이대로 추출적 요약 해보기\n",
        "from tensorflow.keras.layers import Input, LSTM, Embedding, Dense, Concatenate, TimeDistributed\n",
        "from tensorflow.keras.models import Model\n",
        "from tensorflow.keras.callbacks import EarlyStopping, ModelCheckpoint\n",
        "from tensorflow.keras.layers import AdditiveAttention\n",
        "\n",
        "\n",
        "# 인코더 설계 시작\n",
        "embedding_dim = 128\n",
        "hidden_size = 256\n",
        "\n",
        "# 인코더\n",
        "encoder_inputs = Input(shape=(text_max_len,))\n",
        "\n",
        "# 인코더의 임베딩 층\n",
        "enc_emb = Embedding(src_vocab, embedding_dim)(encoder_inputs)\n",
        "\n",
        "# 인코더의 LSTM 1\n",
        "# encoder_lstm1 = LSTM(hidden_size, return_sequences=True, return_state=True ,dropout = 0.4, recurrent_dropout = 0.4)\n",
        "encoder_lstm1 = LSTM(hidden_size, return_sequences=True, return_state=True ,dropout = 0.4)\n",
        "encoder_output1, state_h1, state_c1 = encoder_lstm1(enc_emb)\n",
        "\n",
        "# 인코더의 LSTM 2\n",
        "# encoder_lstm2 = LSTM(hidden_size, return_sequences=True, return_state=True, dropout=0.4, recurrent_dropout=0.4)\n",
        "encoder_lstm2 = LSTM(hidden_size, return_sequences=True, return_state=True, dropout=0.4)\n",
        "encoder_output2, state_h2, state_c2 = encoder_lstm2(encoder_output1)\n",
        "\n",
        "# 인코더의 LSTM 3\n",
        "# encoder_lstm3 = LSTM(hidden_size, return_state=True, return_sequences=True, dropout=0.4, recurrent_dropout=0.4)\n",
        "encoder_lstm3 = LSTM(hidden_size, return_state=True, return_sequences=True, dropout=0.4)\n",
        "encoder_outputs, state_h, state_c= encoder_lstm3(encoder_output2)\n",
        "\n",
        "# 디코더 설계\n",
        "decoder_inputs = Input(shape=(None,))\n",
        "\n",
        "# 디코더의 임베딩 층\n",
        "dec_emb_layer = Embedding(tar_vocab, embedding_dim)\n",
        "dec_emb = dec_emb_layer(decoder_inputs)\n",
        "\n",
        "# 디코더의 LSTM\n",
        "# decoder_lstm = LSTM(hidden_size, return_sequences=True, return_state=True, dropout=0.4, recurrent_dropout=0.2)\n",
        "decoder_lstm = LSTM(hidden_size, return_sequences=True, return_state=True, dropout=0.4)\n",
        "decoder_outputs, _, _ = decoder_lstm(dec_emb, initial_state=[state_h, state_c])\n",
        "\n",
        "\n",
        "# 어텐션 층(어텐션 함수)\n",
        "attn_layer = AdditiveAttention(name='attention_layer')\n",
        "\n",
        "# 인코더와 디코더의 모든 time step의 hidden state를 어텐션 층에 전달하고 결과를 리턴\n",
        "attn_out = attn_layer([decoder_outputs, encoder_outputs])\n",
        "\n",
        "\n",
        "# 어텐션의 결과와 디코더의 hidden state들을 연결\n",
        "decoder_concat_input = Concatenate(axis=-1, name='concat_layer')([decoder_outputs, attn_out])\n",
        "\n",
        "# 디코더의 출력층\n",
        "decoder_softmax_layer = Dense(tar_vocab, activation='softmax')\n",
        "decoder_softmax_outputs = decoder_softmax_layer(decoder_concat_input)\n",
        "\n",
        "# 모델 정의\n",
        "model = Model([encoder_inputs, decoder_inputs], decoder_softmax_outputs)\n",
        "model.summary()"
      ],
      "metadata": {
        "colab": {
          "base_uri": "https://localhost:8080/"
        },
        "id": "mzBhCJcXtUOn",
        "outputId": "877f2196-d2e4-4306-e5b1-a0cf86d62f16"
      },
      "execution_count": 52,
      "outputs": [
        {
          "output_type": "stream",
          "name": "stdout",
          "text": [
            "Model: \"model\"\n",
            "__________________________________________________________________________________________________\n",
            "Layer (type)                    Output Shape         Param #     Connected to                     \n",
            "==================================================================================================\n",
            "input_1 (InputLayer)            [(None, 41)]         0                                            \n",
            "__________________________________________________________________________________________________\n",
            "embedding (Embedding)           (None, 41, 128)      2816000     input_1[0][0]                    \n",
            "__________________________________________________________________________________________________\n",
            "lstm (LSTM)                     [(None, 41, 256), (N 394240      embedding[0][0]                  \n",
            "__________________________________________________________________________________________________\n",
            "input_2 (InputLayer)            [(None, None)]       0                                            \n",
            "__________________________________________________________________________________________________\n",
            "lstm_1 (LSTM)                   [(None, 41, 256), (N 525312      lstm[0][0]                       \n",
            "__________________________________________________________________________________________________\n",
            "embedding_1 (Embedding)         (None, None, 128)    1280000     input_2[0][0]                    \n",
            "__________________________________________________________________________________________________\n",
            "lstm_2 (LSTM)                   [(None, 41, 256), (N 525312      lstm_1[0][0]                     \n",
            "__________________________________________________________________________________________________\n",
            "lstm_3 (LSTM)                   [(None, None, 256),  394240      embedding_1[0][0]                \n",
            "                                                                 lstm_2[0][1]                     \n",
            "                                                                 lstm_2[0][2]                     \n",
            "__________________________________________________________________________________________________\n",
            "attention_layer (AdditiveAttent (None, None, 256)    256         lstm_3[0][0]                     \n",
            "                                                                 lstm_2[0][0]                     \n",
            "__________________________________________________________________________________________________\n",
            "concat_layer (Concatenate)      (None, None, 512)    0           lstm_3[0][0]                     \n",
            "                                                                 attention_layer[0][0]            \n",
            "__________________________________________________________________________________________________\n",
            "dense (Dense)                   (None, None, 10000)  5130000     concat_layer[0][0]               \n",
            "==================================================================================================\n",
            "Total params: 11,065,360\n",
            "Trainable params: 11,065,360\n",
            "Non-trainable params: 0\n",
            "__________________________________________________________________________________________________\n"
          ]
        }
      ]
    },
    {
      "cell_type": "markdown",
      "source": [
        "### training model"
      ],
      "metadata": {
        "id": "vzWCMoCRu1GG"
      }
    },
    {
      "cell_type": "code",
      "source": [
        "model.compile(optimizer='rmsprop', loss='sparse_categorical_crossentropy')\n",
        "es = EarlyStopping(monitor='val_loss', patience=2, verbose=1)\n",
        "history = model.fit(x=[encoder_input_train, decoder_input_train], y=decoder_target_train, \\\n",
        "          validation_data=([encoder_input_test, decoder_input_test], decoder_target_test), \\\n",
        "          batch_size=256, callbacks=[es], epochs=50)"
      ],
      "metadata": {
        "colab": {
          "base_uri": "https://localhost:8080/"
        },
        "id": "O-qZFqAivC1P",
        "outputId": "a9cd087c-0cea-41a5-9251-759ee26f0b60"
      },
      "execution_count": 53,
      "outputs": [
        {
          "output_type": "stream",
          "name": "stdout",
          "text": [
            "Epoch 1/50\n",
            "307/307 [==============================] - 38s 91ms/step - loss: 6.0316 - val_loss: 5.6155\n",
            "Epoch 2/50\n",
            "307/307 [==============================] - 27s 89ms/step - loss: 5.4213 - val_loss: 5.2119\n",
            "Epoch 3/50\n",
            "307/307 [==============================] - 28s 92ms/step - loss: 5.0694 - val_loss: 4.9223\n",
            "Epoch 4/50\n",
            "307/307 [==============================] - 29s 96ms/step - loss: 4.7846 - val_loss: 4.7000\n",
            "Epoch 5/50\n",
            "307/307 [==============================] - 30s 97ms/step - loss: 4.5539 - val_loss: 4.5530\n",
            "Epoch 6/50\n",
            "307/307 [==============================] - 29s 95ms/step - loss: 4.3672 - val_loss: 4.4225\n",
            "Epoch 7/50\n",
            "307/307 [==============================] - 29s 96ms/step - loss: 4.2080 - val_loss: 4.3252\n",
            "Epoch 8/50\n",
            "307/307 [==============================] - 30s 97ms/step - loss: 4.0667 - val_loss: 4.2413\n",
            "Epoch 9/50\n",
            "307/307 [==============================] - 29s 96ms/step - loss: 3.9461 - val_loss: 4.1832\n",
            "Epoch 10/50\n",
            "307/307 [==============================] - 29s 96ms/step - loss: 3.8373 - val_loss: 4.1348\n",
            "Epoch 11/50\n",
            "307/307 [==============================] - 30s 96ms/step - loss: 3.7388 - val_loss: 4.0896\n",
            "Epoch 12/50\n",
            "307/307 [==============================] - 29s 96ms/step - loss: 3.6519 - val_loss: 4.0535\n",
            "Epoch 13/50\n",
            "307/307 [==============================] - 29s 96ms/step - loss: 3.5701 - val_loss: 4.0296\n",
            "Epoch 14/50\n",
            "307/307 [==============================] - 29s 96ms/step - loss: 3.4956 - val_loss: 4.0096\n",
            "Epoch 15/50\n",
            "307/307 [==============================] - 29s 96ms/step - loss: 3.4283 - val_loss: 3.9886\n",
            "Epoch 16/50\n",
            "307/307 [==============================] - 29s 96ms/step - loss: 3.3639 - val_loss: 3.9689\n",
            "Epoch 17/50\n",
            "307/307 [==============================] - 30s 96ms/step - loss: 3.3050 - val_loss: 3.9722\n",
            "Epoch 18/50\n",
            "307/307 [==============================] - 30s 96ms/step - loss: 3.2482 - val_loss: 3.9460\n",
            "Epoch 19/50\n",
            "307/307 [==============================] - 29s 96ms/step - loss: 3.1931 - val_loss: 3.9427\n",
            "Epoch 20/50\n",
            "307/307 [==============================] - 29s 96ms/step - loss: 3.1473 - val_loss: 3.9314\n",
            "Epoch 21/50\n",
            "307/307 [==============================] - 29s 96ms/step - loss: 3.1014 - val_loss: 3.9354\n",
            "Epoch 22/50\n",
            "307/307 [==============================] - 29s 96ms/step - loss: 3.0572 - val_loss: 3.9202\n",
            "Epoch 23/50\n",
            "307/307 [==============================] - 29s 96ms/step - loss: 3.0163 - val_loss: 3.9210\n",
            "Epoch 24/50\n",
            "307/307 [==============================] - 29s 96ms/step - loss: 2.9774 - val_loss: 3.9124\n",
            "Epoch 25/50\n",
            "307/307 [==============================] - 29s 96ms/step - loss: 2.9389 - val_loss: 3.9133\n",
            "Epoch 26/50\n",
            "307/307 [==============================] - 29s 96ms/step - loss: 2.9040 - val_loss: 3.9166\n",
            "Epoch 00026: early stopping\n"
          ]
        }
      ]
    },
    {
      "cell_type": "code",
      "source": [
        "plt.plot(history.history['loss'], label='train')\n",
        "plt.plot(history.history['val_loss'], label='test')\n",
        "plt.legend()\n",
        "plt.show()"
      ],
      "metadata": {
        "colab": {
          "base_uri": "https://localhost:8080/",
          "height": 265
        },
        "id": "8XgSxEHcvFY0",
        "outputId": "5229d029-4ac5-4865-e88f-282c151f3fc4"
      },
      "execution_count": 54,
      "outputs": [
        {
          "output_type": "display_data",
          "data": {
            "text/plain": [
              "<Figure size 432x288 with 1 Axes>"
            ],
            "image/png": "[encoded data removed]"
          },
          "metadata": {
            "needs_background": "light"
          }
        }
      ]
    },
    {
      "cell_type": "markdown",
      "source": [
        "# 4. 추상적 요약: 실제 결과와 요약문 비교하기"
      ],
      "metadata": {
        "id": "voPn_BiDlZPH"
      }
    },
    {
      "cell_type": "code",
      "source": [
        "#인퍼런스 모델 구현\n",
        "src_index_to_word = src_tokenizer.index_word # 원문 단어 집합에서 정수 -> 단어를 얻음\n",
        "tar_word_to_index = tar_tokenizer.word_index # 요약 단어 집합에서 단어 -> 정수를 얻음\n",
        "tar_index_to_word = tar_tokenizer.index_word # 요약 단어 집합에서 정수 -> 단어를 얻음\n",
        "\n",
        "# 인코더 설계\n",
        "encoder_model = Model(inputs=encoder_inputs, outputs=[encoder_outputs, state_h, state_c])\n",
        "\n",
        "# 이전 시점의 상태들을 저장하는 텐서\n",
        "decoder_state_input_h = Input(shape=(hidden_size,))\n",
        "decoder_state_input_c = Input(shape=(hidden_size,))\n",
        "\n",
        "dec_emb2 = dec_emb_layer(decoder_inputs)\n",
        "\n",
        "# 문장의 다음 단어를 예측하기 위해서 초기 상태(initial_state)를 이전 시점의 상태로 사용. 이는 뒤의 함수 decode_sequence()에 구현\n",
        "# 훈련 과정에서와 달리 LSTM의 리턴하는 은닉 상태와 셀 상태인 state_h와 state_c를 버리지 않음.\n",
        "decoder_outputs2, state_h2, state_c2 = decoder_lstm(dec_emb2, initial_state=[decoder_state_input_h, decoder_state_input_c])\n",
        "\n",
        "# 어텐션 함수\n",
        "decoder_hidden_state_input = Input(shape=(text_max_len, hidden_size))\n",
        "attn_out_inf = attn_layer([decoder_outputs2, decoder_hidden_state_input])\n",
        "decoder_inf_concat = Concatenate(axis=-1, name='concat')([decoder_outputs2, attn_out_inf])\n",
        "\n",
        "# 디코더의 출력층\n",
        "decoder_outputs2 = decoder_softmax_layer(decoder_inf_concat) \n",
        "\n",
        "# 최종 디코더 모델\n",
        "decoder_model = Model(\n",
        "    [decoder_inputs] + [decoder_hidden_state_input,decoder_state_input_h, decoder_state_input_c],\n",
        "    [decoder_outputs2] + [state_h2, state_c2])\n",
        "\n",
        "def decode_sequence(input_seq):\n",
        "    # 입력으로부터 인코더의 상태를 얻음\n",
        "    e_out, e_h, e_c = encoder_model.predict(input_seq)\n",
        "\n",
        "     # <SOS>에 해당하는 토큰 생성\n",
        "    target_seq = np.zeros((1,1))\n",
        "    target_seq[0, 0] = tar_word_to_index['sostoken']\n",
        "\n",
        "    stop_condition = False\n",
        "    decoded_sentence = ''\n",
        "    while not stop_condition: # stop_condition이 True가 될 때까지 루프 반복\n",
        "\n",
        "        output_tokens, h, c = decoder_model.predict([target_seq] + [e_out, e_h, e_c])\n",
        "        sampled_token_index = np.argmax(output_tokens[0, -1, :])\n",
        "        sampled_token = tar_index_to_word[sampled_token_index]\n",
        "\n",
        "        if (sampled_token!='eostoken'):\n",
        "            decoded_sentence += ' '+sampled_token\n",
        "\n",
        "        #  <eos>에 도달하거나 최대 길이를 넘으면 중단.\n",
        "        if (sampled_token == 'eostoken'  or len(decoded_sentence.split()) >= (summary_max_len-1)):\n",
        "            stop_condition = True\n",
        "\n",
        "        # 길이가 1인 타겟 시퀀스를 업데이트\n",
        "        target_seq = np.zeros((1,1))\n",
        "        target_seq[0, 0] = sampled_token_index\n",
        "\n",
        "        # 상태를 업데이트 합니다.\n",
        "        e_h, e_c = h, c\n",
        "\n",
        "    return decoded_sentence"
      ],
      "metadata": {
        "id": "jHYHbUQGvd3q"
      },
      "execution_count": 57,
      "outputs": []
    },
    {
      "cell_type": "code",
      "source": [
        "# 원문의 정수 시퀀스를 텍스트 시퀀스로 변환\n",
        "def seq2text(input_seq):\n",
        "    temp=''\n",
        "    for i in input_seq:\n",
        "        if (i!=0):\n",
        "            temp = temp + src_index_to_word[i]+' '\n",
        "    return temp\n",
        "\n",
        "# 요약문의 정수 시퀀스를 텍스트 시퀀스로 변환\n",
        "def seq2summary(input_seq):\n",
        "    temp=''\n",
        "    for i in input_seq:\n",
        "        if ((i!=0 and i!=tar_word_to_index['sostoken']) and i!=tar_word_to_index['eostoken']):\n",
        "            temp = temp + tar_index_to_word[i] + ' '\n",
        "    return temp\n"
      ],
      "metadata": {
        "id": "b9FUqqpAvxng"
      },
      "execution_count": null,
      "outputs": []
    },
    {
      "cell_type": "code",
      "source": [
        "#for i in range(50, 100):\n",
        "#    print(\"원문 :\", seq2text(encoder_input_test[i]))\n",
        "#    print(\"실제 요약 :\", seq2summary(decoder_input_test[i]))\n",
        "#    print(\"예측 요약 :\", decode_sequence(encoder_input_test[i].reshape(1, text_max_len)))\n",
        "#    print(\"\\n\")\n",
        "#아래에 같이 출력해서 생략"
      ],
      "metadata": {
        "id": "sOhDOEJKvzus"
      },
      "execution_count": null,
      "outputs": []
    },
    {
      "cell_type": "markdown",
      "source": [
        "# 5. Summa를 이용한 추출적 요약\n",
        "\n",
        "바로 위의 결과와 비교해볼까요? 그런데 전처리 전의 문장을 넣어야 합니다. 처리를 다 반복하면 되겠습니다만 실제로는 그냥 dataframe에 바뀐 인덱스를 넣었으니까 그걸 쓰겠습니다.\n",
        "\n",
        "데이터는 다음과 같은 순서로 바뀌었습니다. 이에 따라 dataframe에 'shuffled_index'와 'orig_index' column을 적절히 추가했습니다.\n",
        "\n",
        "1. data['text'] 에서 시작하면 되겠습니다. data['text'] #pandas df\n",
        "2. clean_text[i] = preprocess_sentence(data['text']) #불용어 처리\n",
        "3. lim_text[?] = clean_text[index_to_remain[i]]\n",
        "4. lim_text[?] = lim_text[indices[?]] #\n",
        "5. encoder_input\n",
        "6. encoder_input_train -> 여기서 다시 나뉩니다만 이건 신경쓰지 않아도 됩니다."
      ],
      "metadata": {
        "id": "OBcDHuRWlk_C"
      }
    },
    {
      "cell_type": "code",
      "source": [
        "#print(data['text'][55])\n",
        "#print(texts)\n",
        "#print(input_texts)\n",
        "#print(list(input_seq[0].split())[:text_max_len])"
      ],
      "metadata": {
        "id": "AjzAJRbvJyuk"
      },
      "execution_count": null,
      "outputs": []
    },
    {
      "cell_type": "code",
      "source": [
        "import requests\n",
        "from summa.summarizer import summarize\n",
        "\n",
        "for i in range(50,100):\n",
        "    k=len(data)-n_of_val+i #test를 쓰고 있으므로 이렇게 변환을 해야 합니다....\n",
        "    orig_text=str(data.loc[data.shuffled_index==float(k)]['text'].values[0])\n",
        "    orig_summary=data.loc[data.shuffled_index==float(k)]['headlines'].values[0]\n",
        "    print(\"원문 :\", orig_text)\n",
        "    print(\"실제 요약 :\", orig_summary)\n",
        "    print(\"예측 요약 :\", decode_sequence(encoder_input_test[i].reshape(1, text_max_len)))\n",
        "    for j in range(5,50):\n",
        "        summ_extract=summarize(orig_text,words=j)\n",
        "        if len(summ_extract):\n",
        "            print(\"추출적 요약 (word:\",j,\"):\", summ_extract)\n",
        "            break\n",
        "    print(\"\\n\")"
      ],
      "metadata": {
        "colab": {
          "base_uri": "https://localhost:8080/"
        },
        "id": "e5bzIxYT6JbB",
        "outputId": "e86c9dbe-e8ab-4e13-ca97-4b3a601c5ea0"
      },
      "execution_count": 73,
      "outputs": [
        {
          "output_type": "stream",
          "name": "stdout",
          "text": [
            "원문 : Puducherry Lieutenant Governor Kiran Bedi has tweeted a picture of a poster released by a Congress unit, portraying her as German dictator Adolf Hitler. The poster was allegedly released as a protest against Bedi and the Centre over the recent nomination of MLAs. Notably, three BJP members were sworn in as members of the state's Legislative Assembly on July 4.\n",
            "실제 요약 : Puducherry Congress unit's poster shows Kiran Bedi as Hitler\n",
            "예측 요약 :  congress leader posts photo of pm modi\n",
            "추출적 요약 (word: 12 ): Puducherry Lieutenant Governor Kiran Bedi has tweeted a picture of a poster released by a Congress unit, portraying her as German dictator Adolf Hitler.\n",
            "\n",
            "\n",
            "원문 : Japan's SoftBank Group's Vision Fund has led a $200 million funding in Silicon Valley indoor farming startup Plenty. Existing investors, including DCM Ventures, and funds that invest on behalf of AlphabetÃ¢ÂÂs Eric Schmidt and AmazonÃ¢ÂÂs Jeff Bezos, also participated in the funding. Plenty uses 20-foot-tall columns from which the plants grow horizontally and nutrients and water drip down the columns.\n",
            "실제 요약 : SoftBank Fund leads $200mn funding in indoor farming startup\n",
            "예측 요약 :  softbank leads mn funding in uber funding\n",
            "추출적 요약 (word: 9 ): Japan's SoftBank Group's Vision Fund has led a $200 million funding in Silicon Valley indoor farming startup Plenty.\n",
            "\n",
            "\n",
            "원문 : Reliance Jio added nearly 1.18 crore subscribers in July, 13 times more than the combined addition of 9.27 lakh by major rivals Airtel, Idea and Vodafone India. Jio, which now controls 19.6% of India's mobile subscriber base, was the only operator to gain market share. Jio touched 227 million subscribers at the end of July, surpassing Vodafone and Idea individually.\n",
            "실제 요약 : Reliance Jio adds 13 times more users than rivals in July\n",
            "예측 요약 :  reliance jio to get crore to get crore\n",
            "추출적 요약 (word: 14 ): Reliance Jio added nearly 1.18 crore subscribers in July, 13 times more than the combined addition of 9.27 lakh by major rivals Airtel, Idea and Vodafone India.\n",
            "\n",
            "\n",
            "원문 : Dr Kafeel Khan was reportedly found to be largely responsible for the shortage of oxygen gas cylinders in Gorakhpur's BRD Medical College Hospital. He was sacked from hospital duties on Sunday for Ã¢ÂÂdereliction of dutyÃ¢ÂÂ as well as Ã¢ÂÂcarrying out private practiceÃ¢ÂÂ. He had earlier made it to the headlines for his alleged efforts to save the children's lives.\n",
            "실제 요약 : UP doctor hailed for saving lives now blamed for kids' death\n",
            "예측 요약 :  hospital hospital hospital was to hospital after hospital\n",
            "추출적 요약 (word: 12 ): Dr Kafeel Khan was reportedly found to be largely responsible for the shortage of oxygen gas cylinders in Gorakhpur's BRD Medical College Hospital.\n",
            "\n",
            "\n",
            "원문 : The blending of different senses, caused by a neurological condition called 'synesthesia', lets people experience sensations such as hearing colours and tasting music. It is believed that synesthesia is caused by irregularity in neural connections, which leads to a break down of boundaries between senses. The phenomenon derives its name from a Greek word that means 'to perceive together'.\n",
            "실제 요약 : A condition lets people hear colours, taste music \n",
            "예측 요약 :  how is the new of the heart\n",
            "추출적 요약 (word: 12 ): The blending of different senses, caused by a neurological condition called 'synesthesia', lets people experience sensations such as hearing colours and tasting music.\n",
            "\n",
            "\n",
            "원문 : Over 200 carmakers selling electric vehicles in China including Tesla, Volkswagen, Daimler and Ford, send real-time location and other data to the government without car owners' knowledge, according to a report. They send at least 61 data points to government-backed monitoring platforms, it added. The firms say they're complying with local laws which apply only to alternative energy vehicles. \n",
            "실제 요약 : Tesla, Ford EVs in China send real-time data to govt: Report\n",
            "예측 요약 :  amazon offers to launch of self driving cars in\n",
            "추출적 요약 (word: 16 ): Over 200 carmakers selling electric vehicles in China including Tesla, Volkswagen, Daimler and Ford, send real-time location and other data to the government without car owners' knowledge, according to a report.\n",
            "\n",
            "\n",
            "원문 : On April 22, 1998, Sachin Tendulkar scored 143 runs off 131 balls against Australia in Sharjah to ensure India's spot in the tri-series final. The match was interrupted by a sandstorm and the knock came to be popularly known as the 'Desert Storm'. Tendulkar went on to score another hundred two days later to help India win the tri-series.\n",
            "실제 요약 : Why is Sachin's 143-run Sharjah knock called Desert Storm? \n",
            "예측 요약 :  sachin tendulkar takes wickets in innings with his last ball\n",
            "추출적 요약 (word: 12 ): On April 22, 1998, Sachin Tendulkar scored 143 runs off 131 balls against Australia in Sharjah to ensure India's spot in the tri-series final.\n",
            "\n",
            "\n",
            "원문 : A ten-year-old Great Pyrenees escaped from an animal hospital in Virginia, United States, by managing to open all the doors in his way. Surveillance video shows the dog, named General, unlatching the door to his kennel and making his way past other doors. General was later found at a house nearby.\n",
            "실제 요약 : Dog opens several doors to escape animal hospital\n",
            "예측 요약 :  year old boy opens by bear in bengaluru\n",
            "추출적 요약 (word: 10 ): Surveillance video shows the dog, named General, unlatching the door to his kennel and making his way past other doors.\n",
            "\n",
            "\n",
            "원문 : Netflix Co-founder and CEO Reed Hastings' net worth has risen nearly $400 million in the last two weeks to touch $2.2 billion after Netflix posted strong second-quarter earnings report. His roughly 3% stake in the business is now worth well above $1 billion. Hastings cofounded Netflix in 1997 with Marc Randolph, who resigned from the board in 2004.\n",
            "실제 요약 : Netflix Founder's net worth rises by $400 mn in 2 weeks\n",
            "예측 요약 :  disney ceo net worth billion from billion\n",
            "추출적 요약 (word: 15 ): Netflix Co-founder and CEO Reed Hastings' net worth has risen nearly $400 million in the last two weeks to touch $2.2 billion after Netflix posted strong second-quarter earnings report.\n",
            "\n",
            "\n",
            "원문 : Data scandal-hit Facebook has accidentally leaked sensitive business information, including new users and page views to app testers outside the company due to an \"e-mail error\". The company confirmed 3% of apps using Facebook Analytics had their weekly reports sent to app testers, instead of admins. Facebook has apologised, clarifying \"no personal information about people on Facebook was shared.\"\n",
            "실제 요약 : Facebook accidentally leaks sensitive data to third parties\n",
            "예측 요약 :  facebook suspends facebook data of users data leak\n",
            "추출적 요약 (word: 13 ): Data scandal-hit Facebook has accidentally leaked sensitive business information, including new users and page views to app testers outside the company due to an \"e-mail error\".\n",
            "\n",
            "\n",
            "원문 : Epic Games, the creator of popular battle royale game Fortnite, has apologised for adding \"embarrassing\" breast animations to a female character in the game. \"This is unintended, embarrassing, and it was careless for us to let this ship,\" an Epic spokesperson said. The company said it will roll back the changes, which were introduced in the Season 6 update. \n",
            "실제 요약 : Fortnite maker apologises for 'embarrassing' breast animation\n",
            "예측 요약 :  serena williams slammed for wearing tests\n",
            "추출적 요약 (word: 9 ): \"This is unintended, embarrassing, and it was careless for us to let this ship,\" an Epic spokesperson said.\n",
            "\n",
            "\n",
            "원문 : Dubai-based businessman Rajiv Saxena, a key accused in the Ã¢ÂÂ¹3,600 crore AgustaWestland VVIP chopper scam, on Thursday has been remanded to four-day Enforcement Directorate (ED) custody. The ED had asked for an eight-day remand of Saxena. \"We are aware of his (Rajiv Saxena) health and medical issues, every possible need will be taken care of,\"  ED counsel DP Singh said.\n",
            "실제 요약 : ED gets 4-day custody of AgustaWestland scam accused Saxena\n",
            "예측 요약 :  ed files fir against ex dubai for scam\n",
            "추출적 요약 (word: 13 ): Dubai-based businessman Rajiv Saxena, a key accused in the Ã¢ÂÂ¹3,600 crore AgustaWestland VVIP chopper scam, on Thursday has been remanded to four-day Enforcement Directorate (ED) custody.\n",
            "\n",
            "\n",
            "원문 : Dutch bank ING has agreed to pay $900 million in a settlement with prosecutors for money laundering and corrupt practices. The bank violated laws on preventing money laundering and financial terrorism Ã¢ÂÂstructurally and for yearsÃ¢ÂÂ. Of the settlement, $780 million was intended as a fine and $115.5 million as return of ill-gotten gains, the prosecutors said in a statement.\n",
            "실제 요약 : Dutch bank to pay $900 mn to settle money laundering case\n",
            "예측 요약 :  uk fined cr for money laundering\n",
            "추출적 요약 (word: 10 ): Dutch bank ING has agreed to pay $900 million in a settlement with prosecutors for money laundering and corrupt practices.\n",
            "\n",
            "\n",
            "원문 : The Ranchi Municipal Corporation on Sunday launched its 'Halla Bol Lungi Khol' campaign wherein officials snatched lungis of men who were found defecating in open, and imposed a Ã¢ÂÂ¹100 fine on them. However, the lungis were returned after defaulters pledged to never defecate in the open again. Notably, RMC will also plant saplings at around 40 identified open defecation spots.\n",
            "실제 요약 : Ranchi starts 'Halla Bol Lungi Khol' against open defecation\n",
            "예측 요약 :  luru civic body to open defecation\n",
            "추출적 요약 (word: 8 ): However, the lungis were returned after defaulters pledged to never defecate in the open again.\n",
            "\n",
            "\n",
            "원문 : The disaster management team of a municipal body recovered two unidentified bodies from the Khadavli river in Maharashtra's Kalyan Dombivli on Saturday amid heavy rainfall. Further, a 40-year-old died and a five-year-old was injured after being electrocuted in Ghatkopar. Trains operating on the Central and Western railway lines were delayed by 15-20 minutes due to the heavy rains. \n",
            "실제 요약 : 2 bodies recovered from Maharashtra river amid heavy rains\n",
            "예측 요약 :  body found in syria after hours of heavy rains\n",
            "추출적 요약 (word: 13 ): The disaster management team of a municipal body recovered two unidentified bodies from the Khadavli river in Maharashtra's Kalyan Dombivli on Saturday amid heavy rainfall.\n",
            "\n",
            "\n",
            "원문 : Congress worker Rajiv Sinha, who had filed a complaint against online series 'Sacred Games', withdrew his complaint on Monday. \"Today RahuljiÃ¢ÂÂs tweet was an eye-opener for me...Rajiv Gandhi ji and his contribution and charisma is above all these petty things,\" he said. Congress President Rahul Gandhi had tweeted that a fictional web series cannot change people's perception of his father.\n",
            "실제 요약 : Rahul's tweet eye-opener: Man withdraws complaint against Sacred Games\n",
            "예측 요약 :  congress denies reports of false row against india\n",
            "추출적 요약 (word: 9 ): Congress President Rahul Gandhi had tweeted that a fictional web series cannot change people's perception of his father.\n",
            "\n",
            "\n",
            "원문 : Former Pakistani captain Younis Khan has dismissed any rumours surrounding his retirement and asked his fans and followers to not question his credibility. \"Even if I score a hundred in all innings of all Tests against West Indies, I will still retire,\" Younis said in a video post. Rumours had claimed that Younis was reconsidering his retirement from cricket.\n",
            "실제 요약 : Will retire even if I score 100 in all innings vs WI: Younis\n",
            "예측 요약 :  younis khan calls me for his match in afghanistan\n",
            "추출적 요약 (word: 6 ): Rumours had claimed that Younis was reconsidering his retirement from cricket.\n",
            "\n",
            "\n",
            "원문 : Sunrisers Hyderabad's Australian pacer Billy Stanlake, who bowled this IPL's fastest delivery at 151.38 kmph, has been ruled out of the tournament due to an injury. The 23-year-old pacer, who has bowled 39 of the tournament's 100 fastest deliveries, sustained a finger injury during his side's match against Chennai Super Kings on Sunday.\n",
            "실제 요약 : Bowler who bowled IPL 2018's fastest ball ruled out of IPL\n",
            "예측 요약 :  bowler once hit sixes in ipl match after being hit\n",
            "추출적 요약 (word: 13 ): Sunrisers Hyderabad's Australian pacer Billy Stanlake, who bowled this IPL's fastest delivery at 151.38 kmph, has been ruled out of the tournament due to an injury.\n",
            "\n",
            "\n",
            "원문 : The merger of Snapdeal with Flipkart is awaiting the approval of Tata Sons Chairman Emeritus Ratan Tata and family offices of Wipro's Chairman Azim Premji, according to a Bloomberg report. Azim Premji's private equity fund PremjiInvest, and Ratan Tata, both are investors of Snapdeal. Interestingly, VC firm Kalaari Capital is a common investor of both Snapdeal and Flipkart.\n",
            "실제 요약 : Flipkart-Snapdeal merger said to require Tata, Premji's nod\n",
            "예측 요약 :  snapdeal to buy ratan tata for merger talks\n",
            "추출적 요약 (word: 7 ): Azim Premji's private equity fund PremjiInvest, and Ratan Tata, both are investors of Snapdeal.\n",
            "\n",
            "\n",
            "원문 : Newly-appointed Chairman of Film and Television Institute of India (FTII) Anupam Kher paid a surprise visit to the campus in Pune. \"I'm heading towards an institution where I had studied in 1978, which was very important for my foundation as an actor,\" said Anupam. He further said he didn't tell anyone as he wanted to go there as a student. \n",
            "실제 요약 : FTII Chairman Anupam Kher pays surprise visit to campus\n",
            "예측 요약 :  anupam kher to visit india in jodhpur\n",
            "추출적 요약 (word: 12 ): \"I'm heading towards an institution where I had studied in 1978, which was very important for my foundation as an actor,\" said Anupam.\n",
            "\n",
            "\n",
            "원문 : Addressing a rally in Chhattisgarh, UP CM Yogi Adityanath said, \"Congress should be asked if their relation is with Lord Ram or with foreign invader Babur.\" Claiming Congress leader Kapil Sibal had petitioned before the Supreme Court that a decision should not be taken in the Ayodhya case before 2019, he added, \"Congress has no idea about the country's respect.\"\n",
            "실제 요약 : Is Congress' relation with Lord Ram or Babur: UP CM Yogi\n",
            "예측 요약 :  cong has been adityanath\n",
            "\n",
            "\n",
            "원문 : Croatia registered a 4-3 victory on penalties in the fourth quarter-final on Saturday to knock hosts Russia out of the 2018 FIFA World Cup. This is the first time since the 1998 edition that Croatia have reached the semi-finals of the quadrennial tournament. Croatia will face the 1966 champions England in the second semi-final on Wednesday.\n",
            "실제 요약 : Croatia knock hosts Russia out of WC on penalties, reach semis\n",
            "예측 요약 :  belgium beat england to reach world cup final\n",
            "추출적 요약 (word: 22 ): Croatia registered a 4-3 victory on penalties in the fourth quarter-final on Saturday to knock hosts Russia out of the 2018 FIFA World Cup. This is the first time since the 1998 edition that Croatia have reached the semi-finals of the quadrennial tournament.\n",
            "\n",
            "\n",
            "원문 : Farhan Akhtar posted a picture on Instagram to wish his father Javed Akhtar on his 73rd birthday on Wednesday while captioning the post, \"Happy birthday pa...love you\". \"Wishing the master of wisdom & wit a very happy birthday...@Javedakhtarjadu sahab,\" tweeted Riteish Deshmukh. Meanwhile, Farah Khan tweeted, \"Easily the wittiest, handsomest and most intelligent man...at least in our family.\"\n",
            "실제 요약 : Happy birthday pa: Farhan on father Javed turning 73\n",
            "예측 요약 :  happy birthday my day abhishek on day of her birthday\n",
            "추출적 요약 (word: 8 ): \"Wishing the master of wisdom & wit a very happy birthday...@Javedakhtarjadu sahab,\" tweeted Riteish Deshmukh.\n",
            "\n",
            "\n",
            "원문 : A video shows an Amazon delivery driver throwing a package over the customer's balcony in the US. In the video, the driver is seen failing to make it land on the first attempt, and manages to throw it the second time. A spokesperson said Amazon has spoken to the delivery service provider, and \"contacted the customer to make things right.\"\n",
            "실제 요약 : Video shows Amazon delivery man throwing parcel over balcony\n",
            "예측 요약 :  video shows woman car with him\n",
            "추출적 요약 (word: 9 ): A video shows an Amazon delivery driver throwing a package over the customer's balcony in the US.\n",
            "\n",
            "\n",
            "원문 : World's richest person Jeff Bezos' aerospace startup Blue Origin has started construction of its new rocket engine-making factory in the US' Alabama. The factory will produce 'BE-4' engines, used to power its New Glenn rocket and United Launch Alliance's Vulcan Centaur rocket. It'll also build 'BE-3U' engines used to power New Glenn rocket's second stage.\n",
            "실제 요약 : Bezos' Blue Origin starts rocket engine plant's construction\n",
            "예측 요약 :  jeff bezos blue origin rocket jeff bezos rocket\n",
            "추출적 요약 (word: 10 ): The factory will produce 'BE-4' engines, used to power its New Glenn rocket and United Launch Alliance's Vulcan Centaur rocket.\n",
            "\n",
            "\n",
            "원문 : BJP's Bhairon Prasad Mishra, who is a Lok Sabha MP from Banda in Uttar Pradesh, is the most active Parliamentarian and has not missed the House for a single day. Mishra has taken part in over 1,400 debates in the House, which is also the highest ever. He has also posed over 370 queries and tabled nine Private Member Bills.\n",
            "실제 요약 : BJP's BP Mishra most active MP, has 100% attendance record\n",
            "예측 요약 :  bjp mp leaders attend visit to attend party rally\n",
            "추출적 요약 (word: 15 ): BJP's Bhairon Prasad Mishra, who is a Lok Sabha MP from Banda in Uttar Pradesh, is the most active Parliamentarian and has not missed the House for a single day.\n",
            "\n",
            "\n",
            "원문 : Street food stalls on major roads in Bangkok will remain, Thai Tourism Minister Kobkarn Wattanavrangkul announced on Wednesday. However, she said the government is planning to train street food vendors in accordance with universal hygiene standards. Earlier, reports had emerged that all kinds of stalls, including clothes and street food stalls, were being banned. \n",
            "실제 요약 : Bangkok street food stalls to stay: Tourism Minister\n",
            "예측 요약 :  residents to be closed for food food in bengaluru\n",
            "추출적 요약 (word: 9 ): Earlier, reports had emerged that all kinds of stalls, including clothes and street food stalls, were being banned.\n",
            "\n",
            "\n",
            "원문 : Chinese smartphone maker Xiaomi has launched a feature in India to let users track their phone's repair status online. Users will be able to get the repair status just by entering details like order number or contact number. The service feature, which has already been activated, is available on the company's official website 'Mi.com' under 'Service Order Status' section.\n",
            "실제 요약 : Xiaomi launches feature to track device repair status online\n",
            "예측 요약 :  xiaomi launches phone phone phone in india\n",
            "추출적 요약 (word: 10 ): Users will be able to get the repair status just by entering details like order number or contact number.\n",
            "\n",
            "\n",
            "원문 : Three Muslim graves were desecrated by unidentified miscreants in a village in Uttar Pradesh's Hathras district on Friday. In another incident, an idol of a folk deity was allegedly vandalised in the area. A village panchayat was then called to discuss the matter. However, the Muslim community has already submitted a memorandum, addressed to Governor Ram Naik, to officials.\n",
            "실제 요약 : Muslim graves, folk deity's idol vandalised in Uttar Pradesh\n",
            "예측 요약 :  up ambedkar statue vandalised in up\n",
            "추출적 요약 (word: 9 ): Three Muslim graves were desecrated by unidentified miscreants in a village in Uttar Pradesh's Hathras district on Friday.\n",
            "\n",
            "\n",
            "원문 : Speaking about the 25-year age gap between him and his wife Ankita Konwar, model-actor Milind Soman said, \"I don't really consider the age gap.\" \"Two people are...different, in terms of age, background...So there are...things that need to be understood and accepted,\" he added. \"It's important to make your partner feel comfortable and help her achieve what she wants,\" said Milind.\n",
            "실제 요약 : I don't really consider the age gap: Milind on 25 yrs younger wife\n",
            "예측 요약 :  have been lost to jail for divorce shri kamal\n",
            "추출적 요약 (word: 22 ): Speaking about the 25-year age gap between him and his wife Ankita Konwar, model-actor Milind Soman said, \"I don't really consider the age gap.\" \"Two people are...different, in terms of age, background...So there are...things that need to be understood and accepted,\" he added.\n",
            "\n",
            "\n",
            "원문 : Senior BJP leader Shatrughan Sinha on Saturday sought a ban on tobacco products, saying, \"It would have far more effective impact on human health by preventing dreaded disease like cancer.\" Speaking after laying foundation of a cancer awareness, testing and advisory centre at Kishanganj, Bihar, Sinha appreciated the liquor ban in the state while demanding such prohibition on tobacco products. \n",
            "실제 요약 : Ban tobacco items as they cause cancer: Shatrughan Sinha\n",
            "예측 요약 :  bjp may ban on of daughter\n",
            "\n",
            "\n",
            "원문 : Elon Musk-led aerospace startup SpaceX on Monday successfully launched a spy satellite into orbit for the US military. The secretive payload was launched on the startup's Falcon 9 rocket. SpaceX then landed the 14-storey-high first stage core of the rocket, which contains the main engines and fuel, back to the ground.\n",
            "실제 요약 : SpaceX successfully launches secret payload for US military\n",
            "예측 요약 :  spacex launches satellite with satellite in india\n",
            "추출적 요약 (word: 6 ): The secretive payload was launched on the startup's Falcon 9 rocket.\n",
            "\n",
            "\n",
            "원문 : Reacting to Kohli scoring his sixth Test double hundred, a user tweeted, \"Virat Kohli now scores double centuries for breakfast, lunch and dinner.\" \"Short of words to describe this man. Speechless. Wherever you are, just stand up, admire and salute the genius, that is Virat Kohli\", tweeted former Indian cricketer Mohammad Kaif.\n",
            "실제 요약 : Kohli scores 200s for breakfast, lunch, dinner, tweets user\n",
            "예측 요약 :  kohli is the most number of the world kohli\n",
            "추출적 요약 (word: 15 ): Reacting to Kohli scoring his sixth Test double hundred, a user tweeted, \"Virat Kohli now scores double centuries for breakfast, lunch and dinner.\" \"Short of words to describe this man.\n",
            "\n",
            "\n",
            "원문 : NASA is reportedly planning to send a probe to the nearest star system Alpha Centauri to study a potentially habitable exoplanet Proxima b. The mission is timed around the 100th anniversary of the first-ever manned moon landing. Being 4.4 light-years away, a spacecraft travelling at one-tenth the speed of light would take 44 years to reach Alpha Centauri.\n",
            "실제 요약 : NASA may send probe to nearest Earth-like planet in 2069\n",
            "예측 요약 :  nasa develops spacecraft to mars for mars mission\n",
            "추출적 요약 (word: 12 ): NASA is reportedly planning to send a probe to the nearest star system Alpha Centauri to study a potentially habitable exoplanet Proxima b.\n",
            "\n",
            "\n",
            "원문 : Police have arrested a man for allegedly raping his two minor daughters over the last six months in Gurugram. He used to rape them in the absence of their mother, one of the victims said. The man's 15-year-old daughter complained against him after she came to know that he had sexually assaulted her 12-year-old sister as well.\n",
            "실제 요약 : Father arrested for raping 2 minor daughters in Gurugram\n",
            "예측 요약 :  year old arrested for raping year old in delhi\n",
            "추출적 요약 (word: 10 ): Police have arrested a man for allegedly raping his two minor daughters over the last six months in Gurugram.\n",
            "\n",
            "\n",
            "원문 : A man who has been operating a JCB machine for a decade, Karnataka's Chethan Kallakatta took his newlywed bride home in a JCB machine decorated with balloons. \"She was scared and refused to sit on it,\" said Kallakatta. His wife agreed to sit on the machine when Kallakatta assured he has been working with the machine every day for years.\n",
            "실제 요약 : JCB operator takes wife home in JCB machine after wedding\n",
            "예측 요약 :  man who was to family with family\n",
            "추출적 요약 (word: 11 ): His wife agreed to sit on the machine when Kallakatta assured he has been working with the machine every day for years.\n",
            "\n",
            "\n",
            "원문 : Ajay Devgn revealed that his daughter Nysa is his \"harshest critic\", while adding, \"My wife (Kajol) doesn't have the guts to (criticise my films), but my daughter does...She doesn't spare me.\" Earlier, Devgn had revealed that his wife Kajol was the stricter one with their children Nysa and Yug, while he is the one who gave them whatever they wanted. \n",
            "실제 요약 : Kajol doesn't have guts to criticise me but Nysa does: Devgn\n",
            "예측 요약 :  my daughter is not good for my marriage says ekta\n",
            "\n",
            "\n",
            "원문 : Bank of England Governor Mark Carney became a British citizen on Wednesday, fulfilling a promise made when he accepted the job in 2012. The 53-year-old Canadian central banker, who is married to British economist Diana Fox, already had an Irish passport. The first foreign Governor in Bank of England's 300-year history, Carney is due to step down in January 2020.  \n",
            "실제 요약 : Bank of England Governor fulfils promise by becoming UK citizen\n",
            "예측 요약 :  uk bank of year old indian leader\n",
            "추출적 요약 (word: 10 ): The first foreign Governor in Bank of England's 300-year history, Carney is due to step down in January 2020.\n",
            "\n",
            "\n",
            "원문 : A message reading 'Thanks' was seen painted on a rooftop of a house in Kochi from where the Naval ALH piloted by Commander Vijay Varma had rescued two women, including a pregnant woman, on August 17. The pregnant woman, who was about to give birth, was flown to the Navy's Sanjivani Hospital, where she delivered a baby boy.\n",
            "실제 요약 : Ã¢ÂÂThanksÃ¢ÂÂ seen on Kerala rooftop where Navy rescued pregnant woman\n",
            "예측 요약 :  mumbai mayor travels to welcome woman\n",
            "추출적 요약 (word: 18 ): A message reading 'Thanks' was seen painted on a rooftop of a house in Kochi from where the Naval ALH piloted by Commander Vijay Varma had rescued two women, including a pregnant woman, on August 17.\n",
            "\n",
            "\n",
            "원문 : Police officers wrestled a bus hijacker to the ground after he ploughed the vehicle into pedestrians in China's Fujian province on Tuesday. At least 5 people have been killed and 21 others have been injured in the attack. An investigation into the incident is underway and the hijacker, who was reportedly carrying a knife, has been detained.\n",
            "실제 요약 : Police wrestle bus hijacker to ground after he kills 5 in China\n",
            "예측 요약 :  killed in attack on duty in china\n",
            "추출적 요약 (word: 11 ): Police officers wrestled a bus hijacker to the ground after he ploughed the vehicle into pedestrians in China's Fujian province on Tuesday.\n",
            "\n",
            "\n",
            "원문 : The Tripura Police has arrested the prime suspect and seven others in connection with the murder of the man appointed by the state government to run the anti-rumour campaign. The police said that the prime suspect was present at the spot of the incident from the beginning to the end and a video shows him beating the victim mercilessly.\n",
            "실제 요약 : Prime suspect held for Tripura anti-rumour activistÃ¢ÂÂs murder\n",
            "예측 요약 :  arrested for murder of pm modi in bangladesh\n",
            "추출적 요약 (word: 15 ): The Tripura Police has arrested the prime suspect and seven others in connection with the murder of the man appointed by the state government to run the anti-rumour campaign.\n",
            "\n",
            "\n",
            "원문 : Indian tennis player Sania Mirza, who was ruled out of the upcoming Australian Open, recently visited Lahore with husband and Pakistan all-rounder Shoaib Malik. Mirza attended a dinner hosted by veteran all-rounder Mohammad Hafeez and met members of the Pakistan cricket team before they departed for New Zealand. Mirza also caught up with Pakistani actresses Urwa and Mawra Hocane.\n",
            "실제 요약 : Sania meets husband Shoaib Malik's teammates in Lahore\n",
            "예측 요약 :  sania mirza meets sania mirza for shoaib in pakistan\n",
            "추출적 요약 (word: 12 ): Mirza attended a dinner hosted by veteran all-rounder Mohammad Hafeez and met members of the Pakistan cricket team before they departed for New Zealand.\n",
            "\n",
            "\n",
            "원문 : A university in Uttar Pradesh's Faizabad allegedly issued an admit card to a student with the picture of Bollywood actor Amitabh Bachchan on it. The college administration said the student himself or the internet cafe, where he filled up the examination form might have committed the error. However, the student claimed he had used his own picture.\n",
            "실제 요약 : Student issued admit card with Amitabh Bachchan's image in UP\n",
            "예측 요약 :  up varsity students booked for varsity for book\n",
            "추출적 요약 (word: 5 ): However, the student claimed he had used his own picture.\n",
            "\n",
            "\n",
            "원문 : The Saudi Ministry of Culture pulled a novel by an award-winning author from bookstores on Thursday and opened an investigation into the matter after readers denounced some of its passages as pornographic. The fiction novel, Thursday's Visitors by Badriyah al-Bishr, chronicles a young woman's journey of self-discovery through Thursday get-togethers where women share their joys and sorrows. n\n",
            "실제 요약 : Saudi recalls book after readers call it pornographic\n",
            "예측 요약 :  ec wins un film over sexual harassment row\n",
            "추출적 요약 (word: 16 ): The Saudi Ministry of Culture pulled a novel by an award-winning author from bookstores on Thursday and opened an investigation into the matter after readers denounced some of its passages as pornographic.\n",
            "\n",
            "\n",
            "원문 : Rajiv Bansal, who took charge as the interim Chairman and Managing Director of Air India on Wednesday, said he plans to work on the airline's profitability with a \"missionary zeal\". He added that the airline plans to improve \"on time performance and ensure customer satisfaction\". Notably, Bansal replaced Ashwani Lohani, who has assumed office as Railway Board Chairman.\n",
            "실제 요약 : We will work with 'missionary zeal': Air India Chief Bansal\n",
            "예측 요약 :  air india will be vice chairman\n",
            "추출적 요약 (word: 15 ): Rajiv Bansal, who took charge as the interim Chairman and Managing Director of Air India on Wednesday, said he plans to work on the airline's profitability with a \"missionary zeal\".\n",
            "\n",
            "\n",
            "원문 : AIB Co-founders Tanmay Bhat and Gursimran Khamba will be stepping away from all business at the comedy group amid sexual harassment allegations against Gursimran and Utsav Chakraborty, who featured in AIB videos. Earlier, AIB admitted that Tanmay received specific, detailed allegations about Utsav and had confronted him. However, AIB continued to work with Utsav in a freelance capacity.\n",
            "실제 요약 : AIB's Tanmay, Gursimran step away amid sexual harassment row\n",
            "예측 요약 :  co founder quits amid harassment allegations\n",
            "추출적 요약 (word: 8 ): Earlier, AIB admitted that Tanmay received specific, detailed allegations about Utsav and had confronted him.\n",
            "\n",
            "\n",
            "원문 : The Kerala High Court on Wednesday rejected a Central Bureau of Investigation petition challenging an order acquitting Chief Minister Pinarayi Vijayan in a scam case. Vijayan had been accused of causing the state a loss of Ã¢ÂÂ¹374 crore and making financial gains by awarding a supply contract to SNC-Lavalin during his tenure as the Electricity Minister from 1996 to 1998. \n",
            "실제 요약 : Kerala HC clears CM Pinarayi Vijayan in Ã¢ÂÂ¹374-crore scam\n",
            "예측 요약 :  hc seeks notice to centre over sexual harassment charges\n",
            "추출적 요약 (word: 13 ): The Kerala High Court on Wednesday rejected a Central Bureau of Investigation petition challenging an order acquitting Chief Minister Pinarayi Vijayan in a scam case.\n",
            "\n",
            "\n",
            "원문 : A North Korean soldier who escaped to South Korea will receive a lifetime supply of Choco Pies, a popular snack in both the countries. The 24-year-old was shot five times while crossing the border and was admitted to a South Korean hospital, where he underwent treatment. He told doctors he was craving a Choco Pie after he woke up. \n",
            "실제 요약 : North Korean defector to get lifetime supply of Choco Pie\n",
            "예측 요약 :  korean soldier once once sold for yrs ago\n",
            "추출적 요약 (word: 12 ): A North Korean soldier who escaped to South Korea will receive a lifetime supply of Choco Pies, a popular snack in both the countries.\n",
            "\n",
            "\n",
            "원문 : Hollywood filmmaker Tony Montana has alleged that actor Kevin Spacey groped him while he was drunk in 2003. Montana added, \"He put his hand on my crotch forcefully and grabbed my whole package.\" \"I put my hand down and turned his thumb back to get his hand off it,\" he further said. \n",
            "실제 요약 : Director Montana alleges Kevin Spacey groped him while drunk\n",
            "예측 요약 :  was not my body to shoot drunk driving director chris\n",
            "추출적 요약 (word: 9 ): Hollywood filmmaker Tony Montana has alleged that actor Kevin Spacey groped him while he was drunk in 2003.\n",
            "\n",
            "\n",
            "원문 : During a routine meeting with Supreme Court judges, Chief Justice of India Dipak Misra on Monday said, \"I am doing my best\". This comes after Vice President Venkaiah Naidu rejected the Opposition-led impeachment motion against Misra. Meanwhile, the judges have resolved to form a four-judge team to hold informal meetings for discussing suggestions and grievances.\n",
            "실제 요약 : I am doing my best: CJI Dipak Misra during judges' meeting\n",
            "예측 요약 :  sc judges impeachment motion against cji\n",
            "추출적 요약 (word: 11 ): During a routine meeting with Supreme Court judges, Chief Justice of India Dipak Misra on Monday said, \"I am doing my best\".\n",
            "\n",
            "\n"
          ]
        }
      ]
    },
    {
      "cell_type": "markdown",
      "source": [
        "# 회고, 토의  \n",
        "아무래도 우리말에 대한 자료는 한계가 있는 걸까? 영어 데이터베이스를 하고 있는 걸 보니 안타깝다. 얼마 전부터 lms의 코드를 거의 그대로 갖다 쓰고 있다. 추출적 요약의 경우 퍼실님께 미리 힌트를 받아서 전처리 전의 데이터를 그대로 넣으면 된다고 들었는데, 그걸로 쉽게 끝나는 문제가 아니었다.\n",
        "\n",
        "추출적 요약을 하는 패키지는 마침표가 없으면 거의 문장을 구분하지 는 것 같았다. 결국 입력 데이터에 마침표를 몇 개 찍으면 어떻게든 요약을 하긴 한다. 하지만 어디에 찍을지 애매해서 결국 원래 dataframe에다가 랜덤으로 수정하는 인덱스를 저장한 끝에 두 요약 방식을 비교할 수 있었다.  아무튼 추출적 요약은 꽤 까다로웠다. 변명을 해주자면, 저 패키지가 상정한 것에 비해 본문의 길이가 너무 짧았던 거 같다. 넉넉하게 word를 50까지 찾게 했는데도 추출적 요약이 안되는 경우가 많다.\n",
        "\n",
        "아무튼 번역이 잘 된 것도 있고, 엉망인 것도 많았다. decoder가 너무 많은 token을 가지고 있었던 것이 아닌가 싶다. (10000개)\n"
      ],
      "metadata": {
        "id": "o7H-UzpCDj3c"
      }
    }
  ]
}