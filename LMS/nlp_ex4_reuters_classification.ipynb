{
 "cells": [
  {
   "cell_type": "markdown",
   "id": "78996990",
   "metadata": {},
   "source": [
    "# Vacabulary Size 바꿔보기  \n",
    "\n",
    "## 할 일\n",
    "- Vocabulary Size 바꿔보기\n",
    "    -  나이브 베이즈 분류기, CNB, 로지스틱 회귀, 서포트 벡터 머신, 결정 트리, 랜덤 포레스트, 그래디언트 부스팅 트리, 보팅 중 세 개 이상을 사용할 것  \n",
    "    - Vocabulary Size를 5000, 모든 단어, 임의의 직접 설정값을 사용  \n",
    "\n",
    "- Deep learning 모델과 비교\n",
    "    - RNN, 1-D CNN 등과 비교\n",
    "    - Pretrained model, Word2vec 등은 사용하지 말 것\n",
    "\n",
    "\n",
    "## 지금까지 한 것 돌아보기\n",
    "1. Tokenize, 정수화 된 데이터를 텍스트로 복원하는 등, keras.datasets.reuters 모듈의 기본적인 사용법\n",
    "2. 벡터화 : tfidf까지\n",
    "3. 각종 모델 적용\n",
    "4. 평가 지표 : f1 score 확인"
   ]
  },
  {
   "cell_type": "markdown",
   "id": "75681a48",
   "metadata": {},
   "source": [
    "# 노드의 코드 가져오기"
   ]
  },
  {
   "cell_type": "code",
   "execution_count": 244,
   "id": "91b9495c",
   "metadata": {},
   "outputs": [],
   "source": [
    "from tensorflow.keras.datasets import reuters\n",
    "import matplotlib.pyplot as plt\n",
    "import seaborn as sns\n",
    "import numpy as np\n",
    "import pandas as pd"
   ]
  },
  {
   "cell_type": "code",
   "execution_count": 245,
   "id": "d79df7c3",
   "metadata": {},
   "outputs": [],
   "source": [
    "(x_train, y_train), (x_test, y_test) = reuters.load_data(num_words=10000, test_split=0.2)"
   ]
  },
  {
   "cell_type": "code",
   "execution_count": 246,
   "id": "e179f963",
   "metadata": {},
   "outputs": [],
   "source": [
    "word_index = reuters.get_word_index(path=\"reuters_word_index.json\")"
   ]
  },
  {
   "cell_type": "code",
   "execution_count": 247,
   "id": "f2df35a7",
   "metadata": {},
   "outputs": [],
   "source": [
    "index_to_word = { index+3 : word for word, index in word_index.items() }"
   ]
  },
  {
   "cell_type": "code",
   "execution_count": 248,
   "id": "da969c8b",
   "metadata": {},
   "outputs": [],
   "source": [
    "for index, token in enumerate((\"<pad>\", \"<sos>\", \"<unk>\")):\n",
    "  index_to_word[index]=token"
   ]
  },
  {
   "cell_type": "code",
   "execution_count": 249,
   "id": "b222956b",
   "metadata": {},
   "outputs": [
    {
     "name": "stdout",
     "output_type": "stream",
     "text": [
      "<sos> <unk> <unk> said as a result of its december acquisition of space co it expects earnings per share in 1987 of 1 15 to 1 30 dlrs per share up from 70 cts in 1986 the company said pretax net should rise to nine to 10 mln dlrs from six mln dlrs in 1986 and rental operation revenues to 19 to 22 mln dlrs from 12 5 mln dlrs it said cash flow per share this year should be 2 50 to three dlrs reuter 3\n"
     ]
    }
   ],
   "source": [
    "print(' '.join([index_to_word[index] for index in x_train[0]]))"
   ]
  },
  {
   "cell_type": "code",
   "execution_count": 250,
   "id": "8719238c",
   "metadata": {},
   "outputs": [
    {
     "data": {
      "text/plain": [
       "'the transaction is expected to be completed'"
      ]
     },
     "execution_count": 250,
     "metadata": {},
     "output_type": "execute_result"
    }
   ],
   "source": [
    "' '.join(index_to_word[i] for i in [4, 587, 23, 133, 6, 30, 515])"
   ]
  },
  {
   "cell_type": "code",
   "execution_count": 251,
   "id": "02eb9234",
   "metadata": {},
   "outputs": [
    {
     "name": "stdout",
     "output_type": "stream",
     "text": [
      "8982\n"
     ]
    }
   ],
   "source": [
    "decoded = []\n",
    "for i in range(len(x_train)):\n",
    "    t = ' '.join([index_to_word[index] for index in x_train[i]])\n",
    "    decoded.append(t)\n",
    "\n",
    "x_train = decoded\n",
    "print(len(x_train))"
   ]
  },
  {
   "cell_type": "code",
   "execution_count": 252,
   "id": "7f01e4fe",
   "metadata": {},
   "outputs": [
    {
     "name": "stdout",
     "output_type": "stream",
     "text": [
      "2246\n"
     ]
    }
   ],
   "source": [
    "decoded = []\n",
    "for i in range(len(x_test)):\n",
    "    t = ' '.join([index_to_word[index] for index in x_test[i]])\n",
    "    decoded.append(t)\n",
    "\n",
    "x_test = decoded\n",
    "print(len(x_test))"
   ]
  },
  {
   "cell_type": "code",
   "execution_count": 253,
   "id": "920910df",
   "metadata": {},
   "outputs": [
    {
     "data": {
      "text/plain": [
       "['<sos> <unk> <unk> said as a result of its december acquisition of space co it expects earnings per share in 1987 of 1 15 to 1 30 dlrs per share up from 70 cts in 1986 the company said pretax net should rise to nine to 10 mln dlrs from six mln dlrs in 1986 and rental operation revenues to 19 to 22 mln dlrs from 12 5 mln dlrs it said cash flow per share this year should be 2 50 to three dlrs reuter 3']"
      ]
     },
     "execution_count": 253,
     "metadata": {},
     "output_type": "execute_result"
    }
   ],
   "source": [
    "x_train[:1]"
   ]
  },
  {
   "cell_type": "code",
   "execution_count": 254,
   "id": "26f5dbb5",
   "metadata": {},
   "outputs": [
    {
     "data": {
      "text/plain": [
       "'<sos> the great atlantic and pacific tea co said its three year 345 mln dlr capital program will be be substantially increased to <unk> growth and expansion plans for <unk> inc and <unk> inc over the next two years a and p said the acquisition of <unk> in august 1986 and <unk> in december helped us achieve better than expected results in the fourth quarter ended february 28 its net income from continuing operations jumped 52 6 pct to 20 7 mln dlrs or 55 cts a share in the latest quarter as sales increased 48 3 pct to 1 58 billion dlrs a and p gave no details on the expanded capital program but it did say it completed the first year of the program during 1986 a and p is 52 4 pct owned by lt <unk> <unk> of west germany reuter 3'"
      ]
     },
     "execution_count": 254,
     "metadata": {},
     "output_type": "execute_result"
    }
   ],
   "source": [
    "x_test[0]"
   ]
  },
  {
   "cell_type": "code",
   "execution_count": 255,
   "id": "536a0e03",
   "metadata": {},
   "outputs": [],
   "source": [
    "from sklearn.feature_extraction.text import CountVectorizer\n",
    "from sklearn.feature_extraction.text import TfidfTransformer"
   ]
  },
  {
   "cell_type": "code",
   "execution_count": 256,
   "id": "0021d3f5",
   "metadata": {},
   "outputs": [
    {
     "name": "stdout",
     "output_type": "stream",
     "text": [
      "(8982, 9670)\n"
     ]
    }
   ],
   "source": [
    "dtmvector = CountVectorizer()\n",
    "x_train_dtm = dtmvector.fit_transform(x_train)\n",
    "print(x_train_dtm.shape)"
   ]
  },
  {
   "cell_type": "code",
   "execution_count": 257,
   "id": "eb04709e",
   "metadata": {},
   "outputs": [
    {
     "name": "stdout",
     "output_type": "stream",
     "text": [
      "(8982, 9670)\n"
     ]
    }
   ],
   "source": [
    "tfidf_transformer = TfidfTransformer()\n",
    "tfidfv = tfidf_transformer.fit_transform(x_train_dtm)\n",
    "print(tfidfv.shape)"
   ]
  },
  {
   "cell_type": "code",
   "execution_count": 258,
   "id": "b9da3828",
   "metadata": {},
   "outputs": [],
   "source": [
    "from sklearn.naive_bayes import MultinomialNB #다항분포 나이브 베이즈 모델\n",
    "from sklearn.linear_model import LogisticRegression, SGDClassifier\n",
    "from sklearn.naive_bayes import ComplementNB\n",
    "from sklearn.tree import DecisionTreeClassifier\n",
    "from sklearn.ensemble import RandomForestClassifier\n",
    "from sklearn.ensemble import GradientBoostingClassifier\n",
    "from sklearn.ensemble import VotingClassifier\n",
    "from sklearn.svm import LinearSVC\n",
    "from sklearn.metrics import accuracy_score #정확도 계산"
   ]
  },
  {
   "cell_type": "code",
   "execution_count": 259,
   "id": "09ce958a",
   "metadata": {},
   "outputs": [
    {
     "data": {
      "text/plain": [
       "MultinomialNB()"
      ]
     },
     "execution_count": 259,
     "metadata": {},
     "output_type": "execute_result"
    }
   ],
   "source": [
    "model = MultinomialNB()\n",
    "model.fit(tfidfv, y_train)"
   ]
  },
  {
   "cell_type": "code",
   "execution_count": 260,
   "id": "10ad167a",
   "metadata": {},
   "outputs": [
    {
     "name": "stdout",
     "output_type": "stream",
     "text": [
      "정확도: 0.6567230632235085\n"
     ]
    }
   ],
   "source": [
    "x_test_dtm = dtmvector.transform(x_test) #테스트 데이터를 DTM으로 변환\n",
    "tfidfv_test = tfidf_transformer.transform(x_test_dtm) #DTM을 TF-IDF 행렬로 변환\n",
    "\n",
    "predicted = model.predict(tfidfv_test) #테스트 데이터에 대한 예측\n",
    "print(\"정확도:\", accuracy_score(y_test, predicted)) #예측값과 실제값 비교"
   ]
  },
  {
   "cell_type": "code",
   "execution_count": 19,
   "id": "b6a50b8c",
   "metadata": {},
   "outputs": [
    {
     "data": {
      "image/png": "[encoded data removed]",
      "text/plain": [
       "<Figure size 792x360 with 1 Axes>"
      ]
     },
     "metadata": {
      "needs_background": "light"
     },
     "output_type": "display_data"
    }
   ],
   "source": [
    "probability_3 = model.predict_proba(tfidfv_test[3])[0]\n",
    "\n",
    "plt.rcParams[\"figure.figsize\"] = (11,5)\n",
    "plt.bar(model.classes_, probability_3)\n",
    "plt.xlim(-1, 21)\n",
    "plt.xticks(model.classes_)\n",
    "plt.xlabel(\"Class\")\n",
    "plt.ylabel(\"Probability\")\n",
    "plt.show()"
   ]
  },
  {
   "cell_type": "code",
   "execution_count": 20,
   "id": "fc8d4a01",
   "metadata": {},
   "outputs": [
    {
     "data": {
      "text/plain": [
       "array([4])"
      ]
     },
     "execution_count": 20,
     "metadata": {},
     "output_type": "execute_result"
    }
   ],
   "source": [
    "model.predict(tfidfv_test[3])"
   ]
  },
  {
   "cell_type": "code",
   "execution_count": 261,
   "id": "4b349d68",
   "metadata": {},
   "outputs": [],
   "source": [
    "from sklearn.metrics import classification_report\n",
    "from sklearn.metrics import confusion_matrix"
   ]
  },
  {
   "cell_type": "code",
   "execution_count": 22,
   "id": "64b8876a",
   "metadata": {
    "scrolled": true
   },
   "outputs": [
    {
     "name": "stdout",
     "output_type": "stream",
     "text": [
      "              precision    recall  f1-score   support\n",
      "\n",
      "           0       0.00      0.00      0.00        12\n",
      "           1       0.62      0.69      0.65       105\n",
      "           2       0.00      0.00      0.00        20\n",
      "           3       0.81      0.90      0.85       813\n",
      "           4       0.51      0.96      0.67       474\n",
      "           5       0.00      0.00      0.00         5\n",
      "           6       0.00      0.00      0.00        14\n",
      "           7       0.00      0.00      0.00         3\n",
      "           8       0.00      0.00      0.00        38\n",
      "           9       1.00      0.08      0.15        25\n",
      "          10       0.00      0.00      0.00        30\n",
      "          11       0.66      0.63      0.64        83\n",
      "          12       0.00      0.00      0.00        13\n",
      "          13       1.00      0.03      0.05        37\n",
      "          14       0.00      0.00      0.00         2\n",
      "          15       0.00      0.00      0.00         9\n",
      "          16       0.69      0.56      0.61        99\n",
      "          17       0.00      0.00      0.00        12\n",
      "          18       0.00      0.00      0.00        20\n",
      "          19       0.60      0.78      0.68       133\n",
      "          20       1.00      0.04      0.08        70\n",
      "          21       0.00      0.00      0.00        27\n",
      "          22       0.00      0.00      0.00         7\n",
      "          23       0.00      0.00      0.00        12\n",
      "          24       0.00      0.00      0.00        19\n",
      "          25       1.00      0.03      0.06        31\n",
      "          26       0.00      0.00      0.00         8\n",
      "          27       0.00      0.00      0.00         4\n",
      "          28       0.00      0.00      0.00        10\n",
      "          29       0.00      0.00      0.00         4\n",
      "          30       0.00      0.00      0.00        12\n",
      "          31       0.00      0.00      0.00        13\n",
      "          32       0.00      0.00      0.00        10\n",
      "          33       0.00      0.00      0.00         5\n",
      "          34       0.00      0.00      0.00         7\n",
      "          35       0.00      0.00      0.00         6\n",
      "          36       0.00      0.00      0.00        11\n",
      "          37       0.00      0.00      0.00         2\n",
      "          38       0.00      0.00      0.00         3\n",
      "          39       0.00      0.00      0.00         5\n",
      "          40       0.00      0.00      0.00        10\n",
      "          41       0.00      0.00      0.00         8\n",
      "          42       0.00      0.00      0.00         3\n",
      "          43       0.00      0.00      0.00         6\n",
      "          44       0.00      0.00      0.00         5\n",
      "          45       0.00      0.00      0.00         1\n",
      "\n",
      "    accuracy                           0.66      2246\n",
      "   macro avg       0.17      0.10      0.10      2246\n",
      "weighted avg       0.59      0.66      0.58      2246\n",
      "\n"
     ]
    }
   ],
   "source": [
    "print(classification_report(y_test, model.predict(tfidfv_test), zero_division=0))"
   ]
  },
  {
   "cell_type": "code",
   "execution_count": 23,
   "id": "bac8fdea",
   "metadata": {},
   "outputs": [],
   "source": [
    "def graph_confusion_matrix(model, x_test, y_test):#, classes_name):\n",
    "  df_cm = pd.DataFrame(confusion_matrix(y_test, model.predict(x_test)))#, index=classes_name, columns=classes_name)\n",
    "  fig = plt.figure(figsize=(12,12))\n",
    "  heatmap = sns.heatmap(df_cm, annot=True, fmt=\"d\")\n",
    "  heatmap.yaxis.set_ticklabels(heatmap.yaxis.get_ticklabels(), rotation=0, ha='right', fontsize=12)\n",
    "  heatmap.xaxis.set_ticklabels(heatmap.xaxis.get_ticklabels(), rotation=45, ha='right', fontsize=12)\n",
    "  plt.ylabel('label')\n",
    "  plt.xlabel('predicted value')"
   ]
  },
  {
   "cell_type": "code",
   "execution_count": 24,
   "id": "a3192f9d",
   "metadata": {
    "scrolled": false
   },
   "outputs": [
    {
     "data": {
      "image/png": "[encoded data removed]",
      "text/plain": [
       "<Figure size 864x864 with 2 Axes>"
      ]
     },
     "metadata": {
      "needs_background": "light"
     },
     "output_type": "display_data"
    }
   ],
   "source": [
    "graph_confusion_matrix(model, tfidfv_test, y_test)"
   ]
  },
  {
   "cell_type": "code",
   "execution_count": 25,
   "id": "1f2a6f71",
   "metadata": {},
   "outputs": [
    {
     "name": "stdout",
     "output_type": "stream",
     "text": [
      "정확도: 0.7707034728406055\n"
     ]
    }
   ],
   "source": [
    "cb = ComplementNB()\n",
    "cb.fit(tfidfv, y_train)\n",
    "predicted = cb.predict(tfidfv_test) #테스트 데이터에 대한 예측\n",
    "print(\"정확도:\", accuracy_score(y_test, predicted)) #예측값과 실제값 비교"
   ]
  },
  {
   "cell_type": "code",
   "execution_count": 26,
   "id": "09a9325f",
   "metadata": {},
   "outputs": [
    {
     "data": {
      "text/plain": [
       "VotingClassifier(estimators=[('lr', LogisticRegression(C=10000, max_iter=3000)),\n",
       "                             ('cb', ComplementNB()),\n",
       "                             ('grbt',\n",
       "                              GradientBoostingClassifier(random_state=0))],\n",
       "                 voting='soft')"
      ]
     },
     "execution_count": 26,
     "metadata": {},
     "output_type": "execute_result"
    }
   ],
   "source": [
    "voting_classifier = VotingClassifier(estimators=[\n",
    "         ('lr', LogisticRegression(C=10000, max_iter=3000, penalty='l2')),\n",
    "        ('cb', ComplementNB()),\n",
    "        ('grbt', GradientBoostingClassifier(random_state=0))\n",
    "], voting='soft')\n",
    "voting_classifier.fit(tfidfv, y_train)"
   ]
  },
  {
   "cell_type": "code",
   "execution_count": 27,
   "id": "974b6359",
   "metadata": {},
   "outputs": [
    {
     "name": "stdout",
     "output_type": "stream",
     "text": [
      "정확도: 0.8165627782724845\n"
     ]
    }
   ],
   "source": [
    "predicted = voting_classifier.predict(tfidfv_test) #테스트 데이터에 대한 예측\n",
    "print(\"정확도:\", accuracy_score(y_test, predicted)) #예측값과 실제값 비교"
   ]
  },
  {
   "cell_type": "markdown",
   "id": "4d749131",
   "metadata": {},
   "source": [
    "# 프로젝트에서 해야 할 작업  \n",
    "## Vocabulary Size 바꿔보기  \n",
    "- reuters.load_data에서 tfidf를 다시 구현합니다.\n",
    "- 각 분류 모델을 fit, predict하여 결과를 비교합니다.\n",
    "\n",
    "## 딥 러닝 모델과의 비교\n",
    "- 모델을 빌드하고, Tokenize된 데이터를 이용해 train, predict 합니다. [imdb 감정 분석에서 썼던 노트북](https://github.com/chhyyi/aiffel/blob/main/LMS/EXP8_imdb_emotion_analysis.ipynb)을 참고하겠습니다."
   ]
  },
  {
   "cell_type": "markdown",
   "id": "8cec173a",
   "metadata": {},
   "source": [
    "# 1. tfidf matrix 새로 하기"
   ]
  },
  {
   "cell_type": "code",
   "execution_count": 265,
   "id": "1081a171",
   "metadata": {},
   "outputs": [],
   "source": [
    "#import libraries\n",
    "from tensorflow.keras.datasets import reuters\n",
    "import matplotlib.pyplot as plt\n",
    "import seaborn as sns\n",
    "import numpy as np\n",
    "import pandas as pd\n",
    "from sklearn.feature_extraction.text import CountVectorizer\n",
    "from sklearn.feature_extraction.text import TfidfTransformer"
   ]
  },
  {
   "cell_type": "code",
   "execution_count": 264,
   "id": "88ed068e",
   "metadata": {},
   "outputs": [],
   "source": [
    "def get_tfidf(num_words, split):\n",
    "    \"\"\"\n",
    "    This function return tfidf array of train, test dataset of keras.datasets.reuters module.\n",
    "    \"\"\"\n",
    "    (x_train, y_train), (x_test, y_test) = reuters.load_data(num_words=num_words, test_split=split)\n",
    "\n",
    "    for index, token in enumerate((\"<pad>\", \"<sos>\", \"<unk>\")):\n",
    "      index_to_word[index]=token\n",
    "    decoded = []\n",
    "    for i in range(len(x_train)):\n",
    "        t = ' '.join([index_to_word[index] for index in x_train[i]])\n",
    "        decoded.append(t)\n",
    "\n",
    "    x_train = decoded\n",
    "    decoded = []\n",
    "    for i in range(len(x_test)):\n",
    "        t = ' '.join([index_to_word[index] for index in x_test[i]])\n",
    "        decoded.append(t)\n",
    "\n",
    "    x_test = decoded\n",
    "    dtmvector = CountVectorizer()\n",
    "    x_train_dtm = dtmvector.fit_transform(x_train)\n",
    "    tfidf_transformer = TfidfTransformer()\n",
    "    tfidfv = tfidf_transformer.fit_transform(x_train_dtm)\n",
    "\n",
    "    x_test_dtm = dtmvector.transform(x_test)\n",
    "    tfidfv_test = tfidf_transformer.transform(x_test_dtm)\n",
    "    return tfidfv, tfidfv_test\n"
   ]
  },
  {
   "cell_type": "markdown",
   "id": "33aa69a5",
   "metadata": {},
   "source": [
    "# 2. 각 모델 적용하기\n",
    "## 2.1. 전체 단어\n",
    "\n",
    "### vote\n",
    "help(reuters.load_data)에서 확인한 결과, reuters.load_data는 Num_words가 None이면 모든 단어를 사용합니다."
   ]
  },
  {
   "cell_type": "code",
   "execution_count": 16,
   "id": "37618f04",
   "metadata": {},
   "outputs": [],
   "source": [
    "(x_train, y_train), (x_test, y_test) = reuters.load_data(test_split=0.2)\n",
    "word_index = reuters.get_word_index(path=\"reuters_word_index.json\")\n",
    "\n",
    "tfidfv, tfidfv_test=get_tfidf(None, 0.2)"
   ]
  },
  {
   "cell_type": "code",
   "execution_count": 32,
   "id": "5f04028a",
   "metadata": {},
   "outputs": [
    {
     "data": {
      "text/plain": [
       "VotingClassifier(estimators=[('lr', LogisticRegression(C=10000, max_iter=3000)),\n",
       "                             ('cb', ComplementNB()),\n",
       "                             ('grbt',\n",
       "                              GradientBoostingClassifier(random_state=0))],\n",
       "                 voting='soft')"
      ]
     },
     "execution_count": 32,
     "metadata": {},
     "output_type": "execute_result"
    }
   ],
   "source": [
    "voting_classifier = VotingClassifier(estimators=[\n",
    "         ('lr', LogisticRegression(C=10000, max_iter=3000, penalty='l2')),\n",
    "        ('cb', ComplementNB()),\n",
    "        ('grbt', GradientBoostingClassifier(random_state=0))\n",
    "], voting='soft')\n",
    "voting_classifier.fit(tfidfv, y_train)"
   ]
  },
  {
   "cell_type": "code",
   "execution_count": 34,
   "id": "fd8b9b22",
   "metadata": {},
   "outputs": [
    {
     "name": "stdout",
     "output_type": "stream",
     "text": [
      "Voting 정확도: 0.8156723063223509\n"
     ]
    }
   ],
   "source": [
    "predicted = voting_classifier.predict(tfidfv_test) #테스트 데이터에 대한 예측\n",
    "print(\"Voting 정확도:\", accuracy_score(y_test, predicted)) #예측값과 실제값 비교"
   ]
  },
  {
   "cell_type": "markdown",
   "id": "8d6613d2",
   "metadata": {},
   "source": [
    "### Naive Bayes 모델"
   ]
  },
  {
   "cell_type": "code",
   "execution_count": 35,
   "id": "afcef262",
   "metadata": {},
   "outputs": [
    {
     "name": "stdout",
     "output_type": "stream",
     "text": [
      "Naive Bayes 정확도: 0.5997328584149599\n"
     ]
    }
   ],
   "source": [
    "model = MultinomialNB()\n",
    "model.fit(tfidfv, y_train)\n",
    "predicted = model.predict(tfidfv_test) #테스트 데이터에 대한 예측\n",
    "print(\"Naive Bayes 정확도:\", accuracy_score(y_test, predicted)) #예측값과 실제값 비교"
   ]
  },
  {
   "cell_type": "markdown",
   "id": "c09d7420",
   "metadata": {},
   "source": [
    "### Decision Tree"
   ]
  },
  {
   "cell_type": "code",
   "execution_count": 36,
   "id": "f8427fab",
   "metadata": {},
   "outputs": [
    {
     "name": "stdout",
     "output_type": "stream",
     "text": [
      "Decision Tree 정확도: 0.6211041852181657\n"
     ]
    }
   ],
   "source": [
    "tree = DecisionTreeClassifier(max_depth=10, random_state=0)\n",
    "tree.fit(tfidfv, y_train)\n",
    "predicted = tree.predict(tfidfv_test) #테스트 데이터에 대한 예측\n",
    "print(\"Decision Tree 정확도:\", accuracy_score(y_test, predicted)) #예측값과 실제값 비교"
   ]
  },
  {
   "cell_type": "markdown",
   "id": "96b52323",
   "metadata": {},
   "source": [
    "### Random Forest"
   ]
  },
  {
   "cell_type": "code",
   "execution_count": 37,
   "id": "b3c87834",
   "metadata": {},
   "outputs": [
    {
     "name": "stdout",
     "output_type": "stream",
     "text": [
      "Random Forest 정확도: 0.6544968833481746\n"
     ]
    }
   ],
   "source": [
    "forest = RandomForestClassifier(n_estimators=5, random_state=0)\n",
    "forest.fit(tfidfv, y_train)\n",
    "predicted = forest.predict(tfidfv_test) #테스트 데이터에 대한 예측\n",
    "print(\"Random Forest 정확도:\", accuracy_score(y_test, predicted)) #예측값과 실제값 비교"
   ]
  },
  {
   "cell_type": "markdown",
   "id": "48c20866",
   "metadata": {},
   "source": [
    "### Gradient Boosting Tree"
   ]
  },
  {
   "cell_type": "code",
   "execution_count": 38,
   "id": "ff41bb55",
   "metadata": {
    "scrolled": true
   },
   "outputs": [
    {
     "name": "stdout",
     "output_type": "stream",
     "text": [
      "      Iter       Train Loss   Remaining Time \n",
      "         1           1.4301           15.03m\n",
      "         2       76760.8864           15.06m\n",
      "         3   766490025.2967           14.87m\n",
      "         4 660857139232122368.0000           14.75m\n",
      "         5 1006529060407114004275646732312951615311370376755613476759245377256674837692003341988813591601665584394912965173495998495951159296.0000           14.61m\n",
      "         6 1006529060407114004275646732312951615311370376755613476759245377256674837692003341988813591601665584394912965173495998495951159296.0000           14.47m\n",
      "         7 1006529060407114004275646732312951615311370376755613476759245377256674837692003341988813591601665584394912965173495998495951159296.0000           14.46m\n",
      "         8 1006529060407114004275646732312951615311370376755613476759245377256674837692003341988813591601665584394912965173495998495951159296.0000           14.37m\n",
      "         9 1006529060407114004275646732312951615311370376755613476759245377256674837692003341988813591601665584394912965173495998495951159296.0000           14.35m\n",
      "        10 1006529060407114004275646732312951615311370376755613476759245377256674837692003341988813591601665584394912965173495998495951159296.0000           14.19m\n",
      "        11 1006529060407114004275646732312951615311370376755613476759245377256674837692003341988813591601665584394912965173495998495951159296.0000           14.01m\n",
      "        12 1006529060407114004275646732312951615311370376755613476759245377256674837692003341988813591601665584394912965173495998495951159296.0000           13.81m\n",
      "        13 1006529060407114004275646732312951615311370376755613476759245377256674837692003341988813591601665584394912965173495998495951159296.0000           13.62m\n",
      "        14 1006529060407114004275646732312951615311370376755613476759245377256674837692003341988813591601665584394912965173495998495951159296.0000           13.43m\n",
      "        15 1006529060407114004275646732312951615311370376755613476759245377256674837692003341988813591601665584394912965173495998495951159296.0000           13.25m\n",
      "        16 1006529060407114004275646732312951615311370376755613476759245377256674837692003341988813591601665584394912965173495998495951159296.0000           13.06m\n",
      "        17 1006529060407114004275646732312951615311370376755613476759245377256674837692003341988813591601665584394912965173495998495951159296.0000           12.88m\n",
      "        18 1006529060407114004275646732312951615311370376755613476759245377256674837692003341988813591601665584394912965173495998495951159296.0000           12.70m\n",
      "        19 1006529060407114004275646732312951615311370376755613476759245377256674837692003341988813591601665584394912965173495998495951159296.0000           12.52m\n",
      "        20 1006529060407114004275646732312951615311370376755613476759245377256674837692003341988813591601665584394912965173495998495951159296.0000           12.33m\n",
      "        21 1006529060407114004275646732312951615311370376755613476759245377256674837692003341988813591601665584394912965173495998495951159296.0000           12.14m\n",
      "        22 1006529060407114004275646732312951615311370376755613476759245377256674837692003341988813591601665584394912965173495998495951159296.0000           11.96m\n",
      "        23 1006529060407114004275646732312951615311370376755613476759245377256674837692003341988813591601665584394912965173495998495951159296.0000           11.78m\n",
      "        24 1006529060407114004275646732312951615311370376755613476759245377256674837692003341988813591601665584394912965173495998495951159296.0000           11.61m\n",
      "        25 7935486330861459413268209935908863185564832687635547920920276400843855648137909550861590845608894276096734983386906163942311234165539923296256.0000           11.44m\n",
      "        26 7935486330861459413268209935908863185564832687635547920920276400843855648137909550861590845608894276096734983386906163942311234165539923296256.0000           11.27m\n",
      "        27 7935486330861459413268209935908863185564832687635547920920276400843855648137909550861590845608894276096734983386906163942311234165539923296256.0000           11.10m\n",
      "        28 7935486330861459413268209935908863185564832687635547920920276400843855648137909550861590845608894276096734983386906163942311234165539923296256.0000           10.94m\n",
      "        29 7935486330861459413268209935908863185564832687635547920920276400843855648137909550861590845608894276096734983386906163942311234165539923296256.0000           10.77m\n",
      "        30 7935486330861459413268209935908863185564832687635547920920276400843855648137909550861590845608894276096734983386906163942311234165539923296256.0000           10.60m\n",
      "        31 7935486330861459413268209935908863185564832687635547920920276400843855648137909550861590845608894276096734983386906163942311234165539923296256.0000           10.44m\n",
      "        32 7935486330861459413268209935908863185564832687635547920920276400843855648137909550861590845608894276096734983386906163942311234165539923296256.0000           10.28m\n",
      "        33 7935486330861459413268209935908863185564832687635547920920276400843855648137909550861590845608894276096734983386906163942311234165539923296256.0000           10.12m\n",
      "        34 7935486330861459413268209935908863185564832687635547920920276400843855648137909550861590845608894276096734983386906163942311234165539923296256.0000            9.96m\n",
      "        35 7935486330861459413268209935908863185564832687635547920920276400843855648137909550861590845608894276096734983386906163942311234165539923296256.0000            9.80m\n",
      "        36 7935486330861459413268209935908863185564832687635547920920276400843855648137909550861590845608894276096734983386906163942311234165539923296256.0000            9.64m\n",
      "        37 7935486330861459413268209935908863185564832687635547920920276400843855648137909550861590845608894276096734983386906163942311234165539923296256.0000            9.49m\n",
      "        38 7935486330861459413268209935908863185564832687635547920920276400843855648137909550861590845608894276096734983386906163942311234165539923296256.0000            9.33m\n",
      "        39 7935486330861459413268209935908863185564832687635547920920276400843855648137909550861590845608894276096734983386906163942311234165539923296256.0000            9.17m\n",
      "        40 7935486330861459413268209935908863185564832687635547920920276400843855648137909550861590845608894276096734983386906163942311234165539923296256.0000            9.02m\n",
      "        41 7935486330861459413268209935908863185564832687635547920920276400843855648137909550861590845608894276096734983386906163942311234165539923296256.0000            8.86m\n",
      "        42 7935486330861459413268209935908863185564832687635547920920276400843855648137909550861590845608894276096734983386906163942311234165539923296256.0000            8.70m\n",
      "        43 7935486330861459413268209935908863185564832687635547920920276400843855648137909550861590845608894276096734983386906163942311234165539923296256.0000            8.55m\n",
      "        44 7935486330861459413268209935908863185564832687635547920920276400843855648137909550861590845608894276096734983386906163942311234165539923296256.0000            8.39m\n",
      "        45 7935486330861459413268209935908863185564832687635547920920276400843855648137909550861590845608894276096734983386906163942311234165539923296256.0000            8.24m\n",
      "        46 7935486330861459413268209935908863185564832687635547920920276400843855648137909550861590845608894276096734983386906163942311234165539923296256.0000            8.09m\n",
      "        47 7935486330861459413268209935908863185564832687635547920920276400843855648137909550861590845608894276096734983386906163942311234165539923296256.0000            7.93m\n",
      "        48 7935486330861459413268209935908863185564832687635547920920276400843855648137909550861590845608894276096734983386906163942311234165539923296256.0000            7.78m\n",
      "        49 7935486330861459413268209935908863185564832687635547920920276400843855648137909550861590845608894276096734983386906163942311234165539923296256.0000            7.62m\n",
      "        50 7935486330861459413268209935908863185564832687635547920920276400843855648137909550861590845608894276096734983386906163942311234165539923296256.0000            7.47m\n",
      "        51 7935486330861459413268209935908863185564832687635547920920276400843855648137909550861590845608894276096734983386906163942311234165539923296256.0000            7.32m\n",
      "        52 7935486330861459413268209935908863185564832687635547920920276400843855648137909550861590845608894276096734983386906163942311234165539923296256.0000            7.16m\n",
      "        53 7935486330861459413268209935908863185564832687635547920920276400843855648137909550861590845608894276096734983386906163942311234165539923296256.0000            7.01m\n",
      "        54 7935486330861459413268209935908863185564832687635547920920276400843855648137909550861590845608894276096734983386906163942311234165539923296256.0000            6.86m\n",
      "        55 7935486330861459413268209935908863185564832687635547920920276400843855648137909550861590845608894276096734983386906163942311234165539923296256.0000            6.71m\n",
      "        56 7935486330861459413268209935908863185564832687635547920920276400843855648137909550861590845608894276096734983386906163942311234165539923296256.0000            6.56m\n",
      "        57 7935486330861459413268209935908863185564832687635547920920276400843855648137909550861590845608894276096734983386906163942311234165539923296256.0000            6.41m\n",
      "        58 7935486330861459413268209935908863185564832687635547920920276400843855648137909550861590845608894276096734983386906163942311234165539923296256.0000            6.26m\n",
      "        59 7935486330861459413268209935908863185564832687635547920920276400843855648137909550861590845608894276096734983386906163942311234165539923296256.0000            6.11m\n",
      "        60 7935486330861459413268209935908863185564832687635547920920276400843855648137909550861590845608894276096734983386906163942311234165539923296256.0000            5.95m\n",
      "        61 7935486330861459413268209935908863185564832687635547920920276400843855648137909550861590845608894276096734983386906163942311234165539923296256.0000            5.80m\n",
      "        62 7935486330861459413268209935908863185564832687635547920920276400843855648137909550861590845608894276096734983386906163942311234165539923296256.0000            5.65m\n",
      "        63 7935486330861459413268209935908863185564832687635547920920276400843855648137909550861590845608894276096734983386906163942311234165539923296256.0000            5.50m\n",
      "        64 7935486330861459413268209935908863185564832687635547920920276400843855648137909550861590845608894276096734983386906163942311234165539923296256.0000            5.35m\n",
      "        65 7935486330861459413268209935908863185564832687635547920920276400843855648137909550861590845608894276096734983386906163942311234165539923296256.0000            5.20m\n",
      "        66 7935486330861459413268209935908863185564832687635547920920276400843855648137909550861590845608894276096734983386906163942311234165539923296256.0000            5.05m\n",
      "        67 7935486330861459413268209935908863185564832687635547920920276400843855648137909550861590845608894276096734983386906163942311234165539923296256.0000            4.90m\n",
      "        68 7935486330861459413268209935908863185564832687635547920920276400843855648137909550861590845608894276096734983386906163942311234165539923296256.0000            4.75m\n",
      "        69 7935486330861459413268209935908863185564832687635547920920276400843855648137909550861590845608894276096734983386906163942311234165539923296256.0000            4.60m\n",
      "        70 7935486330861459413268209935908863185564832687635547920920276400843855648137909550861590845608894276096734983386906163942311234165539923296256.0000            4.45m\n",
      "        71 7935486330861459413268209935908863185564832687635547920920276400843855648137909550861590845608894276096734983386906163942311234165539923296256.0000            4.31m\n",
      "        72 7935486330861459413268209935908863185564832687635547920920276400843855648137909550861590845608894276096734983386906163942311234165539923296256.0000            4.16m\n",
      "        73 7935486330861459413268209935908863185564832687635547920920276400843855648137909550861590845608894276096734983386906163942311234165539923296256.0000            4.01m\n",
      "        74 7935486330861459413268209935908863185564832687635547920920276400843855648137909550861590845608894276096734983386906163942311234165539923296256.0000            3.86m\n",
      "        75 7935486330861459413268209935908863185564832687635547920920276400843855648137909550861590845608894276096734983386906163942311234165539923296256.0000            3.71m\n",
      "        76 7935486330861459413268209935908863185564832687635547920920276400843855648137909550861590845608894276096734983386906163942311234165539923296256.0000            3.56m\n",
      "        77 7935486330861459413268209935908863185564832687635547920920276400843855648137909550861590845608894276096734983386906163942311234165539923296256.0000            3.41m\n",
      "        78 7935486330861459413268209935908863185564832687635547920920276400843855648137909550861590845608894276096734983386906163942311234165539923296256.0000            3.26m\n",
      "        79 7935486330861459413268209935908863185564832687635547920920276400843855648137909550861590845608894276096734983386906163942311234165539923296256.0000            3.11m\n",
      "        80 7935486330861459413268209935908863185564832687635547920920276400843855648137909550861590845608894276096734983386906163942311234165539923296256.0000            2.96m\n",
      "        81 7935486330861459413268209935908863185564832687635547920920276400843855648137909550861590845608894276096734983386906163942311234165539923296256.0000            2.81m\n",
      "        82 7935486330861459413268209935908863185564832687635547920920276400843855648137909550861590845608894276096734983386906163942311234165539923296256.0000            2.67m\n",
      "        83 7935486330861459413268209935908863185564832687635547920920276400843855648137909550861590845608894276096734983386906163942311234165539923296256.0000            2.52m\n",
      "        84 7935486330861459413268209935908863185564832687635547920920276400843855648137909550861590845608894276096734983386906163942311234165539923296256.0000            2.37m\n",
      "        85 7935486330861459413268209935908863185564832687635547920920276400843855648137909550861590845608894276096734983386906163942311234165539923296256.0000            2.22m\n",
      "        86 7935486330861459413268209935908863185564832687635547920920276400843855648137909550861590845608894276096734983386906163942311234165539923296256.0000            2.07m\n",
      "        87 7935486330861459413268209935908863185564832687635547920920276400843855648137909550861590845608894276096734983386906163942311234165539923296256.0000            1.92m\n",
      "        88 7935486330861459413268209935908863185564832687635547920920276400843855648137909550861590845608894276096734983386906163942311234165539923296256.0000            1.78m\n",
      "        89 7935486330861459413268209935908863185564832687635547920920276400843855648137909550861590845608894276096734983386906163942311234165539923296256.0000            1.63m\n",
      "        90 7935486330861459413268209935908863185564832687635547920920276400843855648137909550861590845608894276096734983386906163942311234165539923296256.0000            1.48m\n",
      "        91 7935486330861459413268209935908863185564832687635547920920276400843855648137909550861590845608894276096734983386906163942311234165539923296256.0000            1.33m\n",
      "        92 7935486330861459413268209935908863185564832687635547920920276400843855648137909550861590845608894276096734983386906163942311234165539923296256.0000            1.18m\n",
      "        93 7935486330861459413268209935908863185564832687635547920920276400843855648137909550861590845608894276096734983386906163942311234165539923296256.0000            1.03m\n",
      "        94 7935486330861459413268209935908863185564832687635547920920276400843855648137909550861590845608894276096734983386906163942311234165539923296256.0000           53.21s\n",
      "        95 7935486330861459413268209935908863185564832687635547920920276400843855648137909550861590845608894276096734983386906163942311234165539923296256.0000           44.34s\n",
      "        96 7935486330861459413268209935908863185564832687635547920920276400843855648137909550861590845608894276096734983386906163942311234165539923296256.0000           35.46s\n",
      "        97 7935486330861459413268209935908863185564832687635547920920276400843855648137909550861590845608894276096734983386906163942311234165539923296256.0000           26.59s\n",
      "        98 7935486330861459413268209935908863185564832687635547920920276400843855648137909550861590845608894276096734983386906163942311234165539923296256.0000           17.73s\n",
      "        99 7935486330861459413268209935908863185564832687635547920920276400843855648137909550861590845608894276096734983386906163942311234165539923296256.0000            8.86s\n",
      "       100 7935486330861459413268209935908863185564832687635547920920276400843855648137909550861590845608894276096734983386906163942311234165539923296256.0000            0.00s\n",
      "정확도: 0.7702582368655387\n"
     ]
    }
   ],
   "source": [
    "grbt = GradientBoostingClassifier(random_state=0, verbose=3) # verbose=3\n",
    "grbt.fit(tfidfv, y_train)\n",
    "predicted = grbt.predict(tfidfv_test) #테스트 데이터에 대한 예측\n",
    "print(\"Gradient Boosting 정확도:\", accuracy_score(y_test, predicted)) #예측값과 실제값 비교\n",
    "\n",
    "#정확도: 0.7702582368655387"
   ]
  },
  {
   "cell_type": "code",
   "execution_count": 267,
   "id": "dd0e4182",
   "metadata": {},
   "outputs": [
    {
     "name": "stdout",
     "output_type": "stream",
     "text": [
      "로지스틱 회귀 정확도: 0.8165627782724845\n",
      "LinearSVC정확도: 0.7934105075690115\n",
      "정확도: 0.7649154051647373\n"
     ]
    },
    {
     "name": "stderr",
     "output_type": "stream",
     "text": [
      "/opt/conda/lib/python3.9/site-packages/sklearn/svm/_base.py:1199: ConvergenceWarning: Liblinear failed to converge, increase the number of iterations.\n",
      "  warnings.warn(\n"
     ]
    }
   ],
   "source": [
    "rest_models(None, 0.2)"
   ]
  },
  {
   "cell_type": "markdown",
   "id": "766522fd",
   "metadata": {},
   "source": [
    "## 2.2. 5000 words\n"
   ]
  },
  {
   "cell_type": "code",
   "execution_count": 14,
   "id": "6d73fbde",
   "metadata": {},
   "outputs": [],
   "source": [
    "def models_test(num_words, test_split):\n",
    "    \"\"\"just merged above code cells\"\"\"\n",
    "    tfidfv, tfidfv_test=get_tfidf(num_words, test_split)\n",
    "    word_index = reuters.get_word_index(path=\"reuters_word_index.json\")\n",
    "    voting_classifier = VotingClassifier(estimators=[\n",
    "             ('lr', LogisticRegression(C=10000, max_iter=3000, penalty='l2')),\n",
    "            ('cb', ComplementNB()),\n",
    "            ('grbt', GradientBoostingClassifier(random_state=0))\n",
    "    ], voting='soft')\n",
    "    voting_classifier.fit(tfidfv, y_train)\n",
    "\n",
    "    predicted = voting_classifier.predict(tfidfv_test) #테스트 데이터에 대한 예측\n",
    "    print(\"Voting 정확도:\", accuracy_score(y_test, predicted)) #예측값과 실제값 비교\n",
    "\n",
    "    model = MultinomialNB()\n",
    "    model.fit(tfidfv, y_train)\n",
    "    predicted = model.predict(tfidfv_test) #테스트 데이터에 대한 예측\n",
    "    print(\"Naive Bayes 정확도:\", accuracy_score(y_test, predicted)) #예측값과 실제값 비교\n",
    "\n",
    "    tree = DecisionTreeClassifier(max_depth=10, random_state=0)\n",
    "    tree.fit(tfidfv, y_train)\n",
    "    predicted = tree.predict(tfidfv_test) #테스트 데이터에 대한 예측\n",
    "    print(\"Decision Tree 정확도:\", accuracy_score(y_test, predicted)) #예측값과 실제값 비교\n",
    "\n",
    "    forest = RandomForestClassifier(n_estimators=5, random_state=0)\n",
    "    forest.fit(tfidfv, y_train)\n",
    "    predicted = forest.predict(tfidfv_test) #테스트 데이터에 대한 예측\n",
    "    print(\"Random Forest 정확도:\", accuracy_score(y_test, predicted)) #예측값과 실제값 비교\n",
    "    grbt = GradientBoostingClassifier(random_state=0) # verbose=3\n",
    "    grbt.fit(tfidfv, y_train)\n",
    "    predicted = grbt.predict(tfidfv_test) #테스트 데이터에 대한 예측\n",
    "    print(\"Gradient Boosting 정확도:\", accuracy_score(y_test, predicted)) #예측값과 실제값 비교"
   ]
  },
  {
   "cell_type": "code",
   "execution_count": 39,
   "id": "05a033f1",
   "metadata": {
    "scrolled": true
   },
   "outputs": [
    {
     "name": "stdout",
     "output_type": "stream",
     "text": [
      "Voting 정확도: 0.8103294746215495\n",
      "Naive Bayes 정확도: 0.6731967943009796\n",
      "Decision Tree 정확도: 0.6179875333926982\n",
      "Random Forest 정확도: 0.701246660730187\n",
      "Gradient Boosting 정확도: 0.767586821015138\n"
     ]
    }
   ],
   "source": [
    "\n",
    "    \n",
    "models_test(5000, 0.2)"
   ]
  },
  {
   "cell_type": "code",
   "execution_count": 262,
   "id": "6ec4f2f2",
   "metadata": {},
   "outputs": [],
   "source": [
    "def rest_models(num_words, test_split):\n",
    "    '''CNB, Logistic Regression, SVM'''\n",
    "    tfidfv, tfidfv_test=get_tfidf(num_words, test_split)\n",
    "    word_index = reuters.get_word_index(path=\"reuters_word_index.json\")\n",
    "\n",
    "    lr = LogisticRegression(C=10000, penalty='l2', max_iter=3000)\n",
    "    lr.fit(tfidfv, y_train)\n",
    "    predicted = lr.predict(tfidfv_test) #테스트 데이터에 대한 예측\n",
    "    print(\"로지스틱 회귀 정확도:\", accuracy_score(y_test, predicted)) #예측값과 실제값 비교\n",
    "    \n",
    "    lsvc = LinearSVC(C=1000, penalty='l1', max_iter=3000, dual=False)\n",
    "    lsvc.fit(tfidfv, y_train)\n",
    "    predicted = lsvc.predict(tfidfv_test) #테스트 데이터에 대한 예측\n",
    "    print(\"LinearSVC정확도:\", accuracy_score(y_test, predicted)) #예측값과 실제값 비교\n",
    "    \n",
    "    cb = ComplementNB()\n",
    "    cb.fit(tfidfv, y_train)\n",
    "    predicted = cb.predict(tfidfv_test) #테스트 데이터에 대한 예측\n",
    "    print(\"정확도:\", accuracy_score(y_test, predicted)) #예측값과 실제값 비교"
   ]
  },
  {
   "cell_type": "code",
   "execution_count": 20,
   "id": "f1e73ee4",
   "metadata": {},
   "outputs": [
    {
     "name": "stdout",
     "output_type": "stream",
     "text": [
      "로지스틱 회귀 정확도: 0.8036509349955476\n",
      "LinearSVC정확도: 0.7751558325912734\n",
      "정확도: 0.7707034728406055\n"
     ]
    },
    {
     "name": "stderr",
     "output_type": "stream",
     "text": [
      "/opt/conda/lib/python3.9/site-packages/sklearn/svm/_base.py:1199: ConvergenceWarning: Liblinear failed to converge, increase the number of iterations.\n",
      "  warnings.warn(\n"
     ]
    }
   ],
   "source": [
    "rest_models(5000, 0.2)"
   ]
  },
  {
   "cell_type": "markdown",
   "id": "5798b25f",
   "metadata": {},
   "source": [
    "## 2.3. 15000 words"
   ]
  },
  {
   "cell_type": "code",
   "execution_count": 21,
   "id": "925dea17",
   "metadata": {},
   "outputs": [
    {
     "name": "stdout",
     "output_type": "stream",
     "text": [
      "Voting 정확도: 0.8143365983971504\n",
      "Naive Bayes 정확도: 0.6331255565449688\n",
      "Decision Tree 정확도: 0.6193232413178985\n",
      "Random Forest 정확도: 0.6714158504007124\n",
      "Gradient Boosting 정확도: 0.7707034728406055\n"
     ]
    }
   ],
   "source": [
    "models_test(15000, 0.2)"
   ]
  },
  {
   "cell_type": "code",
   "execution_count": 22,
   "id": "c87804fa",
   "metadata": {},
   "outputs": [
    {
     "name": "stdout",
     "output_type": "stream",
     "text": [
      "로지스틱 회귀 정확도: 0.8147818343722173\n",
      "LinearSVC정확도: 0.784060552092609\n",
      "정확도: 0.7720391807658059\n"
     ]
    },
    {
     "name": "stderr",
     "output_type": "stream",
     "text": [
      "/opt/conda/lib/python3.9/site-packages/sklearn/svm/_base.py:1199: ConvergenceWarning: Liblinear failed to converge, increase the number of iterations.\n",
      "  warnings.warn(\n"
     ]
    }
   ],
   "source": [
    "rest_models(15000, 0.2)"
   ]
  },
  {
   "cell_type": "markdown",
   "id": "4361e09d",
   "metadata": {},
   "source": [
    "## 2.4. 12500 Words"
   ]
  },
  {
   "cell_type": "code",
   "execution_count": 46,
   "id": "4a4b17fb",
   "metadata": {
    "scrolled": false
   },
   "outputs": [
    {
     "name": "stdout",
     "output_type": "stream",
     "text": [
      "Voting 정확도: 0.8192341941228851\n",
      "Naive Bayes 정확도: 0.6455921638468388\n",
      "Decision Tree 정확도: 0.6206589492430988\n",
      "Random Forest 정확도: 0.6812110418521816\n",
      "Gradient Boosting 정확도: 0.7747105966162066\n",
      "로지스틱 회귀 정확도: 0.8107747105966162\n",
      "LinearSVC정확도: 0.7907390917186109\n",
      "정확도: 0.7733748886910062\n"
     ]
    },
    {
     "name": "stderr",
     "output_type": "stream",
     "text": [
      "/opt/conda/lib/python3.9/site-packages/sklearn/svm/_base.py:1199: ConvergenceWarning: Liblinear failed to converge, increase the number of iterations.\n",
      "  warnings.warn(\n"
     ]
    }
   ],
   "source": [
    "models_test(12500, 0.2)\n",
    "rest_models(12500, 0.2)"
   ]
  },
  {
   "cell_type": "markdown",
   "id": "fd994750",
   "metadata": {},
   "source": [
    "## 2.5. 7500 Words"
   ]
  },
  {
   "cell_type": "code",
   "execution_count": 47,
   "id": "cd286848",
   "metadata": {},
   "outputs": [
    {
     "name": "stdout",
     "output_type": "stream",
     "text": [
      "Voting 정확도: 0.8130008904719501\n",
      "Naive Bayes 정확도: 0.6642920747996438\n",
      "Decision Tree 정확도: 0.6202137132680321\n",
      "Random Forest 정확도: 0.6878895814781835\n",
      "Gradient Boosting 정확도: 0.7693677649154052\n",
      "로지스틱 회귀 정확도: 0.8040961709706145\n",
      "LinearSVC정확도: 0.7871772039180766\n",
      "정확도: 0.7693677649154052\n"
     ]
    },
    {
     "name": "stderr",
     "output_type": "stream",
     "text": [
      "/opt/conda/lib/python3.9/site-packages/sklearn/svm/_base.py:1199: ConvergenceWarning: Liblinear failed to converge, increase the number of iterations.\n",
      "  warnings.warn(\n"
     ]
    }
   ],
   "source": [
    "models_test(7500, 0.2)\n",
    "rest_models(7500, 0.2)"
   ]
  },
  {
   "cell_type": "markdown",
   "id": "b0838a6f",
   "metadata": {},
   "source": [
    "## 2.6. 10000 Words\n",
    "위에서 LinearSVC, Linear Regression 적용을 안해서 다시 합니다."
   ]
  },
  {
   "cell_type": "code",
   "execution_count": 266,
   "id": "49ca5fd9",
   "metadata": {},
   "outputs": [
    {
     "name": "stdout",
     "output_type": "stream",
     "text": [
      "로지스틱 회귀 정확도: 0.8107747105966162\n",
      "LinearSVC정확도: 0.784060552092609\n",
      "정확도: 0.7707034728406055\n"
     ]
    },
    {
     "name": "stderr",
     "output_type": "stream",
     "text": [
      "/opt/conda/lib/python3.9/site-packages/sklearn/svm/_base.py:1199: ConvergenceWarning: Liblinear failed to converge, increase the number of iterations.\n",
      "  warnings.warn(\n"
     ]
    }
   ],
   "source": [
    "rest_models(10000, 0.2)"
   ]
  },
  {
   "cell_type": "markdown",
   "id": "83430258",
   "metadata": {},
   "source": [
    "# 3. 딥러닝 분류 모델과의 비교\n",
    "위에도 썼지만 [fundamental exp8 노트북](https://github.com/chhyyi/aiffel/blob/main/LMS/EXP8_imdb_emotion_analysis.ipynb)을 많이 복사하였습니다\n",
    "\n",
    "## vocab_size는 어떻게 되나? :\n",
    "우리가 get_word_index를 받아올 때, 이것은 고정된 dictionary 파일이고 실제 30979의 길이를 가지고 있습니다. 하지만 어떨까요?  \n",
    "```python\n",
    "a_flatten2=[j for i in a for j in i]\n",
    "print(len(a_flatten2), len(set(a_flatten2)), max(a_flatten2))\n",
    "```  \n",
    "num_words=10000 인 경우 출력 결과 : 1307239 9982 9999  \n",
    "\n",
    "여기에서 보면, 일단 일단 0~9999까지의 숫자로 정수화된 data를 가져오고, 그 중에서 몇 개를 지우는 것으로 보입니다. 그렇다면 vocab_size는 이 경우 9982이어도 괜찮을까요? 모르니까 일단 9982를 해보고 돌아가면 그걸 쓰고 아니면 더하겠습니다. 예전에 vocabulary size보다 적은 수를 넣으니까 칼같이 에러가 떴던 기억이 있으니 괜찮겠죠."
   ]
  },
  {
   "cell_type": "markdown",
   "id": "eb4db7d8",
   "metadata": {},
   "source": [
    "## 길이 확인과 padding\n",
    "길이를 확인해보고 패딩을 합시다"
   ]
  },
  {
   "cell_type": "code",
   "execution_count": 52,
   "id": "8a4491b7",
   "metadata": {},
   "outputs": [
    {
     "name": "stdout",
     "output_type": "stream",
     "text": [
      "2376 13 145.81413013409278 145.5398574927633\n"
     ]
    }
   ],
   "source": [
    "\n",
    "lengths = [len(i) for i in x_train]\n",
    "print(max(lengths), min(lengths), np.std(lengths), np.mean(lengths))\n",
    "maxlen=437"
   ]
  },
  {
   "cell_type": "code",
   "execution_count": 53,
   "id": "60519801",
   "metadata": {},
   "outputs": [
    {
     "name": "stdout",
     "output_type": "stream",
     "text": [
      "0.9441104431084391\n"
     ]
    }
   ],
   "source": [
    "print(sum([i<437 for i in lengths])/len(x_train)) #길이가 437보다 작은 데이터의 비율 확인 (x_train내에서)"
   ]
  },
  {
   "cell_type": "code",
   "execution_count": 54,
   "id": "0f1dcf16",
   "metadata": {},
   "outputs": [
    {
     "name": "stdout",
     "output_type": "stream",
     "text": [
      "False False\n"
     ]
    }
   ],
   "source": [
    "print(0 in word_index.values(), 0 in [i for j in x_train for i in j])\n",
    "#check if "
   ]
  },
  {
   "cell_type": "markdown",
   "id": "060a7c4c",
   "metadata": {},
   "source": [
    "최대길이가 너무 커서 잘라야 할 거 같습니다. \n",
    "또 0이 없으니까 0으로 pad를 채우면 되겠습니다."
   ]
  },
  {
   "cell_type": "code",
   "execution_count": 173,
   "id": "b3a255b5",
   "metadata": {},
   "outputs": [],
   "source": [
    "X_train=tf.keras.preprocessing.sequence.pad_sequences(x_train, maxlen=maxlen, padding='pre', value=0)"
   ]
  },
  {
   "cell_type": "code",
   "execution_count": 174,
   "id": "243d29b4",
   "metadata": {},
   "outputs": [],
   "source": [
    "X_test=tf.keras.preprocessing.sequence.pad_sequences(x_test, maxlen=maxlen, padding='pre', value=0)"
   ]
  },
  {
   "cell_type": "code",
   "execution_count": 175,
   "id": "86dcecde",
   "metadata": {},
   "outputs": [
    {
     "name": "stdout",
     "output_type": "stream",
     "text": [
      "8982 8982 2246 2246 8982 2246\n"
     ]
    }
   ],
   "source": [
    "print(len(X_train),len(x_train),len(X_test),len(x_test),len(y_train), len(y_test))"
   ]
  },
  {
   "cell_type": "code",
   "execution_count": 176,
   "id": "358481ed",
   "metadata": {},
   "outputs": [
    {
     "name": "stdout",
     "output_type": "stream",
     "text": [
      "46 45 0\n"
     ]
    }
   ],
   "source": [
    "print(len(set(y_test)), max(y_test), min(y_test))"
   ]
  },
  {
   "cell_type": "code",
   "execution_count": 177,
   "id": "5b03e502",
   "metadata": {},
   "outputs": [],
   "source": [
    "Y_train=tf.one_hot(y_train, depth=46)\n",
    "Y_test=tf.one_hot(y_test, depth=46)"
   ]
  },
  {
   "cell_type": "code",
   "execution_count": 215,
   "id": "509dafde",
   "metadata": {},
   "outputs": [
    {
     "name": "stdout",
     "output_type": "stream",
     "text": [
      "Model: \"sequential_53\"\n",
      "_________________________________________________________________\n",
      "Layer (type)                 Output Shape              Param #   \n",
      "=================================================================\n",
      "embedding_53 (Embedding)     (None, None, 64)          638912    \n",
      "_________________________________________________________________\n",
      "lstm_64 (LSTM)               (None, 256)               328704    \n",
      "_________________________________________________________________\n",
      "dense_109 (Dense)            (None, 128)               32896     \n",
      "_________________________________________________________________\n",
      "dense_110 (Dense)            (None, 92)                11868     \n",
      "_________________________________________________________________\n",
      "dense_111 (Dense)            (None, 46)                4278      \n",
      "=================================================================\n",
      "Total params: 1,016,658\n",
      "Trainable params: 1,016,658\n",
      "Non-trainable params: 0\n",
      "_________________________________________________________________\n"
     ]
    }
   ],
   "source": [
    "import tensorflow as tf\n",
    "\n",
    "vocab_size = 9983\n",
    "word_vector_dim = 64  # 단어 하나를 표현하는 임베딩 벡터의 차원수입니다. \n",
    "\n",
    "model = tf.keras.Sequential()\n",
    "model.add(tf.keras.layers.Embedding(vocab_size, word_vector_dim, input_shape=(None,)))\n",
    "#model.add(tf.keras.layers.LSTM(256, return_sequences=True))\n",
    "model.add(tf.keras.layers.LSTM(256))\n",
    "model.add(tf.keras.layers.Dense(128, activation='relu'))\n",
    "model.add(tf.keras.layers.Dense(92, activation='relu'))\n",
    "model.add(tf.keras.layers.Dense(46, activation='sigmoid'))\n",
    "#model.add(tf.keras.layers.Dense(1, activation='softmax'))\n",
    "model.summary()"
   ]
  },
  {
   "cell_type": "code",
   "execution_count": 216,
   "id": "056d3d0f",
   "metadata": {
    "collapsed": true
   },
   "outputs": [
    {
     "name": "stdout",
     "output_type": "stream",
     "text": [
      "Epoch 1/51\n",
      "281/281 [==============================] - 8s 26ms/step - loss: 2.3151 - accuracy: 0.3853 - val_loss: 1.8718 - val_accuracy: 0.4831\n",
      "Epoch 2/51\n",
      "281/281 [==============================] - 7s 24ms/step - loss: 1.8064 - accuracy: 0.5101 - val_loss: 1.7244 - val_accuracy: 0.5721\n",
      "Epoch 3/51\n",
      "281/281 [==============================] - 7s 24ms/step - loss: 1.7373 - accuracy: 0.5428 - val_loss: 2.1759 - val_accuracy: 0.5245\n",
      "Epoch 4/51\n",
      "281/281 [==============================] - 7s 25ms/step - loss: 1.6647 - accuracy: 0.5727 - val_loss: 1.6754 - val_accuracy: 0.5695\n",
      "Epoch 5/51\n",
      "281/281 [==============================] - 7s 25ms/step - loss: 1.5387 - accuracy: 0.6037 - val_loss: 2.3008 - val_accuracy: 0.3931\n",
      "Epoch 6/51\n",
      "281/281 [==============================] - 7s 25ms/step - loss: 1.6536 - accuracy: 0.5666 - val_loss: 1.6939 - val_accuracy: 0.5677\n",
      "Epoch 7/51\n",
      "281/281 [==============================] - 7s 24ms/step - loss: 1.4795 - accuracy: 0.6168 - val_loss: 1.7351 - val_accuracy: 0.5806\n",
      "Epoch 8/51\n",
      "281/281 [==============================] - 7s 24ms/step - loss: 1.3968 - accuracy: 0.6344 - val_loss: 1.5205 - val_accuracy: 0.6060\n",
      "Epoch 9/51\n",
      "281/281 [==============================] - 7s 24ms/step - loss: 1.2553 - accuracy: 0.6717 - val_loss: 1.5234 - val_accuracy: 0.6189\n",
      "Epoch 10/51\n",
      "281/281 [==============================] - 7s 24ms/step - loss: 1.1716 - accuracy: 0.6860 - val_loss: 1.4676 - val_accuracy: 0.6256\n",
      "Epoch 11/51\n",
      "281/281 [==============================] - 7s 24ms/step - loss: 1.0721 - accuracy: 0.7043 - val_loss: 1.4198 - val_accuracy: 0.6340\n",
      "Epoch 12/51\n",
      "281/281 [==============================] - 7s 24ms/step - loss: 0.9902 - accuracy: 0.7265 - val_loss: 1.5250 - val_accuracy: 0.6429\n",
      "Epoch 13/51\n",
      "281/281 [==============================] - 7s 24ms/step - loss: 0.9029 - accuracy: 0.7481 - val_loss: 1.4594 - val_accuracy: 0.6420\n",
      "Epoch 14/51\n",
      "281/281 [==============================] - 7s 24ms/step - loss: 0.8450 - accuracy: 0.7678 - val_loss: 1.4990 - val_accuracy: 0.6536\n",
      "Epoch 15/51\n",
      "281/281 [==============================] - 7s 24ms/step - loss: 0.7836 - accuracy: 0.7881 - val_loss: 1.5178 - val_accuracy: 0.6536\n",
      "Epoch 16/51\n",
      "281/281 [==============================] - 7s 24ms/step - loss: 0.7148 - accuracy: 0.8054 - val_loss: 1.5672 - val_accuracy: 0.6487\n",
      "Epoch 17/51\n",
      "281/281 [==============================] - 7s 24ms/step - loss: 0.6589 - accuracy: 0.8210 - val_loss: 1.5767 - val_accuracy: 0.6603\n",
      "Epoch 18/51\n",
      "281/281 [==============================] - 7s 24ms/step - loss: 0.6006 - accuracy: 0.8419 - val_loss: 1.6847 - val_accuracy: 0.6603\n",
      "Epoch 19/51\n",
      "281/281 [==============================] - 7s 24ms/step - loss: 0.5604 - accuracy: 0.8508 - val_loss: 1.6922 - val_accuracy: 0.6643\n",
      "Epoch 20/51\n",
      "281/281 [==============================] - 7s 24ms/step - loss: 0.5214 - accuracy: 0.8594 - val_loss: 1.6971 - val_accuracy: 0.6630\n",
      "Epoch 21/51\n",
      "281/281 [==============================] - 7s 24ms/step - loss: 0.4743 - accuracy: 0.8734 - val_loss: 1.8514 - val_accuracy: 0.6607\n",
      "Epoch 22/51\n",
      "281/281 [==============================] - 7s 24ms/step - loss: 0.4327 - accuracy: 0.8868 - val_loss: 1.8959 - val_accuracy: 0.6576\n",
      "Epoch 23/51\n",
      "281/281 [==============================] - 7s 24ms/step - loss: 0.4011 - accuracy: 0.8975 - val_loss: 1.9933 - val_accuracy: 0.6643\n",
      "Epoch 24/51\n",
      "281/281 [==============================] - 7s 24ms/step - loss: 0.3813 - accuracy: 0.9001 - val_loss: 1.9583 - val_accuracy: 0.6723\n",
      "Epoch 25/51\n",
      "281/281 [==============================] - 7s 24ms/step - loss: 0.3501 - accuracy: 0.9087 - val_loss: 1.9879 - val_accuracy: 0.6790\n",
      "Epoch 26/51\n",
      "281/281 [==============================] - 7s 24ms/step - loss: 0.3358 - accuracy: 0.9119 - val_loss: 1.9906 - val_accuracy: 0.6719\n",
      "Epoch 27/51\n",
      "281/281 [==============================] - 7s 24ms/step - loss: 0.3200 - accuracy: 0.9135 - val_loss: 2.1498 - val_accuracy: 0.6656\n",
      "Epoch 28/51\n",
      "281/281 [==============================] - 7s 24ms/step - loss: 0.3036 - accuracy: 0.9204 - val_loss: 2.1110 - val_accuracy: 0.6701\n",
      "Epoch 29/51\n",
      "281/281 [==============================] - 7s 24ms/step - loss: 0.2880 - accuracy: 0.9214 - val_loss: 2.2129 - val_accuracy: 0.6745\n",
      "Epoch 30/51\n",
      "281/281 [==============================] - 7s 24ms/step - loss: 0.2681 - accuracy: 0.9286 - val_loss: 2.1666 - val_accuracy: 0.6732\n",
      "Epoch 31/51\n",
      "281/281 [==============================] - 7s 24ms/step - loss: 0.2475 - accuracy: 0.9330 - val_loss: 2.1533 - val_accuracy: 0.6665\n",
      "Epoch 32/51\n",
      "281/281 [==============================] - 7s 24ms/step - loss: 0.2358 - accuracy: 0.9377 - val_loss: 2.2668 - val_accuracy: 0.6683\n",
      "Epoch 33/51\n",
      "281/281 [==============================] - 7s 24ms/step - loss: 0.2218 - accuracy: 0.9377 - val_loss: 2.3086 - val_accuracy: 0.6728\n",
      "Epoch 34/51\n",
      "281/281 [==============================] - 7s 24ms/step - loss: 0.2239 - accuracy: 0.9389 - val_loss: 2.3205 - val_accuracy: 0.6710\n",
      "Epoch 35/51\n",
      "281/281 [==============================] - 7s 24ms/step - loss: 0.2166 - accuracy: 0.9401 - val_loss: 2.3230 - val_accuracy: 0.6670\n",
      "Epoch 36/51\n",
      "281/281 [==============================] - 7s 24ms/step - loss: 0.2068 - accuracy: 0.9411 - val_loss: 2.3998 - val_accuracy: 0.6754\n",
      "Epoch 37/51\n",
      "281/281 [==============================] - 7s 24ms/step - loss: 0.1903 - accuracy: 0.9438 - val_loss: 2.4729 - val_accuracy: 0.6652\n",
      "Epoch 38/51\n",
      "281/281 [==============================] - 7s 24ms/step - loss: 0.1987 - accuracy: 0.9426 - val_loss: 2.3387 - val_accuracy: 0.6888\n",
      "Epoch 39/51\n",
      "281/281 [==============================] - 7s 24ms/step - loss: 0.1902 - accuracy: 0.9434 - val_loss: 2.4116 - val_accuracy: 0.6750\n",
      "Epoch 40/51\n",
      "281/281 [==============================] - 7s 24ms/step - loss: 0.1791 - accuracy: 0.9457 - val_loss: 2.5276 - val_accuracy: 0.6745\n",
      "Epoch 41/51\n",
      "281/281 [==============================] - 7s 24ms/step - loss: 0.1771 - accuracy: 0.9462 - val_loss: 2.4261 - val_accuracy: 0.6825\n",
      "Epoch 42/51\n",
      "281/281 [==============================] - 7s 24ms/step - loss: 0.1690 - accuracy: 0.9483 - val_loss: 2.4850 - val_accuracy: 0.6866\n",
      "Epoch 43/51\n",
      "281/281 [==============================] - 7s 24ms/step - loss: 0.1628 - accuracy: 0.9475 - val_loss: 2.5647 - val_accuracy: 0.6825\n",
      "Epoch 44/51\n",
      "281/281 [==============================] - 7s 24ms/step - loss: 0.1639 - accuracy: 0.9476 - val_loss: 2.5182 - val_accuracy: 0.6892\n",
      "Epoch 45/51\n",
      "281/281 [==============================] - 7s 24ms/step - loss: 0.1521 - accuracy: 0.9497 - val_loss: 2.5300 - val_accuracy: 0.6821\n",
      "Epoch 46/51\n",
      "281/281 [==============================] - 7s 24ms/step - loss: 0.1471 - accuracy: 0.9510 - val_loss: 2.4834 - val_accuracy: 0.6861\n",
      "Epoch 47/51\n",
      "281/281 [==============================] - 7s 24ms/step - loss: 0.1476 - accuracy: 0.9493 - val_loss: 2.5974 - val_accuracy: 0.6790\n",
      "Epoch 48/51\n",
      "281/281 [==============================] - 7s 24ms/step - loss: 0.1404 - accuracy: 0.9513 - val_loss: 2.6259 - val_accuracy: 0.6745\n",
      "Epoch 49/51\n",
      "281/281 [==============================] - 7s 24ms/step - loss: 0.1419 - accuracy: 0.9515 - val_loss: 2.5926 - val_accuracy: 0.6883\n",
      "Epoch 50/51\n",
      "281/281 [==============================] - 7s 24ms/step - loss: 0.1346 - accuracy: 0.9519 - val_loss: 2.6228 - val_accuracy: 0.6879\n",
      "Epoch 51/51\n",
      "281/281 [==============================] - 7s 24ms/step - loss: 0.1309 - accuracy: 0.9548 - val_loss: 2.6908 - val_accuracy: 0.6750\n"
     ]
    }
   ],
   "source": [
    "\n",
    "model.compile(optimizer='adam',\n",
    "              loss=tf.keras.losses.CategoricalCrossentropy(),\n",
    "              metrics=['accuracy'])\n",
    "\n",
    "epochs=51\n",
    "\n",
    "history = model.fit(X_train,\n",
    "                    Y_train,\n",
    "                    epochs=epochs,\n",
    "                    validation_data=(X_test, Y_test), verbose=1)\n",
    "                    #batch_size=256"
   ]
  },
  {
   "cell_type": "code",
   "execution_count": 217,
   "id": "05d1c1de",
   "metadata": {
    "collapsed": true
   },
   "outputs": [
    {
     "name": "stdout",
     "output_type": "stream",
     "text": [
      "Model: \"sequential_54\"\n",
      "_________________________________________________________________\n",
      "Layer (type)                 Output Shape              Param #   \n",
      "=================================================================\n",
      "embedding_54 (Embedding)     (None, None, 128)         1277824   \n",
      "_________________________________________________________________\n",
      "lstm_65 (LSTM)               (None, 256)               394240    \n",
      "_________________________________________________________________\n",
      "dense_112 (Dense)            (None, 128)               32896     \n",
      "_________________________________________________________________\n",
      "dense_113 (Dense)            (None, 92)                11868     \n",
      "_________________________________________________________________\n",
      "dense_114 (Dense)            (None, 46)                4278      \n",
      "=================================================================\n",
      "Total params: 1,721,106\n",
      "Trainable params: 1,721,106\n",
      "Non-trainable params: 0\n",
      "_________________________________________________________________\n"
     ]
    }
   ],
   "source": [
    "vocab_size = 9983\n",
    "word_vector_dim = 128  # 단어 하나를 표현하는 임베딩 벡터의 차원수입니다. \n",
    "\n",
    "model = tf.keras.Sequential()\n",
    "model.add(tf.keras.layers.Embedding(vocab_size, word_vector_dim, input_shape=(None,)))\n",
    "#model.add(tf.keras.layers.LSTM(256, return_sequences=True))\n",
    "model.add(tf.keras.layers.LSTM(256))\n",
    "model.add(tf.keras.layers.Dense(128, activation='relu'))\n",
    "model.add(tf.keras.layers.Dense(92, activation='relu'))\n",
    "model.add(tf.keras.layers.Dense(46, activation='sigmoid'))\n",
    "#model.add(tf.keras.layers.Dense(1, activation='softmax'))\n",
    "model.summary()"
   ]
  },
  {
   "cell_type": "code",
   "execution_count": 218,
   "id": "7ca1ee44",
   "metadata": {
    "collapsed": true
   },
   "outputs": [
    {
     "name": "stdout",
     "output_type": "stream",
     "text": [
      "Epoch 1/51\n",
      "281/281 [==============================] - 9s 28ms/step - loss: 2.2621 - accuracy: 0.4149 - val_loss: 1.8519 - val_accuracy: 0.4920\n",
      "Epoch 2/51\n",
      "281/281 [==============================] - 8s 27ms/step - loss: 1.7908 - accuracy: 0.5267 - val_loss: 1.7946 - val_accuracy: 0.5521\n",
      "Epoch 3/51\n",
      "281/281 [==============================] - 8s 27ms/step - loss: 1.7704 - accuracy: 0.5233 - val_loss: 1.8188 - val_accuracy: 0.5312\n",
      "Epoch 4/51\n",
      "281/281 [==============================] - 8s 27ms/step - loss: 1.6729 - accuracy: 0.5672 - val_loss: 1.7100 - val_accuracy: 0.5597\n",
      "Epoch 5/51\n",
      "281/281 [==============================] - 8s 27ms/step - loss: 1.5795 - accuracy: 0.5912 - val_loss: 1.6429 - val_accuracy: 0.5917\n",
      "Epoch 6/51\n",
      "281/281 [==============================] - 8s 27ms/step - loss: 1.4545 - accuracy: 0.6307 - val_loss: 1.5439 - val_accuracy: 0.6278\n",
      "Epoch 7/51\n",
      "281/281 [==============================] - 8s 27ms/step - loss: 1.2728 - accuracy: 0.6746 - val_loss: 1.5871 - val_accuracy: 0.6064\n",
      "Epoch 8/51\n",
      "281/281 [==============================] - 8s 27ms/step - loss: 1.1323 - accuracy: 0.6993 - val_loss: 1.4165 - val_accuracy: 0.6527\n",
      "Epoch 9/51\n",
      "281/281 [==============================] - 8s 27ms/step - loss: 0.9936 - accuracy: 0.7381 - val_loss: 1.3883 - val_accuracy: 0.6492\n",
      "Epoch 10/51\n",
      "281/281 [==============================] - 8s 27ms/step - loss: 0.8538 - accuracy: 0.7719 - val_loss: 1.3628 - val_accuracy: 0.6808\n",
      "Epoch 11/51\n",
      "281/281 [==============================] - 8s 27ms/step - loss: 0.7450 - accuracy: 0.8033 - val_loss: 1.3803 - val_accuracy: 0.6906\n",
      "Epoch 12/51\n",
      "281/281 [==============================] - 8s 27ms/step - loss: 0.6572 - accuracy: 0.8294 - val_loss: 1.3884 - val_accuracy: 0.6888\n",
      "Epoch 13/51\n",
      "281/281 [==============================] - 8s 27ms/step - loss: 0.5721 - accuracy: 0.8504 - val_loss: 1.4243 - val_accuracy: 0.7008\n",
      "Epoch 14/51\n",
      "281/281 [==============================] - 8s 27ms/step - loss: 0.4993 - accuracy: 0.8714 - val_loss: 1.5301 - val_accuracy: 0.6990\n",
      "Epoch 15/51\n",
      "281/281 [==============================] - 8s 27ms/step - loss: 0.4386 - accuracy: 0.8874 - val_loss: 1.4950 - val_accuracy: 0.7150\n",
      "Epoch 16/51\n",
      "281/281 [==============================] - 8s 27ms/step - loss: 0.3949 - accuracy: 0.9000 - val_loss: 1.5628 - val_accuracy: 0.7106\n",
      "Epoch 17/51\n",
      "281/281 [==============================] - 8s 27ms/step - loss: 0.3533 - accuracy: 0.9125 - val_loss: 1.6573 - val_accuracy: 0.7035\n",
      "Epoch 18/51\n",
      "281/281 [==============================] - 8s 27ms/step - loss: 0.3151 - accuracy: 0.9197 - val_loss: 1.7846 - val_accuracy: 0.6972\n",
      "Epoch 19/51\n",
      "281/281 [==============================] - 8s 27ms/step - loss: 0.2974 - accuracy: 0.9244 - val_loss: 1.6934 - val_accuracy: 0.7102\n",
      "Epoch 20/51\n",
      "281/281 [==============================] - 8s 27ms/step - loss: 0.2593 - accuracy: 0.9358 - val_loss: 1.7564 - val_accuracy: 0.7088\n",
      "Epoch 21/51\n",
      "281/281 [==============================] - 8s 27ms/step - loss: 0.2387 - accuracy: 0.9390 - val_loss: 1.7912 - val_accuracy: 0.7146\n",
      "Epoch 22/51\n",
      "281/281 [==============================] - 8s 27ms/step - loss: 0.2159 - accuracy: 0.9401 - val_loss: 2.0169 - val_accuracy: 0.7106\n",
      "Epoch 23/51\n",
      "281/281 [==============================] - 8s 27ms/step - loss: 0.2134 - accuracy: 0.9433 - val_loss: 1.9661 - val_accuracy: 0.7146\n",
      "Epoch 24/51\n",
      "281/281 [==============================] - 8s 27ms/step - loss: 0.1960 - accuracy: 0.9456 - val_loss: 1.9935 - val_accuracy: 0.7150\n",
      "Epoch 25/51\n",
      "281/281 [==============================] - 8s 27ms/step - loss: 0.1890 - accuracy: 0.9469 - val_loss: 2.0709 - val_accuracy: 0.7124\n",
      "Epoch 26/51\n",
      "281/281 [==============================] - 8s 27ms/step - loss: 0.1769 - accuracy: 0.9478 - val_loss: 2.0086 - val_accuracy: 0.7115\n",
      "Epoch 27/51\n",
      "281/281 [==============================] - 8s 27ms/step - loss: 0.1701 - accuracy: 0.9478 - val_loss: 2.1334 - val_accuracy: 0.7070\n",
      "Epoch 28/51\n",
      "281/281 [==============================] - 8s 27ms/step - loss: 0.1525 - accuracy: 0.9506 - val_loss: 2.1959 - val_accuracy: 0.7164\n",
      "Epoch 29/51\n",
      "281/281 [==============================] - 8s 27ms/step - loss: 0.1443 - accuracy: 0.9539 - val_loss: 2.2874 - val_accuracy: 0.7075\n",
      "Epoch 30/51\n",
      "281/281 [==============================] - 8s 27ms/step - loss: 0.1388 - accuracy: 0.9519 - val_loss: 2.2596 - val_accuracy: 0.7128\n",
      "Epoch 31/51\n",
      "281/281 [==============================] - 8s 27ms/step - loss: 0.1293 - accuracy: 0.9557 - val_loss: 2.4801 - val_accuracy: 0.7053\n",
      "Epoch 32/51\n",
      "281/281 [==============================] - 8s 27ms/step - loss: 0.1334 - accuracy: 0.9517 - val_loss: 2.4138 - val_accuracy: 0.7146\n",
      "Epoch 33/51\n",
      "281/281 [==============================] - 8s 27ms/step - loss: 0.1328 - accuracy: 0.9518 - val_loss: 2.3014 - val_accuracy: 0.7066\n",
      "Epoch 34/51\n",
      "281/281 [==============================] - 8s 27ms/step - loss: 0.1237 - accuracy: 0.9542 - val_loss: 2.2985 - val_accuracy: 0.6968\n",
      "Epoch 35/51\n",
      "281/281 [==============================] - 8s 27ms/step - loss: 0.1133 - accuracy: 0.9541 - val_loss: 2.4958 - val_accuracy: 0.7115\n",
      "Epoch 36/51\n",
      "281/281 [==============================] - 8s 27ms/step - loss: 0.1457 - accuracy: 0.9493 - val_loss: 2.4649 - val_accuracy: 0.7070\n",
      "Epoch 37/51\n",
      "281/281 [==============================] - 8s 27ms/step - loss: 0.1259 - accuracy: 0.9517 - val_loss: 2.4337 - val_accuracy: 0.7048\n",
      "Epoch 38/51\n",
      "281/281 [==============================] - 8s 27ms/step - loss: 0.1076 - accuracy: 0.9540 - val_loss: 2.6139 - val_accuracy: 0.7088\n",
      "Epoch 39/51\n",
      "281/281 [==============================] - 8s 27ms/step - loss: 0.0975 - accuracy: 0.9570 - val_loss: 2.4250 - val_accuracy: 0.7106\n",
      "Epoch 40/51\n",
      "281/281 [==============================] - 8s 27ms/step - loss: 0.0913 - accuracy: 0.9565 - val_loss: 2.6319 - val_accuracy: 0.7146\n",
      "Epoch 41/51\n",
      "281/281 [==============================] - 8s 27ms/step - loss: 0.0905 - accuracy: 0.9554 - val_loss: 2.4638 - val_accuracy: 0.7097\n",
      "Epoch 42/51\n",
      "281/281 [==============================] - 8s 27ms/step - loss: 0.0934 - accuracy: 0.9554 - val_loss: 2.5676 - val_accuracy: 0.7070\n",
      "Epoch 43/51\n",
      "281/281 [==============================] - 8s 27ms/step - loss: 0.0848 - accuracy: 0.9568 - val_loss: 2.6070 - val_accuracy: 0.7164\n",
      "Epoch 44/51\n",
      "281/281 [==============================] - 8s 27ms/step - loss: 0.0853 - accuracy: 0.9570 - val_loss: 2.6143 - val_accuracy: 0.7084\n",
      "Epoch 45/51\n",
      "173/281 [=================>............] - ETA: 2s - loss: 0.0805 - accuracy: 0.9621"
     ]
    },
    {
     "ename": "KeyboardInterrupt",
     "evalue": "",
     "output_type": "error",
     "traceback": [
      "\u001b[0;31m---------------------------------------------------------------------------\u001b[0m",
      "\u001b[0;31mKeyboardInterrupt\u001b[0m                         Traceback (most recent call last)",
      "\u001b[0;32m/tmp/ipykernel_31/1478413918.py\u001b[0m in \u001b[0;36m<module>\u001b[0;34m\u001b[0m\n\u001b[1;32m      5\u001b[0m \u001b[0mepochs\u001b[0m\u001b[0;34m=\u001b[0m\u001b[0;36m51\u001b[0m\u001b[0;34m\u001b[0m\u001b[0;34m\u001b[0m\u001b[0m\n\u001b[1;32m      6\u001b[0m \u001b[0;34m\u001b[0m\u001b[0m\n\u001b[0;32m----> 7\u001b[0;31m history = model.fit(X_train,\n\u001b[0m\u001b[1;32m      8\u001b[0m                     \u001b[0mY_train\u001b[0m\u001b[0;34m,\u001b[0m\u001b[0;34m\u001b[0m\u001b[0;34m\u001b[0m\u001b[0m\n\u001b[1;32m      9\u001b[0m                     \u001b[0mepochs\u001b[0m\u001b[0;34m=\u001b[0m\u001b[0mepochs\u001b[0m\u001b[0;34m,\u001b[0m\u001b[0;34m\u001b[0m\u001b[0;34m\u001b[0m\u001b[0m\n",
      "\u001b[0;32m/opt/conda/lib/python3.9/site-packages/keras/engine/training.py\u001b[0m in \u001b[0;36mfit\u001b[0;34m(self, x, y, batch_size, epochs, verbose, callbacks, validation_split, validation_data, shuffle, class_weight, sample_weight, initial_epoch, steps_per_epoch, validation_steps, validation_batch_size, validation_freq, max_queue_size, workers, use_multiprocessing)\u001b[0m\n\u001b[1;32m   1182\u001b[0m                 _r=1):\n\u001b[1;32m   1183\u001b[0m               \u001b[0mcallbacks\u001b[0m\u001b[0;34m.\u001b[0m\u001b[0mon_train_batch_begin\u001b[0m\u001b[0;34m(\u001b[0m\u001b[0mstep\u001b[0m\u001b[0;34m)\u001b[0m\u001b[0;34m\u001b[0m\u001b[0;34m\u001b[0m\u001b[0m\n\u001b[0;32m-> 1184\u001b[0;31m               \u001b[0mtmp_logs\u001b[0m \u001b[0;34m=\u001b[0m \u001b[0mself\u001b[0m\u001b[0;34m.\u001b[0m\u001b[0mtrain_function\u001b[0m\u001b[0;34m(\u001b[0m\u001b[0miterator\u001b[0m\u001b[0;34m)\u001b[0m\u001b[0;34m\u001b[0m\u001b[0;34m\u001b[0m\u001b[0m\n\u001b[0m\u001b[1;32m   1185\u001b[0m               \u001b[0;32mif\u001b[0m \u001b[0mdata_handler\u001b[0m\u001b[0;34m.\u001b[0m\u001b[0mshould_sync\u001b[0m\u001b[0;34m:\u001b[0m\u001b[0;34m\u001b[0m\u001b[0;34m\u001b[0m\u001b[0m\n\u001b[1;32m   1186\u001b[0m                 \u001b[0mcontext\u001b[0m\u001b[0;34m.\u001b[0m\u001b[0masync_wait\u001b[0m\u001b[0;34m(\u001b[0m\u001b[0;34m)\u001b[0m\u001b[0;34m\u001b[0m\u001b[0;34m\u001b[0m\u001b[0m\n",
      "\u001b[0;32m/opt/conda/lib/python3.9/site-packages/tensorflow/python/eager/def_function.py\u001b[0m in \u001b[0;36m__call__\u001b[0;34m(self, *args, **kwds)\u001b[0m\n\u001b[1;32m    883\u001b[0m \u001b[0;34m\u001b[0m\u001b[0m\n\u001b[1;32m    884\u001b[0m       \u001b[0;32mwith\u001b[0m \u001b[0mOptionalXlaContext\u001b[0m\u001b[0;34m(\u001b[0m\u001b[0mself\u001b[0m\u001b[0;34m.\u001b[0m\u001b[0m_jit_compile\u001b[0m\u001b[0;34m)\u001b[0m\u001b[0;34m:\u001b[0m\u001b[0;34m\u001b[0m\u001b[0;34m\u001b[0m\u001b[0m\n\u001b[0;32m--> 885\u001b[0;31m         \u001b[0mresult\u001b[0m \u001b[0;34m=\u001b[0m \u001b[0mself\u001b[0m\u001b[0;34m.\u001b[0m\u001b[0m_call\u001b[0m\u001b[0;34m(\u001b[0m\u001b[0;34m*\u001b[0m\u001b[0margs\u001b[0m\u001b[0;34m,\u001b[0m \u001b[0;34m**\u001b[0m\u001b[0mkwds\u001b[0m\u001b[0;34m)\u001b[0m\u001b[0;34m\u001b[0m\u001b[0;34m\u001b[0m\u001b[0m\n\u001b[0m\u001b[1;32m    886\u001b[0m \u001b[0;34m\u001b[0m\u001b[0m\n\u001b[1;32m    887\u001b[0m       \u001b[0mnew_tracing_count\u001b[0m \u001b[0;34m=\u001b[0m \u001b[0mself\u001b[0m\u001b[0;34m.\u001b[0m\u001b[0mexperimental_get_tracing_count\u001b[0m\u001b[0;34m(\u001b[0m\u001b[0;34m)\u001b[0m\u001b[0;34m\u001b[0m\u001b[0;34m\u001b[0m\u001b[0m\n",
      "\u001b[0;32m/opt/conda/lib/python3.9/site-packages/tensorflow/python/eager/def_function.py\u001b[0m in \u001b[0;36m_call\u001b[0;34m(self, *args, **kwds)\u001b[0m\n\u001b[1;32m    915\u001b[0m       \u001b[0;31m# In this case we have created variables on the first call, so we run the\u001b[0m\u001b[0;34m\u001b[0m\u001b[0;34m\u001b[0m\u001b[0m\n\u001b[1;32m    916\u001b[0m       \u001b[0;31m# defunned version which is guaranteed to never create variables.\u001b[0m\u001b[0;34m\u001b[0m\u001b[0;34m\u001b[0m\u001b[0m\n\u001b[0;32m--> 917\u001b[0;31m       \u001b[0;32mreturn\u001b[0m \u001b[0mself\u001b[0m\u001b[0;34m.\u001b[0m\u001b[0m_stateless_fn\u001b[0m\u001b[0;34m(\u001b[0m\u001b[0;34m*\u001b[0m\u001b[0margs\u001b[0m\u001b[0;34m,\u001b[0m \u001b[0;34m**\u001b[0m\u001b[0mkwds\u001b[0m\u001b[0;34m)\u001b[0m  \u001b[0;31m# pylint: disable=not-callable\u001b[0m\u001b[0;34m\u001b[0m\u001b[0;34m\u001b[0m\u001b[0m\n\u001b[0m\u001b[1;32m    918\u001b[0m     \u001b[0;32melif\u001b[0m \u001b[0mself\u001b[0m\u001b[0;34m.\u001b[0m\u001b[0m_stateful_fn\u001b[0m \u001b[0;32mis\u001b[0m \u001b[0;32mnot\u001b[0m \u001b[0;32mNone\u001b[0m\u001b[0;34m:\u001b[0m\u001b[0;34m\u001b[0m\u001b[0;34m\u001b[0m\u001b[0m\n\u001b[1;32m    919\u001b[0m       \u001b[0;31m# Release the lock early so that multiple threads can perform the call\u001b[0m\u001b[0;34m\u001b[0m\u001b[0;34m\u001b[0m\u001b[0m\n",
      "\u001b[0;32m/opt/conda/lib/python3.9/site-packages/tensorflow/python/eager/function.py\u001b[0m in \u001b[0;36m__call__\u001b[0;34m(self, *args, **kwargs)\u001b[0m\n\u001b[1;32m   3037\u001b[0m       (graph_function,\n\u001b[1;32m   3038\u001b[0m        filtered_flat_args) = self._maybe_define_function(args, kwargs)\n\u001b[0;32m-> 3039\u001b[0;31m     return graph_function._call_flat(\n\u001b[0m\u001b[1;32m   3040\u001b[0m         filtered_flat_args, captured_inputs=graph_function.captured_inputs)  # pylint: disable=protected-access\n\u001b[1;32m   3041\u001b[0m \u001b[0;34m\u001b[0m\u001b[0m\n",
      "\u001b[0;32m/opt/conda/lib/python3.9/site-packages/tensorflow/python/eager/function.py\u001b[0m in \u001b[0;36m_call_flat\u001b[0;34m(self, args, captured_inputs, cancellation_manager)\u001b[0m\n\u001b[1;32m   1961\u001b[0m         and executing_eagerly):\n\u001b[1;32m   1962\u001b[0m       \u001b[0;31m# No tape is watching; skip to running the function.\u001b[0m\u001b[0;34m\u001b[0m\u001b[0;34m\u001b[0m\u001b[0m\n\u001b[0;32m-> 1963\u001b[0;31m       return self._build_call_outputs(self._inference_function.call(\n\u001b[0m\u001b[1;32m   1964\u001b[0m           ctx, args, cancellation_manager=cancellation_manager))\n\u001b[1;32m   1965\u001b[0m     forward_backward = self._select_forward_and_backward_functions(\n",
      "\u001b[0;32m/opt/conda/lib/python3.9/site-packages/tensorflow/python/eager/function.py\u001b[0m in \u001b[0;36mcall\u001b[0;34m(self, ctx, args, cancellation_manager)\u001b[0m\n\u001b[1;32m    589\u001b[0m       \u001b[0;32mwith\u001b[0m \u001b[0m_InterpolateFunctionError\u001b[0m\u001b[0;34m(\u001b[0m\u001b[0mself\u001b[0m\u001b[0;34m)\u001b[0m\u001b[0;34m:\u001b[0m\u001b[0;34m\u001b[0m\u001b[0;34m\u001b[0m\u001b[0m\n\u001b[1;32m    590\u001b[0m         \u001b[0;32mif\u001b[0m \u001b[0mcancellation_manager\u001b[0m \u001b[0;32mis\u001b[0m \u001b[0;32mNone\u001b[0m\u001b[0;34m:\u001b[0m\u001b[0;34m\u001b[0m\u001b[0;34m\u001b[0m\u001b[0m\n\u001b[0;32m--> 591\u001b[0;31m           outputs = execute.execute(\n\u001b[0m\u001b[1;32m    592\u001b[0m               \u001b[0mstr\u001b[0m\u001b[0;34m(\u001b[0m\u001b[0mself\u001b[0m\u001b[0;34m.\u001b[0m\u001b[0msignature\u001b[0m\u001b[0;34m.\u001b[0m\u001b[0mname\u001b[0m\u001b[0;34m)\u001b[0m\u001b[0;34m,\u001b[0m\u001b[0;34m\u001b[0m\u001b[0;34m\u001b[0m\u001b[0m\n\u001b[1;32m    593\u001b[0m               \u001b[0mnum_outputs\u001b[0m\u001b[0;34m=\u001b[0m\u001b[0mself\u001b[0m\u001b[0;34m.\u001b[0m\u001b[0m_num_outputs\u001b[0m\u001b[0;34m,\u001b[0m\u001b[0;34m\u001b[0m\u001b[0;34m\u001b[0m\u001b[0m\n",
      "\u001b[0;32m/opt/conda/lib/python3.9/site-packages/tensorflow/python/eager/execute.py\u001b[0m in \u001b[0;36mquick_execute\u001b[0;34m(op_name, num_outputs, inputs, attrs, ctx, name)\u001b[0m\n\u001b[1;32m     57\u001b[0m   \u001b[0;32mtry\u001b[0m\u001b[0;34m:\u001b[0m\u001b[0;34m\u001b[0m\u001b[0;34m\u001b[0m\u001b[0m\n\u001b[1;32m     58\u001b[0m     \u001b[0mctx\u001b[0m\u001b[0;34m.\u001b[0m\u001b[0mensure_initialized\u001b[0m\u001b[0;34m(\u001b[0m\u001b[0;34m)\u001b[0m\u001b[0;34m\u001b[0m\u001b[0;34m\u001b[0m\u001b[0m\n\u001b[0;32m---> 59\u001b[0;31m     tensors = pywrap_tfe.TFE_Py_Execute(ctx._handle, device_name, op_name,\n\u001b[0m\u001b[1;32m     60\u001b[0m                                         inputs, attrs, num_outputs)\n\u001b[1;32m     61\u001b[0m   \u001b[0;32mexcept\u001b[0m \u001b[0mcore\u001b[0m\u001b[0;34m.\u001b[0m\u001b[0m_NotOkStatusException\u001b[0m \u001b[0;32mas\u001b[0m \u001b[0me\u001b[0m\u001b[0;34m:\u001b[0m\u001b[0;34m\u001b[0m\u001b[0;34m\u001b[0m\u001b[0m\n",
      "\u001b[0;31mKeyboardInterrupt\u001b[0m: "
     ]
    }
   ],
   "source": [
    "model.compile(optimizer='adam',\n",
    "              loss=tf.keras.losses.CategoricalCrossentropy(),\n",
    "              metrics=['accuracy'])\n",
    "\n",
    "epochs=51\n",
    "\n",
    "history = model.fit(X_train,\n",
    "                    Y_train,\n",
    "                    epochs=epochs,\n",
    "                    validation_data=(X_test, Y_test), verbose=1)\n",
    "                    #batch_size=256"
   ]
  },
  {
   "cell_type": "code",
   "execution_count": 220,
   "id": "01b124e5",
   "metadata": {},
   "outputs": [
    {
     "name": "stdout",
     "output_type": "stream",
     "text": [
      "tf.Tensor(\n",
      "[0.09090909 0.35999998 0.3        0.58746356 0.41478813 0.\n",
      " 0.61538464 0.10526316 0.13304721 0.19736843 0.6666666  0.09976617\n",
      " 0.02586207 0.17730497 0.06779661 0.         0.11651728 0.05678234\n",
      " 0.31168833 0.13094573 0.09756097 0.22702703 0.         0.14285715\n",
      " 0.08333334 0.3898305  0.15384616 0.07142857 0.32000002 0.\n",
      " 0.21276595 0.30769232 0.09375    0.57142854 0.14925374 0.13333333\n",
      " 0.11347518 0.         0.13333334 0.         0.15       0.\n",
      " 0.28571427 0.57142854 0.8000001  0.6666667 ], shape=(46,), dtype=float32)\n"
     ]
    }
   ],
   "source": [
    "prediction=model.predict(X_test)\n",
    "import tensorflow_addons as tfa\n",
    "metric=tfa.metrics.F1Score(num_classes=46, threshold=0.5)\n",
    "metric.update_state(Y_test, prediction)\n",
    "result = metric.result()\n",
    "print(result)"
   ]
  },
  {
   "cell_type": "code",
   "execution_count": 225,
   "id": "2461ac1b",
   "metadata": {},
   "outputs": [
    {
     "name": "stdout",
     "output_type": "stream",
     "text": [
      "Model: \"sequential_57\"\n",
      "_________________________________________________________________\n",
      "Layer (type)                 Output Shape              Param #   \n",
      "=================================================================\n",
      "embedding_57 (Embedding)     (None, None, 256)         2555648   \n",
      "_________________________________________________________________\n",
      "lstm_68 (LSTM)               (None, 512)               1574912   \n",
      "_________________________________________________________________\n",
      "dense_121 (Dense)            (None, 512)               262656    \n",
      "_________________________________________________________________\n",
      "dense_122 (Dense)            (None, 46)                23598     \n",
      "=================================================================\n",
      "Total params: 4,416,814\n",
      "Trainable params: 4,416,814\n",
      "Non-trainable params: 0\n",
      "_________________________________________________________________\n"
     ]
    }
   ],
   "source": [
    "vocab_size = 9983\n",
    "word_vector_dim = 256  # 단어 하나를 표현하는 임베딩 벡터의 차원수입니다. \n",
    "\n",
    "model = tf.keras.Sequential()\n",
    "model.add(tf.keras.layers.Embedding(vocab_size, word_vector_dim, input_shape=(None,)))\n",
    "#model.add(tf.keras.layers.LSTM(256, return_sequences=True))\n",
    "model.add(tf.keras.layers.LSTM(512))\n",
    "model.add(tf.keras.layers.Dense(512, activation='relu'))\n",
    "model.add(tf.keras.layers.Dense(46, activation='sigmoid'))\n",
    "#model.add(tf.keras.layers.Dense(1, activation='softmax'))\n",
    "model.summary()"
   ]
  },
  {
   "cell_type": "code",
   "execution_count": 226,
   "id": "47105118",
   "metadata": {},
   "outputs": [
    {
     "name": "stdout",
     "output_type": "stream",
     "text": [
      "Epoch 1/20\n",
      "281/281 [==============================] - 22s 75ms/step - loss: 2.3216 - accuracy: 0.3912 - val_loss: 2.0339 - val_accuracy: 0.4978\n",
      "Epoch 2/20\n",
      "281/281 [==============================] - 21s 73ms/step - loss: 1.8376 - accuracy: 0.5177 - val_loss: 1.6968 - val_accuracy: 0.5717\n",
      "Epoch 3/20\n",
      "281/281 [==============================] - 20s 72ms/step - loss: 1.6268 - accuracy: 0.5785 - val_loss: 1.7024 - val_accuracy: 0.5668\n",
      "Epoch 4/20\n",
      "281/281 [==============================] - 20s 72ms/step - loss: 1.5427 - accuracy: 0.6058 - val_loss: 1.5612 - val_accuracy: 0.6327\n",
      "Epoch 5/20\n",
      "281/281 [==============================] - 21s 73ms/step - loss: 1.3452 - accuracy: 0.6651 - val_loss: 1.4041 - val_accuracy: 0.6434\n",
      "Epoch 6/20\n",
      "281/281 [==============================] - 21s 73ms/step - loss: 1.1557 - accuracy: 0.7036 - val_loss: 1.3100 - val_accuracy: 0.6674\n",
      "Epoch 7/20\n",
      "281/281 [==============================] - 20s 73ms/step - loss: 0.9785 - accuracy: 0.7450 - val_loss: 1.2914 - val_accuracy: 0.6843\n",
      "Epoch 8/20\n",
      "281/281 [==============================] - 20s 73ms/step - loss: 0.8396 - accuracy: 0.7819 - val_loss: 1.2675 - val_accuracy: 0.6959\n",
      "Epoch 9/20\n",
      "281/281 [==============================] - 21s 73ms/step - loss: 0.7235 - accuracy: 0.8138 - val_loss: 1.2928 - val_accuracy: 0.7070\n",
      "Epoch 10/20\n",
      "281/281 [==============================] - 21s 73ms/step - loss: 0.6253 - accuracy: 0.8420 - val_loss: 1.3450 - val_accuracy: 0.7195\n",
      "Epoch 11/20\n",
      "281/281 [==============================] - 21s 73ms/step - loss: 0.5354 - accuracy: 0.8622 - val_loss: 1.4026 - val_accuracy: 0.7164\n",
      "Epoch 12/20\n",
      "281/281 [==============================] - 21s 73ms/step - loss: 0.4591 - accuracy: 0.8800 - val_loss: 1.4602 - val_accuracy: 0.7142\n",
      "Epoch 13/20\n",
      "281/281 [==============================] - 21s 73ms/step - loss: 0.4071 - accuracy: 0.8929 - val_loss: 1.5502 - val_accuracy: 0.7061\n",
      "Epoch 14/20\n",
      "281/281 [==============================] - 21s 73ms/step - loss: 0.3468 - accuracy: 0.9055 - val_loss: 1.7294 - val_accuracy: 0.7088\n",
      "Epoch 15/20\n",
      "281/281 [==============================] - 20s 73ms/step - loss: 0.3052 - accuracy: 0.9158 - val_loss: 1.7436 - val_accuracy: 0.7199\n",
      "Epoch 16/20\n",
      "281/281 [==============================] - 21s 73ms/step - loss: 0.2681 - accuracy: 0.9271 - val_loss: 1.8474 - val_accuracy: 0.7142\n",
      "Epoch 17/20\n",
      "281/281 [==============================] - 21s 73ms/step - loss: 0.2408 - accuracy: 0.9338 - val_loss: 1.8547 - val_accuracy: 0.7142\n",
      "Epoch 18/20\n",
      "281/281 [==============================] - 21s 73ms/step - loss: 0.2271 - accuracy: 0.9358 - val_loss: 1.8843 - val_accuracy: 0.7222\n",
      "Epoch 19/20\n",
      "281/281 [==============================] - 21s 73ms/step - loss: 0.2070 - accuracy: 0.9378 - val_loss: 1.9607 - val_accuracy: 0.7070\n",
      "Epoch 20/20\n",
      "281/281 [==============================] - 21s 73ms/step - loss: 0.1856 - accuracy: 0.9429 - val_loss: 1.8805 - val_accuracy: 0.7146\n"
     ]
    }
   ],
   "source": [
    "model.compile(optimizer='adam',\n",
    "              loss=tf.keras.losses.CategoricalCrossentropy(),\n",
    "              metrics=['accuracy'])\n",
    "\n",
    "epochs=20\n",
    "\n",
    "history = model.fit(X_train,\n",
    "                    Y_train,\n",
    "                    epochs=epochs,\n",
    "                    validation_data=(X_test, Y_test), verbose=1)\n",
    "                    #batch_size=256"
   ]
  },
  {
   "cell_type": "code",
   "execution_count": 227,
   "id": "2325731e",
   "metadata": {},
   "outputs": [
    {
     "name": "stdout",
     "output_type": "stream",
     "text": [
      "tf.Tensor(\n",
      "[0.11290322 0.24329627 0.2681564  0.5805291  0.40511352 0.11111111\n",
      " 0.3877551  0.03488372 0.12139303 0.30769232 0.34482762 0.12202381\n",
      " 0.03993345 0.12162162 0.03428572 0.         0.12183436 0.04222222\n",
      " 0.34666663 0.13130194 0.10493553 0.24528301 0.         0.0487013\n",
      " 0.16666667 0.45360827 0.25       0.04255319 0.17142858 0.03773585\n",
      " 0.2162162  0.18823531 0.16666667 0.17977527 0.14953272 0.02807018\n",
      " 0.15261045 0.03636364 0.22222224 0.01526718 0.11494253 0.03733334\n",
      " 0.03846154 0.3        0.72727275 0.09302326], shape=(46,), dtype=float32)\n"
     ]
    }
   ],
   "source": [
    "prediction=model.predict(X_test)\n",
    "metric.update_state(Y_test, prediction)\n",
    "result = metric.result()\n",
    "print(result)"
   ]
  },
  {
   "cell_type": "code",
   "execution_count": 342,
   "id": "40cdaee3",
   "metadata": {},
   "outputs": [],
   "source": [
    "#plotgraphs\n",
    "w12500={'Voting':0.8192341941228851,\n",
    "'NaiveBayes':0.6455921638468388,\n",
    "'DecisionTree':0.6206589492430988,\n",
    "'RandomForest':0.6812110418521816,\n",
    "'GradientBoosting':0.7747105966162066,\n",
    "'LR':0.8107747105966162,\n",
    "'LinearSVC':0.7907390917186109,\n",
    "'CNB':0.7733748886910062}\n",
    "\n",
    "w7500={'Voting':0.8130008904719501,\n",
    "'NaiveBayes':0.6642920747996438,\n",
    "'DecisionTree':0.6202137132680321,\n",
    "'RandomForest':0.6878895814781835,\n",
    "'GradientBoosting':0.7693677649154052,\n",
    "'LR':0.8040961709706145,\n",
    "'LinearSVC':0.7871772039180766,\n",
    "'CNB':0.7693677649154052}\n",
    "\n",
    "w15000={'Voting':0.8143365983971504,\n",
    "'NaiveBayes':0.6331255565449688,\n",
    "'DecisionTree':0.6193232413178985,\n",
    "'RandomForest':0.6714158504007124,\n",
    "'GradientBoosting':0.7707034728406055,\n",
    "'LR':0.8147818343722173,\n",
    "'LinearSVC':0.784060552092609,\n",
    "'CNB':0.7720391807658059}\n",
    "\n",
    "w5000={'Voting':0.8103294746215495,\n",
    "'NaiveBayes':0.6731967943009796,\n",
    "'DecisionTree':0.6179875333926982,\n",
    "'RandomForest':0.701246660730187,\n",
    "'GradientBoosting':0.767586821015138,\n",
    "'LR':0.8036509349955476,\n",
    "'LinearSVC':0.7751558325912734,\n",
    "'CNB':0.7707034728406055}\n",
    "\n",
    "\n",
    "w10000={'Voting':0.8165627782724845,\n",
    "'NaiveBayes':0.6567230632235085,\n",
    "'DecisionTree':0.6211041852181657,\n",
    "'RandomForest':0.6544968833481746,\n",
    "'GradientBoosting':0.7702582368655387,\n",
    "'CNB':0.7707034728406055,\n",
    "'LR':0.8107747105966162,\n",
    "'LinearSVC':0.784060552092609}\n",
    "\n",
    "wMax={'Voting':0.8156723063223509,\n",
    "'NaiveBayes':0.5997328584149599,\n",
    "'DecisionTree':0.6211041852181657,\n",
    "'RandomForest':0.6544968833481746,\n",
    "'GradientBossting':0.7702582368655387,\n",
    "'LR':0.8165627782724845,\n",
    "'LinearSVC':0.7934105075690115,\n",
    "'CNB':0.7649154051647373}"
   ]
  },
  {
   "cell_type": "markdown",
   "id": "0d4e467d",
   "metadata": {},
   "source": [
    "# 결과 분석"
   ]
  },
  {
   "cell_type": "code",
   "execution_count": 343,
   "id": "04646a50",
   "metadata": {},
   "outputs": [
    {
     "data": {
      "text/html": [
       "<div>\n",
       "<style scoped>\n",
       "    .dataframe tbody tr th:only-of-type {\n",
       "        vertical-align: middle;\n",
       "    }\n",
       "\n",
       "    .dataframe tbody tr th {\n",
       "        vertical-align: top;\n",
       "    }\n",
       "\n",
       "    .dataframe thead th {\n",
       "        text-align: right;\n",
       "    }\n",
       "</style>\n",
       "<table border=\"1\" class=\"dataframe\">\n",
       "  <thead>\n",
       "    <tr style=\"text-align: right;\">\n",
       "      <th></th>\n",
       "      <th>model</th>\n",
       "      <th>12500acc</th>\n",
       "    </tr>\n",
       "  </thead>\n",
       "  <tbody>\n",
       "    <tr>\n",
       "      <th>0</th>\n",
       "      <td>Voting</td>\n",
       "      <td>0.819234</td>\n",
       "    </tr>\n",
       "    <tr>\n",
       "      <th>1</th>\n",
       "      <td>NaiveBayes</td>\n",
       "      <td>0.645592</td>\n",
       "    </tr>\n",
       "    <tr>\n",
       "      <th>2</th>\n",
       "      <td>DecisionTree</td>\n",
       "      <td>0.620659</td>\n",
       "    </tr>\n",
       "    <tr>\n",
       "      <th>3</th>\n",
       "      <td>RandomForest</td>\n",
       "      <td>0.681211</td>\n",
       "    </tr>\n",
       "    <tr>\n",
       "      <th>4</th>\n",
       "      <td>GradientBoosting</td>\n",
       "      <td>0.774711</td>\n",
       "    </tr>\n",
       "    <tr>\n",
       "      <th>5</th>\n",
       "      <td>LR</td>\n",
       "      <td>0.810775</td>\n",
       "    </tr>\n",
       "    <tr>\n",
       "      <th>6</th>\n",
       "      <td>LinearSVC</td>\n",
       "      <td>0.790739</td>\n",
       "    </tr>\n",
       "    <tr>\n",
       "      <th>7</th>\n",
       "      <td>CNB</td>\n",
       "      <td>0.773375</td>\n",
       "    </tr>\n",
       "  </tbody>\n",
       "</table>\n",
       "</div>"
      ],
      "text/plain": [
       "              model  12500acc\n",
       "0            Voting  0.819234\n",
       "1        NaiveBayes  0.645592\n",
       "2      DecisionTree  0.620659\n",
       "3      RandomForest  0.681211\n",
       "4  GradientBoosting  0.774711\n",
       "5                LR  0.810775\n",
       "6         LinearSVC  0.790739\n",
       "7               CNB  0.773375"
      ]
     },
     "execution_count": 343,
     "metadata": {},
     "output_type": "execute_result"
    }
   ],
   "source": [
    "keys=[]\n",
    "values=[]\n",
    "for key,value in w12500.items():\n",
    "    keys.append(key)\n",
    "    values.append(value)\n",
    "    \n",
    "results=pd.DataFrame({'model':keys,'12500acc':values})\n",
    "results"
   ]
  },
  {
   "cell_type": "code",
   "execution_count": 344,
   "id": "83e39b20",
   "metadata": {},
   "outputs": [
    {
     "data": {
      "text/html": [
       "<div>\n",
       "<style scoped>\n",
       "    .dataframe tbody tr th:only-of-type {\n",
       "        vertical-align: middle;\n",
       "    }\n",
       "\n",
       "    .dataframe tbody tr th {\n",
       "        vertical-align: top;\n",
       "    }\n",
       "\n",
       "    .dataframe thead th {\n",
       "        text-align: right;\n",
       "    }\n",
       "</style>\n",
       "<table border=\"1\" class=\"dataframe\">\n",
       "  <thead>\n",
       "    <tr style=\"text-align: right;\">\n",
       "      <th></th>\n",
       "      <th>model</th>\n",
       "      <th>5000acc</th>\n",
       "    </tr>\n",
       "  </thead>\n",
       "  <tbody>\n",
       "    <tr>\n",
       "      <th>0</th>\n",
       "      <td>Voting</td>\n",
       "      <td>0.810329</td>\n",
       "    </tr>\n",
       "    <tr>\n",
       "      <th>1</th>\n",
       "      <td>NaiveBayes</td>\n",
       "      <td>0.673197</td>\n",
       "    </tr>\n",
       "    <tr>\n",
       "      <th>2</th>\n",
       "      <td>DecisionTree</td>\n",
       "      <td>0.617988</td>\n",
       "    </tr>\n",
       "    <tr>\n",
       "      <th>3</th>\n",
       "      <td>RandomForest</td>\n",
       "      <td>0.701247</td>\n",
       "    </tr>\n",
       "    <tr>\n",
       "      <th>4</th>\n",
       "      <td>GradientBoosting</td>\n",
       "      <td>0.767587</td>\n",
       "    </tr>\n",
       "    <tr>\n",
       "      <th>5</th>\n",
       "      <td>LR</td>\n",
       "      <td>0.803651</td>\n",
       "    </tr>\n",
       "    <tr>\n",
       "      <th>6</th>\n",
       "      <td>LinearSVC</td>\n",
       "      <td>0.775156</td>\n",
       "    </tr>\n",
       "    <tr>\n",
       "      <th>7</th>\n",
       "      <td>CNB</td>\n",
       "      <td>0.770703</td>\n",
       "    </tr>\n",
       "  </tbody>\n",
       "</table>\n",
       "</div>"
      ],
      "text/plain": [
       "              model   5000acc\n",
       "0            Voting  0.810329\n",
       "1        NaiveBayes  0.673197\n",
       "2      DecisionTree  0.617988\n",
       "3      RandomForest  0.701247\n",
       "4  GradientBoosting  0.767587\n",
       "5                LR  0.803651\n",
       "6         LinearSVC  0.775156\n",
       "7               CNB  0.770703"
      ]
     },
     "execution_count": 344,
     "metadata": {},
     "output_type": "execute_result"
    }
   ],
   "source": [
    "keys=[]\n",
    "values=[]\n",
    "for key,value in w5000.items():\n",
    "    keys.append(key)\n",
    "    values.append(value)\n",
    "    \n",
    "results2=pd.DataFrame({'model':keys,'5000acc':values})\n",
    "results2"
   ]
  },
  {
   "cell_type": "code",
   "execution_count": 345,
   "id": "b9f037c8",
   "metadata": {},
   "outputs": [
    {
     "data": {
      "text/html": [
       "<div>\n",
       "<style scoped>\n",
       "    .dataframe tbody tr th:only-of-type {\n",
       "        vertical-align: middle;\n",
       "    }\n",
       "\n",
       "    .dataframe tbody tr th {\n",
       "        vertical-align: top;\n",
       "    }\n",
       "\n",
       "    .dataframe thead th {\n",
       "        text-align: right;\n",
       "    }\n",
       "</style>\n",
       "<table border=\"1\" class=\"dataframe\">\n",
       "  <thead>\n",
       "    <tr style=\"text-align: right;\">\n",
       "      <th></th>\n",
       "      <th>model</th>\n",
       "      <th>12500acc</th>\n",
       "      <th>5000acc</th>\n",
       "    </tr>\n",
       "  </thead>\n",
       "  <tbody>\n",
       "    <tr>\n",
       "      <th>0</th>\n",
       "      <td>Voting</td>\n",
       "      <td>0.819234</td>\n",
       "      <td>0.810329</td>\n",
       "    </tr>\n",
       "    <tr>\n",
       "      <th>1</th>\n",
       "      <td>NaiveBayes</td>\n",
       "      <td>0.645592</td>\n",
       "      <td>0.673197</td>\n",
       "    </tr>\n",
       "    <tr>\n",
       "      <th>2</th>\n",
       "      <td>DecisionTree</td>\n",
       "      <td>0.620659</td>\n",
       "      <td>0.617988</td>\n",
       "    </tr>\n",
       "    <tr>\n",
       "      <th>3</th>\n",
       "      <td>RandomForest</td>\n",
       "      <td>0.681211</td>\n",
       "      <td>0.701247</td>\n",
       "    </tr>\n",
       "    <tr>\n",
       "      <th>4</th>\n",
       "      <td>GradientBoosting</td>\n",
       "      <td>0.774711</td>\n",
       "      <td>0.767587</td>\n",
       "    </tr>\n",
       "    <tr>\n",
       "      <th>5</th>\n",
       "      <td>LR</td>\n",
       "      <td>0.810775</td>\n",
       "      <td>0.803651</td>\n",
       "    </tr>\n",
       "    <tr>\n",
       "      <th>6</th>\n",
       "      <td>LinearSVC</td>\n",
       "      <td>0.790739</td>\n",
       "      <td>0.775156</td>\n",
       "    </tr>\n",
       "    <tr>\n",
       "      <th>7</th>\n",
       "      <td>CNB</td>\n",
       "      <td>0.773375</td>\n",
       "      <td>0.770703</td>\n",
       "    </tr>\n",
       "  </tbody>\n",
       "</table>\n",
       "</div>"
      ],
      "text/plain": [
       "              model  12500acc   5000acc\n",
       "0            Voting  0.819234  0.810329\n",
       "1        NaiveBayes  0.645592  0.673197\n",
       "2      DecisionTree  0.620659  0.617988\n",
       "3      RandomForest  0.681211  0.701247\n",
       "4  GradientBoosting  0.774711  0.767587\n",
       "5                LR  0.810775  0.803651\n",
       "6         LinearSVC  0.790739  0.775156\n",
       "7               CNB  0.773375  0.770703"
      ]
     },
     "execution_count": 345,
     "metadata": {},
     "output_type": "execute_result"
    }
   ],
   "source": [
    "results=results.merge(results2, how='inner', on='model')\n",
    "results"
   ]
  },
  {
   "cell_type": "code",
   "execution_count": 346,
   "id": "cf0d5020",
   "metadata": {},
   "outputs": [
    {
     "data": {
      "text/html": [
       "<div>\n",
       "<style scoped>\n",
       "    .dataframe tbody tr th:only-of-type {\n",
       "        vertical-align: middle;\n",
       "    }\n",
       "\n",
       "    .dataframe tbody tr th {\n",
       "        vertical-align: top;\n",
       "    }\n",
       "\n",
       "    .dataframe thead th {\n",
       "        text-align: right;\n",
       "    }\n",
       "</style>\n",
       "<table border=\"1\" class=\"dataframe\">\n",
       "  <thead>\n",
       "    <tr style=\"text-align: right;\">\n",
       "      <th></th>\n",
       "      <th>model</th>\n",
       "      <th>12500acc</th>\n",
       "      <th>5000acc</th>\n",
       "      <th>7500acc</th>\n",
       "    </tr>\n",
       "  </thead>\n",
       "  <tbody>\n",
       "    <tr>\n",
       "      <th>0</th>\n",
       "      <td>Voting</td>\n",
       "      <td>0.819234</td>\n",
       "      <td>0.810329</td>\n",
       "      <td>0.813001</td>\n",
       "    </tr>\n",
       "    <tr>\n",
       "      <th>1</th>\n",
       "      <td>NaiveBayes</td>\n",
       "      <td>0.645592</td>\n",
       "      <td>0.673197</td>\n",
       "      <td>0.664292</td>\n",
       "    </tr>\n",
       "    <tr>\n",
       "      <th>2</th>\n",
       "      <td>DecisionTree</td>\n",
       "      <td>0.620659</td>\n",
       "      <td>0.617988</td>\n",
       "      <td>0.620214</td>\n",
       "    </tr>\n",
       "    <tr>\n",
       "      <th>3</th>\n",
       "      <td>RandomForest</td>\n",
       "      <td>0.681211</td>\n",
       "      <td>0.701247</td>\n",
       "      <td>0.687890</td>\n",
       "    </tr>\n",
       "    <tr>\n",
       "      <th>4</th>\n",
       "      <td>GradientBoosting</td>\n",
       "      <td>0.774711</td>\n",
       "      <td>0.767587</td>\n",
       "      <td>0.769368</td>\n",
       "    </tr>\n",
       "    <tr>\n",
       "      <th>5</th>\n",
       "      <td>LR</td>\n",
       "      <td>0.810775</td>\n",
       "      <td>0.803651</td>\n",
       "      <td>0.804096</td>\n",
       "    </tr>\n",
       "    <tr>\n",
       "      <th>6</th>\n",
       "      <td>LinearSVC</td>\n",
       "      <td>0.790739</td>\n",
       "      <td>0.775156</td>\n",
       "      <td>0.787177</td>\n",
       "    </tr>\n",
       "    <tr>\n",
       "      <th>7</th>\n",
       "      <td>CNB</td>\n",
       "      <td>0.773375</td>\n",
       "      <td>0.770703</td>\n",
       "      <td>0.769368</td>\n",
       "    </tr>\n",
       "  </tbody>\n",
       "</table>\n",
       "</div>"
      ],
      "text/plain": [
       "              model  12500acc   5000acc   7500acc\n",
       "0            Voting  0.819234  0.810329  0.813001\n",
       "1        NaiveBayes  0.645592  0.673197  0.664292\n",
       "2      DecisionTree  0.620659  0.617988  0.620214\n",
       "3      RandomForest  0.681211  0.701247  0.687890\n",
       "4  GradientBoosting  0.774711  0.767587  0.769368\n",
       "5                LR  0.810775  0.803651  0.804096\n",
       "6         LinearSVC  0.790739  0.775156  0.787177\n",
       "7               CNB  0.773375  0.770703  0.769368"
      ]
     },
     "execution_count": 346,
     "metadata": {},
     "output_type": "execute_result"
    }
   ],
   "source": [
    "keys=[]\n",
    "values=[]\n",
    "for key,value in w7500.items():\n",
    "    keys.append(key)\n",
    "    values.append(value)\n",
    "    \n",
    "results2=pd.DataFrame({'model':keys,'7500acc':values})\n",
    "results=results.merge(results2, how='inner', on='model')\n",
    "results"
   ]
  },
  {
   "cell_type": "code",
   "execution_count": 347,
   "id": "0c7cfcd1",
   "metadata": {},
   "outputs": [
    {
     "data": {
      "text/html": [
       "<div>\n",
       "<style scoped>\n",
       "    .dataframe tbody tr th:only-of-type {\n",
       "        vertical-align: middle;\n",
       "    }\n",
       "\n",
       "    .dataframe tbody tr th {\n",
       "        vertical-align: top;\n",
       "    }\n",
       "\n",
       "    .dataframe thead th {\n",
       "        text-align: right;\n",
       "    }\n",
       "</style>\n",
       "<table border=\"1\" class=\"dataframe\">\n",
       "  <thead>\n",
       "    <tr style=\"text-align: right;\">\n",
       "      <th></th>\n",
       "      <th>model</th>\n",
       "      <th>12500acc</th>\n",
       "      <th>5000acc</th>\n",
       "      <th>7500acc</th>\n",
       "      <th>10000acc</th>\n",
       "    </tr>\n",
       "  </thead>\n",
       "  <tbody>\n",
       "    <tr>\n",
       "      <th>0</th>\n",
       "      <td>Voting</td>\n",
       "      <td>0.819234</td>\n",
       "      <td>0.810329</td>\n",
       "      <td>0.813001</td>\n",
       "      <td>0.816563</td>\n",
       "    </tr>\n",
       "    <tr>\n",
       "      <th>1</th>\n",
       "      <td>NaiveBayes</td>\n",
       "      <td>0.645592</td>\n",
       "      <td>0.673197</td>\n",
       "      <td>0.664292</td>\n",
       "      <td>0.656723</td>\n",
       "    </tr>\n",
       "    <tr>\n",
       "      <th>2</th>\n",
       "      <td>DecisionTree</td>\n",
       "      <td>0.620659</td>\n",
       "      <td>0.617988</td>\n",
       "      <td>0.620214</td>\n",
       "      <td>0.621104</td>\n",
       "    </tr>\n",
       "    <tr>\n",
       "      <th>3</th>\n",
       "      <td>RandomForest</td>\n",
       "      <td>0.681211</td>\n",
       "      <td>0.701247</td>\n",
       "      <td>0.687890</td>\n",
       "      <td>0.654497</td>\n",
       "    </tr>\n",
       "    <tr>\n",
       "      <th>4</th>\n",
       "      <td>GradientBoosting</td>\n",
       "      <td>0.774711</td>\n",
       "      <td>0.767587</td>\n",
       "      <td>0.769368</td>\n",
       "      <td>0.770258</td>\n",
       "    </tr>\n",
       "    <tr>\n",
       "      <th>5</th>\n",
       "      <td>LR</td>\n",
       "      <td>0.810775</td>\n",
       "      <td>0.803651</td>\n",
       "      <td>0.804096</td>\n",
       "      <td>0.810775</td>\n",
       "    </tr>\n",
       "    <tr>\n",
       "      <th>6</th>\n",
       "      <td>LinearSVC</td>\n",
       "      <td>0.790739</td>\n",
       "      <td>0.775156</td>\n",
       "      <td>0.787177</td>\n",
       "      <td>0.784061</td>\n",
       "    </tr>\n",
       "    <tr>\n",
       "      <th>7</th>\n",
       "      <td>CNB</td>\n",
       "      <td>0.773375</td>\n",
       "      <td>0.770703</td>\n",
       "      <td>0.769368</td>\n",
       "      <td>0.770703</td>\n",
       "    </tr>\n",
       "  </tbody>\n",
       "</table>\n",
       "</div>"
      ],
      "text/plain": [
       "              model  12500acc   5000acc   7500acc  10000acc\n",
       "0            Voting  0.819234  0.810329  0.813001  0.816563\n",
       "1        NaiveBayes  0.645592  0.673197  0.664292  0.656723\n",
       "2      DecisionTree  0.620659  0.617988  0.620214  0.621104\n",
       "3      RandomForest  0.681211  0.701247  0.687890  0.654497\n",
       "4  GradientBoosting  0.774711  0.767587  0.769368  0.770258\n",
       "5                LR  0.810775  0.803651  0.804096  0.810775\n",
       "6         LinearSVC  0.790739  0.775156  0.787177  0.784061\n",
       "7               CNB  0.773375  0.770703  0.769368  0.770703"
      ]
     },
     "execution_count": 347,
     "metadata": {},
     "output_type": "execute_result"
    }
   ],
   "source": [
    "keys=[]\n",
    "values=[]\n",
    "for key,value in w10000.items():\n",
    "    keys.append(key)\n",
    "    values.append(value)\n",
    "    \n",
    "results2=pd.DataFrame({'model':keys,'10000acc':values})\n",
    "results=results.merge(results2, how='inner', on='model')\n",
    "results"
   ]
  },
  {
   "cell_type": "code",
   "execution_count": 348,
   "id": "4fc7ce30",
   "metadata": {},
   "outputs": [
    {
     "data": {
      "text/html": [
       "<div>\n",
       "<style scoped>\n",
       "    .dataframe tbody tr th:only-of-type {\n",
       "        vertical-align: middle;\n",
       "    }\n",
       "\n",
       "    .dataframe tbody tr th {\n",
       "        vertical-align: top;\n",
       "    }\n",
       "\n",
       "    .dataframe thead th {\n",
       "        text-align: right;\n",
       "    }\n",
       "</style>\n",
       "<table border=\"1\" class=\"dataframe\">\n",
       "  <thead>\n",
       "    <tr style=\"text-align: right;\">\n",
       "      <th></th>\n",
       "      <th>model</th>\n",
       "      <th>12500acc</th>\n",
       "      <th>5000acc</th>\n",
       "      <th>7500acc</th>\n",
       "      <th>10000acc</th>\n",
       "      <th>15000acc</th>\n",
       "    </tr>\n",
       "  </thead>\n",
       "  <tbody>\n",
       "    <tr>\n",
       "      <th>0</th>\n",
       "      <td>Voting</td>\n",
       "      <td>0.819234</td>\n",
       "      <td>0.810329</td>\n",
       "      <td>0.813001</td>\n",
       "      <td>0.816563</td>\n",
       "      <td>0.814337</td>\n",
       "    </tr>\n",
       "    <tr>\n",
       "      <th>1</th>\n",
       "      <td>NaiveBayes</td>\n",
       "      <td>0.645592</td>\n",
       "      <td>0.673197</td>\n",
       "      <td>0.664292</td>\n",
       "      <td>0.656723</td>\n",
       "      <td>0.633126</td>\n",
       "    </tr>\n",
       "    <tr>\n",
       "      <th>2</th>\n",
       "      <td>DecisionTree</td>\n",
       "      <td>0.620659</td>\n",
       "      <td>0.617988</td>\n",
       "      <td>0.620214</td>\n",
       "      <td>0.621104</td>\n",
       "      <td>0.619323</td>\n",
       "    </tr>\n",
       "    <tr>\n",
       "      <th>3</th>\n",
       "      <td>RandomForest</td>\n",
       "      <td>0.681211</td>\n",
       "      <td>0.701247</td>\n",
       "      <td>0.687890</td>\n",
       "      <td>0.654497</td>\n",
       "      <td>0.671416</td>\n",
       "    </tr>\n",
       "    <tr>\n",
       "      <th>4</th>\n",
       "      <td>GradientBoosting</td>\n",
       "      <td>0.774711</td>\n",
       "      <td>0.767587</td>\n",
       "      <td>0.769368</td>\n",
       "      <td>0.770258</td>\n",
       "      <td>0.770703</td>\n",
       "    </tr>\n",
       "    <tr>\n",
       "      <th>5</th>\n",
       "      <td>LR</td>\n",
       "      <td>0.810775</td>\n",
       "      <td>0.803651</td>\n",
       "      <td>0.804096</td>\n",
       "      <td>0.810775</td>\n",
       "      <td>0.814782</td>\n",
       "    </tr>\n",
       "    <tr>\n",
       "      <th>6</th>\n",
       "      <td>LinearSVC</td>\n",
       "      <td>0.790739</td>\n",
       "      <td>0.775156</td>\n",
       "      <td>0.787177</td>\n",
       "      <td>0.784061</td>\n",
       "      <td>0.784061</td>\n",
       "    </tr>\n",
       "    <tr>\n",
       "      <th>7</th>\n",
       "      <td>CNB</td>\n",
       "      <td>0.773375</td>\n",
       "      <td>0.770703</td>\n",
       "      <td>0.769368</td>\n",
       "      <td>0.770703</td>\n",
       "      <td>0.772039</td>\n",
       "    </tr>\n",
       "  </tbody>\n",
       "</table>\n",
       "</div>"
      ],
      "text/plain": [
       "              model  12500acc   5000acc   7500acc  10000acc  15000acc\n",
       "0            Voting  0.819234  0.810329  0.813001  0.816563  0.814337\n",
       "1        NaiveBayes  0.645592  0.673197  0.664292  0.656723  0.633126\n",
       "2      DecisionTree  0.620659  0.617988  0.620214  0.621104  0.619323\n",
       "3      RandomForest  0.681211  0.701247  0.687890  0.654497  0.671416\n",
       "4  GradientBoosting  0.774711  0.767587  0.769368  0.770258  0.770703\n",
       "5                LR  0.810775  0.803651  0.804096  0.810775  0.814782\n",
       "6         LinearSVC  0.790739  0.775156  0.787177  0.784061  0.784061\n",
       "7               CNB  0.773375  0.770703  0.769368  0.770703  0.772039"
      ]
     },
     "execution_count": 348,
     "metadata": {},
     "output_type": "execute_result"
    }
   ],
   "source": [
    "keys=[]\n",
    "values=[]\n",
    "for key,value in w15000.items():\n",
    "    keys.append(key)\n",
    "    values.append(value)\n",
    "    \n",
    "results2=pd.DataFrame({'model':keys,'15000acc':values})\n",
    "results=results.merge(results2, how='inner', on='model')\n",
    "results"
   ]
  },
  {
   "cell_type": "code",
   "execution_count": 349,
   "id": "2245dc1a",
   "metadata": {},
   "outputs": [],
   "source": [
    "results_sorted = results[['model','5000acc','7500acc','10000acc','12500acc','15000acc']]"
   ]
  },
  {
   "cell_type": "code",
   "execution_count": 359,
   "id": "b8b80153",
   "metadata": {},
   "outputs": [
    {
     "data": {
      "image/png": "[encoded data removed]",
      "text/plain": [
       "<Figure size 720x576 with 1 Axes>"
      ]
     },
     "metadata": {
      "needs_background": "light"
     },
     "output_type": "display_data"
    }
   ],
   "source": [
    "results_sorted.plot.barh(x='model', xlim=(0.5,1.0), figsize=(10,8), title=None)\n",
    "plt.show()"
   ]
  },
  {
   "cell_type": "markdown",
   "id": "8c5ae745",
   "metadata": {},
   "source": [
    "# 결과,  회고, 돌아보기\n",
    "\n",
    "위에서 훈련했던 LSTM 넣은 모델이 0.7을 간신히 넘겼으니까 낮은 편입니다. 여기에 들어가면 전체 9개 중 뒤에서 4등이 됩니다.\n",
    "분류 클래스의 수가 46개나 되고 편중이 심한 데이터셋이므로 f1-score를 보는게 좋겠습니다. 그런데 하나도 맞추지 못해서 0으로 나누게 되는 경우가 너무 많아 f1-score를 보기도 어렵습니다.\n",
    "Multinomial Naive Bayes 모델, 단어 10000개의 경우를 보면 f1-score들의 평균이 0.10인데 가중치를 고려한 평균은 0.58(weighted average)로 엄청나게 차이가 났습니다.\n",
    "\n",
    "## num_words에 따른 정확도\n",
    "(Multinomial) NaiveByes나 RandomForest의 경우 num_words가 적을수록 정확했지만, Linear Regression, Voting, GradientBoosting 등에서는 num_words가 클수록 정확했습니다. 하지만 그 관계성이 뚜렷하게 나타나지는 않고, accuracy에 큰 영향을 끼치지도 않았습니다.\n",
    "\n",
    "\n"
   ]
  },
  {
   "cell_type": "code",
   "execution_count": null,
   "id": "2f820008",
   "metadata": {},
   "outputs": [],
   "source": []
  }
 ],
 "metadata": {
  "kernelspec": {
   "display_name": "Python 3 (ipykernel)",
   "language": "python",
   "name": "python3"
  },
  "language_info": {
   "codemirror_mode": {
    "name": "ipython",
    "version": 3
   },
   "file_extension": ".py",
   "mimetype": "text/x-python",
   "name": "python",
   "nbconvert_exporter": "python",
   "pygments_lexer": "ipython3",
   "version": "3.9.7"
  }
 },
 "nbformat": 4,
 "nbformat_minor": 5
}
