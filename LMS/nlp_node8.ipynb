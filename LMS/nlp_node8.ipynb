{
  "nbformat": 4,
  "nbformat_minor": 0,
  "metadata": {
    "colab": {
      "provenance": [],
      "mount_file_id": "1Z8e4KRj05KrAsf_goMWSAGc73YBUM7OE",
      "authorship_tag": "ABX9TyO/0D77CCFsyAnTy3W1Uojr",
      "include_colab_link": true
    },
    "kernelspec": {
      "name": "python3",
      "display_name": "Python 3"
    },
    "language_info": {
      "name": "python"
    }
  },
  "cells": [
    {
      "cell_type": "markdown",
      "metadata": {
        "id": "view-in-github",
        "colab_type": "text"
      },
      "source": [
        "<a href=\"https://colab.research.google.com/github/chhyyi/aiffel/blob/main/LMS/nlp_node8.ipynb\" target=\"_parent\"><img src=\"https://colab.research.google.com/assets/colab-badge.svg\" alt=\"Open In Colab\"/></a>"
      ]
    },
    {
      "cell_type": "markdown",
      "source": [
        "# About this notebook  \n",
        "이 노트북은 모두의 연구소 AIFFEL LMS NLP node8의 프로젝트입니다. seq2seq 한-영 번역기를 attention을 사용하여 만듭니다.   \n",
        "\n",
        "This is written as a part of the deep learning training course by Aiffel, Korea. LMS NLP node 8. I have to make a korean - english seq2seq translator. Additionaly attention should be used."
      ],
      "metadata": {
        "id": "Uhazh0Hz814w"
      }
    },
    {
      "cell_type": "code",
      "source": [
        "import tensorflow as tf\n",
        "import numpy as np\n",
        "\n",
        "from sklearn.model_selection import train_test_split\n",
        "\n",
        "import matplotlib.ticker as ticker\n",
        "import matplotlib.pyplot as plt\n",
        "\n",
        "import time\n",
        "import re\n",
        "import os\n",
        "import io"
      ],
      "metadata": {
        "id": "NfwCDP2D9rDD"
      },
      "execution_count": 18,
      "outputs": []
    },
    {
      "cell_type": "markdown",
      "source": [
        "# Checkout version of libraries"
      ],
      "metadata": {
        "id": "33QNvzDV9xLv"
      }
    },
    {
      "cell_type": "code",
      "source": [
        "import pandas as pd\n",
        "import matplotlib\n",
        "\n",
        "print(pd.__version__)\n",
        "print(tf.__version__)\n",
        "print(matplotlib.__version__)"
      ],
      "metadata": {
        "colab": {
          "base_uri": "https://localhost:8080/"
        },
        "id": "Zj9J_eLi91-K",
        "outputId": "8b9c0944-3ed7-48dd-8520-15ca8a97536f"
      },
      "execution_count": 19,
      "outputs": [
        {
          "output_type": "stream",
          "name": "stdout",
          "text": [
            "1.3.5\n",
            "2.9.2\n",
            "3.2.2\n"
          ]
        }
      ]
    },
    {
      "cell_type": "markdown",
      "source": [
        "# Download, load dataset\n",
        "download korean-english-park.train.tar.gz from this github rep.\n",
        "[jungyeul/korean-parallel-corpora](https://github.com/jungyeul/korean-parallel-corpora/tree/master/korean-english-news-v1)  \n",
        "instead of tf.keras.utils.get_file(), google drive web page and terminal used."
      ],
      "metadata": {
        "id": "svatjaZO9-k4"
      }
    },
    {
      "cell_type": "code",
      "source": [
        "en_path = '/content/drive/MyDrive/colabdata/modulabs/nlp8/korean-english-park.train.en'\n",
        "ko_path = '/content/drive/MyDrive/colabdata/modulabs/nlp8/korean-english-park.train.ko'\n",
        "f_ko=open(ko_path, 'r')\n",
        "f_en=open(en_path, 'r')\n",
        "ko_raw = f_ko.readlines()\n",
        "en_raw = f_en.readlines()"
      ],
      "metadata": {
        "id": "3Iqf_sZR-hYK"
      },
      "execution_count": 22,
      "outputs": []
    },
    {
      "cell_type": "code",
      "source": [
        "print(len(ko_raw), len(en_raw))"
      ],
      "metadata": {
        "colab": {
          "base_uri": "https://localhost:8080/"
        },
        "id": "5QmbzPte_MSh",
        "outputId": "28df968f-e1cf-4163-9d7c-7cb34aa69bae"
      },
      "execution_count": 23,
      "outputs": [
        {
          "output_type": "stream",
          "name": "stdout",
          "text": [
            "94123 94123\n"
          ]
        }
      ]
    },
    {
      "cell_type": "code",
      "source": [
        "data = pd.DataFrame()\n",
        "test_rows=5000 #temporal index for scripting\n",
        "if test_rows:\n",
        "    data['ko_raw']=ko_raw[:test_rows]\n",
        "    data['en_raw']=en_raw[:test_rows]\n",
        "else:\n",
        "    data['ko_raw']=ko_raw\n",
        "    data['en_raw']=en_raw\n",
        "data"
      ],
      "metadata": {
        "colab": {
          "base_uri": "https://localhost:8080/",
          "height": 424
        },
        "id": "uSDTPVElBsRP",
        "outputId": "a8468119-1427-4080-bdf3-ec3d64a18e0f"
      },
      "execution_count": 25,
      "outputs": [
        {
          "output_type": "execute_result",
          "data": {
            "text/plain": [
              "                                                 ko_raw  \\\n",
              "0                개인용 컴퓨터 사용의 상당 부분은 \"이것보다 뛰어날 수 있느냐?\"\\n   \n",
              "1     모든 광마우스와 마찬가지 로 이 광마우스도 책상 위에 놓는 마우스 패드를 필요로 하...   \n",
              "2                          그러나 이것은 또한 책상도 필요로 하지 않는다.\\n   \n",
              "3     79.95달러하는 이 최첨단 무선 광마우스는 허공에서 팔목, 팔, 그외에 어떤 부분...   \n",
              "4     정보 관리들은 동남 아시아에서의 선박들에 대한 많은 (테러) 계획들이 실패로 돌아갔...   \n",
              "...                                                 ...   \n",
              "4995            여러분의 이웃부터 시작하여 여러분의 국가에 봉사해 주기를 말입니다.\\n   \n",
              "4996                                    방관자가 아니라 시민이;\\n   \n",
              "4997                                   피통치자가 아니라 시민이;\\n   \n",
              "4998  봉사하는 사회, 그리고 기개가 있는 국가를 건설하는 책임있는 시민이 되기를 말입니다.\\n   \n",
              "4999     이러한 시민정신이 실종되면, 어떠한 정부의 정책도 그것을 대신할 수는 없습니다.\\n   \n",
              "\n",
              "                                                 en_raw  \n",
              "0     Much of personal computing is about \"can you t...  \n",
              "1     so a mention a few weeks ago about a rechargea...  \n",
              "2     Like all optical mice, But it also doesn't nee...  \n",
              "3     uses gyroscopic sensors to control the cursor ...  \n",
              "4     Intelligence officials have revealed a spate o...  \n",
              "...                                                 ...  \n",
              "4995  to serve your nation, beginning with your neig...  \n",
              "4996                        I ask you to be citizens:\\n  \n",
              "4997                        citizens, not spectators;\\n  \n",
              "4998  responsible citizens, building communities of ...  \n",
              "4999  When this spirit of citizenship is missing, no...  \n",
              "\n",
              "[5000 rows x 2 columns]"
            ],
            "text/html": [
              "\n",
              "  <div id=\"df-641006de-ea6e-4479-bc77-333ba4f87182\">\n",
              "    <div class=\"colab-df-container\">\n",
              "      <div>\n",
              "<style scoped>\n",
              "    .dataframe tbody tr th:only-of-type {\n",
              "        vertical-align: middle;\n",
              "    }\n",
              "\n",
              "    .dataframe tbody tr th {\n",
              "        vertical-align: top;\n",
              "    }\n",
              "\n",
              "    .dataframe thead th {\n",
              "        text-align: right;\n",
              "    }\n",
              "</style>\n",
              "<table border=\"1\" class=\"dataframe\">\n",
              "  <thead>\n",
              "    <tr style=\"text-align: right;\">\n",
              "      <th></th>\n",
              "      <th>ko_raw</th>\n",
              "      <th>en_raw</th>\n",
              "    </tr>\n",
              "  </thead>\n",
              "  <tbody>\n",
              "    <tr>\n",
              "      <th>0</th>\n",
              "      <td>개인용 컴퓨터 사용의 상당 부분은 \"이것보다 뛰어날 수 있느냐?\"\\n</td>\n",
              "      <td>Much of personal computing is about \"can you t...</td>\n",
              "    </tr>\n",
              "    <tr>\n",
              "      <th>1</th>\n",
              "      <td>모든 광마우스와 마찬가지 로 이 광마우스도 책상 위에 놓는 마우스 패드를 필요로 하...</td>\n",
              "      <td>so a mention a few weeks ago about a rechargea...</td>\n",
              "    </tr>\n",
              "    <tr>\n",
              "      <th>2</th>\n",
              "      <td>그러나 이것은 또한 책상도 필요로 하지 않는다.\\n</td>\n",
              "      <td>Like all optical mice, But it also doesn't nee...</td>\n",
              "    </tr>\n",
              "    <tr>\n",
              "      <th>3</th>\n",
              "      <td>79.95달러하는 이 최첨단 무선 광마우스는 허공에서 팔목, 팔, 그외에 어떤 부분...</td>\n",
              "      <td>uses gyroscopic sensors to control the cursor ...</td>\n",
              "    </tr>\n",
              "    <tr>\n",
              "      <th>4</th>\n",
              "      <td>정보 관리들은 동남 아시아에서의 선박들에 대한 많은 (테러) 계획들이 실패로 돌아갔...</td>\n",
              "      <td>Intelligence officials have revealed a spate o...</td>\n",
              "    </tr>\n",
              "    <tr>\n",
              "      <th>...</th>\n",
              "      <td>...</td>\n",
              "      <td>...</td>\n",
              "    </tr>\n",
              "    <tr>\n",
              "      <th>4995</th>\n",
              "      <td>여러분의 이웃부터 시작하여 여러분의 국가에 봉사해 주기를 말입니다.\\n</td>\n",
              "      <td>to serve your nation, beginning with your neig...</td>\n",
              "    </tr>\n",
              "    <tr>\n",
              "      <th>4996</th>\n",
              "      <td>방관자가 아니라 시민이;\\n</td>\n",
              "      <td>I ask you to be citizens:\\n</td>\n",
              "    </tr>\n",
              "    <tr>\n",
              "      <th>4997</th>\n",
              "      <td>피통치자가 아니라 시민이;\\n</td>\n",
              "      <td>citizens, not spectators;\\n</td>\n",
              "    </tr>\n",
              "    <tr>\n",
              "      <th>4998</th>\n",
              "      <td>봉사하는 사회, 그리고 기개가 있는 국가를 건설하는 책임있는 시민이 되기를 말입니다.\\n</td>\n",
              "      <td>responsible citizens, building communities of ...</td>\n",
              "    </tr>\n",
              "    <tr>\n",
              "      <th>4999</th>\n",
              "      <td>이러한 시민정신이 실종되면, 어떠한 정부의 정책도 그것을 대신할 수는 없습니다.\\n</td>\n",
              "      <td>When this spirit of citizenship is missing, no...</td>\n",
              "    </tr>\n",
              "  </tbody>\n",
              "</table>\n",
              "<p>5000 rows × 2 columns</p>\n",
              "</div>\n",
              "      <button class=\"colab-df-convert\" onclick=\"convertToInteractive('df-641006de-ea6e-4479-bc77-333ba4f87182')\"\n",
              "              title=\"Convert this dataframe to an interactive table.\"\n",
              "              style=\"display:none;\">\n",
              "        \n",
              "  <svg xmlns=\"http://www.w3.org/2000/svg\" height=\"24px\"viewBox=\"0 0 24 24\"\n",
              "       width=\"24px\">\n",
              "    <path d=\"M0 0h24v24H0V0z\" fill=\"none\"/>\n",
              "    <path d=\"M18.56 5.44l.94 2.06.94-2.06 2.06-.94-2.06-.94-.94-2.06-.94 2.06-2.06.94zm-11 1L8.5 8.5l.94-2.06 2.06-.94-2.06-.94L8.5 2.5l-.94 2.06-2.06.94zm10 10l.94 2.06.94-2.06 2.06-.94-2.06-.94-.94-2.06-.94 2.06-2.06.94z\"/><path d=\"M17.41 7.96l-1.37-1.37c-.4-.4-.92-.59-1.43-.59-.52 0-1.04.2-1.43.59L10.3 9.45l-7.72 7.72c-.78.78-.78 2.05 0 2.83L4 21.41c.39.39.9.59 1.41.59.51 0 1.02-.2 1.41-.59l7.78-7.78 2.81-2.81c.8-.78.8-2.07 0-2.86zM5.41 20L4 18.59l7.72-7.72 1.47 1.35L5.41 20z\"/>\n",
              "  </svg>\n",
              "      </button>\n",
              "      \n",
              "  <style>\n",
              "    .colab-df-container {\n",
              "      display:flex;\n",
              "      flex-wrap:wrap;\n",
              "      gap: 12px;\n",
              "    }\n",
              "\n",
              "    .colab-df-convert {\n",
              "      background-color: #E8F0FE;\n",
              "      border: none;\n",
              "      border-radius: 50%;\n",
              "      cursor: pointer;\n",
              "      display: none;\n",
              "      fill: #1967D2;\n",
              "      height: 32px;\n",
              "      padding: 0 0 0 0;\n",
              "      width: 32px;\n",
              "    }\n",
              "\n",
              "    .colab-df-convert:hover {\n",
              "      background-color: #E2EBFA;\n",
              "      box-shadow: 0px 1px 2px rgba(60, 64, 67, 0.3), 0px 1px 3px 1px rgba(60, 64, 67, 0.15);\n",
              "      fill: #174EA6;\n",
              "    }\n",
              "\n",
              "    [theme=dark] .colab-df-convert {\n",
              "      background-color: #3B4455;\n",
              "      fill: #D2E3FC;\n",
              "    }\n",
              "\n",
              "    [theme=dark] .colab-df-convert:hover {\n",
              "      background-color: #434B5C;\n",
              "      box-shadow: 0px 1px 3px 1px rgba(0, 0, 0, 0.15);\n",
              "      filter: drop-shadow(0px 1px 2px rgba(0, 0, 0, 0.3));\n",
              "      fill: #FFFFFF;\n",
              "    }\n",
              "  </style>\n",
              "\n",
              "      <script>\n",
              "        const buttonEl =\n",
              "          document.querySelector('#df-641006de-ea6e-4479-bc77-333ba4f87182 button.colab-df-convert');\n",
              "        buttonEl.style.display =\n",
              "          google.colab.kernel.accessAllowed ? 'block' : 'none';\n",
              "\n",
              "        async function convertToInteractive(key) {\n",
              "          const element = document.querySelector('#df-641006de-ea6e-4479-bc77-333ba4f87182');\n",
              "          const dataTable =\n",
              "            await google.colab.kernel.invokeFunction('convertToInteractive',\n",
              "                                                     [key], {});\n",
              "          if (!dataTable) return;\n",
              "\n",
              "          const docLinkHtml = 'Like what you see? Visit the ' +\n",
              "            '<a target=\"_blank\" href=https://colab.research.google.com/notebooks/data_table.ipynb>data table notebook</a>'\n",
              "            + ' to learn more about interactive tables.';\n",
              "          element.innerHTML = '';\n",
              "          dataTable['output_type'] = 'display_data';\n",
              "          await google.colab.output.renderOutput(dataTable, element);\n",
              "          const docLink = document.createElement('div');\n",
              "          docLink.innerHTML = docLinkHtml;\n",
              "          element.appendChild(docLink);\n",
              "        }\n",
              "      </script>\n",
              "    </div>\n",
              "  </div>\n",
              "  "
            ]
          },
          "metadata": {},
          "execution_count": 25
        }
      ]
    },
    {
      "cell_type": "markdown",
      "source": [
        "# About Data load...\n",
        "\n",
        "두 파일은 영어, 한국어 문장이 순서대로 들어가있으므로 순서를 그대로 읽어야 합니다. \n",
        "pandas.read_csv나 read_table을 썼을 때에는 줄의 개수가 달라져서 seperator를 고쳐보다가 안돼서 그냥 file.readlines()를 사용하였습니다.\n",
        "\n",
        "Two data file have corresponding sentences. So its order should be preserved. but when I have tried pandas.read_csv and pandas.read_table first. In that case, length of both file did not matched. maybe I should change seperator   \n",
        "\n"
      ],
      "metadata": {
        "id": "7lBhOopZFJ8I"
      }
    },
    {
      "cell_type": "markdown",
      "source": [
        "# Data refine, cleaning"
      ],
      "metadata": {
        "id": "-hujrRjJE-Ns"
      }
    },
    {
      "cell_type": "code",
      "source": [
        "data.isna().any()"
      ],
      "metadata": {
        "colab": {
          "base_uri": "https://localhost:8080/"
        },
        "id": "eKpacav9EBzm",
        "outputId": "2743511c-74cf-4470-c3e1-4865acec7947"
      },
      "execution_count": 26,
      "outputs": [
        {
          "output_type": "execute_result",
          "data": {
            "text/plain": [
              "ko_raw    False\n",
              "en_raw    False\n",
              "dtype: bool"
            ]
          },
          "metadata": {},
          "execution_count": 26
        }
      ]
    },
    {
      "cell_type": "code",
      "source": [
        "data.shape"
      ],
      "metadata": {
        "colab": {
          "base_uri": "https://localhost:8080/"
        },
        "id": "UwN_3eg9EL9x",
        "outputId": "e18ab9b3-e1d6-496a-d2b7-43cffc163701"
      },
      "execution_count": 27,
      "outputs": [
        {
          "output_type": "execute_result",
          "data": {
            "text/plain": [
              "(5000, 2)"
            ]
          },
          "metadata": {},
          "execution_count": 27
        }
      ]
    },
    {
      "cell_type": "markdown",
      "source": [
        "## Characters?\n",
        " before we process regular expressions, let's figure out set of characters shown in each dataset."
      ],
      "metadata": {
        "id": "YXSmBFVUMjlw"
      }
    },
    {
      "cell_type": "code",
      "source": [
        "from functools import reduce\n",
        "def characters_in_column(df, col_name):\n",
        "    \"\"\"characters_in_column(df, col_name)\n",
        "    df is pandas dataframe. this function converts df[\"col_name\"] into set of characters. return ordered list.\n",
        "    \"\"\"\n",
        "    _=pd.Series()\n",
        "    _=df[col_name].apply(lambda x: [i for i in x])\n",
        "    return np.unique(np.concatenate(_.values))\n"
      ],
      "metadata": {
        "id": "5SwRU1KlM6YZ"
      },
      "execution_count": 42,
      "outputs": []
    },
    {
      "cell_type": "code",
      "source": [
        "ko_chars=characters_in_column(data, 'ko_raw')\n",
        "print(ko_chars)\n",
        "print(' '.join(ko_chars))"
      ],
      "metadata": {
        "colab": {
          "base_uri": "https://localhost:8080/"
        },
        "id": "L-95xJ9nSyHC",
        "outputId": "3fc70d5e-5a39-4778-af28-40ae4ef9f108"
      },
      "execution_count": 51,
      "outputs": [
        {
          "output_type": "stream",
          "name": "stdout",
          "text": [
            "['\\n' ' ' '!' ... '率' '識' '？']\n",
            "\n",
            "   ! \" % & ' ( ) * , - . / 0 1 2 3 4 5 6 7 8 9 : ; = ? A B C D E F G H I J K L M N O P Q R S T U V W X Y Z [ ] _ a b c d e f g h i j k l m n o p q r s t u v w x y z   ― ‘ ’ … 三 不 之 九 亞 京 修 傷 像 光 內 兵 再 動 勝 北 卿 反 受 古 同 名 命 善 喩 園 在 型 城 基 多 大 天 奔 奴 字 安 家 富 察 寧 寶 對 島 峽 州 市 席 店 庫 建 心 性 愛 懷 戰 手 掌 故 敎 敢 文 新 方 族 旗 日 早 明 會 朱 案 棺 植 機 權 殘 毁 母 民 水 江 沈 法 泥 流 海 淘 湖 湛 溫 澤 濤 灣 無 煙 父 物 獸 率 現 生 産 異 畵 疑 登 省 社 私 種 空 章 紙 纏 置 美 群 老 耳 聖 聲 膚 舊 花 英 華 董 蓋 號 街 衛 要 親 言 誌 論 諸 識 質 赤 超 足 路 身 軍 迷 道 邸 都 酸 銅 錦 鎔 長 門 開 陳 難 霧 靑 頂 頭 題 食 駐 體 髮 鼓 가 각 간 갇 갈 감 갑 값 갓 갔 강 갖 갗 같 갚 갛 개 객 갤 갱 거 걱 건 걷 걸 검 겁 것 겉 게 겐 겟 겠 겨 격 겪 견 결 겸 겹 겼 경 곁 계 고 곡 곤 곧 골 곰 곱 곳 공 과 곽 관 괄 괌 광 괘 괜 괭 괴 교 구 국 군 굳 굴 굶 굽 굿 궁 권 궐 궤 귀 규 균 그 극 근 글 금 급 긋 긍 기 긴 길 김 깃 깅 깊 까 깎 깐 깔 깜 깝 깡 깥 깨 깼 꺼 껌 껍 껏 껑 께 껴 꼈 꼬 꼭 꼼 꼽 꼿 꽁 꽂 꽃 꽉 꽝 꽤 꽥 꾸 꾼 꿀 꿈 꿔 꿨 꿰 뀌 끄 끈 끊 끌 끓 끔 끗 끝 끼 낀 낄 낌 낍 나 낙 낚 난 날 낡 남 납 낫 났 낭 낮 낯 낳 내 낸 낼 냄 냅 냈 냉 냐 냥 너 넌 널 넓 넘 넣 네 넥 넨 넬 넴 넷 녀 녁 년 념 녔 노 녹 논 놀 농 높 놓 놨 뇌 뇨 누 눅 눈 눌 눕 눴 뉘 뉴 늄 늉 느 늑 는 늘 늙 능 늦 늬 니 닉 닌 닐 님 닙 닛 닝 다 닥 단 닫 달 닭 닮 닳 담 답 닷 당 닿 대 댄 댐 댓 댔 댕 더 덕 던 덜 덤 덥 덧 덩 덫 덮 데 덱 덴 델 뎀 뎁 뎌 뎠 도 독 돈 돋 돌 돔 돕 동 돼 됐 되 된 될 됨 됩 두 둑 둔 둘 둠 둡 둥 둬 뒈 뒤 뒷 듀 듈 드 득 든 듣 들 듬 듭 듯 등 디 딘 딛 딜 딩 딪 따 딱 딴 딸 땀 땅 때 떠 떡 떤 떨 떳 떻 떼 또 똑 똥 뚜 뚝 뚫 뚱 뛰 뛴 뜨 뜩 뜯 뜻 띄 띈 띠 띤 라 락 란 랄 람 랍 랐 랑 래 랙 랜 램 랩 랫 랬 랭 랴 략 량 러 럭 런 럴 럼 럽 렀 렁 렇 레 렉 렌 렐 렘 렛 려 력 련 렬 렴 렵 렸 령 례 로 록 론 롤 롬 롭 롯 롱 뢰 료 룡 루 룩 룬 룰 룸 룹 룽 뤄 뤘 류 륙 륜 률 륭 르 른 를 름 릅 릇 릉 릎 리 릭 린 릴 림 립 릿 링 마 막 만 많 말 맑 맛 망 맞 맡 맣 매 맥 맨 맵 맹 맺 머 먹 먼 멀 멈 멉 멋 멍 메 멕 멘 멜 멧 며 면 멸 명 몇 모 목 몫 몬 몰 몸 몹 못 몽 묘 무 묵 묶 문 묻 물 뭄 뭇 뭉 뭐 뭔 뭣 뮤 므 믈 미 믹 민 믿 밀 밍 및 밑 바 박 밖 반 받 발 밝 밟 밤 밥 밧 방 밭 배 백 밴 밸 뱀 뱃 뱅 버 벅 번 벌 범 법 벗 벙 베 벡 벤 벨 벳 벼 벽 변 별 볍 병 볕 보 복 본 볼 봄 봅 봇 봉 봐 봤 부 북 분 불 붉 붐 붓 붕 붙 뷰 브 븐 블 비 빅 빈 빌 빗 빙 빚 빛 빠 빨 빴 빼 빽 뺀 뻐 뻑 뻔 뻗 뼈 뽑 뾰 뿌 뿍 뿐 뿔 쁘 쁜 쁠 쁨 사 삭 산 살 삶 삼 삽 샀 상 샅 새 색 샌 샐 샘 생 샤 샨 샬 샷 샹 서 석 섞 선 설 섬 섭 섯 섰 성 세 섹 센 셀 셈 셉 셋 셍 셔 션 셨 셰 셸 소 속 손 솔 솜 솟 송 솥 쇄 쇠 쇤 쇼 숍 수 숙 순 술 숨 숫 숭 숲 쉐 쉘 쉠 쉬 쉭 쉰 쉴 쉽 슈 슘 슛 스 슨 슬 슴 습 슷 승 시 식 신 싣 실 싫 심 십 싯 싱 싶 싸 싹 싼 쌈 쌌 쌍 쌓 써 썩 썬 썰 썹 썼 썽 쎄 쏘 쏟 쑥 쓰 쓴 쓸 씌 씨 씩 씬 씰 씻 아 악 안 앉 않 알 앓 암 압 앗 았 앙 앞 애 액 앤 앨 앵 야 약 얀 양 얘 어 억 언 얹 얻 얼 얽 엄 업 없 엇 었 엉 엌 엎 에 엑 엔 엘 엠 여 역 엮 연 열 염 엽 엿 였 영 옆 예 옐 옛 오 옥 온 올 옮 옳 옴 옵 옷 옹 와 완 왈 왔 왕 왜 외 왼 요 욕 용 우 욱 운 울 움 웃 웅 워 원 월 웝 웠 웡 웨 웬 웰 웹 위 윅 윈 윌 윗 윙 유 육 윤 율 윱 융 으 은 을 음 읍 응 의 이 익 인 일 읽 잃 임 입 잇 있 잉 잊 잎 자 작 잔 잖 잘 잠 잡 잤 장 잦 재 잭 쟁 쟈 저 적 전 절 젊 점 접 젓 정 젖 제 젝 젠 젤 져 젼 졌 조 족 존 졸 좀 좁 종 좋 좌 죄 죠 죤 주 죽 준 줄 줌 줍 중 줘 줬 쥐 쥔 즈 즉 즌 즐 즘 증 지 직 진 질 짊 짐 집 짓 징 짖 짙 짜 짝 짠 짤 짧 째 쩌 쩍 쩔 쪼 쪽 쫓 쭈 쭉 쯔 쯤 찌 찍 찐 찔 찡 찢 차 착 찬 찮 찰 참 창 찾 채 책 챈 챌 챙 처 척 천 철 첨 첩 첫 청 체 첵 첸 첼 쳐 쳤 초 촉 촌 촐 촛 총 촬 최 추 축 춘 출 춤 충 춰 췄 췌 취 츄 츈 츠 측 층 치 칙 친 칠 침 칩 칫 칭 카 칸 칼 캄 캐 캔 캘 캠 캡 캣 캬 커 컨 컬 컴 컵 컷 컹 케 켄 켈 켓 켜 켤 켬 켰 코 콕 콘 콜 콤 콥 콩 쾌 쿄 쿠 쿨 쿵 쿼 퀘 퀴 퀸 큉 큐 크 큰 클 큼 키 킨 킬 킴 킵 킷 킹 타 탁 탄 탈 탐 탑 탓 탕 태 택 탠 탬 탱 터 턱 턴 털 텅 테 텍 텐 텔 템 텡 토 톡 톤 톨 톰 톱 통 퇴 투 툰 툴 툼 퉁 퉈 튀 튜 트 특 튼 틀 틈 티 틱 틴 틸 팀 팅 파 팍 팎 판 팔 팜 팡 패 팩 팬 팰 팸 팻 팽 퍼 펀 펄 펏 페 펜 펠 펫 펴 편 펼 평 폐 포 폭 폰 폴 폼 표 푸 푹 푼 풀 품 풋 풍 퓨 프 픈 플 픔 피 픽 핀 필 핍 핑 하 학 한 할 핥 함 합 항 해 핵 핸 햄 햇 했 행 향 허 헌 헐 험 헤 헥 헨 헬 헴 혀 혁 현 혈 혐 협 혔 형 혜 호 혹 혼 홀 홉 홍 화 확 환 활 황 회 획 횡 효 후 훈 훌 훔 훨 훼 휘 휠 휩 휴 흉 흐 흑 흔 흘 흙 흠 흡 흥 흩 희 흰 히 힌 힐 힘 金 不 女 年 領 遼 龍 率 識 ？\n"
          ]
        },
        {
          "output_type": "stream",
          "name": "stderr",
          "text": [
            "/usr/local/lib/python3.7/dist-packages/ipykernel_launcher.py:6: DeprecationWarning: The default dtype for empty Series will be 'object' instead of 'float64' in a future version. Specify a dtype explicitly to silence this warning.\n",
            "  \n"
          ]
        }
      ]
    },
    {
      "cell_type": "markdown",
      "source": [
        "온갖 글자가 다 있습니다. 줄넘김, 한자도 있네요."
      ],
      "metadata": {
        "id": "lNZMqmEEYfRF"
      }
    },
    {
      "cell_type": "markdown",
      "source": [
        "## 텍스트 전처리 수정(정제)\n",
        "노드의 코드를 보면 정규표현식을 다음과 같이 사용합니다.\n",
        "```python\n",
        "sentence = re.sub(r\"([?.!,])\", r\" \\1 \", sentence)\n",
        "sentence = re.sub(r'[\" \"]+', \" \", sentence)\n",
        "sentence = re.sub(r\"[^a-zA-Z?.!,]+\", \" \", sentence)\n",
        "```\n",
        "위의 예에서 보면 많은 경우 \\n이 삽입돼 있는데 줄넘김 표시이므로 삭제합니다.  \n",
        "외래어도 자연스럽게 우리말 문장에 영어로 들어가 있는 경우도 많 때문에 굳이 영어 알파벳를 빼지는 않겠습니다.\n",
        "\n",
        "```python\n",
        "sentence = re.sub(r\"[\\n]\", \" \", sentence)\n",
        "sentence = re.sub(r\"([?.!,])\", r\" \\1 \", sentence)\n",
        "sentence = re.sub(r'[\" \"]+', \" \", sentence)\n",
        "sentence = re.sub(r\"[^ㄱ-ㅎ가-힣a-zA-Z?.!,]+\", \" \", sentence)\n",
        "```"
      ],
      "metadata": {
        "id": "eSB892rfSu71"
      }
    },
    {
      "cell_type": "code",
      "source": [
        "def preprocess_en(sentence, s_token=True, e_token=True):\n",
        "    sentence = sentence.lower().strip()\n",
        "\n",
        "    sentence = re.sub(r\"([?.!,])\", r\" \\1 \", sentence)\n",
        "    sentence = re.sub(r'[\" \"]+', \" \", sentence)\n",
        "    sentence = re.sub(r\"[^a-zA-Z?.!,]+\", \" \", sentence)\n",
        "\n",
        "    sentence = sentence.strip()\n",
        "\n",
        "    if s_token:\n",
        "        sentence = '<start> ' + sentence\n",
        "\n",
        "    if e_token:\n",
        "        sentence += ' <end>'\n",
        "    \n",
        "    return sentence"
      ],
      "metadata": {
        "id": "72R7p1tynu0m"
      },
      "execution_count": 56,
      "outputs": []
    },
    {
      "cell_type": "code",
      "source": [
        "def preprocess_ko(sentence):\n",
        "    sentence = sentence.lower().strip()\n",
        "\n",
        "    sentence = re.sub(r\"[\\n]\", \" \", sentence)\n",
        "    sentence = re.sub(r\"([?.!,])\", r\" \\1 \", sentence)\n",
        "    sentence = re.sub(r'[\" \"]+', \" \", sentence)\n",
        "    sentence = re.sub(r\"[^ㄱ-ㅎ가-힣a-zA-Z?.!,]+\", \" \", sentence)\n",
        "\n",
        "    sentence = sentence.strip()\n",
        "\n",
        "    return sentence"
      ],
      "metadata": {
        "id": "-AqgtibgSAap"
      },
      "execution_count": 57,
      "outputs": []
    },
    {
      "cell_type": "code",
      "source": [
        "data['ko_sentence']=data['ko_raw'].apply(preprocess_ko)\n",
        "data['en_sentence']=data['en_raw'].apply(preprocess_en)\n",
        "data"
      ],
      "metadata": {
        "colab": {
          "base_uri": "https://localhost:8080/",
          "height": 641
        },
        "id": "kvwDuslWmiCu",
        "outputId": "1f86ad39-0cfe-489b-d093-613dec9b53a2"
      },
      "execution_count": 59,
      "outputs": [
        {
          "output_type": "execute_result",
          "data": {
            "text/plain": [
              "                                                 ko_raw  \\\n",
              "0                개인용 컴퓨터 사용의 상당 부분은 \"이것보다 뛰어날 수 있느냐?\"\\n   \n",
              "1     모든 광마우스와 마찬가지 로 이 광마우스도 책상 위에 놓는 마우스 패드를 필요로 하...   \n",
              "2                          그러나 이것은 또한 책상도 필요로 하지 않는다.\\n   \n",
              "3     79.95달러하는 이 최첨단 무선 광마우스는 허공에서 팔목, 팔, 그외에 어떤 부분...   \n",
              "4     정보 관리들은 동남 아시아에서의 선박들에 대한 많은 (테러) 계획들이 실패로 돌아갔...   \n",
              "...                                                 ...   \n",
              "4995            여러분의 이웃부터 시작하여 여러분의 국가에 봉사해 주기를 말입니다.\\n   \n",
              "4996                                    방관자가 아니라 시민이;\\n   \n",
              "4997                                   피통치자가 아니라 시민이;\\n   \n",
              "4998  봉사하는 사회, 그리고 기개가 있는 국가를 건설하는 책임있는 시민이 되기를 말입니다.\\n   \n",
              "4999     이러한 시민정신이 실종되면, 어떠한 정부의 정책도 그것을 대신할 수는 없습니다.\\n   \n",
              "\n",
              "                                                 en_raw  \\\n",
              "0     Much of personal computing is about \"can you t...   \n",
              "1     so a mention a few weeks ago about a rechargea...   \n",
              "2     Like all optical mice, But it also doesn't nee...   \n",
              "3     uses gyroscopic sensors to control the cursor ...   \n",
              "4     Intelligence officials have revealed a spate o...   \n",
              "...                                                 ...   \n",
              "4995  to serve your nation, beginning with your neig...   \n",
              "4996                        I ask you to be citizens:\\n   \n",
              "4997                        citizens, not spectators;\\n   \n",
              "4998  responsible citizens, building communities of ...   \n",
              "4999  When this spirit of citizenship is missing, no...   \n",
              "\n",
              "                                            ko_sentence  \\\n",
              "0                   개인용 컴퓨터 사용의 상당 부분은 이것보다 뛰어날 수 있느냐 ?   \n",
              "1     모든 광마우스와 마찬가지 로 이 광마우스도 책상 위에 놓는 마우스 패드를 필요로 하...   \n",
              "2                           그러나 이것은 또한 책상도 필요로 하지 않는다 .   \n",
              "3     . 달러하는 이 최첨단 무선 광마우스는 허공에서 팔목 , 팔 , 그외에 어떤 부분이...   \n",
              "4     정보 관리들은 동남 아시아에서의 선박들에 대한 많은 테러 계획들이 실패로 돌아갔음을...   \n",
              "...                                                 ...   \n",
              "4995             여러분의 이웃부터 시작하여 여러분의 국가에 봉사해 주기를 말입니다 .   \n",
              "4996                                       방관자가 아니라 시민이   \n",
              "4997                                      피통치자가 아니라 시민이   \n",
              "4998  봉사하는 사회 , 그리고 기개가 있는 국가를 건설하는 책임있는 시민이 되기를 말입니다 .   \n",
              "4999     이러한 시민정신이 실종되면 , 어떠한 정부의 정책도 그것을 대신할 수는 없습니다 .   \n",
              "\n",
              "                                            en_sentence  \n",
              "0     <start> much of personal computing is about ca...  \n",
              "1     <start> so a mention a few weeks ago about a r...  \n",
              "2     <start> like all optical mice , but it also do...  \n",
              "3     <start> uses gyroscopic sensors to control the...  \n",
              "4     <start> intelligence officials have revealed a...  \n",
              "...                                                 ...  \n",
              "4995  <start> to serve your nation , beginning with ...  \n",
              "4996             <start> i ask you to be citizens <end>  \n",
              "4997            <start> citizens , not spectators <end>  \n",
              "4998  <start> responsible citizens , building commun...  \n",
              "4999  <start> when this spirit of citizenship is mis...  \n",
              "\n",
              "[5000 rows x 4 columns]"
            ],
            "text/html": [
              "\n",
              "  <div id=\"df-181e14a4-a213-4416-bbf4-5c5b5a02c8a3\">\n",
              "    <div class=\"colab-df-container\">\n",
              "      <div>\n",
              "<style scoped>\n",
              "    .dataframe tbody tr th:only-of-type {\n",
              "        vertical-align: middle;\n",
              "    }\n",
              "\n",
              "    .dataframe tbody tr th {\n",
              "        vertical-align: top;\n",
              "    }\n",
              "\n",
              "    .dataframe thead th {\n",
              "        text-align: right;\n",
              "    }\n",
              "</style>\n",
              "<table border=\"1\" class=\"dataframe\">\n",
              "  <thead>\n",
              "    <tr style=\"text-align: right;\">\n",
              "      <th></th>\n",
              "      <th>ko_raw</th>\n",
              "      <th>en_raw</th>\n",
              "      <th>ko_sentence</th>\n",
              "      <th>en_sentence</th>\n",
              "    </tr>\n",
              "  </thead>\n",
              "  <tbody>\n",
              "    <tr>\n",
              "      <th>0</th>\n",
              "      <td>개인용 컴퓨터 사용의 상당 부분은 \"이것보다 뛰어날 수 있느냐?\"\\n</td>\n",
              "      <td>Much of personal computing is about \"can you t...</td>\n",
              "      <td>개인용 컴퓨터 사용의 상당 부분은 이것보다 뛰어날 수 있느냐 ?</td>\n",
              "      <td>&lt;start&gt; much of personal computing is about ca...</td>\n",
              "    </tr>\n",
              "    <tr>\n",
              "      <th>1</th>\n",
              "      <td>모든 광마우스와 마찬가지 로 이 광마우스도 책상 위에 놓는 마우스 패드를 필요로 하...</td>\n",
              "      <td>so a mention a few weeks ago about a rechargea...</td>\n",
              "      <td>모든 광마우스와 마찬가지 로 이 광마우스도 책상 위에 놓는 마우스 패드를 필요로 하...</td>\n",
              "      <td>&lt;start&gt; so a mention a few weeks ago about a r...</td>\n",
              "    </tr>\n",
              "    <tr>\n",
              "      <th>2</th>\n",
              "      <td>그러나 이것은 또한 책상도 필요로 하지 않는다.\\n</td>\n",
              "      <td>Like all optical mice, But it also doesn't nee...</td>\n",
              "      <td>그러나 이것은 또한 책상도 필요로 하지 않는다 .</td>\n",
              "      <td>&lt;start&gt; like all optical mice , but it also do...</td>\n",
              "    </tr>\n",
              "    <tr>\n",
              "      <th>3</th>\n",
              "      <td>79.95달러하는 이 최첨단 무선 광마우스는 허공에서 팔목, 팔, 그외에 어떤 부분...</td>\n",
              "      <td>uses gyroscopic sensors to control the cursor ...</td>\n",
              "      <td>. 달러하는 이 최첨단 무선 광마우스는 허공에서 팔목 , 팔 , 그외에 어떤 부분이...</td>\n",
              "      <td>&lt;start&gt; uses gyroscopic sensors to control the...</td>\n",
              "    </tr>\n",
              "    <tr>\n",
              "      <th>4</th>\n",
              "      <td>정보 관리들은 동남 아시아에서의 선박들에 대한 많은 (테러) 계획들이 실패로 돌아갔...</td>\n",
              "      <td>Intelligence officials have revealed a spate o...</td>\n",
              "      <td>정보 관리들은 동남 아시아에서의 선박들에 대한 많은 테러 계획들이 실패로 돌아갔음을...</td>\n",
              "      <td>&lt;start&gt; intelligence officials have revealed a...</td>\n",
              "    </tr>\n",
              "    <tr>\n",
              "      <th>...</th>\n",
              "      <td>...</td>\n",
              "      <td>...</td>\n",
              "      <td>...</td>\n",
              "      <td>...</td>\n",
              "    </tr>\n",
              "    <tr>\n",
              "      <th>4995</th>\n",
              "      <td>여러분의 이웃부터 시작하여 여러분의 국가에 봉사해 주기를 말입니다.\\n</td>\n",
              "      <td>to serve your nation, beginning with your neig...</td>\n",
              "      <td>여러분의 이웃부터 시작하여 여러분의 국가에 봉사해 주기를 말입니다 .</td>\n",
              "      <td>&lt;start&gt; to serve your nation , beginning with ...</td>\n",
              "    </tr>\n",
              "    <tr>\n",
              "      <th>4996</th>\n",
              "      <td>방관자가 아니라 시민이;\\n</td>\n",
              "      <td>I ask you to be citizens:\\n</td>\n",
              "      <td>방관자가 아니라 시민이</td>\n",
              "      <td>&lt;start&gt; i ask you to be citizens &lt;end&gt;</td>\n",
              "    </tr>\n",
              "    <tr>\n",
              "      <th>4997</th>\n",
              "      <td>피통치자가 아니라 시민이;\\n</td>\n",
              "      <td>citizens, not spectators;\\n</td>\n",
              "      <td>피통치자가 아니라 시민이</td>\n",
              "      <td>&lt;start&gt; citizens , not spectators &lt;end&gt;</td>\n",
              "    </tr>\n",
              "    <tr>\n",
              "      <th>4998</th>\n",
              "      <td>봉사하는 사회, 그리고 기개가 있는 국가를 건설하는 책임있는 시민이 되기를 말입니다.\\n</td>\n",
              "      <td>responsible citizens, building communities of ...</td>\n",
              "      <td>봉사하는 사회 , 그리고 기개가 있는 국가를 건설하는 책임있는 시민이 되기를 말입니다 .</td>\n",
              "      <td>&lt;start&gt; responsible citizens , building commun...</td>\n",
              "    </tr>\n",
              "    <tr>\n",
              "      <th>4999</th>\n",
              "      <td>이러한 시민정신이 실종되면, 어떠한 정부의 정책도 그것을 대신할 수는 없습니다.\\n</td>\n",
              "      <td>When this spirit of citizenship is missing, no...</td>\n",
              "      <td>이러한 시민정신이 실종되면 , 어떠한 정부의 정책도 그것을 대신할 수는 없습니다 .</td>\n",
              "      <td>&lt;start&gt; when this spirit of citizenship is mis...</td>\n",
              "    </tr>\n",
              "  </tbody>\n",
              "</table>\n",
              "<p>5000 rows × 4 columns</p>\n",
              "</div>\n",
              "      <button class=\"colab-df-convert\" onclick=\"convertToInteractive('df-181e14a4-a213-4416-bbf4-5c5b5a02c8a3')\"\n",
              "              title=\"Convert this dataframe to an interactive table.\"\n",
              "              style=\"display:none;\">\n",
              "        \n",
              "  <svg xmlns=\"http://www.w3.org/2000/svg\" height=\"24px\"viewBox=\"0 0 24 24\"\n",
              "       width=\"24px\">\n",
              "    <path d=\"M0 0h24v24H0V0z\" fill=\"none\"/>\n",
              "    <path d=\"M18.56 5.44l.94 2.06.94-2.06 2.06-.94-2.06-.94-.94-2.06-.94 2.06-2.06.94zm-11 1L8.5 8.5l.94-2.06 2.06-.94-2.06-.94L8.5 2.5l-.94 2.06-2.06.94zm10 10l.94 2.06.94-2.06 2.06-.94-2.06-.94-.94-2.06-.94 2.06-2.06.94z\"/><path d=\"M17.41 7.96l-1.37-1.37c-.4-.4-.92-.59-1.43-.59-.52 0-1.04.2-1.43.59L10.3 9.45l-7.72 7.72c-.78.78-.78 2.05 0 2.83L4 21.41c.39.39.9.59 1.41.59.51 0 1.02-.2 1.41-.59l7.78-7.78 2.81-2.81c.8-.78.8-2.07 0-2.86zM5.41 20L4 18.59l7.72-7.72 1.47 1.35L5.41 20z\"/>\n",
              "  </svg>\n",
              "      </button>\n",
              "      \n",
              "  <style>\n",
              "    .colab-df-container {\n",
              "      display:flex;\n",
              "      flex-wrap:wrap;\n",
              "      gap: 12px;\n",
              "    }\n",
              "\n",
              "    .colab-df-convert {\n",
              "      background-color: #E8F0FE;\n",
              "      border: none;\n",
              "      border-radius: 50%;\n",
              "      cursor: pointer;\n",
              "      display: none;\n",
              "      fill: #1967D2;\n",
              "      height: 32px;\n",
              "      padding: 0 0 0 0;\n",
              "      width: 32px;\n",
              "    }\n",
              "\n",
              "    .colab-df-convert:hover {\n",
              "      background-color: #E2EBFA;\n",
              "      box-shadow: 0px 1px 2px rgba(60, 64, 67, 0.3), 0px 1px 3px 1px rgba(60, 64, 67, 0.15);\n",
              "      fill: #174EA6;\n",
              "    }\n",
              "\n",
              "    [theme=dark] .colab-df-convert {\n",
              "      background-color: #3B4455;\n",
              "      fill: #D2E3FC;\n",
              "    }\n",
              "\n",
              "    [theme=dark] .colab-df-convert:hover {\n",
              "      background-color: #434B5C;\n",
              "      box-shadow: 0px 1px 3px 1px rgba(0, 0, 0, 0.15);\n",
              "      filter: drop-shadow(0px 1px 2px rgba(0, 0, 0, 0.3));\n",
              "      fill: #FFFFFF;\n",
              "    }\n",
              "  </style>\n",
              "\n",
              "      <script>\n",
              "        const buttonEl =\n",
              "          document.querySelector('#df-181e14a4-a213-4416-bbf4-5c5b5a02c8a3 button.colab-df-convert');\n",
              "        buttonEl.style.display =\n",
              "          google.colab.kernel.accessAllowed ? 'block' : 'none';\n",
              "\n",
              "        async function convertToInteractive(key) {\n",
              "          const element = document.querySelector('#df-181e14a4-a213-4416-bbf4-5c5b5a02c8a3');\n",
              "          const dataTable =\n",
              "            await google.colab.kernel.invokeFunction('convertToInteractive',\n",
              "                                                     [key], {});\n",
              "          if (!dataTable) return;\n",
              "\n",
              "          const docLinkHtml = 'Like what you see? Visit the ' +\n",
              "            '<a target=\"_blank\" href=https://colab.research.google.com/notebooks/data_table.ipynb>data table notebook</a>'\n",
              "            + ' to learn more about interactive tables.';\n",
              "          element.innerHTML = '';\n",
              "          dataTable['output_type'] = 'display_data';\n",
              "          await google.colab.output.renderOutput(dataTable, element);\n",
              "          const docLink = document.createElement('div');\n",
              "          docLink.innerHTML = docLinkHtml;\n",
              "          element.appendChild(docLink);\n",
              "        }\n",
              "      </script>\n",
              "    </div>\n",
              "  </div>\n",
              "  "
            ]
          },
          "metadata": {},
          "execution_count": 59
        }
      ]
    },
    {
      "cell_type": "code",
      "source": [
        "data.drop(columns=['en_raw','ko_raw'], inplace=True)\n",
        "data"
      ],
      "metadata": {
        "colab": {
          "base_uri": "https://localhost:8080/",
          "height": 424
        },
        "id": "jE46z62zoZHa",
        "outputId": "f09790cd-56e0-42de-db77-55ab15f7d268"
      },
      "execution_count": 60,
      "outputs": [
        {
          "output_type": "execute_result",
          "data": {
            "text/plain": [
              "                                            ko_sentence  \\\n",
              "0                   개인용 컴퓨터 사용의 상당 부분은 이것보다 뛰어날 수 있느냐 ?   \n",
              "1     모든 광마우스와 마찬가지 로 이 광마우스도 책상 위에 놓는 마우스 패드를 필요로 하...   \n",
              "2                           그러나 이것은 또한 책상도 필요로 하지 않는다 .   \n",
              "3     . 달러하는 이 최첨단 무선 광마우스는 허공에서 팔목 , 팔 , 그외에 어떤 부분이...   \n",
              "4     정보 관리들은 동남 아시아에서의 선박들에 대한 많은 테러 계획들이 실패로 돌아갔음을...   \n",
              "...                                                 ...   \n",
              "4995             여러분의 이웃부터 시작하여 여러분의 국가에 봉사해 주기를 말입니다 .   \n",
              "4996                                       방관자가 아니라 시민이   \n",
              "4997                                      피통치자가 아니라 시민이   \n",
              "4998  봉사하는 사회 , 그리고 기개가 있는 국가를 건설하는 책임있는 시민이 되기를 말입니다 .   \n",
              "4999     이러한 시민정신이 실종되면 , 어떠한 정부의 정책도 그것을 대신할 수는 없습니다 .   \n",
              "\n",
              "                                            en_sentence  \n",
              "0     <start> much of personal computing is about ca...  \n",
              "1     <start> so a mention a few weeks ago about a r...  \n",
              "2     <start> like all optical mice , but it also do...  \n",
              "3     <start> uses gyroscopic sensors to control the...  \n",
              "4     <start> intelligence officials have revealed a...  \n",
              "...                                                 ...  \n",
              "4995  <start> to serve your nation , beginning with ...  \n",
              "4996             <start> i ask you to be citizens <end>  \n",
              "4997            <start> citizens , not spectators <end>  \n",
              "4998  <start> responsible citizens , building commun...  \n",
              "4999  <start> when this spirit of citizenship is mis...  \n",
              "\n",
              "[5000 rows x 2 columns]"
            ],
            "text/html": [
              "\n",
              "  <div id=\"df-156980e9-ec7d-40cd-bf47-7da47bf73e6f\">\n",
              "    <div class=\"colab-df-container\">\n",
              "      <div>\n",
              "<style scoped>\n",
              "    .dataframe tbody tr th:only-of-type {\n",
              "        vertical-align: middle;\n",
              "    }\n",
              "\n",
              "    .dataframe tbody tr th {\n",
              "        vertical-align: top;\n",
              "    }\n",
              "\n",
              "    .dataframe thead th {\n",
              "        text-align: right;\n",
              "    }\n",
              "</style>\n",
              "<table border=\"1\" class=\"dataframe\">\n",
              "  <thead>\n",
              "    <tr style=\"text-align: right;\">\n",
              "      <th></th>\n",
              "      <th>ko_sentence</th>\n",
              "      <th>en_sentence</th>\n",
              "    </tr>\n",
              "  </thead>\n",
              "  <tbody>\n",
              "    <tr>\n",
              "      <th>0</th>\n",
              "      <td>개인용 컴퓨터 사용의 상당 부분은 이것보다 뛰어날 수 있느냐 ?</td>\n",
              "      <td>&lt;start&gt; much of personal computing is about ca...</td>\n",
              "    </tr>\n",
              "    <tr>\n",
              "      <th>1</th>\n",
              "      <td>모든 광마우스와 마찬가지 로 이 광마우스도 책상 위에 놓는 마우스 패드를 필요로 하...</td>\n",
              "      <td>&lt;start&gt; so a mention a few weeks ago about a r...</td>\n",
              "    </tr>\n",
              "    <tr>\n",
              "      <th>2</th>\n",
              "      <td>그러나 이것은 또한 책상도 필요로 하지 않는다 .</td>\n",
              "      <td>&lt;start&gt; like all optical mice , but it also do...</td>\n",
              "    </tr>\n",
              "    <tr>\n",
              "      <th>3</th>\n",
              "      <td>. 달러하는 이 최첨단 무선 광마우스는 허공에서 팔목 , 팔 , 그외에 어떤 부분이...</td>\n",
              "      <td>&lt;start&gt; uses gyroscopic sensors to control the...</td>\n",
              "    </tr>\n",
              "    <tr>\n",
              "      <th>4</th>\n",
              "      <td>정보 관리들은 동남 아시아에서의 선박들에 대한 많은 테러 계획들이 실패로 돌아갔음을...</td>\n",
              "      <td>&lt;start&gt; intelligence officials have revealed a...</td>\n",
              "    </tr>\n",
              "    <tr>\n",
              "      <th>...</th>\n",
              "      <td>...</td>\n",
              "      <td>...</td>\n",
              "    </tr>\n",
              "    <tr>\n",
              "      <th>4995</th>\n",
              "      <td>여러분의 이웃부터 시작하여 여러분의 국가에 봉사해 주기를 말입니다 .</td>\n",
              "      <td>&lt;start&gt; to serve your nation , beginning with ...</td>\n",
              "    </tr>\n",
              "    <tr>\n",
              "      <th>4996</th>\n",
              "      <td>방관자가 아니라 시민이</td>\n",
              "      <td>&lt;start&gt; i ask you to be citizens &lt;end&gt;</td>\n",
              "    </tr>\n",
              "    <tr>\n",
              "      <th>4997</th>\n",
              "      <td>피통치자가 아니라 시민이</td>\n",
              "      <td>&lt;start&gt; citizens , not spectators &lt;end&gt;</td>\n",
              "    </tr>\n",
              "    <tr>\n",
              "      <th>4998</th>\n",
              "      <td>봉사하는 사회 , 그리고 기개가 있는 국가를 건설하는 책임있는 시민이 되기를 말입니다 .</td>\n",
              "      <td>&lt;start&gt; responsible citizens , building commun...</td>\n",
              "    </tr>\n",
              "    <tr>\n",
              "      <th>4999</th>\n",
              "      <td>이러한 시민정신이 실종되면 , 어떠한 정부의 정책도 그것을 대신할 수는 없습니다 .</td>\n",
              "      <td>&lt;start&gt; when this spirit of citizenship is mis...</td>\n",
              "    </tr>\n",
              "  </tbody>\n",
              "</table>\n",
              "<p>5000 rows × 2 columns</p>\n",
              "</div>\n",
              "      <button class=\"colab-df-convert\" onclick=\"convertToInteractive('df-156980e9-ec7d-40cd-bf47-7da47bf73e6f')\"\n",
              "              title=\"Convert this dataframe to an interactive table.\"\n",
              "              style=\"display:none;\">\n",
              "        \n",
              "  <svg xmlns=\"http://www.w3.org/2000/svg\" height=\"24px\"viewBox=\"0 0 24 24\"\n",
              "       width=\"24px\">\n",
              "    <path d=\"M0 0h24v24H0V0z\" fill=\"none\"/>\n",
              "    <path d=\"M18.56 5.44l.94 2.06.94-2.06 2.06-.94-2.06-.94-.94-2.06-.94 2.06-2.06.94zm-11 1L8.5 8.5l.94-2.06 2.06-.94-2.06-.94L8.5 2.5l-.94 2.06-2.06.94zm10 10l.94 2.06.94-2.06 2.06-.94-2.06-.94-.94-2.06-.94 2.06-2.06.94z\"/><path d=\"M17.41 7.96l-1.37-1.37c-.4-.4-.92-.59-1.43-.59-.52 0-1.04.2-1.43.59L10.3 9.45l-7.72 7.72c-.78.78-.78 2.05 0 2.83L4 21.41c.39.39.9.59 1.41.59.51 0 1.02-.2 1.41-.59l7.78-7.78 2.81-2.81c.8-.78.8-2.07 0-2.86zM5.41 20L4 18.59l7.72-7.72 1.47 1.35L5.41 20z\"/>\n",
              "  </svg>\n",
              "      </button>\n",
              "      \n",
              "  <style>\n",
              "    .colab-df-container {\n",
              "      display:flex;\n",
              "      flex-wrap:wrap;\n",
              "      gap: 12px;\n",
              "    }\n",
              "\n",
              "    .colab-df-convert {\n",
              "      background-color: #E8F0FE;\n",
              "      border: none;\n",
              "      border-radius: 50%;\n",
              "      cursor: pointer;\n",
              "      display: none;\n",
              "      fill: #1967D2;\n",
              "      height: 32px;\n",
              "      padding: 0 0 0 0;\n",
              "      width: 32px;\n",
              "    }\n",
              "\n",
              "    .colab-df-convert:hover {\n",
              "      background-color: #E2EBFA;\n",
              "      box-shadow: 0px 1px 2px rgba(60, 64, 67, 0.3), 0px 1px 3px 1px rgba(60, 64, 67, 0.15);\n",
              "      fill: #174EA6;\n",
              "    }\n",
              "\n",
              "    [theme=dark] .colab-df-convert {\n",
              "      background-color: #3B4455;\n",
              "      fill: #D2E3FC;\n",
              "    }\n",
              "\n",
              "    [theme=dark] .colab-df-convert:hover {\n",
              "      background-color: #434B5C;\n",
              "      box-shadow: 0px 1px 3px 1px rgba(0, 0, 0, 0.15);\n",
              "      filter: drop-shadow(0px 1px 2px rgba(0, 0, 0, 0.3));\n",
              "      fill: #FFFFFF;\n",
              "    }\n",
              "  </style>\n",
              "\n",
              "      <script>\n",
              "        const buttonEl =\n",
              "          document.querySelector('#df-156980e9-ec7d-40cd-bf47-7da47bf73e6f button.colab-df-convert');\n",
              "        buttonEl.style.display =\n",
              "          google.colab.kernel.accessAllowed ? 'block' : 'none';\n",
              "\n",
              "        async function convertToInteractive(key) {\n",
              "          const element = document.querySelector('#df-156980e9-ec7d-40cd-bf47-7da47bf73e6f');\n",
              "          const dataTable =\n",
              "            await google.colab.kernel.invokeFunction('convertToInteractive',\n",
              "                                                     [key], {});\n",
              "          if (!dataTable) return;\n",
              "\n",
              "          const docLinkHtml = 'Like what you see? Visit the ' +\n",
              "            '<a target=\"_blank\" href=https://colab.research.google.com/notebooks/data_table.ipynb>data table notebook</a>'\n",
              "            + ' to learn more about interactive tables.';\n",
              "          element.innerHTML = '';\n",
              "          dataTable['output_type'] = 'display_data';\n",
              "          await google.colab.output.renderOutput(dataTable, element);\n",
              "          const docLink = document.createElement('div');\n",
              "          docLink.innerHTML = docLinkHtml;\n",
              "          element.appendChild(docLink);\n",
              "        }\n",
              "      </script>\n",
              "    </div>\n",
              "  </div>\n",
              "  "
            ]
          },
          "metadata": {},
          "execution_count": 60
        }
      ]
    },
    {
      "cell_type": "markdown",
      "source": [
        "## 토큰화 수정\n",
        "한국어의 형태소 분석 적용 토큰화: MeCab을 사용합니다. 이것은 [exploration node 8](https://colab.research.google.com/drive/1lv3FDw2hKe_Gp56mzCxGPIHof8p0m6Cz?usp=sharing)에서 했던 것을 그대로 가져옵니다.\n"
      ],
      "metadata": {
        "id": "G4ODC8FSvAee"
      }
    },
    {
      "cell_type": "code",
      "source": [
        "!apt-get update && apt-get install -y g++ default-jdk\n",
        "!pip install konlpy\n",
        "!sudo apt-get install curl git\n",
        "!bash <(curl -s https://raw.githubusercontent.com/konlpy/konlpy/master/scripts/mecab.sh)"
      ],
      "metadata": {
        "colab": {
          "base_uri": "https://localhost:8080/"
        },
        "id": "n5PwEd91vWoM",
        "outputId": "b082441d-4786-4d40-bf44-e8e94f427ec7"
      },
      "execution_count": 46,
      "outputs": [
        {
          "output_type": "stream",
          "name": "stdout",
          "text": [
            "\r0% [Working]\r            \rGet:1 http://security.ubuntu.com/ubuntu bionic-security InRelease [88.7 kB]\n",
            "Hit:2 https://cloud.r-project.org/bin/linux/ubuntu bionic-cran40/ InRelease\n",
            "Hit:3 http://archive.ubuntu.com/ubuntu bionic InRelease\n",
            "Hit:4 http://ppa.launchpad.net/c2d4u.team/c2d4u4.0+/ubuntu bionic InRelease\n",
            "Get:5 http://archive.ubuntu.com/ubuntu bionic-updates InRelease [88.7 kB]\n",
            "Hit:6 http://ppa.launchpad.net/cran/libgit2/ubuntu bionic InRelease\n",
            "Hit:7 http://ppa.launchpad.net/deadsnakes/ppa/ubuntu bionic InRelease\n",
            "Get:8 http://archive.ubuntu.com/ubuntu bionic-backports InRelease [83.3 kB]\n",
            "Hit:9 http://ppa.launchpad.net/graphics-drivers/ppa/ubuntu bionic InRelease\n",
            "Ign:10 https://developer.download.nvidia.com/compute/machine-learning/repos/ubuntu1804/x86_64  InRelease\n",
            "Get:11 http://security.ubuntu.com/ubuntu bionic-security/restricted amd64 Packages [1,208 kB]\n",
            "Hit:12 https://developer.download.nvidia.com/compute/cuda/repos/ubuntu1804/x86_64  InRelease\n",
            "Hit:13 https://developer.download.nvidia.com/compute/machine-learning/repos/ubuntu1804/x86_64  Release\n",
            "Get:14 http://security.ubuntu.com/ubuntu bionic-security/main amd64 Packages [3,035 kB]\n",
            "Get:15 http://security.ubuntu.com/ubuntu bionic-security/universe amd64 Packages [1,554 kB]\n",
            "Get:16 http://archive.ubuntu.com/ubuntu bionic-updates/main amd64 Packages [3,467 kB]\n",
            "Fetched 9,525 kB in 6s (1,668 kB/s)\n",
            "Reading package lists... Done\n",
            "Reading package lists... Done\n",
            "Building dependency tree       \n",
            "Reading state information... Done\n",
            "default-jdk is already the newest version (2:1.11-68ubuntu1~18.04.1).\n",
            "g++ is already the newest version (4:7.4.0-1ubuntu2.3).\n",
            "The following package was automatically installed and is no longer required:\n",
            "  libnvidia-common-460\n",
            "Use 'apt autoremove' to remove it.\n",
            "0 upgraded, 0 newly installed, 0 to remove and 28 not upgraded.\n",
            "Looking in indexes: https://pypi.org/simple, https://us-python.pkg.dev/colab-wheels/public/simple/\n",
            "Requirement already satisfied: konlpy in /usr/local/lib/python3.7/dist-packages (0.6.0)\n",
            "Requirement already satisfied: numpy>=1.6 in /usr/local/lib/python3.7/dist-packages (from konlpy) (1.21.6)\n",
            "Requirement already satisfied: JPype1>=0.7.0 in /usr/local/lib/python3.7/dist-packages (from konlpy) (1.4.0)\n",
            "Requirement already satisfied: lxml>=4.1.0 in /usr/local/lib/python3.7/dist-packages (from konlpy) (4.9.1)\n",
            "Requirement already satisfied: typing-extensions in /usr/local/lib/python3.7/dist-packages (from JPype1>=0.7.0->konlpy) (4.1.1)\n",
            "Reading package lists... Done\n",
            "Building dependency tree       \n",
            "Reading state information... Done\n",
            "curl is already the newest version (7.58.0-2ubuntu3.20).\n",
            "git is already the newest version (1:2.17.1-1ubuntu0.13).\n",
            "The following package was automatically installed and is no longer required:\n",
            "  libnvidia-common-460\n",
            "Use 'sudo apt autoremove' to remove it.\n",
            "0 upgraded, 0 newly installed, 0 to remove and 28 not upgraded.\n",
            "mecab-ko is already installed\n",
            "mecab-ko-dic is already installed\n",
            "mecab-python is already installed\n",
            "Done.\n"
          ]
        }
      ]
    },
    {
      "cell_type": "code",
      "source": [
        "import konlpy\n",
        "import gensim\n",
        "from konlpy.tag import Mecab\n",
        "\n",
        "num_words=10000\n",
        "tokenizer = Mecab()\n",
        "stopwords = ['의','가','이','은','들','는','좀','잘','걍','과','도','를','으로','자','에','와','한','하다']"
      ],
      "metadata": {
        "id": "I2J4fjbLvXYh"
      },
      "execution_count": null,
      "outputs": []
    }
  ]
}